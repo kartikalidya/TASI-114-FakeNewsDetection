{
  "nbformat": 4,
  "nbformat_minor": 0,
  "metadata": {
    "colab": {
      "provenance": []
    },
    "kernelspec": {
      "name": "python3",
      "display_name": "Python 3"
    },
    "accelerator": "GPU"
  },
  "cells": [
    {
      "cell_type": "markdown",
      "source": [
        "**TASI-2223-114 FAKE NEWS DETECTION**\n",
        "\n",
        "*   12S19014 Kartika Lidya Rotua Sianipar\n",
        "*   12S19039 Anugerah Salomo Rafael Simanjuntak\n",
        "*   12S19059 Rut Yana Gultom\n",
        "\n"
      ],
      "metadata": {
        "id": "lfXNiGBq8VYi"
      }
    },
    {
      "cell_type": "markdown",
      "metadata": {
        "id": "j3CbOywpU5ck"
      },
      "source": [
        "\n",
        "# Load data and Preprocesing\n"
      ]
    },
    {
      "cell_type": "markdown",
      "source": [
        "Source yang digunakan:\n",
        "\n",
        "\n",
        "*   [Source code untuk BERT](https://colab.research.google.com/drive/1Y4o3jh3ZH70tl6mCd76vz_IxX23biCPP#scrollTo=86C9objaKu8f)\n",
        "\n",
        "*   [Source de untuk preprocessing](https://ksnugroho.medium.com/dasar-text-preprocessing-dengan-python-a4fa52608ffe)\n",
        "\n"
      ],
      "metadata": {
        "id": "1u4sIZYXpbWM"
      }
    },
    {
      "cell_type": "markdown",
      "metadata": {
        "id": "OHcM-0RterS4"
      },
      "source": [
        "## **1. Cek resource**"
      ]
    },
    {
      "cell_type": "code",
      "metadata": {
        "id": "G2ir5JFA-htd",
        "colab": {
          "base_uri": "https://localhost:8080/"
        },
        "outputId": "44ce3fc0-39e2-42bd-b676-1cb95d23861f"
      },
      "source": [
        "import torch\n",
        "\n",
        "if torch.cuda.is_available():\n",
        "  device = torch.device('cuda')\n",
        "\n",
        "  print('there are %d GPU(s) available.' % torch.cuda.device_count())\n",
        "\n",
        "  print('we will use the GPU: ', torch.cuda.get_device_name(0))\n",
        "\n",
        "else:\n",
        "  print(\"No GPU available, using the CPU instead\")\n",
        "  device = torch.device(\"cpu\")"
      ],
      "execution_count": 1,
      "outputs": [
        {
          "output_type": "stream",
          "name": "stdout",
          "text": [
            "there are 1 GPU(s) available.\n",
            "we will use the GPU:  Tesla T4\n"
          ]
        }
      ]
    },
    {
      "cell_type": "code",
      "metadata": {
        "id": "xXqKnVVn_P-H",
        "colab": {
          "base_uri": "https://localhost:8080/"
        },
        "outputId": "4a534a1b-1ab7-489d-e490-88a316aca431"
      },
      "source": [
        "!pip install transformers"
      ],
      "execution_count": 2,
      "outputs": [
        {
          "output_type": "stream",
          "name": "stdout",
          "text": [
            "Looking in indexes: https://pypi.org/simple, https://us-python.pkg.dev/colab-wheels/public/simple/\n",
            "Collecting transformers\n",
            "  Downloading transformers-4.25.1-py3-none-any.whl (5.8 MB)\n",
            "\u001b[2K     \u001b[90m━━━━━━━━━━━━━━━━━━━━━━━━━━━━━━━━━━━━━━━━\u001b[0m \u001b[32m5.8/5.8 MB\u001b[0m \u001b[31m72.5 MB/s\u001b[0m eta \u001b[36m0:00:00\u001b[0m\n",
            "\u001b[?25hRequirement already satisfied: requests in /usr/local/lib/python3.8/dist-packages (from transformers) (2.25.1)\n",
            "Requirement already satisfied: regex!=2019.12.17 in /usr/local/lib/python3.8/dist-packages (from transformers) (2022.6.2)\n",
            "Collecting tokenizers!=0.11.3,<0.14,>=0.11.1\n",
            "  Downloading tokenizers-0.13.2-cp38-cp38-manylinux_2_17_x86_64.manylinux2014_x86_64.whl (7.6 MB)\n",
            "\u001b[2K     \u001b[90m━━━━━━━━━━━━━━━━━━━━━━━━━━━━━━━━━━━━━━━━\u001b[0m \u001b[32m7.6/7.6 MB\u001b[0m \u001b[31m75.7 MB/s\u001b[0m eta \u001b[36m0:00:00\u001b[0m\n",
            "\u001b[?25hRequirement already satisfied: packaging>=20.0 in /usr/local/lib/python3.8/dist-packages (from transformers) (21.3)\n",
            "Requirement already satisfied: pyyaml>=5.1 in /usr/local/lib/python3.8/dist-packages (from transformers) (6.0)\n",
            "Requirement already satisfied: tqdm>=4.27 in /usr/local/lib/python3.8/dist-packages (from transformers) (4.64.1)\n",
            "Requirement already satisfied: numpy>=1.17 in /usr/local/lib/python3.8/dist-packages (from transformers) (1.21.6)\n",
            "Collecting huggingface-hub<1.0,>=0.10.0\n",
            "  Downloading huggingface_hub-0.11.1-py3-none-any.whl (182 kB)\n",
            "\u001b[2K     \u001b[90m━━━━━━━━━━━━━━━━━━━━━━━━━━━━━━━━━━━━━━\u001b[0m \u001b[32m182.4/182.4 KB\u001b[0m \u001b[31m25.2 MB/s\u001b[0m eta \u001b[36m0:00:00\u001b[0m\n",
            "\u001b[?25hRequirement already satisfied: filelock in /usr/local/lib/python3.8/dist-packages (from transformers) (3.8.2)\n",
            "Requirement already satisfied: typing-extensions>=3.7.4.3 in /usr/local/lib/python3.8/dist-packages (from huggingface-hub<1.0,>=0.10.0->transformers) (4.4.0)\n",
            "Requirement already satisfied: pyparsing!=3.0.5,>=2.0.2 in /usr/local/lib/python3.8/dist-packages (from packaging>=20.0->transformers) (3.0.9)\n",
            "Requirement already satisfied: idna<3,>=2.5 in /usr/local/lib/python3.8/dist-packages (from requests->transformers) (2.10)\n",
            "Requirement already satisfied: chardet<5,>=3.0.2 in /usr/local/lib/python3.8/dist-packages (from requests->transformers) (4.0.0)\n",
            "Requirement already satisfied: urllib3<1.27,>=1.21.1 in /usr/local/lib/python3.8/dist-packages (from requests->transformers) (1.24.3)\n",
            "Requirement already satisfied: certifi>=2017.4.17 in /usr/local/lib/python3.8/dist-packages (from requests->transformers) (2022.12.7)\n",
            "Installing collected packages: tokenizers, huggingface-hub, transformers\n",
            "Successfully installed huggingface-hub-0.11.1 tokenizers-0.13.2 transformers-4.25.1\n"
          ]
        }
      ]
    },
    {
      "cell_type": "code",
      "metadata": {
        "id": "dnLNFH4__XjY",
        "colab": {
          "base_uri": "https://localhost:8080/"
        },
        "outputId": "b30a6779-f2e5-4373-8e60-1684b8692fab"
      },
      "source": [
        "!pip install wget"
      ],
      "execution_count": 3,
      "outputs": [
        {
          "output_type": "stream",
          "name": "stdout",
          "text": [
            "Looking in indexes: https://pypi.org/simple, https://us-python.pkg.dev/colab-wheels/public/simple/\n",
            "Collecting wget\n",
            "  Downloading wget-3.2.zip (10 kB)\n",
            "  Preparing metadata (setup.py) ... \u001b[?25l\u001b[?25hdone\n",
            "Building wheels for collected packages: wget\n",
            "  Building wheel for wget (setup.py) ... \u001b[?25l\u001b[?25hdone\n",
            "  Created wheel for wget: filename=wget-3.2-py3-none-any.whl size=9674 sha256=0b6d5e9ec345b94e44244ae7efe63edbb5f7c16eb7a596a316d38e72bd54ce53\n",
            "  Stored in directory: /root/.cache/pip/wheels/bd/a8/c3/3cf2c14a1837a4e04bd98631724e81f33f462d86a1d895fae0\n",
            "Successfully built wget\n",
            "Installing collected packages: wget\n",
            "Successfully installed wget-3.2\n"
          ]
        }
      ]
    },
    {
      "cell_type": "markdown",
      "metadata": {
        "id": "3fU3axooe-T5"
      },
      "source": [
        "## **2. Download & load dataset**"
      ]
    },
    {
      "cell_type": "code",
      "metadata": {
        "id": "_h3TeNKSAZnE",
        "colab": {
          "base_uri": "https://localhost:8080/"
        },
        "outputId": "a7c654be-1d55-4536-9e72-ed299bca3479"
      },
      "source": [
        "import pandas as pd\n",
        "\n",
        "df = pd.read_csv(\"/content/sample_data/turnbackhoax (1) (1) (1).csv\") #delimiter='\\t'\n",
        "df.shape"
      ],
      "execution_count": 4,
      "outputs": [
        {
          "output_type": "execute_result",
          "data": {
            "text/plain": [
              "(1118, 3)"
            ]
          },
          "metadata": {},
          "execution_count": 4
        }
      ]
    },
    {
      "cell_type": "code",
      "source": [
        "df.sample(5)"
      ],
      "metadata": {
        "colab": {
          "base_uri": "https://localhost:8080/",
          "height": 206
        },
        "id": "yd3dweLZy39Y",
        "outputId": "90960338-d3f9-4859-c6cd-adecf4ea8775"
      },
      "execution_count": 5,
      "outputs": [
        {
          "output_type": "execute_result",
          "data": {
            "text/plain": [
              "     Label                                           Headline  \\\n",
              "958    0.0   PM Cina Peringatkan Indonesia, Jika Tragedi 9...   \n",
              "316    1.0  Klarifikasi Video Kapolres Landak AKBP Bowo Ge...   \n",
              "312    1.0  Klarifikasi Twitter Tentang Tuduhan Tak Netral...   \n",
              "168    1.0  DITUDING TAWARKAN PEKERJAAN KE PERETAS SITUS K...   \n",
              "913    0.0                Minum Air Es Sebabkan Sakit Jantung   \n",
              "\n",
              "                                                  Body  \n",
              "958  SUMBER : MEDIA SOSIAL NARASI : “PM Cina Pering...  \n",
              "316  “Perlu kita tahu saudara-saudaraku, bahwa Kapo...  \n",
              "312  Twitter Indonesia melalui @TwitterID dan laman...  \n",
              "168  [ Postingan ini berisi klarifikasi dari pihak ...  \n",
              "913  SUMBER : Pesan Berantai Whatsapp dan media NAR...  "
            ],
            "text/html": [
              "\n",
              "  <div id=\"df-4208aadd-c07f-4e25-854f-a09b757e2141\">\n",
              "    <div class=\"colab-df-container\">\n",
              "      <div>\n",
              "<style scoped>\n",
              "    .dataframe tbody tr th:only-of-type {\n",
              "        vertical-align: middle;\n",
              "    }\n",
              "\n",
              "    .dataframe tbody tr th {\n",
              "        vertical-align: top;\n",
              "    }\n",
              "\n",
              "    .dataframe thead th {\n",
              "        text-align: right;\n",
              "    }\n",
              "</style>\n",
              "<table border=\"1\" class=\"dataframe\">\n",
              "  <thead>\n",
              "    <tr style=\"text-align: right;\">\n",
              "      <th></th>\n",
              "      <th>Label</th>\n",
              "      <th>Headline</th>\n",
              "      <th>Body</th>\n",
              "    </tr>\n",
              "  </thead>\n",
              "  <tbody>\n",
              "    <tr>\n",
              "      <th>958</th>\n",
              "      <td>0.0</td>\n",
              "      <td>PM Cina Peringatkan Indonesia, Jika Tragedi 9...</td>\n",
              "      <td>SUMBER : MEDIA SOSIAL NARASI : “PM Cina Pering...</td>\n",
              "    </tr>\n",
              "    <tr>\n",
              "      <th>316</th>\n",
              "      <td>1.0</td>\n",
              "      <td>Klarifikasi Video Kapolres Landak AKBP Bowo Ge...</td>\n",
              "      <td>“Perlu kita tahu saudara-saudaraku, bahwa Kapo...</td>\n",
              "    </tr>\n",
              "    <tr>\n",
              "      <th>312</th>\n",
              "      <td>1.0</td>\n",
              "      <td>Klarifikasi Twitter Tentang Tuduhan Tak Netral...</td>\n",
              "      <td>Twitter Indonesia melalui @TwitterID dan laman...</td>\n",
              "    </tr>\n",
              "    <tr>\n",
              "      <th>168</th>\n",
              "      <td>1.0</td>\n",
              "      <td>DITUDING TAWARKAN PEKERJAAN KE PERETAS SITUS K...</td>\n",
              "      <td>[ Postingan ini berisi klarifikasi dari pihak ...</td>\n",
              "    </tr>\n",
              "    <tr>\n",
              "      <th>913</th>\n",
              "      <td>0.0</td>\n",
              "      <td>Minum Air Es Sebabkan Sakit Jantung</td>\n",
              "      <td>SUMBER : Pesan Berantai Whatsapp dan media NAR...</td>\n",
              "    </tr>\n",
              "  </tbody>\n",
              "</table>\n",
              "</div>\n",
              "      <button class=\"colab-df-convert\" onclick=\"convertToInteractive('df-4208aadd-c07f-4e25-854f-a09b757e2141')\"\n",
              "              title=\"Convert this dataframe to an interactive table.\"\n",
              "              style=\"display:none;\">\n",
              "        \n",
              "  <svg xmlns=\"http://www.w3.org/2000/svg\" height=\"24px\"viewBox=\"0 0 24 24\"\n",
              "       width=\"24px\">\n",
              "    <path d=\"M0 0h24v24H0V0z\" fill=\"none\"/>\n",
              "    <path d=\"M18.56 5.44l.94 2.06.94-2.06 2.06-.94-2.06-.94-.94-2.06-.94 2.06-2.06.94zm-11 1L8.5 8.5l.94-2.06 2.06-.94-2.06-.94L8.5 2.5l-.94 2.06-2.06.94zm10 10l.94 2.06.94-2.06 2.06-.94-2.06-.94-.94-2.06-.94 2.06-2.06.94z\"/><path d=\"M17.41 7.96l-1.37-1.37c-.4-.4-.92-.59-1.43-.59-.52 0-1.04.2-1.43.59L10.3 9.45l-7.72 7.72c-.78.78-.78 2.05 0 2.83L4 21.41c.39.39.9.59 1.41.59.51 0 1.02-.2 1.41-.59l7.78-7.78 2.81-2.81c.8-.78.8-2.07 0-2.86zM5.41 20L4 18.59l7.72-7.72 1.47 1.35L5.41 20z\"/>\n",
              "  </svg>\n",
              "      </button>\n",
              "      \n",
              "  <style>\n",
              "    .colab-df-container {\n",
              "      display:flex;\n",
              "      flex-wrap:wrap;\n",
              "      gap: 12px;\n",
              "    }\n",
              "\n",
              "    .colab-df-convert {\n",
              "      background-color: #E8F0FE;\n",
              "      border: none;\n",
              "      border-radius: 50%;\n",
              "      cursor: pointer;\n",
              "      display: none;\n",
              "      fill: #1967D2;\n",
              "      height: 32px;\n",
              "      padding: 0 0 0 0;\n",
              "      width: 32px;\n",
              "    }\n",
              "\n",
              "    .colab-df-convert:hover {\n",
              "      background-color: #E2EBFA;\n",
              "      box-shadow: 0px 1px 2px rgba(60, 64, 67, 0.3), 0px 1px 3px 1px rgba(60, 64, 67, 0.15);\n",
              "      fill: #174EA6;\n",
              "    }\n",
              "\n",
              "    [theme=dark] .colab-df-convert {\n",
              "      background-color: #3B4455;\n",
              "      fill: #D2E3FC;\n",
              "    }\n",
              "\n",
              "    [theme=dark] .colab-df-convert:hover {\n",
              "      background-color: #434B5C;\n",
              "      box-shadow: 0px 1px 3px 1px rgba(0, 0, 0, 0.15);\n",
              "      filter: drop-shadow(0px 1px 2px rgba(0, 0, 0, 0.3));\n",
              "      fill: #FFFFFF;\n",
              "    }\n",
              "  </style>\n",
              "\n",
              "      <script>\n",
              "        const buttonEl =\n",
              "          document.querySelector('#df-4208aadd-c07f-4e25-854f-a09b757e2141 button.colab-df-convert');\n",
              "        buttonEl.style.display =\n",
              "          google.colab.kernel.accessAllowed ? 'block' : 'none';\n",
              "\n",
              "        async function convertToInteractive(key) {\n",
              "          const element = document.querySelector('#df-4208aadd-c07f-4e25-854f-a09b757e2141');\n",
              "          const dataTable =\n",
              "            await google.colab.kernel.invokeFunction('convertToInteractive',\n",
              "                                                     [key], {});\n",
              "          if (!dataTable) return;\n",
              "\n",
              "          const docLinkHtml = 'Like what you see? Visit the ' +\n",
              "            '<a target=\"_blank\" href=https://colab.research.google.com/notebooks/data_table.ipynb>data table notebook</a>'\n",
              "            + ' to learn more about interactive tables.';\n",
              "          element.innerHTML = '';\n",
              "          dataTable['output_type'] = 'display_data';\n",
              "          await google.colab.output.renderOutput(dataTable, element);\n",
              "          const docLink = document.createElement('div');\n",
              "          docLink.innerHTML = docLinkHtml;\n",
              "          element.appendChild(docLink);\n",
              "        }\n",
              "      </script>\n",
              "    </div>\n",
              "  </div>\n",
              "  "
            ]
          },
          "metadata": {},
          "execution_count": 5
        }
      ]
    },
    {
      "cell_type": "code",
      "metadata": {
        "id": "E94PstJrsXg9",
        "colab": {
          "base_uri": "https://localhost:8080/",
          "height": 337
        },
        "outputId": "26ea9021-5342-4cec-91ce-82dc2bdcfeac"
      },
      "source": [
        "import seaborn as sns\n",
        "import matplotlib.pyplot as plt\n",
        "\n",
        "x=df.Label.value_counts()\n",
        "sns.barplot(x.index,x)\n",
        "plt.gca().set_ylabel('samples')"
      ],
      "execution_count": 6,
      "outputs": [
        {
          "output_type": "stream",
          "name": "stderr",
          "text": [
            "/usr/local/lib/python3.8/dist-packages/seaborn/_decorators.py:36: FutureWarning: Pass the following variables as keyword args: x, y. From version 0.12, the only valid positional argument will be `data`, and passing other arguments without an explicit keyword will result in an error or misinterpretation.\n",
            "  warnings.warn(\n"
          ]
        },
        {
          "output_type": "execute_result",
          "data": {
            "text/plain": [
              "Text(0, 0.5, 'samples')"
            ]
          },
          "metadata": {},
          "execution_count": 6
        },
        {
          "output_type": "display_data",
          "data": {
            "text/plain": [
              "<Figure size 432x288 with 1 Axes>"
            ],
            "image/png": "[encoded data removed]"
          },
          "metadata": {
            "needs_background": "light"
          }
        }
      ]
    },
    {
      "cell_type": "code",
      "metadata": {
        "id": "TBkl9hRDBNtT"
      },
      "source": [
        "body = df.Body.values\n",
        "headline = df.Headline.values\n",
        "labels = df.Label.values  "
      ],
      "execution_count": 7,
      "outputs": []
    },
    {
      "cell_type": "markdown",
      "source": [
        "##**3. Preprocessing data**"
      ],
      "metadata": {
        "id": "0JjE2tSuqEBJ"
      }
    },
    {
      "cell_type": "markdown",
      "source": [
        "###CLEANING DATASET"
      ],
      "metadata": {
        "id": "otdJeImcG2P7"
      }
    },
    {
      "cell_type": "markdown",
      "source": [
        "Kami menggunakan Python Sastrawi yang merupakan pengembangan dari proyek PHP Sastrawi. Python Sastrawi merupakan library sederhana yang dapat mengubah kata berimbuhan bahasa Indonesia menjadi bentuk dasarnya. \n",
        "https://github.com/har07/PySastrawi"
      ],
      "metadata": {
        "id": "aZBrNzoKH2o6"
      }
    },
    {
      "cell_type": "markdown",
      "source": [
        "####Delete Null"
      ],
      "metadata": {
        "id": "tT40ykKtorfy"
      }
    },
    {
      "cell_type": "code",
      "source": [
        "print(df.isnull().values.any())"
      ],
      "metadata": {
        "colab": {
          "base_uri": "https://localhost:8080/"
        },
        "id": "vHgoD1R5ssJ4",
        "outputId": "c8c62388-19d7-4b8b-804d-c1f3e7743789"
      },
      "execution_count": 8,
      "outputs": [
        {
          "output_type": "stream",
          "name": "stdout",
          "text": [
            "True\n"
          ]
        }
      ]
    },
    {
      "cell_type": "code",
      "source": [
        "df.isnull().sum()"
      ],
      "metadata": {
        "colab": {
          "base_uri": "https://localhost:8080/"
        },
        "id": "v-XI2ZXD28g1",
        "outputId": "9728919a-8d0d-4528-bf7c-2402f6f7b826"
      },
      "execution_count": 9,
      "outputs": [
        {
          "output_type": "execute_result",
          "data": {
            "text/plain": [
              "Label       2\n",
              "Headline    2\n",
              "Body        4\n",
              "dtype: int64"
            ]
          },
          "metadata": {},
          "execution_count": 9
        }
      ]
    },
    {
      "cell_type": "code",
      "source": [
        "df.isna().sum()"
      ],
      "metadata": {
        "colab": {
          "base_uri": "https://localhost:8080/"
        },
        "id": "lx2cRAdltBSm",
        "outputId": "edd96808-b773-4e22-ef0f-3154d5dcabef"
      },
      "execution_count": 10,
      "outputs": [
        {
          "output_type": "execute_result",
          "data": {
            "text/plain": [
              "Label       2\n",
              "Headline    2\n",
              "Body        4\n",
              "dtype: int64"
            ]
          },
          "metadata": {},
          "execution_count": 10
        }
      ]
    },
    {
      "cell_type": "code",
      "source": [
        "print(\"Cek Missing Value:\\n\" ,df.isnull().any())\n",
        "df.isnull().sum()"
      ],
      "metadata": {
        "colab": {
          "base_uri": "https://localhost:8080/"
        },
        "id": "RTDNd8YfjNRS",
        "outputId": "ab0965ec-b88a-4fd4-c658-a7bff08535b2"
      },
      "execution_count": 11,
      "outputs": [
        {
          "output_type": "stream",
          "name": "stdout",
          "text": [
            "Cek Missing Value:\n",
            " Label       True\n",
            "Headline    True\n",
            "Body        True\n",
            "dtype: bool\n"
          ]
        },
        {
          "output_type": "execute_result",
          "data": {
            "text/plain": [
              "Label       2\n",
              "Headline    2\n",
              "Body        4\n",
              "dtype: int64"
            ]
          },
          "metadata": {},
          "execution_count": 11
        }
      ]
    },
    {
      "cell_type": "code",
      "source": [
        "data = df[df['Label'].notna()]\n",
        "data = df[df['Headline'].notna()]\n",
        "data = df[df['Body'].notna()]"
      ],
      "metadata": {
        "id": "O4f0akycjXHy"
      },
      "execution_count": 12,
      "outputs": []
    },
    {
      "cell_type": "code",
      "source": [
        "data.isnull().sum()"
      ],
      "metadata": {
        "id": "UEVzUdV7jqi1",
        "outputId": "b6b962b7-a4da-405a-cc8f-f423d15578ae",
        "colab": {
          "base_uri": "https://localhost:8080/"
        }
      },
      "execution_count": 13,
      "outputs": [
        {
          "output_type": "execute_result",
          "data": {
            "text/plain": [
              "Label       0\n",
              "Headline    0\n",
              "Body        0\n",
              "dtype: int64"
            ]
          },
          "metadata": {},
          "execution_count": 13
        }
      ]
    },
    {
      "cell_type": "code",
      "source": [
        "data.dropna"
      ],
      "metadata": {
        "colab": {
          "base_uri": "https://localhost:8080/"
        },
        "id": "IZaFJTk3vWsj",
        "outputId": "01c0476c-f12f-40dc-aebe-e09deeb8af13"
      },
      "execution_count": 14,
      "outputs": [
        {
          "output_type": "execute_result",
          "data": {
            "text/plain": [
              "<bound method DataFrame.dropna of       Label                                           Headline  \\\n",
              "0       1.0  Pertamina dan Pemerintah Kalrifikasi Isu BBM N...   \n",
              "1       1.0  Polda Nusa Tenggara Barat Mengklarifkasi Bahwa...   \n",
              "2       1.0  PT Ultrajaya Milk Industry Tbk Mengklarifikasi...   \n",
              "3       1.0  BBKSDA Jatim Mengklarifikasi Bahwa Wisata Alam...   \n",
              "4       1.0  BMKG Mataram Menghimbau Agar Warga Tidak Langs...   \n",
              "...     ...                                                ...   \n",
              "1113    0.0   Vaksin Kanker Serviks Menyebabkan Menopause Dini   \n",
              "1114    0.0  Video Cindera Mata Raja Salman Untuk Ibu Irian...   \n",
              "1115    0.0  Video Simulasi Hacking Manipulasi Suara Pilgub...   \n",
              "1116    0.0  Website KPU Gampang Jebol Karena Scriptnya Tel...   \n",
              "1117    0.0             Yang Benci FPI Ada Lima (Foto Gus Mus)   \n",
              "\n",
              "                                                   Body  \n",
              "0     Foto: Kumparan.com Debunk ini berisi iKlarifik...  \n",
              "1     Foto Ilustrasi Perkosaan Debunk ini berisi kla...  \n",
              "2     Debunk ini berisi klarifikasi dari PT Ultrajay...  \n",
              "3     foto: tribunnews.com Debunk ini berisi Klrifik...  \n",
              "4     Foto: tribunnews.com (Jokowi sedang memantau l...  \n",
              "...                                                 ...  \n",
              "1113  HOAX: Vaksin kanker serviks pada anak-anak SD ...  \n",
              "1114  Sebuah akun Twitter dengan nama akun @gerilyap...  \n",
              "1115  Sebuah akun Facebook memposting video yang dia...  \n",
              "1116  Sebuah akun Facebook memposting status yang me...  \n",
              "1117  Muncul postingan hoax di Instagram dan Twitter...  \n",
              "\n",
              "[1114 rows x 3 columns]>"
            ]
          },
          "metadata": {},
          "execution_count": 14
        }
      ]
    },
    {
      "cell_type": "code",
      "source": [
        "data"
      ],
      "metadata": {
        "colab": {
          "base_uri": "https://localhost:8080/",
          "height": 424
        },
        "id": "8xWtO7ol2BJM",
        "outputId": "6c43c585-0c8e-4307-a389-43c8c3f976c0"
      },
      "execution_count": 15,
      "outputs": [
        {
          "output_type": "execute_result",
          "data": {
            "text/plain": [
              "      Label                                           Headline  \\\n",
              "0       1.0  Pertamina dan Pemerintah Kalrifikasi Isu BBM N...   \n",
              "1       1.0  Polda Nusa Tenggara Barat Mengklarifkasi Bahwa...   \n",
              "2       1.0  PT Ultrajaya Milk Industry Tbk Mengklarifikasi...   \n",
              "3       1.0  BBKSDA Jatim Mengklarifikasi Bahwa Wisata Alam...   \n",
              "4       1.0  BMKG Mataram Menghimbau Agar Warga Tidak Langs...   \n",
              "...     ...                                                ...   \n",
              "1113    0.0   Vaksin Kanker Serviks Menyebabkan Menopause Dini   \n",
              "1114    0.0  Video Cindera Mata Raja Salman Untuk Ibu Irian...   \n",
              "1115    0.0  Video Simulasi Hacking Manipulasi Suara Pilgub...   \n",
              "1116    0.0  Website KPU Gampang Jebol Karena Scriptnya Tel...   \n",
              "1117    0.0             Yang Benci FPI Ada Lima (Foto Gus Mus)   \n",
              "\n",
              "                                                   Body  \n",
              "0     Foto: Kumparan.com Debunk ini berisi iKlarifik...  \n",
              "1     Foto Ilustrasi Perkosaan Debunk ini berisi kla...  \n",
              "2     Debunk ini berisi klarifikasi dari PT Ultrajay...  \n",
              "3     foto: tribunnews.com Debunk ini berisi Klrifik...  \n",
              "4     Foto: tribunnews.com (Jokowi sedang memantau l...  \n",
              "...                                                 ...  \n",
              "1113  HOAX: Vaksin kanker serviks pada anak-anak SD ...  \n",
              "1114  Sebuah akun Twitter dengan nama akun @gerilyap...  \n",
              "1115  Sebuah akun Facebook memposting video yang dia...  \n",
              "1116  Sebuah akun Facebook memposting status yang me...  \n",
              "1117  Muncul postingan hoax di Instagram dan Twitter...  \n",
              "\n",
              "[1114 rows x 3 columns]"
            ],
            "text/html": [
              "\n",
              "  <div id=\"df-5695a723-e2a5-40cb-85ed-be182a777781\">\n",
              "    <div class=\"colab-df-container\">\n",
              "      <div>\n",
              "<style scoped>\n",
              "    .dataframe tbody tr th:only-of-type {\n",
              "        vertical-align: middle;\n",
              "    }\n",
              "\n",
              "    .dataframe tbody tr th {\n",
              "        vertical-align: top;\n",
              "    }\n",
              "\n",
              "    .dataframe thead th {\n",
              "        text-align: right;\n",
              "    }\n",
              "</style>\n",
              "<table border=\"1\" class=\"dataframe\">\n",
              "  <thead>\n",
              "    <tr style=\"text-align: right;\">\n",
              "      <th></th>\n",
              "      <th>Label</th>\n",
              "      <th>Headline</th>\n",
              "      <th>Body</th>\n",
              "    </tr>\n",
              "  </thead>\n",
              "  <tbody>\n",
              "    <tr>\n",
              "      <th>0</th>\n",
              "      <td>1.0</td>\n",
              "      <td>Pertamina dan Pemerintah Kalrifikasi Isu BBM N...</td>\n",
              "      <td>Foto: Kumparan.com Debunk ini berisi iKlarifik...</td>\n",
              "    </tr>\n",
              "    <tr>\n",
              "      <th>1</th>\n",
              "      <td>1.0</td>\n",
              "      <td>Polda Nusa Tenggara Barat Mengklarifkasi Bahwa...</td>\n",
              "      <td>Foto Ilustrasi Perkosaan Debunk ini berisi kla...</td>\n",
              "    </tr>\n",
              "    <tr>\n",
              "      <th>2</th>\n",
              "      <td>1.0</td>\n",
              "      <td>PT Ultrajaya Milk Industry Tbk Mengklarifikasi...</td>\n",
              "      <td>Debunk ini berisi klarifikasi dari PT Ultrajay...</td>\n",
              "    </tr>\n",
              "    <tr>\n",
              "      <th>3</th>\n",
              "      <td>1.0</td>\n",
              "      <td>BBKSDA Jatim Mengklarifikasi Bahwa Wisata Alam...</td>\n",
              "      <td>foto: tribunnews.com Debunk ini berisi Klrifik...</td>\n",
              "    </tr>\n",
              "    <tr>\n",
              "      <th>4</th>\n",
              "      <td>1.0</td>\n",
              "      <td>BMKG Mataram Menghimbau Agar Warga Tidak Langs...</td>\n",
              "      <td>Foto: tribunnews.com (Jokowi sedang memantau l...</td>\n",
              "    </tr>\n",
              "    <tr>\n",
              "      <th>...</th>\n",
              "      <td>...</td>\n",
              "      <td>...</td>\n",
              "      <td>...</td>\n",
              "    </tr>\n",
              "    <tr>\n",
              "      <th>1113</th>\n",
              "      <td>0.0</td>\n",
              "      <td>Vaksin Kanker Serviks Menyebabkan Menopause Dini</td>\n",
              "      <td>HOAX: Vaksin kanker serviks pada anak-anak SD ...</td>\n",
              "    </tr>\n",
              "    <tr>\n",
              "      <th>1114</th>\n",
              "      <td>0.0</td>\n",
              "      <td>Video Cindera Mata Raja Salman Untuk Ibu Irian...</td>\n",
              "      <td>Sebuah akun Twitter dengan nama akun @gerilyap...</td>\n",
              "    </tr>\n",
              "    <tr>\n",
              "      <th>1115</th>\n",
              "      <td>0.0</td>\n",
              "      <td>Video Simulasi Hacking Manipulasi Suara Pilgub...</td>\n",
              "      <td>Sebuah akun Facebook memposting video yang dia...</td>\n",
              "    </tr>\n",
              "    <tr>\n",
              "      <th>1116</th>\n",
              "      <td>0.0</td>\n",
              "      <td>Website KPU Gampang Jebol Karena Scriptnya Tel...</td>\n",
              "      <td>Sebuah akun Facebook memposting status yang me...</td>\n",
              "    </tr>\n",
              "    <tr>\n",
              "      <th>1117</th>\n",
              "      <td>0.0</td>\n",
              "      <td>Yang Benci FPI Ada Lima (Foto Gus Mus)</td>\n",
              "      <td>Muncul postingan hoax di Instagram dan Twitter...</td>\n",
              "    </tr>\n",
              "  </tbody>\n",
              "</table>\n",
              "<p>1114 rows × 3 columns</p>\n",
              "</div>\n",
              "      <button class=\"colab-df-convert\" onclick=\"convertToInteractive('df-5695a723-e2a5-40cb-85ed-be182a777781')\"\n",
              "              title=\"Convert this dataframe to an interactive table.\"\n",
              "              style=\"display:none;\">\n",
              "        \n",
              "  <svg xmlns=\"http://www.w3.org/2000/svg\" height=\"24px\"viewBox=\"0 0 24 24\"\n",
              "       width=\"24px\">\n",
              "    <path d=\"M0 0h24v24H0V0z\" fill=\"none\"/>\n",
              "    <path d=\"M18.56 5.44l.94 2.06.94-2.06 2.06-.94-2.06-.94-.94-2.06-.94 2.06-2.06.94zm-11 1L8.5 8.5l.94-2.06 2.06-.94-2.06-.94L8.5 2.5l-.94 2.06-2.06.94zm10 10l.94 2.06.94-2.06 2.06-.94-2.06-.94-.94-2.06-.94 2.06-2.06.94z\"/><path d=\"M17.41 7.96l-1.37-1.37c-.4-.4-.92-.59-1.43-.59-.52 0-1.04.2-1.43.59L10.3 9.45l-7.72 7.72c-.78.78-.78 2.05 0 2.83L4 21.41c.39.39.9.59 1.41.59.51 0 1.02-.2 1.41-.59l7.78-7.78 2.81-2.81c.8-.78.8-2.07 0-2.86zM5.41 20L4 18.59l7.72-7.72 1.47 1.35L5.41 20z\"/>\n",
              "  </svg>\n",
              "      </button>\n",
              "      \n",
              "  <style>\n",
              "    .colab-df-container {\n",
              "      display:flex;\n",
              "      flex-wrap:wrap;\n",
              "      gap: 12px;\n",
              "    }\n",
              "\n",
              "    .colab-df-convert {\n",
              "      background-color: #E8F0FE;\n",
              "      border: none;\n",
              "      border-radius: 50%;\n",
              "      cursor: pointer;\n",
              "      display: none;\n",
              "      fill: #1967D2;\n",
              "      height: 32px;\n",
              "      padding: 0 0 0 0;\n",
              "      width: 32px;\n",
              "    }\n",
              "\n",
              "    .colab-df-convert:hover {\n",
              "      background-color: #E2EBFA;\n",
              "      box-shadow: 0px 1px 2px rgba(60, 64, 67, 0.3), 0px 1px 3px 1px rgba(60, 64, 67, 0.15);\n",
              "      fill: #174EA6;\n",
              "    }\n",
              "\n",
              "    [theme=dark] .colab-df-convert {\n",
              "      background-color: #3B4455;\n",
              "      fill: #D2E3FC;\n",
              "    }\n",
              "\n",
              "    [theme=dark] .colab-df-convert:hover {\n",
              "      background-color: #434B5C;\n",
              "      box-shadow: 0px 1px 3px 1px rgba(0, 0, 0, 0.15);\n",
              "      filter: drop-shadow(0px 1px 2px rgba(0, 0, 0, 0.3));\n",
              "      fill: #FFFFFF;\n",
              "    }\n",
              "  </style>\n",
              "\n",
              "      <script>\n",
              "        const buttonEl =\n",
              "          document.querySelector('#df-5695a723-e2a5-40cb-85ed-be182a777781 button.colab-df-convert');\n",
              "        buttonEl.style.display =\n",
              "          google.colab.kernel.accessAllowed ? 'block' : 'none';\n",
              "\n",
              "        async function convertToInteractive(key) {\n",
              "          const element = document.querySelector('#df-5695a723-e2a5-40cb-85ed-be182a777781');\n",
              "          const dataTable =\n",
              "            await google.colab.kernel.invokeFunction('convertToInteractive',\n",
              "                                                     [key], {});\n",
              "          if (!dataTable) return;\n",
              "\n",
              "          const docLinkHtml = 'Like what you see? Visit the ' +\n",
              "            '<a target=\"_blank\" href=https://colab.research.google.com/notebooks/data_table.ipynb>data table notebook</a>'\n",
              "            + ' to learn more about interactive tables.';\n",
              "          element.innerHTML = '';\n",
              "          dataTable['output_type'] = 'display_data';\n",
              "          await google.colab.output.renderOutput(dataTable, element);\n",
              "          const docLink = document.createElement('div');\n",
              "          docLink.innerHTML = docLinkHtml;\n",
              "          element.appendChild(docLink);\n",
              "        }\n",
              "      </script>\n",
              "    </div>\n",
              "  </div>\n",
              "  "
            ]
          },
          "metadata": {},
          "execution_count": 15
        }
      ]
    },
    {
      "cell_type": "markdown",
      "source": [
        "####Hapus tanda baca"
      ],
      "metadata": {
        "id": "WmZqLxrhIzYm"
      }
    },
    {
      "cell_type": "code",
      "source": [
        "import numpy as np"
      ],
      "metadata": {
        "id": "BKcACo0bG5_e"
      },
      "execution_count": 16,
      "outputs": []
    },
    {
      "cell_type": "code",
      "source": [
        "symbols = \"!\\\"#$%&()*+-./:;<=>?@[\\]^_`{|}~\\n\"\n",
        "data['Body'] = data['Body'].str.translate({ord(symbol):\"\" for symbol in symbols})"
      ],
      "metadata": {
        "id": "InuUpr2DI7QQ",
        "colab": {
          "base_uri": "https://localhost:8080/"
        },
        "outputId": "f3d5f300-ee0d-430b-aefd-1f9f6419c625"
      },
      "execution_count": 17,
      "outputs": [
        {
          "output_type": "stream",
          "name": "stderr",
          "text": [
            "<ipython-input-17-46e38b0c7099>:2: SettingWithCopyWarning: \n",
            "A value is trying to be set on a copy of a slice from a DataFrame.\n",
            "Try using .loc[row_indexer,col_indexer] = value instead\n",
            "\n",
            "See the caveats in the documentation: https://pandas.pydata.org/pandas-docs/stable/user_guide/indexing.html#returning-a-view-versus-a-copy\n",
            "  data['Body'] = data['Body'].str.translate({ord(symbol):\"\" for symbol in symbols})\n"
          ]
        }
      ]
    },
    {
      "cell_type": "code",
      "source": [
        "data['Headline'] = data['Headline'].str.translate({ord(symbol):\"\" for symbol in symbols})"
      ],
      "metadata": {
        "id": "rAJK76pWNRfT",
        "colab": {
          "base_uri": "https://localhost:8080/"
        },
        "outputId": "1e994caf-1b39-4d12-c8fc-1f084a8a0fd4"
      },
      "execution_count": 18,
      "outputs": [
        {
          "output_type": "stream",
          "name": "stderr",
          "text": [
            "<ipython-input-18-c6c3b6151699>:1: SettingWithCopyWarning: \n",
            "A value is trying to be set on a copy of a slice from a DataFrame.\n",
            "Try using .loc[row_indexer,col_indexer] = value instead\n",
            "\n",
            "See the caveats in the documentation: https://pandas.pydata.org/pandas-docs/stable/user_guide/indexing.html#returning-a-view-versus-a-copy\n",
            "  data['Headline'] = data['Headline'].str.translate({ord(symbol):\"\" for symbol in symbols})\n"
          ]
        }
      ]
    },
    {
      "cell_type": "code",
      "source": [
        "data"
      ],
      "metadata": {
        "colab": {
          "base_uri": "https://localhost:8080/",
          "height": 424
        },
        "id": "nzcBoXfUY1Ka",
        "outputId": "116abd5c-67af-4e76-ce8c-3871b633abd2"
      },
      "execution_count": 19,
      "outputs": [
        {
          "output_type": "execute_result",
          "data": {
            "text/plain": [
              "      Label                                           Headline  \\\n",
              "0       1.0  Pertamina dan Pemerintah Kalrifikasi Isu BBM N...   \n",
              "1       1.0  Polda Nusa Tenggara Barat Mengklarifkasi Bahwa...   \n",
              "2       1.0  PT Ultrajaya Milk Industry Tbk Mengklarifikasi...   \n",
              "3       1.0  BBKSDA Jatim Mengklarifikasi Bahwa Wisata Alam...   \n",
              "4       1.0  BMKG Mataram Menghimbau Agar Warga Tidak Langs...   \n",
              "...     ...                                                ...   \n",
              "1113    0.0   Vaksin Kanker Serviks Menyebabkan Menopause Dini   \n",
              "1114    0.0  Video Cindera Mata Raja Salman Untuk Ibu Irian...   \n",
              "1115    0.0  Video Simulasi Hacking Manipulasi Suara Pilgub...   \n",
              "1116    0.0  Website KPU Gampang Jebol Karena Scriptnya Tel...   \n",
              "1117    0.0               Yang Benci FPI Ada Lima Foto Gus Mus   \n",
              "\n",
              "                                                   Body  \n",
              "0     Foto Kumparancom Debunk ini berisi iKlarifikas...  \n",
              "1     Foto Ilustrasi Perkosaan Debunk ini berisi kla...  \n",
              "2     Debunk ini berisi klarifikasi dari PT Ultrajay...  \n",
              "3     foto tribunnewscom Debunk ini berisi Klrifikas...  \n",
              "4     Foto tribunnewscom Jokowi sedang memantau loka...  \n",
              "...                                                 ...  \n",
              "1113  HOAX Vaksin kanker serviks pada anakanak SD ak...  \n",
              "1114  Sebuah akun Twitter dengan nama akun gerilyapo...  \n",
              "1115  Sebuah akun Facebook memposting video yang dia...  \n",
              "1116  Sebuah akun Facebook memposting status yang me...  \n",
              "1117  Muncul postingan hoax di Instagram dan Twitter...  \n",
              "\n",
              "[1114 rows x 3 columns]"
            ],
            "text/html": [
              "\n",
              "  <div id=\"df-b2b877a7-b38b-4038-a5bd-f8d6e1399ce5\">\n",
              "    <div class=\"colab-df-container\">\n",
              "      <div>\n",
              "<style scoped>\n",
              "    .dataframe tbody tr th:only-of-type {\n",
              "        vertical-align: middle;\n",
              "    }\n",
              "\n",
              "    .dataframe tbody tr th {\n",
              "        vertical-align: top;\n",
              "    }\n",
              "\n",
              "    .dataframe thead th {\n",
              "        text-align: right;\n",
              "    }\n",
              "</style>\n",
              "<table border=\"1\" class=\"dataframe\">\n",
              "  <thead>\n",
              "    <tr style=\"text-align: right;\">\n",
              "      <th></th>\n",
              "      <th>Label</th>\n",
              "      <th>Headline</th>\n",
              "      <th>Body</th>\n",
              "    </tr>\n",
              "  </thead>\n",
              "  <tbody>\n",
              "    <tr>\n",
              "      <th>0</th>\n",
              "      <td>1.0</td>\n",
              "      <td>Pertamina dan Pemerintah Kalrifikasi Isu BBM N...</td>\n",
              "      <td>Foto Kumparancom Debunk ini berisi iKlarifikas...</td>\n",
              "    </tr>\n",
              "    <tr>\n",
              "      <th>1</th>\n",
              "      <td>1.0</td>\n",
              "      <td>Polda Nusa Tenggara Barat Mengklarifkasi Bahwa...</td>\n",
              "      <td>Foto Ilustrasi Perkosaan Debunk ini berisi kla...</td>\n",
              "    </tr>\n",
              "    <tr>\n",
              "      <th>2</th>\n",
              "      <td>1.0</td>\n",
              "      <td>PT Ultrajaya Milk Industry Tbk Mengklarifikasi...</td>\n",
              "      <td>Debunk ini berisi klarifikasi dari PT Ultrajay...</td>\n",
              "    </tr>\n",
              "    <tr>\n",
              "      <th>3</th>\n",
              "      <td>1.0</td>\n",
              "      <td>BBKSDA Jatim Mengklarifikasi Bahwa Wisata Alam...</td>\n",
              "      <td>foto tribunnewscom Debunk ini berisi Klrifikas...</td>\n",
              "    </tr>\n",
              "    <tr>\n",
              "      <th>4</th>\n",
              "      <td>1.0</td>\n",
              "      <td>BMKG Mataram Menghimbau Agar Warga Tidak Langs...</td>\n",
              "      <td>Foto tribunnewscom Jokowi sedang memantau loka...</td>\n",
              "    </tr>\n",
              "    <tr>\n",
              "      <th>...</th>\n",
              "      <td>...</td>\n",
              "      <td>...</td>\n",
              "      <td>...</td>\n",
              "    </tr>\n",
              "    <tr>\n",
              "      <th>1113</th>\n",
              "      <td>0.0</td>\n",
              "      <td>Vaksin Kanker Serviks Menyebabkan Menopause Dini</td>\n",
              "      <td>HOAX Vaksin kanker serviks pada anakanak SD ak...</td>\n",
              "    </tr>\n",
              "    <tr>\n",
              "      <th>1114</th>\n",
              "      <td>0.0</td>\n",
              "      <td>Video Cindera Mata Raja Salman Untuk Ibu Irian...</td>\n",
              "      <td>Sebuah akun Twitter dengan nama akun gerilyapo...</td>\n",
              "    </tr>\n",
              "    <tr>\n",
              "      <th>1115</th>\n",
              "      <td>0.0</td>\n",
              "      <td>Video Simulasi Hacking Manipulasi Suara Pilgub...</td>\n",
              "      <td>Sebuah akun Facebook memposting video yang dia...</td>\n",
              "    </tr>\n",
              "    <tr>\n",
              "      <th>1116</th>\n",
              "      <td>0.0</td>\n",
              "      <td>Website KPU Gampang Jebol Karena Scriptnya Tel...</td>\n",
              "      <td>Sebuah akun Facebook memposting status yang me...</td>\n",
              "    </tr>\n",
              "    <tr>\n",
              "      <th>1117</th>\n",
              "      <td>0.0</td>\n",
              "      <td>Yang Benci FPI Ada Lima Foto Gus Mus</td>\n",
              "      <td>Muncul postingan hoax di Instagram dan Twitter...</td>\n",
              "    </tr>\n",
              "  </tbody>\n",
              "</table>\n",
              "<p>1114 rows × 3 columns</p>\n",
              "</div>\n",
              "      <button class=\"colab-df-convert\" onclick=\"convertToInteractive('df-b2b877a7-b38b-4038-a5bd-f8d6e1399ce5')\"\n",
              "              title=\"Convert this dataframe to an interactive table.\"\n",
              "              style=\"display:none;\">\n",
              "        \n",
              "  <svg xmlns=\"http://www.w3.org/2000/svg\" height=\"24px\"viewBox=\"0 0 24 24\"\n",
              "       width=\"24px\">\n",
              "    <path d=\"M0 0h24v24H0V0z\" fill=\"none\"/>\n",
              "    <path d=\"M18.56 5.44l.94 2.06.94-2.06 2.06-.94-2.06-.94-.94-2.06-.94 2.06-2.06.94zm-11 1L8.5 8.5l.94-2.06 2.06-.94-2.06-.94L8.5 2.5l-.94 2.06-2.06.94zm10 10l.94 2.06.94-2.06 2.06-.94-2.06-.94-.94-2.06-.94 2.06-2.06.94z\"/><path d=\"M17.41 7.96l-1.37-1.37c-.4-.4-.92-.59-1.43-.59-.52 0-1.04.2-1.43.59L10.3 9.45l-7.72 7.72c-.78.78-.78 2.05 0 2.83L4 21.41c.39.39.9.59 1.41.59.51 0 1.02-.2 1.41-.59l7.78-7.78 2.81-2.81c.8-.78.8-2.07 0-2.86zM5.41 20L4 18.59l7.72-7.72 1.47 1.35L5.41 20z\"/>\n",
              "  </svg>\n",
              "      </button>\n",
              "      \n",
              "  <style>\n",
              "    .colab-df-container {\n",
              "      display:flex;\n",
              "      flex-wrap:wrap;\n",
              "      gap: 12px;\n",
              "    }\n",
              "\n",
              "    .colab-df-convert {\n",
              "      background-color: #E8F0FE;\n",
              "      border: none;\n",
              "      border-radius: 50%;\n",
              "      cursor: pointer;\n",
              "      display: none;\n",
              "      fill: #1967D2;\n",
              "      height: 32px;\n",
              "      padding: 0 0 0 0;\n",
              "      width: 32px;\n",
              "    }\n",
              "\n",
              "    .colab-df-convert:hover {\n",
              "      background-color: #E2EBFA;\n",
              "      box-shadow: 0px 1px 2px rgba(60, 64, 67, 0.3), 0px 1px 3px 1px rgba(60, 64, 67, 0.15);\n",
              "      fill: #174EA6;\n",
              "    }\n",
              "\n",
              "    [theme=dark] .colab-df-convert {\n",
              "      background-color: #3B4455;\n",
              "      fill: #D2E3FC;\n",
              "    }\n",
              "\n",
              "    [theme=dark] .colab-df-convert:hover {\n",
              "      background-color: #434B5C;\n",
              "      box-shadow: 0px 1px 3px 1px rgba(0, 0, 0, 0.15);\n",
              "      filter: drop-shadow(0px 1px 2px rgba(0, 0, 0, 0.3));\n",
              "      fill: #FFFFFF;\n",
              "    }\n",
              "  </style>\n",
              "\n",
              "      <script>\n",
              "        const buttonEl =\n",
              "          document.querySelector('#df-b2b877a7-b38b-4038-a5bd-f8d6e1399ce5 button.colab-df-convert');\n",
              "        buttonEl.style.display =\n",
              "          google.colab.kernel.accessAllowed ? 'block' : 'none';\n",
              "\n",
              "        async function convertToInteractive(key) {\n",
              "          const element = document.querySelector('#df-b2b877a7-b38b-4038-a5bd-f8d6e1399ce5');\n",
              "          const dataTable =\n",
              "            await google.colab.kernel.invokeFunction('convertToInteractive',\n",
              "                                                     [key], {});\n",
              "          if (!dataTable) return;\n",
              "\n",
              "          const docLinkHtml = 'Like what you see? Visit the ' +\n",
              "            '<a target=\"_blank\" href=https://colab.research.google.com/notebooks/data_table.ipynb>data table notebook</a>'\n",
              "            + ' to learn more about interactive tables.';\n",
              "          element.innerHTML = '';\n",
              "          dataTable['output_type'] = 'display_data';\n",
              "          await google.colab.output.renderOutput(dataTable, element);\n",
              "          const docLink = document.createElement('div');\n",
              "          docLink.innerHTML = docLinkHtml;\n",
              "          element.appendChild(docLink);\n",
              "        }\n",
              "      </script>\n",
              "    </div>\n",
              "  </div>\n",
              "  "
            ]
          },
          "metadata": {},
          "execution_count": 19
        }
      ]
    },
    {
      "cell_type": "markdown",
      "source": [
        "####Case folding"
      ],
      "metadata": {
        "id": "IMaqMcGsRK16"
      }
    },
    {
      "cell_type": "code",
      "source": [
        "data['Body'] = data['Body'].str.lower()"
      ],
      "metadata": {
        "id": "X8c4QHAcRKCv",
        "colab": {
          "base_uri": "https://localhost:8080/"
        },
        "outputId": "add92c99-0d38-445a-af8f-8c6fd1b7ad48"
      },
      "execution_count": 20,
      "outputs": [
        {
          "output_type": "stream",
          "name": "stderr",
          "text": [
            "<ipython-input-20-3821a40779b1>:1: SettingWithCopyWarning: \n",
            "A value is trying to be set on a copy of a slice from a DataFrame.\n",
            "Try using .loc[row_indexer,col_indexer] = value instead\n",
            "\n",
            "See the caveats in the documentation: https://pandas.pydata.org/pandas-docs/stable/user_guide/indexing.html#returning-a-view-versus-a-copy\n",
            "  data['Body'] = data['Body'].str.lower()\n"
          ]
        }
      ]
    },
    {
      "cell_type": "code",
      "source": [
        "data['Headline'] = data['Headline'].str.lower()"
      ],
      "metadata": {
        "id": "UYj_lgViWJ5s",
        "colab": {
          "base_uri": "https://localhost:8080/"
        },
        "outputId": "7e5970b6-b240-4a1a-c4cf-e5f04584eb36"
      },
      "execution_count": 21,
      "outputs": [
        {
          "output_type": "stream",
          "name": "stderr",
          "text": [
            "<ipython-input-21-4f59d2d3d152>:1: SettingWithCopyWarning: \n",
            "A value is trying to be set on a copy of a slice from a DataFrame.\n",
            "Try using .loc[row_indexer,col_indexer] = value instead\n",
            "\n",
            "See the caveats in the documentation: https://pandas.pydata.org/pandas-docs/stable/user_guide/indexing.html#returning-a-view-versus-a-copy\n",
            "  data['Headline'] = data['Headline'].str.lower()\n"
          ]
        }
      ]
    },
    {
      "cell_type": "code",
      "source": [
        "data"
      ],
      "metadata": {
        "colab": {
          "base_uri": "https://localhost:8080/",
          "height": 424
        },
        "id": "5DzWKU0eak5S",
        "outputId": "229dd302-b6ca-4ec9-8be7-d7f98b08617c"
      },
      "execution_count": 22,
      "outputs": [
        {
          "output_type": "execute_result",
          "data": {
            "text/plain": [
              "      Label                                           Headline  \\\n",
              "0       1.0  pertamina dan pemerintah kalrifikasi isu bbm n...   \n",
              "1       1.0  polda nusa tenggara barat mengklarifkasi bahwa...   \n",
              "2       1.0  pt ultrajaya milk industry tbk mengklarifikasi...   \n",
              "3       1.0  bbksda jatim mengklarifikasi bahwa wisata alam...   \n",
              "4       1.0  bmkg mataram menghimbau agar warga tidak langs...   \n",
              "...     ...                                                ...   \n",
              "1113    0.0   vaksin kanker serviks menyebabkan menopause dini   \n",
              "1114    0.0  video cindera mata raja salman untuk ibu irian...   \n",
              "1115    0.0  video simulasi hacking manipulasi suara pilgub...   \n",
              "1116    0.0  website kpu gampang jebol karena scriptnya tel...   \n",
              "1117    0.0               yang benci fpi ada lima foto gus mus   \n",
              "\n",
              "                                                   Body  \n",
              "0     foto kumparancom debunk ini berisi iklarifikas...  \n",
              "1     foto ilustrasi perkosaan debunk ini berisi kla...  \n",
              "2     debunk ini berisi klarifikasi dari pt ultrajay...  \n",
              "3     foto tribunnewscom debunk ini berisi klrifikas...  \n",
              "4     foto tribunnewscom jokowi sedang memantau loka...  \n",
              "...                                                 ...  \n",
              "1113  hoax vaksin kanker serviks pada anakanak sd ak...  \n",
              "1114  sebuah akun twitter dengan nama akun gerilyapo...  \n",
              "1115  sebuah akun facebook memposting video yang dia...  \n",
              "1116  sebuah akun facebook memposting status yang me...  \n",
              "1117  muncul postingan hoax di instagram dan twitter...  \n",
              "\n",
              "[1114 rows x 3 columns]"
            ],
            "text/html": [
              "\n",
              "  <div id=\"df-f70cd653-259b-447c-9435-203c530dd7db\">\n",
              "    <div class=\"colab-df-container\">\n",
              "      <div>\n",
              "<style scoped>\n",
              "    .dataframe tbody tr th:only-of-type {\n",
              "        vertical-align: middle;\n",
              "    }\n",
              "\n",
              "    .dataframe tbody tr th {\n",
              "        vertical-align: top;\n",
              "    }\n",
              "\n",
              "    .dataframe thead th {\n",
              "        text-align: right;\n",
              "    }\n",
              "</style>\n",
              "<table border=\"1\" class=\"dataframe\">\n",
              "  <thead>\n",
              "    <tr style=\"text-align: right;\">\n",
              "      <th></th>\n",
              "      <th>Label</th>\n",
              "      <th>Headline</th>\n",
              "      <th>Body</th>\n",
              "    </tr>\n",
              "  </thead>\n",
              "  <tbody>\n",
              "    <tr>\n",
              "      <th>0</th>\n",
              "      <td>1.0</td>\n",
              "      <td>pertamina dan pemerintah kalrifikasi isu bbm n...</td>\n",
              "      <td>foto kumparancom debunk ini berisi iklarifikas...</td>\n",
              "    </tr>\n",
              "    <tr>\n",
              "      <th>1</th>\n",
              "      <td>1.0</td>\n",
              "      <td>polda nusa tenggara barat mengklarifkasi bahwa...</td>\n",
              "      <td>foto ilustrasi perkosaan debunk ini berisi kla...</td>\n",
              "    </tr>\n",
              "    <tr>\n",
              "      <th>2</th>\n",
              "      <td>1.0</td>\n",
              "      <td>pt ultrajaya milk industry tbk mengklarifikasi...</td>\n",
              "      <td>debunk ini berisi klarifikasi dari pt ultrajay...</td>\n",
              "    </tr>\n",
              "    <tr>\n",
              "      <th>3</th>\n",
              "      <td>1.0</td>\n",
              "      <td>bbksda jatim mengklarifikasi bahwa wisata alam...</td>\n",
              "      <td>foto tribunnewscom debunk ini berisi klrifikas...</td>\n",
              "    </tr>\n",
              "    <tr>\n",
              "      <th>4</th>\n",
              "      <td>1.0</td>\n",
              "      <td>bmkg mataram menghimbau agar warga tidak langs...</td>\n",
              "      <td>foto tribunnewscom jokowi sedang memantau loka...</td>\n",
              "    </tr>\n",
              "    <tr>\n",
              "      <th>...</th>\n",
              "      <td>...</td>\n",
              "      <td>...</td>\n",
              "      <td>...</td>\n",
              "    </tr>\n",
              "    <tr>\n",
              "      <th>1113</th>\n",
              "      <td>0.0</td>\n",
              "      <td>vaksin kanker serviks menyebabkan menopause dini</td>\n",
              "      <td>hoax vaksin kanker serviks pada anakanak sd ak...</td>\n",
              "    </tr>\n",
              "    <tr>\n",
              "      <th>1114</th>\n",
              "      <td>0.0</td>\n",
              "      <td>video cindera mata raja salman untuk ibu irian...</td>\n",
              "      <td>sebuah akun twitter dengan nama akun gerilyapo...</td>\n",
              "    </tr>\n",
              "    <tr>\n",
              "      <th>1115</th>\n",
              "      <td>0.0</td>\n",
              "      <td>video simulasi hacking manipulasi suara pilgub...</td>\n",
              "      <td>sebuah akun facebook memposting video yang dia...</td>\n",
              "    </tr>\n",
              "    <tr>\n",
              "      <th>1116</th>\n",
              "      <td>0.0</td>\n",
              "      <td>website kpu gampang jebol karena scriptnya tel...</td>\n",
              "      <td>sebuah akun facebook memposting status yang me...</td>\n",
              "    </tr>\n",
              "    <tr>\n",
              "      <th>1117</th>\n",
              "      <td>0.0</td>\n",
              "      <td>yang benci fpi ada lima foto gus mus</td>\n",
              "      <td>muncul postingan hoax di instagram dan twitter...</td>\n",
              "    </tr>\n",
              "  </tbody>\n",
              "</table>\n",
              "<p>1114 rows × 3 columns</p>\n",
              "</div>\n",
              "      <button class=\"colab-df-convert\" onclick=\"convertToInteractive('df-f70cd653-259b-447c-9435-203c530dd7db')\"\n",
              "              title=\"Convert this dataframe to an interactive table.\"\n",
              "              style=\"display:none;\">\n",
              "        \n",
              "  <svg xmlns=\"http://www.w3.org/2000/svg\" height=\"24px\"viewBox=\"0 0 24 24\"\n",
              "       width=\"24px\">\n",
              "    <path d=\"M0 0h24v24H0V0z\" fill=\"none\"/>\n",
              "    <path d=\"M18.56 5.44l.94 2.06.94-2.06 2.06-.94-2.06-.94-.94-2.06-.94 2.06-2.06.94zm-11 1L8.5 8.5l.94-2.06 2.06-.94-2.06-.94L8.5 2.5l-.94 2.06-2.06.94zm10 10l.94 2.06.94-2.06 2.06-.94-2.06-.94-.94-2.06-.94 2.06-2.06.94z\"/><path d=\"M17.41 7.96l-1.37-1.37c-.4-.4-.92-.59-1.43-.59-.52 0-1.04.2-1.43.59L10.3 9.45l-7.72 7.72c-.78.78-.78 2.05 0 2.83L4 21.41c.39.39.9.59 1.41.59.51 0 1.02-.2 1.41-.59l7.78-7.78 2.81-2.81c.8-.78.8-2.07 0-2.86zM5.41 20L4 18.59l7.72-7.72 1.47 1.35L5.41 20z\"/>\n",
              "  </svg>\n",
              "      </button>\n",
              "      \n",
              "  <style>\n",
              "    .colab-df-container {\n",
              "      display:flex;\n",
              "      flex-wrap:wrap;\n",
              "      gap: 12px;\n",
              "    }\n",
              "\n",
              "    .colab-df-convert {\n",
              "      background-color: #E8F0FE;\n",
              "      border: none;\n",
              "      border-radius: 50%;\n",
              "      cursor: pointer;\n",
              "      display: none;\n",
              "      fill: #1967D2;\n",
              "      height: 32px;\n",
              "      padding: 0 0 0 0;\n",
              "      width: 32px;\n",
              "    }\n",
              "\n",
              "    .colab-df-convert:hover {\n",
              "      background-color: #E2EBFA;\n",
              "      box-shadow: 0px 1px 2px rgba(60, 64, 67, 0.3), 0px 1px 3px 1px rgba(60, 64, 67, 0.15);\n",
              "      fill: #174EA6;\n",
              "    }\n",
              "\n",
              "    [theme=dark] .colab-df-convert {\n",
              "      background-color: #3B4455;\n",
              "      fill: #D2E3FC;\n",
              "    }\n",
              "\n",
              "    [theme=dark] .colab-df-convert:hover {\n",
              "      background-color: #434B5C;\n",
              "      box-shadow: 0px 1px 3px 1px rgba(0, 0, 0, 0.15);\n",
              "      filter: drop-shadow(0px 1px 2px rgba(0, 0, 0, 0.3));\n",
              "      fill: #FFFFFF;\n",
              "    }\n",
              "  </style>\n",
              "\n",
              "      <script>\n",
              "        const buttonEl =\n",
              "          document.querySelector('#df-f70cd653-259b-447c-9435-203c530dd7db button.colab-df-convert');\n",
              "        buttonEl.style.display =\n",
              "          google.colab.kernel.accessAllowed ? 'block' : 'none';\n",
              "\n",
              "        async function convertToInteractive(key) {\n",
              "          const element = document.querySelector('#df-f70cd653-259b-447c-9435-203c530dd7db');\n",
              "          const dataTable =\n",
              "            await google.colab.kernel.invokeFunction('convertToInteractive',\n",
              "                                                     [key], {});\n",
              "          if (!dataTable) return;\n",
              "\n",
              "          const docLinkHtml = 'Like what you see? Visit the ' +\n",
              "            '<a target=\"_blank\" href=https://colab.research.google.com/notebooks/data_table.ipynb>data table notebook</a>'\n",
              "            + ' to learn more about interactive tables.';\n",
              "          element.innerHTML = '';\n",
              "          dataTable['output_type'] = 'display_data';\n",
              "          await google.colab.output.renderOutput(dataTable, element);\n",
              "          const docLink = document.createElement('div');\n",
              "          docLink.innerHTML = docLinkHtml;\n",
              "          element.appendChild(docLink);\n",
              "        }\n",
              "      </script>\n",
              "    </div>\n",
              "  </div>\n",
              "  "
            ]
          },
          "metadata": {},
          "execution_count": 22
        }
      ]
    },
    {
      "cell_type": "markdown",
      "source": [
        "####Stopword Removal"
      ],
      "metadata": {
        "id": "hc5SAzjvo7mQ"
      }
    },
    {
      "cell_type": "code",
      "source": [
        "pip install Sastrawi"
      ],
      "metadata": {
        "colab": {
          "base_uri": "https://localhost:8080/"
        },
        "id": "e8PiB8zjodm-",
        "outputId": "d0501bb5-d5f2-4aa2-c877-d68c9649f59c"
      },
      "execution_count": 23,
      "outputs": [
        {
          "output_type": "stream",
          "name": "stdout",
          "text": [
            "Looking in indexes: https://pypi.org/simple, https://us-python.pkg.dev/colab-wheels/public/simple/\n",
            "Collecting Sastrawi\n",
            "  Downloading Sastrawi-1.0.1-py2.py3-none-any.whl (209 kB)\n",
            "\u001b[2K     \u001b[90m━━━━━━━━━━━━━━━━━━━━━━━━━━━━━━━━━━━━━━━\u001b[0m \u001b[32m209.7/209.7 KB\u001b[0m \u001b[31m9.8 MB/s\u001b[0m eta \u001b[36m0:00:00\u001b[0m\n",
            "\u001b[?25hInstalling collected packages: Sastrawi\n",
            "Successfully installed Sastrawi-1.0.1\n"
          ]
        }
      ]
    },
    {
      "cell_type": "code",
      "source": [
        "import re"
      ],
      "metadata": {
        "id": "QI1jnJOCP1oo"
      },
      "execution_count": 24,
      "outputs": []
    },
    {
      "cell_type": "code",
      "source": [
        "from Sastrawi.StopWordRemover.StopWordRemoverFactory import StopWordRemoverFactory\n",
        "from Sastrawi.Stemmer.StemmerFactory import StemmerFactory\n",
        "factory = StopWordRemoverFactory()\n",
        "stopwords = factory.get_stop_words()\n",
        "print(stopwords)"
      ],
      "metadata": {
        "colab": {
          "base_uri": "https://localhost:8080/"
        },
        "id": "JCpFNZ3jn6tz",
        "outputId": "6ff00574-9257-4296-e802-67a1b0bc87a4"
      },
      "execution_count": 25,
      "outputs": [
        {
          "output_type": "stream",
          "name": "stdout",
          "text": [
            "['yang', 'untuk', 'pada', 'ke', 'para', 'namun', 'menurut', 'antara', 'dia', 'dua', 'ia', 'seperti', 'jika', 'jika', 'sehingga', 'kembali', 'dan', 'tidak', 'ini', 'karena', 'kepada', 'oleh', 'saat', 'harus', 'sementara', 'setelah', 'belum', 'kami', 'sekitar', 'bagi', 'serta', 'di', 'dari', 'telah', 'sebagai', 'masih', 'hal', 'ketika', 'adalah', 'itu', 'dalam', 'bisa', 'bahwa', 'atau', 'hanya', 'kita', 'dengan', 'akan', 'juga', 'ada', 'mereka', 'sudah', 'saya', 'terhadap', 'secara', 'agar', 'lain', 'anda', 'begitu', 'mengapa', 'kenapa', 'yaitu', 'yakni', 'daripada', 'itulah', 'lagi', 'maka', 'tentang', 'demi', 'dimana', 'kemana', 'pula', 'sambil', 'sebelum', 'sesudah', 'supaya', 'guna', 'kah', 'pun', 'sampai', 'sedangkan', 'selagi', 'sementara', 'tetapi', 'apakah', 'kecuali', 'sebab', 'selain', 'seolah', 'seraya', 'seterusnya', 'tanpa', 'agak', 'boleh', 'dapat', 'dsb', 'dst', 'dll', 'dahulu', 'dulunya', 'anu', 'demikian', 'tapi', 'ingin', 'juga', 'nggak', 'mari', 'nanti', 'melainkan', 'oh', 'ok', 'seharusnya', 'sebetulnya', 'setiap', 'setidaknya', 'sesuatu', 'pasti', 'saja', 'toh', 'ya', 'walau', 'tolong', 'tentu', 'amat', 'apalagi', 'bagaimanapun']\n"
          ]
        }
      ]
    },
    {
      "cell_type": "code",
      "source": [
        "stopwords.remove('tidak')"
      ],
      "metadata": {
        "id": "7ut616rRIGkK"
      },
      "execution_count": 26,
      "outputs": []
    },
    {
      "cell_type": "code",
      "source": [
        "print(stopwords)"
      ],
      "metadata": {
        "colab": {
          "base_uri": "https://localhost:8080/"
        },
        "id": "AJYvbFR5KfQm",
        "outputId": "962aa7da-85f4-4ec7-a5da-1bf8b3b3dea3"
      },
      "execution_count": 27,
      "outputs": [
        {
          "output_type": "stream",
          "name": "stdout",
          "text": [
            "['yang', 'untuk', 'pada', 'ke', 'para', 'namun', 'menurut', 'antara', 'dia', 'dua', 'ia', 'seperti', 'jika', 'jika', 'sehingga', 'kembali', 'dan', 'ini', 'karena', 'kepada', 'oleh', 'saat', 'harus', 'sementara', 'setelah', 'belum', 'kami', 'sekitar', 'bagi', 'serta', 'di', 'dari', 'telah', 'sebagai', 'masih', 'hal', 'ketika', 'adalah', 'itu', 'dalam', 'bisa', 'bahwa', 'atau', 'hanya', 'kita', 'dengan', 'akan', 'juga', 'ada', 'mereka', 'sudah', 'saya', 'terhadap', 'secara', 'agar', 'lain', 'anda', 'begitu', 'mengapa', 'kenapa', 'yaitu', 'yakni', 'daripada', 'itulah', 'lagi', 'maka', 'tentang', 'demi', 'dimana', 'kemana', 'pula', 'sambil', 'sebelum', 'sesudah', 'supaya', 'guna', 'kah', 'pun', 'sampai', 'sedangkan', 'selagi', 'sementara', 'tetapi', 'apakah', 'kecuali', 'sebab', 'selain', 'seolah', 'seraya', 'seterusnya', 'tanpa', 'agak', 'boleh', 'dapat', 'dsb', 'dst', 'dll', 'dahulu', 'dulunya', 'anu', 'demikian', 'tapi', 'ingin', 'juga', 'nggak', 'mari', 'nanti', 'melainkan', 'oh', 'ok', 'seharusnya', 'sebetulnya', 'setiap', 'setidaknya', 'sesuatu', 'pasti', 'saja', 'toh', 'ya', 'walau', 'tolong', 'tentu', 'amat', 'apalagi', 'bagaimanapun']\n"
          ]
        }
      ]
    },
    {
      "cell_type": "code",
      "source": [
        "stopwords.sort()\n",
        "\n",
        "# print vowels\n",
        "for i in stopwords:\n",
        "  print(i)"
      ],
      "metadata": {
        "colab": {
          "base_uri": "https://localhost:8080/"
        },
        "id": "FmPXW9ruCnsm",
        "outputId": "c8039da6-066f-4337-d139-703325f838fd"
      },
      "execution_count": 28,
      "outputs": [
        {
          "output_type": "stream",
          "name": "stdout",
          "text": [
            "ada\n",
            "adalah\n",
            "agak\n",
            "agar\n",
            "akan\n",
            "amat\n",
            "anda\n",
            "antara\n",
            "anu\n",
            "apakah\n",
            "apalagi\n",
            "atau\n",
            "bagaimanapun\n",
            "bagi\n",
            "bahwa\n",
            "begitu\n",
            "belum\n",
            "bisa\n",
            "boleh\n",
            "dahulu\n",
            "dalam\n",
            "dan\n",
            "dapat\n",
            "dari\n",
            "daripada\n",
            "demi\n",
            "demikian\n",
            "dengan\n",
            "di\n",
            "dia\n",
            "dimana\n",
            "dll\n",
            "dsb\n",
            "dst\n",
            "dua\n",
            "dulunya\n",
            "guna\n",
            "hal\n",
            "hanya\n",
            "harus\n",
            "ia\n",
            "ingin\n",
            "ini\n",
            "itu\n",
            "itulah\n",
            "jika\n",
            "jika\n",
            "juga\n",
            "juga\n",
            "kah\n",
            "kami\n",
            "karena\n",
            "ke\n",
            "kecuali\n",
            "kemana\n",
            "kembali\n",
            "kenapa\n",
            "kepada\n",
            "ketika\n",
            "kita\n",
            "lagi\n",
            "lain\n",
            "maka\n",
            "mari\n",
            "masih\n",
            "melainkan\n",
            "mengapa\n",
            "menurut\n",
            "mereka\n",
            "namun\n",
            "nanti\n",
            "nggak\n",
            "oh\n",
            "ok\n",
            "oleh\n",
            "pada\n",
            "para\n",
            "pasti\n",
            "pula\n",
            "pun\n",
            "saat\n",
            "saja\n",
            "sambil\n",
            "sampai\n",
            "saya\n",
            "sebab\n",
            "sebagai\n",
            "sebelum\n",
            "sebetulnya\n",
            "secara\n",
            "sedangkan\n",
            "seharusnya\n",
            "sehingga\n",
            "sekitar\n",
            "selagi\n",
            "selain\n",
            "sementara\n",
            "sementara\n",
            "seolah\n",
            "seperti\n",
            "seraya\n",
            "serta\n",
            "sesuatu\n",
            "sesudah\n",
            "setelah\n",
            "seterusnya\n",
            "setiap\n",
            "setidaknya\n",
            "sudah\n",
            "supaya\n",
            "tanpa\n",
            "tapi\n",
            "telah\n",
            "tentang\n",
            "tentu\n",
            "terhadap\n",
            "tetapi\n",
            "toh\n",
            "tolong\n",
            "untuk\n",
            "walau\n",
            "ya\n",
            "yaitu\n",
            "yakni\n",
            "yang\n"
          ]
        }
      ]
    },
    {
      "cell_type": "code",
      "source": [
        "clean_data=data\n",
        "print(clean_data)"
      ],
      "metadata": {
        "colab": {
          "base_uri": "https://localhost:8080/"
        },
        "id": "OB8YZhPW_Ukd",
        "outputId": "949d2ce6-970d-42e2-88d0-515803ba4769"
      },
      "execution_count": 48,
      "outputs": [
        {
          "output_type": "stream",
          "name": "stdout",
          "text": [
            "      Label                                           Headline  \\\n",
            "0       1.0  pertamina dan pemerintah kalrifikasi isu bbm n...   \n",
            "1       1.0  polda nusa tenggara barat mengklarifkasi bahwa...   \n",
            "2       1.0  pt ultrajaya milk industry tbk mengklarifikasi...   \n",
            "3       1.0  bbksda jatim mengklarifikasi bahwa wisata alam...   \n",
            "4       1.0  bmkg mataram menghimbau agar warga tidak langs...   \n",
            "...     ...                                                ...   \n",
            "1113    0.0   vaksin kanker serviks menyebabkan menopause dini   \n",
            "1114    0.0  video cindera mata raja salman untuk ibu irian...   \n",
            "1115    0.0  video simulasi hacking manipulasi suara pilgub...   \n",
            "1116    0.0  website kpu gampang jebol karena scriptnya tel...   \n",
            "1117    0.0               yang benci fpi ada lima foto gus mus   \n",
            "\n",
            "                                                   Body  \n",
            "0     foto kumparancom debunk ini berisi iklarifikas...  \n",
            "1     foto ilustrasi perkosaan debunk ini berisi kla...  \n",
            "2     debunk ini berisi klarifikasi dari pt ultrajay...  \n",
            "3     foto tribunnewscom debunk ini berisi klrifikas...  \n",
            "4     foto tribunnewscom jokowi sedang memantau loka...  \n",
            "...                                                 ...  \n",
            "1113  hoax vaksin kanker serviks pada anakanak sd ak...  \n",
            "1114  sebuah akun twitter dengan nama akun gerilyapo...  \n",
            "1115  sebuah akun facebook memposting video yang dia...  \n",
            "1116  sebuah akun facebook memposting status yang me...  \n",
            "1117  muncul postingan hoax di instagram dan twitter...  \n",
            "\n",
            "[1114 rows x 3 columns]\n"
          ]
        }
      ]
    },
    {
      "cell_type": "code",
      "source": [
        "def remove_stopwords(stopwords):\n",
        "    \"\"\"custom function to remove the stopwords\"\"\"\n",
        "    return \" \".join([word for word in str(stopwords).split() if word not in stopwords])\n",
        "\n",
        "clean_data1 = clean_data.apply(lambda text: remove_stopwords(stopwords))\n",
        "clean_data1"
      ],
      "metadata": {
        "id": "1vmLrA7lLYwD",
        "colab": {
          "base_uri": "https://localhost:8080/"
        },
        "outputId": "c6ff8200-998c-4ccb-a7b7-77289d0baee0"
      },
      "execution_count": 59,
      "outputs": [
        {
          "output_type": "execute_result",
          "data": {
            "text/plain": [
              "Label       ['ada', 'adalah', 'agak', 'agar', 'akan', 'ama...\n",
              "Headline    ['ada', 'adalah', 'agak', 'agar', 'akan', 'ama...\n",
              "Body        ['ada', 'adalah', 'agak', 'agar', 'akan', 'ama...\n",
              "dtype: object"
            ]
          },
          "metadata": {},
          "execution_count": 59
        }
      ]
    },
    {
      "cell_type": "code",
      "source": [
        "clean_data.remove(clean_data1)"
      ],
      "metadata": {
        "colab": {
          "base_uri": "https://localhost:8080/",
          "height": 287
        },
        "id": "_ezs7np4Cwic",
        "outputId": "8642fa60-1d4d-4bea-eac7-f186465de9dc"
      },
      "execution_count": 60,
      "outputs": [
        {
          "output_type": "error",
          "ename": "AttributeError",
          "evalue": "ignored",
          "traceback": [
            "\u001b[0;31m---------------------------------------------------------------------------\u001b[0m",
            "\u001b[0;31mAttributeError\u001b[0m                            Traceback (most recent call last)",
            "\u001b[0;32m<ipython-input-60-25f07234b553>\u001b[0m in \u001b[0;36m<module>\u001b[0;34m\u001b[0m\n\u001b[0;32m----> 1\u001b[0;31m \u001b[0mclean_data\u001b[0m\u001b[0;34m.\u001b[0m\u001b[0mremove\u001b[0m\u001b[0;34m(\u001b[0m\u001b[0mclean_data1\u001b[0m\u001b[0;34m)\u001b[0m\u001b[0;34m\u001b[0m\u001b[0;34m\u001b[0m\u001b[0m\n\u001b[0m",
            "\u001b[0;32m/usr/local/lib/python3.8/dist-packages/pandas/core/generic.py\u001b[0m in \u001b[0;36m__getattr__\u001b[0;34m(self, name)\u001b[0m\n\u001b[1;32m   5485\u001b[0m         ):\n\u001b[1;32m   5486\u001b[0m             \u001b[0;32mreturn\u001b[0m \u001b[0mself\u001b[0m\u001b[0;34m[\u001b[0m\u001b[0mname\u001b[0m\u001b[0;34m]\u001b[0m\u001b[0;34m\u001b[0m\u001b[0;34m\u001b[0m\u001b[0m\n\u001b[0;32m-> 5487\u001b[0;31m         \u001b[0;32mreturn\u001b[0m \u001b[0mobject\u001b[0m\u001b[0;34m.\u001b[0m\u001b[0m__getattribute__\u001b[0m\u001b[0;34m(\u001b[0m\u001b[0mself\u001b[0m\u001b[0;34m,\u001b[0m \u001b[0mname\u001b[0m\u001b[0;34m)\u001b[0m\u001b[0;34m\u001b[0m\u001b[0;34m\u001b[0m\u001b[0m\n\u001b[0m\u001b[1;32m   5488\u001b[0m \u001b[0;34m\u001b[0m\u001b[0m\n\u001b[1;32m   5489\u001b[0m     \u001b[0;32mdef\u001b[0m \u001b[0m__setattr__\u001b[0m\u001b[0;34m(\u001b[0m\u001b[0mself\u001b[0m\u001b[0;34m,\u001b[0m \u001b[0mname\u001b[0m\u001b[0;34m:\u001b[0m \u001b[0mstr\u001b[0m\u001b[0;34m,\u001b[0m \u001b[0mvalue\u001b[0m\u001b[0;34m)\u001b[0m \u001b[0;34m->\u001b[0m \u001b[0;32mNone\u001b[0m\u001b[0;34m:\u001b[0m\u001b[0;34m\u001b[0m\u001b[0;34m\u001b[0m\u001b[0m\n",
            "\u001b[0;31mAttributeError\u001b[0m: 'Series' object has no attribute 'remove'"
          ]
        }
      ]
    },
    {
      "cell_type": "code",
      "source": [
        "# import re\n",
        "# from Sastrawi.Stemmer.StemmerFactory import StemmerFactory\n",
        "# factory = StemmerFactory()\n",
        "# stemmer = factory.create_stemmer()\n",
        "\n",
        "def remove_stopword(clean_data):\n",
        "    clean_data = ' '.join(['' if stopwords in clean_data else stopwords for clean_data in clean_data.split(' ')])\n",
        "    clean_data = re.sub('  +', ' ', clean_data) # Remove extra spaces\n",
        "    clean_data = clean_data.strip()\n",
        "    return clean_data\n",
        "\n",
        "print(clean_data)"
      ],
      "metadata": {
        "id": "1-aHgHO9LgF4",
        "colab": {
          "base_uri": "https://localhost:8080/"
        },
        "outputId": "773bb333-5fc5-4ba4-8a43-038eba4cad87"
      },
      "execution_count": 56,
      "outputs": [
        {
          "output_type": "stream",
          "name": "stdout",
          "text": [
            "      Label                                           Headline  \\\n",
            "0       1.0  pertamina dan pemerintah kalrifikasi isu bbm n...   \n",
            "1       1.0  polda nusa tenggara barat mengklarifkasi bahwa...   \n",
            "2       1.0  pt ultrajaya milk industry tbk mengklarifikasi...   \n",
            "3       1.0  bbksda jatim mengklarifikasi bahwa wisata alam...   \n",
            "4       1.0  bmkg mataram menghimbau agar warga tidak langs...   \n",
            "...     ...                                                ...   \n",
            "1113    0.0   vaksin kanker serviks menyebabkan menopause dini   \n",
            "1114    0.0  video cindera mata raja salman untuk ibu irian...   \n",
            "1115    0.0  video simulasi hacking manipulasi suara pilgub...   \n",
            "1116    0.0  website kpu gampang jebol karena scriptnya tel...   \n",
            "1117    0.0               yang benci fpi ada lima foto gus mus   \n",
            "\n",
            "                                                   Body  \n",
            "0     foto kumparancom debunk ini berisi iklarifikas...  \n",
            "1     foto ilustrasi perkosaan debunk ini berisi kla...  \n",
            "2     debunk ini berisi klarifikasi dari pt ultrajay...  \n",
            "3     foto tribunnewscom debunk ini berisi klrifikas...  \n",
            "4     foto tribunnewscom jokowi sedang memantau loka...  \n",
            "...                                                 ...  \n",
            "1113  hoax vaksin kanker serviks pada anakanak sd ak...  \n",
            "1114  sebuah akun twitter dengan nama akun gerilyapo...  \n",
            "1115  sebuah akun facebook memposting video yang dia...  \n",
            "1116  sebuah akun facebook memposting status yang me...  \n",
            "1117  muncul postingan hoax di instagram dan twitter...  \n",
            "\n",
            "[1114 rows x 3 columns]\n"
          ]
        }
      ]
    },
    {
      "cell_type": "code",
      "source": [
        "# from Sastrawi.StopWordRemover.StopWordRemoverFactory import StopWordRemoverFactory\n",
        "# import pandas as pd\n",
        "\n",
        "# factory = StopWordRemoverFactory()\n",
        "# stopword = factory.create_stop_word_remover()\n",
        "\n",
        "# # df = pd.read_csv(\"kalimat.csv\")\n",
        "# # for i, text in enumerate (text):\n",
        "# for i, stopwords in text.split(' '):\n",
        "#     stop = stopwords.remove(text)\n",
        "#     print(i,stop + '\\n')"
      ],
      "metadata": {
        "id": "y4Ru9oGD2Y5z"
      },
      "execution_count": null,
      "outputs": []
    },
    {
      "cell_type": "code",
      "source": [],
      "metadata": {
        "id": "pUQ8pRgojAKD"
      },
      "execution_count": null,
      "outputs": []
    },
    {
      "cell_type": "markdown",
      "metadata": {
        "id": "2_N_mAW6fPmP"
      },
      "source": [
        "####Load BERT Tokenizer"
      ]
    },
    {
      "cell_type": "code",
      "metadata": {
        "id": "vMc4LncOHdtw"
      },
      "source": [
        "from transformers import BertTokenizer\n",
        "\n",
        "print(\"Loading BERT Tokenizer\")\n",
        "tokenizer = BertTokenizer.from_pretrained('bert-base-multilingual-uncased', do_lower_case=True)"
      ],
      "execution_count": null,
      "outputs": []
    },
    {
      "cell_type": "code",
      "metadata": {
        "id": "NmgvKwtysJuq"
      },
      "source": [
        "df.sample(5)"
      ],
      "execution_count": null,
      "outputs": []
    },
    {
      "cell_type": "code",
      "source": [
        "# Tokenize all of the sentences and map the tokens to thier word IDs.\n",
        "input_ids = []\n",
        "\n",
        "# For every sentence...\n",
        "for sent in body:\n",
        "    # `encode` will:\n",
        "    #   (1) Tokenize the sentence.\n",
        "    #   (2) Prepend the `[CLS]` token to the start.\n",
        "    #   (3) Append the `[SEP]` token to the end.\n",
        "    #   (4) Map tokens to their IDs.\n",
        "    encoded_sent = tokenizer.encode(\n",
        "                        str(sent),                      # Sentence to encode.\n",
        "                        add_special_tokens = True, # Add '[CLS]' and '[SEP]'\n",
        "\n",
        "                        # This function also supports truncation and conversion\n",
        "                        # to pytorch tensors, but we need to do padding, so we\n",
        "                        # can't use these features :( .\n",
        "                        #max_length = 128,          # Truncate all sentences.\n",
        "                        #return_tensors = 'pt',     # Return pytorch tensors.\n",
        "                   )\n",
        "    \n",
        "    # Add the encoded sentence to the list.\n",
        "    input_ids.append(encoded_sent)\n",
        "\n",
        "# Print sentence 0, now as a list of IDs.\n",
        "print('Original: ', body[0])\n",
        "print('Token IDs:', input_ids[0])"
      ],
      "metadata": {
        "id": "ha742gEiwyKj"
      },
      "execution_count": null,
      "outputs": []
    },
    {
      "cell_type": "code",
      "source": [
        "print('Original: ', body[0:5])\n",
        "print('Token IDs:', input_ids[0:5])"
      ],
      "metadata": {
        "id": "WNyh7-Ri5MRb"
      },
      "execution_count": null,
      "outputs": []
    },
    {
      "cell_type": "code",
      "metadata": {
        "id": "0VfxuBuyIJxY"
      },
      "source": [
        "print(\"Original: \", body[0])\n",
        "\n",
        "print(\"Tokenized: \", tokenizer.tokenize(body[0]))\n",
        "\n",
        "print(\"Token IDS: \", tokenizer.convert_tokens_to_ids(tokenizer.tokenize(body[0])))"
      ],
      "execution_count": null,
      "outputs": []
    }
  ]
}
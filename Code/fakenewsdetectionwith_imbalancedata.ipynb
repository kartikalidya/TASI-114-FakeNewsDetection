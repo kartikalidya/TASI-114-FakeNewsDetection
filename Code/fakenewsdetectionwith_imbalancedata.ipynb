{
  "cells": [
    {
      "cell_type": "markdown",
      "metadata": {
        "id": "view-in-github"
      },
      "source": [
        "<a href=\"https://colab.research.google.com/github/garynico/IndoBERT-Hoax/blob/main/IndoBERT_Hoax_News_Detection.ipynb\" target=\"_parent\"><img src=\"https://colab.research.google.com/assets/colab-badge.svg\" alt=\"Open In Colab\"/></a>"
      ]
    },
    {
      "cell_type": "markdown",
      "metadata": {
        "id": "MLrHTVMSTxbt"
      },
      "source": [
        "# IndoBERT for Bahasa Indonesia Hoax News Detection"
      ]
    },
    {
      "cell_type": "markdown",
      "metadata": {
        "id": "LATDuyAVYEsw"
      },
      "source": [
        "### Import library"
      ]
    },
    {
      "cell_type": "code",
      "execution_count": 1,
      "metadata": {
        "colab": {
          "base_uri": "https://localhost:8080/"
        },
        "id": "IfNKumAzxkFn",
        "outputId": "2ca02f6e-b295-4e80-8897-3289a53760da"
      },
      "outputs": [
        {
          "output_type": "stream",
          "name": "stdout",
          "text": [
            "Mounted at /content/drive\n"
          ]
        }
      ],
      "source": [
        "# Drive\n",
        "from google.colab import files\n",
        "from google.colab import drive\n",
        "\n",
        "drive.mount('/content/drive', force_remount=True)"
      ]
    },
    {
      "cell_type": "code",
      "execution_count": 2,
      "metadata": {
        "id": "PohTXbqMicdb"
      },
      "outputs": [],
      "source": [
        "source_folder = '/content/drive/My Drive/TASI/DataImbalance'\n",
        "destination_folder = '/content/drive/My Drive/TASI/ModelImbalance'"
      ]
    },
    {
      "cell_type": "code",
      "execution_count": 3,
      "metadata": {
        "colab": {
          "base_uri": "https://localhost:8080/"
        },
        "id": "XYRz41w8x28A",
        "outputId": "971e1667-fe6a-40da-8b2e-5352c6da093f"
      },
      "outputs": [
        {
          "output_type": "stream",
          "name": "stdout",
          "text": [
            "/content/drive/My Drive/TASI/DataImbalance\n"
          ]
        }
      ],
      "source": [
        "%cd //content/drive/My Drive/TASI/DataImbalance"
      ]
    },
    {
      "cell_type": "code",
      "execution_count": 4,
      "metadata": {
        "id": "M959vrSV0iwp",
        "colab": {
          "base_uri": "https://localhost:8080/"
        },
        "outputId": "c563314b-4cac-4826-98a9-68de84505f1d"
      },
      "outputs": [
        {
          "output_type": "stream",
          "name": "stdout",
          "text": [
            "Looking in indexes: https://pypi.org/simple, https://us-python.pkg.dev/colab-wheels/public/simple/\n",
            "Collecting transformers\n",
            "  Downloading transformers-4.27.2-py3-none-any.whl (6.8 MB)\n",
            "\u001b[2K     \u001b[90m━━━━━━━━━━━━━━━━━━━━━━━━━━━━━━━━━━━━━━━━\u001b[0m \u001b[32m6.8/6.8 MB\u001b[0m \u001b[31m69.3 MB/s\u001b[0m eta \u001b[36m0:00:00\u001b[0m\n",
            "\u001b[?25hRequirement already satisfied: packaging>=20.0 in /usr/local/lib/python3.9/dist-packages (from transformers) (23.0)\n",
            "Requirement already satisfied: numpy>=1.17 in /usr/local/lib/python3.9/dist-packages (from transformers) (1.22.4)\n",
            "Requirement already satisfied: tqdm>=4.27 in /usr/local/lib/python3.9/dist-packages (from transformers) (4.65.0)\n",
            "Requirement already satisfied: pyyaml>=5.1 in /usr/local/lib/python3.9/dist-packages (from transformers) (6.0)\n",
            "Requirement already satisfied: requests in /usr/local/lib/python3.9/dist-packages (from transformers) (2.27.1)\n",
            "Collecting huggingface-hub<1.0,>=0.11.0\n",
            "  Downloading huggingface_hub-0.13.3-py3-none-any.whl (199 kB)\n",
            "\u001b[2K     \u001b[90m━━━━━━━━━━━━━━━━━━━━━━━━━━━━━━━━━━━━━━\u001b[0m \u001b[32m199.8/199.8 KB\u001b[0m \u001b[31m25.0 MB/s\u001b[0m eta \u001b[36m0:00:00\u001b[0m\n",
            "\u001b[?25hCollecting tokenizers!=0.11.3,<0.14,>=0.11.1\n",
            "  Downloading tokenizers-0.13.2-cp39-cp39-manylinux_2_17_x86_64.manylinux2014_x86_64.whl (7.6 MB)\n",
            "\u001b[2K     \u001b[90m━━━━━━━━━━━━━━━━━━━━━━━━━━━━━━━━━━━━━━━━\u001b[0m \u001b[32m7.6/7.6 MB\u001b[0m \u001b[31m115.6 MB/s\u001b[0m eta \u001b[36m0:00:00\u001b[0m\n",
            "\u001b[?25hRequirement already satisfied: filelock in /usr/local/lib/python3.9/dist-packages (from transformers) (3.10.0)\n",
            "Requirement already satisfied: regex!=2019.12.17 in /usr/local/lib/python3.9/dist-packages (from transformers) (2022.10.31)\n",
            "Requirement already satisfied: typing-extensions>=3.7.4.3 in /usr/local/lib/python3.9/dist-packages (from huggingface-hub<1.0,>=0.11.0->transformers) (4.5.0)\n",
            "Requirement already satisfied: urllib3<1.27,>=1.21.1 in /usr/local/lib/python3.9/dist-packages (from requests->transformers) (1.26.15)\n",
            "Requirement already satisfied: charset-normalizer~=2.0.0 in /usr/local/lib/python3.9/dist-packages (from requests->transformers) (2.0.12)\n",
            "Requirement already satisfied: certifi>=2017.4.17 in /usr/local/lib/python3.9/dist-packages (from requests->transformers) (2022.12.7)\n",
            "Requirement already satisfied: idna<4,>=2.5 in /usr/local/lib/python3.9/dist-packages (from requests->transformers) (3.4)\n",
            "Installing collected packages: tokenizers, huggingface-hub, transformers\n",
            "Successfully installed huggingface-hub-0.13.3 tokenizers-0.13.2 transformers-4.27.2\n",
            "Looking in indexes: https://pypi.org/simple, https://us-python.pkg.dev/colab-wheels/public/simple/\n",
            "Collecting keras.preprocessing\n",
            "  Downloading Keras_Preprocessing-1.1.2-py2.py3-none-any.whl (42 kB)\n",
            "\u001b[2K     \u001b[90m━━━━━━━━━━━━━━━━━━━━━━━━━━━━━━━━━━━━━━━━\u001b[0m \u001b[32m42.6/42.6 KB\u001b[0m \u001b[31m2.1 MB/s\u001b[0m eta \u001b[36m0:00:00\u001b[0m\n",
            "\u001b[?25hRequirement already satisfied: six>=1.9.0 in /usr/local/lib/python3.9/dist-packages (from keras.preprocessing) (1.16.0)\n",
            "Requirement already satisfied: numpy>=1.9.1 in /usr/local/lib/python3.9/dist-packages (from keras.preprocessing) (1.22.4)\n",
            "Installing collected packages: keras.preprocessing\n",
            "Successfully installed keras.preprocessing-1.1.2\n",
            "Looking in indexes: https://pypi.org/simple, https://us-python.pkg.dev/colab-wheels/public/simple/\n",
            "Collecting torchtext==0.10.0\n",
            "  Downloading torchtext-0.10.0-cp39-cp39-manylinux1_x86_64.whl (7.6 MB)\n",
            "\u001b[2K     \u001b[90m━━━━━━━━━━━━━━━━━━━━━━━━━━━━━━━━━━━━━━━━\u001b[0m \u001b[32m7.6/7.6 MB\u001b[0m \u001b[31m92.4 MB/s\u001b[0m eta \u001b[36m0:00:00\u001b[0m\n",
            "\u001b[?25hRequirement already satisfied: numpy in /usr/local/lib/python3.9/dist-packages (from torchtext==0.10.0) (1.22.4)\n",
            "Requirement already satisfied: tqdm in /usr/local/lib/python3.9/dist-packages (from torchtext==0.10.0) (4.65.0)\n",
            "Collecting torch==1.9.0\n",
            "  Downloading torch-1.9.0-cp39-cp39-manylinux1_x86_64.whl (831.4 MB)\n",
            "\u001b[2K     \u001b[90m━━━━━━━━━━━━━━━━━━━━━━━━━━━━━━━━━━━━━━━\u001b[0m \u001b[32m831.4/831.4 MB\u001b[0m \u001b[31m1.9 MB/s\u001b[0m eta \u001b[36m0:00:00\u001b[0m\n",
            "\u001b[?25hRequirement already satisfied: requests in /usr/local/lib/python3.9/dist-packages (from torchtext==0.10.0) (2.27.1)\n",
            "Requirement already satisfied: typing-extensions in /usr/local/lib/python3.9/dist-packages (from torch==1.9.0->torchtext==0.10.0) (4.5.0)\n",
            "Requirement already satisfied: certifi>=2017.4.17 in /usr/local/lib/python3.9/dist-packages (from requests->torchtext==0.10.0) (2022.12.7)\n",
            "Requirement already satisfied: charset-normalizer~=2.0.0 in /usr/local/lib/python3.9/dist-packages (from requests->torchtext==0.10.0) (2.0.12)\n",
            "Requirement already satisfied: urllib3<1.27,>=1.21.1 in /usr/local/lib/python3.9/dist-packages (from requests->torchtext==0.10.0) (1.26.15)\n",
            "Requirement already satisfied: idna<4,>=2.5 in /usr/local/lib/python3.9/dist-packages (from requests->torchtext==0.10.0) (3.4)\n",
            "Installing collected packages: torch, torchtext\n",
            "  Attempting uninstall: torch\n",
            "    Found existing installation: torch 1.13.1+cu116\n",
            "    Uninstalling torch-1.13.1+cu116:\n",
            "      Successfully uninstalled torch-1.13.1+cu116\n",
            "  Attempting uninstall: torchtext\n",
            "    Found existing installation: torchtext 0.14.1\n",
            "    Uninstalling torchtext-0.14.1:\n",
            "      Successfully uninstalled torchtext-0.14.1\n",
            "\u001b[31mERROR: pip's dependency resolver does not currently take into account all the packages that are installed. This behaviour is the source of the following dependency conflicts.\n",
            "torchvision 0.14.1+cu116 requires torch==1.13.1, but you have torch 1.9.0 which is incompatible.\n",
            "torchaudio 0.13.1+cu116 requires torch==1.13.1, but you have torch 1.9.0 which is incompatible.\u001b[0m\u001b[31m\n",
            "\u001b[0mSuccessfully installed torch-1.9.0 torchtext-0.10.0\n"
          ]
        }
      ],
      "source": [
        "!pip install transformers\n",
        "!pip install keras.preprocessing\n",
        "!pip install -U torchtext==0.10.0"
      ]
    },
    {
      "cell_type": "code",
      "execution_count": 5,
      "metadata": {
        "id": "fBr2V8S1LAt1"
      },
      "outputs": [],
      "source": [
        "import pandas as pd \n",
        "import numpy as np \n",
        "import torch\n",
        "\n",
        "\n",
        "from transformers import BertForSequenceClassification, BertConfig, BertTokenizer\n",
        "from tensorflow.keras.preprocessing.sequence import pad_sequences\n",
        "from sklearn.metrics import classification_report\n",
        "import matplotlib.pyplot as plt\n",
        "\n",
        "# Preliminaries\n",
        "from torchtext.legacy.data import Field, TabularDataset, BucketIterator, Iterator\n",
        "\n",
        "\n",
        "# Models\n",
        "import torch.nn as nn\n",
        "\n",
        "# Training\n",
        "import torch.optim as optim\n",
        "\n",
        "# Evaluation\n",
        "from sklearn.metrics import accuracy_score, classification_report, confusion_matrix\n",
        "import seaborn as sns"
      ]
    },
    {
      "cell_type": "markdown",
      "metadata": {
        "id": "D87UOuPvZWf9"
      },
      "source": [
        "## Preliminaries"
      ]
    },
    {
      "cell_type": "code",
      "execution_count": 6,
      "metadata": {
        "id": "AtWXlthhPvxl",
        "colab": {
          "base_uri": "https://localhost:8080/",
          "height": 145,
          "referenced_widgets": [
            "eefc2012a51e4df99710bff5ed3cb581",
            "e387b932643649359ea212ab0886c7fd",
            "91fbbc50336148689b87d7175a49c78d",
            "d511929ac3e14cf1a1d4f7a94ae2559a",
            "29da1c29b30445a5a06a2af32708f28e",
            "511fda92be354cc1bb7e0e357ad4ffec",
            "8867dda626ad44f98af9b2289720e91a",
            "521db70bf848464582357a40c8756b96",
            "beb6d310086446afbdf66c48e808be2e",
            "4981ee5fe46c47709d425eb23f17dbb8",
            "2edf11250d764154aa549a29b661a42b",
            "688735a643f34e4eb3330f6f0fe1266e",
            "6fa142785adb470fbeadc7ed3deb435c",
            "2365502b66f14a9998d3c9dcaa2521b1",
            "baed1df82cc74c84bc9d6e3bfa29e6a6",
            "6c186700ec6a43b98c645a1abd707000",
            "d195ecc6c6d54830b90d36d0b5dccd07",
            "ac339db11e5d46edaf42952920bcba4a",
            "01e9494094f9469c849bb76d617811f8",
            "561114e9c14543388cb433f6c9f0a0b9",
            "1b93959519a54d3faed8d7c3444c2fa6",
            "6656449d8105470b9fc0c5c7b9e22133",
            "7fdcedb8761b49c284a0c315a254d3c8",
            "3b4444760ed346c4a1100e62ca1b0ce6",
            "ad21bea0e96e4fb1aacfd069db760676",
            "731f9995f62743c7ac5023a259a7364c",
            "6715d7a441874dc493e4265c28dc28d0",
            "9d305ae6dbe94a678b809328a0e7bf2d",
            "bb2cc1b5a0384ac68129c4cfa5f6c831",
            "5ba017878498415f9f46b4bdf99a437d",
            "057d9fc87cb9444681759130672144f2",
            "8e8dfdd223be450a94e2614bbffb88f4",
            "b5d09419566c4d6eae62696928ce2b5f",
            "3bb82a5ca7b54dec89f361622d0afddb",
            "dc1bbc762afa476fbc6c64628e935eef",
            "27b9066c92c546a2a9b6e997f1b82aaf",
            "2f59da3d4ad54133be0d0203394bafb3",
            "93de25bf82384223843c61d2fabe1cb4",
            "dcd1b3b94c63435e8dac6360a2dd782b",
            "9b3c5ad59bbf493c9ca0de29aff218c6",
            "3980084af3af4c478b82ba4094c5bdc6",
            "38860cd05f0846e2874aac4da684934d",
            "59dba9a7f45244f3a3c8e6609181107c",
            "b3a52a226a5b44aa9af3b7385c5e3a18"
          ]
        },
        "outputId": "f2cbfde3-a7c6-4c7d-8101-a98207e094ef"
      },
      "outputs": [
        {
          "output_type": "display_data",
          "data": {
            "text/plain": [
              "Downloading (…)solve/main/vocab.txt:   0%|          | 0.00/229k [00:00<?, ?B/s]"
            ],
            "application/vnd.jupyter.widget-view+json": {
              "version_major": 2,
              "version_minor": 0,
              "model_id": "eefc2012a51e4df99710bff5ed3cb581"
            }
          },
          "metadata": {}
        },
        {
          "output_type": "display_data",
          "data": {
            "text/plain": [
              "Downloading (…)cial_tokens_map.json:   0%|          | 0.00/112 [00:00<?, ?B/s]"
            ],
            "application/vnd.jupyter.widget-view+json": {
              "version_major": 2,
              "version_minor": 0,
              "model_id": "688735a643f34e4eb3330f6f0fe1266e"
            }
          },
          "metadata": {}
        },
        {
          "output_type": "display_data",
          "data": {
            "text/plain": [
              "Downloading (…)okenizer_config.json:   0%|          | 0.00/2.00 [00:00<?, ?B/s]"
            ],
            "application/vnd.jupyter.widget-view+json": {
              "version_major": 2,
              "version_minor": 0,
              "model_id": "7fdcedb8761b49c284a0c315a254d3c8"
            }
          },
          "metadata": {}
        },
        {
          "output_type": "display_data",
          "data": {
            "text/plain": [
              "Downloading (…)lve/main/config.json:   0%|          | 0.00/1.53k [00:00<?, ?B/s]"
            ],
            "application/vnd.jupyter.widget-view+json": {
              "version_major": 2,
              "version_minor": 0,
              "model_id": "3bb82a5ca7b54dec89f361622d0afddb"
            }
          },
          "metadata": {}
        }
      ],
      "source": [
        "tokenizer = BertTokenizer.from_pretrained('indobenchmark/indobert-base-p1')"
      ]
    },
    {
      "cell_type": "code",
      "execution_count": 7,
      "metadata": {
        "id": "gWg-WDVbWyGO"
      },
      "outputs": [],
      "source": [
        "device = torch.device('cuda:0' if torch.cuda.is_available() else 'cpu')"
      ]
    },
    {
      "cell_type": "markdown",
      "metadata": {
        "id": "C7sIHRLwaoyM"
      },
      "source": [
        "## Model"
      ]
    },
    {
      "cell_type": "code",
      "execution_count": 8,
      "metadata": {
        "id": "GeZ14Ky5Lqih"
      },
      "outputs": [],
      "source": [
        "# Model parameter\n",
        "MAX_SEQ_LEN = 128\n",
        "PAD_INDEX = tokenizer.convert_tokens_to_ids(tokenizer.pad_token)\n",
        "UNK_INDEX = tokenizer.convert_tokens_to_ids(tokenizer.unk_token)\n",
        "\n",
        "# Fields\n",
        "label_field = Field(sequential=False, use_vocab=False, batch_first=True, dtype=torch.float)\n",
        "text_field = Field(use_vocab=False, tokenize=tokenizer.encode, lower=False, include_lengths=False, batch_first=True,\n",
        "                   fix_length=MAX_SEQ_LEN, pad_token=PAD_INDEX, unk_token=UNK_INDEX)\n",
        "fields = [('Label', label_field), ('Tokenizing_Head', text_field), ('Tokenizing_Body', text_field)]\n",
        "\n",
        "train, valid, test = TabularDataset.splits(path=source_folder, train='train3.csv', validation='valid3.csv', test='test3.csv', \n",
        "                                           format='csv', fields=fields, skip_header=True)\n"
      ]
    },
    {
      "cell_type": "code",
      "execution_count": 9,
      "metadata": {
        "id": "NSKPey98jRpM"
      },
      "outputs": [],
      "source": [
        "# Iterators\n",
        "train_iter = BucketIterator(train, batch_size=8, sort_key=lambda x: len(x.Tokenizing_Body),\n",
        "                            device=device, train=True, sort=True, sort_within_batch=True)\n",
        "valid_iter = BucketIterator(valid, batch_size=8, sort_key=lambda x: len(x.Tokenizing_Body),\n",
        "                            device=device, train=True, sort=True, sort_within_batch=True)\n",
        "test_iter = Iterator(test, batch_size=8, device=device, train=False, shuffle=False, sort=False)"
      ]
    },
    {
      "cell_type": "code",
      "execution_count": 10,
      "metadata": {
        "id": "YfFxkaJq1WmC"
      },
      "outputs": [],
      "source": [
        "# Module\n",
        "class BERT(nn.Module):\n",
        "\n",
        "    def __init__(self):\n",
        "        super(BERT, self).__init__()\n",
        "\n",
        "        options_name = \"indobenchmark/indobert-base-p1\"\n",
        "        self.encoder = BertForSequenceClassification.from_pretrained(options_name)\n",
        "\n",
        "    # def forward(self, headline, body, label=None):\n",
        "    #     loss, text_fea = self.encoder(input_ids=body, attention_mask=(body!=PAD_INDEX), token_type_ids=(headline!=PAD_INDEX), labels=label)[:2]\n",
        "    def forward(self, text, label):\n",
        "        loss, text_fea = self.encoder(text, labels=label)[:2]\n",
        "        \n",
        "        return loss, text_fea"
      ]
    },
    {
      "cell_type": "code",
      "execution_count": 11,
      "metadata": {
        "id": "egjaxiu51prx"
      },
      "outputs": [],
      "source": [
        "# Save and Load Functions\n",
        "\n",
        "def save_checkpoint(save_path, model, valid_loss):\n",
        "\n",
        "    if save_path == None:\n",
        "        return\n",
        "\n",
        "    state_dict = {'model_state_dict': model.state_dict(),\n",
        "                  'valid_loss': valid_loss}\n",
        "\n",
        "    torch.save(state_dict, save_path)\n",
        "    print(f'Model saved to ==> {save_path}')\n",
        "\n",
        "\n",
        "def load_checkpoint(load_path, model):\n",
        "\n",
        "    if load_path == None:\n",
        "        return\n",
        "\n",
        "    state_dict = torch.load(load_path, map_location=device)\n",
        "    print(f'Model loaded from <== {load_path}')\n",
        "\n",
        "    model.load_state_dict(state_dict['model_state_dict'])\n",
        "    return state_dict['valid_loss']\n",
        "\n",
        "\n",
        "def save_metrics(save_path, train_loss_list, valid_loss_list, global_steps_list):\n",
        "\n",
        "    if save_path == None:\n",
        "        return\n",
        "\n",
        "    state_dict = {'train_loss_list': train_loss_list,\n",
        "                  'valid_loss_list': valid_loss_list,\n",
        "                  'global_steps_list': global_steps_list}\n",
        "\n",
        "    torch.save(state_dict, save_path)\n",
        "    print(f'Model saved to ==> {save_path}')\n",
        "\n",
        "\n",
        "def load_metrics(load_path):\n",
        "\n",
        "    if load_path == None:\n",
        "        return\n",
        "\n",
        "    state_dict = torch.load(load_path, map_location=device)\n",
        "    print(f'Model loaded from <== {load_path}')\n",
        "\n",
        "    return state_dict['train_loss_list'], state_dict['valid_loss_list'], state_dict['global_steps_list']\n"
      ]
    },
    {
      "cell_type": "markdown",
      "metadata": {
        "id": "hsAT0DKHZ1si"
      },
      "source": [
        "## Training and Validation"
      ]
    },
    {
      "cell_type": "code",
      "execution_count": 12,
      "metadata": {
        "id": "mf4FbhurXdUs"
      },
      "outputs": [],
      "source": [
        "def train(model,\n",
        "          optimizer,\n",
        "          criterion=nn.BCELoss(),\n",
        "          train_loader=train_iter,\n",
        "          valid_loader=valid_iter,\n",
        "          num_epochs=8,\n",
        "          eval_every=len(train_iter) // 2,\n",
        "          file_path=destination_folder,\n",
        "          best_valid_loss=float(\"Inf\")):\n",
        "\n",
        "    # initialize running values\n",
        "    running_loss = 0.0\n",
        "    valid_running_loss = 0.0\n",
        "    global_step = 0\n",
        "    train_loss_list = []\n",
        "    valid_loss_list = []\n",
        "    global_steps_list = []\n",
        "\n",
        "    # training loop\n",
        "    model.train()\n",
        "    for epoch in range(num_epochs):\n",
        "        for (labels, title, text), _ in train_loader:\n",
        "            labels = labels.type(torch.LongTensor)\n",
        "            labels = labels.to(device)\n",
        "            text = text.type(torch.LongTensor)\n",
        "            text = text.to(device)\n",
        "            output = model(text, labels)\n",
        "            loss, _ = output\n",
        "\n",
        "            optimizer.zero_grad()\n",
        "            loss.backward()\n",
        "            optimizer.step()\n",
        "\n",
        "            # update running values\n",
        "            running_loss += loss.item()\n",
        "            global_step += 1\n",
        "\n",
        "            # evaluation step\n",
        "            if global_step % eval_every == 0:\n",
        "                model.eval()\n",
        "                with torch.no_grad():\n",
        "\n",
        "                    # validation loop\n",
        "                    # for (date, title, text, labels), _ in valid_loader:\n",
        "                    for (labels, title, text), _ in valid_loader:\n",
        "                        labels = labels.type(torch.LongTensor)\n",
        "                        labels = labels.to(device)\n",
        "                        text = text.type(torch.LongTensor)\n",
        "                        text = text.to(device)\n",
        "                        output = model(text, labels)\n",
        "                        loss, _ = output\n",
        "\n",
        "                        valid_running_loss += loss.item()\n",
        "\n",
        "                # evaluation\n",
        "                average_train_loss = running_loss / eval_every\n",
        "                average_valid_loss = valid_running_loss / len(valid_loader)\n",
        "                train_loss_list.append(average_train_loss)\n",
        "                valid_loss_list.append(average_valid_loss)\n",
        "                global_steps_list.append(global_step)\n",
        "\n",
        "                # resetting running values\n",
        "                running_loss = 0.0\n",
        "                valid_running_loss = 0.0\n",
        "                model.train()\n",
        "\n",
        "                # print progress\n",
        "                print('Epoch [{}/{}], Step [{}/{}], Train Loss: {:.4f}, Valid Loss: {:.4f}'\n",
        "                      .format(epoch+1, num_epochs, global_step, num_epochs*len(train_loader),\n",
        "                              average_train_loss, average_valid_loss))\n",
        "\n",
        "                # checkpoint\n",
        "                if best_valid_loss > average_valid_loss:\n",
        "                    best_valid_loss = average_valid_loss\n",
        "                    save_checkpoint(file_path + '/' + 'model.pt', model, best_valid_loss)\n",
        "                    save_metrics(file_path + '/' + 'metrics.pt', train_loss_list, valid_loss_list, global_steps_list)\n",
        "\n",
        "    save_metrics(file_path + '/' + 'metrics.pt', train_loss_list, valid_loss_list, global_steps_list)\n",
        "    print('Finished Training!')\n",
        "    return train_loss_list, valid_loss_list, global_steps_list, best_valid_loss"
      ]
    },
    {
      "cell_type": "code",
      "execution_count": 13,
      "metadata": {
        "id": "qgEMeGkE25GR",
        "colab": {
          "base_uri": "https://localhost:8080/",
          "height": 1000,
          "referenced_widgets": [
            "8129ff1470c743469365f7beb93793db",
            "047cd1a3e65a40249fadc47ca1d252d0",
            "25d9a1d41b464db9aa18864c4fa8aa4f",
            "f58c54bab7234b61aa74ea9333be0d94",
            "952e247f0772402dbd1c83f2ff262116",
            "e56951e052ed46f8a6d1fc4c9da14547",
            "1f6183d77e524d2280c36f4afd40bd74",
            "ff9db1e5fd1d4b3eb5e8d39490b75d7d",
            "35271d875f264778a7d51961ca1a0dea",
            "218c5f654ceb44f89e093fc693254b55",
            "1e6e527580cf4547a25becfab180e152"
          ]
        },
        "outputId": "0fdf221b-5bcb-4145-acf1-f912e3231b53"
      },
      "outputs": [
        {
          "output_type": "display_data",
          "data": {
            "text/plain": [
              "Downloading pytorch_model.bin:   0%|          | 0.00/498M [00:00<?, ?B/s]"
            ],
            "application/vnd.jupyter.widget-view+json": {
              "version_major": 2,
              "version_minor": 0,
              "model_id": "8129ff1470c743469365f7beb93793db"
            }
          },
          "metadata": {}
        },
        {
          "output_type": "stream",
          "name": "stderr",
          "text": [
            "Some weights of BertForSequenceClassification were not initialized from the model checkpoint at indobenchmark/indobert-base-p1 and are newly initialized: ['classifier.bias', 'classifier.weight']\n",
            "You should probably TRAIN this model on a down-stream task to be able to use it for predictions and inference.\n"
          ]
        },
        {
          "output_type": "stream",
          "name": "stdout",
          "text": [
            "Epoch [1/8], Step [49/784], Train Loss: 0.5569, Valid Loss: 0.6770\n",
            "Model saved to ==> /content/drive/My Drive/TASI/ModelImbalance/model.pt\n",
            "Model saved to ==> /content/drive/My Drive/TASI/ModelImbalance/metrics.pt\n",
            "Epoch [1/8], Step [98/784], Train Loss: 0.5942, Valid Loss: 0.3916\n",
            "Model saved to ==> /content/drive/My Drive/TASI/ModelImbalance/model.pt\n",
            "Model saved to ==> /content/drive/My Drive/TASI/ModelImbalance/metrics.pt\n",
            "Epoch [2/8], Step [147/784], Train Loss: 0.3421, Valid Loss: 0.3289\n",
            "Model saved to ==> /content/drive/My Drive/TASI/ModelImbalance/model.pt\n",
            "Model saved to ==> /content/drive/My Drive/TASI/ModelImbalance/metrics.pt\n",
            "Epoch [2/8], Step [196/784], Train Loss: 0.2278, Valid Loss: 0.3036\n",
            "Model saved to ==> /content/drive/My Drive/TASI/ModelImbalance/model.pt\n",
            "Model saved to ==> /content/drive/My Drive/TASI/ModelImbalance/metrics.pt\n",
            "Epoch [3/8], Step [245/784], Train Loss: 0.1568, Valid Loss: 0.2331\n",
            "Model saved to ==> /content/drive/My Drive/TASI/ModelImbalance/model.pt\n",
            "Model saved to ==> /content/drive/My Drive/TASI/ModelImbalance/metrics.pt\n",
            "Epoch [3/8], Step [294/784], Train Loss: 0.1708, Valid Loss: 0.2773\n",
            "Epoch [4/8], Step [343/784], Train Loss: 0.0704, Valid Loss: 0.1407\n",
            "Model saved to ==> /content/drive/My Drive/TASI/ModelImbalance/model.pt\n",
            "Model saved to ==> /content/drive/My Drive/TASI/ModelImbalance/metrics.pt\n",
            "Epoch [4/8], Step [392/784], Train Loss: 0.1084, Valid Loss: 0.2710\n",
            "Epoch [5/8], Step [441/784], Train Loss: 0.0538, Valid Loss: 0.3382\n",
            "Epoch [5/8], Step [490/784], Train Loss: 0.0650, Valid Loss: 0.2593\n",
            "Epoch [6/8], Step [539/784], Train Loss: 0.0697, Valid Loss: 0.2971\n",
            "Epoch [6/8], Step [588/784], Train Loss: 0.0370, Valid Loss: 0.3567\n",
            "Epoch [7/8], Step [637/784], Train Loss: 0.0338, Valid Loss: 0.0740\n",
            "Model saved to ==> /content/drive/My Drive/TASI/ModelImbalance/model.pt\n",
            "Model saved to ==> /content/drive/My Drive/TASI/ModelImbalance/metrics.pt\n",
            "Epoch [7/8], Step [686/784], Train Loss: 0.0204, Valid Loss: 0.1585\n",
            "Epoch [8/8], Step [735/784], Train Loss: 0.0208, Valid Loss: 0.0664\n",
            "Model saved to ==> /content/drive/My Drive/TASI/ModelImbalance/model.pt\n",
            "Model saved to ==> /content/drive/My Drive/TASI/ModelImbalance/metrics.pt\n",
            "Epoch [8/8], Step [784/784], Train Loss: 0.0339, Valid Loss: 0.2701\n",
            "Model saved to ==> /content/drive/My Drive/TASI/ModelImbalance/metrics.pt\n",
            "Finished Training!\n"
          ]
        },
        {
          "output_type": "execute_result",
          "data": {
            "text/plain": [
              "([0.5569147743588808,\n",
              "  0.5942106660531492,\n",
              "  0.34214941685905265,\n",
              "  0.2278427814646643,\n",
              "  0.1568415032471625,\n",
              "  0.17076832977864814,\n",
              "  0.07037535535969905,\n",
              "  0.10841260783906494,\n",
              "  0.05378692743501493,\n",
              "  0.06501567031123809,\n",
              "  0.069736518483723,\n",
              "  0.0369546412186203,\n",
              "  0.033849213462398976,\n",
              "  0.02040242725432071,\n",
              "  0.020797599463400488,\n",
              "  0.033944456362906765],\n",
              " [0.6770446981702533,\n",
              "  0.39164004528096746,\n",
              "  0.3289433004600661,\n",
              "  0.3035717093651848,\n",
              "  0.23309911933860608,\n",
              "  0.27733918332627844,\n",
              "  0.14065399742685258,\n",
              "  0.2709677060899724,\n",
              "  0.33820879831910133,\n",
              "  0.2592645920147853,\n",
              "  0.2971390389887217,\n",
              "  0.3566618757072969,\n",
              "  0.07397193084554081,\n",
              "  0.15850608253718487,\n",
              "  0.06636517963072817,\n",
              "  0.2701055236060971],\n",
              " [49,\n",
              "  98,\n",
              "  147,\n",
              "  196,\n",
              "  245,\n",
              "  294,\n",
              "  343,\n",
              "  392,\n",
              "  441,\n",
              "  490,\n",
              "  539,\n",
              "  588,\n",
              "  637,\n",
              "  686,\n",
              "  735,\n",
              "  784],\n",
              " 0.06636517963072817)"
            ]
          },
          "metadata": {},
          "execution_count": 13
        }
      ],
      "source": [
        "model = BERT().to(device)\n",
        "optimizer = optim.Adam(model.parameters(), lr=2e-5)\n",
        "\n",
        "train(model=model, optimizer=optimizer)"
      ]
    },
    {
      "cell_type": "code",
      "execution_count": 14,
      "metadata": {
        "id": "aB-0Up2JSsCC",
        "colab": {
          "base_uri": "https://localhost:8080/",
          "height": 297
        },
        "outputId": "916b3ec2-d3b6-4dac-bacb-0dcc35b1d2f7"
      },
      "outputs": [
        {
          "output_type": "stream",
          "name": "stdout",
          "text": [
            "Model loaded from <== /content/drive/My Drive/TASI/ModelImbalance/metrics.pt\n"
          ]
        },
        {
          "output_type": "display_data",
          "data": {
            "text/plain": [
              "<Figure size 432x288 with 1 Axes>"
            ],
            "image/png": "[encoded data removed]"
          },
          "metadata": {
            "needs_background": "light"
          }
        }
      ],
      "source": [
        "train_loss_list, valid_loss_list, global_steps_list = load_metrics(destination_folder + '/metrics.pt')\n",
        "plt.plot(global_steps_list, train_loss_list, label='Train')\n",
        "plt.plot(global_steps_list, valid_loss_list, label='Valid')\n",
        "plt.xlabel('Global Steps')\n",
        "plt.ylabel('Loss')\n",
        "plt.legend()\n",
        "plt.show()"
      ]
    },
    {
      "cell_type": "markdown",
      "metadata": {
        "id": "2HlW7cvQaYvl"
      },
      "source": [
        "## Testing"
      ]
    },
    {
      "cell_type": "code",
      "execution_count": 15,
      "metadata": {
        "id": "uMcQfFEFS1AB",
        "colab": {
          "base_uri": "https://localhost:8080/",
          "height": 541
        },
        "outputId": "43c97446-b50b-420c-c15f-ae284d52d3bb"
      },
      "outputs": [
        {
          "output_type": "stream",
          "name": "stderr",
          "text": [
            "Some weights of BertForSequenceClassification were not initialized from the model checkpoint at indobenchmark/indobert-base-p1 and are newly initialized: ['classifier.bias', 'classifier.weight']\n",
            "You should probably TRAIN this model on a down-stream task to be able to use it for predictions and inference.\n"
          ]
        },
        {
          "output_type": "stream",
          "name": "stdout",
          "text": [
            "Model loaded from <== /content/drive/My Drive/TASI/ModelImbalance/model.pt\n",
            "Classification Report:\n",
            "              precision    recall  f1-score   support\n",
            "\n",
            "           1     0.9583    0.8440    0.8976       109\n",
            "           0     0.9289    0.9823    0.9548       226\n",
            "\n",
            "    accuracy                         0.9373       335\n",
            "   macro avg     0.9436    0.9132    0.9262       335\n",
            "weighted avg     0.9385    0.9373    0.9362       335\n",
            "\n"
          ]
        },
        {
          "output_type": "display_data",
          "data": {
            "text/plain": [
              "<Figure size 432x288 with 2 Axes>"
            ],
            "image/png": "[encoded data removed]"
          },
          "metadata": {
            "needs_background": "light"
          }
        }
      ],
      "source": [
        "# Evaluation Function\n",
        "\n",
        "def evaluate(model, test_loader):\n",
        "    y_pred = []\n",
        "    y_true = []\n",
        "\n",
        "    model.eval()\n",
        "    with torch.no_grad():\n",
        "        for(labels, title, text), _ in test_loader:\n",
        "\n",
        "                labels = labels.type(torch.LongTensor)           \n",
        "                labels = labels.to(device)\n",
        "                text = text.type(torch.LongTensor)  \n",
        "                text = text.to(device)\n",
        "                output = model(text, labels)\n",
        "\n",
        "                _, output = output\n",
        "                y_pred.extend(torch.argmax(output, 1).tolist())\n",
        "                y_true.extend(labels.tolist())\n",
        "    \n",
        "    print('Classification Report:')\n",
        "    print(classification_report(y_true, y_pred, labels=[1,0], digits=4))\n",
        "    \n",
        "    cm = confusion_matrix(y_true, y_pred, labels=[1,0])\n",
        "    ax= plt.subplot()\n",
        "    sns.heatmap(cm, annot=True, ax = ax, cmap='Blues', fmt=\"d\")\n",
        "\n",
        "    ax.set_title('Confusion Matrix')\n",
        "\n",
        "    ax.set_xlabel('Predicted Labels')\n",
        "    ax.set_ylabel('True Labels')\n",
        "\n",
        "    ax.xaxis.set_ticklabels(['HOAX', 'REAL'])\n",
        "    ax.yaxis.set_ticklabels(['HOAX', 'REAL'])\n",
        "\n",
        "best_model = BERT().to(device)\n",
        "\n",
        "load_checkpoint(destination_folder + '/model.pt', best_model)\n",
        "\n",
        "evaluate(best_model, test_iter)"
      ]
    },
    {
      "cell_type": "markdown",
      "metadata": {
        "id": "lH-ndpu-LdhU"
      },
      "source": [
        "##Hyperparameter Tuning with Import Grid"
      ]
    },
    {
      "cell_type": "code",
      "execution_count": 16,
      "metadata": {
        "id": "BTVEwsVECsNB",
        "colab": {
          "base_uri": "https://localhost:8080/"
        },
        "outputId": "4f44ec4a-bfbd-47ba-aea4-fbbeaaee8869"
      },
      "outputs": [
        {
          "output_type": "stream",
          "name": "stdout",
          "text": [
            "Looking in indexes: https://pypi.org/simple, https://us-python.pkg.dev/colab-wheels/public/simple/\n",
            "Collecting optuna\n",
            "  Downloading optuna-3.1.0-py3-none-any.whl (365 kB)\n",
            "\u001b[2K     \u001b[90m━━━━━━━━━━━━━━━━━━━━━━━━━━━━━━━━━━━━━━\u001b[0m \u001b[32m365.3/365.3 KB\u001b[0m \u001b[31m15.9 MB/s\u001b[0m eta \u001b[36m0:00:00\u001b[0m\n",
            "\u001b[?25hRequirement already satisfied: tqdm in /usr/local/lib/python3.9/dist-packages (from optuna) (4.65.0)\n",
            "Requirement already satisfied: numpy in /usr/local/lib/python3.9/dist-packages (from optuna) (1.22.4)\n",
            "Requirement already satisfied: packaging>=20.0 in /usr/local/lib/python3.9/dist-packages (from optuna) (23.0)\n",
            "Requirement already satisfied: sqlalchemy>=1.3.0 in /usr/local/lib/python3.9/dist-packages (from optuna) (1.4.46)\n",
            "Collecting colorlog\n",
            "  Downloading colorlog-6.7.0-py2.py3-none-any.whl (11 kB)\n",
            "Collecting alembic>=1.5.0\n",
            "  Downloading alembic-1.10.2-py3-none-any.whl (212 kB)\n",
            "\u001b[2K     \u001b[90m━━━━━━━━━━━━━━━━━━━━━━━━━━━━━━━━━━━━━━\u001b[0m \u001b[32m212.2/212.2 KB\u001b[0m \u001b[31m21.8 MB/s\u001b[0m eta \u001b[36m0:00:00\u001b[0m\n",
            "\u001b[?25hRequirement already satisfied: PyYAML in /usr/local/lib/python3.9/dist-packages (from optuna) (6.0)\n",
            "Collecting cmaes>=0.9.1\n",
            "  Downloading cmaes-0.9.1-py3-none-any.whl (21 kB)\n",
            "Collecting Mako\n",
            "  Downloading Mako-1.2.4-py3-none-any.whl (78 kB)\n",
            "\u001b[2K     \u001b[90m━━━━━━━━━━━━━━━━━━━━━━━━━━━━━━━━━━━━━━━━\u001b[0m \u001b[32m78.7/78.7 KB\u001b[0m \u001b[31m8.3 MB/s\u001b[0m eta \u001b[36m0:00:00\u001b[0m\n",
            "\u001b[?25hRequirement already satisfied: typing-extensions>=4 in /usr/local/lib/python3.9/dist-packages (from alembic>=1.5.0->optuna) (4.5.0)\n",
            "Requirement already satisfied: greenlet!=0.4.17 in /usr/local/lib/python3.9/dist-packages (from sqlalchemy>=1.3.0->optuna) (2.0.2)\n",
            "Requirement already satisfied: MarkupSafe>=0.9.2 in /usr/local/lib/python3.9/dist-packages (from Mako->alembic>=1.5.0->optuna) (2.1.2)\n",
            "Installing collected packages: Mako, colorlog, cmaes, alembic, optuna\n",
            "Successfully installed Mako-1.2.4 alembic-1.10.2 cmaes-0.9.1 colorlog-6.7.0 optuna-3.1.0\n"
          ]
        }
      ],
      "source": [
        "!pip install optuna"
      ]
    },
    {
      "cell_type": "code",
      "execution_count": 17,
      "metadata": {
        "id": "FB2AvVySLm8c",
        "colab": {
          "base_uri": "https://localhost:8080/"
        },
        "outputId": "42d6e738-8758-46c3-e718-fd11b59e0d9e"
      },
      "outputs": [
        {
          "metadata": {
            "tags": null
          },
          "name": "stderr",
          "output_type": "stream",
          "text": [
            "\u001b[32m[I 2023-03-22 13:44:50,227]\u001b[0m A new study created in memory with name: no-name-67c9eeb1-f1ac-434c-948b-cf9a2f68a635\u001b[0m\n",
            "Some weights of BertForSequenceClassification were not initialized from the model checkpoint at indobenchmark/indobert-base-p1 and are newly initialized: ['classifier.bias', 'classifier.weight']\n",
            "You should probably TRAIN this model on a down-stream task to be able to use it for predictions and inference.\n"
          ]
        },
        {
          "metadata": {
            "tags": null
          },
          "name": "stdout",
          "output_type": "stream",
          "text": [
            "Epoch [1/2], Step [49/196], Train Loss: 0.5327, Valid Loss: 0.7628\n",
            "Model saved to ==> /content/drive/My Drive/TASI/ModelImbalance/model.pt\n",
            "Model saved to ==> /content/drive/My Drive/TASI/ModelImbalance/metrics.pt\n",
            "Epoch [1/2], Step [98/196], Train Loss: 0.5682, Valid Loss: 0.4549\n",
            "Model saved to ==> /content/drive/My Drive/TASI/ModelImbalance/model.pt\n",
            "Model saved to ==> /content/drive/My Drive/TASI/ModelImbalance/metrics.pt\n",
            "Epoch [2/2], Step [147/196], Train Loss: 0.2900, Valid Loss: 0.1694\n",
            "Model saved to ==> /content/drive/My Drive/TASI/ModelImbalance/model.pt\n",
            "Model saved to ==> /content/drive/My Drive/TASI/ModelImbalance/metrics.pt\n",
            "Epoch [2/2], Step [196/196], Train Loss: 0.2338, Valid Loss: 0.1884\n",
            "Model saved to ==> /content/drive/My Drive/TASI/ModelImbalance/metrics.pt\n",
            "Finished Training!\n"
          ]
        },
        {
          "metadata": {
            "tags": null
          },
          "name": "stderr",
          "output_type": "stream",
          "text": [
            "\u001b[32m[I 2023-03-22 13:45:54,557]\u001b[0m Trial 0 finished with value: 0.16939889333610023 and parameters: {'lr': 5e-05, 'num_epochs': 2, 'batch_size': 4}. Best is trial 0 with value: 0.16939889333610023.\u001b[0m\n",
            "Some weights of BertForSequenceClassification were not initialized from the model checkpoint at indobenchmark/indobert-base-p1 and are newly initialized: ['classifier.bias', 'classifier.weight']\n",
            "You should probably TRAIN this model on a down-stream task to be able to use it for predictions and inference.\n"
          ]
        },
        {
          "metadata": {
            "tags": null
          },
          "name": "stdout",
          "output_type": "stream",
          "text": [
            "Epoch [1/4], Step [49/392], Train Loss: 0.4883, Valid Loss: 0.4194\n",
            "Model saved to ==> /content/drive/My Drive/TASI/ModelImbalance/model.pt\n",
            "Model saved to ==> /content/drive/My Drive/TASI/ModelImbalance/metrics.pt\n",
            "Epoch [1/4], Step [98/392], Train Loss: 0.4523, Valid Loss: 0.3165\n",
            "Model saved to ==> /content/drive/My Drive/TASI/ModelImbalance/model.pt\n",
            "Model saved to ==> /content/drive/My Drive/TASI/ModelImbalance/metrics.pt\n",
            "Epoch [2/4], Step [147/392], Train Loss: 0.2044, Valid Loss: 0.2013\n",
            "Model saved to ==> /content/drive/My Drive/TASI/ModelImbalance/model.pt\n",
            "Model saved to ==> /content/drive/My Drive/TASI/ModelImbalance/metrics.pt\n",
            "Epoch [2/4], Step [196/392], Train Loss: 0.1835, Valid Loss: 0.1924\n",
            "Model saved to ==> /content/drive/My Drive/TASI/ModelImbalance/model.pt\n",
            "Model saved to ==> /content/drive/My Drive/TASI/ModelImbalance/metrics.pt\n",
            "Epoch [3/4], Step [245/392], Train Loss: 0.0997, Valid Loss: 0.2952\n",
            "Epoch [3/4], Step [294/392], Train Loss: 0.1383, Valid Loss: 0.2805\n",
            "Epoch [4/4], Step [343/392], Train Loss: 0.0760, Valid Loss: 0.1359\n",
            "Model saved to ==> /content/drive/My Drive/TASI/ModelImbalance/model.pt\n",
            "Model saved to ==> /content/drive/My Drive/TASI/ModelImbalance/metrics.pt\n",
            "Epoch [4/4], Step [392/392], Train Loss: 0.0572, Valid Loss: 0.3829\n",
            "Model saved to ==> /content/drive/My Drive/TASI/ModelImbalance/metrics.pt\n",
            "Finished Training!\n"
          ]
        },
        {
          "metadata": {
            "tags": null
          },
          "name": "stderr",
          "output_type": "stream",
          "text": [
            "\u001b[32m[I 2023-03-22 13:47:53,972]\u001b[0m Trial 1 finished with value: 0.13586455793119967 and parameters: {'lr': 4e-05, 'num_epochs': 4, 'batch_size': 16}. Best is trial 0 with value: 0.16939889333610023.\u001b[0m\n",
            "Some weights of BertForSequenceClassification were not initialized from the model checkpoint at indobenchmark/indobert-base-p1 and are newly initialized: ['classifier.bias', 'classifier.weight']\n",
            "You should probably TRAIN this model on a down-stream task to be able to use it for predictions and inference.\n"
          ]
        },
        {
          "metadata": {
            "tags": null
          },
          "name": "stdout",
          "output_type": "stream",
          "text": [
            "Epoch [1/3], Step [49/294], Train Loss: 0.5104, Valid Loss: 0.7284\n",
            "Model saved to ==> /content/drive/My Drive/TASI/ModelImbalance/model.pt\n",
            "Model saved to ==> /content/drive/My Drive/TASI/ModelImbalance/metrics.pt\n",
            "Epoch [1/3], Step [98/294], Train Loss: 0.5056, Valid Loss: 0.3260\n",
            "Model saved to ==> /content/drive/My Drive/TASI/ModelImbalance/model.pt\n",
            "Model saved to ==> /content/drive/My Drive/TASI/ModelImbalance/metrics.pt\n",
            "Epoch [2/3], Step [147/294], Train Loss: 0.2513, Valid Loss: 0.1964\n",
            "Model saved to ==> /content/drive/My Drive/TASI/ModelImbalance/model.pt\n",
            "Model saved to ==> /content/drive/My Drive/TASI/ModelImbalance/metrics.pt\n",
            "Epoch [2/3], Step [196/294], Train Loss: 0.2116, Valid Loss: 0.2336\n",
            "Epoch [3/3], Step [245/294], Train Loss: 0.1190, Valid Loss: 0.2000\n",
            "Epoch [3/3], Step [294/294], Train Loss: 0.1196, Valid Loss: 0.1541\n"
          ]
        },
        {
          "metadata": {
            "tags": null
          },
          "name": "stderr",
          "output_type": "stream",
          "text": [
            "\u001b[32m[I 2023-03-22 13:49:23,938]\u001b[0m Trial 2 finished with value: 0.1540558148242001 and parameters: {'lr': 3e-05, 'num_epochs': 3, 'batch_size': 8}. Best is trial 0 with value: 0.16939889333610023.\u001b[0m\n"
          ]
        },
        {
          "metadata": {
            "tags": null
          },
          "name": "stdout",
          "output_type": "stream",
          "text": [
            "Model saved to ==> /content/drive/My Drive/TASI/ModelImbalance/model.pt\n",
            "Model saved to ==> /content/drive/My Drive/TASI/ModelImbalance/metrics.pt\n",
            "Model saved to ==> /content/drive/My Drive/TASI/ModelImbalance/metrics.pt\n",
            "Finished Training!\n"
          ]
        },
        {
          "metadata": {
            "tags": null
          },
          "name": "stderr",
          "output_type": "stream",
          "text": [
            "Some weights of BertForSequenceClassification were not initialized from the model checkpoint at indobenchmark/indobert-base-p1 and are newly initialized: ['classifier.bias', 'classifier.weight']\n",
            "You should probably TRAIN this model on a down-stream task to be able to use it for predictions and inference.\n"
          ]
        },
        {
          "metadata": {
            "tags": null
          },
          "name": "stdout",
          "output_type": "stream",
          "text": [
            "Epoch [1/4], Step [49/392], Train Loss: 0.5322, Valid Loss: 0.7985\n",
            "Model saved to ==> /content/drive/My Drive/TASI/ModelImbalance/model.pt\n",
            "Model saved to ==> /content/drive/My Drive/TASI/ModelImbalance/metrics.pt\n",
            "Epoch [1/4], Step [98/392], Train Loss: 0.4973, Valid Loss: 0.3781\n",
            "Model saved to ==> /content/drive/My Drive/TASI/ModelImbalance/model.pt\n",
            "Model saved to ==> /content/drive/My Drive/TASI/ModelImbalance/metrics.pt\n",
            "Epoch [2/4], Step [147/392], Train Loss: 0.3380, Valid Loss: 0.3036\n",
            "Model saved to ==> /content/drive/My Drive/TASI/ModelImbalance/model.pt\n",
            "Model saved to ==> /content/drive/My Drive/TASI/ModelImbalance/metrics.pt\n",
            "Epoch [2/4], Step [196/392], Train Loss: 0.3418, Valid Loss: 0.3170\n",
            "Epoch [3/4], Step [245/392], Train Loss: 0.2908, Valid Loss: 0.3861\n",
            "Epoch [3/4], Step [294/392], Train Loss: 0.3172, Valid Loss: 0.3601\n",
            "Epoch [4/4], Step [343/392], Train Loss: 0.2525, Valid Loss: 0.2570\n",
            "Model saved to ==> /content/drive/My Drive/TASI/ModelImbalance/model.pt\n",
            "Model saved to ==> /content/drive/My Drive/TASI/ModelImbalance/metrics.pt\n"
          ]
        },
        {
          "metadata": {
            "tags": null
          },
          "name": "stderr",
          "output_type": "stream",
          "text": [
            "\u001b[32m[I 2023-03-22 13:51:17,545]\u001b[0m Trial 3 finished with value: 0.2569669922813773 and parameters: {'lr': 4e-05, 'num_epochs': 4, 'batch_size': 4}. Best is trial 3 with value: 0.2569669922813773.\u001b[0m\n"
          ]
        },
        {
          "metadata": {
            "tags": null
          },
          "name": "stdout",
          "output_type": "stream",
          "text": [
            "Epoch [4/4], Step [392/392], Train Loss: 0.2117, Valid Loss: 0.5253\n",
            "Model saved to ==> /content/drive/My Drive/TASI/ModelImbalance/metrics.pt\n",
            "Finished Training!\n"
          ]
        },
        {
          "metadata": {
            "tags": null
          },
          "name": "stderr",
          "output_type": "stream",
          "text": [
            "Some weights of BertForSequenceClassification were not initialized from the model checkpoint at indobenchmark/indobert-base-p1 and are newly initialized: ['classifier.bias', 'classifier.weight']\n",
            "You should probably TRAIN this model on a down-stream task to be able to use it for predictions and inference.\n"
          ]
        },
        {
          "metadata": {
            "tags": null
          },
          "name": "stdout",
          "output_type": "stream",
          "text": [
            "Epoch [1/2], Step [49/196], Train Loss: 0.5350, Valid Loss: 0.6671\n",
            "Model saved to ==> /content/drive/My Drive/TASI/ModelImbalance/model.pt\n",
            "Model saved to ==> /content/drive/My Drive/TASI/ModelImbalance/metrics.pt\n",
            "Epoch [1/2], Step [98/196], Train Loss: 0.5017, Valid Loss: 0.3179\n",
            "Model saved to ==> /content/drive/My Drive/TASI/ModelImbalance/model.pt\n",
            "Model saved to ==> /content/drive/My Drive/TASI/ModelImbalance/metrics.pt\n",
            "Epoch [2/2], Step [147/196], Train Loss: 0.2062, Valid Loss: 0.1602\n",
            "Model saved to ==> /content/drive/My Drive/TASI/ModelImbalance/model.pt\n",
            "Model saved to ==> /content/drive/My Drive/TASI/ModelImbalance/metrics.pt\n"
          ]
        },
        {
          "metadata": {
            "tags": null
          },
          "name": "stderr",
          "output_type": "stream",
          "text": [
            "\u001b[32m[I 2023-03-22 13:52:17,426]\u001b[0m Trial 4 finished with value: 0.16020441999925034 and parameters: {'lr': 2e-05, 'num_epochs': 2, 'batch_size': 16}. Best is trial 3 with value: 0.2569669922813773.\u001b[0m\n"
          ]
        },
        {
          "metadata": {
            "tags": null
          },
          "name": "stdout",
          "output_type": "stream",
          "text": [
            "Epoch [2/2], Step [196/196], Train Loss: 0.1964, Valid Loss: 0.1725\n",
            "Model saved to ==> /content/drive/My Drive/TASI/ModelImbalance/metrics.pt\n",
            "Finished Training!\n"
          ]
        },
        {
          "metadata": {
            "tags": null
          },
          "name": "stderr",
          "output_type": "stream",
          "text": [
            "Some weights of BertForSequenceClassification were not initialized from the model checkpoint at indobenchmark/indobert-base-p1 and are newly initialized: ['classifier.bias', 'classifier.weight']\n",
            "You should probably TRAIN this model on a down-stream task to be able to use it for predictions and inference.\n"
          ]
        },
        {
          "metadata": {
            "tags": null
          },
          "name": "stdout",
          "output_type": "stream",
          "text": [
            "Epoch [1/4], Step [49/392], Train Loss: 0.5516, Valid Loss: 0.7321\n",
            "Model saved to ==> /content/drive/My Drive/TASI/ModelImbalance/model.pt\n",
            "Model saved to ==> /content/drive/My Drive/TASI/ModelImbalance/metrics.pt\n",
            "Epoch [1/4], Step [98/392], Train Loss: 0.7091, Valid Loss: 0.7379\n",
            "Epoch [2/4], Step [147/392], Train Loss: 0.5815, Valid Loss: 0.6386\n",
            "Model saved to ==> /content/drive/My Drive/TASI/ModelImbalance/model.pt\n",
            "Model saved to ==> /content/drive/My Drive/TASI/ModelImbalance/metrics.pt\n",
            "Epoch [2/4], Step [196/392], Train Loss: 0.7231, Valid Loss: 0.6417\n",
            "Epoch [3/4], Step [245/392], Train Loss: 0.5170, Valid Loss: 0.7497\n",
            "Epoch [3/4], Step [294/392], Train Loss: 0.4550, Valid Loss: 0.6027\n",
            "Model saved to ==> /content/drive/My Drive/TASI/ModelImbalance/model.pt\n",
            "Model saved to ==> /content/drive/My Drive/TASI/ModelImbalance/metrics.pt\n",
            "Epoch [4/4], Step [343/392], Train Loss: 0.3022, Valid Loss: 0.2364\n",
            "Model saved to ==> /content/drive/My Drive/TASI/ModelImbalance/model.pt\n",
            "Model saved to ==> /content/drive/My Drive/TASI/ModelImbalance/metrics.pt\n"
          ]
        },
        {
          "metadata": {
            "tags": null
          },
          "name": "stderr",
          "output_type": "stream",
          "text": [
            "\u001b[32m[I 2023-03-22 13:54:11,489]\u001b[0m Trial 5 finished with value: 0.23635012722973311 and parameters: {'lr': 4e-05, 'num_epochs': 4, 'batch_size': 32}. Best is trial 3 with value: 0.2569669922813773.\u001b[0m\n"
          ]
        },
        {
          "metadata": {
            "tags": null
          },
          "name": "stdout",
          "output_type": "stream",
          "text": [
            "Epoch [4/4], Step [392/392], Train Loss: 0.2725, Valid Loss: 0.4427\n",
            "Model saved to ==> /content/drive/My Drive/TASI/ModelImbalance/metrics.pt\n",
            "Finished Training!\n"
          ]
        },
        {
          "metadata": {
            "tags": null
          },
          "name": "stderr",
          "output_type": "stream",
          "text": [
            "Some weights of BertForSequenceClassification were not initialized from the model checkpoint at indobenchmark/indobert-base-p1 and are newly initialized: ['classifier.bias', 'classifier.weight']\n",
            "You should probably TRAIN this model on a down-stream task to be able to use it for predictions and inference.\n"
          ]
        },
        {
          "metadata": {
            "tags": null
          },
          "name": "stdout",
          "output_type": "stream",
          "text": [
            "Epoch [1/3], Step [49/294], Train Loss: 0.5226, Valid Loss: 0.5071\n",
            "Model saved to ==> /content/drive/My Drive/TASI/ModelImbalance/model.pt\n",
            "Model saved to ==> /content/drive/My Drive/TASI/ModelImbalance/metrics.pt\n",
            "Epoch [1/3], Step [98/294], Train Loss: 0.4587, Valid Loss: 0.4506\n",
            "Model saved to ==> /content/drive/My Drive/TASI/ModelImbalance/model.pt\n",
            "Model saved to ==> /content/drive/My Drive/TASI/ModelImbalance/metrics.pt\n",
            "Epoch [2/3], Step [147/294], Train Loss: 0.2348, Valid Loss: 0.1768\n",
            "Model saved to ==> /content/drive/My Drive/TASI/ModelImbalance/model.pt\n",
            "Model saved to ==> /content/drive/My Drive/TASI/ModelImbalance/metrics.pt\n",
            "Epoch [2/3], Step [196/294], Train Loss: 0.2551, Valid Loss: 0.3561\n",
            "Epoch [3/3], Step [245/294], Train Loss: 0.1905, Valid Loss: 0.1713\n",
            "Model saved to ==> /content/drive/My Drive/TASI/ModelImbalance/model.pt\n",
            "Model saved to ==> /content/drive/My Drive/TASI/ModelImbalance/metrics.pt\n"
          ]
        },
        {
          "metadata": {
            "tags": null
          },
          "name": "stderr",
          "output_type": "stream",
          "text": [
            "\u001b[32m[I 2023-03-22 13:55:40,041]\u001b[0m Trial 6 finished with value: 0.17126670277710737 and parameters: {'lr': 5e-05, 'num_epochs': 3, 'batch_size': 32}. Best is trial 3 with value: 0.2569669922813773.\u001b[0m\n"
          ]
        },
        {
          "metadata": {
            "tags": null
          },
          "name": "stdout",
          "output_type": "stream",
          "text": [
            "Epoch [3/3], Step [294/294], Train Loss: 0.1505, Valid Loss: 0.2404\n",
            "Model saved to ==> /content/drive/My Drive/TASI/ModelImbalance/metrics.pt\n",
            "Finished Training!\n"
          ]
        },
        {
          "metadata": {
            "tags": null
          },
          "name": "stderr",
          "output_type": "stream",
          "text": [
            "Some weights of BertForSequenceClassification were not initialized from the model checkpoint at indobenchmark/indobert-base-p1 and are newly initialized: ['classifier.bias', 'classifier.weight']\n",
            "You should probably TRAIN this model on a down-stream task to be able to use it for predictions and inference.\n"
          ]
        },
        {
          "metadata": {
            "tags": null
          },
          "name": "stdout",
          "output_type": "stream",
          "text": [
            "Epoch [1/4], Step [49/392], Train Loss: 0.5313, Valid Loss: 0.6671\n",
            "Model saved to ==> /content/drive/My Drive/TASI/ModelImbalance/model.pt\n",
            "Model saved to ==> /content/drive/My Drive/TASI/ModelImbalance/metrics.pt\n",
            "Epoch [1/4], Step [98/392], Train Loss: 0.5543, Valid Loss: 0.3970\n",
            "Model saved to ==> /content/drive/My Drive/TASI/ModelImbalance/model.pt\n",
            "Model saved to ==> /content/drive/My Drive/TASI/ModelImbalance/metrics.pt\n",
            "Epoch [2/4], Step [147/392], Train Loss: 0.2667, Valid Loss: 0.2193\n",
            "Model saved to ==> /content/drive/My Drive/TASI/ModelImbalance/model.pt\n",
            "Model saved to ==> /content/drive/My Drive/TASI/ModelImbalance/metrics.pt\n",
            "Epoch [2/4], Step [196/392], Train Loss: 0.2306, Valid Loss: 0.3487\n",
            "Epoch [3/4], Step [245/392], Train Loss: 0.1439, Valid Loss: 0.1731\n",
            "Model saved to ==> /content/drive/My Drive/TASI/ModelImbalance/model.pt\n",
            "Model saved to ==> /content/drive/My Drive/TASI/ModelImbalance/metrics.pt\n",
            "Epoch [3/4], Step [294/392], Train Loss: 0.1509, Valid Loss: 0.2420\n",
            "Epoch [4/4], Step [343/392], Train Loss: 0.0917, Valid Loss: 0.1503\n",
            "Model saved to ==> /content/drive/My Drive/TASI/ModelImbalance/model.pt\n",
            "Model saved to ==> /content/drive/My Drive/TASI/ModelImbalance/metrics.pt\n"
          ]
        },
        {
          "metadata": {
            "tags": null
          },
          "name": "stderr",
          "output_type": "stream",
          "text": [
            "\u001b[32m[I 2023-03-22 13:57:37,716]\u001b[0m Trial 7 finished with value: 0.1502758649127957 and parameters: {'lr': 3e-05, 'num_epochs': 4, 'batch_size': 32}. Best is trial 3 with value: 0.2569669922813773.\u001b[0m\n"
          ]
        },
        {
          "metadata": {
            "tags": null
          },
          "name": "stdout",
          "output_type": "stream",
          "text": [
            "Epoch [4/4], Step [392/392], Train Loss: 0.1190, Valid Loss: 0.2750\n",
            "Model saved to ==> /content/drive/My Drive/TASI/ModelImbalance/metrics.pt\n",
            "Finished Training!\n"
          ]
        },
        {
          "metadata": {
            "tags": null
          },
          "name": "stderr",
          "output_type": "stream",
          "text": [
            "Some weights of BertForSequenceClassification were not initialized from the model checkpoint at indobenchmark/indobert-base-p1 and are newly initialized: ['classifier.bias', 'classifier.weight']\n",
            "You should probably TRAIN this model on a down-stream task to be able to use it for predictions and inference.\n"
          ]
        },
        {
          "metadata": {
            "tags": null
          },
          "name": "stdout",
          "output_type": "stream",
          "text": [
            "Epoch [1/2], Step [49/196], Train Loss: 0.5360, Valid Loss: 0.7363\n",
            "Model saved to ==> /content/drive/My Drive/TASI/ModelImbalance/model.pt\n",
            "Model saved to ==> /content/drive/My Drive/TASI/ModelImbalance/metrics.pt\n",
            "Epoch [1/2], Step [98/196], Train Loss: 0.6590, Valid Loss: 0.6683\n",
            "Model saved to ==> /content/drive/My Drive/TASI/ModelImbalance/model.pt\n",
            "Model saved to ==> /content/drive/My Drive/TASI/ModelImbalance/metrics.pt\n",
            "Epoch [2/2], Step [147/196], Train Loss: 0.3429, Valid Loss: 0.1704\n",
            "Model saved to ==> /content/drive/My Drive/TASI/ModelImbalance/model.pt\n",
            "Model saved to ==> /content/drive/My Drive/TASI/ModelImbalance/metrics.pt\n"
          ]
        },
        {
          "metadata": {
            "tags": null
          },
          "name": "stderr",
          "output_type": "stream",
          "text": [
            "\u001b[32m[I 2023-03-22 13:58:37,762]\u001b[0m Trial 8 finished with value: 0.17039384303747543 and parameters: {'lr': 3e-05, 'num_epochs': 2, 'batch_size': 4}. Best is trial 3 with value: 0.2569669922813773.\u001b[0m\n"
          ]
        },
        {
          "metadata": {
            "tags": null
          },
          "name": "stdout",
          "output_type": "stream",
          "text": [
            "Epoch [2/2], Step [196/196], Train Loss: 0.2603, Valid Loss: 0.2933\n",
            "Model saved to ==> /content/drive/My Drive/TASI/ModelImbalance/metrics.pt\n",
            "Finished Training!\n"
          ]
        },
        {
          "metadata": {
            "tags": null
          },
          "name": "stderr",
          "output_type": "stream",
          "text": [
            "Some weights of BertForSequenceClassification were not initialized from the model checkpoint at indobenchmark/indobert-base-p1 and are newly initialized: ['classifier.bias', 'classifier.weight']\n",
            "You should probably TRAIN this model on a down-stream task to be able to use it for predictions and inference.\n"
          ]
        },
        {
          "metadata": {
            "tags": null
          },
          "name": "stdout",
          "output_type": "stream",
          "text": [
            "Epoch [1/4], Step [49/392], Train Loss: 0.5356, Valid Loss: 0.7811\n",
            "Model saved to ==> /content/drive/My Drive/TASI/ModelImbalance/model.pt\n",
            "Model saved to ==> /content/drive/My Drive/TASI/ModelImbalance/metrics.pt\n",
            "Epoch [1/4], Step [98/392], Train Loss: 0.7081, Valid Loss: 0.6635\n",
            "Model saved to ==> /content/drive/My Drive/TASI/ModelImbalance/model.pt\n",
            "Model saved to ==> /content/drive/My Drive/TASI/ModelImbalance/metrics.pt\n",
            "Epoch [2/4], Step [147/392], Train Loss: 0.5660, Valid Loss: 0.6039\n",
            "Model saved to ==> /content/drive/My Drive/TASI/ModelImbalance/model.pt\n",
            "Model saved to ==> /content/drive/My Drive/TASI/ModelImbalance/metrics.pt\n",
            "Epoch [2/4], Step [196/392], Train Loss: 0.4189, Valid Loss: 0.3970\n",
            "Model saved to ==> /content/drive/My Drive/TASI/ModelImbalance/model.pt\n",
            "Model saved to ==> /content/drive/My Drive/TASI/ModelImbalance/metrics.pt\n",
            "Epoch [3/4], Step [245/392], Train Loss: 0.2260, Valid Loss: 0.1515\n",
            "Model saved to ==> /content/drive/My Drive/TASI/ModelImbalance/model.pt\n",
            "Model saved to ==> /content/drive/My Drive/TASI/ModelImbalance/metrics.pt\n",
            "Epoch [3/4], Step [294/392], Train Loss: 0.2503, Valid Loss: 0.3038\n",
            "Epoch [4/4], Step [343/392], Train Loss: 0.1310, Valid Loss: 0.1787\n"
          ]
        },
        {
          "metadata": {
            "tags": null
          },
          "name": "stderr",
          "output_type": "stream",
          "text": [
            "\u001b[32m[I 2023-03-22 14:00:35,089]\u001b[0m Trial 9 finished with value: 0.1514642205355423 and parameters: {'lr': 4e-05, 'num_epochs': 4, 'batch_size': 8}. Best is trial 3 with value: 0.2569669922813773.\u001b[0m\n"
          ]
        },
        {
          "metadata": {
            "tags": null
          },
          "name": "stdout",
          "output_type": "stream",
          "text": [
            "Epoch [4/4], Step [392/392], Train Loss: 0.1581, Valid Loss: 0.2764\n",
            "Model saved to ==> /content/drive/My Drive/TASI/ModelImbalance/metrics.pt\n",
            "Finished Training!\n"
          ]
        },
        {
          "metadata": {
            "tags": null
          },
          "name": "stderr",
          "output_type": "stream",
          "text": [
            "Some weights of BertForSequenceClassification were not initialized from the model checkpoint at indobenchmark/indobert-base-p1 and are newly initialized: ['classifier.bias', 'classifier.weight']\n",
            "You should probably TRAIN this model on a down-stream task to be able to use it for predictions and inference.\n"
          ]
        },
        {
          "metadata": {
            "tags": null
          },
          "name": "stdout",
          "output_type": "stream",
          "text": [
            "Epoch [1/4], Step [49/392], Train Loss: 0.5313, Valid Loss: 0.5563\n",
            "Model saved to ==> /content/drive/My Drive/TASI/ModelImbalance/model.pt\n",
            "Model saved to ==> /content/drive/My Drive/TASI/ModelImbalance/metrics.pt\n",
            "Epoch [1/4], Step [98/392], Train Loss: 0.4091, Valid Loss: 0.2557\n",
            "Model saved to ==> /content/drive/My Drive/TASI/ModelImbalance/model.pt\n",
            "Model saved to ==> /content/drive/My Drive/TASI/ModelImbalance/metrics.pt\n",
            "Epoch [2/4], Step [147/392], Train Loss: 0.2286, Valid Loss: 0.1849\n",
            "Model saved to ==> /content/drive/My Drive/TASI/ModelImbalance/model.pt\n",
            "Model saved to ==> /content/drive/My Drive/TASI/ModelImbalance/metrics.pt\n",
            "Epoch [2/4], Step [196/392], Train Loss: 0.1570, Valid Loss: 0.1381\n",
            "Model saved to ==> /content/drive/My Drive/TASI/ModelImbalance/model.pt\n",
            "Model saved to ==> /content/drive/My Drive/TASI/ModelImbalance/metrics.pt\n",
            "Epoch [3/4], Step [245/392], Train Loss: 0.0933, Valid Loss: 0.2094\n",
            "Epoch [3/4], Step [294/392], Train Loss: 0.1096, Valid Loss: 0.2102\n",
            "Epoch [4/4], Step [343/392], Train Loss: 0.1079, Valid Loss: 0.2320\n"
          ]
        },
        {
          "metadata": {
            "tags": null
          },
          "name": "stderr",
          "output_type": "stream",
          "text": [
            "\u001b[32m[I 2023-03-22 14:02:28,813]\u001b[0m Trial 10 finished with value: 0.13812003105080553 and parameters: {'lr': 2e-05, 'num_epochs': 4, 'batch_size': 16}. Best is trial 3 with value: 0.2569669922813773.\u001b[0m\n"
          ]
        },
        {
          "metadata": {
            "tags": null
          },
          "name": "stdout",
          "output_type": "stream",
          "text": [
            "Epoch [4/4], Step [392/392], Train Loss: 0.0915, Valid Loss: 0.4003\n",
            "Model saved to ==> /content/drive/My Drive/TASI/ModelImbalance/metrics.pt\n",
            "Finished Training!\n"
          ]
        },
        {
          "metadata": {
            "tags": null
          },
          "name": "stderr",
          "output_type": "stream",
          "text": [
            "Some weights of BertForSequenceClassification were not initialized from the model checkpoint at indobenchmark/indobert-base-p1 and are newly initialized: ['classifier.bias', 'classifier.weight']\n",
            "You should probably TRAIN this model on a down-stream task to be able to use it for predictions and inference.\n"
          ]
        },
        {
          "metadata": {
            "tags": null
          },
          "name": "stdout",
          "output_type": "stream",
          "text": [
            "Epoch [1/2], Step [49/196], Train Loss: 0.5101, Valid Loss: 0.6377\n",
            "Model saved to ==> /content/drive/My Drive/TASI/ModelImbalance/model.pt\n",
            "Model saved to ==> /content/drive/My Drive/TASI/ModelImbalance/metrics.pt\n",
            "Epoch [1/2], Step [98/196], Train Loss: 0.5020, Valid Loss: 0.9670\n",
            "Epoch [2/2], Step [147/196], Train Loss: 0.3488, Valid Loss: 0.3431\n",
            "Model saved to ==> /content/drive/My Drive/TASI/ModelImbalance/model.pt\n",
            "Model saved to ==> /content/drive/My Drive/TASI/ModelImbalance/metrics.pt\n"
          ]
        },
        {
          "metadata": {
            "tags": null
          },
          "name": "stderr",
          "output_type": "stream",
          "text": [
            "\u001b[32m[I 2023-03-22 14:03:26,323]\u001b[0m Trial 11 finished with value: 0.34308413875156213 and parameters: {'lr': 5e-05, 'num_epochs': 2, 'batch_size': 32}. Best is trial 11 with value: 0.34308413875156213.\u001b[0m\n"
          ]
        },
        {
          "metadata": {
            "tags": null
          },
          "name": "stdout",
          "output_type": "stream",
          "text": [
            "Epoch [2/2], Step [196/196], Train Loss: 0.3432, Valid Loss: 0.5228\n",
            "Model saved to ==> /content/drive/My Drive/TASI/ModelImbalance/metrics.pt\n",
            "Finished Training!\n"
          ]
        },
        {
          "metadata": {
            "tags": null
          },
          "name": "stderr",
          "output_type": "stream",
          "text": [
            "Some weights of BertForSequenceClassification were not initialized from the model checkpoint at indobenchmark/indobert-base-p1 and are newly initialized: ['classifier.bias', 'classifier.weight']\n",
            "You should probably TRAIN this model on a down-stream task to be able to use it for predictions and inference.\n"
          ]
        },
        {
          "metadata": {
            "tags": null
          },
          "name": "stdout",
          "output_type": "stream",
          "text": [
            "Epoch [1/3], Step [49/294], Train Loss: 0.5191, Valid Loss: 0.6218\n",
            "Model saved to ==> /content/drive/My Drive/TASI/ModelImbalance/model.pt\n",
            "Model saved to ==> /content/drive/My Drive/TASI/ModelImbalance/metrics.pt\n",
            "Epoch [1/3], Step [98/294], Train Loss: 0.4795, Valid Loss: 0.8512\n",
            "Epoch [2/3], Step [147/294], Train Loss: 0.3157, Valid Loss: 0.2136\n",
            "Model saved to ==> /content/drive/My Drive/TASI/ModelImbalance/model.pt\n",
            "Model saved to ==> /content/drive/My Drive/TASI/ModelImbalance/metrics.pt\n",
            "Epoch [2/3], Step [196/294], Train Loss: 0.1995, Valid Loss: 0.2681\n",
            "Epoch [3/3], Step [245/294], Train Loss: 0.1219, Valid Loss: 0.2257\n"
          ]
        },
        {
          "metadata": {
            "tags": null
          },
          "name": "stderr",
          "output_type": "stream",
          "text": [
            "\u001b[32m[I 2023-03-22 14:04:50,638]\u001b[0m Trial 12 finished with value: 0.213622662770961 and parameters: {'lr': 3e-05, 'num_epochs': 3, 'batch_size': 4}. Best is trial 11 with value: 0.34308413875156213.\u001b[0m\n"
          ]
        },
        {
          "metadata": {
            "tags": null
          },
          "name": "stdout",
          "output_type": "stream",
          "text": [
            "Epoch [3/3], Step [294/294], Train Loss: 0.1447, Valid Loss: 0.2686\n",
            "Model saved to ==> /content/drive/My Drive/TASI/ModelImbalance/metrics.pt\n",
            "Finished Training!\n"
          ]
        },
        {
          "metadata": {
            "tags": null
          },
          "name": "stderr",
          "output_type": "stream",
          "text": [
            "Some weights of BertForSequenceClassification were not initialized from the model checkpoint at indobenchmark/indobert-base-p1 and are newly initialized: ['classifier.bias', 'classifier.weight']\n",
            "You should probably TRAIN this model on a down-stream task to be able to use it for predictions and inference.\n"
          ]
        },
        {
          "metadata": {
            "tags": null
          },
          "name": "stdout",
          "output_type": "stream",
          "text": [
            "Epoch [1/4], Step [49/392], Train Loss: 0.5392, Valid Loss: 0.6777\n",
            "Model saved to ==> /content/drive/My Drive/TASI/ModelImbalance/model.pt\n",
            "Model saved to ==> /content/drive/My Drive/TASI/ModelImbalance/metrics.pt\n",
            "Epoch [1/4], Step [98/392], Train Loss: 0.5201, Valid Loss: 0.5100\n",
            "Model saved to ==> /content/drive/My Drive/TASI/ModelImbalance/model.pt\n",
            "Model saved to ==> /content/drive/My Drive/TASI/ModelImbalance/metrics.pt\n",
            "Epoch [2/4], Step [147/392], Train Loss: 0.3020, Valid Loss: 0.3131\n",
            "Model saved to ==> /content/drive/My Drive/TASI/ModelImbalance/model.pt\n",
            "Model saved to ==> /content/drive/My Drive/TASI/ModelImbalance/metrics.pt\n",
            "Epoch [2/4], Step [196/392], Train Loss: 0.2202, Valid Loss: 0.1977\n",
            "Model saved to ==> /content/drive/My Drive/TASI/ModelImbalance/model.pt\n",
            "Model saved to ==> /content/drive/My Drive/TASI/ModelImbalance/metrics.pt\n",
            "Epoch [3/4], Step [245/392], Train Loss: 0.1287, Valid Loss: 0.2681\n",
            "Epoch [3/4], Step [294/392], Train Loss: 0.1149, Valid Loss: 0.2803\n",
            "Epoch [4/4], Step [343/392], Train Loss: 0.0743, Valid Loss: 0.1828\n",
            "Model saved to ==> /content/drive/My Drive/TASI/ModelImbalance/model.pt\n",
            "Model saved to ==> /content/drive/My Drive/TASI/ModelImbalance/metrics.pt\n",
            "Epoch [4/4], Step [392/392], Train Loss: 0.0981, Valid Loss: 0.1723\n"
          ]
        },
        {
          "metadata": {
            "tags": null
          },
          "name": "stderr",
          "output_type": "stream",
          "text": [
            "\u001b[32m[I 2023-03-22 14:06:49,216]\u001b[0m Trial 13 finished with value: 0.17225744051393121 and parameters: {'lr': 3e-05, 'num_epochs': 4, 'batch_size': 16}. Best is trial 11 with value: 0.34308413875156213.\u001b[0m\n"
          ]
        },
        {
          "metadata": {
            "tags": null
          },
          "name": "stdout",
          "output_type": "stream",
          "text": [
            "Model saved to ==> /content/drive/My Drive/TASI/ModelImbalance/model.pt\n",
            "Model saved to ==> /content/drive/My Drive/TASI/ModelImbalance/metrics.pt\n",
            "Model saved to ==> /content/drive/My Drive/TASI/ModelImbalance/metrics.pt\n",
            "Finished Training!\n"
          ]
        },
        {
          "metadata": {
            "tags": null
          },
          "name": "stderr",
          "output_type": "stream",
          "text": [
            "Some weights of BertForSequenceClassification were not initialized from the model checkpoint at indobenchmark/indobert-base-p1 and are newly initialized: ['classifier.bias', 'classifier.weight']\n",
            "You should probably TRAIN this model on a down-stream task to be able to use it for predictions and inference.\n"
          ]
        },
        {
          "metadata": {
            "tags": null
          },
          "name": "stdout",
          "output_type": "stream",
          "text": [
            "Epoch [1/3], Step [49/294], Train Loss: 0.4602, Valid Loss: 0.4244\n",
            "Model saved to ==> /content/drive/My Drive/TASI/ModelImbalance/model.pt\n",
            "Model saved to ==> /content/drive/My Drive/TASI/ModelImbalance/metrics.pt\n",
            "Epoch [1/3], Step [98/294], Train Loss: 0.3484, Valid Loss: 0.3202\n",
            "Model saved to ==> /content/drive/My Drive/TASI/ModelImbalance/model.pt\n",
            "Model saved to ==> /content/drive/My Drive/TASI/ModelImbalance/metrics.pt\n",
            "Epoch [2/3], Step [147/294], Train Loss: 0.2135, Valid Loss: 0.1731\n",
            "Model saved to ==> /content/drive/My Drive/TASI/ModelImbalance/model.pt\n",
            "Model saved to ==> /content/drive/My Drive/TASI/ModelImbalance/metrics.pt\n",
            "Epoch [2/3], Step [196/294], Train Loss: 0.1929, Valid Loss: 0.2930\n",
            "Epoch [3/3], Step [245/294], Train Loss: 0.1620, Valid Loss: 0.1481\n",
            "Model saved to ==> /content/drive/My Drive/TASI/ModelImbalance/model.pt\n",
            "Model saved to ==> /content/drive/My Drive/TASI/ModelImbalance/metrics.pt\n"
          ]
        },
        {
          "metadata": {
            "tags": null
          },
          "name": "stderr",
          "output_type": "stream",
          "text": [
            "\u001b[32m[I 2023-03-22 14:08:18,551]\u001b[0m Trial 14 finished with value: 0.14809764801923717 and parameters: {'lr': 4e-05, 'num_epochs': 3, 'batch_size': 16}. Best is trial 11 with value: 0.34308413875156213.\u001b[0m\n"
          ]
        },
        {
          "metadata": {
            "tags": null
          },
          "name": "stdout",
          "output_type": "stream",
          "text": [
            "Epoch [3/3], Step [294/294], Train Loss: 0.1166, Valid Loss: 0.2788\n",
            "Model saved to ==> /content/drive/My Drive/TASI/ModelImbalance/metrics.pt\n",
            "Finished Training!\n"
          ]
        },
        {
          "metadata": {
            "tags": null
          },
          "name": "stderr",
          "output_type": "stream",
          "text": [
            "Some weights of BertForSequenceClassification were not initialized from the model checkpoint at indobenchmark/indobert-base-p1 and are newly initialized: ['classifier.bias', 'classifier.weight']\n",
            "You should probably TRAIN this model on a down-stream task to be able to use it for predictions and inference.\n"
          ]
        },
        {
          "metadata": {
            "tags": null
          },
          "name": "stdout",
          "output_type": "stream",
          "text": [
            "Epoch [1/3], Step [49/294], Train Loss: 0.5235, Valid Loss: 0.7975\n",
            "Model saved to ==> /content/drive/My Drive/TASI/ModelImbalance/model.pt\n",
            "Model saved to ==> /content/drive/My Drive/TASI/ModelImbalance/metrics.pt\n",
            "Epoch [1/3], Step [98/294], Train Loss: 0.6209, Valid Loss: 0.4386\n",
            "Model saved to ==> /content/drive/My Drive/TASI/ModelImbalance/model.pt\n",
            "Model saved to ==> /content/drive/My Drive/TASI/ModelImbalance/metrics.pt\n",
            "Epoch [2/3], Step [147/294], Train Loss: 0.3088, Valid Loss: 0.2409\n",
            "Model saved to ==> /content/drive/My Drive/TASI/ModelImbalance/model.pt\n",
            "Model saved to ==> /content/drive/My Drive/TASI/ModelImbalance/metrics.pt\n",
            "Epoch [2/3], Step [196/294], Train Loss: 0.2565, Valid Loss: 0.7350\n",
            "Epoch [3/3], Step [245/294], Train Loss: 0.1595, Valid Loss: 0.1830\n",
            "Model saved to ==> /content/drive/My Drive/TASI/ModelImbalance/model.pt\n",
            "Model saved to ==> /content/drive/My Drive/TASI/ModelImbalance/metrics.pt\n"
          ]
        },
        {
          "metadata": {
            "tags": null
          },
          "name": "stderr",
          "output_type": "stream",
          "text": [
            "\u001b[32m[I 2023-03-22 14:09:45,679]\u001b[0m Trial 15 finished with value: 0.18299714944857573 and parameters: {'lr': 5e-05, 'num_epochs': 3, 'batch_size': 8}. Best is trial 11 with value: 0.34308413875156213.\u001b[0m\n"
          ]
        },
        {
          "metadata": {
            "tags": null
          },
          "name": "stdout",
          "output_type": "stream",
          "text": [
            "Epoch [3/3], Step [294/294], Train Loss: 0.1457, Valid Loss: 0.2361\n",
            "Model saved to ==> /content/drive/My Drive/TASI/ModelImbalance/metrics.pt\n",
            "Finished Training!\n"
          ]
        },
        {
          "metadata": {
            "tags": null
          },
          "name": "stderr",
          "output_type": "stream",
          "text": [
            "Some weights of BertForSequenceClassification were not initialized from the model checkpoint at indobenchmark/indobert-base-p1 and are newly initialized: ['classifier.bias', 'classifier.weight']\n",
            "You should probably TRAIN this model on a down-stream task to be able to use it for predictions and inference.\n"
          ]
        },
        {
          "metadata": {
            "tags": null
          },
          "name": "stdout",
          "output_type": "stream",
          "text": [
            "Epoch [1/2], Step [49/196], Train Loss: 0.5386, Valid Loss: 0.6487\n",
            "Model saved to ==> /content/drive/My Drive/TASI/ModelImbalance/model.pt\n",
            "Model saved to ==> /content/drive/My Drive/TASI/ModelImbalance/metrics.pt\n",
            "Epoch [1/2], Step [98/196], Train Loss: 0.4932, Valid Loss: 0.3995\n",
            "Model saved to ==> /content/drive/My Drive/TASI/ModelImbalance/model.pt\n",
            "Model saved to ==> /content/drive/My Drive/TASI/ModelImbalance/metrics.pt\n",
            "Epoch [2/2], Step [147/196], Train Loss: 0.2354, Valid Loss: 0.1743\n",
            "Model saved to ==> /content/drive/My Drive/TASI/ModelImbalance/model.pt\n",
            "Model saved to ==> /content/drive/My Drive/TASI/ModelImbalance/metrics.pt\n",
            "Epoch [2/2], Step [196/196], Train Loss: 0.2314, Valid Loss: 0.1498\n"
          ]
        },
        {
          "metadata": {
            "tags": null
          },
          "name": "stderr",
          "output_type": "stream",
          "text": [
            "\u001b[32m[I 2023-03-22 14:10:49,385]\u001b[0m Trial 16 finished with value: 0.14981290471873113 and parameters: {'lr': 3e-05, 'num_epochs': 2, 'batch_size': 16}. Best is trial 11 with value: 0.34308413875156213.\u001b[0m\n"
          ]
        },
        {
          "metadata": {
            "tags": null
          },
          "name": "stdout",
          "output_type": "stream",
          "text": [
            "Model saved to ==> /content/drive/My Drive/TASI/ModelImbalance/model.pt\n",
            "Model saved to ==> /content/drive/My Drive/TASI/ModelImbalance/metrics.pt\n",
            "Model saved to ==> /content/drive/My Drive/TASI/ModelImbalance/metrics.pt\n",
            "Finished Training!\n"
          ]
        },
        {
          "metadata": {
            "tags": null
          },
          "name": "stderr",
          "output_type": "stream",
          "text": [
            "Some weights of BertForSequenceClassification were not initialized from the model checkpoint at indobenchmark/indobert-base-p1 and are newly initialized: ['classifier.bias', 'classifier.weight']\n",
            "You should probably TRAIN this model on a down-stream task to be able to use it for predictions and inference.\n"
          ]
        },
        {
          "metadata": {
            "tags": null
          },
          "name": "stdout",
          "output_type": "stream",
          "text": [
            "Epoch [1/2], Step [49/196], Train Loss: 0.5517, Valid Loss: 0.6740\n",
            "Model saved to ==> /content/drive/My Drive/TASI/ModelImbalance/model.pt\n",
            "Model saved to ==> /content/drive/My Drive/TASI/ModelImbalance/metrics.pt\n",
            "Epoch [1/2], Step [98/196], Train Loss: 0.4643, Valid Loss: 0.2833\n",
            "Model saved to ==> /content/drive/My Drive/TASI/ModelImbalance/model.pt\n",
            "Model saved to ==> /content/drive/My Drive/TASI/ModelImbalance/metrics.pt\n",
            "Epoch [2/2], Step [147/196], Train Loss: 0.3142, Valid Loss: 0.2198\n",
            "Model saved to ==> /content/drive/My Drive/TASI/ModelImbalance/model.pt\n",
            "Model saved to ==> /content/drive/My Drive/TASI/ModelImbalance/metrics.pt\n"
          ]
        },
        {
          "metadata": {
            "tags": null
          },
          "name": "stderr",
          "output_type": "stream",
          "text": [
            "\u001b[32m[I 2023-03-22 14:11:50,197]\u001b[0m Trial 17 finished with value: 0.21982809149527124 and parameters: {'lr': 3e-05, 'num_epochs': 2, 'batch_size': 32}. Best is trial 11 with value: 0.34308413875156213.\u001b[0m\n"
          ]
        },
        {
          "metadata": {
            "tags": null
          },
          "name": "stdout",
          "output_type": "stream",
          "text": [
            "Epoch [2/2], Step [196/196], Train Loss: 0.2762, Valid Loss: 0.4681\n",
            "Model saved to ==> /content/drive/My Drive/TASI/ModelImbalance/metrics.pt\n",
            "Finished Training!\n"
          ]
        },
        {
          "metadata": {
            "tags": null
          },
          "name": "stderr",
          "output_type": "stream",
          "text": [
            "Some weights of BertForSequenceClassification were not initialized from the model checkpoint at indobenchmark/indobert-base-p1 and are newly initialized: ['classifier.bias', 'classifier.weight']\n",
            "You should probably TRAIN this model on a down-stream task to be able to use it for predictions and inference.\n"
          ]
        },
        {
          "metadata": {
            "tags": null
          },
          "name": "stdout",
          "output_type": "stream",
          "text": [
            "Epoch [1/3], Step [49/294], Train Loss: 0.5431, Valid Loss: 0.6914\n",
            "Model saved to ==> /content/drive/My Drive/TASI/ModelImbalance/model.pt\n",
            "Model saved to ==> /content/drive/My Drive/TASI/ModelImbalance/metrics.pt\n",
            "Epoch [1/3], Step [98/294], Train Loss: 0.4383, Valid Loss: 0.3959\n",
            "Model saved to ==> /content/drive/My Drive/TASI/ModelImbalance/model.pt\n",
            "Model saved to ==> /content/drive/My Drive/TASI/ModelImbalance/metrics.pt\n",
            "Epoch [2/3], Step [147/294], Train Loss: 0.1882, Valid Loss: 0.1567\n",
            "Model saved to ==> /content/drive/My Drive/TASI/ModelImbalance/model.pt\n",
            "Model saved to ==> /content/drive/My Drive/TASI/ModelImbalance/metrics.pt\n",
            "Epoch [2/3], Step [196/294], Train Loss: 0.1503, Valid Loss: 0.1464\n",
            "Model saved to ==> /content/drive/My Drive/TASI/ModelImbalance/model.pt\n",
            "Model saved to ==> /content/drive/My Drive/TASI/ModelImbalance/metrics.pt\n",
            "Epoch [3/3], Step [245/294], Train Loss: 0.1079, Valid Loss: 0.2113\n"
          ]
        },
        {
          "metadata": {
            "tags": null
          },
          "name": "stderr",
          "output_type": "stream",
          "text": [
            "\u001b[32m[I 2023-03-22 14:13:20,752]\u001b[0m Trial 18 finished with value: 0.14637610053510539 and parameters: {'lr': 2e-05, 'num_epochs': 3, 'batch_size': 32}. Best is trial 11 with value: 0.34308413875156213.\u001b[0m\n"
          ]
        },
        {
          "metadata": {
            "tags": null
          },
          "name": "stdout",
          "output_type": "stream",
          "text": [
            "Epoch [3/3], Step [294/294], Train Loss: 0.1360, Valid Loss: 0.2995\n",
            "Model saved to ==> /content/drive/My Drive/TASI/ModelImbalance/metrics.pt\n",
            "Finished Training!\n"
          ]
        },
        {
          "metadata": {
            "tags": null
          },
          "name": "stderr",
          "output_type": "stream",
          "text": [
            "Some weights of BertForSequenceClassification were not initialized from the model checkpoint at indobenchmark/indobert-base-p1 and are newly initialized: ['classifier.bias', 'classifier.weight']\n",
            "You should probably TRAIN this model on a down-stream task to be able to use it for predictions and inference.\n"
          ]
        },
        {
          "metadata": {
            "tags": null
          },
          "name": "stdout",
          "output_type": "stream",
          "text": [
            "Epoch [1/3], Step [49/294], Train Loss: 0.5314, Valid Loss: 0.7561\n",
            "Model saved to ==> /content/drive/My Drive/TASI/ModelImbalance/model.pt\n",
            "Model saved to ==> /content/drive/My Drive/TASI/ModelImbalance/metrics.pt\n",
            "Epoch [1/3], Step [98/294], Train Loss: 0.6572, Valid Loss: 0.4220\n",
            "Model saved to ==> /content/drive/My Drive/TASI/ModelImbalance/model.pt\n",
            "Model saved to ==> /content/drive/My Drive/TASI/ModelImbalance/metrics.pt\n",
            "Epoch [2/3], Step [147/294], Train Loss: 0.2847, Valid Loss: 0.3494\n",
            "Model saved to ==> /content/drive/My Drive/TASI/ModelImbalance/model.pt\n",
            "Model saved to ==> /content/drive/My Drive/TASI/ModelImbalance/metrics.pt\n",
            "Epoch [2/3], Step [196/294], Train Loss: 0.3787, Valid Loss: 0.2642\n",
            "Model saved to ==> /content/drive/My Drive/TASI/ModelImbalance/model.pt\n",
            "Model saved to ==> /content/drive/My Drive/TASI/ModelImbalance/metrics.pt\n",
            "Epoch [3/3], Step [245/294], Train Loss: 0.2264, Valid Loss: 0.2005\n",
            "Model saved to ==> /content/drive/My Drive/TASI/ModelImbalance/model.pt\n",
            "Model saved to ==> /content/drive/My Drive/TASI/ModelImbalance/metrics.pt\n",
            "Epoch [3/3], Step [294/294], Train Loss: 0.2668, Valid Loss: 0.1607\n"
          ]
        },
        {
          "metadata": {
            "tags": null
          },
          "name": "stderr",
          "output_type": "stream",
          "text": [
            "\u001b[32m[I 2023-03-22 14:14:51,562]\u001b[0m Trial 19 finished with value: 0.16068332971605873 and parameters: {'lr': 4e-05, 'num_epochs': 3, 'batch_size': 32}. Best is trial 11 with value: 0.34308413875156213.\u001b[0m\n"
          ]
        },
        {
          "metadata": {
            "tags": null
          },
          "name": "stdout",
          "output_type": "stream",
          "text": [
            "Model saved to ==> /content/drive/My Drive/TASI/ModelImbalance/model.pt\n",
            "Model saved to ==> /content/drive/My Drive/TASI/ModelImbalance/metrics.pt\n",
            "Model saved to ==> /content/drive/My Drive/TASI/ModelImbalance/metrics.pt\n",
            "Finished Training!\n"
          ]
        },
        {
          "metadata": {
            "tags": null
          },
          "name": "stderr",
          "output_type": "stream",
          "text": [
            "Some weights of BertForSequenceClassification were not initialized from the model checkpoint at indobenchmark/indobert-base-p1 and are newly initialized: ['classifier.bias', 'classifier.weight']\n",
            "You should probably TRAIN this model on a down-stream task to be able to use it for predictions and inference.\n"
          ]
        },
        {
          "metadata": {
            "tags": null
          },
          "name": "stdout",
          "output_type": "stream",
          "text": [
            "Epoch [1/4], Step [49/392], Train Loss: 0.5319, Valid Loss: 0.7717\n",
            "Model saved to ==> /content/drive/My Drive/TASI/ModelImbalance/model.pt\n",
            "Model saved to ==> /content/drive/My Drive/TASI/ModelImbalance/metrics.pt\n",
            "Epoch [1/4], Step [98/392], Train Loss: 0.6497, Valid Loss: 0.3706\n",
            "Model saved to ==> /content/drive/My Drive/TASI/ModelImbalance/model.pt\n",
            "Model saved to ==> /content/drive/My Drive/TASI/ModelImbalance/metrics.pt\n",
            "Epoch [2/4], Step [147/392], Train Loss: 0.3337, Valid Loss: 0.3092\n",
            "Model saved to ==> /content/drive/My Drive/TASI/ModelImbalance/model.pt\n",
            "Model saved to ==> /content/drive/My Drive/TASI/ModelImbalance/metrics.pt\n",
            "Epoch [2/4], Step [196/392], Train Loss: 0.2839, Valid Loss: 0.4988\n",
            "Epoch [3/4], Step [245/392], Train Loss: 0.2375, Valid Loss: 0.2753\n",
            "Model saved to ==> /content/drive/My Drive/TASI/ModelImbalance/model.pt\n",
            "Model saved to ==> /content/drive/My Drive/TASI/ModelImbalance/metrics.pt\n",
            "Epoch [3/4], Step [294/392], Train Loss: 0.4143, Valid Loss: 0.3296\n",
            "Epoch [4/4], Step [343/392], Train Loss: 0.3370, Valid Loss: 0.8555\n"
          ]
        },
        {
          "metadata": {
            "tags": null
          },
          "name": "stderr",
          "output_type": "stream",
          "text": [
            "\u001b[32m[I 2023-03-22 14:16:45,662]\u001b[0m Trial 20 finished with value: 0.2752831362720047 and parameters: {'lr': 5e-05, 'num_epochs': 4, 'batch_size': 8}. Best is trial 11 with value: 0.34308413875156213.\u001b[0m\n"
          ]
        },
        {
          "metadata": {
            "tags": null
          },
          "name": "stdout",
          "output_type": "stream",
          "text": [
            "Epoch [4/4], Step [392/392], Train Loss: 0.7069, Valid Loss: 0.7111\n",
            "Model saved to ==> /content/drive/My Drive/TASI/ModelImbalance/metrics.pt\n",
            "Finished Training!\n"
          ]
        },
        {
          "metadata": {
            "tags": null
          },
          "name": "stderr",
          "output_type": "stream",
          "text": [
            "Some weights of BertForSequenceClassification were not initialized from the model checkpoint at indobenchmark/indobert-base-p1 and are newly initialized: ['classifier.bias', 'classifier.weight']\n",
            "You should probably TRAIN this model on a down-stream task to be able to use it for predictions and inference.\n"
          ]
        },
        {
          "metadata": {
            "tags": null
          },
          "name": "stdout",
          "output_type": "stream",
          "text": [
            "Epoch [1/3], Step [49/294], Train Loss: 0.5319, Valid Loss: 0.8243\n",
            "Model saved to ==> /content/drive/My Drive/TASI/ModelImbalance/model.pt\n",
            "Model saved to ==> /content/drive/My Drive/TASI/ModelImbalance/metrics.pt\n",
            "Epoch [1/3], Step [98/294], Train Loss: 0.7227, Valid Loss: 0.6745\n",
            "Model saved to ==> /content/drive/My Drive/TASI/ModelImbalance/model.pt\n",
            "Model saved to ==> /content/drive/My Drive/TASI/ModelImbalance/metrics.pt\n",
            "Epoch [2/3], Step [147/294], Train Loss: 0.5942, Valid Loss: 0.8211\n",
            "Epoch [2/3], Step [196/294], Train Loss: 0.7108, Valid Loss: 0.6721\n",
            "Model saved to ==> /content/drive/My Drive/TASI/ModelImbalance/model.pt\n",
            "Model saved to ==> /content/drive/My Drive/TASI/ModelImbalance/metrics.pt\n",
            "Epoch [3/3], Step [245/294], Train Loss: 0.5424, Valid Loss: 0.7686\n",
            "Epoch [3/3], Step [294/294], Train Loss: 0.8108, Valid Loss: 0.6657\n"
          ]
        },
        {
          "metadata": {
            "tags": null
          },
          "name": "stderr",
          "output_type": "stream",
          "text": [
            "\u001b[32m[I 2023-03-22 14:18:14,011]\u001b[0m Trial 21 finished with value: 0.6656503805092403 and parameters: {'lr': 5e-05, 'num_epochs': 3, 'batch_size': 4}. Best is trial 21 with value: 0.6656503805092403.\u001b[0m\n"
          ]
        },
        {
          "metadata": {
            "tags": null
          },
          "name": "stdout",
          "output_type": "stream",
          "text": [
            "Model saved to ==> /content/drive/My Drive/TASI/ModelImbalance/model.pt\n",
            "Model saved to ==> /content/drive/My Drive/TASI/ModelImbalance/metrics.pt\n",
            "Model saved to ==> /content/drive/My Drive/TASI/ModelImbalance/metrics.pt\n",
            "Finished Training!\n"
          ]
        },
        {
          "metadata": {
            "tags": null
          },
          "name": "stderr",
          "output_type": "stream",
          "text": [
            "Some weights of BertForSequenceClassification were not initialized from the model checkpoint at indobenchmark/indobert-base-p1 and are newly initialized: ['classifier.bias', 'classifier.weight']\n",
            "You should probably TRAIN this model on a down-stream task to be able to use it for predictions and inference.\n"
          ]
        },
        {
          "metadata": {
            "tags": null
          },
          "name": "stdout",
          "output_type": "stream",
          "text": [
            "Epoch [1/4], Step [49/392], Train Loss: 0.5434, Valid Loss: 0.6664\n",
            "Model saved to ==> /content/drive/My Drive/TASI/ModelImbalance/model.pt\n",
            "Model saved to ==> /content/drive/My Drive/TASI/ModelImbalance/metrics.pt\n",
            "Epoch [1/4], Step [98/392], Train Loss: 0.4741, Valid Loss: 0.3513\n",
            "Model saved to ==> /content/drive/My Drive/TASI/ModelImbalance/model.pt\n",
            "Model saved to ==> /content/drive/My Drive/TASI/ModelImbalance/metrics.pt\n",
            "Epoch [2/4], Step [147/392], Train Loss: 0.2238, Valid Loss: 0.2979\n",
            "Model saved to ==> /content/drive/My Drive/TASI/ModelImbalance/model.pt\n",
            "Model saved to ==> /content/drive/My Drive/TASI/ModelImbalance/metrics.pt\n",
            "Epoch [2/4], Step [196/392], Train Loss: 0.2277, Valid Loss: 0.2211\n",
            "Model saved to ==> /content/drive/My Drive/TASI/ModelImbalance/model.pt\n",
            "Model saved to ==> /content/drive/My Drive/TASI/ModelImbalance/metrics.pt\n",
            "Epoch [3/4], Step [245/392], Train Loss: 0.1013, Valid Loss: 0.1869\n",
            "Model saved to ==> /content/drive/My Drive/TASI/ModelImbalance/model.pt\n",
            "Model saved to ==> /content/drive/My Drive/TASI/ModelImbalance/metrics.pt\n",
            "Epoch [3/4], Step [294/392], Train Loss: 0.1514, Valid Loss: 0.3963\n",
            "Epoch [4/4], Step [343/392], Train Loss: 0.1270, Valid Loss: 0.2094\n"
          ]
        },
        {
          "metadata": {
            "tags": null
          },
          "name": "stderr",
          "output_type": "stream",
          "text": [
            "\u001b[32m[I 2023-03-22 14:20:12,212]\u001b[0m Trial 22 finished with value: 0.1869068621225389 and parameters: {'lr': 3e-05, 'num_epochs': 4, 'batch_size': 4}. Best is trial 21 with value: 0.6656503805092403.\u001b[0m\n"
          ]
        },
        {
          "metadata": {
            "tags": null
          },
          "name": "stdout",
          "output_type": "stream",
          "text": [
            "Epoch [4/4], Step [392/392], Train Loss: 0.1121, Valid Loss: 0.2246\n",
            "Model saved to ==> /content/drive/My Drive/TASI/ModelImbalance/metrics.pt\n",
            "Finished Training!\n"
          ]
        },
        {
          "metadata": {
            "tags": null
          },
          "name": "stderr",
          "output_type": "stream",
          "text": [
            "Some weights of BertForSequenceClassification were not initialized from the model checkpoint at indobenchmark/indobert-base-p1 and are newly initialized: ['classifier.bias', 'classifier.weight']\n",
            "You should probably TRAIN this model on a down-stream task to be able to use it for predictions and inference.\n"
          ]
        },
        {
          "metadata": {
            "tags": null
          },
          "name": "stdout",
          "output_type": "stream",
          "text": [
            "Epoch [1/4], Step [49/392], Train Loss: 0.5584, Valid Loss: 0.7487\n",
            "Model saved to ==> /content/drive/My Drive/TASI/ModelImbalance/model.pt\n",
            "Model saved to ==> /content/drive/My Drive/TASI/ModelImbalance/metrics.pt\n",
            "Epoch [1/4], Step [98/392], Train Loss: 0.7144, Valid Loss: 0.6733\n",
            "Model saved to ==> /content/drive/My Drive/TASI/ModelImbalance/model.pt\n",
            "Model saved to ==> /content/drive/My Drive/TASI/ModelImbalance/metrics.pt\n",
            "Epoch [2/4], Step [147/392], Train Loss: 0.5459, Valid Loss: 0.6938\n",
            "Epoch [2/4], Step [196/392], Train Loss: 0.6089, Valid Loss: 0.4002\n",
            "Model saved to ==> /content/drive/My Drive/TASI/ModelImbalance/model.pt\n",
            "Model saved to ==> /content/drive/My Drive/TASI/ModelImbalance/metrics.pt\n",
            "Epoch [3/4], Step [245/392], Train Loss: 0.3077, Valid Loss: 0.2203\n",
            "Model saved to ==> /content/drive/My Drive/TASI/ModelImbalance/model.pt\n",
            "Model saved to ==> /content/drive/My Drive/TASI/ModelImbalance/metrics.pt\n",
            "Epoch [3/4], Step [294/392], Train Loss: 0.2251, Valid Loss: 0.1826\n",
            "Model saved to ==> /content/drive/My Drive/TASI/ModelImbalance/model.pt\n",
            "Model saved to ==> /content/drive/My Drive/TASI/ModelImbalance/metrics.pt\n",
            "Epoch [4/4], Step [343/392], Train Loss: 0.1561, Valid Loss: 0.1808\n",
            "Model saved to ==> /content/drive/My Drive/TASI/ModelImbalance/model.pt\n",
            "Model saved to ==> /content/drive/My Drive/TASI/ModelImbalance/metrics.pt\n"
          ]
        },
        {
          "metadata": {
            "tags": null
          },
          "name": "stderr",
          "output_type": "stream",
          "text": [
            "\u001b[32m[I 2023-03-22 14:22:10,936]\u001b[0m Trial 23 finished with value: 0.18075335128898068 and parameters: {'lr': 2e-05, 'num_epochs': 4, 'batch_size': 32}. Best is trial 21 with value: 0.6656503805092403.\u001b[0m\n"
          ]
        },
        {
          "metadata": {
            "tags": null
          },
          "name": "stdout",
          "output_type": "stream",
          "text": [
            "Epoch [4/4], Step [392/392], Train Loss: 0.1416, Valid Loss: 0.2329\n",
            "Model saved to ==> /content/drive/My Drive/TASI/ModelImbalance/metrics.pt\n",
            "Finished Training!\n"
          ]
        },
        {
          "metadata": {
            "tags": null
          },
          "name": "stderr",
          "output_type": "stream",
          "text": [
            "Some weights of BertForSequenceClassification were not initialized from the model checkpoint at indobenchmark/indobert-base-p1 and are newly initialized: ['classifier.bias', 'classifier.weight']\n",
            "You should probably TRAIN this model on a down-stream task to be able to use it for predictions and inference.\n"
          ]
        },
        {
          "metadata": {
            "tags": null
          },
          "name": "stdout",
          "output_type": "stream",
          "text": [
            "Epoch [1/4], Step [49/392], Train Loss: 0.5487, Valid Loss: 0.6969\n",
            "Model saved to ==> /content/drive/My Drive/TASI/ModelImbalance/model.pt\n",
            "Model saved to ==> /content/drive/My Drive/TASI/ModelImbalance/metrics.pt\n",
            "Epoch [1/4], Step [98/392], Train Loss: 0.6434, Valid Loss: 0.4607\n",
            "Model saved to ==> /content/drive/My Drive/TASI/ModelImbalance/model.pt\n",
            "Model saved to ==> /content/drive/My Drive/TASI/ModelImbalance/metrics.pt\n",
            "Epoch [2/4], Step [147/392], Train Loss: 0.3610, Valid Loss: 0.2841\n",
            "Model saved to ==> /content/drive/My Drive/TASI/ModelImbalance/model.pt\n",
            "Model saved to ==> /content/drive/My Drive/TASI/ModelImbalance/metrics.pt\n",
            "Epoch [2/4], Step [196/392], Train Loss: 0.2130, Valid Loss: 0.4198\n",
            "Epoch [3/4], Step [245/392], Train Loss: 0.1935, Valid Loss: 0.1773\n",
            "Model saved to ==> /content/drive/My Drive/TASI/ModelImbalance/model.pt\n",
            "Model saved to ==> /content/drive/My Drive/TASI/ModelImbalance/metrics.pt\n",
            "Epoch [3/4], Step [294/392], Train Loss: 0.1312, Valid Loss: 0.3678\n",
            "Epoch [4/4], Step [343/392], Train Loss: 0.0973, Valid Loss: 0.2313\n"
          ]
        },
        {
          "metadata": {
            "tags": null
          },
          "name": "stderr",
          "output_type": "stream",
          "text": [
            "\u001b[32m[I 2023-03-22 14:24:05,840]\u001b[0m Trial 24 finished with value: 0.17729299016562955 and parameters: {'lr': 3e-05, 'num_epochs': 4, 'batch_size': 8}. Best is trial 21 with value: 0.6656503805092403.\u001b[0m\n"
          ]
        },
        {
          "metadata": {
            "tags": null
          },
          "name": "stdout",
          "output_type": "stream",
          "text": [
            "Epoch [4/4], Step [392/392], Train Loss: 0.1113, Valid Loss: 0.3600\n",
            "Model saved to ==> /content/drive/My Drive/TASI/ModelImbalance/metrics.pt\n",
            "Finished Training!\n"
          ]
        },
        {
          "metadata": {
            "tags": null
          },
          "name": "stderr",
          "output_type": "stream",
          "text": [
            "Some weights of BertForSequenceClassification were not initialized from the model checkpoint at indobenchmark/indobert-base-p1 and are newly initialized: ['classifier.bias', 'classifier.weight']\n",
            "You should probably TRAIN this model on a down-stream task to be able to use it for predictions and inference.\n"
          ]
        },
        {
          "metadata": {
            "tags": null
          },
          "name": "stdout",
          "output_type": "stream",
          "text": [
            "Epoch [1/3], Step [49/294], Train Loss: 0.5325, Valid Loss: 0.7377\n",
            "Model saved to ==> /content/drive/My Drive/TASI/ModelImbalance/model.pt\n",
            "Model saved to ==> /content/drive/My Drive/TASI/ModelImbalance/metrics.pt\n",
            "Epoch [1/3], Step [98/294], Train Loss: 0.5836, Valid Loss: 0.3269\n",
            "Model saved to ==> /content/drive/My Drive/TASI/ModelImbalance/model.pt\n",
            "Model saved to ==> /content/drive/My Drive/TASI/ModelImbalance/metrics.pt\n",
            "Epoch [2/3], Step [147/294], Train Loss: 0.2649, Valid Loss: 0.2056\n",
            "Model saved to ==> /content/drive/My Drive/TASI/ModelImbalance/model.pt\n",
            "Model saved to ==> /content/drive/My Drive/TASI/ModelImbalance/metrics.pt\n",
            "Epoch [2/3], Step [196/294], Train Loss: 0.2649, Valid Loss: 0.2511\n",
            "Epoch [3/3], Step [245/294], Train Loss: 0.1650, Valid Loss: 0.2274\n"
          ]
        },
        {
          "metadata": {
            "tags": null
          },
          "name": "stderr",
          "output_type": "stream",
          "text": [
            "\u001b[32m[I 2023-03-22 14:25:33,664]\u001b[0m Trial 25 finished with value: 0.2056115067430905 and parameters: {'lr': 5e-05, 'num_epochs': 3, 'batch_size': 16}. Best is trial 21 with value: 0.6656503805092403.\u001b[0m\n"
          ]
        },
        {
          "metadata": {
            "tags": null
          },
          "name": "stdout",
          "output_type": "stream",
          "text": [
            "Epoch [3/3], Step [294/294], Train Loss: 0.3046, Valid Loss: 0.3404\n",
            "Model saved to ==> /content/drive/My Drive/TASI/ModelImbalance/metrics.pt\n",
            "Finished Training!\n"
          ]
        },
        {
          "metadata": {
            "tags": null
          },
          "name": "stderr",
          "output_type": "stream",
          "text": [
            "Some weights of BertForSequenceClassification were not initialized from the model checkpoint at indobenchmark/indobert-base-p1 and are newly initialized: ['classifier.bias', 'classifier.weight']\n",
            "You should probably TRAIN this model on a down-stream task to be able to use it for predictions and inference.\n"
          ]
        },
        {
          "metadata": {
            "tags": null
          },
          "name": "stdout",
          "output_type": "stream",
          "text": [
            "Epoch [1/3], Step [49/294], Train Loss: 0.5381, Valid Loss: 0.6338\n",
            "Model saved to ==> /content/drive/My Drive/TASI/ModelImbalance/model.pt\n",
            "Model saved to ==> /content/drive/My Drive/TASI/ModelImbalance/metrics.pt\n",
            "Epoch [1/3], Step [98/294], Train Loss: 0.4564, Valid Loss: 0.3275\n",
            "Model saved to ==> /content/drive/My Drive/TASI/ModelImbalance/model.pt\n",
            "Model saved to ==> /content/drive/My Drive/TASI/ModelImbalance/metrics.pt\n",
            "Epoch [2/3], Step [147/294], Train Loss: 0.2272, Valid Loss: 0.3142\n",
            "Model saved to ==> /content/drive/My Drive/TASI/ModelImbalance/model.pt\n",
            "Model saved to ==> /content/drive/My Drive/TASI/ModelImbalance/metrics.pt\n",
            "Epoch [2/3], Step [196/294], Train Loss: 0.1908, Valid Loss: 0.1823\n",
            "Model saved to ==> /content/drive/My Drive/TASI/ModelImbalance/model.pt\n",
            "Model saved to ==> /content/drive/My Drive/TASI/ModelImbalance/metrics.pt\n",
            "Epoch [3/3], Step [245/294], Train Loss: 0.1556, Valid Loss: 0.2185\n"
          ]
        },
        {
          "metadata": {
            "tags": null
          },
          "name": "stderr",
          "output_type": "stream",
          "text": [
            "\u001b[32m[I 2023-03-22 14:27:01,825]\u001b[0m Trial 26 finished with value: 0.18227879250688211 and parameters: {'lr': 2e-05, 'num_epochs': 3, 'batch_size': 8}. Best is trial 21 with value: 0.6656503805092403.\u001b[0m\n"
          ]
        },
        {
          "metadata": {
            "tags": null
          },
          "name": "stdout",
          "output_type": "stream",
          "text": [
            "Epoch [3/3], Step [294/294], Train Loss: 0.1198, Valid Loss: 0.2831\n",
            "Model saved to ==> /content/drive/My Drive/TASI/ModelImbalance/metrics.pt\n",
            "Finished Training!\n"
          ]
        },
        {
          "metadata": {
            "tags": null
          },
          "name": "stderr",
          "output_type": "stream",
          "text": [
            "Some weights of BertForSequenceClassification were not initialized from the model checkpoint at indobenchmark/indobert-base-p1 and are newly initialized: ['classifier.bias', 'classifier.weight']\n",
            "You should probably TRAIN this model on a down-stream task to be able to use it for predictions and inference.\n"
          ]
        },
        {
          "metadata": {
            "tags": null
          },
          "name": "stdout",
          "output_type": "stream",
          "text": [
            "Epoch [1/4], Step [49/392], Train Loss: 0.5297, Valid Loss: 0.7752\n",
            "Model saved to ==> /content/drive/My Drive/TASI/ModelImbalance/model.pt\n",
            "Model saved to ==> /content/drive/My Drive/TASI/ModelImbalance/metrics.pt\n",
            "Epoch [1/4], Step [98/392], Train Loss: 0.7163, Valid Loss: 0.6715\n",
            "Model saved to ==> /content/drive/My Drive/TASI/ModelImbalance/model.pt\n",
            "Model saved to ==> /content/drive/My Drive/TASI/ModelImbalance/metrics.pt\n",
            "Epoch [2/4], Step [147/392], Train Loss: 0.5636, Valid Loss: 0.7293\n",
            "Epoch [2/4], Step [196/392], Train Loss: 0.4855, Valid Loss: 0.3593\n",
            "Model saved to ==> /content/drive/My Drive/TASI/ModelImbalance/model.pt\n",
            "Model saved to ==> /content/drive/My Drive/TASI/ModelImbalance/metrics.pt\n",
            "Epoch [3/4], Step [245/392], Train Loss: 0.3616, Valid Loss: 0.4510\n",
            "Epoch [3/4], Step [294/392], Train Loss: 0.3330, Valid Loss: 0.2405\n",
            "Model saved to ==> /content/drive/My Drive/TASI/ModelImbalance/model.pt\n",
            "Model saved to ==> /content/drive/My Drive/TASI/ModelImbalance/metrics.pt\n",
            "Epoch [4/4], Step [343/392], Train Loss: 0.2680, Valid Loss: 0.2389\n",
            "Model saved to ==> /content/drive/My Drive/TASI/ModelImbalance/model.pt\n",
            "Model saved to ==> /content/drive/My Drive/TASI/ModelImbalance/metrics.pt\n"
          ]
        },
        {
          "metadata": {
            "tags": null
          },
          "name": "stderr",
          "output_type": "stream",
          "text": [
            "\u001b[32m[I 2023-03-22 14:28:58,167]\u001b[0m Trial 27 finished with value: 0.23891175352036953 and parameters: {'lr': 5e-05, 'num_epochs': 4, 'batch_size': 32}. Best is trial 21 with value: 0.6656503805092403.\u001b[0m\n"
          ]
        },
        {
          "metadata": {
            "tags": null
          },
          "name": "stdout",
          "output_type": "stream",
          "text": [
            "Epoch [4/4], Step [392/392], Train Loss: 0.2551, Valid Loss: 0.4574\n",
            "Model saved to ==> /content/drive/My Drive/TASI/ModelImbalance/metrics.pt\n",
            "Finished Training!\n"
          ]
        },
        {
          "metadata": {
            "tags": null
          },
          "name": "stderr",
          "output_type": "stream",
          "text": [
            "Some weights of BertForSequenceClassification were not initialized from the model checkpoint at indobenchmark/indobert-base-p1 and are newly initialized: ['classifier.bias', 'classifier.weight']\n",
            "You should probably TRAIN this model on a down-stream task to be able to use it for predictions and inference.\n"
          ]
        },
        {
          "metadata": {
            "tags": null
          },
          "name": "stdout",
          "output_type": "stream",
          "text": [
            "Epoch [1/3], Step [49/294], Train Loss: 0.5322, Valid Loss: 0.6598\n",
            "Model saved to ==> /content/drive/My Drive/TASI/ModelImbalance/model.pt\n",
            "Model saved to ==> /content/drive/My Drive/TASI/ModelImbalance/metrics.pt\n",
            "Epoch [1/3], Step [98/294], Train Loss: 0.4758, Valid Loss: 0.3621\n",
            "Model saved to ==> /content/drive/My Drive/TASI/ModelImbalance/model.pt\n",
            "Model saved to ==> /content/drive/My Drive/TASI/ModelImbalance/metrics.pt\n",
            "Epoch [2/3], Step [147/294], Train Loss: 0.2464, Valid Loss: 0.2681\n",
            "Model saved to ==> /content/drive/My Drive/TASI/ModelImbalance/model.pt\n",
            "Model saved to ==> /content/drive/My Drive/TASI/ModelImbalance/metrics.pt\n",
            "Epoch [2/3], Step [196/294], Train Loss: 0.2058, Valid Loss: 0.2450\n",
            "Model saved to ==> /content/drive/My Drive/TASI/ModelImbalance/model.pt\n",
            "Model saved to ==> /content/drive/My Drive/TASI/ModelImbalance/metrics.pt\n",
            "Epoch [3/3], Step [245/294], Train Loss: 0.1570, Valid Loss: 0.1933\n",
            "Model saved to ==> /content/drive/My Drive/TASI/ModelImbalance/model.pt\n",
            "Model saved to ==> /content/drive/My Drive/TASI/ModelImbalance/metrics.pt\n"
          ]
        },
        {
          "metadata": {
            "tags": null
          },
          "name": "stderr",
          "output_type": "stream",
          "text": [
            "\u001b[32m[I 2023-03-22 14:30:31,693]\u001b[0m Trial 28 finished with value: 0.1932976312070553 and parameters: {'lr': 2e-05, 'num_epochs': 3, 'batch_size': 16}. Best is trial 21 with value: 0.6656503805092403.\u001b[0m\n"
          ]
        },
        {
          "metadata": {
            "tags": null
          },
          "name": "stdout",
          "output_type": "stream",
          "text": [
            "Epoch [3/3], Step [294/294], Train Loss: 0.1375, Valid Loss: 0.3603\n",
            "Model saved to ==> /content/drive/My Drive/TASI/ModelImbalance/metrics.pt\n",
            "Finished Training!\n"
          ]
        },
        {
          "metadata": {
            "tags": null
          },
          "name": "stderr",
          "output_type": "stream",
          "text": [
            "Some weights of BertForSequenceClassification were not initialized from the model checkpoint at indobenchmark/indobert-base-p1 and are newly initialized: ['classifier.bias', 'classifier.weight']\n",
            "You should probably TRAIN this model on a down-stream task to be able to use it for predictions and inference.\n"
          ]
        },
        {
          "metadata": {
            "tags": null
          },
          "name": "stdout",
          "output_type": "stream",
          "text": [
            "Epoch [1/4], Step [49/392], Train Loss: 0.5352, Valid Loss: 0.6782\n",
            "Model saved to ==> /content/drive/My Drive/TASI/ModelImbalance/model.pt\n",
            "Model saved to ==> /content/drive/My Drive/TASI/ModelImbalance/metrics.pt\n",
            "Epoch [1/4], Step [98/392], Train Loss: 0.6430, Valid Loss: 0.4517\n",
            "Model saved to ==> /content/drive/My Drive/TASI/ModelImbalance/model.pt\n",
            "Model saved to ==> /content/drive/My Drive/TASI/ModelImbalance/metrics.pt\n",
            "Epoch [2/4], Step [147/392], Train Loss: 0.2574, Valid Loss: 0.2998\n",
            "Model saved to ==> /content/drive/My Drive/TASI/ModelImbalance/model.pt\n",
            "Model saved to ==> /content/drive/My Drive/TASI/ModelImbalance/metrics.pt\n",
            "Epoch [2/4], Step [196/392], Train Loss: 0.2449, Valid Loss: 0.1843\n",
            "Model saved to ==> /content/drive/My Drive/TASI/ModelImbalance/model.pt\n",
            "Model saved to ==> /content/drive/My Drive/TASI/ModelImbalance/metrics.pt\n",
            "Epoch [3/4], Step [245/392], Train Loss: 0.1600, Valid Loss: 0.2865\n",
            "Epoch [3/4], Step [294/392], Train Loss: 0.1442, Valid Loss: 0.3332\n",
            "Epoch [4/4], Step [343/392], Train Loss: 0.1026, Valid Loss: 0.1677\n",
            "Model saved to ==> /content/drive/My Drive/TASI/ModelImbalance/model.pt\n",
            "Model saved to ==> /content/drive/My Drive/TASI/ModelImbalance/metrics.pt\n"
          ]
        },
        {
          "metadata": {
            "tags": null
          },
          "name": "stderr",
          "output_type": "stream",
          "text": [
            "\u001b[32m[I 2023-03-22 14:32:29,930]\u001b[0m Trial 29 finished with value: 0.16768894464309728 and parameters: {'lr': 2e-05, 'num_epochs': 4, 'batch_size': 8}. Best is trial 21 with value: 0.6656503805092403.\u001b[0m\n"
          ]
        },
        {
          "metadata": {
            "tags": null
          },
          "name": "stdout",
          "output_type": "stream",
          "text": [
            "Epoch [4/4], Step [392/392], Train Loss: 0.0811, Valid Loss: 0.2478\n",
            "Model saved to ==> /content/drive/My Drive/TASI/ModelImbalance/metrics.pt\n",
            "Finished Training!\n"
          ]
        },
        {
          "metadata": {
            "tags": null
          },
          "name": "stderr",
          "output_type": "stream",
          "text": [
            "Some weights of BertForSequenceClassification were not initialized from the model checkpoint at indobenchmark/indobert-base-p1 and are newly initialized: ['classifier.bias', 'classifier.weight']\n",
            "You should probably TRAIN this model on a down-stream task to be able to use it for predictions and inference.\n"
          ]
        },
        {
          "output_type": "stream",
          "name": "stdout",
          "text": [
            "Epoch [1/3], Step [49/294], Train Loss: 0.5288, Valid Loss: 0.7201\n",
            "Model saved to ==> /content/drive/My Drive/TASI/ModelImbalance/model.pt\n",
            "Model saved to ==> /content/drive/My Drive/TASI/ModelImbalance/metrics.pt\n",
            "Epoch [1/3], Step [98/294], Train Loss: 0.5357, Valid Loss: 0.4313\n",
            "Model saved to ==> /content/drive/My Drive/TASI/ModelImbalance/model.pt\n",
            "Model saved to ==> /content/drive/My Drive/TASI/ModelImbalance/metrics.pt\n",
            "Epoch [2/3], Step [147/294], Train Loss: 0.2895, Valid Loss: 0.4942\n",
            "Epoch [2/3], Step [196/294], Train Loss: 0.2498, Valid Loss: 0.2973\n",
            "Model saved to ==> /content/drive/My Drive/TASI/ModelImbalance/model.pt\n",
            "Model saved to ==> /content/drive/My Drive/TASI/ModelImbalance/metrics.pt\n",
            "Epoch [3/3], Step [245/294], Train Loss: 0.1908, Valid Loss: 0.2404\n",
            "Model saved to ==> /content/drive/My Drive/TASI/ModelImbalance/model.pt\n",
            "Model saved to ==> /content/drive/My Drive/TASI/ModelImbalance/metrics.pt\n"
          ]
        },
        {
          "output_type": "stream",
          "name": "stderr",
          "text": [
            "\u001b[32m[I 2023-03-22 14:33:56,842]\u001b[0m Trial 30 finished with value: 0.24043302983045578 and parameters: {'lr': 3e-05, 'num_epochs': 3, 'batch_size': 16}. Best is trial 21 with value: 0.6656503805092403.\u001b[0m\n"
          ]
        },
        {
          "output_type": "stream",
          "name": "stdout",
          "text": [
            "Epoch [3/3], Step [294/294], Train Loss: 0.1285, Valid Loss: 0.3977\n",
            "Model saved to ==> /content/drive/My Drive/TASI/ModelImbalance/metrics.pt\n",
            "Finished Training!\n"
          ]
        },
        {
          "output_type": "stream",
          "name": "stderr",
          "text": [
            "Some weights of BertForSequenceClassification were not initialized from the model checkpoint at indobenchmark/indobert-base-p1 and are newly initialized: ['classifier.bias', 'classifier.weight']\n",
            "You should probably TRAIN this model on a down-stream task to be able to use it for predictions and inference.\n"
          ]
        },
        {
          "output_type": "stream",
          "name": "stdout",
          "text": [
            "Epoch [1/2], Step [49/196], Train Loss: 0.5494, Valid Loss: 0.7946\n",
            "Model saved to ==> /content/drive/My Drive/TASI/ModelImbalance/model.pt\n",
            "Model saved to ==> /content/drive/My Drive/TASI/ModelImbalance/metrics.pt\n",
            "Epoch [1/2], Step [98/196], Train Loss: 0.7233, Valid Loss: 0.6876\n",
            "Model saved to ==> /content/drive/My Drive/TASI/ModelImbalance/model.pt\n",
            "Model saved to ==> /content/drive/My Drive/TASI/ModelImbalance/metrics.pt\n",
            "Epoch [2/2], Step [147/196], Train Loss: 0.4550, Valid Loss: 0.4346\n",
            "Model saved to ==> /content/drive/My Drive/TASI/ModelImbalance/model.pt\n",
            "Model saved to ==> /content/drive/My Drive/TASI/ModelImbalance/metrics.pt\n",
            "Epoch [2/2], Step [196/196], Train Loss: 0.3549, Valid Loss: 0.2591\n"
          ]
        },
        {
          "output_type": "stream",
          "name": "stderr",
          "text": [
            "\u001b[32m[I 2023-03-22 14:34:58,012]\u001b[0m Trial 31 finished with value: 0.2590855777795826 and parameters: {'lr': 4e-05, 'num_epochs': 2, 'batch_size': 4}. Best is trial 21 with value: 0.6656503805092403.\u001b[0m\n"
          ]
        },
        {
          "output_type": "stream",
          "name": "stdout",
          "text": [
            "Model saved to ==> /content/drive/My Drive/TASI/ModelImbalance/model.pt\n",
            "Model saved to ==> /content/drive/My Drive/TASI/ModelImbalance/metrics.pt\n",
            "Model saved to ==> /content/drive/My Drive/TASI/ModelImbalance/metrics.pt\n",
            "Finished Training!\n"
          ]
        },
        {
          "output_type": "stream",
          "name": "stderr",
          "text": [
            "Some weights of BertForSequenceClassification were not initialized from the model checkpoint at indobenchmark/indobert-base-p1 and are newly initialized: ['classifier.bias', 'classifier.weight']\n",
            "You should probably TRAIN this model on a down-stream task to be able to use it for predictions and inference.\n"
          ]
        },
        {
          "output_type": "stream",
          "name": "stdout",
          "text": [
            "Epoch [1/3], Step [49/294], Train Loss: 0.5537, Valid Loss: 0.7117\n",
            "Model saved to ==> /content/drive/My Drive/TASI/ModelImbalance/model.pt\n",
            "Model saved to ==> /content/drive/My Drive/TASI/ModelImbalance/metrics.pt\n",
            "Epoch [1/3], Step [98/294], Train Loss: 0.6324, Valid Loss: 0.4776\n",
            "Model saved to ==> /content/drive/My Drive/TASI/ModelImbalance/model.pt\n",
            "Model saved to ==> /content/drive/My Drive/TASI/ModelImbalance/metrics.pt\n",
            "Epoch [2/3], Step [147/294], Train Loss: 0.3194, Valid Loss: 0.3465\n",
            "Model saved to ==> /content/drive/My Drive/TASI/ModelImbalance/model.pt\n",
            "Model saved to ==> /content/drive/My Drive/TASI/ModelImbalance/metrics.pt\n",
            "Epoch [2/3], Step [196/294], Train Loss: 0.2625, Valid Loss: 0.2266\n",
            "Model saved to ==> /content/drive/My Drive/TASI/ModelImbalance/model.pt\n",
            "Model saved to ==> /content/drive/My Drive/TASI/ModelImbalance/metrics.pt\n",
            "Epoch [3/3], Step [245/294], Train Loss: 0.1523, Valid Loss: 0.2678\n",
            "Epoch [3/3], Step [294/294], Train Loss: 0.1523, Valid Loss: 0.1972\n"
          ]
        },
        {
          "output_type": "stream",
          "name": "stderr",
          "text": [
            "\u001b[32m[I 2023-03-22 14:36:27,671]\u001b[0m Trial 32 finished with value: 0.19724569619367166 and parameters: {'lr': 2e-05, 'num_epochs': 3, 'batch_size': 4}. Best is trial 21 with value: 0.6656503805092403.\u001b[0m\n"
          ]
        },
        {
          "output_type": "stream",
          "name": "stdout",
          "text": [
            "Model saved to ==> /content/drive/My Drive/TASI/ModelImbalance/model.pt\n",
            "Model saved to ==> /content/drive/My Drive/TASI/ModelImbalance/metrics.pt\n",
            "Model saved to ==> /content/drive/My Drive/TASI/ModelImbalance/metrics.pt\n",
            "Finished Training!\n"
          ]
        },
        {
          "output_type": "stream",
          "name": "stderr",
          "text": [
            "Some weights of BertForSequenceClassification were not initialized from the model checkpoint at indobenchmark/indobert-base-p1 and are newly initialized: ['classifier.bias', 'classifier.weight']\n",
            "You should probably TRAIN this model on a down-stream task to be able to use it for predictions and inference.\n"
          ]
        },
        {
          "output_type": "stream",
          "name": "stdout",
          "text": [
            "Epoch [1/3], Step [49/294], Train Loss: 0.5487, Valid Loss: 0.6931\n",
            "Model saved to ==> /content/drive/My Drive/TASI/ModelImbalance/model.pt\n",
            "Model saved to ==> /content/drive/My Drive/TASI/ModelImbalance/metrics.pt\n",
            "Epoch [1/3], Step [98/294], Train Loss: 0.5608, Valid Loss: 0.5022\n",
            "Model saved to ==> /content/drive/My Drive/TASI/ModelImbalance/model.pt\n",
            "Model saved to ==> /content/drive/My Drive/TASI/ModelImbalance/metrics.pt\n",
            "Epoch [2/3], Step [147/294], Train Loss: 0.2914, Valid Loss: 0.2135\n",
            "Model saved to ==> /content/drive/My Drive/TASI/ModelImbalance/model.pt\n",
            "Model saved to ==> /content/drive/My Drive/TASI/ModelImbalance/metrics.pt\n",
            "Epoch [2/3], Step [196/294], Train Loss: 0.3104, Valid Loss: 0.1891\n",
            "Model saved to ==> /content/drive/My Drive/TASI/ModelImbalance/model.pt\n",
            "Model saved to ==> /content/drive/My Drive/TASI/ModelImbalance/metrics.pt\n",
            "Epoch [3/3], Step [245/294], Train Loss: 0.2100, Valid Loss: 0.2306\n"
          ]
        },
        {
          "output_type": "stream",
          "name": "stderr",
          "text": [
            "\u001b[32m[I 2023-03-22 14:37:55,150]\u001b[0m Trial 33 finished with value: 0.18910439951079233 and parameters: {'lr': 4e-05, 'num_epochs': 3, 'batch_size': 8}. Best is trial 21 with value: 0.6656503805092403.\u001b[0m\n"
          ]
        },
        {
          "output_type": "stream",
          "name": "stdout",
          "text": [
            "Epoch [3/3], Step [294/294], Train Loss: 0.2753, Valid Loss: 0.2978\n",
            "Model saved to ==> /content/drive/My Drive/TASI/ModelImbalance/metrics.pt\n",
            "Finished Training!\n"
          ]
        },
        {
          "output_type": "stream",
          "name": "stderr",
          "text": [
            "Some weights of BertForSequenceClassification were not initialized from the model checkpoint at indobenchmark/indobert-base-p1 and are newly initialized: ['classifier.bias', 'classifier.weight']\n",
            "You should probably TRAIN this model on a down-stream task to be able to use it for predictions and inference.\n"
          ]
        },
        {
          "output_type": "stream",
          "name": "stdout",
          "text": [
            "Epoch [1/3], Step [49/294], Train Loss: 0.4914, Valid Loss: 0.4893\n",
            "Model saved to ==> /content/drive/My Drive/TASI/ModelImbalance/model.pt\n",
            "Model saved to ==> /content/drive/My Drive/TASI/ModelImbalance/metrics.pt\n",
            "Epoch [1/3], Step [98/294], Train Loss: 0.3573, Valid Loss: 0.3812\n",
            "Model saved to ==> /content/drive/My Drive/TASI/ModelImbalance/model.pt\n",
            "Model saved to ==> /content/drive/My Drive/TASI/ModelImbalance/metrics.pt\n",
            "Epoch [2/3], Step [147/294], Train Loss: 0.2563, Valid Loss: 0.2387\n",
            "Model saved to ==> /content/drive/My Drive/TASI/ModelImbalance/model.pt\n",
            "Model saved to ==> /content/drive/My Drive/TASI/ModelImbalance/metrics.pt\n",
            "Epoch [2/3], Step [196/294], Train Loss: 0.2524, Valid Loss: 0.2385\n",
            "Model saved to ==> /content/drive/My Drive/TASI/ModelImbalance/model.pt\n",
            "Model saved to ==> /content/drive/My Drive/TASI/ModelImbalance/metrics.pt\n",
            "Epoch [3/3], Step [245/294], Train Loss: 0.1266, Valid Loss: 0.2138\n",
            "Model saved to ==> /content/drive/My Drive/TASI/ModelImbalance/model.pt\n",
            "Model saved to ==> /content/drive/My Drive/TASI/ModelImbalance/metrics.pt\n"
          ]
        },
        {
          "output_type": "stream",
          "name": "stderr",
          "text": [
            "\u001b[32m[I 2023-03-22 14:39:24,795]\u001b[0m Trial 34 finished with value: 0.2137967948219739 and parameters: {'lr': 4e-05, 'num_epochs': 3, 'batch_size': 4}. Best is trial 21 with value: 0.6656503805092403.\u001b[0m\n"
          ]
        },
        {
          "output_type": "stream",
          "name": "stdout",
          "text": [
            "Epoch [3/3], Step [294/294], Train Loss: 0.1518, Valid Loss: 0.2430\n",
            "Model saved to ==> /content/drive/My Drive/TASI/ModelImbalance/metrics.pt\n",
            "Finished Training!\n"
          ]
        },
        {
          "output_type": "stream",
          "name": "stderr",
          "text": [
            "Some weights of BertForSequenceClassification were not initialized from the model checkpoint at indobenchmark/indobert-base-p1 and are newly initialized: ['classifier.bias', 'classifier.weight']\n",
            "You should probably TRAIN this model on a down-stream task to be able to use it for predictions and inference.\n"
          ]
        },
        {
          "output_type": "stream",
          "name": "stdout",
          "text": [
            "Epoch [1/4], Step [49/392], Train Loss: 0.5344, Valid Loss: 0.7784\n",
            "Model saved to ==> /content/drive/My Drive/TASI/ModelImbalance/model.pt\n",
            "Model saved to ==> /content/drive/My Drive/TASI/ModelImbalance/metrics.pt\n",
            "Epoch [1/4], Step [98/392], Train Loss: 0.7131, Valid Loss: 0.6715\n",
            "Model saved to ==> /content/drive/My Drive/TASI/ModelImbalance/model.pt\n",
            "Model saved to ==> /content/drive/My Drive/TASI/ModelImbalance/metrics.pt\n",
            "Epoch [2/4], Step [147/392], Train Loss: 0.5275, Valid Loss: 0.7559\n",
            "Epoch [2/4], Step [196/392], Train Loss: 0.5341, Valid Loss: 0.5447\n",
            "Model saved to ==> /content/drive/My Drive/TASI/ModelImbalance/model.pt\n",
            "Model saved to ==> /content/drive/My Drive/TASI/ModelImbalance/metrics.pt\n",
            "Epoch [3/4], Step [245/392], Train Loss: 0.2501, Valid Loss: 0.2335\n",
            "Model saved to ==> /content/drive/My Drive/TASI/ModelImbalance/model.pt\n",
            "Model saved to ==> /content/drive/My Drive/TASI/ModelImbalance/metrics.pt\n",
            "Epoch [3/4], Step [294/392], Train Loss: 0.2625, Valid Loss: 0.3174\n",
            "Epoch [4/4], Step [343/392], Train Loss: 0.1577, Valid Loss: 0.1631\n",
            "Model saved to ==> /content/drive/My Drive/TASI/ModelImbalance/model.pt\n",
            "Model saved to ==> /content/drive/My Drive/TASI/ModelImbalance/metrics.pt\n"
          ]
        },
        {
          "output_type": "stream",
          "name": "stderr",
          "text": [
            "\u001b[32m[I 2023-03-22 14:41:21,311]\u001b[0m Trial 35 finished with value: 0.1631231687829963 and parameters: {'lr': 5e-05, 'num_epochs': 4, 'batch_size': 4}. Best is trial 21 with value: 0.6656503805092403.\u001b[0m\n"
          ]
        },
        {
          "output_type": "stream",
          "name": "stdout",
          "text": [
            "Epoch [4/4], Step [392/392], Train Loss: 0.1255, Valid Loss: 0.2225\n",
            "Model saved to ==> /content/drive/My Drive/TASI/ModelImbalance/metrics.pt\n",
            "Finished Training!\n"
          ]
        },
        {
          "output_type": "stream",
          "name": "stderr",
          "text": [
            "Some weights of BertForSequenceClassification were not initialized from the model checkpoint at indobenchmark/indobert-base-p1 and are newly initialized: ['classifier.bias', 'classifier.weight']\n",
            "You should probably TRAIN this model on a down-stream task to be able to use it for predictions and inference.\n"
          ]
        },
        {
          "output_type": "stream",
          "name": "stdout",
          "text": [
            "Epoch [1/2], Step [49/196], Train Loss: 0.5431, Valid Loss: 0.6583\n",
            "Model saved to ==> /content/drive/My Drive/TASI/ModelImbalance/model.pt\n",
            "Model saved to ==> /content/drive/My Drive/TASI/ModelImbalance/metrics.pt\n",
            "Epoch [1/2], Step [98/196], Train Loss: 0.5761, Valid Loss: 0.3317\n",
            "Model saved to ==> /content/drive/My Drive/TASI/ModelImbalance/model.pt\n",
            "Model saved to ==> /content/drive/My Drive/TASI/ModelImbalance/metrics.pt\n",
            "Epoch [2/2], Step [147/196], Train Loss: 0.2481, Valid Loss: 0.2376\n",
            "Model saved to ==> /content/drive/My Drive/TASI/ModelImbalance/model.pt\n",
            "Model saved to ==> /content/drive/My Drive/TASI/ModelImbalance/metrics.pt\n"
          ]
        },
        {
          "output_type": "stream",
          "name": "stderr",
          "text": [
            "\u001b[32m[I 2023-03-22 14:42:23,367]\u001b[0m Trial 36 finished with value: 0.23759005697710173 and parameters: {'lr': 2e-05, 'num_epochs': 2, 'batch_size': 32}. Best is trial 21 with value: 0.6656503805092403.\u001b[0m\n"
          ]
        },
        {
          "output_type": "stream",
          "name": "stdout",
          "text": [
            "Epoch [2/2], Step [196/196], Train Loss: 0.2195, Valid Loss: 0.2558\n",
            "Model saved to ==> /content/drive/My Drive/TASI/ModelImbalance/metrics.pt\n",
            "Finished Training!\n"
          ]
        },
        {
          "output_type": "stream",
          "name": "stderr",
          "text": [
            "Some weights of BertForSequenceClassification were not initialized from the model checkpoint at indobenchmark/indobert-base-p1 and are newly initialized: ['classifier.bias', 'classifier.weight']\n",
            "You should probably TRAIN this model on a down-stream task to be able to use it for predictions and inference.\n"
          ]
        },
        {
          "output_type": "stream",
          "name": "stdout",
          "text": [
            "Epoch [1/3], Step [49/294], Train Loss: 0.5340, Valid Loss: 0.6983\n",
            "Model saved to ==> /content/drive/My Drive/TASI/ModelImbalance/model.pt\n",
            "Model saved to ==> /content/drive/My Drive/TASI/ModelImbalance/metrics.pt\n",
            "Epoch [1/3], Step [98/294], Train Loss: 0.5165, Valid Loss: 0.4484\n",
            "Model saved to ==> /content/drive/My Drive/TASI/ModelImbalance/model.pt\n",
            "Model saved to ==> /content/drive/My Drive/TASI/ModelImbalance/metrics.pt\n",
            "Epoch [2/3], Step [147/294], Train Loss: 0.2433, Valid Loss: 0.1768\n",
            "Model saved to ==> /content/drive/My Drive/TASI/ModelImbalance/model.pt\n",
            "Model saved to ==> /content/drive/My Drive/TASI/ModelImbalance/metrics.pt\n",
            "Epoch [2/3], Step [196/294], Train Loss: 0.1932, Valid Loss: 0.2311\n",
            "Epoch [3/3], Step [245/294], Train Loss: 0.1871, Valid Loss: 0.2227\n"
          ]
        },
        {
          "output_type": "stream",
          "name": "stderr",
          "text": [
            "\u001b[32m[I 2023-03-22 14:43:50,787]\u001b[0m Trial 37 finished with value: 0.17681016999163798 and parameters: {'lr': 3e-05, 'num_epochs': 3, 'batch_size': 32}. Best is trial 21 with value: 0.6656503805092403.\u001b[0m\n"
          ]
        },
        {
          "output_type": "stream",
          "name": "stdout",
          "text": [
            "Epoch [3/3], Step [294/294], Train Loss: 0.1202, Valid Loss: 0.2151\n",
            "Model saved to ==> /content/drive/My Drive/TASI/ModelImbalance/metrics.pt\n",
            "Finished Training!\n"
          ]
        },
        {
          "output_type": "stream",
          "name": "stderr",
          "text": [
            "Some weights of BertForSequenceClassification were not initialized from the model checkpoint at indobenchmark/indobert-base-p1 and are newly initialized: ['classifier.bias', 'classifier.weight']\n",
            "You should probably TRAIN this model on a down-stream task to be able to use it for predictions and inference.\n"
          ]
        },
        {
          "output_type": "stream",
          "name": "stdout",
          "text": [
            "Epoch [1/2], Step [49/196], Train Loss: 0.5457, Valid Loss: 0.7791\n",
            "Model saved to ==> /content/drive/My Drive/TASI/ModelImbalance/model.pt\n",
            "Model saved to ==> /content/drive/My Drive/TASI/ModelImbalance/metrics.pt\n",
            "Epoch [1/2], Step [98/196], Train Loss: 0.7232, Valid Loss: 0.6707\n",
            "Model saved to ==> /content/drive/My Drive/TASI/ModelImbalance/model.pt\n",
            "Model saved to ==> /content/drive/My Drive/TASI/ModelImbalance/metrics.pt\n",
            "Epoch [2/2], Step [147/196], Train Loss: 0.4360, Valid Loss: 0.5025\n",
            "Model saved to ==> /content/drive/My Drive/TASI/ModelImbalance/model.pt\n",
            "Model saved to ==> /content/drive/My Drive/TASI/ModelImbalance/metrics.pt\n",
            "Epoch [2/2], Step [196/196], Train Loss: 0.3170, Valid Loss: 0.3464\n"
          ]
        },
        {
          "output_type": "stream",
          "name": "stderr",
          "text": [
            "\u001b[32m[I 2023-03-22 14:44:52,093]\u001b[0m Trial 38 finished with value: 0.34644030194197384 and parameters: {'lr': 3e-05, 'num_epochs': 2, 'batch_size': 8}. Best is trial 21 with value: 0.6656503805092403.\u001b[0m\n"
          ]
        },
        {
          "output_type": "stream",
          "name": "stdout",
          "text": [
            "Model saved to ==> /content/drive/My Drive/TASI/ModelImbalance/model.pt\n",
            "Model saved to ==> /content/drive/My Drive/TASI/ModelImbalance/metrics.pt\n",
            "Model saved to ==> /content/drive/My Drive/TASI/ModelImbalance/metrics.pt\n",
            "Finished Training!\n"
          ]
        },
        {
          "output_type": "stream",
          "name": "stderr",
          "text": [
            "Some weights of BertForSequenceClassification were not initialized from the model checkpoint at indobenchmark/indobert-base-p1 and are newly initialized: ['classifier.bias', 'classifier.weight']\n",
            "You should probably TRAIN this model on a down-stream task to be able to use it for predictions and inference.\n"
          ]
        },
        {
          "output_type": "stream",
          "name": "stdout",
          "text": [
            "Epoch [1/2], Step [49/196], Train Loss: 0.5329, Valid Loss: 0.6999\n",
            "Model saved to ==> /content/drive/My Drive/TASI/ModelImbalance/model.pt\n",
            "Model saved to ==> /content/drive/My Drive/TASI/ModelImbalance/metrics.pt\n",
            "Epoch [1/2], Step [98/196], Train Loss: 0.5169, Valid Loss: 0.4670\n",
            "Model saved to ==> /content/drive/My Drive/TASI/ModelImbalance/model.pt\n",
            "Model saved to ==> /content/drive/My Drive/TASI/ModelImbalance/metrics.pt\n",
            "Epoch [2/2], Step [147/196], Train Loss: 0.2444, Valid Loss: 0.1905\n",
            "Model saved to ==> /content/drive/My Drive/TASI/ModelImbalance/model.pt\n",
            "Model saved to ==> /content/drive/My Drive/TASI/ModelImbalance/metrics.pt\n"
          ]
        },
        {
          "output_type": "stream",
          "name": "stderr",
          "text": [
            "\u001b[32m[I 2023-03-22 14:45:53,654]\u001b[0m Trial 39 finished with value: 0.19045179403786147 and parameters: {'lr': 4e-05, 'num_epochs': 2, 'batch_size': 8}. Best is trial 21 with value: 0.6656503805092403.\u001b[0m\n"
          ]
        },
        {
          "output_type": "stream",
          "name": "stdout",
          "text": [
            "Epoch [2/2], Step [196/196], Train Loss: 0.2208, Valid Loss: 0.3039\n",
            "Model saved to ==> /content/drive/My Drive/TASI/ModelImbalance/metrics.pt\n",
            "Finished Training!\n"
          ]
        },
        {
          "output_type": "stream",
          "name": "stderr",
          "text": [
            "Some weights of BertForSequenceClassification were not initialized from the model checkpoint at indobenchmark/indobert-base-p1 and are newly initialized: ['classifier.bias', 'classifier.weight']\n",
            "You should probably TRAIN this model on a down-stream task to be able to use it for predictions and inference.\n"
          ]
        },
        {
          "output_type": "stream",
          "name": "stdout",
          "text": [
            "Epoch [1/2], Step [49/196], Train Loss: 0.5307, Valid Loss: 0.7800\n",
            "Model saved to ==> /content/drive/My Drive/TASI/ModelImbalance/model.pt\n",
            "Model saved to ==> /content/drive/My Drive/TASI/ModelImbalance/metrics.pt\n",
            "Epoch [1/2], Step [98/196], Train Loss: 0.5063, Valid Loss: 0.4187\n",
            "Model saved to ==> /content/drive/My Drive/TASI/ModelImbalance/model.pt\n",
            "Model saved to ==> /content/drive/My Drive/TASI/ModelImbalance/metrics.pt\n",
            "Epoch [2/2], Step [147/196], Train Loss: 0.2497, Valid Loss: 0.2043\n",
            "Model saved to ==> /content/drive/My Drive/TASI/ModelImbalance/model.pt\n",
            "Model saved to ==> /content/drive/My Drive/TASI/ModelImbalance/metrics.pt\n"
          ]
        },
        {
          "output_type": "stream",
          "name": "stderr",
          "text": [
            "\u001b[32m[I 2023-03-22 14:46:54,942]\u001b[0m Trial 40 finished with value: 0.20433535596488842 and parameters: {'lr': 5e-05, 'num_epochs': 2, 'batch_size': 16}. Best is trial 21 with value: 0.6656503805092403.\u001b[0m\n"
          ]
        },
        {
          "output_type": "stream",
          "name": "stdout",
          "text": [
            "Epoch [2/2], Step [196/196], Train Loss: 0.2429, Valid Loss: 0.2604\n",
            "Model saved to ==> /content/drive/My Drive/TASI/ModelImbalance/metrics.pt\n",
            "Finished Training!\n"
          ]
        },
        {
          "output_type": "stream",
          "name": "stderr",
          "text": [
            "Some weights of BertForSequenceClassification were not initialized from the model checkpoint at indobenchmark/indobert-base-p1 and are newly initialized: ['classifier.bias', 'classifier.weight']\n",
            "You should probably TRAIN this model on a down-stream task to be able to use it for predictions and inference.\n"
          ]
        },
        {
          "output_type": "stream",
          "name": "stdout",
          "text": [
            "Epoch [1/2], Step [49/196], Train Loss: 0.5222, Valid Loss: 0.7433\n",
            "Model saved to ==> /content/drive/My Drive/TASI/ModelImbalance/model.pt\n",
            "Model saved to ==> /content/drive/My Drive/TASI/ModelImbalance/metrics.pt\n",
            "Epoch [1/2], Step [98/196], Train Loss: 0.4979, Valid Loss: 0.5274\n",
            "Model saved to ==> /content/drive/My Drive/TASI/ModelImbalance/model.pt\n",
            "Model saved to ==> /content/drive/My Drive/TASI/ModelImbalance/metrics.pt\n",
            "Epoch [2/2], Step [147/196], Train Loss: 0.2900, Valid Loss: 0.2090\n",
            "Model saved to ==> /content/drive/My Drive/TASI/ModelImbalance/model.pt\n",
            "Model saved to ==> /content/drive/My Drive/TASI/ModelImbalance/metrics.pt\n"
          ]
        },
        {
          "output_type": "stream",
          "name": "stderr",
          "text": [
            "\u001b[32m[I 2023-03-22 14:47:56,496]\u001b[0m Trial 41 finished with value: 0.20895499303670867 and parameters: {'lr': 4e-05, 'num_epochs': 2, 'batch_size': 32}. Best is trial 21 with value: 0.6656503805092403.\u001b[0m\n"
          ]
        },
        {
          "output_type": "stream",
          "name": "stdout",
          "text": [
            "Epoch [2/2], Step [196/196], Train Loss: 0.1921, Valid Loss: 0.3090\n",
            "Model saved to ==> /content/drive/My Drive/TASI/ModelImbalance/metrics.pt\n",
            "Finished Training!\n"
          ]
        },
        {
          "output_type": "stream",
          "name": "stderr",
          "text": [
            "Some weights of BertForSequenceClassification were not initialized from the model checkpoint at indobenchmark/indobert-base-p1 and are newly initialized: ['classifier.bias', 'classifier.weight']\n",
            "You should probably TRAIN this model on a down-stream task to be able to use it for predictions and inference.\n"
          ]
        },
        {
          "output_type": "stream",
          "name": "stdout",
          "text": [
            "Epoch [1/2], Step [49/196], Train Loss: 0.5324, Valid Loss: 0.6229\n",
            "Model saved to ==> /content/drive/My Drive/TASI/ModelImbalance/model.pt\n",
            "Model saved to ==> /content/drive/My Drive/TASI/ModelImbalance/metrics.pt\n",
            "Epoch [1/2], Step [98/196], Train Loss: 0.4309, Valid Loss: 0.3365\n",
            "Model saved to ==> /content/drive/My Drive/TASI/ModelImbalance/model.pt\n",
            "Model saved to ==> /content/drive/My Drive/TASI/ModelImbalance/metrics.pt\n",
            "Epoch [2/2], Step [147/196], Train Loss: 0.2468, Valid Loss: 0.1967\n",
            "Model saved to ==> /content/drive/My Drive/TASI/ModelImbalance/model.pt\n",
            "Model saved to ==> /content/drive/My Drive/TASI/ModelImbalance/metrics.pt\n"
          ]
        },
        {
          "output_type": "stream",
          "name": "stderr",
          "text": [
            "\u001b[32m[I 2023-03-22 14:48:57,704]\u001b[0m Trial 42 finished with value: 0.19674450870869414 and parameters: {'lr': 2e-05, 'num_epochs': 2, 'batch_size': 8}. Best is trial 21 with value: 0.6656503805092403.\u001b[0m\n"
          ]
        },
        {
          "output_type": "stream",
          "name": "stdout",
          "text": [
            "Epoch [2/2], Step [196/196], Train Loss: 0.1974, Valid Loss: 0.2078\n",
            "Model saved to ==> /content/drive/My Drive/TASI/ModelImbalance/metrics.pt\n",
            "Finished Training!\n"
          ]
        },
        {
          "output_type": "stream",
          "name": "stderr",
          "text": [
            "Some weights of BertForSequenceClassification were not initialized from the model checkpoint at indobenchmark/indobert-base-p1 and are newly initialized: ['classifier.bias', 'classifier.weight']\n",
            "You should probably TRAIN this model on a down-stream task to be able to use it for predictions and inference.\n"
          ]
        },
        {
          "output_type": "stream",
          "name": "stdout",
          "text": [
            "Epoch [1/2], Step [49/196], Train Loss: 0.5204, Valid Loss: 0.6332\n",
            "Model saved to ==> /content/drive/My Drive/TASI/ModelImbalance/model.pt\n",
            "Model saved to ==> /content/drive/My Drive/TASI/ModelImbalance/metrics.pt\n",
            "Epoch [1/2], Step [98/196], Train Loss: 0.5287, Valid Loss: 0.4660\n",
            "Model saved to ==> /content/drive/My Drive/TASI/ModelImbalance/model.pt\n",
            "Model saved to ==> /content/drive/My Drive/TASI/ModelImbalance/metrics.pt\n",
            "Epoch [2/2], Step [147/196], Train Loss: 0.3337, Valid Loss: 0.3081\n",
            "Model saved to ==> /content/drive/My Drive/TASI/ModelImbalance/model.pt\n",
            "Model saved to ==> /content/drive/My Drive/TASI/ModelImbalance/metrics.pt\n",
            "Epoch [2/2], Step [196/196], Train Loss: 0.3123, Valid Loss: 0.2080\n"
          ]
        },
        {
          "output_type": "stream",
          "name": "stderr",
          "text": [
            "\u001b[32m[I 2023-03-22 14:50:00,668]\u001b[0m Trial 43 finished with value: 0.2080249022692442 and parameters: {'lr': 4e-05, 'num_epochs': 2, 'batch_size': 16}. Best is trial 21 with value: 0.6656503805092403.\u001b[0m\n"
          ]
        },
        {
          "output_type": "stream",
          "name": "stdout",
          "text": [
            "Model saved to ==> /content/drive/My Drive/TASI/ModelImbalance/model.pt\n",
            "Model saved to ==> /content/drive/My Drive/TASI/ModelImbalance/metrics.pt\n",
            "Model saved to ==> /content/drive/My Drive/TASI/ModelImbalance/metrics.pt\n",
            "Finished Training!\n"
          ]
        },
        {
          "output_type": "stream",
          "name": "stderr",
          "text": [
            "Some weights of BertForSequenceClassification were not initialized from the model checkpoint at indobenchmark/indobert-base-p1 and are newly initialized: ['classifier.bias', 'classifier.weight']\n",
            "You should probably TRAIN this model on a down-stream task to be able to use it for predictions and inference.\n"
          ]
        },
        {
          "output_type": "stream",
          "name": "stdout",
          "text": [
            "Epoch [1/4], Step [49/392], Train Loss: 0.5115, Valid Loss: 0.4108\n",
            "Model saved to ==> /content/drive/My Drive/TASI/ModelImbalance/model.pt\n",
            "Model saved to ==> /content/drive/My Drive/TASI/ModelImbalance/metrics.pt\n",
            "Epoch [1/4], Step [98/392], Train Loss: 0.4105, Valid Loss: 0.2710\n",
            "Model saved to ==> /content/drive/My Drive/TASI/ModelImbalance/model.pt\n",
            "Model saved to ==> /content/drive/My Drive/TASI/ModelImbalance/metrics.pt\n",
            "Epoch [2/4], Step [147/392], Train Loss: 0.2468, Valid Loss: 0.1931\n",
            "Model saved to ==> /content/drive/My Drive/TASI/ModelImbalance/model.pt\n",
            "Model saved to ==> /content/drive/My Drive/TASI/ModelImbalance/metrics.pt\n",
            "Epoch [2/4], Step [196/392], Train Loss: 0.3103, Valid Loss: 0.3764\n",
            "Epoch [3/4], Step [245/392], Train Loss: 0.1871, Valid Loss: 0.1909\n",
            "Model saved to ==> /content/drive/My Drive/TASI/ModelImbalance/model.pt\n",
            "Model saved to ==> /content/drive/My Drive/TASI/ModelImbalance/metrics.pt\n",
            "Epoch [3/4], Step [294/392], Train Loss: 0.2166, Valid Loss: 0.2371\n",
            "Epoch [4/4], Step [343/392], Train Loss: 0.1098, Valid Loss: 0.1607\n",
            "Model saved to ==> /content/drive/My Drive/TASI/ModelImbalance/model.pt\n",
            "Model saved to ==> /content/drive/My Drive/TASI/ModelImbalance/metrics.pt\n"
          ]
        },
        {
          "output_type": "stream",
          "name": "stderr",
          "text": [
            "\u001b[32m[I 2023-03-22 14:51:57,017]\u001b[0m Trial 44 finished with value: 0.16065047510866343 and parameters: {'lr': 5e-05, 'num_epochs': 4, 'batch_size': 16}. Best is trial 21 with value: 0.6656503805092403.\u001b[0m\n"
          ]
        },
        {
          "output_type": "stream",
          "name": "stdout",
          "text": [
            "Epoch [4/4], Step [392/392], Train Loss: 0.1252, Valid Loss: 0.1868\n",
            "Model saved to ==> /content/drive/My Drive/TASI/ModelImbalance/metrics.pt\n",
            "Finished Training!\n"
          ]
        },
        {
          "output_type": "stream",
          "name": "stderr",
          "text": [
            "Some weights of BertForSequenceClassification were not initialized from the model checkpoint at indobenchmark/indobert-base-p1 and are newly initialized: ['classifier.bias', 'classifier.weight']\n",
            "You should probably TRAIN this model on a down-stream task to be able to use it for predictions and inference.\n"
          ]
        },
        {
          "output_type": "stream",
          "name": "stdout",
          "text": [
            "Epoch [1/2], Step [49/196], Train Loss: 0.5061, Valid Loss: 0.5284\n",
            "Model saved to ==> /content/drive/My Drive/TASI/ModelImbalance/model.pt\n",
            "Model saved to ==> /content/drive/My Drive/TASI/ModelImbalance/metrics.pt\n",
            "Epoch [1/2], Step [98/196], Train Loss: 0.4490, Valid Loss: 0.3823\n",
            "Model saved to ==> /content/drive/My Drive/TASI/ModelImbalance/model.pt\n",
            "Model saved to ==> /content/drive/My Drive/TASI/ModelImbalance/metrics.pt\n",
            "Epoch [2/2], Step [147/196], Train Loss: 0.2529, Valid Loss: 0.3406\n",
            "Model saved to ==> /content/drive/My Drive/TASI/ModelImbalance/model.pt\n",
            "Model saved to ==> /content/drive/My Drive/TASI/ModelImbalance/metrics.pt\n"
          ]
        },
        {
          "output_type": "stream",
          "name": "stderr",
          "text": [
            "\u001b[32m[I 2023-03-22 14:52:58,820]\u001b[0m Trial 45 finished with value: 0.3406164864344256 and parameters: {'lr': 5e-05, 'num_epochs': 2, 'batch_size': 8}. Best is trial 21 with value: 0.6656503805092403.\u001b[0m\n"
          ]
        },
        {
          "output_type": "stream",
          "name": "stdout",
          "text": [
            "Epoch [2/2], Step [196/196], Train Loss: 0.3279, Valid Loss: 0.3445\n",
            "Model saved to ==> /content/drive/My Drive/TASI/ModelImbalance/metrics.pt\n",
            "Finished Training!\n"
          ]
        },
        {
          "output_type": "stream",
          "name": "stderr",
          "text": [
            "Some weights of BertForSequenceClassification were not initialized from the model checkpoint at indobenchmark/indobert-base-p1 and are newly initialized: ['classifier.bias', 'classifier.weight']\n",
            "You should probably TRAIN this model on a down-stream task to be able to use it for predictions and inference.\n"
          ]
        },
        {
          "output_type": "stream",
          "name": "stdout",
          "text": [
            "Epoch [1/4], Step [49/392], Train Loss: 0.5255, Valid Loss: 0.6252\n",
            "Model saved to ==> /content/drive/My Drive/TASI/ModelImbalance/model.pt\n",
            "Model saved to ==> /content/drive/My Drive/TASI/ModelImbalance/metrics.pt\n",
            "Epoch [1/4], Step [98/392], Train Loss: 0.3921, Valid Loss: 0.2782\n",
            "Model saved to ==> /content/drive/My Drive/TASI/ModelImbalance/model.pt\n",
            "Model saved to ==> /content/drive/My Drive/TASI/ModelImbalance/metrics.pt\n",
            "Epoch [2/4], Step [147/392], Train Loss: 0.2229, Valid Loss: 0.2746\n",
            "Model saved to ==> /content/drive/My Drive/TASI/ModelImbalance/model.pt\n",
            "Model saved to ==> /content/drive/My Drive/TASI/ModelImbalance/metrics.pt\n",
            "Epoch [2/4], Step [196/392], Train Loss: 0.1868, Valid Loss: 0.1570\n",
            "Model saved to ==> /content/drive/My Drive/TASI/ModelImbalance/model.pt\n",
            "Model saved to ==> /content/drive/My Drive/TASI/ModelImbalance/metrics.pt\n",
            "Epoch [3/4], Step [245/392], Train Loss: 0.1097, Valid Loss: 0.2837\n",
            "Epoch [3/4], Step [294/392], Train Loss: 0.0906, Valid Loss: 0.2753\n",
            "Epoch [4/4], Step [343/392], Train Loss: 0.1008, Valid Loss: 0.4145\n"
          ]
        },
        {
          "output_type": "stream",
          "name": "stderr",
          "text": [
            "\u001b[32m[I 2023-03-22 14:54:55,102]\u001b[0m Trial 46 finished with value: 0.15698214394173451 and parameters: {'lr': 2e-05, 'num_epochs': 4, 'batch_size': 4}. Best is trial 21 with value: 0.6656503805092403.\u001b[0m\n"
          ]
        },
        {
          "output_type": "stream",
          "name": "stdout",
          "text": [
            "Epoch [4/4], Step [392/392], Train Loss: 0.0734, Valid Loss: 0.2764\n",
            "Model saved to ==> /content/drive/My Drive/TASI/ModelImbalance/metrics.pt\n",
            "Finished Training!\n"
          ]
        },
        {
          "output_type": "stream",
          "name": "stderr",
          "text": [
            "Some weights of BertForSequenceClassification were not initialized from the model checkpoint at indobenchmark/indobert-base-p1 and are newly initialized: ['classifier.bias', 'classifier.weight']\n",
            "You should probably TRAIN this model on a down-stream task to be able to use it for predictions and inference.\n"
          ]
        },
        {
          "output_type": "stream",
          "name": "stdout",
          "text": [
            "Epoch [1/2], Step [49/196], Train Loss: 0.5057, Valid Loss: 0.6485\n",
            "Model saved to ==> /content/drive/My Drive/TASI/ModelImbalance/model.pt\n",
            "Model saved to ==> /content/drive/My Drive/TASI/ModelImbalance/metrics.pt\n",
            "Epoch [1/2], Step [98/196], Train Loss: 0.4047, Valid Loss: 0.2500\n",
            "Model saved to ==> /content/drive/My Drive/TASI/ModelImbalance/model.pt\n",
            "Model saved to ==> /content/drive/My Drive/TASI/ModelImbalance/metrics.pt\n",
            "Epoch [2/2], Step [147/196], Train Loss: 0.2093, Valid Loss: 0.1868\n",
            "Model saved to ==> /content/drive/My Drive/TASI/ModelImbalance/model.pt\n",
            "Model saved to ==> /content/drive/My Drive/TASI/ModelImbalance/metrics.pt\n",
            "Epoch [2/2], Step [196/196], Train Loss: 0.1608, Valid Loss: 0.1460\n"
          ]
        },
        {
          "output_type": "stream",
          "name": "stderr",
          "text": [
            "\u001b[32m[I 2023-03-22 14:55:56,933]\u001b[0m Trial 47 finished with value: 0.14601555593045695 and parameters: {'lr': 2e-05, 'num_epochs': 2, 'batch_size': 4}. Best is trial 21 with value: 0.6656503805092403.\u001b[0m\n"
          ]
        },
        {
          "output_type": "stream",
          "name": "stdout",
          "text": [
            "Model saved to ==> /content/drive/My Drive/TASI/ModelImbalance/model.pt\n",
            "Model saved to ==> /content/drive/My Drive/TASI/ModelImbalance/metrics.pt\n",
            "Model saved to ==> /content/drive/My Drive/TASI/ModelImbalance/metrics.pt\n",
            "Finished Training!\n",
            "Best model: lr=4e-05, num_epochs=4, batch_size=16\n",
            "Best valid loss: 0.13586455793119967\n"
          ]
        }
      ],
      "source": [
        "import optuna\n",
        "\n",
        "# Define objective function to optimize hyperparameters\n",
        "def objective(trial):\n",
        "    # Sample hyperparameters\n",
        "    lr = trial.suggest_categorical('lr', [2e-5, 3e-5, 4e-5, 5e-5])\n",
        "    num_epochs = trial.suggest_categorical('num_epochs', [2, 3, 4])\n",
        "    batch_size = trial.suggest_categorical('batch_size', [4, 8, 16, 32])\n",
        "    \n",
        "    # Define model, optimizer, and criterion\n",
        "    model = BERT().to(device)\n",
        "    optimizer = optim.Adam(model.parameters(), lr=lr)\n",
        "    criterion = nn.BCELoss()\n",
        "\n",
        "    # Train model\n",
        "    train_loss_list, valid_loss_list, global_steps_list, best_valid_loss = train(model=model,\n",
        "                                                                                  optimizer=optimizer,\n",
        "                                                                                  criterion=criterion,\n",
        "                                                                                  train_loader=train_iter,\n",
        "                                                                                  valid_loader=valid_iter,\n",
        "                                                                                  num_epochs=num_epochs,\n",
        "                                                                                  eval_every=len(train_iter)//2,\n",
        "                                                                                  file_path=destination_folder)\n",
        "\n",
        "    # Save results\n",
        "    key = f'lr={lr}, num_epochs={num_epochs}, batch_size={batch_size}'\n",
        "    results[key] = {\n",
        "        'train_loss': train_loss_list[-1],  # save only the last train loss\n",
        "        'valid_loss': valid_loss_list,\n",
        "        'global_steps': global_steps_list,\n",
        "        'best_valid_loss': best_valid_loss,\n",
        "        'lr': lr,\n",
        "        'num_epochs': num_epochs,\n",
        "        'batch_size': batch_size,\n",
        "    }\n",
        "\n",
        "\n",
        "    # Save model if best\n",
        "    if best_valid_loss < results.get('best_valid_loss', float('inf')):\n",
        "        results['best_valid_loss'] = best_valid_loss\n",
        "        results['best_model'] = key\n",
        "        torch.save(model.state_dict(), f'{destination_folder}/model_{key}.pt')\n",
        "    \n",
        "    return best_valid_loss\n",
        "\n",
        "# Set up Optuna study with GridSampler\n",
        "sampler = optuna.samplers.GridSampler({'lr': [2e-5, 3e-5, 4e-5, 5e-5],\n",
        "                                       'num_epochs': [2, 3, 4],\n",
        "                                       'batch_size': [4, 8, 16, 32]})\n",
        "study = optuna.create_study(direction='maximize', sampler=sampler)\n",
        "\n",
        "# Run optimization\n",
        "results = {}\n",
        "study.optimize(objective, n_trials=48)\n",
        "\n",
        "# Print best model and hyperparameters\n",
        "best_model = results['best_model']\n",
        "best_hyperparams = results[best_model]\n",
        "print('Best model:', best_model)\n",
        "print('Best valid loss:', best_hyperparams['best_valid_loss'])"
      ]
    },
    {
      "cell_type": "code",
      "execution_count": 18,
      "metadata": {
        "id": "iyknvLHm-0Iv",
        "colab": {
          "base_uri": "https://localhost:8080/",
          "height": 296
        },
        "outputId": "e835837e-a81a-4d33-e0f8-ff899d197f8b"
      },
      "outputs": [
        {
          "output_type": "stream",
          "name": "stdout",
          "text": [
            "Model loaded from <== /content/drive/My Drive/TASI/ModelImbalance/metrics.pt\n"
          ]
        },
        {
          "output_type": "display_data",
          "data": {
            "text/plain": [
              "<Figure size 432x288 with 1 Axes>"
            ],
            "image/png": "[encoded data removed]"
          },
          "metadata": {
            "needs_background": "light"
          }
        }
      ],
      "source": [
        "train_loss_list, valid_loss_list, global_steps_list, = load_metrics(destination_folder + '/metrics.pt')\n",
        "plt.plot(global_steps_list, train_loss_list, label='Train')\n",
        "plt.plot(global_steps_list, valid_loss_list, label='Valid')\n",
        "plt.xlabel('Global Steps')\n",
        "plt.ylabel('Loss')\n",
        "plt.legend()\n",
        "plt.show()"
      ]
    },
    {
      "cell_type": "code",
      "execution_count": 19,
      "metadata": {
        "id": "HEjtkI8OMTE6",
        "colab": {
          "base_uri": "https://localhost:8080/",
          "height": 541
        },
        "outputId": "9cf6d94e-9f75-4c1b-df36-2b6fd8d1ba12"
      },
      "outputs": [
        {
          "output_type": "stream",
          "name": "stderr",
          "text": [
            "Some weights of BertForSequenceClassification were not initialized from the model checkpoint at indobenchmark/indobert-base-p1 and are newly initialized: ['classifier.bias', 'classifier.weight']\n",
            "You should probably TRAIN this model on a down-stream task to be able to use it for predictions and inference.\n"
          ]
        },
        {
          "output_type": "stream",
          "name": "stdout",
          "text": [
            "Model loaded from <== /content/drive/My Drive/TASI/ModelImbalance/model.pt\n",
            "Classification Report:\n",
            "              precision    recall  f1-score   support\n",
            "\n",
            "           1     0.8607    0.9633    0.9091       109\n",
            "           0     0.9812    0.9248    0.9522       226\n",
            "\n",
            "    accuracy                         0.9373       335\n",
            "   macro avg     0.9209    0.9440    0.9306       335\n",
            "weighted avg     0.9420    0.9373    0.9381       335\n",
            "\n"
          ]
        },
        {
          "output_type": "display_data",
          "data": {
            "text/plain": [
              "<Figure size 432x288 with 2 Axes>"
            ],
            "image/png": "[encoded data removed]"
          },
          "metadata": {
            "needs_background": "light"
          }
        }
      ],
      "source": [
        "# Evaluation Function\n",
        "\n",
        "def evaluate(model, test_loader):\n",
        "    y_pred = []\n",
        "    y_true = []\n",
        "\n",
        "    model.eval()\n",
        "    with torch.no_grad():\n",
        "        for(labels, title, text), _ in test_loader:\n",
        "\n",
        "                labels = labels.type(torch.LongTensor)           \n",
        "                labels = labels.to(device)\n",
        "                text = text.type(torch.LongTensor)  \n",
        "                text = text.to(device)\n",
        "                output = model(text, labels)\n",
        "\n",
        "                _, output = output\n",
        "                y_pred.extend(torch.argmax(output, 1).tolist())\n",
        "                y_true.extend(labels.tolist())\n",
        "    \n",
        "    print('Classification Report:')\n",
        "    print(classification_report(y_true, y_pred, labels=[1,0], digits=4))\n",
        "    \n",
        "    cm = confusion_matrix(y_true, y_pred, labels=[1,0])\n",
        "    ax= plt.subplot()\n",
        "    sns.heatmap(cm, annot=True, ax = ax, cmap='Blues', fmt=\"d\")\n",
        "\n",
        "    ax.set_title('Confusion Matrix')\n",
        "\n",
        "    ax.set_xlabel('Predicted Labels')\n",
        "    ax.set_ylabel('True Labels')\n",
        "\n",
        "    ax.xaxis.set_ticklabels(['HOAX', 'REAL'])\n",
        "    ax.yaxis.set_ticklabels(['HOAX', 'REAL'])\n",
        "\n",
        "best_model = BERT().to(device)\n",
        "\n",
        "load_checkpoint(destination_folder + '/model.pt', best_model)\n",
        "\n",
        "evaluate(best_model, test_iter)"
      ]
    },
    {
      "cell_type": "code",
      "source": [],
      "metadata": {
        "id": "52n-DGfA0i9K"
      },
      "execution_count": null,
      "outputs": []
    }
  ],
  "metadata": {
    "accelerator": "GPU",
    "colab": {
      "provenance": []
    },
    "gpuClass": "standard",
    "kernelspec": {
      "display_name": "Python 3",
      "name": "python3"
    },
    "widgets": {
      "application/vnd.jupyter.widget-state+json": {
        "eefc2012a51e4df99710bff5ed3cb581": {
          "model_module": "@jupyter-widgets/controls",
          "model_name": "HBoxModel",
          "model_module_version": "1.5.0",
          "state": {
            "_dom_classes": [],
            "_model_module": "@jupyter-widgets/controls",
            "_model_module_version": "1.5.0",
            "_model_name": "HBoxModel",
            "_view_count": null,
            "_view_module": "@jupyter-widgets/controls",
            "_view_module_version": "1.5.0",
            "_view_name": "HBoxView",
            "box_style": "",
            "children": [
              "IPY_MODEL_e387b932643649359ea212ab0886c7fd",
              "IPY_MODEL_91fbbc50336148689b87d7175a49c78d",
              "IPY_MODEL_d511929ac3e14cf1a1d4f7a94ae2559a"
            ],
            "layout": "IPY_MODEL_29da1c29b30445a5a06a2af32708f28e"
          }
        },
        "e387b932643649359ea212ab0886c7fd": {
          "model_module": "@jupyter-widgets/controls",
          "model_name": "HTMLModel",
          "model_module_version": "1.5.0",
          "state": {
            "_dom_classes": [],
            "_model_module": "@jupyter-widgets/controls",
            "_model_module_version": "1.5.0",
            "_model_name": "HTMLModel",
            "_view_count": null,
            "_view_module": "@jupyter-widgets/controls",
            "_view_module_version": "1.5.0",
            "_view_name": "HTMLView",
            "description": "",
            "description_tooltip": null,
            "layout": "IPY_MODEL_511fda92be354cc1bb7e0e357ad4ffec",
            "placeholder": "​",
            "style": "IPY_MODEL_8867dda626ad44f98af9b2289720e91a",
            "value": "Downloading (…)solve/main/vocab.txt: 100%"
          }
        },
        "91fbbc50336148689b87d7175a49c78d": {
          "model_module": "@jupyter-widgets/controls",
          "model_name": "FloatProgressModel",
          "model_module_version": "1.5.0",
          "state": {
            "_dom_classes": [],
            "_model_module": "@jupyter-widgets/controls",
            "_model_module_version": "1.5.0",
            "_model_name": "FloatProgressModel",
            "_view_count": null,
            "_view_module": "@jupyter-widgets/controls",
            "_view_module_version": "1.5.0",
            "_view_name": "ProgressView",
            "bar_style": "success",
            "description": "",
            "description_tooltip": null,
            "layout": "IPY_MODEL_521db70bf848464582357a40c8756b96",
            "max": 229167,
            "min": 0,
            "orientation": "horizontal",
            "style": "IPY_MODEL_beb6d310086446afbdf66c48e808be2e",
            "value": 229167
          }
        },
        "d511929ac3e14cf1a1d4f7a94ae2559a": {
          "model_module": "@jupyter-widgets/controls",
          "model_name": "HTMLModel",
          "model_module_version": "1.5.0",
          "state": {
            "_dom_classes": [],
            "_model_module": "@jupyter-widgets/controls",
            "_model_module_version": "1.5.0",
            "_model_name": "HTMLModel",
            "_view_count": null,
            "_view_module": "@jupyter-widgets/controls",
            "_view_module_version": "1.5.0",
            "_view_name": "HTMLView",
            "description": "",
            "description_tooltip": null,
            "layout": "IPY_MODEL_4981ee5fe46c47709d425eb23f17dbb8",
            "placeholder": "​",
            "style": "IPY_MODEL_2edf11250d764154aa549a29b661a42b",
            "value": " 229k/229k [00:00&lt;00:00, 331kB/s]"
          }
        },
        "29da1c29b30445a5a06a2af32708f28e": {
          "model_module": "@jupyter-widgets/base",
          "model_name": "LayoutModel",
          "model_module_version": "1.2.0",
          "state": {
            "_model_module": "@jupyter-widgets/base",
            "_model_module_version": "1.2.0",
            "_model_name": "LayoutModel",
            "_view_count": null,
            "_view_module": "@jupyter-widgets/base",
            "_view_module_version": "1.2.0",
            "_view_name": "LayoutView",
            "align_content": null,
            "align_items": null,
            "align_self": null,
            "border": null,
            "bottom": null,
            "display": null,
            "flex": null,
            "flex_flow": null,
            "grid_area": null,
            "grid_auto_columns": null,
            "grid_auto_flow": null,
            "grid_auto_rows": null,
            "grid_column": null,
            "grid_gap": null,
            "grid_row": null,
            "grid_template_areas": null,
            "grid_template_columns": null,
            "grid_template_rows": null,
            "height": null,
            "justify_content": null,
            "justify_items": null,
            "left": null,
            "margin": null,
            "max_height": null,
            "max_width": null,
            "min_height": null,
            "min_width": null,
            "object_fit": null,
            "object_position": null,
            "order": null,
            "overflow": null,
            "overflow_x": null,
            "overflow_y": null,
            "padding": null,
            "right": null,
            "top": null,
            "visibility": null,
            "width": null
          }
        },
        "511fda92be354cc1bb7e0e357ad4ffec": {
          "model_module": "@jupyter-widgets/base",
          "model_name": "LayoutModel",
          "model_module_version": "1.2.0",
          "state": {
            "_model_module": "@jupyter-widgets/base",
            "_model_module_version": "1.2.0",
            "_model_name": "LayoutModel",
            "_view_count": null,
            "_view_module": "@jupyter-widgets/base",
            "_view_module_version": "1.2.0",
            "_view_name": "LayoutView",
            "align_content": null,
            "align_items": null,
            "align_self": null,
            "border": null,
            "bottom": null,
            "display": null,
            "flex": null,
            "flex_flow": null,
            "grid_area": null,
            "grid_auto_columns": null,
            "grid_auto_flow": null,
            "grid_auto_rows": null,
            "grid_column": null,
            "grid_gap": null,
            "grid_row": null,
            "grid_template_areas": null,
            "grid_template_columns": null,
            "grid_template_rows": null,
            "height": null,
            "justify_content": null,
            "justify_items": null,
            "left": null,
            "margin": null,
            "max_height": null,
            "max_width": null,
            "min_height": null,
            "min_width": null,
            "object_fit": null,
            "object_position": null,
            "order": null,
            "overflow": null,
            "overflow_x": null,
            "overflow_y": null,
            "padding": null,
            "right": null,
            "top": null,
            "visibility": null,
            "width": null
          }
        },
        "8867dda626ad44f98af9b2289720e91a": {
          "model_module": "@jupyter-widgets/controls",
          "model_name": "DescriptionStyleModel",
          "model_module_version": "1.5.0",
          "state": {
            "_model_module": "@jupyter-widgets/controls",
            "_model_module_version": "1.5.0",
            "_model_name": "DescriptionStyleModel",
            "_view_count": null,
            "_view_module": "@jupyter-widgets/base",
            "_view_module_version": "1.2.0",
            "_view_name": "StyleView",
            "description_width": ""
          }
        },
        "521db70bf848464582357a40c8756b96": {
          "model_module": "@jupyter-widgets/base",
          "model_name": "LayoutModel",
          "model_module_version": "1.2.0",
          "state": {
            "_model_module": "@jupyter-widgets/base",
            "_model_module_version": "1.2.0",
            "_model_name": "LayoutModel",
            "_view_count": null,
            "_view_module": "@jupyter-widgets/base",
            "_view_module_version": "1.2.0",
            "_view_name": "LayoutView",
            "align_content": null,
            "align_items": null,
            "align_self": null,
            "border": null,
            "bottom": null,
            "display": null,
            "flex": null,
            "flex_flow": null,
            "grid_area": null,
            "grid_auto_columns": null,
            "grid_auto_flow": null,
            "grid_auto_rows": null,
            "grid_column": null,
            "grid_gap": null,
            "grid_row": null,
            "grid_template_areas": null,
            "grid_template_columns": null,
            "grid_template_rows": null,
            "height": null,
            "justify_content": null,
            "justify_items": null,
            "left": null,
            "margin": null,
            "max_height": null,
            "max_width": null,
            "min_height": null,
            "min_width": null,
            "object_fit": null,
            "object_position": null,
            "order": null,
            "overflow": null,
            "overflow_x": null,
            "overflow_y": null,
            "padding": null,
            "right": null,
            "top": null,
            "visibility": null,
            "width": null
          }
        },
        "beb6d310086446afbdf66c48e808be2e": {
          "model_module": "@jupyter-widgets/controls",
          "model_name": "ProgressStyleModel",
          "model_module_version": "1.5.0",
          "state": {
            "_model_module": "@jupyter-widgets/controls",
            "_model_module_version": "1.5.0",
            "_model_name": "ProgressStyleModel",
            "_view_count": null,
            "_view_module": "@jupyter-widgets/base",
            "_view_module_version": "1.2.0",
            "_view_name": "StyleView",
            "bar_color": null,
            "description_width": ""
          }
        },
        "4981ee5fe46c47709d425eb23f17dbb8": {
          "model_module": "@jupyter-widgets/base",
          "model_name": "LayoutModel",
          "model_module_version": "1.2.0",
          "state": {
            "_model_module": "@jupyter-widgets/base",
            "_model_module_version": "1.2.0",
            "_model_name": "LayoutModel",
            "_view_count": null,
            "_view_module": "@jupyter-widgets/base",
            "_view_module_version": "1.2.0",
            "_view_name": "LayoutView",
            "align_content": null,
            "align_items": null,
            "align_self": null,
            "border": null,
            "bottom": null,
            "display": null,
            "flex": null,
            "flex_flow": null,
            "grid_area": null,
            "grid_auto_columns": null,
            "grid_auto_flow": null,
            "grid_auto_rows": null,
            "grid_column": null,
            "grid_gap": null,
            "grid_row": null,
            "grid_template_areas": null,
            "grid_template_columns": null,
            "grid_template_rows": null,
            "height": null,
            "justify_content": null,
            "justify_items": null,
            "left": null,
            "margin": null,
            "max_height": null,
            "max_width": null,
            "min_height": null,
            "min_width": null,
            "object_fit": null,
            "object_position": null,
            "order": null,
            "overflow": null,
            "overflow_x": null,
            "overflow_y": null,
            "padding": null,
            "right": null,
            "top": null,
            "visibility": null,
            "width": null
          }
        },
        "2edf11250d764154aa549a29b661a42b": {
          "model_module": "@jupyter-widgets/controls",
          "model_name": "DescriptionStyleModel",
          "model_module_version": "1.5.0",
          "state": {
            "_model_module": "@jupyter-widgets/controls",
            "_model_module_version": "1.5.0",
            "_model_name": "DescriptionStyleModel",
            "_view_count": null,
            "_view_module": "@jupyter-widgets/base",
            "_view_module_version": "1.2.0",
            "_view_name": "StyleView",
            "description_width": ""
          }
        },
        "688735a643f34e4eb3330f6f0fe1266e": {
          "model_module": "@jupyter-widgets/controls",
          "model_name": "HBoxModel",
          "model_module_version": "1.5.0",
          "state": {
            "_dom_classes": [],
            "_model_module": "@jupyter-widgets/controls",
            "_model_module_version": "1.5.0",
            "_model_name": "HBoxModel",
            "_view_count": null,
            "_view_module": "@jupyter-widgets/controls",
            "_view_module_version": "1.5.0",
            "_view_name": "HBoxView",
            "box_style": "",
            "children": [
              "IPY_MODEL_6fa142785adb470fbeadc7ed3deb435c",
              "IPY_MODEL_2365502b66f14a9998d3c9dcaa2521b1",
              "IPY_MODEL_baed1df82cc74c84bc9d6e3bfa29e6a6"
            ],
            "layout": "IPY_MODEL_6c186700ec6a43b98c645a1abd707000"
          }
        },
        "6fa142785adb470fbeadc7ed3deb435c": {
          "model_module": "@jupyter-widgets/controls",
          "model_name": "HTMLModel",
          "model_module_version": "1.5.0",
          "state": {
            "_dom_classes": [],
            "_model_module": "@jupyter-widgets/controls",
            "_model_module_version": "1.5.0",
            "_model_name": "HTMLModel",
            "_view_count": null,
            "_view_module": "@jupyter-widgets/controls",
            "_view_module_version": "1.5.0",
            "_view_name": "HTMLView",
            "description": "",
            "description_tooltip": null,
            "layout": "IPY_MODEL_d195ecc6c6d54830b90d36d0b5dccd07",
            "placeholder": "​",
            "style": "IPY_MODEL_ac339db11e5d46edaf42952920bcba4a",
            "value": "Downloading (…)cial_tokens_map.json: 100%"
          }
        },
        "2365502b66f14a9998d3c9dcaa2521b1": {
          "model_module": "@jupyter-widgets/controls",
          "model_name": "FloatProgressModel",
          "model_module_version": "1.5.0",
          "state": {
            "_dom_classes": [],
            "_model_module": "@jupyter-widgets/controls",
            "_model_module_version": "1.5.0",
            "_model_name": "FloatProgressModel",
            "_view_count": null,
            "_view_module": "@jupyter-widgets/controls",
            "_view_module_version": "1.5.0",
            "_view_name": "ProgressView",
            "bar_style": "success",
            "description": "",
            "description_tooltip": null,
            "layout": "IPY_MODEL_01e9494094f9469c849bb76d617811f8",
            "max": 112,
            "min": 0,
            "orientation": "horizontal",
            "style": "IPY_MODEL_561114e9c14543388cb433f6c9f0a0b9",
            "value": 112
          }
        },
        "baed1df82cc74c84bc9d6e3bfa29e6a6": {
          "model_module": "@jupyter-widgets/controls",
          "model_name": "HTMLModel",
          "model_module_version": "1.5.0",
          "state": {
            "_dom_classes": [],
            "_model_module": "@jupyter-widgets/controls",
            "_model_module_version": "1.5.0",
            "_model_name": "HTMLModel",
            "_view_count": null,
            "_view_module": "@jupyter-widgets/controls",
            "_view_module_version": "1.5.0",
            "_view_name": "HTMLView",
            "description": "",
            "description_tooltip": null,
            "layout": "IPY_MODEL_1b93959519a54d3faed8d7c3444c2fa6",
            "placeholder": "​",
            "style": "IPY_MODEL_6656449d8105470b9fc0c5c7b9e22133",
            "value": " 112/112 [00:00&lt;00:00, 2.71kB/s]"
          }
        },
        "6c186700ec6a43b98c645a1abd707000": {
          "model_module": "@jupyter-widgets/base",
          "model_name": "LayoutModel",
          "model_module_version": "1.2.0",
          "state": {
            "_model_module": "@jupyter-widgets/base",
            "_model_module_version": "1.2.0",
            "_model_name": "LayoutModel",
            "_view_count": null,
            "_view_module": "@jupyter-widgets/base",
            "_view_module_version": "1.2.0",
            "_view_name": "LayoutView",
            "align_content": null,
            "align_items": null,
            "align_self": null,
            "border": null,
            "bottom": null,
            "display": null,
            "flex": null,
            "flex_flow": null,
            "grid_area": null,
            "grid_auto_columns": null,
            "grid_auto_flow": null,
            "grid_auto_rows": null,
            "grid_column": null,
            "grid_gap": null,
            "grid_row": null,
            "grid_template_areas": null,
            "grid_template_columns": null,
            "grid_template_rows": null,
            "height": null,
            "justify_content": null,
            "justify_items": null,
            "left": null,
            "margin": null,
            "max_height": null,
            "max_width": null,
            "min_height": null,
            "min_width": null,
            "object_fit": null,
            "object_position": null,
            "order": null,
            "overflow": null,
            "overflow_x": null,
            "overflow_y": null,
            "padding": null,
            "right": null,
            "top": null,
            "visibility": null,
            "width": null
          }
        },
        "d195ecc6c6d54830b90d36d0b5dccd07": {
          "model_module": "@jupyter-widgets/base",
          "model_name": "LayoutModel",
          "model_module_version": "1.2.0",
          "state": {
            "_model_module": "@jupyter-widgets/base",
            "_model_module_version": "1.2.0",
            "_model_name": "LayoutModel",
            "_view_count": null,
            "_view_module": "@jupyter-widgets/base",
            "_view_module_version": "1.2.0",
            "_view_name": "LayoutView",
            "align_content": null,
            "align_items": null,
            "align_self": null,
            "border": null,
            "bottom": null,
            "display": null,
            "flex": null,
            "flex_flow": null,
            "grid_area": null,
            "grid_auto_columns": null,
            "grid_auto_flow": null,
            "grid_auto_rows": null,
            "grid_column": null,
            "grid_gap": null,
            "grid_row": null,
            "grid_template_areas": null,
            "grid_template_columns": null,
            "grid_template_rows": null,
            "height": null,
            "justify_content": null,
            "justify_items": null,
            "left": null,
            "margin": null,
            "max_height": null,
            "max_width": null,
            "min_height": null,
            "min_width": null,
            "object_fit": null,
            "object_position": null,
            "order": null,
            "overflow": null,
            "overflow_x": null,
            "overflow_y": null,
            "padding": null,
            "right": null,
            "top": null,
            "visibility": null,
            "width": null
          }
        },
        "ac339db11e5d46edaf42952920bcba4a": {
          "model_module": "@jupyter-widgets/controls",
          "model_name": "DescriptionStyleModel",
          "model_module_version": "1.5.0",
          "state": {
            "_model_module": "@jupyter-widgets/controls",
            "_model_module_version": "1.5.0",
            "_model_name": "DescriptionStyleModel",
            "_view_count": null,
            "_view_module": "@jupyter-widgets/base",
            "_view_module_version": "1.2.0",
            "_view_name": "StyleView",
            "description_width": ""
          }
        },
        "01e9494094f9469c849bb76d617811f8": {
          "model_module": "@jupyter-widgets/base",
          "model_name": "LayoutModel",
          "model_module_version": "1.2.0",
          "state": {
            "_model_module": "@jupyter-widgets/base",
            "_model_module_version": "1.2.0",
            "_model_name": "LayoutModel",
            "_view_count": null,
            "_view_module": "@jupyter-widgets/base",
            "_view_module_version": "1.2.0",
            "_view_name": "LayoutView",
            "align_content": null,
            "align_items": null,
            "align_self": null,
            "border": null,
            "bottom": null,
            "display": null,
            "flex": null,
            "flex_flow": null,
            "grid_area": null,
            "grid_auto_columns": null,
            "grid_auto_flow": null,
            "grid_auto_rows": null,
            "grid_column": null,
            "grid_gap": null,
            "grid_row": null,
            "grid_template_areas": null,
            "grid_template_columns": null,
            "grid_template_rows": null,
            "height": null,
            "justify_content": null,
            "justify_items": null,
            "left": null,
            "margin": null,
            "max_height": null,
            "max_width": null,
            "min_height": null,
            "min_width": null,
            "object_fit": null,
            "object_position": null,
            "order": null,
            "overflow": null,
            "overflow_x": null,
            "overflow_y": null,
            "padding": null,
            "right": null,
            "top": null,
            "visibility": null,
            "width": null
          }
        },
        "561114e9c14543388cb433f6c9f0a0b9": {
          "model_module": "@jupyter-widgets/controls",
          "model_name": "ProgressStyleModel",
          "model_module_version": "1.5.0",
          "state": {
            "_model_module": "@jupyter-widgets/controls",
            "_model_module_version": "1.5.0",
            "_model_name": "ProgressStyleModel",
            "_view_count": null,
            "_view_module": "@jupyter-widgets/base",
            "_view_module_version": "1.2.0",
            "_view_name": "StyleView",
            "bar_color": null,
            "description_width": ""
          }
        },
        "1b93959519a54d3faed8d7c3444c2fa6": {
          "model_module": "@jupyter-widgets/base",
          "model_name": "LayoutModel",
          "model_module_version": "1.2.0",
          "state": {
            "_model_module": "@jupyter-widgets/base",
            "_model_module_version": "1.2.0",
            "_model_name": "LayoutModel",
            "_view_count": null,
            "_view_module": "@jupyter-widgets/base",
            "_view_module_version": "1.2.0",
            "_view_name": "LayoutView",
            "align_content": null,
            "align_items": null,
            "align_self": null,
            "border": null,
            "bottom": null,
            "display": null,
            "flex": null,
            "flex_flow": null,
            "grid_area": null,
            "grid_auto_columns": null,
            "grid_auto_flow": null,
            "grid_auto_rows": null,
            "grid_column": null,
            "grid_gap": null,
            "grid_row": null,
            "grid_template_areas": null,
            "grid_template_columns": null,
            "grid_template_rows": null,
            "height": null,
            "justify_content": null,
            "justify_items": null,
            "left": null,
            "margin": null,
            "max_height": null,
            "max_width": null,
            "min_height": null,
            "min_width": null,
            "object_fit": null,
            "object_position": null,
            "order": null,
            "overflow": null,
            "overflow_x": null,
            "overflow_y": null,
            "padding": null,
            "right": null,
            "top": null,
            "visibility": null,
            "width": null
          }
        },
        "6656449d8105470b9fc0c5c7b9e22133": {
          "model_module": "@jupyter-widgets/controls",
          "model_name": "DescriptionStyleModel",
          "model_module_version": "1.5.0",
          "state": {
            "_model_module": "@jupyter-widgets/controls",
            "_model_module_version": "1.5.0",
            "_model_name": "DescriptionStyleModel",
            "_view_count": null,
            "_view_module": "@jupyter-widgets/base",
            "_view_module_version": "1.2.0",
            "_view_name": "StyleView",
            "description_width": ""
          }
        },
        "7fdcedb8761b49c284a0c315a254d3c8": {
          "model_module": "@jupyter-widgets/controls",
          "model_name": "HBoxModel",
          "model_module_version": "1.5.0",
          "state": {
            "_dom_classes": [],
            "_model_module": "@jupyter-widgets/controls",
            "_model_module_version": "1.5.0",
            "_model_name": "HBoxModel",
            "_view_count": null,
            "_view_module": "@jupyter-widgets/controls",
            "_view_module_version": "1.5.0",
            "_view_name": "HBoxView",
            "box_style": "",
            "children": [
              "IPY_MODEL_3b4444760ed346c4a1100e62ca1b0ce6",
              "IPY_MODEL_ad21bea0e96e4fb1aacfd069db760676",
              "IPY_MODEL_731f9995f62743c7ac5023a259a7364c"
            ],
            "layout": "IPY_MODEL_6715d7a441874dc493e4265c28dc28d0"
          }
        },
        "3b4444760ed346c4a1100e62ca1b0ce6": {
          "model_module": "@jupyter-widgets/controls",
          "model_name": "HTMLModel",
          "model_module_version": "1.5.0",
          "state": {
            "_dom_classes": [],
            "_model_module": "@jupyter-widgets/controls",
            "_model_module_version": "1.5.0",
            "_model_name": "HTMLModel",
            "_view_count": null,
            "_view_module": "@jupyter-widgets/controls",
            "_view_module_version": "1.5.0",
            "_view_name": "HTMLView",
            "description": "",
            "description_tooltip": null,
            "layout": "IPY_MODEL_9d305ae6dbe94a678b809328a0e7bf2d",
            "placeholder": "​",
            "style": "IPY_MODEL_bb2cc1b5a0384ac68129c4cfa5f6c831",
            "value": "Downloading (…)okenizer_config.json: 100%"
          }
        },
        "ad21bea0e96e4fb1aacfd069db760676": {
          "model_module": "@jupyter-widgets/controls",
          "model_name": "FloatProgressModel",
          "model_module_version": "1.5.0",
          "state": {
            "_dom_classes": [],
            "_model_module": "@jupyter-widgets/controls",
            "_model_module_version": "1.5.0",
            "_model_name": "FloatProgressModel",
            "_view_count": null,
            "_view_module": "@jupyter-widgets/controls",
            "_view_module_version": "1.5.0",
            "_view_name": "ProgressView",
            "bar_style": "success",
            "description": "",
            "description_tooltip": null,
            "layout": "IPY_MODEL_5ba017878498415f9f46b4bdf99a437d",
            "max": 2,
            "min": 0,
            "orientation": "horizontal",
            "style": "IPY_MODEL_057d9fc87cb9444681759130672144f2",
            "value": 2
          }
        },
        "731f9995f62743c7ac5023a259a7364c": {
          "model_module": "@jupyter-widgets/controls",
          "model_name": "HTMLModel",
          "model_module_version": "1.5.0",
          "state": {
            "_dom_classes": [],
            "_model_module": "@jupyter-widgets/controls",
            "_model_module_version": "1.5.0",
            "_model_name": "HTMLModel",
            "_view_count": null,
            "_view_module": "@jupyter-widgets/controls",
            "_view_module_version": "1.5.0",
            "_view_name": "HTMLView",
            "description": "",
            "description_tooltip": null,
            "layout": "IPY_MODEL_8e8dfdd223be450a94e2614bbffb88f4",
            "placeholder": "​",
            "style": "IPY_MODEL_b5d09419566c4d6eae62696928ce2b5f",
            "value": " 2.00/2.00 [00:00&lt;00:00, 55.3B/s]"
          }
        },
        "6715d7a441874dc493e4265c28dc28d0": {
          "model_module": "@jupyter-widgets/base",
          "model_name": "LayoutModel",
          "model_module_version": "1.2.0",
          "state": {
            "_model_module": "@jupyter-widgets/base",
            "_model_module_version": "1.2.0",
            "_model_name": "LayoutModel",
            "_view_count": null,
            "_view_module": "@jupyter-widgets/base",
            "_view_module_version": "1.2.0",
            "_view_name": "LayoutView",
            "align_content": null,
            "align_items": null,
            "align_self": null,
            "border": null,
            "bottom": null,
            "display": null,
            "flex": null,
            "flex_flow": null,
            "grid_area": null,
            "grid_auto_columns": null,
            "grid_auto_flow": null,
            "grid_auto_rows": null,
            "grid_column": null,
            "grid_gap": null,
            "grid_row": null,
            "grid_template_areas": null,
            "grid_template_columns": null,
            "grid_template_rows": null,
            "height": null,
            "justify_content": null,
            "justify_items": null,
            "left": null,
            "margin": null,
            "max_height": null,
            "max_width": null,
            "min_height": null,
            "min_width": null,
            "object_fit": null,
            "object_position": null,
            "order": null,
            "overflow": null,
            "overflow_x": null,
            "overflow_y": null,
            "padding": null,
            "right": null,
            "top": null,
            "visibility": null,
            "width": null
          }
        },
        "9d305ae6dbe94a678b809328a0e7bf2d": {
          "model_module": "@jupyter-widgets/base",
          "model_name": "LayoutModel",
          "model_module_version": "1.2.0",
          "state": {
            "_model_module": "@jupyter-widgets/base",
            "_model_module_version": "1.2.0",
            "_model_name": "LayoutModel",
            "_view_count": null,
            "_view_module": "@jupyter-widgets/base",
            "_view_module_version": "1.2.0",
            "_view_name": "LayoutView",
            "align_content": null,
            "align_items": null,
            "align_self": null,
            "border": null,
            "bottom": null,
            "display": null,
            "flex": null,
            "flex_flow": null,
            "grid_area": null,
            "grid_auto_columns": null,
            "grid_auto_flow": null,
            "grid_auto_rows": null,
            "grid_column": null,
            "grid_gap": null,
            "grid_row": null,
            "grid_template_areas": null,
            "grid_template_columns": null,
            "grid_template_rows": null,
            "height": null,
            "justify_content": null,
            "justify_items": null,
            "left": null,
            "margin": null,
            "max_height": null,
            "max_width": null,
            "min_height": null,
            "min_width": null,
            "object_fit": null,
            "object_position": null,
            "order": null,
            "overflow": null,
            "overflow_x": null,
            "overflow_y": null,
            "padding": null,
            "right": null,
            "top": null,
            "visibility": null,
            "width": null
          }
        },
        "bb2cc1b5a0384ac68129c4cfa5f6c831": {
          "model_module": "@jupyter-widgets/controls",
          "model_name": "DescriptionStyleModel",
          "model_module_version": "1.5.0",
          "state": {
            "_model_module": "@jupyter-widgets/controls",
            "_model_module_version": "1.5.0",
            "_model_name": "DescriptionStyleModel",
            "_view_count": null,
            "_view_module": "@jupyter-widgets/base",
            "_view_module_version": "1.2.0",
            "_view_name": "StyleView",
            "description_width": ""
          }
        },
        "5ba017878498415f9f46b4bdf99a437d": {
          "model_module": "@jupyter-widgets/base",
          "model_name": "LayoutModel",
          "model_module_version": "1.2.0",
          "state": {
            "_model_module": "@jupyter-widgets/base",
            "_model_module_version": "1.2.0",
            "_model_name": "LayoutModel",
            "_view_count": null,
            "_view_module": "@jupyter-widgets/base",
            "_view_module_version": "1.2.0",
            "_view_name": "LayoutView",
            "align_content": null,
            "align_items": null,
            "align_self": null,
            "border": null,
            "bottom": null,
            "display": null,
            "flex": null,
            "flex_flow": null,
            "grid_area": null,
            "grid_auto_columns": null,
            "grid_auto_flow": null,
            "grid_auto_rows": null,
            "grid_column": null,
            "grid_gap": null,
            "grid_row": null,
            "grid_template_areas": null,
            "grid_template_columns": null,
            "grid_template_rows": null,
            "height": null,
            "justify_content": null,
            "justify_items": null,
            "left": null,
            "margin": null,
            "max_height": null,
            "max_width": null,
            "min_height": null,
            "min_width": null,
            "object_fit": null,
            "object_position": null,
            "order": null,
            "overflow": null,
            "overflow_x": null,
            "overflow_y": null,
            "padding": null,
            "right": null,
            "top": null,
            "visibility": null,
            "width": null
          }
        },
        "057d9fc87cb9444681759130672144f2": {
          "model_module": "@jupyter-widgets/controls",
          "model_name": "ProgressStyleModel",
          "model_module_version": "1.5.0",
          "state": {
            "_model_module": "@jupyter-widgets/controls",
            "_model_module_version": "1.5.0",
            "_model_name": "ProgressStyleModel",
            "_view_count": null,
            "_view_module": "@jupyter-widgets/base",
            "_view_module_version": "1.2.0",
            "_view_name": "StyleView",
            "bar_color": null,
            "description_width": ""
          }
        },
        "8e8dfdd223be450a94e2614bbffb88f4": {
          "model_module": "@jupyter-widgets/base",
          "model_name": "LayoutModel",
          "model_module_version": "1.2.0",
          "state": {
            "_model_module": "@jupyter-widgets/base",
            "_model_module_version": "1.2.0",
            "_model_name": "LayoutModel",
            "_view_count": null,
            "_view_module": "@jupyter-widgets/base",
            "_view_module_version": "1.2.0",
            "_view_name": "LayoutView",
            "align_content": null,
            "align_items": null,
            "align_self": null,
            "border": null,
            "bottom": null,
            "display": null,
            "flex": null,
            "flex_flow": null,
            "grid_area": null,
            "grid_auto_columns": null,
            "grid_auto_flow": null,
            "grid_auto_rows": null,
            "grid_column": null,
            "grid_gap": null,
            "grid_row": null,
            "grid_template_areas": null,
            "grid_template_columns": null,
            "grid_template_rows": null,
            "height": null,
            "justify_content": null,
            "justify_items": null,
            "left": null,
            "margin": null,
            "max_height": null,
            "max_width": null,
            "min_height": null,
            "min_width": null,
            "object_fit": null,
            "object_position": null,
            "order": null,
            "overflow": null,
            "overflow_x": null,
            "overflow_y": null,
            "padding": null,
            "right": null,
            "top": null,
            "visibility": null,
            "width": null
          }
        },
        "b5d09419566c4d6eae62696928ce2b5f": {
          "model_module": "@jupyter-widgets/controls",
          "model_name": "DescriptionStyleModel",
          "model_module_version": "1.5.0",
          "state": {
            "_model_module": "@jupyter-widgets/controls",
            "_model_module_version": "1.5.0",
            "_model_name": "DescriptionStyleModel",
            "_view_count": null,
            "_view_module": "@jupyter-widgets/base",
            "_view_module_version": "1.2.0",
            "_view_name": "StyleView",
            "description_width": ""
          }
        },
        "3bb82a5ca7b54dec89f361622d0afddb": {
          "model_module": "@jupyter-widgets/controls",
          "model_name": "HBoxModel",
          "model_module_version": "1.5.0",
          "state": {
            "_dom_classes": [],
            "_model_module": "@jupyter-widgets/controls",
            "_model_module_version": "1.5.0",
            "_model_name": "HBoxModel",
            "_view_count": null,
            "_view_module": "@jupyter-widgets/controls",
            "_view_module_version": "1.5.0",
            "_view_name": "HBoxView",
            "box_style": "",
            "children": [
              "IPY_MODEL_dc1bbc762afa476fbc6c64628e935eef",
              "IPY_MODEL_27b9066c92c546a2a9b6e997f1b82aaf",
              "IPY_MODEL_2f59da3d4ad54133be0d0203394bafb3"
            ],
            "layout": "IPY_MODEL_93de25bf82384223843c61d2fabe1cb4"
          }
        },
        "dc1bbc762afa476fbc6c64628e935eef": {
          "model_module": "@jupyter-widgets/controls",
          "model_name": "HTMLModel",
          "model_module_version": "1.5.0",
          "state": {
            "_dom_classes": [],
            "_model_module": "@jupyter-widgets/controls",
            "_model_module_version": "1.5.0",
            "_model_name": "HTMLModel",
            "_view_count": null,
            "_view_module": "@jupyter-widgets/controls",
            "_view_module_version": "1.5.0",
            "_view_name": "HTMLView",
            "description": "",
            "description_tooltip": null,
            "layout": "IPY_MODEL_dcd1b3b94c63435e8dac6360a2dd782b",
            "placeholder": "​",
            "style": "IPY_MODEL_9b3c5ad59bbf493c9ca0de29aff218c6",
            "value": "Downloading (…)lve/main/config.json: 100%"
          }
        },
        "27b9066c92c546a2a9b6e997f1b82aaf": {
          "model_module": "@jupyter-widgets/controls",
          "model_name": "FloatProgressModel",
          "model_module_version": "1.5.0",
          "state": {
            "_dom_classes": [],
            "_model_module": "@jupyter-widgets/controls",
            "_model_module_version": "1.5.0",
            "_model_name": "FloatProgressModel",
            "_view_count": null,
            "_view_module": "@jupyter-widgets/controls",
            "_view_module_version": "1.5.0",
            "_view_name": "ProgressView",
            "bar_style": "success",
            "description": "",
            "description_tooltip": null,
            "layout": "IPY_MODEL_3980084af3af4c478b82ba4094c5bdc6",
            "max": 1534,
            "min": 0,
            "orientation": "horizontal",
            "style": "IPY_MODEL_38860cd05f0846e2874aac4da684934d",
            "value": 1534
          }
        },
        "2f59da3d4ad54133be0d0203394bafb3": {
          "model_module": "@jupyter-widgets/controls",
          "model_name": "HTMLModel",
          "model_module_version": "1.5.0",
          "state": {
            "_dom_classes": [],
            "_model_module": "@jupyter-widgets/controls",
            "_model_module_version": "1.5.0",
            "_model_name": "HTMLModel",
            "_view_count": null,
            "_view_module": "@jupyter-widgets/controls",
            "_view_module_version": "1.5.0",
            "_view_name": "HTMLView",
            "description": "",
            "description_tooltip": null,
            "layout": "IPY_MODEL_59dba9a7f45244f3a3c8e6609181107c",
            "placeholder": "​",
            "style": "IPY_MODEL_b3a52a226a5b44aa9af3b7385c5e3a18",
            "value": " 1.53k/1.53k [00:00&lt;00:00, 50.8kB/s]"
          }
        },
        "93de25bf82384223843c61d2fabe1cb4": {
          "model_module": "@jupyter-widgets/base",
          "model_name": "LayoutModel",
          "model_module_version": "1.2.0",
          "state": {
            "_model_module": "@jupyter-widgets/base",
            "_model_module_version": "1.2.0",
            "_model_name": "LayoutModel",
            "_view_count": null,
            "_view_module": "@jupyter-widgets/base",
            "_view_module_version": "1.2.0",
            "_view_name": "LayoutView",
            "align_content": null,
            "align_items": null,
            "align_self": null,
            "border": null,
            "bottom": null,
            "display": null,
            "flex": null,
            "flex_flow": null,
            "grid_area": null,
            "grid_auto_columns": null,
            "grid_auto_flow": null,
            "grid_auto_rows": null,
            "grid_column": null,
            "grid_gap": null,
            "grid_row": null,
            "grid_template_areas": null,
            "grid_template_columns": null,
            "grid_template_rows": null,
            "height": null,
            "justify_content": null,
            "justify_items": null,
            "left": null,
            "margin": null,
            "max_height": null,
            "max_width": null,
            "min_height": null,
            "min_width": null,
            "object_fit": null,
            "object_position": null,
            "order": null,
            "overflow": null,
            "overflow_x": null,
            "overflow_y": null,
            "padding": null,
            "right": null,
            "top": null,
            "visibility": null,
            "width": null
          }
        },
        "dcd1b3b94c63435e8dac6360a2dd782b": {
          "model_module": "@jupyter-widgets/base",
          "model_name": "LayoutModel",
          "model_module_version": "1.2.0",
          "state": {
            "_model_module": "@jupyter-widgets/base",
            "_model_module_version": "1.2.0",
            "_model_name": "LayoutModel",
            "_view_count": null,
            "_view_module": "@jupyter-widgets/base",
            "_view_module_version": "1.2.0",
            "_view_name": "LayoutView",
            "align_content": null,
            "align_items": null,
            "align_self": null,
            "border": null,
            "bottom": null,
            "display": null,
            "flex": null,
            "flex_flow": null,
            "grid_area": null,
            "grid_auto_columns": null,
            "grid_auto_flow": null,
            "grid_auto_rows": null,
            "grid_column": null,
            "grid_gap": null,
            "grid_row": null,
            "grid_template_areas": null,
            "grid_template_columns": null,
            "grid_template_rows": null,
            "height": null,
            "justify_content": null,
            "justify_items": null,
            "left": null,
            "margin": null,
            "max_height": null,
            "max_width": null,
            "min_height": null,
            "min_width": null,
            "object_fit": null,
            "object_position": null,
            "order": null,
            "overflow": null,
            "overflow_x": null,
            "overflow_y": null,
            "padding": null,
            "right": null,
            "top": null,
            "visibility": null,
            "width": null
          }
        },
        "9b3c5ad59bbf493c9ca0de29aff218c6": {
          "model_module": "@jupyter-widgets/controls",
          "model_name": "DescriptionStyleModel",
          "model_module_version": "1.5.0",
          "state": {
            "_model_module": "@jupyter-widgets/controls",
            "_model_module_version": "1.5.0",
            "_model_name": "DescriptionStyleModel",
            "_view_count": null,
            "_view_module": "@jupyter-widgets/base",
            "_view_module_version": "1.2.0",
            "_view_name": "StyleView",
            "description_width": ""
          }
        },
        "3980084af3af4c478b82ba4094c5bdc6": {
          "model_module": "@jupyter-widgets/base",
          "model_name": "LayoutModel",
          "model_module_version": "1.2.0",
          "state": {
            "_model_module": "@jupyter-widgets/base",
            "_model_module_version": "1.2.0",
            "_model_name": "LayoutModel",
            "_view_count": null,
            "_view_module": "@jupyter-widgets/base",
            "_view_module_version": "1.2.0",
            "_view_name": "LayoutView",
            "align_content": null,
            "align_items": null,
            "align_self": null,
            "border": null,
            "bottom": null,
            "display": null,
            "flex": null,
            "flex_flow": null,
            "grid_area": null,
            "grid_auto_columns": null,
            "grid_auto_flow": null,
            "grid_auto_rows": null,
            "grid_column": null,
            "grid_gap": null,
            "grid_row": null,
            "grid_template_areas": null,
            "grid_template_columns": null,
            "grid_template_rows": null,
            "height": null,
            "justify_content": null,
            "justify_items": null,
            "left": null,
            "margin": null,
            "max_height": null,
            "max_width": null,
            "min_height": null,
            "min_width": null,
            "object_fit": null,
            "object_position": null,
            "order": null,
            "overflow": null,
            "overflow_x": null,
            "overflow_y": null,
            "padding": null,
            "right": null,
            "top": null,
            "visibility": null,
            "width": null
          }
        },
        "38860cd05f0846e2874aac4da684934d": {
          "model_module": "@jupyter-widgets/controls",
          "model_name": "ProgressStyleModel",
          "model_module_version": "1.5.0",
          "state": {
            "_model_module": "@jupyter-widgets/controls",
            "_model_module_version": "1.5.0",
            "_model_name": "ProgressStyleModel",
            "_view_count": null,
            "_view_module": "@jupyter-widgets/base",
            "_view_module_version": "1.2.0",
            "_view_name": "StyleView",
            "bar_color": null,
            "description_width": ""
          }
        },
        "59dba9a7f45244f3a3c8e6609181107c": {
          "model_module": "@jupyter-widgets/base",
          "model_name": "LayoutModel",
          "model_module_version": "1.2.0",
          "state": {
            "_model_module": "@jupyter-widgets/base",
            "_model_module_version": "1.2.0",
            "_model_name": "LayoutModel",
            "_view_count": null,
            "_view_module": "@jupyter-widgets/base",
            "_view_module_version": "1.2.0",
            "_view_name": "LayoutView",
            "align_content": null,
            "align_items": null,
            "align_self": null,
            "border": null,
            "bottom": null,
            "display": null,
            "flex": null,
            "flex_flow": null,
            "grid_area": null,
            "grid_auto_columns": null,
            "grid_auto_flow": null,
            "grid_auto_rows": null,
            "grid_column": null,
            "grid_gap": null,
            "grid_row": null,
            "grid_template_areas": null,
            "grid_template_columns": null,
            "grid_template_rows": null,
            "height": null,
            "justify_content": null,
            "justify_items": null,
            "left": null,
            "margin": null,
            "max_height": null,
            "max_width": null,
            "min_height": null,
            "min_width": null,
            "object_fit": null,
            "object_position": null,
            "order": null,
            "overflow": null,
            "overflow_x": null,
            "overflow_y": null,
            "padding": null,
            "right": null,
            "top": null,
            "visibility": null,
            "width": null
          }
        },
        "b3a52a226a5b44aa9af3b7385c5e3a18": {
          "model_module": "@jupyter-widgets/controls",
          "model_name": "DescriptionStyleModel",
          "model_module_version": "1.5.0",
          "state": {
            "_model_module": "@jupyter-widgets/controls",
            "_model_module_version": "1.5.0",
            "_model_name": "DescriptionStyleModel",
            "_view_count": null,
            "_view_module": "@jupyter-widgets/base",
            "_view_module_version": "1.2.0",
            "_view_name": "StyleView",
            "description_width": ""
          }
        },
        "8129ff1470c743469365f7beb93793db": {
          "model_module": "@jupyter-widgets/controls",
          "model_name": "HBoxModel",
          "model_module_version": "1.5.0",
          "state": {
            "_dom_classes": [],
            "_model_module": "@jupyter-widgets/controls",
            "_model_module_version": "1.5.0",
            "_model_name": "HBoxModel",
            "_view_count": null,
            "_view_module": "@jupyter-widgets/controls",
            "_view_module_version": "1.5.0",
            "_view_name": "HBoxView",
            "box_style": "",
            "children": [
              "IPY_MODEL_047cd1a3e65a40249fadc47ca1d252d0",
              "IPY_MODEL_25d9a1d41b464db9aa18864c4fa8aa4f",
              "IPY_MODEL_f58c54bab7234b61aa74ea9333be0d94"
            ],
            "layout": "IPY_MODEL_952e247f0772402dbd1c83f2ff262116"
          }
        },
        "047cd1a3e65a40249fadc47ca1d252d0": {
          "model_module": "@jupyter-widgets/controls",
          "model_name": "HTMLModel",
          "model_module_version": "1.5.0",
          "state": {
            "_dom_classes": [],
            "_model_module": "@jupyter-widgets/controls",
            "_model_module_version": "1.5.0",
            "_model_name": "HTMLModel",
            "_view_count": null,
            "_view_module": "@jupyter-widgets/controls",
            "_view_module_version": "1.5.0",
            "_view_name": "HTMLView",
            "description": "",
            "description_tooltip": null,
            "layout": "IPY_MODEL_e56951e052ed46f8a6d1fc4c9da14547",
            "placeholder": "​",
            "style": "IPY_MODEL_1f6183d77e524d2280c36f4afd40bd74",
            "value": "Downloading pytorch_model.bin: 100%"
          }
        },
        "25d9a1d41b464db9aa18864c4fa8aa4f": {
          "model_module": "@jupyter-widgets/controls",
          "model_name": "FloatProgressModel",
          "model_module_version": "1.5.0",
          "state": {
            "_dom_classes": [],
            "_model_module": "@jupyter-widgets/controls",
            "_model_module_version": "1.5.0",
            "_model_name": "FloatProgressModel",
            "_view_count": null,
            "_view_module": "@jupyter-widgets/controls",
            "_view_module_version": "1.5.0",
            "_view_name": "ProgressView",
            "bar_style": "success",
            "description": "",
            "description_tooltip": null,
            "layout": "IPY_MODEL_ff9db1e5fd1d4b3eb5e8d39490b75d7d",
            "max": 497810400,
            "min": 0,
            "orientation": "horizontal",
            "style": "IPY_MODEL_35271d875f264778a7d51961ca1a0dea",
            "value": 497810400
          }
        },
        "f58c54bab7234b61aa74ea9333be0d94": {
          "model_module": "@jupyter-widgets/controls",
          "model_name": "HTMLModel",
          "model_module_version": "1.5.0",
          "state": {
            "_dom_classes": [],
            "_model_module": "@jupyter-widgets/controls",
            "_model_module_version": "1.5.0",
            "_model_name": "HTMLModel",
            "_view_count": null,
            "_view_module": "@jupyter-widgets/controls",
            "_view_module_version": "1.5.0",
            "_view_name": "HTMLView",
            "description": "",
            "description_tooltip": null,
            "layout": "IPY_MODEL_218c5f654ceb44f89e093fc693254b55",
            "placeholder": "​",
            "style": "IPY_MODEL_1e6e527580cf4547a25becfab180e152",
            "value": " 498M/498M [00:02&lt;00:00, 263MB/s]"
          }
        },
        "952e247f0772402dbd1c83f2ff262116": {
          "model_module": "@jupyter-widgets/base",
          "model_name": "LayoutModel",
          "model_module_version": "1.2.0",
          "state": {
            "_model_module": "@jupyter-widgets/base",
            "_model_module_version": "1.2.0",
            "_model_name": "LayoutModel",
            "_view_count": null,
            "_view_module": "@jupyter-widgets/base",
            "_view_module_version": "1.2.0",
            "_view_name": "LayoutView",
            "align_content": null,
            "align_items": null,
            "align_self": null,
            "border": null,
            "bottom": null,
            "display": null,
            "flex": null,
            "flex_flow": null,
            "grid_area": null,
            "grid_auto_columns": null,
            "grid_auto_flow": null,
            "grid_auto_rows": null,
            "grid_column": null,
            "grid_gap": null,
            "grid_row": null,
            "grid_template_areas": null,
            "grid_template_columns": null,
            "grid_template_rows": null,
            "height": null,
            "justify_content": null,
            "justify_items": null,
            "left": null,
            "margin": null,
            "max_height": null,
            "max_width": null,
            "min_height": null,
            "min_width": null,
            "object_fit": null,
            "object_position": null,
            "order": null,
            "overflow": null,
            "overflow_x": null,
            "overflow_y": null,
            "padding": null,
            "right": null,
            "top": null,
            "visibility": null,
            "width": null
          }
        },
        "e56951e052ed46f8a6d1fc4c9da14547": {
          "model_module": "@jupyter-widgets/base",
          "model_name": "LayoutModel",
          "model_module_version": "1.2.0",
          "state": {
            "_model_module": "@jupyter-widgets/base",
            "_model_module_version": "1.2.0",
            "_model_name": "LayoutModel",
            "_view_count": null,
            "_view_module": "@jupyter-widgets/base",
            "_view_module_version": "1.2.0",
            "_view_name": "LayoutView",
            "align_content": null,
            "align_items": null,
            "align_self": null,
            "border": null,
            "bottom": null,
            "display": null,
            "flex": null,
            "flex_flow": null,
            "grid_area": null,
            "grid_auto_columns": null,
            "grid_auto_flow": null,
            "grid_auto_rows": null,
            "grid_column": null,
            "grid_gap": null,
            "grid_row": null,
            "grid_template_areas": null,
            "grid_template_columns": null,
            "grid_template_rows": null,
            "height": null,
            "justify_content": null,
            "justify_items": null,
            "left": null,
            "margin": null,
            "max_height": null,
            "max_width": null,
            "min_height": null,
            "min_width": null,
            "object_fit": null,
            "object_position": null,
            "order": null,
            "overflow": null,
            "overflow_x": null,
            "overflow_y": null,
            "padding": null,
            "right": null,
            "top": null,
            "visibility": null,
            "width": null
          }
        },
        "1f6183d77e524d2280c36f4afd40bd74": {
          "model_module": "@jupyter-widgets/controls",
          "model_name": "DescriptionStyleModel",
          "model_module_version": "1.5.0",
          "state": {
            "_model_module": "@jupyter-widgets/controls",
            "_model_module_version": "1.5.0",
            "_model_name": "DescriptionStyleModel",
            "_view_count": null,
            "_view_module": "@jupyter-widgets/base",
            "_view_module_version": "1.2.0",
            "_view_name": "StyleView",
            "description_width": ""
          }
        },
        "ff9db1e5fd1d4b3eb5e8d39490b75d7d": {
          "model_module": "@jupyter-widgets/base",
          "model_name": "LayoutModel",
          "model_module_version": "1.2.0",
          "state": {
            "_model_module": "@jupyter-widgets/base",
            "_model_module_version": "1.2.0",
            "_model_name": "LayoutModel",
            "_view_count": null,
            "_view_module": "@jupyter-widgets/base",
            "_view_module_version": "1.2.0",
            "_view_name": "LayoutView",
            "align_content": null,
            "align_items": null,
            "align_self": null,
            "border": null,
            "bottom": null,
            "display": null,
            "flex": null,
            "flex_flow": null,
            "grid_area": null,
            "grid_auto_columns": null,
            "grid_auto_flow": null,
            "grid_auto_rows": null,
            "grid_column": null,
            "grid_gap": null,
            "grid_row": null,
            "grid_template_areas": null,
            "grid_template_columns": null,
            "grid_template_rows": null,
            "height": null,
            "justify_content": null,
            "justify_items": null,
            "left": null,
            "margin": null,
            "max_height": null,
            "max_width": null,
            "min_height": null,
            "min_width": null,
            "object_fit": null,
            "object_position": null,
            "order": null,
            "overflow": null,
            "overflow_x": null,
            "overflow_y": null,
            "padding": null,
            "right": null,
            "top": null,
            "visibility": null,
            "width": null
          }
        },
        "35271d875f264778a7d51961ca1a0dea": {
          "model_module": "@jupyter-widgets/controls",
          "model_name": "ProgressStyleModel",
          "model_module_version": "1.5.0",
          "state": {
            "_model_module": "@jupyter-widgets/controls",
            "_model_module_version": "1.5.0",
            "_model_name": "ProgressStyleModel",
            "_view_count": null,
            "_view_module": "@jupyter-widgets/base",
            "_view_module_version": "1.2.0",
            "_view_name": "StyleView",
            "bar_color": null,
            "description_width": ""
          }
        },
        "218c5f654ceb44f89e093fc693254b55": {
          "model_module": "@jupyter-widgets/base",
          "model_name": "LayoutModel",
          "model_module_version": "1.2.0",
          "state": {
            "_model_module": "@jupyter-widgets/base",
            "_model_module_version": "1.2.0",
            "_model_name": "LayoutModel",
            "_view_count": null,
            "_view_module": "@jupyter-widgets/base",
            "_view_module_version": "1.2.0",
            "_view_name": "LayoutView",
            "align_content": null,
            "align_items": null,
            "align_self": null,
            "border": null,
            "bottom": null,
            "display": null,
            "flex": null,
            "flex_flow": null,
            "grid_area": null,
            "grid_auto_columns": null,
            "grid_auto_flow": null,
            "grid_auto_rows": null,
            "grid_column": null,
            "grid_gap": null,
            "grid_row": null,
            "grid_template_areas": null,
            "grid_template_columns": null,
            "grid_template_rows": null,
            "height": null,
            "justify_content": null,
            "justify_items": null,
            "left": null,
            "margin": null,
            "max_height": null,
            "max_width": null,
            "min_height": null,
            "min_width": null,
            "object_fit": null,
            "object_position": null,
            "order": null,
            "overflow": null,
            "overflow_x": null,
            "overflow_y": null,
            "padding": null,
            "right": null,
            "top": null,
            "visibility": null,
            "width": null
          }
        },
        "1e6e527580cf4547a25becfab180e152": {
          "model_module": "@jupyter-widgets/controls",
          "model_name": "DescriptionStyleModel",
          "model_module_version": "1.5.0",
          "state": {
            "_model_module": "@jupyter-widgets/controls",
            "_model_module_version": "1.5.0",
            "_model_name": "DescriptionStyleModel",
            "_view_count": null,
            "_view_module": "@jupyter-widgets/base",
            "_view_module_version": "1.2.0",
            "_view_name": "StyleView",
            "description_width": ""
          }
        }
      }
    }
  },
  "nbformat": 4,
  "nbformat_minor": 0
}
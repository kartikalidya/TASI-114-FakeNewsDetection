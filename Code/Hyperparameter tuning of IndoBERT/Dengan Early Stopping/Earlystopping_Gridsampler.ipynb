{
  "cells": [
    {
      "cell_type": "markdown",
      "metadata": {
        "id": "view-in-github"
      },
      "source": [
        "<a href=\"https://colab.research.google.com/github/garynico/IndoBERT-Hoax/blob/main/IndoBERT_Hoax_News_Detection.ipynb\" target=\"_parent\"><img src=\"https://colab.research.google.com/assets/colab-badge.svg\" alt=\"Open In Colab\"/></a>"
      ]
    },
    {
      "cell_type": "markdown",
      "metadata": {
        "id": "MLrHTVMSTxbt"
      },
      "source": [
        "# IndoBERT for Bahasa Indonesia Hoax News Detection"
      ]
    },
    {
      "cell_type": "markdown",
      "metadata": {
        "id": "LATDuyAVYEsw"
      },
      "source": [
        "### Import library"
      ]
    },
    {
      "cell_type": "code",
      "execution_count": 1,
      "metadata": {
        "colab": {
          "base_uri": "https://localhost:8080/"
        },
        "id": "IfNKumAzxkFn",
        "outputId": "2701e7cd-0388-4f49-8724-904582c0aa38"
      },
      "outputs": [
        {
          "output_type": "stream",
          "name": "stdout",
          "text": [
            "Mounted at /content/drive\n"
          ]
        }
      ],
      "source": [
        "# Drive\n",
        "from google.colab import files\n",
        "from google.colab import drive\n",
        "\n",
        "drive.mount('/content/drive', force_remount=True)"
      ]
    },
    {
      "cell_type": "code",
      "execution_count": 2,
      "metadata": {
        "id": "PohTXbqMicdb"
      },
      "outputs": [],
      "source": [
        "source_folder = '/content/drive/MyDrive/TASI/GridSearch/DataImbalance'\n",
        "destination_folder = '/content/drive/MyDrive/TASI/GridSearch/ModelImbalance4'"
      ]
    },
    {
      "cell_type": "code",
      "execution_count": 3,
      "metadata": {
        "colab": {
          "base_uri": "https://localhost:8080/"
        },
        "id": "XYRz41w8x28A",
        "outputId": "6302a1e0-f83a-42d3-99a2-97bc5649b661"
      },
      "outputs": [
        {
          "output_type": "stream",
          "name": "stdout",
          "text": [
            "/content/drive/MyDrive/TASI/GridSearch/DataImbalance\n"
          ]
        }
      ],
      "source": [
        "%cd //content/drive/MyDrive/TASI/GridSearch/DataImbalance"
      ]
    },
    {
      "cell_type": "code",
      "execution_count": 4,
      "metadata": {
        "colab": {
          "base_uri": "https://localhost:8080/"
        },
        "id": "M959vrSV0iwp",
        "outputId": "170978e2-3914-47f4-d2f5-5fe6e79fb2f4"
      },
      "outputs": [
        {
          "output_type": "stream",
          "name": "stdout",
          "text": [
            "Looking in indexes: https://pypi.org/simple, https://us-python.pkg.dev/colab-wheels/public/simple/\n",
            "Collecting transformers\n",
            "  Using cached transformers-4.30.2-py3-none-any.whl (7.2 MB)\n",
            "Requirement already satisfied: filelock in /usr/local/lib/python3.10/dist-packages (from transformers) (3.12.0)\n",
            "Collecting huggingface-hub<1.0,>=0.14.1 (from transformers)\n",
            "  Using cached huggingface_hub-0.15.1-py3-none-any.whl (236 kB)\n",
            "Requirement already satisfied: numpy>=1.17 in /usr/local/lib/python3.10/dist-packages (from transformers) (1.22.4)\n",
            "Requirement already satisfied: packaging>=20.0 in /usr/local/lib/python3.10/dist-packages (from transformers) (23.1)\n",
            "Requirement already satisfied: pyyaml>=5.1 in /usr/local/lib/python3.10/dist-packages (from transformers) (6.0)\n",
            "Requirement already satisfied: regex!=2019.12.17 in /usr/local/lib/python3.10/dist-packages (from transformers) (2022.10.31)\n",
            "Requirement already satisfied: requests in /usr/local/lib/python3.10/dist-packages (from transformers) (2.27.1)\n",
            "Collecting tokenizers!=0.11.3,<0.14,>=0.11.1 (from transformers)\n",
            "  Using cached tokenizers-0.13.3-cp310-cp310-manylinux_2_17_x86_64.manylinux2014_x86_64.whl (7.8 MB)\n",
            "Collecting safetensors>=0.3.1 (from transformers)\n",
            "  Using cached safetensors-0.3.1-cp310-cp310-manylinux_2_17_x86_64.manylinux2014_x86_64.whl (1.3 MB)\n",
            "Requirement already satisfied: tqdm>=4.27 in /usr/local/lib/python3.10/dist-packages (from transformers) (4.65.0)\n",
            "Requirement already satisfied: fsspec in /usr/local/lib/python3.10/dist-packages (from huggingface-hub<1.0,>=0.14.1->transformers) (2023.4.0)\n",
            "Requirement already satisfied: typing-extensions>=3.7.4.3 in /usr/local/lib/python3.10/dist-packages (from huggingface-hub<1.0,>=0.14.1->transformers) (4.5.0)\n",
            "Requirement already satisfied: urllib3<1.27,>=1.21.1 in /usr/local/lib/python3.10/dist-packages (from requests->transformers) (1.26.15)\n",
            "Requirement already satisfied: certifi>=2017.4.17 in /usr/local/lib/python3.10/dist-packages (from requests->transformers) (2022.12.7)\n",
            "Requirement already satisfied: charset-normalizer~=2.0.0 in /usr/local/lib/python3.10/dist-packages (from requests->transformers) (2.0.12)\n",
            "Requirement already satisfied: idna<4,>=2.5 in /usr/local/lib/python3.10/dist-packages (from requests->transformers) (3.4)\n",
            "Installing collected packages: tokenizers, safetensors, huggingface-hub, transformers\n",
            "Successfully installed huggingface-hub-0.15.1 safetensors-0.3.1 tokenizers-0.13.3 transformers-4.30.2\n",
            "Looking in indexes: https://pypi.org/simple, https://us-python.pkg.dev/colab-wheels/public/simple/\n",
            "Requirement already satisfied: keras.preprocessing in /usr/local/lib/python3.10/dist-packages (1.1.2)\n",
            "Requirement already satisfied: numpy>=1.9.1 in /usr/local/lib/python3.10/dist-packages (from keras.preprocessing) (1.22.4)\n",
            "Requirement already satisfied: six>=1.9.0 in /usr/local/lib/python3.10/dist-packages (from keras.preprocessing) (1.16.0)\n",
            "Looking in indexes: https://pypi.org/simple, https://us-python.pkg.dev/colab-wheels/public/simple/\n",
            "Collecting git+https://github.com/pytorch/text.git@v0.10.0\n",
            "  Cloning https://github.com/pytorch/text.git (to revision v0.10.0) to /tmp/pip-req-build-7ngp_vzg\n",
            "  Running command git clone --filter=blob:none --quiet https://github.com/pytorch/text.git /tmp/pip-req-build-7ngp_vzg\n",
            "  Running command git checkout -q 4da1de36247aa06622088e78508e0e38a4392e38\n",
            "  Resolved https://github.com/pytorch/text.git to commit 4da1de36247aa06622088e78508e0e38a4392e38\n",
            "  Running command git submodule update --init --recursive -q\n",
            "  Preparing metadata (setup.py) ... \u001b[?25l\u001b[?25hdone\n",
            "Requirement already satisfied: tqdm in /usr/local/lib/python3.10/dist-packages (from torchtext==0.10.0a0+4da1de3) (4.65.0)\n",
            "Requirement already satisfied: requests in /usr/local/lib/python3.10/dist-packages (from torchtext==0.10.0a0+4da1de3) (2.27.1)\n",
            "Requirement already satisfied: torch in /usr/local/lib/python3.10/dist-packages (from torchtext==0.10.0a0+4da1de3) (2.0.1+cu118)\n",
            "Requirement already satisfied: numpy in /usr/local/lib/python3.10/dist-packages (from torchtext==0.10.0a0+4da1de3) (1.22.4)\n",
            "Requirement already satisfied: urllib3<1.27,>=1.21.1 in /usr/local/lib/python3.10/dist-packages (from requests->torchtext==0.10.0a0+4da1de3) (1.26.15)\n",
            "Requirement already satisfied: certifi>=2017.4.17 in /usr/local/lib/python3.10/dist-packages (from requests->torchtext==0.10.0a0+4da1de3) (2022.12.7)\n",
            "Requirement already satisfied: charset-normalizer~=2.0.0 in /usr/local/lib/python3.10/dist-packages (from requests->torchtext==0.10.0a0+4da1de3) (2.0.12)\n",
            "Requirement already satisfied: idna<4,>=2.5 in /usr/local/lib/python3.10/dist-packages (from requests->torchtext==0.10.0a0+4da1de3) (3.4)\n",
            "Requirement already satisfied: filelock in /usr/local/lib/python3.10/dist-packages (from torch->torchtext==0.10.0a0+4da1de3) (3.12.0)\n",
            "Requirement already satisfied: typing-extensions in /usr/local/lib/python3.10/dist-packages (from torch->torchtext==0.10.0a0+4da1de3) (4.5.0)\n",
            "Requirement already satisfied: sympy in /usr/local/lib/python3.10/dist-packages (from torch->torchtext==0.10.0a0+4da1de3) (1.11.1)\n",
            "Requirement already satisfied: networkx in /usr/local/lib/python3.10/dist-packages (from torch->torchtext==0.10.0a0+4da1de3) (3.1)\n",
            "Requirement already satisfied: jinja2 in /usr/local/lib/python3.10/dist-packages (from torch->torchtext==0.10.0a0+4da1de3) (3.1.2)\n",
            "Requirement already satisfied: triton==2.0.0 in /usr/local/lib/python3.10/dist-packages (from torch->torchtext==0.10.0a0+4da1de3) (2.0.0)\n",
            "Requirement already satisfied: cmake in /usr/local/lib/python3.10/dist-packages (from triton==2.0.0->torch->torchtext==0.10.0a0+4da1de3) (3.25.2)\n",
            "Requirement already satisfied: lit in /usr/local/lib/python3.10/dist-packages (from triton==2.0.0->torch->torchtext==0.10.0a0+4da1de3) (16.0.5)\n",
            "Requirement already satisfied: MarkupSafe>=2.0 in /usr/local/lib/python3.10/dist-packages (from jinja2->torch->torchtext==0.10.0a0+4da1de3) (2.1.2)\n",
            "Requirement already satisfied: mpmath>=0.19 in /usr/local/lib/python3.10/dist-packages (from sympy->torch->torchtext==0.10.0a0+4da1de3) (1.3.0)\n",
            "Building wheels for collected packages: torchtext\n",
            "  Building wheel for torchtext (setup.py) ... \u001b[?25l\u001b[?25hdone\n",
            "  Created wheel for torchtext: filename=torchtext-0.10.0a0+4da1de3-cp310-cp310-linux_x86_64.whl size=13337890 sha256=e565329b39276755f7f3e32998f6896fe002331ce73e0365545c501acadc9730\n",
            "  Stored in directory: /tmp/pip-ephem-wheel-cache-v05dx3qw/wheels/35/01/1b/48d47c6d8246b035aaa21b340cfee8a334384991bb59283a2c\n",
            "Successfully built torchtext\n",
            "Installing collected packages: torchtext\n",
            "  Attempting uninstall: torchtext\n",
            "    Found existing installation: torchtext 0.15.2\n",
            "    Uninstalling torchtext-0.15.2:\n",
            "      Successfully uninstalled torchtext-0.15.2\n",
            "Successfully installed torchtext-0.10.0a0+4da1de3\n"
          ]
        }
      ],
      "source": [
        "!pip install transformers\n",
        "!pip install keras.preprocessing\n",
        "!pip install git+https://github.com/pytorch/text.git@v0.10.0"
      ]
    },
    {
      "cell_type": "code",
      "execution_count": 5,
      "metadata": {
        "id": "fBr2V8S1LAt1"
      },
      "outputs": [],
      "source": [
        "import pandas as pd\n",
        "import numpy as np\n",
        "import torch\n",
        "\n",
        "\n",
        "from transformers import BertForSequenceClassification, BertConfig, BertTokenizer\n",
        "from tensorflow.keras.preprocessing.sequence import pad_sequences\n",
        "from sklearn.metrics import classification_report\n",
        "import matplotlib.pyplot as plt\n",
        "\n",
        "# Preliminaries\n",
        "from torchtext.legacy.data import Field, TabularDataset, BucketIterator, Iterator\n",
        "\n",
        "\n",
        "# Models\n",
        "import torch.nn as nn\n",
        "\n",
        "# Training\n",
        "import torch.optim as optim\n",
        "\n",
        "# Evaluation\n",
        "from sklearn.metrics import accuracy_score, classification_report, confusion_matrix\n",
        "import seaborn as sns"
      ]
    },
    {
      "cell_type": "markdown",
      "metadata": {
        "id": "D87UOuPvZWf9"
      },
      "source": [
        "## Preliminaries"
      ]
    },
    {
      "cell_type": "code",
      "execution_count": 6,
      "metadata": {
        "id": "AtWXlthhPvxl",
        "colab": {
          "base_uri": "https://localhost:8080/",
          "height": 145,
          "referenced_widgets": [
            "83f66b84406248b8b42b44de6aa70412",
            "81d7836159fe46df98f5010398a8c792",
            "0b05c5f578654b2880d89eeb3f1084ba",
            "a0d8a29925424291926f94c9beb595cf",
            "7b1832d738aa474eb897a4cf988b9221",
            "3a5a0a58a23a47bd9d57c4971ef2fbe7",
            "6234a95055f14cb382eb9be67aa6d79e",
            "04143d9f2f2948fa895beba75417b21c",
            "b880c48623e34296bcd529dc63b3a928",
            "ffa4f530a08347bea5f07e2a4906f299",
            "a5b83fac5acb4602b0e4bdbbef2f873f",
            "f3631d1dd25343babe022247026d3c87",
            "be0bba74cb0d4169ae490416fe226687",
            "6cc6610d46a24bf8adcc13a2fef081da",
            "47818139b25341d1bd47d1a310291759",
            "519a92f0fe964f33bbb740a8723ab8e0",
            "606c494c8bcf47a38a5f208ee51bed5b",
            "53ac5695add5424ebb04b0853b422f53",
            "0f7d138e3da944af997a53ab43b48ec9",
            "d51a438a05554555a63ba4d6c9565bfc",
            "c93db7b777874f7dbd3e6f4b3361162a",
            "d9ded959795d44a89baa041ea4dc56c2",
            "a157b64118d2486f9dff13403236ea40",
            "634dbfb057024de7b34de4918d455a2e",
            "5fa9ab3640b84d7b9ef04391892c0673",
            "158f8b3d190c49d7961bdcacabd142af",
            "8f31af756ef24abca4eacf2f64c5d8de",
            "177fb04ccf684376b396a0c99f6e8370",
            "1d7932e33abc41cf990a397f91590f8a",
            "f52078918ff544289766d65238714d8b",
            "7a41129807844e50b68c296cccb70bca",
            "243c98b1fbc94b9784e0b7935a283688",
            "134f78e829124c429312ff3fe18c578f",
            "654767d8ccde4cdfaa463421b5fd5a0c",
            "d67b539c5ac34e2694ed4436795b4a71",
            "5742cc48a8f141b284ca648e3b0747f2",
            "a9292d29b7724143b3d31a866a3e9723",
            "5728697df1f643e9b660d1b0b91bf7dd",
            "b071f5504570440097da48ea25ba6ffc",
            "f8e8b6fba90341d281346d7ac89c879c",
            "f55762b6a3c6421b9fb0aa010a123f8f",
            "cb2d68793e6c4e929698e24f0ba70ed9",
            "d659bd1f97e640b7a80021647263b96f",
            "b7dc8c541eb6452dae129e88b9ccd230"
          ]
        },
        "outputId": "1242ca42-36a1-49e9-bcef-3c98a57c830e"
      },
      "outputs": [
        {
          "output_type": "display_data",
          "data": {
            "text/plain": [
              "Downloading (…)solve/main/vocab.txt:   0%|          | 0.00/229k [00:00<?, ?B/s]"
            ],
            "application/vnd.jupyter.widget-view+json": {
              "version_major": 2,
              "version_minor": 0,
              "model_id": "83f66b84406248b8b42b44de6aa70412"
            }
          },
          "metadata": {}
        },
        {
          "output_type": "display_data",
          "data": {
            "text/plain": [
              "Downloading (…)cial_tokens_map.json:   0%|          | 0.00/112 [00:00<?, ?B/s]"
            ],
            "application/vnd.jupyter.widget-view+json": {
              "version_major": 2,
              "version_minor": 0,
              "model_id": "f3631d1dd25343babe022247026d3c87"
            }
          },
          "metadata": {}
        },
        {
          "output_type": "display_data",
          "data": {
            "text/plain": [
              "Downloading (…)okenizer_config.json:   0%|          | 0.00/2.00 [00:00<?, ?B/s]"
            ],
            "application/vnd.jupyter.widget-view+json": {
              "version_major": 2,
              "version_minor": 0,
              "model_id": "a157b64118d2486f9dff13403236ea40"
            }
          },
          "metadata": {}
        },
        {
          "output_type": "display_data",
          "data": {
            "text/plain": [
              "Downloading (…)lve/main/config.json:   0%|          | 0.00/1.53k [00:00<?, ?B/s]"
            ],
            "application/vnd.jupyter.widget-view+json": {
              "version_major": 2,
              "version_minor": 0,
              "model_id": "654767d8ccde4cdfaa463421b5fd5a0c"
            }
          },
          "metadata": {}
        }
      ],
      "source": [
        "tokenizer = BertTokenizer.from_pretrained('indobenchmark/indobert-base-p1')"
      ]
    },
    {
      "cell_type": "code",
      "execution_count": 7,
      "metadata": {
        "id": "gWg-WDVbWyGO"
      },
      "outputs": [],
      "source": [
        "device = torch.device('cuda:0' if torch.cuda.is_available() else 'cpu')"
      ]
    },
    {
      "cell_type": "code",
      "source": [
        "import random\n",
        "\n",
        "seed = 42\n",
        "torch.manual_seed(seed)\n",
        "torch.cuda.manual_seed(seed)\n",
        "torch.cuda.manual_seed_all(seed)  # jika menggunakan multiple GPUs\n",
        "random.seed(seed)\n",
        "np.random.seed(seed)\n",
        "torch.backends.cudnn.deterministic = True\n",
        "torch.backends.cudnn.benchmark = False"
      ],
      "metadata": {
        "id": "3ibamJ3rbUYX"
      },
      "execution_count": 8,
      "outputs": []
    },
    {
      "cell_type": "markdown",
      "metadata": {
        "id": "C7sIHRLwaoyM"
      },
      "source": [
        "## Model"
      ]
    },
    {
      "cell_type": "code",
      "execution_count": 9,
      "metadata": {
        "id": "GeZ14Ky5Lqih"
      },
      "outputs": [],
      "source": [
        "# Model parameter\n",
        "MAX_SEQ_LEN = 128\n",
        "PAD_INDEX = tokenizer.convert_tokens_to_ids(tokenizer.pad_token)\n",
        "UNK_INDEX = tokenizer.convert_tokens_to_ids(tokenizer.unk_token)\n",
        "\n",
        "# Fields\n",
        "label_field = Field(sequential=False, use_vocab=False, batch_first=True, dtype=torch.float)\n",
        "text_field = Field(use_vocab=False, tokenize=tokenizer.encode, lower=False, include_lengths=False, batch_first=True,\n",
        "                   fix_length=MAX_SEQ_LEN, pad_token=PAD_INDEX, unk_token=UNK_INDEX)\n",
        "fields = [('Label', label_field), ('Tokenizing_Head', text_field), ('Tokenizing_Body', text_field)]\n",
        "\n",
        "train, valid, test = TabularDataset.splits(path=source_folder, train='train3.csv', validation='valid3.csv', test='test3.csv',\n",
        "                                           format='csv', fields=fields, skip_header=True)\n"
      ]
    },
    {
      "cell_type": "code",
      "execution_count": 10,
      "metadata": {
        "id": "NSKPey98jRpM"
      },
      "outputs": [],
      "source": [
        "# Iterators\n",
        "train_iter = BucketIterator(train, batch_size=16, sort_key=lambda x: len(x.Tokenizing_Body),\n",
        "                            device=device, train=True, sort=True, sort_within_batch=True)\n",
        "valid_iter = BucketIterator(valid, batch_size=16, sort_key=lambda x: len(x.Tokenizing_Body),\n",
        "                            device=device, train=True, sort=True, sort_within_batch=True)\n",
        "test_iter = Iterator(test, batch_size=16, device=device, train=False, shuffle=False, sort=False)"
      ]
    },
    {
      "cell_type": "code",
      "execution_count": 11,
      "metadata": {
        "id": "YfFxkaJq1WmC"
      },
      "outputs": [],
      "source": [
        "# Module\n",
        "class BERT(nn.Module):\n",
        "\n",
        "    def __init__(self):\n",
        "        super(BERT, self).__init__()\n",
        "\n",
        "        options_name = \"indobenchmark/indobert-base-p1\"\n",
        "        self.encoder = BertForSequenceClassification.from_pretrained(options_name)\n",
        "\n",
        "    # def forward(self, headline, body, label=None):\n",
        "    #     loss, text_fea = self.encoder(input_ids=body, attention_mask=(body!=PAD_INDEX), token_type_ids=(headline!=PAD_INDEX), labels=label)[:2]\n",
        "    def forward(self, text, label):\n",
        "        loss, text_fea = self.encoder(text, labels=label)[:2]\n",
        "\n",
        "        return loss, text_fea"
      ]
    },
    {
      "cell_type": "code",
      "execution_count": 12,
      "metadata": {
        "id": "egjaxiu51prx"
      },
      "outputs": [],
      "source": [
        "def save_checkpoint(save_path, model, valid_loss):\n",
        "    if save_path is None:\n",
        "        return\n",
        "\n",
        "    state_dict = {'model_state_dict': model.state_dict(),\n",
        "                  'valid_loss': valid_loss}\n",
        "\n",
        "    torch.save(state_dict, save_path)\n",
        "    print(f'Model saved to ==> {save_path}')\n",
        "\n",
        "\n",
        "def load_checkpoint(load_path, model):\n",
        "    if load_path is None:\n",
        "        return\n",
        "\n",
        "    state_dict = torch.load(load_path, map_location=device)\n",
        "    print(f'Model loaded from <== {load_path}')\n",
        "\n",
        "    model.load_state_dict(state_dict['model_state_dict'])\n",
        "    return state_dict['valid_loss']\n",
        "\n",
        "\n",
        "def save_metrics(save_path, train_loss_list, valid_loss_list, epoch_list):\n",
        "    if save_path is None:\n",
        "        return\n",
        "\n",
        "    state_dict = {'train_loss_list': train_loss_list,\n",
        "                  'valid_loss_list': valid_loss_list,\n",
        "                  'epoch_list': epoch_list}\n",
        "\n",
        "    torch.save(state_dict, save_path)\n",
        "    print(f'Metrics saved to ==> {save_path}')\n",
        "\n",
        "\n",
        "def load_metrics(load_path):\n",
        "    if load_path is None:\n",
        "        return\n",
        "\n",
        "    state_dict = torch.load(load_path, map_location=device)\n",
        "    print(f'Metrics loaded from <== {load_path}')\n",
        "\n",
        "    return state_dict['train_loss_list'], state_dict['valid_loss_list'], state_dict['epoch_list']"
      ]
    },
    {
      "cell_type": "markdown",
      "metadata": {
        "id": "hsAT0DKHZ1si"
      },
      "source": [
        "## Training and Validation"
      ]
    },
    {
      "cell_type": "code",
      "execution_count": 13,
      "metadata": {
        "id": "mf4FbhurXdUs"
      },
      "outputs": [],
      "source": [
        "def train(model,\n",
        "          optimizer,\n",
        "          criterion=nn.BCELoss(),\n",
        "          train_loader=train_iter,\n",
        "          valid_loader=valid_iter,\n",
        "          num_epochs=10,\n",
        "          eval_every=1,\n",
        "          file_path=destination_folder,\n",
        "          best_valid_loss=float(\"Inf\"),\n",
        "          patience=3):\n",
        "\n",
        "    # initialize running values\n",
        "    running_loss = 0.0\n",
        "    valid_running_loss = 0.0\n",
        "    train_loss_list = []\n",
        "    valid_loss_list = []\n",
        "    epoch_list = []\n",
        "    early_stopping_counter = 0\n",
        "\n",
        "    # training loop\n",
        "    model.train()\n",
        "    for epoch in range(num_epochs):\n",
        "        for (labels, title, text), _ in train_loader:\n",
        "            labels = labels.type(torch.LongTensor)\n",
        "            labels = labels.to(device)\n",
        "            text = text.type(torch.LongTensor)\n",
        "            text = text.to(device)\n",
        "            output = model(text, labels)\n",
        "            loss, _ = output\n",
        "\n",
        "            optimizer.zero_grad()\n",
        "            loss.backward()\n",
        "            optimizer.step()\n",
        "\n",
        "            # update running values\n",
        "            running_loss += loss.item()\n",
        "\n",
        "        # evaluation step\n",
        "        if epoch % eval_every == 0:\n",
        "            model.eval()\n",
        "            with torch.no_grad():\n",
        "                # validation loop\n",
        "                for (labels, title, text), _ in valid_loader:\n",
        "                    labels = labels.type(torch.LongTensor)\n",
        "                    labels = labels.to(device)\n",
        "                    text = text.type(torch.LongTensor)\n",
        "                    text = text.to(device)\n",
        "                    output = model(text, labels)\n",
        "                    loss, _ = output\n",
        "\n",
        "                    valid_running_loss += loss.item()\n",
        "\n",
        "            # evaluation\n",
        "            average_train_loss = running_loss / len(train_loader)\n",
        "            average_valid_loss = valid_running_loss / len(valid_loader)\n",
        "            train_loss_list.append(average_train_loss)\n",
        "            valid_loss_list.append(average_valid_loss)\n",
        "            epoch_list.append(epoch)\n",
        "\n",
        "            # resetting running values\n",
        "            running_loss = 0.0\n",
        "            valid_running_loss = 0.0\n",
        "            model.train()\n",
        "\n",
        "            # print progress\n",
        "            print('Epoch [{}/{}], Train Loss: {:.4f}, Valid Loss: {:.4f}'\n",
        "                  .format(epoch+1, num_epochs, average_train_loss, average_valid_loss))\n",
        "\n",
        "            # checkpoint\n",
        "            if best_valid_loss > average_valid_loss:\n",
        "                best_valid_loss = average_valid_loss\n",
        "                save_checkpoint(file_path + '/' + 'model.pt', model, best_valid_loss)\n",
        "                save_metrics(file_path + '/' + 'metrics.pt', train_loss_list, valid_loss_list, epoch_list)\n",
        "                early_stopping_counter = 0\n",
        "            else:\n",
        "                early_stopping_counter += 1\n",
        "                if early_stopping_counter >= patience:\n",
        "                    print(\"Early stopping\")\n",
        "                    break\n",
        "\n",
        "    save_metrics(file_path + '/' + 'metrics.pt', train_loss_list, valid_loss_list, epoch_list)\n",
        "    print('Finished Training!')\n",
        "    return train_loss_list, valid_loss_list, epoch_list, best_valid_loss"
      ]
    },
    {
      "cell_type": "code",
      "execution_count": 14,
      "metadata": {
        "colab": {
          "base_uri": "https://localhost:8080/",
          "height": 538,
          "referenced_widgets": [
            "e18aaf5a7cb4455f8a22f0422664653a",
            "de477a7eac0b487aa2543bf082108c51",
            "f39c241c2ce449c38094e45bdd7e86cb",
            "d7cf923358424b4d81f2dc222835d82b",
            "ba15f3e617424f1b93243d4ece0b1656",
            "e6477232db0849d280698e0dee7dd2a8",
            "db3a248d075c46958265c1d21e8e233b",
            "1cd8ecb4462746f788f703be131fa7b5",
            "546cd1e1d11448148df576671f08b5c1",
            "bbc3449a58ee4905b10f3e1265256464",
            "68aefaa4cabb46cf9603b8ff101830c3"
          ]
        },
        "id": "qgEMeGkE25GR",
        "outputId": "2cb539b5-f2b7-4164-cf8d-f1df26dff2d6"
      },
      "outputs": [
        {
          "output_type": "display_data",
          "data": {
            "text/plain": [
              "Downloading pytorch_model.bin:   0%|          | 0.00/498M [00:00<?, ?B/s]"
            ],
            "application/vnd.jupyter.widget-view+json": {
              "version_major": 2,
              "version_minor": 0,
              "model_id": "e18aaf5a7cb4455f8a22f0422664653a"
            }
          },
          "metadata": {}
        },
        {
          "output_type": "stream",
          "name": "stderr",
          "text": [
            "Some weights of BertForSequenceClassification were not initialized from the model checkpoint at indobenchmark/indobert-base-p1 and are newly initialized: ['classifier.weight', 'classifier.bias']\n",
            "You should probably TRAIN this model on a down-stream task to be able to use it for predictions and inference.\n"
          ]
        },
        {
          "output_type": "stream",
          "name": "stdout",
          "text": [
            "Epoch [1/10], Train Loss: 0.6521, Valid Loss: 0.7228\n",
            "Model saved to ==> /content/drive/MyDrive/TASI/GridSearch/ModelImbalance4/model.pt\n",
            "Metrics saved to ==> /content/drive/MyDrive/TASI/GridSearch/ModelImbalance4/metrics.pt\n",
            "Epoch [2/10], Train Loss: 0.6210, Valid Loss: 0.6529\n",
            "Model saved to ==> /content/drive/MyDrive/TASI/GridSearch/ModelImbalance4/model.pt\n",
            "Metrics saved to ==> /content/drive/MyDrive/TASI/GridSearch/ModelImbalance4/metrics.pt\n",
            "Epoch [3/10], Train Loss: 0.2738, Valid Loss: 0.2941\n",
            "Model saved to ==> /content/drive/MyDrive/TASI/GridSearch/ModelImbalance4/model.pt\n",
            "Metrics saved to ==> /content/drive/MyDrive/TASI/GridSearch/ModelImbalance4/metrics.pt\n",
            "Epoch [4/10], Train Loss: 0.1369, Valid Loss: 0.2067\n",
            "Model saved to ==> /content/drive/MyDrive/TASI/GridSearch/ModelImbalance4/model.pt\n",
            "Metrics saved to ==> /content/drive/MyDrive/TASI/GridSearch/ModelImbalance4/metrics.pt\n",
            "Epoch [5/10], Train Loss: 0.0909, Valid Loss: 0.1357\n",
            "Model saved to ==> /content/drive/MyDrive/TASI/GridSearch/ModelImbalance4/model.pt\n",
            "Metrics saved to ==> /content/drive/MyDrive/TASI/GridSearch/ModelImbalance4/metrics.pt\n",
            "Epoch [6/10], Train Loss: 0.0621, Valid Loss: 0.3082\n",
            "Epoch [7/10], Train Loss: 0.0442, Valid Loss: 0.0972\n",
            "Model saved to ==> /content/drive/MyDrive/TASI/GridSearch/ModelImbalance4/model.pt\n",
            "Metrics saved to ==> /content/drive/MyDrive/TASI/GridSearch/ModelImbalance4/metrics.pt\n",
            "Epoch [8/10], Train Loss: 0.0472, Valid Loss: 0.1007\n",
            "Epoch [9/10], Train Loss: 0.0306, Valid Loss: 0.1404\n",
            "Epoch [10/10], Train Loss: 0.0279, Valid Loss: 0.1502\n",
            "Early stopping\n",
            "Metrics saved to ==> /content/drive/MyDrive/TASI/GridSearch/ModelImbalance4/metrics.pt\n",
            "Finished Training!\n"
          ]
        }
      ],
      "source": [
        "model = BERT().to(device)\n",
        "optimizer = optim.Adam(model.parameters(), lr=2e-5)\n",
        "\n",
        "train_loss_list, valid_loss_list, epoch_list, best_valid_loss = train(model=model, optimizer=optimizer)"
      ]
    },
    {
      "cell_type": "code",
      "execution_count": 15,
      "metadata": {
        "colab": {
          "base_uri": "https://localhost:8080/",
          "height": 466
        },
        "id": "aB-0Up2JSsCC",
        "outputId": "08ce8426-5877-4238-ddf9-f3c01666b961"
      },
      "outputs": [
        {
          "output_type": "stream",
          "name": "stdout",
          "text": [
            "Metrics loaded from <== /content/drive/MyDrive/TASI/GridSearch/ModelImbalance4/metrics.pt\n"
          ]
        },
        {
          "output_type": "display_data",
          "data": {
            "text/plain": [
              "<Figure size 640x480 with 1 Axes>"
            ],
            "image/png": "[encoded data removed]"
          },
          "metadata": {}
        }
      ],
      "source": [
        "train_loss_list, valid_loss_list, epoch_list = load_metrics(destination_folder + '/metrics.pt')\n",
        "plt.plot(epoch_list, train_loss_list, label='Train')\n",
        "plt.plot(epoch_list, valid_loss_list, label='Valid')\n",
        "plt.xlabel('Epochs')\n",
        "plt.ylabel('Loss')\n",
        "plt.legend()\n",
        "plt.show()"
      ]
    },
    {
      "cell_type": "markdown",
      "metadata": {
        "id": "2HlW7cvQaYvl"
      },
      "source": [
        "## Testing"
      ]
    },
    {
      "cell_type": "code",
      "execution_count": 16,
      "metadata": {
        "colab": {
          "base_uri": "https://localhost:8080/",
          "height": 614
        },
        "id": "uMcQfFEFS1AB",
        "outputId": "d5fb575d-685c-4c1f-d006-734b090a5e21"
      },
      "outputs": [
        {
          "output_type": "stream",
          "name": "stderr",
          "text": [
            "Some weights of BertForSequenceClassification were not initialized from the model checkpoint at indobenchmark/indobert-base-p1 and are newly initialized: ['classifier.weight', 'classifier.bias']\n",
            "You should probably TRAIN this model on a down-stream task to be able to use it for predictions and inference.\n"
          ]
        },
        {
          "output_type": "stream",
          "name": "stdout",
          "text": [
            "Model loaded from <== /content/drive/MyDrive/TASI/GridSearch/ModelImbalance4/model.pt\n",
            "Classification Report:\n",
            "Real - Precision: 0.9633, Recall: 0.9292, F1-Score: 0.9459\n",
            "Fake - Precision: 0.8632, Recall: 0.9266, F1-Score: 0.8938\n",
            "Accuracy: 0.9283582089552239\n"
          ]
        },
        {
          "output_type": "display_data",
          "data": {
            "text/plain": [
              "<Figure size 640x480 with 2 Axes>"
            ],
            "image/png": "[encoded data removed]"
          },
          "metadata": {}
        }
      ],
      "source": [
        "from sklearn.metrics import classification_report, accuracy_score, confusion_matrix\n",
        "import numpy as np\n",
        "import seaborn as sns\n",
        "import matplotlib.pyplot as plt\n",
        "\n",
        "def evaluate(model, test_loader):\n",
        "    y_pred = []\n",
        "    y_true = []\n",
        "\n",
        "    model.eval()\n",
        "    with torch.no_grad():\n",
        "        for (labels, title, text), _ in test_loader:\n",
        "            labels = labels.type(torch.LongTensor)\n",
        "            labels = labels.to(device)\n",
        "            text = text.type(torch.LongTensor)\n",
        "            text = text.to(device)\n",
        "            output = model(text, labels)\n",
        "\n",
        "            _, output = output\n",
        "            y_pred.extend(torch.argmax(output, 1).tolist())\n",
        "            y_true.extend(labels.tolist())\n",
        "\n",
        "    # Mengganti label 1 menjadi \"fake\" dan label 0 menjadi \"real\"\n",
        "    y_true = np.where(np.array(y_true) == 0, \"real\", \"fake\")\n",
        "    y_pred = np.where(np.array(y_pred) == 0, \"real\", \"fake\")\n",
        "\n",
        "    # Menghitung dan mencetak hasil precision, recall, f1-score, dan accuracy\n",
        "    report = classification_report(y_true, y_pred, labels=[\"real\", \"fake\"], digits=4, output_dict=True)\n",
        "    print('Classification Report:')\n",
        "    for label, scores in report.items():\n",
        "        if label in [\"real\", \"fake\"]:\n",
        "            precision = scores['precision']\n",
        "            recall = scores['recall']\n",
        "            f1_score = scores['f1-score']\n",
        "            print(f\"{label.capitalize()} - Precision: {precision:.4f}, Recall: {recall:.4f}, F1-Score: {f1_score:.4f}\")\n",
        "    accuracy = accuracy_score(y_true, y_pred)\n",
        "    print(f'Accuracy: {accuracy}')\n",
        "\n",
        "    # Menghitung dan mencetak confusion matrix\n",
        "    cm = confusion_matrix(y_true, y_pred, labels=[\"real\", \"fake\"])\n",
        "    ax = plt.subplot()\n",
        "    sns.heatmap(cm, annot=True, ax=ax, cmap='Blues', fmt=\"d\")\n",
        "    ax.set_title('Confusion Matrix')\n",
        "    ax.set_xlabel('Predicted Labels')\n",
        "    ax.set_ylabel('True Labels')\n",
        "    ax.xaxis.set_ticklabels(['Real', 'Fake'])\n",
        "    ax.yaxis.set_ticklabels(['Real', 'Fake'])\n",
        "    plt.show()\n",
        "\n",
        "best_model = BERT().to(device)\n",
        "\n",
        "load_checkpoint(destination_folder + '/model.pt', best_model)\n",
        "\n",
        "evaluate(best_model, test_iter)"
      ]
    },
    {
      "cell_type": "markdown",
      "metadata": {
        "id": "lH-ndpu-LdhU"
      },
      "source": [
        "##Hyperparameter Tuning with Import Grid"
      ]
    },
    {
      "cell_type": "code",
      "execution_count": 17,
      "metadata": {
        "colab": {
          "base_uri": "https://localhost:8080/"
        },
        "id": "BTVEwsVECsNB",
        "outputId": "1adfb116-0647-4a15-ae2c-a60bc604feff"
      },
      "outputs": [
        {
          "output_type": "stream",
          "name": "stdout",
          "text": [
            "Looking in indexes: https://pypi.org/simple, https://us-python.pkg.dev/colab-wheels/public/simple/\n",
            "Collecting optuna\n",
            "  Downloading optuna-3.2.0-py3-none-any.whl (390 kB)\n",
            "\u001b[2K     \u001b[90m━━━━━━━━━━━━━━━━━━━━━━━━━━━━━━━━━━━━━━━\u001b[0m \u001b[32m390.6/390.6 kB\u001b[0m \u001b[31m8.4 MB/s\u001b[0m eta \u001b[36m0:00:00\u001b[0m\n",
            "\u001b[?25hCollecting alembic>=1.5.0 (from optuna)\n",
            "  Downloading alembic-1.11.1-py3-none-any.whl (224 kB)\n",
            "\u001b[2K     \u001b[90m━━━━━━━━━━━━━━━━━━━━━━━━━━━━━━━━━━━━━━\u001b[0m \u001b[32m224.5/224.5 kB\u001b[0m \u001b[31m28.2 MB/s\u001b[0m eta \u001b[36m0:00:00\u001b[0m\n",
            "\u001b[?25hCollecting cmaes>=0.9.1 (from optuna)\n",
            "  Downloading cmaes-0.9.1-py3-none-any.whl (21 kB)\n",
            "Collecting colorlog (from optuna)\n",
            "  Downloading colorlog-6.7.0-py2.py3-none-any.whl (11 kB)\n",
            "Requirement already satisfied: numpy in /usr/local/lib/python3.10/dist-packages (from optuna) (1.22.4)\n",
            "Requirement already satisfied: packaging>=20.0 in /usr/local/lib/python3.10/dist-packages (from optuna) (23.1)\n",
            "Requirement already satisfied: sqlalchemy>=1.3.0 in /usr/local/lib/python3.10/dist-packages (from optuna) (2.0.10)\n",
            "Requirement already satisfied: tqdm in /usr/local/lib/python3.10/dist-packages (from optuna) (4.65.0)\n",
            "Requirement already satisfied: PyYAML in /usr/local/lib/python3.10/dist-packages (from optuna) (6.0)\n",
            "Collecting Mako (from alembic>=1.5.0->optuna)\n",
            "  Downloading Mako-1.2.4-py3-none-any.whl (78 kB)\n",
            "\u001b[2K     \u001b[90m━━━━━━━━━━━━━━━━━━━━━━━━━━━━━━━━━━━━━━━━\u001b[0m \u001b[32m78.7/78.7 kB\u001b[0m \u001b[31m10.9 MB/s\u001b[0m eta \u001b[36m0:00:00\u001b[0m\n",
            "\u001b[?25hRequirement already satisfied: typing-extensions>=4 in /usr/local/lib/python3.10/dist-packages (from alembic>=1.5.0->optuna) (4.5.0)\n",
            "Requirement already satisfied: greenlet!=0.4.17 in /usr/local/lib/python3.10/dist-packages (from sqlalchemy>=1.3.0->optuna) (2.0.2)\n",
            "Requirement already satisfied: MarkupSafe>=0.9.2 in /usr/local/lib/python3.10/dist-packages (from Mako->alembic>=1.5.0->optuna) (2.1.2)\n",
            "Installing collected packages: Mako, colorlog, cmaes, alembic, optuna\n",
            "Successfully installed Mako-1.2.4 alembic-1.11.1 cmaes-0.9.1 colorlog-6.7.0 optuna-3.2.0\n"
          ]
        }
      ],
      "source": [
        "!pip install optuna"
      ]
    },
    {
      "cell_type": "code",
      "execution_count": 19,
      "metadata": {
        "colab": {
          "base_uri": "https://localhost:8080/"
        },
        "id": "m4ZRW3Odyw8F",
        "outputId": "7392e26a-a978-4807-e4eb-5f6cfd7c0505"
      },
      "outputs": [
        {
          "output_type": "stream",
          "name": "stderr",
          "text": [
            "[I 2023-06-21 07:47:17,616] A new study created in memory with name: no-name-a96570ff-6c4c-4687-ad75-91095ea587c2\n",
            "Some weights of BertForSequenceClassification were not initialized from the model checkpoint at indobenchmark/indobert-base-p1 and are newly initialized: ['classifier.weight', 'classifier.bias']\n",
            "You should probably TRAIN this model on a down-stream task to be able to use it for predictions and inference.\n"
          ]
        },
        {
          "output_type": "stream",
          "name": "stdout",
          "text": [
            "Epoch [1/6], Train Loss: 0.6265, Valid Loss: 0.7093\n",
            "Model saved to ==> /content/drive/MyDrive/TASI/GridSearch/ModelImbalance4/model.pt\n",
            "Metrics saved to ==> /content/drive/MyDrive/TASI/GridSearch/ModelImbalance4/metrics.pt\n",
            "Epoch [2/6], Train Loss: 0.3259, Valid Loss: 0.2731\n",
            "Model saved to ==> /content/drive/MyDrive/TASI/GridSearch/ModelImbalance4/model.pt\n",
            "Metrics saved to ==> /content/drive/MyDrive/TASI/GridSearch/ModelImbalance4/metrics.pt\n",
            "Epoch [3/6], Train Loss: 0.2481, Valid Loss: 0.2492\n",
            "Model saved to ==> /content/drive/MyDrive/TASI/GridSearch/ModelImbalance4/model.pt\n",
            "Metrics saved to ==> /content/drive/MyDrive/TASI/GridSearch/ModelImbalance4/metrics.pt\n",
            "Epoch [4/6], Train Loss: 0.1320, Valid Loss: 0.1195\n",
            "Model saved to ==> /content/drive/MyDrive/TASI/GridSearch/ModelImbalance4/model.pt\n",
            "Metrics saved to ==> /content/drive/MyDrive/TASI/GridSearch/ModelImbalance4/metrics.pt\n",
            "Epoch [5/6], Train Loss: 0.0558, Valid Loss: 0.1442\n",
            "Epoch [6/6], Train Loss: 0.0335, Valid Loss: 0.1281\n",
            "Metrics saved to ==> /content/drive/MyDrive/TASI/GridSearch/ModelImbalance4/metrics.pt\n",
            "Finished Training!\n"
          ]
        },
        {
          "output_type": "stream",
          "name": "stderr",
          "text": [
            "[I 2023-06-21 07:49:23,679] Trial 0 finished with value: 0.11949135097009796 and parameters: {'lr': 2e-05, 'num_epochs': 6, 'batch_size': 16}. Best is trial 0 with value: 0.11949135097009796.\n",
            "Some weights of BertForSequenceClassification were not initialized from the model checkpoint at indobenchmark/indobert-base-p1 and are newly initialized: ['classifier.weight', 'classifier.bias']\n",
            "You should probably TRAIN this model on a down-stream task to be able to use it for predictions and inference.\n"
          ]
        },
        {
          "output_type": "stream",
          "name": "stdout",
          "text": [
            "Epoch [1/9], Train Loss: 0.6404, Valid Loss: 0.6670\n",
            "Model saved to ==> /content/drive/MyDrive/TASI/GridSearch/ModelImbalance4/model.pt\n",
            "Metrics saved to ==> /content/drive/MyDrive/TASI/GridSearch/ModelImbalance4/metrics.pt\n",
            "Epoch [2/9], Train Loss: 0.5001, Valid Loss: 0.2903\n",
            "Model saved to ==> /content/drive/MyDrive/TASI/GridSearch/ModelImbalance4/model.pt\n",
            "Metrics saved to ==> /content/drive/MyDrive/TASI/GridSearch/ModelImbalance4/metrics.pt\n",
            "Epoch [3/9], Train Loss: 0.2231, Valid Loss: 0.1815\n",
            "Model saved to ==> /content/drive/MyDrive/TASI/GridSearch/ModelImbalance4/model.pt\n",
            "Metrics saved to ==> /content/drive/MyDrive/TASI/GridSearch/ModelImbalance4/metrics.pt\n",
            "Epoch [4/9], Train Loss: 0.1146, Valid Loss: 0.2221\n",
            "Epoch [5/9], Train Loss: 0.0622, Valid Loss: 0.2462\n"
          ]
        },
        {
          "output_type": "stream",
          "name": "stderr",
          "text": [
            "[I 2023-06-21 07:51:21,309] Trial 1 pruned. \n"
          ]
        },
        {
          "output_type": "stream",
          "name": "stdout",
          "text": [
            "Epoch [6/9], Train Loss: 0.0663, Valid Loss: 0.2211\n",
            "Early stopping\n",
            "Metrics saved to ==> /content/drive/MyDrive/TASI/GridSearch/ModelImbalance4/metrics.pt\n",
            "Finished Training!\n",
            "Validation loss hasn't improved in the last 3 epochs. Stopping early.\n"
          ]
        },
        {
          "output_type": "stream",
          "name": "stderr",
          "text": [
            "Some weights of BertForSequenceClassification were not initialized from the model checkpoint at indobenchmark/indobert-base-p1 and are newly initialized: ['classifier.weight', 'classifier.bias']\n",
            "You should probably TRAIN this model on a down-stream task to be able to use it for predictions and inference.\n"
          ]
        },
        {
          "output_type": "stream",
          "name": "stdout",
          "text": [
            "Epoch [1/7], Train Loss: 0.6756, Valid Loss: 0.6481\n",
            "Model saved to ==> /content/drive/MyDrive/TASI/GridSearch/ModelImbalance4/model.pt\n",
            "Metrics saved to ==> /content/drive/MyDrive/TASI/GridSearch/ModelImbalance4/metrics.pt\n",
            "Epoch [2/7], Train Loss: 0.6652, Valid Loss: 0.6951\n",
            "Epoch [3/7], Train Loss: 0.6852, Valid Loss: 0.6640\n"
          ]
        },
        {
          "output_type": "stream",
          "name": "stderr",
          "text": [
            "[I 2023-06-21 07:52:37,898] Trial 2 pruned. \n"
          ]
        },
        {
          "output_type": "stream",
          "name": "stdout",
          "text": [
            "Epoch [4/7], Train Loss: 0.7161, Valid Loss: 0.7058\n",
            "Early stopping\n",
            "Metrics saved to ==> /content/drive/MyDrive/TASI/GridSearch/ModelImbalance4/metrics.pt\n",
            "Finished Training!\n",
            "Validation loss hasn't improved in the last 3 epochs. Stopping early.\n"
          ]
        },
        {
          "output_type": "stream",
          "name": "stderr",
          "text": [
            "Some weights of BertForSequenceClassification were not initialized from the model checkpoint at indobenchmark/indobert-base-p1 and are newly initialized: ['classifier.weight', 'classifier.bias']\n",
            "You should probably TRAIN this model on a down-stream task to be able to use it for predictions and inference.\n"
          ]
        },
        {
          "output_type": "stream",
          "name": "stdout",
          "text": [
            "Epoch [1/8], Train Loss: 0.5374, Valid Loss: 0.3777\n",
            "Model saved to ==> /content/drive/MyDrive/TASI/GridSearch/ModelImbalance4/model.pt\n",
            "Metrics saved to ==> /content/drive/MyDrive/TASI/GridSearch/ModelImbalance4/metrics.pt\n",
            "Epoch [2/8], Train Loss: 0.2724, Valid Loss: 0.2039\n",
            "Model saved to ==> /content/drive/MyDrive/TASI/GridSearch/ModelImbalance4/model.pt\n",
            "Metrics saved to ==> /content/drive/MyDrive/TASI/GridSearch/ModelImbalance4/metrics.pt\n",
            "Epoch [3/8], Train Loss: 0.1817, Valid Loss: 0.1836\n",
            "Model saved to ==> /content/drive/MyDrive/TASI/GridSearch/ModelImbalance4/model.pt\n",
            "Metrics saved to ==> /content/drive/MyDrive/TASI/GridSearch/ModelImbalance4/metrics.pt\n",
            "Epoch [4/8], Train Loss: 0.0734, Valid Loss: 0.1897\n",
            "Epoch [5/8], Train Loss: 0.0339, Valid Loss: 0.2581\n",
            "Epoch [6/8], Train Loss: 0.0162, Valid Loss: 0.1801\n",
            "Model saved to ==> /content/drive/MyDrive/TASI/GridSearch/ModelImbalance4/model.pt\n",
            "Metrics saved to ==> /content/drive/MyDrive/TASI/GridSearch/ModelImbalance4/metrics.pt\n",
            "Epoch [7/8], Train Loss: 0.0218, Valid Loss: 0.1630\n",
            "Model saved to ==> /content/drive/MyDrive/TASI/GridSearch/ModelImbalance4/model.pt\n",
            "Metrics saved to ==> /content/drive/MyDrive/TASI/GridSearch/ModelImbalance4/metrics.pt\n"
          ]
        },
        {
          "output_type": "stream",
          "name": "stderr",
          "text": [
            "[I 2023-06-21 07:55:16,146] Trial 3 pruned. \n"
          ]
        },
        {
          "output_type": "stream",
          "name": "stdout",
          "text": [
            "Epoch [8/8], Train Loss: 0.0173, Valid Loss: 0.1879\n",
            "Metrics saved to ==> /content/drive/MyDrive/TASI/GridSearch/ModelImbalance4/metrics.pt\n",
            "Finished Training!\n",
            "Validation loss hasn't improved in the last 3 epochs. Stopping early.\n"
          ]
        },
        {
          "output_type": "stream",
          "name": "stderr",
          "text": [
            "Some weights of BertForSequenceClassification were not initialized from the model checkpoint at indobenchmark/indobert-base-p1 and are newly initialized: ['classifier.weight', 'classifier.bias']\n",
            "You should probably TRAIN this model on a down-stream task to be able to use it for predictions and inference.\n"
          ]
        },
        {
          "output_type": "stream",
          "name": "stdout",
          "text": [
            "Epoch [1/10], Train Loss: 0.6261, Valid Loss: 0.4721\n",
            "Model saved to ==> /content/drive/MyDrive/TASI/GridSearch/ModelImbalance4/model.pt\n",
            "Metrics saved to ==> /content/drive/MyDrive/TASI/GridSearch/ModelImbalance4/metrics.pt\n",
            "Epoch [2/10], Train Loss: 0.3343, Valid Loss: 0.2346\n",
            "Model saved to ==> /content/drive/MyDrive/TASI/GridSearch/ModelImbalance4/model.pt\n",
            "Metrics saved to ==> /content/drive/MyDrive/TASI/GridSearch/ModelImbalance4/metrics.pt\n",
            "Epoch [3/10], Train Loss: 0.2181, Valid Loss: 0.1944\n",
            "Model saved to ==> /content/drive/MyDrive/TASI/GridSearch/ModelImbalance4/model.pt\n",
            "Metrics saved to ==> /content/drive/MyDrive/TASI/GridSearch/ModelImbalance4/metrics.pt\n",
            "Epoch [4/10], Train Loss: 0.1165, Valid Loss: 0.2328\n",
            "Epoch [5/10], Train Loss: 0.0606, Valid Loss: 0.1409\n",
            "Model saved to ==> /content/drive/MyDrive/TASI/GridSearch/ModelImbalance4/model.pt\n",
            "Metrics saved to ==> /content/drive/MyDrive/TASI/GridSearch/ModelImbalance4/metrics.pt\n",
            "Epoch [6/10], Train Loss: 0.0437, Valid Loss: 0.1478\n",
            "Epoch [7/10], Train Loss: 0.0189, Valid Loss: 0.1307\n",
            "Model saved to ==> /content/drive/MyDrive/TASI/GridSearch/ModelImbalance4/model.pt\n",
            "Metrics saved to ==> /content/drive/MyDrive/TASI/GridSearch/ModelImbalance4/metrics.pt\n",
            "Epoch [8/10], Train Loss: 0.0174, Valid Loss: 0.2451\n",
            "Epoch [9/10], Train Loss: 0.0026, Valid Loss: 0.2012\n"
          ]
        },
        {
          "output_type": "stream",
          "name": "stderr",
          "text": [
            "[I 2023-06-21 07:58:29,833] Trial 4 pruned. \n"
          ]
        },
        {
          "output_type": "stream",
          "name": "stdout",
          "text": [
            "Epoch [10/10], Train Loss: 0.0156, Valid Loss: 0.1759\n",
            "Early stopping\n",
            "Metrics saved to ==> /content/drive/MyDrive/TASI/GridSearch/ModelImbalance4/metrics.pt\n",
            "Finished Training!\n",
            "Validation loss hasn't improved in the last 3 epochs. Stopping early.\n"
          ]
        },
        {
          "output_type": "stream",
          "name": "stderr",
          "text": [
            "Some weights of BertForSequenceClassification were not initialized from the model checkpoint at indobenchmark/indobert-base-p1 and are newly initialized: ['classifier.weight', 'classifier.bias']\n",
            "You should probably TRAIN this model on a down-stream task to be able to use it for predictions and inference.\n"
          ]
        },
        {
          "output_type": "stream",
          "name": "stdout",
          "text": [
            "Epoch [1/10], Train Loss: 0.6464, Valid Loss: 0.5767\n",
            "Model saved to ==> /content/drive/MyDrive/TASI/GridSearch/ModelImbalance4/model.pt\n",
            "Metrics saved to ==> /content/drive/MyDrive/TASI/GridSearch/ModelImbalance4/metrics.pt\n",
            "Epoch [2/10], Train Loss: 0.3636, Valid Loss: 0.4724\n",
            "Model saved to ==> /content/drive/MyDrive/TASI/GridSearch/ModelImbalance4/model.pt\n",
            "Metrics saved to ==> /content/drive/MyDrive/TASI/GridSearch/ModelImbalance4/metrics.pt\n",
            "Epoch [3/10], Train Loss: 0.2054, Valid Loss: 0.8379\n",
            "Epoch [4/10], Train Loss: 0.1325, Valid Loss: 0.3792\n",
            "Model saved to ==> /content/drive/MyDrive/TASI/GridSearch/ModelImbalance4/model.pt\n",
            "Metrics saved to ==> /content/drive/MyDrive/TASI/GridSearch/ModelImbalance4/metrics.pt\n",
            "Epoch [5/10], Train Loss: 0.0979, Valid Loss: 0.3333\n",
            "Model saved to ==> /content/drive/MyDrive/TASI/GridSearch/ModelImbalance4/model.pt\n",
            "Metrics saved to ==> /content/drive/MyDrive/TASI/GridSearch/ModelImbalance4/metrics.pt\n",
            "Model saved to ==> /content/drive/MyDrive/TASI/GridSearch/ModelImbalance4/model.pt\n",
            "Metrics saved to ==> /content/drive/MyDrive/TASI/GridSearch/ModelImbalance4/metrics.pt\n",
            "Epoch [7/10], Train Loss: 0.0255, Valid Loss: 0.4093\n",
            "Epoch [8/10], Train Loss: 0.0087, Valid Loss: 0.2669\n",
            "Model saved to ==> /content/drive/MyDrive/TASI/GridSearch/ModelImbalance4/model.pt\n",
            "Metrics saved to ==> /content/drive/MyDrive/TASI/GridSearch/ModelImbalance4/metrics.pt\n",
            "Epoch [9/10], Train Loss: 0.0015, Valid Loss: 0.3320\n"
          ]
        },
        {
          "output_type": "stream",
          "name": "stderr",
          "text": [
            "[I 2023-06-21 08:01:52,478] Trial 5 pruned. \n"
          ]
        },
        {
          "output_type": "stream",
          "name": "stdout",
          "text": [
            "Epoch [10/10], Train Loss: 0.0011, Valid Loss: 0.3331\n",
            "Metrics saved to ==> /content/drive/MyDrive/TASI/GridSearch/ModelImbalance4/metrics.pt\n",
            "Finished Training!\n",
            "Validation loss hasn't improved in the last 3 epochs. Stopping early.\n"
          ]
        },
        {
          "output_type": "stream",
          "name": "stderr",
          "text": [
            "Some weights of BertForSequenceClassification were not initialized from the model checkpoint at indobenchmark/indobert-base-p1 and are newly initialized: ['classifier.weight', 'classifier.bias']\n",
            "You should probably TRAIN this model on a down-stream task to be able to use it for predictions and inference.\n"
          ]
        },
        {
          "output_type": "stream",
          "name": "stdout",
          "text": [
            "Epoch [1/9], Train Loss: 0.6159, Valid Loss: 0.4309\n",
            "Model saved to ==> /content/drive/MyDrive/TASI/GridSearch/ModelImbalance4/model.pt\n",
            "Metrics saved to ==> /content/drive/MyDrive/TASI/GridSearch/ModelImbalance4/metrics.pt\n",
            "Epoch [2/9], Train Loss: 0.2910, Valid Loss: 0.3485\n",
            "Model saved to ==> /content/drive/MyDrive/TASI/GridSearch/ModelImbalance4/model.pt\n",
            "Metrics saved to ==> /content/drive/MyDrive/TASI/GridSearch/ModelImbalance4/metrics.pt\n",
            "Epoch [3/9], Train Loss: 0.1861, Valid Loss: 0.2272\n",
            "Model saved to ==> /content/drive/MyDrive/TASI/GridSearch/ModelImbalance4/model.pt\n",
            "Metrics saved to ==> /content/drive/MyDrive/TASI/GridSearch/ModelImbalance4/metrics.pt\n",
            "Epoch [4/9], Train Loss: 0.1099, Valid Loss: 0.2019\n",
            "Model saved to ==> /content/drive/MyDrive/TASI/GridSearch/ModelImbalance4/model.pt\n",
            "Metrics saved to ==> /content/drive/MyDrive/TASI/GridSearch/ModelImbalance4/metrics.pt\n",
            "Epoch [5/9], Train Loss: 0.0778, Valid Loss: 0.2878\n",
            "Epoch [6/9], Train Loss: 0.0914, Valid Loss: 0.2961\n",
            "Epoch [7/9], Train Loss: 0.0501, Valid Loss: 0.1973\n",
            "Model saved to ==> /content/drive/MyDrive/TASI/GridSearch/ModelImbalance4/model.pt\n",
            "Metrics saved to ==> /content/drive/MyDrive/TASI/GridSearch/ModelImbalance4/metrics.pt\n",
            "Epoch [8/9], Train Loss: 0.0113, Valid Loss: 0.5693\n"
          ]
        },
        {
          "output_type": "stream",
          "name": "stderr",
          "text": [
            "[I 2023-06-21 08:04:50,996] Trial 6 pruned. \n"
          ]
        },
        {
          "output_type": "stream",
          "name": "stdout",
          "text": [
            "Epoch [9/9], Train Loss: 0.0338, Valid Loss: 0.3389\n",
            "Metrics saved to ==> /content/drive/MyDrive/TASI/GridSearch/ModelImbalance4/metrics.pt\n",
            "Finished Training!\n",
            "Validation loss hasn't improved in the last 3 epochs. Stopping early.\n"
          ]
        },
        {
          "output_type": "stream",
          "name": "stderr",
          "text": [
            "Some weights of BertForSequenceClassification were not initialized from the model checkpoint at indobenchmark/indobert-base-p1 and are newly initialized: ['classifier.weight', 'classifier.bias']\n",
            "You should probably TRAIN this model on a down-stream task to be able to use it for predictions and inference.\n"
          ]
        },
        {
          "output_type": "stream",
          "name": "stdout",
          "text": [
            "Epoch [1/10], Train Loss: 0.6634, Valid Loss: 0.6431\n",
            "Model saved to ==> /content/drive/MyDrive/TASI/GridSearch/ModelImbalance4/model.pt\n",
            "Metrics saved to ==> /content/drive/MyDrive/TASI/GridSearch/ModelImbalance4/metrics.pt\n",
            "Epoch [2/10], Train Loss: 0.6439, Valid Loss: 0.6479\n",
            "Epoch [3/10], Train Loss: 0.3482, Valid Loss: 0.4018\n",
            "Model saved to ==> /content/drive/MyDrive/TASI/GridSearch/ModelImbalance4/model.pt\n",
            "Metrics saved to ==> /content/drive/MyDrive/TASI/GridSearch/ModelImbalance4/metrics.pt\n",
            "Epoch [4/10], Train Loss: 0.2222, Valid Loss: 0.2044\n",
            "Model saved to ==> /content/drive/MyDrive/TASI/GridSearch/ModelImbalance4/model.pt\n",
            "Metrics saved to ==> /content/drive/MyDrive/TASI/GridSearch/ModelImbalance4/metrics.pt\n",
            "Epoch [5/10], Train Loss: 0.1149, Valid Loss: 0.2379\n",
            "Epoch [6/10], Train Loss: 0.0559, Valid Loss: 0.3470\n",
            "Epoch [7/10], Train Loss: 0.0451, Valid Loss: 0.1906\n",
            "Model saved to ==> /content/drive/MyDrive/TASI/GridSearch/ModelImbalance4/model.pt\n",
            "Metrics saved to ==> /content/drive/MyDrive/TASI/GridSearch/ModelImbalance4/metrics.pt\n",
            "Epoch [8/10], Train Loss: 0.0204, Valid Loss: 0.1828\n",
            "Model saved to ==> /content/drive/MyDrive/TASI/GridSearch/ModelImbalance4/model.pt\n",
            "Metrics saved to ==> /content/drive/MyDrive/TASI/GridSearch/ModelImbalance4/metrics.pt\n",
            "Epoch [9/10], Train Loss: 0.0150, Valid Loss: 0.5390\n"
          ]
        },
        {
          "output_type": "stream",
          "name": "stderr",
          "text": [
            "[I 2023-06-21 08:08:10,699] Trial 7 pruned. \n"
          ]
        },
        {
          "output_type": "stream",
          "name": "stdout",
          "text": [
            "Epoch [10/10], Train Loss: 0.0208, Valid Loss: 0.5813\n",
            "Metrics saved to ==> /content/drive/MyDrive/TASI/GridSearch/ModelImbalance4/metrics.pt\n",
            "Finished Training!\n",
            "Validation loss hasn't improved in the last 3 epochs. Stopping early.\n"
          ]
        },
        {
          "output_type": "stream",
          "name": "stderr",
          "text": [
            "Some weights of BertForSequenceClassification were not initialized from the model checkpoint at indobenchmark/indobert-base-p1 and are newly initialized: ['classifier.weight', 'classifier.bias']\n",
            "You should probably TRAIN this model on a down-stream task to be able to use it for predictions and inference.\n"
          ]
        },
        {
          "output_type": "stream",
          "name": "stdout",
          "text": [
            "Epoch [1/7], Train Loss: 0.6804, Valid Loss: 0.7224\n",
            "Model saved to ==> /content/drive/MyDrive/TASI/GridSearch/ModelImbalance4/model.pt\n",
            "Metrics saved to ==> /content/drive/MyDrive/TASI/GridSearch/ModelImbalance4/metrics.pt\n",
            "Epoch [2/7], Train Loss: 0.6816, Valid Loss: 0.6750\n",
            "Model saved to ==> /content/drive/MyDrive/TASI/GridSearch/ModelImbalance4/model.pt\n",
            "Metrics saved to ==> /content/drive/MyDrive/TASI/GridSearch/ModelImbalance4/metrics.pt\n",
            "Epoch [3/7], Train Loss: 0.6833, Valid Loss: 0.6686\n",
            "Model saved to ==> /content/drive/MyDrive/TASI/GridSearch/ModelImbalance4/model.pt\n",
            "Metrics saved to ==> /content/drive/MyDrive/TASI/GridSearch/ModelImbalance4/metrics.pt\n",
            "Epoch [4/7], Train Loss: 0.6351, Valid Loss: 0.4489\n",
            "Model saved to ==> /content/drive/MyDrive/TASI/GridSearch/ModelImbalance4/model.pt\n",
            "Metrics saved to ==> /content/drive/MyDrive/TASI/GridSearch/ModelImbalance4/metrics.pt\n",
            "Epoch [5/7], Train Loss: 0.2852, Valid Loss: 0.4081\n",
            "Model saved to ==> /content/drive/MyDrive/TASI/GridSearch/ModelImbalance4/model.pt\n",
            "Metrics saved to ==> /content/drive/MyDrive/TASI/GridSearch/ModelImbalance4/metrics.pt\n",
            "Epoch [6/7], Train Loss: 0.1804, Valid Loss: 0.2109\n",
            "Model saved to ==> /content/drive/MyDrive/TASI/GridSearch/ModelImbalance4/model.pt\n",
            "Metrics saved to ==> /content/drive/MyDrive/TASI/GridSearch/ModelImbalance4/metrics.pt\n"
          ]
        },
        {
          "output_type": "stream",
          "name": "stderr",
          "text": [
            "[I 2023-06-21 08:10:33,055] Trial 8 pruned. \n"
          ]
        },
        {
          "output_type": "stream",
          "name": "stdout",
          "text": [
            "Epoch [7/7], Train Loss: 0.1012, Valid Loss: 0.2932\n",
            "Metrics saved to ==> /content/drive/MyDrive/TASI/GridSearch/ModelImbalance4/metrics.pt\n",
            "Finished Training!\n",
            "Validation loss hasn't improved in the last 3 epochs. Stopping early.\n"
          ]
        },
        {
          "output_type": "stream",
          "name": "stderr",
          "text": [
            "Some weights of BertForSequenceClassification were not initialized from the model checkpoint at indobenchmark/indobert-base-p1 and are newly initialized: ['classifier.weight', 'classifier.bias']\n",
            "You should probably TRAIN this model on a down-stream task to be able to use it for predictions and inference.\n"
          ]
        },
        {
          "output_type": "stream",
          "name": "stdout",
          "text": [
            "Epoch [1/8], Train Loss: 0.6497, Valid Loss: 0.6434\n",
            "Model saved to ==> /content/drive/MyDrive/TASI/GridSearch/ModelImbalance4/model.pt\n",
            "Metrics saved to ==> /content/drive/MyDrive/TASI/GridSearch/ModelImbalance4/metrics.pt\n",
            "Epoch [2/8], Train Loss: 0.4437, Valid Loss: 0.2816\n",
            "Model saved to ==> /content/drive/MyDrive/TASI/GridSearch/ModelImbalance4/model.pt\n",
            "Metrics saved to ==> /content/drive/MyDrive/TASI/GridSearch/ModelImbalance4/metrics.pt\n",
            "Epoch [3/8], Train Loss: 0.2115, Valid Loss: 0.1774\n",
            "Model saved to ==> /content/drive/MyDrive/TASI/GridSearch/ModelImbalance4/model.pt\n",
            "Metrics saved to ==> /content/drive/MyDrive/TASI/GridSearch/ModelImbalance4/metrics.pt\n",
            "Epoch [4/8], Train Loss: 0.1034, Valid Loss: 0.1843\n",
            "Epoch [5/8], Train Loss: 0.0490, Valid Loss: 0.2246\n",
            "Epoch [6/8], Train Loss: 0.0734, Valid Loss: 0.1409\n",
            "Model saved to ==> /content/drive/MyDrive/TASI/GridSearch/ModelImbalance4/model.pt\n",
            "Metrics saved to ==> /content/drive/MyDrive/TASI/GridSearch/ModelImbalance4/metrics.pt\n",
            "Epoch [7/8], Train Loss: 0.0219, Valid Loss: 0.1747\n"
          ]
        },
        {
          "output_type": "stream",
          "name": "stderr",
          "text": [
            "[I 2023-06-21 08:13:08,474] Trial 9 pruned. \n"
          ]
        },
        {
          "output_type": "stream",
          "name": "stdout",
          "text": [
            "Epoch [8/8], Train Loss: 0.0047, Valid Loss: 0.1732\n",
            "Metrics saved to ==> /content/drive/MyDrive/TASI/GridSearch/ModelImbalance4/metrics.pt\n",
            "Finished Training!\n",
            "Validation loss hasn't improved in the last 3 epochs. Stopping early.\n"
          ]
        },
        {
          "output_type": "stream",
          "name": "stderr",
          "text": [
            "Some weights of BertForSequenceClassification were not initialized from the model checkpoint at indobenchmark/indobert-base-p1 and are newly initialized: ['classifier.weight', 'classifier.bias']\n",
            "You should probably TRAIN this model on a down-stream task to be able to use it for predictions and inference.\n"
          ]
        },
        {
          "output_type": "stream",
          "name": "stdout",
          "text": [
            "Epoch [1/9], Train Loss: 0.6421, Valid Loss: 0.6949\n",
            "Model saved to ==> /content/drive/MyDrive/TASI/GridSearch/ModelImbalance4/model.pt\n",
            "Metrics saved to ==> /content/drive/MyDrive/TASI/GridSearch/ModelImbalance4/metrics.pt\n",
            "Epoch [2/9], Train Loss: 0.6066, Valid Loss: 0.8869\n",
            "Epoch [3/9], Train Loss: 0.4766, Valid Loss: 0.4355\n",
            "Model saved to ==> /content/drive/MyDrive/TASI/GridSearch/ModelImbalance4/model.pt\n",
            "Metrics saved to ==> /content/drive/MyDrive/TASI/GridSearch/ModelImbalance4/metrics.pt\n",
            "Epoch [4/9], Train Loss: 0.1866, Valid Loss: 0.3090\n",
            "Model saved to ==> /content/drive/MyDrive/TASI/GridSearch/ModelImbalance4/model.pt\n",
            "Metrics saved to ==> /content/drive/MyDrive/TASI/GridSearch/ModelImbalance4/metrics.pt\n",
            "Epoch [5/9], Train Loss: 0.0678, Valid Loss: 0.3459\n",
            "Epoch [6/9], Train Loss: 0.0334, Valid Loss: 0.4550\n"
          ]
        },
        {
          "output_type": "stream",
          "name": "stderr",
          "text": [
            "[I 2023-06-21 08:15:23,988] Trial 10 pruned. \n"
          ]
        },
        {
          "output_type": "stream",
          "name": "stdout",
          "text": [
            "Epoch [7/9], Train Loss: 0.0556, Valid Loss: 0.3209\n",
            "Early stopping\n",
            "Metrics saved to ==> /content/drive/MyDrive/TASI/GridSearch/ModelImbalance4/metrics.pt\n",
            "Finished Training!\n",
            "Validation loss hasn't improved in the last 3 epochs. Stopping early.\n"
          ]
        },
        {
          "output_type": "stream",
          "name": "stderr",
          "text": [
            "Some weights of BertForSequenceClassification were not initialized from the model checkpoint at indobenchmark/indobert-base-p1 and are newly initialized: ['classifier.weight', 'classifier.bias']\n",
            "You should probably TRAIN this model on a down-stream task to be able to use it for predictions and inference.\n"
          ]
        },
        {
          "output_type": "stream",
          "name": "stdout",
          "text": [
            "Epoch [1/6], Train Loss: 0.6651, Valid Loss: 0.7269\n",
            "Model saved to ==> /content/drive/MyDrive/TASI/GridSearch/ModelImbalance4/model.pt\n",
            "Metrics saved to ==> /content/drive/MyDrive/TASI/GridSearch/ModelImbalance4/metrics.pt\n",
            "Epoch [2/6], Train Loss: 0.7041, Valid Loss: 0.6783\n",
            "Model saved to ==> /content/drive/MyDrive/TASI/GridSearch/ModelImbalance4/model.pt\n",
            "Metrics saved to ==> /content/drive/MyDrive/TASI/GridSearch/ModelImbalance4/metrics.pt\n",
            "Epoch [3/6], Train Loss: 0.6995, Valid Loss: 0.6659\n",
            "Model saved to ==> /content/drive/MyDrive/TASI/GridSearch/ModelImbalance4/model.pt\n",
            "Metrics saved to ==> /content/drive/MyDrive/TASI/GridSearch/ModelImbalance4/metrics.pt\n",
            "Epoch [4/6], Train Loss: 0.6923, Valid Loss: 0.6916\n",
            "Epoch [5/6], Train Loss: 0.6670, Valid Loss: 0.6589\n",
            "Model saved to ==> /content/drive/MyDrive/TASI/GridSearch/ModelImbalance4/model.pt\n",
            "Metrics saved to ==> /content/drive/MyDrive/TASI/GridSearch/ModelImbalance4/metrics.pt\n",
            "Epoch [6/6], Train Loss: 0.7246, Valid Loss: 0.6569\n"
          ]
        },
        {
          "output_type": "stream",
          "name": "stderr",
          "text": [
            "[I 2023-06-21 08:17:25,871] Trial 11 pruned. \n"
          ]
        },
        {
          "output_type": "stream",
          "name": "stdout",
          "text": [
            "Model saved to ==> /content/drive/MyDrive/TASI/GridSearch/ModelImbalance4/model.pt\n",
            "Metrics saved to ==> /content/drive/MyDrive/TASI/GridSearch/ModelImbalance4/metrics.pt\n",
            "Metrics saved to ==> /content/drive/MyDrive/TASI/GridSearch/ModelImbalance4/metrics.pt\n",
            "Finished Training!\n",
            "Validation loss hasn't improved in the last 3 epochs. Stopping early.\n"
          ]
        },
        {
          "output_type": "stream",
          "name": "stderr",
          "text": [
            "Some weights of BertForSequenceClassification were not initialized from the model checkpoint at indobenchmark/indobert-base-p1 and are newly initialized: ['classifier.weight', 'classifier.bias']\n",
            "You should probably TRAIN this model on a down-stream task to be able to use it for predictions and inference.\n"
          ]
        },
        {
          "output_type": "stream",
          "name": "stdout",
          "text": [
            "Epoch [1/10], Train Loss: 0.6940, Valid Loss: 0.6476\n",
            "Model saved to ==> /content/drive/MyDrive/TASI/GridSearch/ModelImbalance4/model.pt\n",
            "Metrics saved to ==> /content/drive/MyDrive/TASI/GridSearch/ModelImbalance4/metrics.pt\n",
            "Epoch [2/10], Train Loss: 0.5149, Valid Loss: 0.3974\n",
            "Model saved to ==> /content/drive/MyDrive/TASI/GridSearch/ModelImbalance4/model.pt\n",
            "Metrics saved to ==> /content/drive/MyDrive/TASI/GridSearch/ModelImbalance4/metrics.pt\n",
            "Epoch [3/10], Train Loss: 0.2982, Valid Loss: 0.3074\n",
            "Model saved to ==> /content/drive/MyDrive/TASI/GridSearch/ModelImbalance4/model.pt\n",
            "Metrics saved to ==> /content/drive/MyDrive/TASI/GridSearch/ModelImbalance4/metrics.pt\n",
            "Epoch [4/10], Train Loss: 0.1738, Valid Loss: 0.2790\n",
            "Model saved to ==> /content/drive/MyDrive/TASI/GridSearch/ModelImbalance4/model.pt\n",
            "Metrics saved to ==> /content/drive/MyDrive/TASI/GridSearch/ModelImbalance4/metrics.pt\n",
            "Epoch [5/10], Train Loss: 0.0920, Valid Loss: 0.2630\n",
            "Model saved to ==> /content/drive/MyDrive/TASI/GridSearch/ModelImbalance4/model.pt\n",
            "Metrics saved to ==> /content/drive/MyDrive/TASI/GridSearch/ModelImbalance4/metrics.pt\n",
            "Epoch [6/10], Train Loss: 0.0813, Valid Loss: 0.2121\n",
            "Model saved to ==> /content/drive/MyDrive/TASI/GridSearch/ModelImbalance4/model.pt\n",
            "Metrics saved to ==> /content/drive/MyDrive/TASI/GridSearch/ModelImbalance4/metrics.pt\n",
            "Epoch [7/10], Train Loss: 0.0507, Valid Loss: 0.4080\n",
            "Epoch [8/10], Train Loss: 0.0255, Valid Loss: 0.2501\n",
            "Epoch [9/10], Train Loss: 0.0259, Valid Loss: 0.1629\n",
            "Model saved to ==> /content/drive/MyDrive/TASI/GridSearch/ModelImbalance4/model.pt\n",
            "Metrics saved to ==> /content/drive/MyDrive/TASI/GridSearch/ModelImbalance4/metrics.pt\n"
          ]
        },
        {
          "output_type": "stream",
          "name": "stderr",
          "text": [
            "[I 2023-06-21 08:20:47,740] Trial 12 pruned. \n"
          ]
        },
        {
          "output_type": "stream",
          "name": "stdout",
          "text": [
            "Epoch [10/10], Train Loss: 0.0074, Valid Loss: 0.2533\n",
            "Metrics saved to ==> /content/drive/MyDrive/TASI/GridSearch/ModelImbalance4/metrics.pt\n",
            "Finished Training!\n",
            "Validation loss hasn't improved in the last 3 epochs. Stopping early.\n"
          ]
        },
        {
          "output_type": "stream",
          "name": "stderr",
          "text": [
            "Some weights of BertForSequenceClassification were not initialized from the model checkpoint at indobenchmark/indobert-base-p1 and are newly initialized: ['classifier.weight', 'classifier.bias']\n",
            "You should probably TRAIN this model on a down-stream task to be able to use it for predictions and inference.\n"
          ]
        },
        {
          "output_type": "stream",
          "name": "stdout",
          "text": [
            "Epoch [1/9], Train Loss: 0.6701, Valid Loss: 0.7097\n",
            "Model saved to ==> /content/drive/MyDrive/TASI/GridSearch/ModelImbalance4/model.pt\n",
            "Metrics saved to ==> /content/drive/MyDrive/TASI/GridSearch/ModelImbalance4/metrics.pt\n",
            "Epoch [2/9], Train Loss: 0.6759, Valid Loss: 0.5469\n",
            "Model saved to ==> /content/drive/MyDrive/TASI/GridSearch/ModelImbalance4/model.pt\n",
            "Metrics saved to ==> /content/drive/MyDrive/TASI/GridSearch/ModelImbalance4/metrics.pt\n",
            "Epoch [3/9], Train Loss: 0.6172, Valid Loss: 0.7206\n",
            "Epoch [4/9], Train Loss: 0.6930, Valid Loss: 0.6630\n"
          ]
        },
        {
          "output_type": "stream",
          "name": "stderr",
          "text": [
            "[I 2023-06-21 08:22:24,218] Trial 13 pruned. \n"
          ]
        },
        {
          "output_type": "stream",
          "name": "stdout",
          "text": [
            "Epoch [5/9], Train Loss: 0.7008, Valid Loss: 0.6717\n",
            "Early stopping\n",
            "Metrics saved to ==> /content/drive/MyDrive/TASI/GridSearch/ModelImbalance4/metrics.pt\n",
            "Finished Training!\n",
            "Validation loss hasn't improved in the last 3 epochs. Stopping early.\n"
          ]
        },
        {
          "output_type": "stream",
          "name": "stderr",
          "text": [
            "Some weights of BertForSequenceClassification were not initialized from the model checkpoint at indobenchmark/indobert-base-p1 and are newly initialized: ['classifier.weight', 'classifier.bias']\n",
            "You should probably TRAIN this model on a down-stream task to be able to use it for predictions and inference.\n"
          ]
        },
        {
          "output_type": "stream",
          "name": "stdout",
          "text": [
            "Epoch [1/10], Train Loss: 0.6793, Valid Loss: 0.6594\n",
            "Model saved to ==> /content/drive/MyDrive/TASI/GridSearch/ModelImbalance4/model.pt\n",
            "Metrics saved to ==> /content/drive/MyDrive/TASI/GridSearch/ModelImbalance4/metrics.pt\n",
            "Epoch [2/10], Train Loss: 0.6868, Valid Loss: 0.6383\n",
            "Model saved to ==> /content/drive/MyDrive/TASI/GridSearch/ModelImbalance4/model.pt\n",
            "Metrics saved to ==> /content/drive/MyDrive/TASI/GridSearch/ModelImbalance4/metrics.pt\n",
            "Epoch [3/10], Train Loss: 0.4248, Valid Loss: 0.7026\n",
            "Epoch [4/10], Train Loss: 0.2200, Valid Loss: 0.3834\n",
            "Model saved to ==> /content/drive/MyDrive/TASI/GridSearch/ModelImbalance4/model.pt\n",
            "Metrics saved to ==> /content/drive/MyDrive/TASI/GridSearch/ModelImbalance4/metrics.pt\n",
            "Epoch [5/10], Train Loss: 0.1476, Valid Loss: 0.3065\n",
            "Model saved to ==> /content/drive/MyDrive/TASI/GridSearch/ModelImbalance4/model.pt\n",
            "Metrics saved to ==> /content/drive/MyDrive/TASI/GridSearch/ModelImbalance4/metrics.pt\n",
            "Epoch [6/10], Train Loss: 0.0841, Valid Loss: 0.3224\n",
            "Epoch [7/10], Train Loss: 0.0479, Valid Loss: 0.4268\n"
          ]
        },
        {
          "output_type": "stream",
          "name": "stderr",
          "text": [
            "[I 2023-06-21 08:24:59,763] Trial 14 pruned. \n"
          ]
        },
        {
          "output_type": "stream",
          "name": "stdout",
          "text": [
            "Epoch [8/10], Train Loss: 0.0413, Valid Loss: 0.5520\n",
            "Early stopping\n",
            "Metrics saved to ==> /content/drive/MyDrive/TASI/GridSearch/ModelImbalance4/metrics.pt\n",
            "Finished Training!\n",
            "Validation loss hasn't improved in the last 3 epochs. Stopping early.\n"
          ]
        },
        {
          "output_type": "stream",
          "name": "stderr",
          "text": [
            "Some weights of BertForSequenceClassification were not initialized from the model checkpoint at indobenchmark/indobert-base-p1 and are newly initialized: ['classifier.weight', 'classifier.bias']\n",
            "You should probably TRAIN this model on a down-stream task to be able to use it for predictions and inference.\n"
          ]
        },
        {
          "output_type": "stream",
          "name": "stdout",
          "text": [
            "Epoch [1/7], Train Loss: 0.6399, Valid Loss: 0.6339\n",
            "Model saved to ==> /content/drive/MyDrive/TASI/GridSearch/ModelImbalance4/model.pt\n",
            "Metrics saved to ==> /content/drive/MyDrive/TASI/GridSearch/ModelImbalance4/metrics.pt\n",
            "Epoch [2/7], Train Loss: 0.3927, Valid Loss: 0.3349\n",
            "Model saved to ==> /content/drive/MyDrive/TASI/GridSearch/ModelImbalance4/model.pt\n",
            "Metrics saved to ==> /content/drive/MyDrive/TASI/GridSearch/ModelImbalance4/metrics.pt\n",
            "Epoch [3/7], Train Loss: 0.2122, Valid Loss: 0.2881\n",
            "Model saved to ==> /content/drive/MyDrive/TASI/GridSearch/ModelImbalance4/model.pt\n",
            "Metrics saved to ==> /content/drive/MyDrive/TASI/GridSearch/ModelImbalance4/metrics.pt\n",
            "Epoch [4/7], Train Loss: 0.1709, Valid Loss: 0.2272\n",
            "Model saved to ==> /content/drive/MyDrive/TASI/GridSearch/ModelImbalance4/model.pt\n",
            "Metrics saved to ==> /content/drive/MyDrive/TASI/GridSearch/ModelImbalance4/metrics.pt\n",
            "Epoch [5/7], Train Loss: 0.1205, Valid Loss: 0.2417\n",
            "Epoch [6/7], Train Loss: 0.0641, Valid Loss: 0.1528\n",
            "Model saved to ==> /content/drive/MyDrive/TASI/GridSearch/ModelImbalance4/model.pt\n",
            "Metrics saved to ==> /content/drive/MyDrive/TASI/GridSearch/ModelImbalance4/metrics.pt\n"
          ]
        },
        {
          "output_type": "stream",
          "name": "stderr",
          "text": [
            "[I 2023-06-21 08:27:22,089] Trial 15 pruned. \n"
          ]
        },
        {
          "output_type": "stream",
          "name": "stdout",
          "text": [
            "Epoch [7/7], Train Loss: 0.0390, Valid Loss: 0.2075\n",
            "Metrics saved to ==> /content/drive/MyDrive/TASI/GridSearch/ModelImbalance4/metrics.pt\n",
            "Finished Training!\n",
            "Validation loss hasn't improved in the last 3 epochs. Stopping early.\n"
          ]
        },
        {
          "output_type": "stream",
          "name": "stderr",
          "text": [
            "Some weights of BertForSequenceClassification were not initialized from the model checkpoint at indobenchmark/indobert-base-p1 and are newly initialized: ['classifier.weight', 'classifier.bias']\n",
            "You should probably TRAIN this model on a down-stream task to be able to use it for predictions and inference.\n"
          ]
        },
        {
          "output_type": "stream",
          "name": "stdout",
          "text": [
            "Epoch [1/5], Train Loss: 0.6606, Valid Loss: 0.6365\n",
            "Model saved to ==> /content/drive/MyDrive/TASI/GridSearch/ModelImbalance4/model.pt\n",
            "Metrics saved to ==> /content/drive/MyDrive/TASI/GridSearch/ModelImbalance4/metrics.pt\n",
            "Epoch [2/5], Train Loss: 0.7005, Valid Loss: 0.6889\n",
            "Epoch [3/5], Train Loss: 0.4949, Valid Loss: 0.3035\n",
            "Model saved to ==> /content/drive/MyDrive/TASI/GridSearch/ModelImbalance4/model.pt\n",
            "Metrics saved to ==> /content/drive/MyDrive/TASI/GridSearch/ModelImbalance4/metrics.pt\n",
            "Epoch [4/5], Train Loss: 0.2137, Valid Loss: 0.1735\n",
            "Model saved to ==> /content/drive/MyDrive/TASI/GridSearch/ModelImbalance4/model.pt\n",
            "Metrics saved to ==> /content/drive/MyDrive/TASI/GridSearch/ModelImbalance4/metrics.pt\n"
          ]
        },
        {
          "output_type": "stream",
          "name": "stderr",
          "text": [
            "[I 2023-06-21 08:29:02,128] Trial 16 pruned. \n"
          ]
        },
        {
          "output_type": "stream",
          "name": "stdout",
          "text": [
            "Epoch [5/5], Train Loss: 0.0850, Valid Loss: 0.2369\n",
            "Metrics saved to ==> /content/drive/MyDrive/TASI/GridSearch/ModelImbalance4/metrics.pt\n",
            "Finished Training!\n",
            "Validation loss hasn't improved in the last 3 epochs. Stopping early.\n"
          ]
        },
        {
          "output_type": "stream",
          "name": "stderr",
          "text": [
            "Some weights of BertForSequenceClassification were not initialized from the model checkpoint at indobenchmark/indobert-base-p1 and are newly initialized: ['classifier.weight', 'classifier.bias']\n",
            "You should probably TRAIN this model on a down-stream task to be able to use it for predictions and inference.\n"
          ]
        },
        {
          "output_type": "stream",
          "name": "stdout",
          "text": [
            "Epoch [1/8], Train Loss: 0.6256, Valid Loss: 0.4040\n",
            "Model saved to ==> /content/drive/MyDrive/TASI/GridSearch/ModelImbalance4/model.pt\n",
            "Metrics saved to ==> /content/drive/MyDrive/TASI/GridSearch/ModelImbalance4/metrics.pt\n",
            "Epoch [2/8], Train Loss: 0.3288, Valid Loss: 0.2110\n",
            "Model saved to ==> /content/drive/MyDrive/TASI/GridSearch/ModelImbalance4/model.pt\n",
            "Metrics saved to ==> /content/drive/MyDrive/TASI/GridSearch/ModelImbalance4/metrics.pt\n",
            "Epoch [3/8], Train Loss: 0.2118, Valid Loss: 0.1973\n",
            "Model saved to ==> /content/drive/MyDrive/TASI/GridSearch/ModelImbalance4/model.pt\n",
            "Metrics saved to ==> /content/drive/MyDrive/TASI/GridSearch/ModelImbalance4/metrics.pt\n",
            "Epoch [4/8], Train Loss: 0.1482, Valid Loss: 0.2382\n",
            "Epoch [5/8], Train Loss: 0.0904, Valid Loss: 0.1902\n",
            "Model saved to ==> /content/drive/MyDrive/TASI/GridSearch/ModelImbalance4/model.pt\n",
            "Metrics saved to ==> /content/drive/MyDrive/TASI/GridSearch/ModelImbalance4/metrics.pt\n",
            "Epoch [6/8], Train Loss: 0.0612, Valid Loss: 0.1901\n",
            "Model saved to ==> /content/drive/MyDrive/TASI/GridSearch/ModelImbalance4/model.pt\n",
            "Metrics saved to ==> /content/drive/MyDrive/TASI/GridSearch/ModelImbalance4/metrics.pt\n",
            "Epoch [7/8], Train Loss: 0.0808, Valid Loss: 0.2000\n",
            "Epoch [8/8], Train Loss: 0.0318, Valid Loss: 0.1069\n",
            "Model saved to ==> /content/drive/MyDrive/TASI/GridSearch/ModelImbalance4/model.pt\n",
            "Metrics saved to ==> /content/drive/MyDrive/TASI/GridSearch/ModelImbalance4/metrics.pt\n",
            "Metrics saved to ==> /content/drive/MyDrive/TASI/GridSearch/ModelImbalance4/metrics.pt\n",
            "Finished Training!\n"
          ]
        },
        {
          "output_type": "stream",
          "name": "stderr",
          "text": [
            "[I 2023-06-21 08:31:46,968] Trial 17 finished with value: 0.10687316997375872 and parameters: {'lr': 5e-05, 'num_epochs': 8, 'batch_size': 32}. Best is trial 17 with value: 0.10687316997375872.\n",
            "Some weights of BertForSequenceClassification were not initialized from the model checkpoint at indobenchmark/indobert-base-p1 and are newly initialized: ['classifier.weight', 'classifier.bias']\n",
            "You should probably TRAIN this model on a down-stream task to be able to use it for predictions and inference.\n"
          ]
        },
        {
          "output_type": "stream",
          "name": "stdout",
          "text": [
            "Epoch [1/6], Train Loss: 0.6071, Valid Loss: 0.4219\n",
            "Model saved to ==> /content/drive/MyDrive/TASI/GridSearch/ModelImbalance4/model.pt\n",
            "Metrics saved to ==> /content/drive/MyDrive/TASI/GridSearch/ModelImbalance4/metrics.pt\n",
            "Epoch [2/6], Train Loss: 0.2968, Valid Loss: 0.2430\n",
            "Model saved to ==> /content/drive/MyDrive/TASI/GridSearch/ModelImbalance4/model.pt\n",
            "Metrics saved to ==> /content/drive/MyDrive/TASI/GridSearch/ModelImbalance4/metrics.pt\n",
            "Epoch [3/6], Train Loss: 0.1569, Valid Loss: 0.2673\n",
            "Epoch [4/6], Train Loss: 0.1232, Valid Loss: 0.2566\n",
            "Epoch [5/6], Train Loss: 0.0736, Valid Loss: 0.1931\n",
            "Model saved to ==> /content/drive/MyDrive/TASI/GridSearch/ModelImbalance4/model.pt\n",
            "Metrics saved to ==> /content/drive/MyDrive/TASI/GridSearch/ModelImbalance4/metrics.pt\n"
          ]
        },
        {
          "output_type": "stream",
          "name": "stderr",
          "text": [
            "[I 2023-06-21 08:33:44,667] Trial 18 pruned. \n"
          ]
        },
        {
          "output_type": "stream",
          "name": "stdout",
          "text": [
            "Epoch [6/6], Train Loss: 0.0661, Valid Loss: 0.7017\n",
            "Metrics saved to ==> /content/drive/MyDrive/TASI/GridSearch/ModelImbalance4/metrics.pt\n",
            "Finished Training!\n",
            "Validation loss hasn't improved in the last 3 epochs. Stopping early.\n"
          ]
        },
        {
          "output_type": "stream",
          "name": "stderr",
          "text": [
            "Some weights of BertForSequenceClassification were not initialized from the model checkpoint at indobenchmark/indobert-base-p1 and are newly initialized: ['classifier.weight', 'classifier.bias']\n",
            "You should probably TRAIN this model on a down-stream task to be able to use it for predictions and inference.\n"
          ]
        },
        {
          "output_type": "stream",
          "name": "stdout",
          "text": [
            "Epoch [1/5], Train Loss: 0.6597, Valid Loss: 0.6522\n",
            "Model saved to ==> /content/drive/MyDrive/TASI/GridSearch/ModelImbalance4/model.pt\n",
            "Metrics saved to ==> /content/drive/MyDrive/TASI/GridSearch/ModelImbalance4/metrics.pt\n",
            "Epoch [2/5], Train Loss: 0.6997, Valid Loss: 0.5998\n",
            "Model saved to ==> /content/drive/MyDrive/TASI/GridSearch/ModelImbalance4/model.pt\n",
            "Metrics saved to ==> /content/drive/MyDrive/TASI/GridSearch/ModelImbalance4/metrics.pt\n",
            "Epoch [3/5], Train Loss: 0.4008, Valid Loss: 0.6856\n",
            "Epoch [4/5], Train Loss: 0.3474, Valid Loss: 0.3184\n",
            "Model saved to ==> /content/drive/MyDrive/TASI/GridSearch/ModelImbalance4/model.pt\n",
            "Metrics saved to ==> /content/drive/MyDrive/TASI/GridSearch/ModelImbalance4/metrics.pt\n"
          ]
        },
        {
          "output_type": "stream",
          "name": "stderr",
          "text": [
            "[I 2023-06-21 08:35:23,043] Trial 19 pruned. \n"
          ]
        },
        {
          "output_type": "stream",
          "name": "stdout",
          "text": [
            "Epoch [5/5], Train Loss: 0.1745, Valid Loss: 0.3756\n",
            "Metrics saved to ==> /content/drive/MyDrive/TASI/GridSearch/ModelImbalance4/metrics.pt\n",
            "Finished Training!\n",
            "Validation loss hasn't improved in the last 3 epochs. Stopping early.\n"
          ]
        },
        {
          "output_type": "stream",
          "name": "stderr",
          "text": [
            "Some weights of BertForSequenceClassification were not initialized from the model checkpoint at indobenchmark/indobert-base-p1 and are newly initialized: ['classifier.weight', 'classifier.bias']\n",
            "You should probably TRAIN this model on a down-stream task to be able to use it for predictions and inference.\n"
          ]
        },
        {
          "output_type": "stream",
          "name": "stdout",
          "text": [
            "Epoch [1/9], Train Loss: 0.6538, Valid Loss: 0.6752\n",
            "Model saved to ==> /content/drive/MyDrive/TASI/GridSearch/ModelImbalance4/model.pt\n",
            "Metrics saved to ==> /content/drive/MyDrive/TASI/GridSearch/ModelImbalance4/metrics.pt\n",
            "Epoch [2/9], Train Loss: 0.6872, Valid Loss: 0.5906\n",
            "Model saved to ==> /content/drive/MyDrive/TASI/GridSearch/ModelImbalance4/model.pt\n",
            "Metrics saved to ==> /content/drive/MyDrive/TASI/GridSearch/ModelImbalance4/metrics.pt\n",
            "Epoch [3/9], Train Loss: 0.3495, Valid Loss: 0.3363\n",
            "Model saved to ==> /content/drive/MyDrive/TASI/GridSearch/ModelImbalance4/model.pt\n",
            "Metrics saved to ==> /content/drive/MyDrive/TASI/GridSearch/ModelImbalance4/metrics.pt\n",
            "Epoch [4/9], Train Loss: 0.2024, Valid Loss: 0.2394\n",
            "Model saved to ==> /content/drive/MyDrive/TASI/GridSearch/ModelImbalance4/model.pt\n",
            "Metrics saved to ==> /content/drive/MyDrive/TASI/GridSearch/ModelImbalance4/metrics.pt\n",
            "Epoch [5/9], Train Loss: 0.1034, Valid Loss: 0.2123\n",
            "Model saved to ==> /content/drive/MyDrive/TASI/GridSearch/ModelImbalance4/model.pt\n",
            "Metrics saved to ==> /content/drive/MyDrive/TASI/GridSearch/ModelImbalance4/metrics.pt\n",
            "Epoch [6/9], Train Loss: 0.0646, Valid Loss: 0.2073\n",
            "Model saved to ==> /content/drive/MyDrive/TASI/GridSearch/ModelImbalance4/model.pt\n",
            "Metrics saved to ==> /content/drive/MyDrive/TASI/GridSearch/ModelImbalance4/metrics.pt\n",
            "Epoch [7/9], Train Loss: 0.0238, Valid Loss: 0.2286\n",
            "Epoch [8/9], Train Loss: 0.0155, Valid Loss: 0.2437\n",
            "Epoch [9/9], Train Loss: 0.0103, Valid Loss: 0.1562\n"
          ]
        },
        {
          "output_type": "stream",
          "name": "stderr",
          "text": [
            "[I 2023-06-21 08:38:22,763] Trial 20 pruned. \n"
          ]
        },
        {
          "output_type": "stream",
          "name": "stdout",
          "text": [
            "Model saved to ==> /content/drive/MyDrive/TASI/GridSearch/ModelImbalance4/model.pt\n",
            "Metrics saved to ==> /content/drive/MyDrive/TASI/GridSearch/ModelImbalance4/metrics.pt\n",
            "Metrics saved to ==> /content/drive/MyDrive/TASI/GridSearch/ModelImbalance4/metrics.pt\n",
            "Finished Training!\n",
            "Validation loss hasn't improved in the last 3 epochs. Stopping early.\n"
          ]
        },
        {
          "output_type": "stream",
          "name": "stderr",
          "text": [
            "Some weights of BertForSequenceClassification were not initialized from the model checkpoint at indobenchmark/indobert-base-p1 and are newly initialized: ['classifier.weight', 'classifier.bias']\n",
            "You should probably TRAIN this model on a down-stream task to be able to use it for predictions and inference.\n"
          ]
        },
        {
          "output_type": "stream",
          "name": "stdout",
          "text": [
            "Epoch [1/7], Train Loss: 0.6726, Valid Loss: 0.6612\n",
            "Model saved to ==> /content/drive/MyDrive/TASI/GridSearch/ModelImbalance4/model.pt\n",
            "Metrics saved to ==> /content/drive/MyDrive/TASI/GridSearch/ModelImbalance4/metrics.pt\n",
            "Epoch [2/7], Train Loss: 0.6931, Valid Loss: 0.7093\n",
            "Epoch [3/7], Train Loss: 0.6753, Valid Loss: 0.7385\n",
            "Epoch [4/7], Train Loss: 0.6971, Valid Loss: 0.6577\n",
            "Model saved to ==> /content/drive/MyDrive/TASI/GridSearch/ModelImbalance4/model.pt\n",
            "Metrics saved to ==> /content/drive/MyDrive/TASI/GridSearch/ModelImbalance4/metrics.pt\n",
            "Epoch [5/7], Train Loss: 0.7081, Valid Loss: 0.6739\n",
            "Epoch [6/7], Train Loss: 0.7171, Valid Loss: 0.7033\n"
          ]
        },
        {
          "output_type": "stream",
          "name": "stderr",
          "text": [
            "[I 2023-06-21 08:40:38,654] Trial 21 pruned. \n"
          ]
        },
        {
          "output_type": "stream",
          "name": "stdout",
          "text": [
            "Epoch [7/7], Train Loss: 0.7713, Valid Loss: 0.6597\n",
            "Early stopping\n",
            "Metrics saved to ==> /content/drive/MyDrive/TASI/GridSearch/ModelImbalance4/metrics.pt\n",
            "Finished Training!\n",
            "Validation loss hasn't improved in the last 3 epochs. Stopping early.\n"
          ]
        },
        {
          "output_type": "stream",
          "name": "stderr",
          "text": [
            "Some weights of BertForSequenceClassification were not initialized from the model checkpoint at indobenchmark/indobert-base-p1 and are newly initialized: ['classifier.weight', 'classifier.bias']\n",
            "You should probably TRAIN this model on a down-stream task to be able to use it for predictions and inference.\n"
          ]
        },
        {
          "output_type": "stream",
          "name": "stdout",
          "text": [
            "Epoch [1/8], Train Loss: 0.6670, Valid Loss: 0.7040\n",
            "Model saved to ==> /content/drive/MyDrive/TASI/GridSearch/ModelImbalance4/model.pt\n",
            "Metrics saved to ==> /content/drive/MyDrive/TASI/GridSearch/ModelImbalance4/metrics.pt\n",
            "Epoch [2/8], Train Loss: 0.7145, Valid Loss: 0.6565\n",
            "Model saved to ==> /content/drive/MyDrive/TASI/GridSearch/ModelImbalance4/model.pt\n",
            "Metrics saved to ==> /content/drive/MyDrive/TASI/GridSearch/ModelImbalance4/metrics.pt\n",
            "Epoch [3/8], Train Loss: 0.6594, Valid Loss: 0.7103\n",
            "Epoch [4/8], Train Loss: 0.6576, Valid Loss: 0.6992\n"
          ]
        },
        {
          "output_type": "stream",
          "name": "stderr",
          "text": [
            "[I 2023-06-21 08:42:15,427] Trial 22 pruned. \n"
          ]
        },
        {
          "output_type": "stream",
          "name": "stdout",
          "text": [
            "Epoch [5/8], Train Loss: 0.4346, Valid Loss: 0.6733\n",
            "Early stopping\n",
            "Metrics saved to ==> /content/drive/MyDrive/TASI/GridSearch/ModelImbalance4/metrics.pt\n",
            "Finished Training!\n",
            "Validation loss hasn't improved in the last 3 epochs. Stopping early.\n"
          ]
        },
        {
          "output_type": "stream",
          "name": "stderr",
          "text": [
            "Some weights of BertForSequenceClassification were not initialized from the model checkpoint at indobenchmark/indobert-base-p1 and are newly initialized: ['classifier.weight', 'classifier.bias']\n",
            "You should probably TRAIN this model on a down-stream task to be able to use it for predictions and inference.\n"
          ]
        },
        {
          "output_type": "stream",
          "name": "stdout",
          "text": [
            "Epoch [1/6], Train Loss: 0.6428, Valid Loss: 0.5079\n",
            "Model saved to ==> /content/drive/MyDrive/TASI/GridSearch/ModelImbalance4/model.pt\n",
            "Metrics saved to ==> /content/drive/MyDrive/TASI/GridSearch/ModelImbalance4/metrics.pt\n",
            "Epoch [2/6], Train Loss: 0.3686, Valid Loss: 0.3894\n",
            "Model saved to ==> /content/drive/MyDrive/TASI/GridSearch/ModelImbalance4/model.pt\n",
            "Metrics saved to ==> /content/drive/MyDrive/TASI/GridSearch/ModelImbalance4/metrics.pt\n",
            "Epoch [3/6], Train Loss: 0.3354, Valid Loss: 0.2755\n",
            "Model saved to ==> /content/drive/MyDrive/TASI/GridSearch/ModelImbalance4/model.pt\n",
            "Metrics saved to ==> /content/drive/MyDrive/TASI/GridSearch/ModelImbalance4/metrics.pt\n",
            "Epoch [4/6], Train Loss: 0.1584, Valid Loss: 0.2409\n",
            "Model saved to ==> /content/drive/MyDrive/TASI/GridSearch/ModelImbalance4/model.pt\n",
            "Metrics saved to ==> /content/drive/MyDrive/TASI/GridSearch/ModelImbalance4/metrics.pt\n",
            "Epoch [5/6], Train Loss: 0.0936, Valid Loss: 0.2769\n",
            "Epoch [6/6], Train Loss: 0.0522, Valid Loss: 0.1272\n"
          ]
        },
        {
          "output_type": "stream",
          "name": "stderr",
          "text": [
            "[I 2023-06-21 08:44:16,724] Trial 23 pruned. \n"
          ]
        },
        {
          "output_type": "stream",
          "name": "stdout",
          "text": [
            "Model saved to ==> /content/drive/MyDrive/TASI/GridSearch/ModelImbalance4/model.pt\n",
            "Metrics saved to ==> /content/drive/MyDrive/TASI/GridSearch/ModelImbalance4/metrics.pt\n",
            "Metrics saved to ==> /content/drive/MyDrive/TASI/GridSearch/ModelImbalance4/metrics.pt\n",
            "Finished Training!\n",
            "Validation loss hasn't improved in the last 3 epochs. Stopping early.\n"
          ]
        },
        {
          "output_type": "stream",
          "name": "stderr",
          "text": [
            "Some weights of BertForSequenceClassification were not initialized from the model checkpoint at indobenchmark/indobert-base-p1 and are newly initialized: ['classifier.weight', 'classifier.bias']\n",
            "You should probably TRAIN this model on a down-stream task to be able to use it for predictions and inference.\n"
          ]
        },
        {
          "output_type": "stream",
          "name": "stdout",
          "text": [
            "Epoch [1/5], Train Loss: 0.6173, Valid Loss: 0.4877\n",
            "Model saved to ==> /content/drive/MyDrive/TASI/GridSearch/ModelImbalance4/model.pt\n",
            "Metrics saved to ==> /content/drive/MyDrive/TASI/GridSearch/ModelImbalance4/metrics.pt\n",
            "Epoch [2/5], Train Loss: 0.3145, Valid Loss: 0.2822\n",
            "Model saved to ==> /content/drive/MyDrive/TASI/GridSearch/ModelImbalance4/model.pt\n",
            "Metrics saved to ==> /content/drive/MyDrive/TASI/GridSearch/ModelImbalance4/metrics.pt\n",
            "Epoch [3/5], Train Loss: 0.1347, Valid Loss: 0.2944\n",
            "Epoch [4/5], Train Loss: 0.1088, Valid Loss: 0.2840\n"
          ]
        },
        {
          "output_type": "stream",
          "name": "stderr",
          "text": [
            "[I 2023-06-21 08:45:54,320] Trial 24 pruned. \n"
          ]
        },
        {
          "output_type": "stream",
          "name": "stdout",
          "text": [
            "Epoch [5/5], Train Loss: 0.0876, Valid Loss: 0.3456\n",
            "Early stopping\n",
            "Metrics saved to ==> /content/drive/MyDrive/TASI/GridSearch/ModelImbalance4/metrics.pt\n",
            "Finished Training!\n",
            "Validation loss hasn't improved in the last 3 epochs. Stopping early.\n"
          ]
        },
        {
          "output_type": "stream",
          "name": "stderr",
          "text": [
            "Some weights of BertForSequenceClassification were not initialized from the model checkpoint at indobenchmark/indobert-base-p1 and are newly initialized: ['classifier.weight', 'classifier.bias']\n",
            "You should probably TRAIN this model on a down-stream task to be able to use it for predictions and inference.\n"
          ]
        },
        {
          "output_type": "stream",
          "name": "stdout",
          "text": [
            "Epoch [1/8], Train Loss: 0.6478, Valid Loss: 0.6841\n",
            "Model saved to ==> /content/drive/MyDrive/TASI/GridSearch/ModelImbalance4/model.pt\n",
            "Metrics saved to ==> /content/drive/MyDrive/TASI/GridSearch/ModelImbalance4/metrics.pt\n",
            "Epoch [2/8], Train Loss: 0.6741, Valid Loss: 0.6560\n",
            "Model saved to ==> /content/drive/MyDrive/TASI/GridSearch/ModelImbalance4/model.pt\n",
            "Metrics saved to ==> /content/drive/MyDrive/TASI/GridSearch/ModelImbalance4/metrics.pt\n",
            "Epoch [3/8], Train Loss: 0.6900, Valid Loss: 0.6748\n",
            "Epoch [4/8], Train Loss: 0.5619, Valid Loss: 0.3724\n",
            "Model saved to ==> /content/drive/MyDrive/TASI/GridSearch/ModelImbalance4/model.pt\n",
            "Metrics saved to ==> /content/drive/MyDrive/TASI/GridSearch/ModelImbalance4/metrics.pt\n",
            "Epoch [5/8], Train Loss: 0.2434, Valid Loss: 0.3587\n",
            "Model saved to ==> /content/drive/MyDrive/TASI/GridSearch/ModelImbalance4/model.pt\n",
            "Metrics saved to ==> /content/drive/MyDrive/TASI/GridSearch/ModelImbalance4/metrics.pt\n",
            "Epoch [6/8], Train Loss: 0.2483, Valid Loss: 0.3569\n",
            "Model saved to ==> /content/drive/MyDrive/TASI/GridSearch/ModelImbalance4/model.pt\n",
            "Metrics saved to ==> /content/drive/MyDrive/TASI/GridSearch/ModelImbalance4/metrics.pt\n",
            "Epoch [7/8], Train Loss: 0.1814, Valid Loss: 0.2166\n",
            "Model saved to ==> /content/drive/MyDrive/TASI/GridSearch/ModelImbalance4/model.pt\n",
            "Metrics saved to ==> /content/drive/MyDrive/TASI/GridSearch/ModelImbalance4/metrics.pt\n"
          ]
        },
        {
          "output_type": "stream",
          "name": "stderr",
          "text": [
            "[I 2023-06-21 08:48:33,377] Trial 25 pruned. \n"
          ]
        },
        {
          "output_type": "stream",
          "name": "stdout",
          "text": [
            "Epoch [8/8], Train Loss: 0.2680, Valid Loss: 0.6475\n",
            "Metrics saved to ==> /content/drive/MyDrive/TASI/GridSearch/ModelImbalance4/metrics.pt\n",
            "Finished Training!\n",
            "Validation loss hasn't improved in the last 3 epochs. Stopping early.\n"
          ]
        },
        {
          "output_type": "stream",
          "name": "stderr",
          "text": [
            "Some weights of BertForSequenceClassification were not initialized from the model checkpoint at indobenchmark/indobert-base-p1 and are newly initialized: ['classifier.weight', 'classifier.bias']\n",
            "You should probably TRAIN this model on a down-stream task to be able to use it for predictions and inference.\n"
          ]
        },
        {
          "output_type": "stream",
          "name": "stdout",
          "text": [
            "Epoch [1/5], Train Loss: 0.6459, Valid Loss: 0.6240\n",
            "Model saved to ==> /content/drive/MyDrive/TASI/GridSearch/ModelImbalance4/model.pt\n",
            "Metrics saved to ==> /content/drive/MyDrive/TASI/GridSearch/ModelImbalance4/metrics.pt\n",
            "Epoch [2/5], Train Loss: 0.3887, Valid Loss: 0.3605\n",
            "Model saved to ==> /content/drive/MyDrive/TASI/GridSearch/ModelImbalance4/model.pt\n",
            "Metrics saved to ==> /content/drive/MyDrive/TASI/GridSearch/ModelImbalance4/metrics.pt\n",
            "Epoch [3/5], Train Loss: 0.1967, Valid Loss: 0.2539\n",
            "Model saved to ==> /content/drive/MyDrive/TASI/GridSearch/ModelImbalance4/model.pt\n",
            "Metrics saved to ==> /content/drive/MyDrive/TASI/GridSearch/ModelImbalance4/metrics.pt\n",
            "Epoch [4/5], Train Loss: 0.1336, Valid Loss: 0.2011\n",
            "Model saved to ==> /content/drive/MyDrive/TASI/GridSearch/ModelImbalance4/model.pt\n",
            "Metrics saved to ==> /content/drive/MyDrive/TASI/GridSearch/ModelImbalance4/metrics.pt\n"
          ]
        },
        {
          "output_type": "stream",
          "name": "stderr",
          "text": [
            "[I 2023-06-21 08:50:13,977] Trial 26 pruned. \n"
          ]
        },
        {
          "output_type": "stream",
          "name": "stdout",
          "text": [
            "Epoch [5/5], Train Loss: 0.1049, Valid Loss: 0.2429\n",
            "Metrics saved to ==> /content/drive/MyDrive/TASI/GridSearch/ModelImbalance4/metrics.pt\n",
            "Finished Training!\n",
            "Validation loss hasn't improved in the last 3 epochs. Stopping early.\n"
          ]
        },
        {
          "output_type": "stream",
          "name": "stderr",
          "text": [
            "Some weights of BertForSequenceClassification were not initialized from the model checkpoint at indobenchmark/indobert-base-p1 and are newly initialized: ['classifier.weight', 'classifier.bias']\n",
            "You should probably TRAIN this model on a down-stream task to be able to use it for predictions and inference.\n"
          ]
        },
        {
          "output_type": "stream",
          "name": "stdout",
          "text": [
            "Epoch [1/6], Train Loss: 0.6572, Valid Loss: 0.6812\n",
            "Model saved to ==> /content/drive/MyDrive/TASI/GridSearch/ModelImbalance4/model.pt\n",
            "Metrics saved to ==> /content/drive/MyDrive/TASI/GridSearch/ModelImbalance4/metrics.pt\n",
            "Epoch [2/6], Train Loss: 0.5063, Valid Loss: 0.3471\n",
            "Model saved to ==> /content/drive/MyDrive/TASI/GridSearch/ModelImbalance4/model.pt\n",
            "Metrics saved to ==> /content/drive/MyDrive/TASI/GridSearch/ModelImbalance4/metrics.pt\n",
            "Epoch [3/6], Train Loss: 0.2887, Valid Loss: 0.2351\n",
            "Model saved to ==> /content/drive/MyDrive/TASI/GridSearch/ModelImbalance4/model.pt\n",
            "Metrics saved to ==> /content/drive/MyDrive/TASI/GridSearch/ModelImbalance4/metrics.pt\n",
            "Epoch [4/6], Train Loss: 0.1855, Valid Loss: 0.2395\n",
            "Epoch [5/6], Train Loss: 0.1025, Valid Loss: 0.1986\n",
            "Model saved to ==> /content/drive/MyDrive/TASI/GridSearch/ModelImbalance4/model.pt\n",
            "Metrics saved to ==> /content/drive/MyDrive/TASI/GridSearch/ModelImbalance4/metrics.pt\n"
          ]
        },
        {
          "output_type": "stream",
          "name": "stderr",
          "text": [
            "[I 2023-06-21 08:52:12,854] Trial 27 pruned. \n"
          ]
        },
        {
          "output_type": "stream",
          "name": "stdout",
          "text": [
            "Epoch [6/6], Train Loss: 0.0334, Valid Loss: 0.3980\n",
            "Metrics saved to ==> /content/drive/MyDrive/TASI/GridSearch/ModelImbalance4/metrics.pt\n",
            "Finished Training!\n",
            "Validation loss hasn't improved in the last 3 epochs. Stopping early.\n"
          ]
        },
        {
          "output_type": "stream",
          "name": "stderr",
          "text": [
            "Some weights of BertForSequenceClassification were not initialized from the model checkpoint at indobenchmark/indobert-base-p1 and are newly initialized: ['classifier.weight', 'classifier.bias']\n",
            "You should probably TRAIN this model on a down-stream task to be able to use it for predictions and inference.\n"
          ]
        },
        {
          "output_type": "stream",
          "name": "stdout",
          "text": [
            "Epoch [1/9], Train Loss: 0.6760, Valid Loss: 0.6333\n",
            "Model saved to ==> /content/drive/MyDrive/TASI/GridSearch/ModelImbalance4/model.pt\n",
            "Metrics saved to ==> /content/drive/MyDrive/TASI/GridSearch/ModelImbalance4/metrics.pt\n",
            "Epoch [2/9], Train Loss: 0.5169, Valid Loss: 0.5281\n",
            "Model saved to ==> /content/drive/MyDrive/TASI/GridSearch/ModelImbalance4/model.pt\n",
            "Metrics saved to ==> /content/drive/MyDrive/TASI/GridSearch/ModelImbalance4/metrics.pt\n",
            "Epoch [3/9], Train Loss: 0.3161, Valid Loss: 0.2598\n",
            "Model saved to ==> /content/drive/MyDrive/TASI/GridSearch/ModelImbalance4/model.pt\n",
            "Metrics saved to ==> /content/drive/MyDrive/TASI/GridSearch/ModelImbalance4/metrics.pt\n",
            "Epoch [4/9], Train Loss: 0.1638, Valid Loss: 0.2083\n",
            "Model saved to ==> /content/drive/MyDrive/TASI/GridSearch/ModelImbalance4/model.pt\n",
            "Metrics saved to ==> /content/drive/MyDrive/TASI/GridSearch/ModelImbalance4/metrics.pt\n",
            "Epoch [5/9], Train Loss: 0.0778, Valid Loss: 0.2057\n",
            "Model saved to ==> /content/drive/MyDrive/TASI/GridSearch/ModelImbalance4/model.pt\n",
            "Metrics saved to ==> /content/drive/MyDrive/TASI/GridSearch/ModelImbalance4/metrics.pt\n",
            "Epoch [6/9], Train Loss: 0.0319, Valid Loss: 0.1621\n",
            "Model saved to ==> /content/drive/MyDrive/TASI/GridSearch/ModelImbalance4/model.pt\n",
            "Metrics saved to ==> /content/drive/MyDrive/TASI/GridSearch/ModelImbalance4/metrics.pt\n",
            "Epoch [7/9], Train Loss: 0.0127, Valid Loss: 0.1872\n",
            "Epoch [8/9], Train Loss: 0.0320, Valid Loss: 0.2562\n"
          ]
        },
        {
          "output_type": "stream",
          "name": "stderr",
          "text": [
            "[I 2023-06-21 08:55:10,736] Trial 28 pruned. \n"
          ]
        },
        {
          "output_type": "stream",
          "name": "stdout",
          "text": [
            "Epoch [9/9], Train Loss: 0.0117, Valid Loss: 0.3185\n",
            "Early stopping\n",
            "Metrics saved to ==> /content/drive/MyDrive/TASI/GridSearch/ModelImbalance4/metrics.pt\n",
            "Finished Training!\n",
            "Validation loss hasn't improved in the last 3 epochs. Stopping early.\n"
          ]
        },
        {
          "output_type": "stream",
          "name": "stderr",
          "text": [
            "Some weights of BertForSequenceClassification were not initialized from the model checkpoint at indobenchmark/indobert-base-p1 and are newly initialized: ['classifier.weight', 'classifier.bias']\n",
            "You should probably TRAIN this model on a down-stream task to be able to use it for predictions and inference.\n"
          ]
        },
        {
          "output_type": "stream",
          "name": "stdout",
          "text": [
            "Epoch [1/6], Train Loss: 0.6543, Valid Loss: 0.6780\n",
            "Model saved to ==> /content/drive/MyDrive/TASI/GridSearch/ModelImbalance4/model.pt\n",
            "Metrics saved to ==> /content/drive/MyDrive/TASI/GridSearch/ModelImbalance4/metrics.pt\n",
            "Epoch [2/6], Train Loss: 0.6753, Valid Loss: 0.7199\n",
            "Epoch [3/6], Train Loss: 0.6740, Valid Loss: 0.6761\n",
            "Model saved to ==> /content/drive/MyDrive/TASI/GridSearch/ModelImbalance4/model.pt\n",
            "Metrics saved to ==> /content/drive/MyDrive/TASI/GridSearch/ModelImbalance4/metrics.pt\n",
            "Epoch [4/6], Train Loss: 0.6618, Valid Loss: 0.7365\n",
            "Epoch [5/6], Train Loss: 0.7314, Valid Loss: 0.6700\n",
            "Model saved to ==> /content/drive/MyDrive/TASI/GridSearch/ModelImbalance4/model.pt\n",
            "Metrics saved to ==> /content/drive/MyDrive/TASI/GridSearch/ModelImbalance4/metrics.pt\n",
            "Epoch [6/6], Train Loss: 0.6919, Valid Loss: 0.6599\n",
            "Model saved to ==> /content/drive/MyDrive/TASI/GridSearch/ModelImbalance4/model.pt\n",
            "Metrics saved to ==> /content/drive/MyDrive/TASI/GridSearch/ModelImbalance4/metrics.pt\n"
          ]
        },
        {
          "output_type": "stream",
          "name": "stderr",
          "text": [
            "[I 2023-06-21 08:57:09,771] Trial 29 pruned. \n"
          ]
        },
        {
          "output_type": "stream",
          "name": "stdout",
          "text": [
            "Metrics saved to ==> /content/drive/MyDrive/TASI/GridSearch/ModelImbalance4/metrics.pt\n",
            "Finished Training!\n",
            "Validation loss hasn't improved in the last 3 epochs. Stopping early.\n"
          ]
        },
        {
          "output_type": "stream",
          "name": "stderr",
          "text": [
            "Some weights of BertForSequenceClassification were not initialized from the model checkpoint at indobenchmark/indobert-base-p1 and are newly initialized: ['classifier.weight', 'classifier.bias']\n",
            "You should probably TRAIN this model on a down-stream task to be able to use it for predictions and inference.\n"
          ]
        },
        {
          "output_type": "stream",
          "name": "stdout",
          "text": [
            "Epoch [1/8], Train Loss: 0.6736, Valid Loss: 0.6407\n",
            "Model saved to ==> /content/drive/MyDrive/TASI/GridSearch/ModelImbalance4/model.pt\n",
            "Metrics saved to ==> /content/drive/MyDrive/TASI/GridSearch/ModelImbalance4/metrics.pt\n",
            "Epoch [2/8], Train Loss: 0.5654, Valid Loss: 0.4100\n",
            "Model saved to ==> /content/drive/MyDrive/TASI/GridSearch/ModelImbalance4/model.pt\n",
            "Metrics saved to ==> /content/drive/MyDrive/TASI/GridSearch/ModelImbalance4/metrics.pt\n",
            "Epoch [3/8], Train Loss: 0.2475, Valid Loss: 0.2180\n",
            "Model saved to ==> /content/drive/MyDrive/TASI/GridSearch/ModelImbalance4/model.pt\n",
            "Metrics saved to ==> /content/drive/MyDrive/TASI/GridSearch/ModelImbalance4/metrics.pt\n",
            "Epoch [4/8], Train Loss: 0.1761, Valid Loss: 0.1600\n",
            "Model saved to ==> /content/drive/MyDrive/TASI/GridSearch/ModelImbalance4/model.pt\n",
            "Metrics saved to ==> /content/drive/MyDrive/TASI/GridSearch/ModelImbalance4/metrics.pt\n",
            "Epoch [5/8], Train Loss: 0.0824, Valid Loss: 0.1591\n",
            "Model saved to ==> /content/drive/MyDrive/TASI/GridSearch/ModelImbalance4/model.pt\n",
            "Metrics saved to ==> /content/drive/MyDrive/TASI/GridSearch/ModelImbalance4/metrics.pt\n",
            "Epoch [6/8], Train Loss: 0.0368, Valid Loss: 0.2044\n",
            "Epoch [7/8], Train Loss: 0.0133, Valid Loss: 0.1938\n"
          ]
        },
        {
          "output_type": "stream",
          "name": "stderr",
          "text": [
            "[I 2023-06-21 08:59:47,288] Trial 30 pruned. \n"
          ]
        },
        {
          "output_type": "stream",
          "name": "stdout",
          "text": [
            "Epoch [8/8], Train Loss: 0.0302, Valid Loss: 0.1609\n",
            "Early stopping\n",
            "Metrics saved to ==> /content/drive/MyDrive/TASI/GridSearch/ModelImbalance4/metrics.pt\n",
            "Finished Training!\n",
            "Validation loss hasn't improved in the last 3 epochs. Stopping early.\n"
          ]
        },
        {
          "output_type": "stream",
          "name": "stderr",
          "text": [
            "Some weights of BertForSequenceClassification were not initialized from the model checkpoint at indobenchmark/indobert-base-p1 and are newly initialized: ['classifier.weight', 'classifier.bias']\n",
            "You should probably TRAIN this model on a down-stream task to be able to use it for predictions and inference.\n"
          ]
        },
        {
          "output_type": "stream",
          "name": "stdout",
          "text": [
            "Epoch [1/5], Train Loss: 0.6814, Valid Loss: 0.6950\n",
            "Model saved to ==> /content/drive/MyDrive/TASI/GridSearch/ModelImbalance4/model.pt\n",
            "Metrics saved to ==> /content/drive/MyDrive/TASI/GridSearch/ModelImbalance4/metrics.pt\n",
            "Epoch [2/5], Train Loss: 0.5355, Valid Loss: 0.4983\n",
            "Model saved to ==> /content/drive/MyDrive/TASI/GridSearch/ModelImbalance4/model.pt\n",
            "Metrics saved to ==> /content/drive/MyDrive/TASI/GridSearch/ModelImbalance4/metrics.pt\n",
            "Epoch [3/5], Train Loss: 0.3060, Valid Loss: 0.2496\n",
            "Model saved to ==> /content/drive/MyDrive/TASI/GridSearch/ModelImbalance4/model.pt\n",
            "Metrics saved to ==> /content/drive/MyDrive/TASI/GridSearch/ModelImbalance4/metrics.pt\n",
            "Epoch [4/5], Train Loss: 0.1630, Valid Loss: 0.1731\n",
            "Model saved to ==> /content/drive/MyDrive/TASI/GridSearch/ModelImbalance4/model.pt\n",
            "Metrics saved to ==> /content/drive/MyDrive/TASI/GridSearch/ModelImbalance4/metrics.pt\n"
          ]
        },
        {
          "output_type": "stream",
          "name": "stderr",
          "text": [
            "[I 2023-06-21 09:01:30,221] Trial 31 pruned. \n"
          ]
        },
        {
          "output_type": "stream",
          "name": "stdout",
          "text": [
            "Epoch [5/5], Train Loss: 0.0967, Valid Loss: 0.3021\n",
            "Metrics saved to ==> /content/drive/MyDrive/TASI/GridSearch/ModelImbalance4/metrics.pt\n",
            "Finished Training!\n",
            "Validation loss hasn't improved in the last 3 epochs. Stopping early.\n"
          ]
        },
        {
          "output_type": "stream",
          "name": "stderr",
          "text": [
            "Some weights of BertForSequenceClassification were not initialized from the model checkpoint at indobenchmark/indobert-base-p1 and are newly initialized: ['classifier.weight', 'classifier.bias']\n",
            "You should probably TRAIN this model on a down-stream task to be able to use it for predictions and inference.\n"
          ]
        },
        {
          "output_type": "stream",
          "name": "stdout",
          "text": [
            "Epoch [1/7], Train Loss: 0.6536, Valid Loss: 0.7048\n",
            "Model saved to ==> /content/drive/MyDrive/TASI/GridSearch/ModelImbalance4/model.pt\n",
            "Metrics saved to ==> /content/drive/MyDrive/TASI/GridSearch/ModelImbalance4/metrics.pt\n",
            "Epoch [2/7], Train Loss: 0.4752, Valid Loss: 0.2995\n",
            "Model saved to ==> /content/drive/MyDrive/TASI/GridSearch/ModelImbalance4/model.pt\n",
            "Metrics saved to ==> /content/drive/MyDrive/TASI/GridSearch/ModelImbalance4/metrics.pt\n",
            "Epoch [3/7], Train Loss: 0.2063, Valid Loss: 0.2474\n",
            "Model saved to ==> /content/drive/MyDrive/TASI/GridSearch/ModelImbalance4/model.pt\n",
            "Metrics saved to ==> /content/drive/MyDrive/TASI/GridSearch/ModelImbalance4/metrics.pt\n",
            "Epoch [4/7], Train Loss: 0.1538, Valid Loss: 0.4368\n",
            "Epoch [5/7], Train Loss: 0.1028, Valid Loss: 0.2931\n"
          ]
        },
        {
          "output_type": "stream",
          "name": "stderr",
          "text": [
            "[I 2023-06-21 09:03:31,888] Trial 32 pruned. \n"
          ]
        },
        {
          "output_type": "stream",
          "name": "stdout",
          "text": [
            "Epoch [6/7], Train Loss: 0.0864, Valid Loss: 0.4235\n",
            "Early stopping\n",
            "Metrics saved to ==> /content/drive/MyDrive/TASI/GridSearch/ModelImbalance4/metrics.pt\n",
            "Finished Training!\n",
            "Validation loss hasn't improved in the last 3 epochs. Stopping early.\n"
          ]
        },
        {
          "output_type": "stream",
          "name": "stderr",
          "text": [
            "Some weights of BertForSequenceClassification were not initialized from the model checkpoint at indobenchmark/indobert-base-p1 and are newly initialized: ['classifier.weight', 'classifier.bias']\n",
            "You should probably TRAIN this model on a down-stream task to be able to use it for predictions and inference.\n"
          ]
        },
        {
          "output_type": "stream",
          "name": "stdout",
          "text": [
            "Epoch [1/10], Train Loss: 0.6454, Valid Loss: 0.7015\n",
            "Model saved to ==> /content/drive/MyDrive/TASI/GridSearch/ModelImbalance4/model.pt\n",
            "Metrics saved to ==> /content/drive/MyDrive/TASI/GridSearch/ModelImbalance4/metrics.pt\n",
            "Epoch [2/10], Train Loss: 0.5807, Valid Loss: 0.3539\n",
            "Model saved to ==> /content/drive/MyDrive/TASI/GridSearch/ModelImbalance4/model.pt\n",
            "Metrics saved to ==> /content/drive/MyDrive/TASI/GridSearch/ModelImbalance4/metrics.pt\n",
            "Epoch [3/10], Train Loss: 0.2695, Valid Loss: 0.3490\n",
            "Model saved to ==> /content/drive/MyDrive/TASI/GridSearch/ModelImbalance4/model.pt\n",
            "Metrics saved to ==> /content/drive/MyDrive/TASI/GridSearch/ModelImbalance4/metrics.pt\n",
            "Epoch [4/10], Train Loss: 0.2060, Valid Loss: 0.5161\n",
            "Epoch [5/10], Train Loss: 0.2103, Valid Loss: 0.4858\n"
          ]
        },
        {
          "output_type": "stream",
          "name": "stderr",
          "text": [
            "[I 2023-06-21 09:05:30,286] Trial 33 pruned. \n"
          ]
        },
        {
          "output_type": "stream",
          "name": "stdout",
          "text": [
            "Epoch [6/10], Train Loss: 0.1239, Valid Loss: 1.0803\n",
            "Early stopping\n",
            "Metrics saved to ==> /content/drive/MyDrive/TASI/GridSearch/ModelImbalance4/metrics.pt\n",
            "Finished Training!\n",
            "Validation loss hasn't improved in the last 3 epochs. Stopping early.\n"
          ]
        },
        {
          "output_type": "stream",
          "name": "stderr",
          "text": [
            "Some weights of BertForSequenceClassification were not initialized from the model checkpoint at indobenchmark/indobert-base-p1 and are newly initialized: ['classifier.weight', 'classifier.bias']\n",
            "You should probably TRAIN this model on a down-stream task to be able to use it for predictions and inference.\n"
          ]
        },
        {
          "output_type": "stream",
          "name": "stdout",
          "text": [
            "Epoch [1/5], Train Loss: 0.5861, Valid Loss: 0.3922\n",
            "Model saved to ==> /content/drive/MyDrive/TASI/GridSearch/ModelImbalance4/model.pt\n",
            "Metrics saved to ==> /content/drive/MyDrive/TASI/GridSearch/ModelImbalance4/metrics.pt\n",
            "Epoch [2/5], Train Loss: 0.3192, Valid Loss: 0.2206\n",
            "Model saved to ==> /content/drive/MyDrive/TASI/GridSearch/ModelImbalance4/model.pt\n",
            "Metrics saved to ==> /content/drive/MyDrive/TASI/GridSearch/ModelImbalance4/metrics.pt\n",
            "Epoch [3/5], Train Loss: 0.1989, Valid Loss: 0.1646\n",
            "Model saved to ==> /content/drive/MyDrive/TASI/GridSearch/ModelImbalance4/model.pt\n",
            "Metrics saved to ==> /content/drive/MyDrive/TASI/GridSearch/ModelImbalance4/metrics.pt\n",
            "Epoch [4/5], Train Loss: 0.1088, Valid Loss: 0.1781\n"
          ]
        },
        {
          "output_type": "stream",
          "name": "stderr",
          "text": [
            "[I 2023-06-21 09:07:08,831] Trial 34 pruned. \n"
          ]
        },
        {
          "output_type": "stream",
          "name": "stdout",
          "text": [
            "Epoch [5/5], Train Loss: 0.0850, Valid Loss: 0.1992\n",
            "Metrics saved to ==> /content/drive/MyDrive/TASI/GridSearch/ModelImbalance4/metrics.pt\n",
            "Finished Training!\n",
            "Validation loss hasn't improved in the last 3 epochs. Stopping early.\n"
          ]
        },
        {
          "output_type": "stream",
          "name": "stderr",
          "text": [
            "Some weights of BertForSequenceClassification were not initialized from the model checkpoint at indobenchmark/indobert-base-p1 and are newly initialized: ['classifier.weight', 'classifier.bias']\n",
            "You should probably TRAIN this model on a down-stream task to be able to use it for predictions and inference.\n"
          ]
        },
        {
          "output_type": "stream",
          "name": "stdout",
          "text": [
            "Epoch [1/7], Train Loss: 0.6727, Valid Loss: 0.6908\n",
            "Model saved to ==> /content/drive/MyDrive/TASI/GridSearch/ModelImbalance4/model.pt\n",
            "Metrics saved to ==> /content/drive/MyDrive/TASI/GridSearch/ModelImbalance4/metrics.pt\n",
            "Epoch [2/7], Train Loss: 0.7005, Valid Loss: 0.6622\n",
            "Model saved to ==> /content/drive/MyDrive/TASI/GridSearch/ModelImbalance4/model.pt\n",
            "Metrics saved to ==> /content/drive/MyDrive/TASI/GridSearch/ModelImbalance4/metrics.pt\n",
            "Epoch [3/7], Train Loss: 0.6319, Valid Loss: 0.4941\n",
            "Model saved to ==> /content/drive/MyDrive/TASI/GridSearch/ModelImbalance4/model.pt\n",
            "Metrics saved to ==> /content/drive/MyDrive/TASI/GridSearch/ModelImbalance4/metrics.pt\n",
            "Epoch [4/7], Train Loss: 0.3081, Valid Loss: 0.2408\n",
            "Model saved to ==> /content/drive/MyDrive/TASI/GridSearch/ModelImbalance4/model.pt\n",
            "Metrics saved to ==> /content/drive/MyDrive/TASI/GridSearch/ModelImbalance4/metrics.pt\n",
            "Epoch [5/7], Train Loss: 0.1676, Valid Loss: 0.2063\n",
            "Model saved to ==> /content/drive/MyDrive/TASI/GridSearch/ModelImbalance4/model.pt\n",
            "Metrics saved to ==> /content/drive/MyDrive/TASI/GridSearch/ModelImbalance4/metrics.pt\n",
            "Epoch [6/7], Train Loss: 0.1246, Valid Loss: 0.2453\n"
          ]
        },
        {
          "output_type": "stream",
          "name": "stderr",
          "text": [
            "[I 2023-06-21 09:09:28,429] Trial 35 pruned. \n"
          ]
        },
        {
          "output_type": "stream",
          "name": "stdout",
          "text": [
            "Epoch [7/7], Train Loss: 0.0687, Valid Loss: 0.2096\n",
            "Metrics saved to ==> /content/drive/MyDrive/TASI/GridSearch/ModelImbalance4/metrics.pt\n",
            "Finished Training!\n",
            "Validation loss hasn't improved in the last 3 epochs. Stopping early.\n",
            "Best model: lr=5e-05, num_epochs=8, batch_size=32\n",
            "Best valid loss: 0.10687316997375872\n"
          ]
        }
      ],
      "source": [
        "import optuna\n",
        "\n",
        "# Define an objective function to optimize hyperparameters\n",
        "def objective(trial):\n",
        "    # Sample hyperparameters\n",
        "    lr = trial.suggest_categorical('lr', [2e-5, 3e-5, 5e-5])\n",
        "    num_epochs = trial.suggest_categorical('num_epochs', [5, 6, 7, 8, 9, 10])\n",
        "    batch_size = trial.suggest_categorical('batch_size', [16, 32])\n",
        "\n",
        "    # Define model, optimizer, and criterion\n",
        "    model = BERT().to(device)\n",
        "    optimizer = optim.Adam(model.parameters(), lr=lr)\n",
        "    criterion = nn.BCELoss()\n",
        "\n",
        "    # Train model\n",
        "    train_loss_list, valid_loss_list, epoch_list, best_valid_loss = train(model=model,\n",
        "                                                                          optimizer=optimizer,\n",
        "                                                                          criterion=criterion,\n",
        "                                                                          train_loader=train_iter,\n",
        "                                                                          valid_loader=valid_iter,\n",
        "                                                                          num_epochs=num_epochs,\n",
        "                                                                          eval_every=1,\n",
        "                                                                          file_path=destination_folder)\n",
        "\n",
        "    # Save results\n",
        "    key = f'lr={lr}, num_epochs={num_epochs}, batch_size={batch_size}'\n",
        "    results[key] = {\n",
        "        'train_loss': train_loss_list[-1],\n",
        "        'valid_loss': valid_loss_list,\n",
        "        'epoch_list': epoch_list,\n",
        "        'best_valid_loss': best_valid_loss,\n",
        "        'lr': lr,\n",
        "        'num_epochs': num_epochs,\n",
        "        'batch_size': batch_size,\n",
        "    }\n",
        "\n",
        "    # Save model if best\n",
        "    if best_valid_loss < results.get('best_valid_loss', float('inf')):\n",
        "        results['best_valid_loss'] = best_valid_loss\n",
        "        results['best_model'] = key\n",
        "        torch.save(model.state_dict(), f'{destination_folder}/model_{key}.pt')\n",
        "\n",
        "    # Implement early stopping\n",
        "    if len(valid_loss_list) >= 3:\n",
        "        if best_valid_loss > results['best_valid_loss']:\n",
        "            print(\"Validation loss hasn't improved in the last 3 epochs. Stopping early.\")\n",
        "            raise optuna.TrialPruned()\n",
        "\n",
        "    return best_valid_loss\n",
        "\n",
        "# Set up Optuna study with GridSampler\n",
        "sampler = optuna.samplers.GridSampler({\n",
        "    'lr': [2e-5, 3e-5, 5e-5],\n",
        "    'num_epochs': [5, 6, 7, 8, 9, 10],\n",
        "    'batch_size': [16, 32]\n",
        "})\n",
        "study = optuna.create_study(direction='minimize', sampler=sampler)\n",
        "\n",
        "# Run optimization\n",
        "results = {}\n",
        "study.optimize(objective)\n",
        "\n",
        "# Print best model and hyperparameters\n",
        "best_model = results['best_model']\n",
        "best_hyperparams = results[best_model]\n",
        "print('Best model:', best_model)\n",
        "print('Best valid loss:', best_hyperparams['best_valid_loss'])"
      ]
    },
    {
      "cell_type": "code",
      "execution_count": 20,
      "metadata": {
        "id": "iyknvLHm-0Iv",
        "colab": {
          "base_uri": "https://localhost:8080/",
          "height": 466
        },
        "outputId": "1d52e8ec-49e7-4571-949d-25d36ebe5508"
      },
      "outputs": [
        {
          "output_type": "stream",
          "name": "stdout",
          "text": [
            "Metrics loaded from <== /content/drive/MyDrive/TASI/GridSearch/ModelImbalance4/metrics.pt\n"
          ]
        },
        {
          "output_type": "display_data",
          "data": {
            "text/plain": [
              "<Figure size 640x480 with 1 Axes>"
            ],
            "image/png": "[encoded data removed]"
          },
          "metadata": {}
        }
      ],
      "source": [
        "train_loss_list, valid_loss_list, epoch_list = load_metrics(destination_folder + '/metrics.pt')\n",
        "plt.plot(epoch_list, train_loss_list, label='Train')\n",
        "plt.plot(epoch_list, valid_loss_list, label='Valid')\n",
        "plt.xlabel('Epochs')\n",
        "plt.ylabel('Loss')\n",
        "plt.legend()\n",
        "plt.show()"
      ]
    },
    {
      "cell_type": "code",
      "execution_count": 21,
      "metadata": {
        "id": "HEjtkI8OMTE6",
        "colab": {
          "base_uri": "https://localhost:8080/",
          "height": 614
        },
        "outputId": "7361a65e-99ab-419b-a128-fcaaf2592c34"
      },
      "outputs": [
        {
          "output_type": "stream",
          "name": "stderr",
          "text": [
            "Some weights of BertForSequenceClassification were not initialized from the model checkpoint at indobenchmark/indobert-base-p1 and are newly initialized: ['classifier.weight', 'classifier.bias']\n",
            "You should probably TRAIN this model on a down-stream task to be able to use it for predictions and inference.\n"
          ]
        },
        {
          "output_type": "stream",
          "name": "stdout",
          "text": [
            "Model loaded from <== /content/drive/MyDrive/TASI/GridSearch/ModelImbalance4/model.pt\n",
            "Classification Report:\n",
            "Real - Precision: 0.9462, Recall: 0.9336, F1-Score: 0.9399\n",
            "Fake - Precision: 0.8661, Recall: 0.8899, F1-Score: 0.8778\n",
            "Accuracy: 0.9194029850746268\n"
          ]
        },
        {
          "output_type": "display_data",
          "data": {
            "text/plain": [
              "<Figure size 640x480 with 2 Axes>"
            ],
            "image/png": "[encoded data removed]"
          },
          "metadata": {}
        }
      ],
      "source": [
        "from sklearn.metrics import classification_report, accuracy_score, confusion_matrix\n",
        "import numpy as np\n",
        "import seaborn as sns\n",
        "import matplotlib.pyplot as plt\n",
        "\n",
        "def evaluate(model, test_loader):\n",
        "    y_pred = []\n",
        "    y_true = []\n",
        "\n",
        "    model.eval()\n",
        "    with torch.no_grad():\n",
        "        for (labels, title, text), _ in test_loader:\n",
        "            labels = labels.type(torch.LongTensor)\n",
        "            labels = labels.to(device)\n",
        "            text = text.type(torch.LongTensor)\n",
        "            text = text.to(device)\n",
        "            output = model(text, labels)\n",
        "\n",
        "            _, output = output\n",
        "            y_pred.extend(torch.argmax(output, 1).tolist())\n",
        "            y_true.extend(labels.tolist())\n",
        "\n",
        "    # Mengganti label 1 menjadi \"fake\" dan label 0 menjadi \"real\"\n",
        "    y_true = np.where(np.array(y_true) == 0, \"real\", \"fake\")\n",
        "    y_pred = np.where(np.array(y_pred) == 0, \"real\", \"fake\")\n",
        "\n",
        "    # Menghitung dan mencetak hasil precision, recall, f1-score, dan accuracy\n",
        "    report = classification_report(y_true, y_pred, labels=[\"real\", \"fake\"], digits=4, output_dict=True)\n",
        "    print('Classification Report:')\n",
        "    for label, scores in report.items():\n",
        "        if label in [\"real\", \"fake\"]:\n",
        "            precision = scores['precision']\n",
        "            recall = scores['recall']\n",
        "            f1_score = scores['f1-score']\n",
        "            print(f\"{label.capitalize()} - Precision: {precision:.4f}, Recall: {recall:.4f}, F1-Score: {f1_score:.4f}\")\n",
        "    accuracy = accuracy_score(y_true, y_pred)\n",
        "    print(f'Accuracy: {accuracy}')\n",
        "\n",
        "    # Menghitung dan mencetak confusion matrix\n",
        "    cm = confusion_matrix(y_true, y_pred, labels=[\"real\", \"fake\"])\n",
        "    ax = plt.subplot()\n",
        "    sns.heatmap(cm, annot=True, ax=ax, cmap='Blues', fmt=\"d\")\n",
        "    ax.set_title('Confusion Matrix')\n",
        "    ax.set_xlabel('Predicted Labels')\n",
        "    ax.set_ylabel('True Labels')\n",
        "    ax.xaxis.set_ticklabels(['Real', 'Fake'])\n",
        "    ax.yaxis.set_ticklabels(['Real', 'Fake'])\n",
        "    plt.show()\n",
        "\n",
        "best_model = BERT().to(device)\n",
        "\n",
        "load_checkpoint(destination_folder + '/model.pt', best_model)\n",
        "\n",
        "evaluate(best_model, test_iter)"
      ]
    },
    {
      "cell_type": "code",
      "execution_count": null,
      "metadata": {
        "id": "XWrnHdKFe3Kj"
      },
      "outputs": [],
      "source": []
    }
  ],
  "metadata": {
    "accelerator": "GPU",
    "colab": {
      "provenance": []
    },
    "gpuClass": "standard",
    "kernelspec": {
      "display_name": "Python 3",
      "name": "python3"
    },
    "widgets": {
      "application/vnd.jupyter.widget-state+json": {
        "83f66b84406248b8b42b44de6aa70412": {
          "model_module": "@jupyter-widgets/controls",
          "model_name": "HBoxModel",
          "model_module_version": "1.5.0",
          "state": {
            "_dom_classes": [],
            "_model_module": "@jupyter-widgets/controls",
            "_model_module_version": "1.5.0",
            "_model_name": "HBoxModel",
            "_view_count": null,
            "_view_module": "@jupyter-widgets/controls",
            "_view_module_version": "1.5.0",
            "_view_name": "HBoxView",
            "box_style": "",
            "children": [
              "IPY_MODEL_81d7836159fe46df98f5010398a8c792",
              "IPY_MODEL_0b05c5f578654b2880d89eeb3f1084ba",
              "IPY_MODEL_a0d8a29925424291926f94c9beb595cf"
            ],
            "layout": "IPY_MODEL_7b1832d738aa474eb897a4cf988b9221"
          }
        },
        "81d7836159fe46df98f5010398a8c792": {
          "model_module": "@jupyter-widgets/controls",
          "model_name": "HTMLModel",
          "model_module_version": "1.5.0",
          "state": {
            "_dom_classes": [],
            "_model_module": "@jupyter-widgets/controls",
            "_model_module_version": "1.5.0",
            "_model_name": "HTMLModel",
            "_view_count": null,
            "_view_module": "@jupyter-widgets/controls",
            "_view_module_version": "1.5.0",
            "_view_name": "HTMLView",
            "description": "",
            "description_tooltip": null,
            "layout": "IPY_MODEL_3a5a0a58a23a47bd9d57c4971ef2fbe7",
            "placeholder": "​",
            "style": "IPY_MODEL_6234a95055f14cb382eb9be67aa6d79e",
            "value": "Downloading (…)solve/main/vocab.txt: 100%"
          }
        },
        "0b05c5f578654b2880d89eeb3f1084ba": {
          "model_module": "@jupyter-widgets/controls",
          "model_name": "FloatProgressModel",
          "model_module_version": "1.5.0",
          "state": {
            "_dom_classes": [],
            "_model_module": "@jupyter-widgets/controls",
            "_model_module_version": "1.5.0",
            "_model_name": "FloatProgressModel",
            "_view_count": null,
            "_view_module": "@jupyter-widgets/controls",
            "_view_module_version": "1.5.0",
            "_view_name": "ProgressView",
            "bar_style": "success",
            "description": "",
            "description_tooltip": null,
            "layout": "IPY_MODEL_04143d9f2f2948fa895beba75417b21c",
            "max": 229167,
            "min": 0,
            "orientation": "horizontal",
            "style": "IPY_MODEL_b880c48623e34296bcd529dc63b3a928",
            "value": 229167
          }
        },
        "a0d8a29925424291926f94c9beb595cf": {
          "model_module": "@jupyter-widgets/controls",
          "model_name": "HTMLModel",
          "model_module_version": "1.5.0",
          "state": {
            "_dom_classes": [],
            "_model_module": "@jupyter-widgets/controls",
            "_model_module_version": "1.5.0",
            "_model_name": "HTMLModel",
            "_view_count": null,
            "_view_module": "@jupyter-widgets/controls",
            "_view_module_version": "1.5.0",
            "_view_name": "HTMLView",
            "description": "",
            "description_tooltip": null,
            "layout": "IPY_MODEL_ffa4f530a08347bea5f07e2a4906f299",
            "placeholder": "​",
            "style": "IPY_MODEL_a5b83fac5acb4602b0e4bdbbef2f873f",
            "value": " 229k/229k [00:00&lt;00:00, 3.18MB/s]"
          }
        },
        "7b1832d738aa474eb897a4cf988b9221": {
          "model_module": "@jupyter-widgets/base",
          "model_name": "LayoutModel",
          "model_module_version": "1.2.0",
          "state": {
            "_model_module": "@jupyter-widgets/base",
            "_model_module_version": "1.2.0",
            "_model_name": "LayoutModel",
            "_view_count": null,
            "_view_module": "@jupyter-widgets/base",
            "_view_module_version": "1.2.0",
            "_view_name": "LayoutView",
            "align_content": null,
            "align_items": null,
            "align_self": null,
            "border": null,
            "bottom": null,
            "display": null,
            "flex": null,
            "flex_flow": null,
            "grid_area": null,
            "grid_auto_columns": null,
            "grid_auto_flow": null,
            "grid_auto_rows": null,
            "grid_column": null,
            "grid_gap": null,
            "grid_row": null,
            "grid_template_areas": null,
            "grid_template_columns": null,
            "grid_template_rows": null,
            "height": null,
            "justify_content": null,
            "justify_items": null,
            "left": null,
            "margin": null,
            "max_height": null,
            "max_width": null,
            "min_height": null,
            "min_width": null,
            "object_fit": null,
            "object_position": null,
            "order": null,
            "overflow": null,
            "overflow_x": null,
            "overflow_y": null,
            "padding": null,
            "right": null,
            "top": null,
            "visibility": null,
            "width": null
          }
        },
        "3a5a0a58a23a47bd9d57c4971ef2fbe7": {
          "model_module": "@jupyter-widgets/base",
          "model_name": "LayoutModel",
          "model_module_version": "1.2.0",
          "state": {
            "_model_module": "@jupyter-widgets/base",
            "_model_module_version": "1.2.0",
            "_model_name": "LayoutModel",
            "_view_count": null,
            "_view_module": "@jupyter-widgets/base",
            "_view_module_version": "1.2.0",
            "_view_name": "LayoutView",
            "align_content": null,
            "align_items": null,
            "align_self": null,
            "border": null,
            "bottom": null,
            "display": null,
            "flex": null,
            "flex_flow": null,
            "grid_area": null,
            "grid_auto_columns": null,
            "grid_auto_flow": null,
            "grid_auto_rows": null,
            "grid_column": null,
            "grid_gap": null,
            "grid_row": null,
            "grid_template_areas": null,
            "grid_template_columns": null,
            "grid_template_rows": null,
            "height": null,
            "justify_content": null,
            "justify_items": null,
            "left": null,
            "margin": null,
            "max_height": null,
            "max_width": null,
            "min_height": null,
            "min_width": null,
            "object_fit": null,
            "object_position": null,
            "order": null,
            "overflow": null,
            "overflow_x": null,
            "overflow_y": null,
            "padding": null,
            "right": null,
            "top": null,
            "visibility": null,
            "width": null
          }
        },
        "6234a95055f14cb382eb9be67aa6d79e": {
          "model_module": "@jupyter-widgets/controls",
          "model_name": "DescriptionStyleModel",
          "model_module_version": "1.5.0",
          "state": {
            "_model_module": "@jupyter-widgets/controls",
            "_model_module_version": "1.5.0",
            "_model_name": "DescriptionStyleModel",
            "_view_count": null,
            "_view_module": "@jupyter-widgets/base",
            "_view_module_version": "1.2.0",
            "_view_name": "StyleView",
            "description_width": ""
          }
        },
        "04143d9f2f2948fa895beba75417b21c": {
          "model_module": "@jupyter-widgets/base",
          "model_name": "LayoutModel",
          "model_module_version": "1.2.0",
          "state": {
            "_model_module": "@jupyter-widgets/base",
            "_model_module_version": "1.2.0",
            "_model_name": "LayoutModel",
            "_view_count": null,
            "_view_module": "@jupyter-widgets/base",
            "_view_module_version": "1.2.0",
            "_view_name": "LayoutView",
            "align_content": null,
            "align_items": null,
            "align_self": null,
            "border": null,
            "bottom": null,
            "display": null,
            "flex": null,
            "flex_flow": null,
            "grid_area": null,
            "grid_auto_columns": null,
            "grid_auto_flow": null,
            "grid_auto_rows": null,
            "grid_column": null,
            "grid_gap": null,
            "grid_row": null,
            "grid_template_areas": null,
            "grid_template_columns": null,
            "grid_template_rows": null,
            "height": null,
            "justify_content": null,
            "justify_items": null,
            "left": null,
            "margin": null,
            "max_height": null,
            "max_width": null,
            "min_height": null,
            "min_width": null,
            "object_fit": null,
            "object_position": null,
            "order": null,
            "overflow": null,
            "overflow_x": null,
            "overflow_y": null,
            "padding": null,
            "right": null,
            "top": null,
            "visibility": null,
            "width": null
          }
        },
        "b880c48623e34296bcd529dc63b3a928": {
          "model_module": "@jupyter-widgets/controls",
          "model_name": "ProgressStyleModel",
          "model_module_version": "1.5.0",
          "state": {
            "_model_module": "@jupyter-widgets/controls",
            "_model_module_version": "1.5.0",
            "_model_name": "ProgressStyleModel",
            "_view_count": null,
            "_view_module": "@jupyter-widgets/base",
            "_view_module_version": "1.2.0",
            "_view_name": "StyleView",
            "bar_color": null,
            "description_width": ""
          }
        },
        "ffa4f530a08347bea5f07e2a4906f299": {
          "model_module": "@jupyter-widgets/base",
          "model_name": "LayoutModel",
          "model_module_version": "1.2.0",
          "state": {
            "_model_module": "@jupyter-widgets/base",
            "_model_module_version": "1.2.0",
            "_model_name": "LayoutModel",
            "_view_count": null,
            "_view_module": "@jupyter-widgets/base",
            "_view_module_version": "1.2.0",
            "_view_name": "LayoutView",
            "align_content": null,
            "align_items": null,
            "align_self": null,
            "border": null,
            "bottom": null,
            "display": null,
            "flex": null,
            "flex_flow": null,
            "grid_area": null,
            "grid_auto_columns": null,
            "grid_auto_flow": null,
            "grid_auto_rows": null,
            "grid_column": null,
            "grid_gap": null,
            "grid_row": null,
            "grid_template_areas": null,
            "grid_template_columns": null,
            "grid_template_rows": null,
            "height": null,
            "justify_content": null,
            "justify_items": null,
            "left": null,
            "margin": null,
            "max_height": null,
            "max_width": null,
            "min_height": null,
            "min_width": null,
            "object_fit": null,
            "object_position": null,
            "order": null,
            "overflow": null,
            "overflow_x": null,
            "overflow_y": null,
            "padding": null,
            "right": null,
            "top": null,
            "visibility": null,
            "width": null
          }
        },
        "a5b83fac5acb4602b0e4bdbbef2f873f": {
          "model_module": "@jupyter-widgets/controls",
          "model_name": "DescriptionStyleModel",
          "model_module_version": "1.5.0",
          "state": {
            "_model_module": "@jupyter-widgets/controls",
            "_model_module_version": "1.5.0",
            "_model_name": "DescriptionStyleModel",
            "_view_count": null,
            "_view_module": "@jupyter-widgets/base",
            "_view_module_version": "1.2.0",
            "_view_name": "StyleView",
            "description_width": ""
          }
        },
        "f3631d1dd25343babe022247026d3c87": {
          "model_module": "@jupyter-widgets/controls",
          "model_name": "HBoxModel",
          "model_module_version": "1.5.0",
          "state": {
            "_dom_classes": [],
            "_model_module": "@jupyter-widgets/controls",
            "_model_module_version": "1.5.0",
            "_model_name": "HBoxModel",
            "_view_count": null,
            "_view_module": "@jupyter-widgets/controls",
            "_view_module_version": "1.5.0",
            "_view_name": "HBoxView",
            "box_style": "",
            "children": [
              "IPY_MODEL_be0bba74cb0d4169ae490416fe226687",
              "IPY_MODEL_6cc6610d46a24bf8adcc13a2fef081da",
              "IPY_MODEL_47818139b25341d1bd47d1a310291759"
            ],
            "layout": "IPY_MODEL_519a92f0fe964f33bbb740a8723ab8e0"
          }
        },
        "be0bba74cb0d4169ae490416fe226687": {
          "model_module": "@jupyter-widgets/controls",
          "model_name": "HTMLModel",
          "model_module_version": "1.5.0",
          "state": {
            "_dom_classes": [],
            "_model_module": "@jupyter-widgets/controls",
            "_model_module_version": "1.5.0",
            "_model_name": "HTMLModel",
            "_view_count": null,
            "_view_module": "@jupyter-widgets/controls",
            "_view_module_version": "1.5.0",
            "_view_name": "HTMLView",
            "description": "",
            "description_tooltip": null,
            "layout": "IPY_MODEL_606c494c8bcf47a38a5f208ee51bed5b",
            "placeholder": "​",
            "style": "IPY_MODEL_53ac5695add5424ebb04b0853b422f53",
            "value": "Downloading (…)cial_tokens_map.json: 100%"
          }
        },
        "6cc6610d46a24bf8adcc13a2fef081da": {
          "model_module": "@jupyter-widgets/controls",
          "model_name": "FloatProgressModel",
          "model_module_version": "1.5.0",
          "state": {
            "_dom_classes": [],
            "_model_module": "@jupyter-widgets/controls",
            "_model_module_version": "1.5.0",
            "_model_name": "FloatProgressModel",
            "_view_count": null,
            "_view_module": "@jupyter-widgets/controls",
            "_view_module_version": "1.5.0",
            "_view_name": "ProgressView",
            "bar_style": "success",
            "description": "",
            "description_tooltip": null,
            "layout": "IPY_MODEL_0f7d138e3da944af997a53ab43b48ec9",
            "max": 112,
            "min": 0,
            "orientation": "horizontal",
            "style": "IPY_MODEL_d51a438a05554555a63ba4d6c9565bfc",
            "value": 112
          }
        },
        "47818139b25341d1bd47d1a310291759": {
          "model_module": "@jupyter-widgets/controls",
          "model_name": "HTMLModel",
          "model_module_version": "1.5.0",
          "state": {
            "_dom_classes": [],
            "_model_module": "@jupyter-widgets/controls",
            "_model_module_version": "1.5.0",
            "_model_name": "HTMLModel",
            "_view_count": null,
            "_view_module": "@jupyter-widgets/controls",
            "_view_module_version": "1.5.0",
            "_view_name": "HTMLView",
            "description": "",
            "description_tooltip": null,
            "layout": "IPY_MODEL_c93db7b777874f7dbd3e6f4b3361162a",
            "placeholder": "​",
            "style": "IPY_MODEL_d9ded959795d44a89baa041ea4dc56c2",
            "value": " 112/112 [00:00&lt;00:00, 4.30kB/s]"
          }
        },
        "519a92f0fe964f33bbb740a8723ab8e0": {
          "model_module": "@jupyter-widgets/base",
          "model_name": "LayoutModel",
          "model_module_version": "1.2.0",
          "state": {
            "_model_module": "@jupyter-widgets/base",
            "_model_module_version": "1.2.0",
            "_model_name": "LayoutModel",
            "_view_count": null,
            "_view_module": "@jupyter-widgets/base",
            "_view_module_version": "1.2.0",
            "_view_name": "LayoutView",
            "align_content": null,
            "align_items": null,
            "align_self": null,
            "border": null,
            "bottom": null,
            "display": null,
            "flex": null,
            "flex_flow": null,
            "grid_area": null,
            "grid_auto_columns": null,
            "grid_auto_flow": null,
            "grid_auto_rows": null,
            "grid_column": null,
            "grid_gap": null,
            "grid_row": null,
            "grid_template_areas": null,
            "grid_template_columns": null,
            "grid_template_rows": null,
            "height": null,
            "justify_content": null,
            "justify_items": null,
            "left": null,
            "margin": null,
            "max_height": null,
            "max_width": null,
            "min_height": null,
            "min_width": null,
            "object_fit": null,
            "object_position": null,
            "order": null,
            "overflow": null,
            "overflow_x": null,
            "overflow_y": null,
            "padding": null,
            "right": null,
            "top": null,
            "visibility": null,
            "width": null
          }
        },
        "606c494c8bcf47a38a5f208ee51bed5b": {
          "model_module": "@jupyter-widgets/base",
          "model_name": "LayoutModel",
          "model_module_version": "1.2.0",
          "state": {
            "_model_module": "@jupyter-widgets/base",
            "_model_module_version": "1.2.0",
            "_model_name": "LayoutModel",
            "_view_count": null,
            "_view_module": "@jupyter-widgets/base",
            "_view_module_version": "1.2.0",
            "_view_name": "LayoutView",
            "align_content": null,
            "align_items": null,
            "align_self": null,
            "border": null,
            "bottom": null,
            "display": null,
            "flex": null,
            "flex_flow": null,
            "grid_area": null,
            "grid_auto_columns": null,
            "grid_auto_flow": null,
            "grid_auto_rows": null,
            "grid_column": null,
            "grid_gap": null,
            "grid_row": null,
            "grid_template_areas": null,
            "grid_template_columns": null,
            "grid_template_rows": null,
            "height": null,
            "justify_content": null,
            "justify_items": null,
            "left": null,
            "margin": null,
            "max_height": null,
            "max_width": null,
            "min_height": null,
            "min_width": null,
            "object_fit": null,
            "object_position": null,
            "order": null,
            "overflow": null,
            "overflow_x": null,
            "overflow_y": null,
            "padding": null,
            "right": null,
            "top": null,
            "visibility": null,
            "width": null
          }
        },
        "53ac5695add5424ebb04b0853b422f53": {
          "model_module": "@jupyter-widgets/controls",
          "model_name": "DescriptionStyleModel",
          "model_module_version": "1.5.0",
          "state": {
            "_model_module": "@jupyter-widgets/controls",
            "_model_module_version": "1.5.0",
            "_model_name": "DescriptionStyleModel",
            "_view_count": null,
            "_view_module": "@jupyter-widgets/base",
            "_view_module_version": "1.2.0",
            "_view_name": "StyleView",
            "description_width": ""
          }
        },
        "0f7d138e3da944af997a53ab43b48ec9": {
          "model_module": "@jupyter-widgets/base",
          "model_name": "LayoutModel",
          "model_module_version": "1.2.0",
          "state": {
            "_model_module": "@jupyter-widgets/base",
            "_model_module_version": "1.2.0",
            "_model_name": "LayoutModel",
            "_view_count": null,
            "_view_module": "@jupyter-widgets/base",
            "_view_module_version": "1.2.0",
            "_view_name": "LayoutView",
            "align_content": null,
            "align_items": null,
            "align_self": null,
            "border": null,
            "bottom": null,
            "display": null,
            "flex": null,
            "flex_flow": null,
            "grid_area": null,
            "grid_auto_columns": null,
            "grid_auto_flow": null,
            "grid_auto_rows": null,
            "grid_column": null,
            "grid_gap": null,
            "grid_row": null,
            "grid_template_areas": null,
            "grid_template_columns": null,
            "grid_template_rows": null,
            "height": null,
            "justify_content": null,
            "justify_items": null,
            "left": null,
            "margin": null,
            "max_height": null,
            "max_width": null,
            "min_height": null,
            "min_width": null,
            "object_fit": null,
            "object_position": null,
            "order": null,
            "overflow": null,
            "overflow_x": null,
            "overflow_y": null,
            "padding": null,
            "right": null,
            "top": null,
            "visibility": null,
            "width": null
          }
        },
        "d51a438a05554555a63ba4d6c9565bfc": {
          "model_module": "@jupyter-widgets/controls",
          "model_name": "ProgressStyleModel",
          "model_module_version": "1.5.0",
          "state": {
            "_model_module": "@jupyter-widgets/controls",
            "_model_module_version": "1.5.0",
            "_model_name": "ProgressStyleModel",
            "_view_count": null,
            "_view_module": "@jupyter-widgets/base",
            "_view_module_version": "1.2.0",
            "_view_name": "StyleView",
            "bar_color": null,
            "description_width": ""
          }
        },
        "c93db7b777874f7dbd3e6f4b3361162a": {
          "model_module": "@jupyter-widgets/base",
          "model_name": "LayoutModel",
          "model_module_version": "1.2.0",
          "state": {
            "_model_module": "@jupyter-widgets/base",
            "_model_module_version": "1.2.0",
            "_model_name": "LayoutModel",
            "_view_count": null,
            "_view_module": "@jupyter-widgets/base",
            "_view_module_version": "1.2.0",
            "_view_name": "LayoutView",
            "align_content": null,
            "align_items": null,
            "align_self": null,
            "border": null,
            "bottom": null,
            "display": null,
            "flex": null,
            "flex_flow": null,
            "grid_area": null,
            "grid_auto_columns": null,
            "grid_auto_flow": null,
            "grid_auto_rows": null,
            "grid_column": null,
            "grid_gap": null,
            "grid_row": null,
            "grid_template_areas": null,
            "grid_template_columns": null,
            "grid_template_rows": null,
            "height": null,
            "justify_content": null,
            "justify_items": null,
            "left": null,
            "margin": null,
            "max_height": null,
            "max_width": null,
            "min_height": null,
            "min_width": null,
            "object_fit": null,
            "object_position": null,
            "order": null,
            "overflow": null,
            "overflow_x": null,
            "overflow_y": null,
            "padding": null,
            "right": null,
            "top": null,
            "visibility": null,
            "width": null
          }
        },
        "d9ded959795d44a89baa041ea4dc56c2": {
          "model_module": "@jupyter-widgets/controls",
          "model_name": "DescriptionStyleModel",
          "model_module_version": "1.5.0",
          "state": {
            "_model_module": "@jupyter-widgets/controls",
            "_model_module_version": "1.5.0",
            "_model_name": "DescriptionStyleModel",
            "_view_count": null,
            "_view_module": "@jupyter-widgets/base",
            "_view_module_version": "1.2.0",
            "_view_name": "StyleView",
            "description_width": ""
          }
        },
        "a157b64118d2486f9dff13403236ea40": {
          "model_module": "@jupyter-widgets/controls",
          "model_name": "HBoxModel",
          "model_module_version": "1.5.0",
          "state": {
            "_dom_classes": [],
            "_model_module": "@jupyter-widgets/controls",
            "_model_module_version": "1.5.0",
            "_model_name": "HBoxModel",
            "_view_count": null,
            "_view_module": "@jupyter-widgets/controls",
            "_view_module_version": "1.5.0",
            "_view_name": "HBoxView",
            "box_style": "",
            "children": [
              "IPY_MODEL_634dbfb057024de7b34de4918d455a2e",
              "IPY_MODEL_5fa9ab3640b84d7b9ef04391892c0673",
              "IPY_MODEL_158f8b3d190c49d7961bdcacabd142af"
            ],
            "layout": "IPY_MODEL_8f31af756ef24abca4eacf2f64c5d8de"
          }
        },
        "634dbfb057024de7b34de4918d455a2e": {
          "model_module": "@jupyter-widgets/controls",
          "model_name": "HTMLModel",
          "model_module_version": "1.5.0",
          "state": {
            "_dom_classes": [],
            "_model_module": "@jupyter-widgets/controls",
            "_model_module_version": "1.5.0",
            "_model_name": "HTMLModel",
            "_view_count": null,
            "_view_module": "@jupyter-widgets/controls",
            "_view_module_version": "1.5.0",
            "_view_name": "HTMLView",
            "description": "",
            "description_tooltip": null,
            "layout": "IPY_MODEL_177fb04ccf684376b396a0c99f6e8370",
            "placeholder": "​",
            "style": "IPY_MODEL_1d7932e33abc41cf990a397f91590f8a",
            "value": "Downloading (…)okenizer_config.json: 100%"
          }
        },
        "5fa9ab3640b84d7b9ef04391892c0673": {
          "model_module": "@jupyter-widgets/controls",
          "model_name": "FloatProgressModel",
          "model_module_version": "1.5.0",
          "state": {
            "_dom_classes": [],
            "_model_module": "@jupyter-widgets/controls",
            "_model_module_version": "1.5.0",
            "_model_name": "FloatProgressModel",
            "_view_count": null,
            "_view_module": "@jupyter-widgets/controls",
            "_view_module_version": "1.5.0",
            "_view_name": "ProgressView",
            "bar_style": "success",
            "description": "",
            "description_tooltip": null,
            "layout": "IPY_MODEL_f52078918ff544289766d65238714d8b",
            "max": 2,
            "min": 0,
            "orientation": "horizontal",
            "style": "IPY_MODEL_7a41129807844e50b68c296cccb70bca",
            "value": 2
          }
        },
        "158f8b3d190c49d7961bdcacabd142af": {
          "model_module": "@jupyter-widgets/controls",
          "model_name": "HTMLModel",
          "model_module_version": "1.5.0",
          "state": {
            "_dom_classes": [],
            "_model_module": "@jupyter-widgets/controls",
            "_model_module_version": "1.5.0",
            "_model_name": "HTMLModel",
            "_view_count": null,
            "_view_module": "@jupyter-widgets/controls",
            "_view_module_version": "1.5.0",
            "_view_name": "HTMLView",
            "description": "",
            "description_tooltip": null,
            "layout": "IPY_MODEL_243c98b1fbc94b9784e0b7935a283688",
            "placeholder": "​",
            "style": "IPY_MODEL_134f78e829124c429312ff3fe18c578f",
            "value": " 2.00/2.00 [00:00&lt;00:00, 34.1B/s]"
          }
        },
        "8f31af756ef24abca4eacf2f64c5d8de": {
          "model_module": "@jupyter-widgets/base",
          "model_name": "LayoutModel",
          "model_module_version": "1.2.0",
          "state": {
            "_model_module": "@jupyter-widgets/base",
            "_model_module_version": "1.2.0",
            "_model_name": "LayoutModel",
            "_view_count": null,
            "_view_module": "@jupyter-widgets/base",
            "_view_module_version": "1.2.0",
            "_view_name": "LayoutView",
            "align_content": null,
            "align_items": null,
            "align_self": null,
            "border": null,
            "bottom": null,
            "display": null,
            "flex": null,
            "flex_flow": null,
            "grid_area": null,
            "grid_auto_columns": null,
            "grid_auto_flow": null,
            "grid_auto_rows": null,
            "grid_column": null,
            "grid_gap": null,
            "grid_row": null,
            "grid_template_areas": null,
            "grid_template_columns": null,
            "grid_template_rows": null,
            "height": null,
            "justify_content": null,
            "justify_items": null,
            "left": null,
            "margin": null,
            "max_height": null,
            "max_width": null,
            "min_height": null,
            "min_width": null,
            "object_fit": null,
            "object_position": null,
            "order": null,
            "overflow": null,
            "overflow_x": null,
            "overflow_y": null,
            "padding": null,
            "right": null,
            "top": null,
            "visibility": null,
            "width": null
          }
        },
        "177fb04ccf684376b396a0c99f6e8370": {
          "model_module": "@jupyter-widgets/base",
          "model_name": "LayoutModel",
          "model_module_version": "1.2.0",
          "state": {
            "_model_module": "@jupyter-widgets/base",
            "_model_module_version": "1.2.0",
            "_model_name": "LayoutModel",
            "_view_count": null,
            "_view_module": "@jupyter-widgets/base",
            "_view_module_version": "1.2.0",
            "_view_name": "LayoutView",
            "align_content": null,
            "align_items": null,
            "align_self": null,
            "border": null,
            "bottom": null,
            "display": null,
            "flex": null,
            "flex_flow": null,
            "grid_area": null,
            "grid_auto_columns": null,
            "grid_auto_flow": null,
            "grid_auto_rows": null,
            "grid_column": null,
            "grid_gap": null,
            "grid_row": null,
            "grid_template_areas": null,
            "grid_template_columns": null,
            "grid_template_rows": null,
            "height": null,
            "justify_content": null,
            "justify_items": null,
            "left": null,
            "margin": null,
            "max_height": null,
            "max_width": null,
            "min_height": null,
            "min_width": null,
            "object_fit": null,
            "object_position": null,
            "order": null,
            "overflow": null,
            "overflow_x": null,
            "overflow_y": null,
            "padding": null,
            "right": null,
            "top": null,
            "visibility": null,
            "width": null
          }
        },
        "1d7932e33abc41cf990a397f91590f8a": {
          "model_module": "@jupyter-widgets/controls",
          "model_name": "DescriptionStyleModel",
          "model_module_version": "1.5.0",
          "state": {
            "_model_module": "@jupyter-widgets/controls",
            "_model_module_version": "1.5.0",
            "_model_name": "DescriptionStyleModel",
            "_view_count": null,
            "_view_module": "@jupyter-widgets/base",
            "_view_module_version": "1.2.0",
            "_view_name": "StyleView",
            "description_width": ""
          }
        },
        "f52078918ff544289766d65238714d8b": {
          "model_module": "@jupyter-widgets/base",
          "model_name": "LayoutModel",
          "model_module_version": "1.2.0",
          "state": {
            "_model_module": "@jupyter-widgets/base",
            "_model_module_version": "1.2.0",
            "_model_name": "LayoutModel",
            "_view_count": null,
            "_view_module": "@jupyter-widgets/base",
            "_view_module_version": "1.2.0",
            "_view_name": "LayoutView",
            "align_content": null,
            "align_items": null,
            "align_self": null,
            "border": null,
            "bottom": null,
            "display": null,
            "flex": null,
            "flex_flow": null,
            "grid_area": null,
            "grid_auto_columns": null,
            "grid_auto_flow": null,
            "grid_auto_rows": null,
            "grid_column": null,
            "grid_gap": null,
            "grid_row": null,
            "grid_template_areas": null,
            "grid_template_columns": null,
            "grid_template_rows": null,
            "height": null,
            "justify_content": null,
            "justify_items": null,
            "left": null,
            "margin": null,
            "max_height": null,
            "max_width": null,
            "min_height": null,
            "min_width": null,
            "object_fit": null,
            "object_position": null,
            "order": null,
            "overflow": null,
            "overflow_x": null,
            "overflow_y": null,
            "padding": null,
            "right": null,
            "top": null,
            "visibility": null,
            "width": null
          }
        },
        "7a41129807844e50b68c296cccb70bca": {
          "model_module": "@jupyter-widgets/controls",
          "model_name": "ProgressStyleModel",
          "model_module_version": "1.5.0",
          "state": {
            "_model_module": "@jupyter-widgets/controls",
            "_model_module_version": "1.5.0",
            "_model_name": "ProgressStyleModel",
            "_view_count": null,
            "_view_module": "@jupyter-widgets/base",
            "_view_module_version": "1.2.0",
            "_view_name": "StyleView",
            "bar_color": null,
            "description_width": ""
          }
        },
        "243c98b1fbc94b9784e0b7935a283688": {
          "model_module": "@jupyter-widgets/base",
          "model_name": "LayoutModel",
          "model_module_version": "1.2.0",
          "state": {
            "_model_module": "@jupyter-widgets/base",
            "_model_module_version": "1.2.0",
            "_model_name": "LayoutModel",
            "_view_count": null,
            "_view_module": "@jupyter-widgets/base",
            "_view_module_version": "1.2.0",
            "_view_name": "LayoutView",
            "align_content": null,
            "align_items": null,
            "align_self": null,
            "border": null,
            "bottom": null,
            "display": null,
            "flex": null,
            "flex_flow": null,
            "grid_area": null,
            "grid_auto_columns": null,
            "grid_auto_flow": null,
            "grid_auto_rows": null,
            "grid_column": null,
            "grid_gap": null,
            "grid_row": null,
            "grid_template_areas": null,
            "grid_template_columns": null,
            "grid_template_rows": null,
            "height": null,
            "justify_content": null,
            "justify_items": null,
            "left": null,
            "margin": null,
            "max_height": null,
            "max_width": null,
            "min_height": null,
            "min_width": null,
            "object_fit": null,
            "object_position": null,
            "order": null,
            "overflow": null,
            "overflow_x": null,
            "overflow_y": null,
            "padding": null,
            "right": null,
            "top": null,
            "visibility": null,
            "width": null
          }
        },
        "134f78e829124c429312ff3fe18c578f": {
          "model_module": "@jupyter-widgets/controls",
          "model_name": "DescriptionStyleModel",
          "model_module_version": "1.5.0",
          "state": {
            "_model_module": "@jupyter-widgets/controls",
            "_model_module_version": "1.5.0",
            "_model_name": "DescriptionStyleModel",
            "_view_count": null,
            "_view_module": "@jupyter-widgets/base",
            "_view_module_version": "1.2.0",
            "_view_name": "StyleView",
            "description_width": ""
          }
        },
        "654767d8ccde4cdfaa463421b5fd5a0c": {
          "model_module": "@jupyter-widgets/controls",
          "model_name": "HBoxModel",
          "model_module_version": "1.5.0",
          "state": {
            "_dom_classes": [],
            "_model_module": "@jupyter-widgets/controls",
            "_model_module_version": "1.5.0",
            "_model_name": "HBoxModel",
            "_view_count": null,
            "_view_module": "@jupyter-widgets/controls",
            "_view_module_version": "1.5.0",
            "_view_name": "HBoxView",
            "box_style": "",
            "children": [
              "IPY_MODEL_d67b539c5ac34e2694ed4436795b4a71",
              "IPY_MODEL_5742cc48a8f141b284ca648e3b0747f2",
              "IPY_MODEL_a9292d29b7724143b3d31a866a3e9723"
            ],
            "layout": "IPY_MODEL_5728697df1f643e9b660d1b0b91bf7dd"
          }
        },
        "d67b539c5ac34e2694ed4436795b4a71": {
          "model_module": "@jupyter-widgets/controls",
          "model_name": "HTMLModel",
          "model_module_version": "1.5.0",
          "state": {
            "_dom_classes": [],
            "_model_module": "@jupyter-widgets/controls",
            "_model_module_version": "1.5.0",
            "_model_name": "HTMLModel",
            "_view_count": null,
            "_view_module": "@jupyter-widgets/controls",
            "_view_module_version": "1.5.0",
            "_view_name": "HTMLView",
            "description": "",
            "description_tooltip": null,
            "layout": "IPY_MODEL_b071f5504570440097da48ea25ba6ffc",
            "placeholder": "​",
            "style": "IPY_MODEL_f8e8b6fba90341d281346d7ac89c879c",
            "value": "Downloading (…)lve/main/config.json: 100%"
          }
        },
        "5742cc48a8f141b284ca648e3b0747f2": {
          "model_module": "@jupyter-widgets/controls",
          "model_name": "FloatProgressModel",
          "model_module_version": "1.5.0",
          "state": {
            "_dom_classes": [],
            "_model_module": "@jupyter-widgets/controls",
            "_model_module_version": "1.5.0",
            "_model_name": "FloatProgressModel",
            "_view_count": null,
            "_view_module": "@jupyter-widgets/controls",
            "_view_module_version": "1.5.0",
            "_view_name": "ProgressView",
            "bar_style": "success",
            "description": "",
            "description_tooltip": null,
            "layout": "IPY_MODEL_f55762b6a3c6421b9fb0aa010a123f8f",
            "max": 1534,
            "min": 0,
            "orientation": "horizontal",
            "style": "IPY_MODEL_cb2d68793e6c4e929698e24f0ba70ed9",
            "value": 1534
          }
        },
        "a9292d29b7724143b3d31a866a3e9723": {
          "model_module": "@jupyter-widgets/controls",
          "model_name": "HTMLModel",
          "model_module_version": "1.5.0",
          "state": {
            "_dom_classes": [],
            "_model_module": "@jupyter-widgets/controls",
            "_model_module_version": "1.5.0",
            "_model_name": "HTMLModel",
            "_view_count": null,
            "_view_module": "@jupyter-widgets/controls",
            "_view_module_version": "1.5.0",
            "_view_name": "HTMLView",
            "description": "",
            "description_tooltip": null,
            "layout": "IPY_MODEL_d659bd1f97e640b7a80021647263b96f",
            "placeholder": "​",
            "style": "IPY_MODEL_b7dc8c541eb6452dae129e88b9ccd230",
            "value": " 1.53k/1.53k [00:00&lt;00:00, 36.5kB/s]"
          }
        },
        "5728697df1f643e9b660d1b0b91bf7dd": {
          "model_module": "@jupyter-widgets/base",
          "model_name": "LayoutModel",
          "model_module_version": "1.2.0",
          "state": {
            "_model_module": "@jupyter-widgets/base",
            "_model_module_version": "1.2.0",
            "_model_name": "LayoutModel",
            "_view_count": null,
            "_view_module": "@jupyter-widgets/base",
            "_view_module_version": "1.2.0",
            "_view_name": "LayoutView",
            "align_content": null,
            "align_items": null,
            "align_self": null,
            "border": null,
            "bottom": null,
            "display": null,
            "flex": null,
            "flex_flow": null,
            "grid_area": null,
            "grid_auto_columns": null,
            "grid_auto_flow": null,
            "grid_auto_rows": null,
            "grid_column": null,
            "grid_gap": null,
            "grid_row": null,
            "grid_template_areas": null,
            "grid_template_columns": null,
            "grid_template_rows": null,
            "height": null,
            "justify_content": null,
            "justify_items": null,
            "left": null,
            "margin": null,
            "max_height": null,
            "max_width": null,
            "min_height": null,
            "min_width": null,
            "object_fit": null,
            "object_position": null,
            "order": null,
            "overflow": null,
            "overflow_x": null,
            "overflow_y": null,
            "padding": null,
            "right": null,
            "top": null,
            "visibility": null,
            "width": null
          }
        },
        "b071f5504570440097da48ea25ba6ffc": {
          "model_module": "@jupyter-widgets/base",
          "model_name": "LayoutModel",
          "model_module_version": "1.2.0",
          "state": {
            "_model_module": "@jupyter-widgets/base",
            "_model_module_version": "1.2.0",
            "_model_name": "LayoutModel",
            "_view_count": null,
            "_view_module": "@jupyter-widgets/base",
            "_view_module_version": "1.2.0",
            "_view_name": "LayoutView",
            "align_content": null,
            "align_items": null,
            "align_self": null,
            "border": null,
            "bottom": null,
            "display": null,
            "flex": null,
            "flex_flow": null,
            "grid_area": null,
            "grid_auto_columns": null,
            "grid_auto_flow": null,
            "grid_auto_rows": null,
            "grid_column": null,
            "grid_gap": null,
            "grid_row": null,
            "grid_template_areas": null,
            "grid_template_columns": null,
            "grid_template_rows": null,
            "height": null,
            "justify_content": null,
            "justify_items": null,
            "left": null,
            "margin": null,
            "max_height": null,
            "max_width": null,
            "min_height": null,
            "min_width": null,
            "object_fit": null,
            "object_position": null,
            "order": null,
            "overflow": null,
            "overflow_x": null,
            "overflow_y": null,
            "padding": null,
            "right": null,
            "top": null,
            "visibility": null,
            "width": null
          }
        },
        "f8e8b6fba90341d281346d7ac89c879c": {
          "model_module": "@jupyter-widgets/controls",
          "model_name": "DescriptionStyleModel",
          "model_module_version": "1.5.0",
          "state": {
            "_model_module": "@jupyter-widgets/controls",
            "_model_module_version": "1.5.0",
            "_model_name": "DescriptionStyleModel",
            "_view_count": null,
            "_view_module": "@jupyter-widgets/base",
            "_view_module_version": "1.2.0",
            "_view_name": "StyleView",
            "description_width": ""
          }
        },
        "f55762b6a3c6421b9fb0aa010a123f8f": {
          "model_module": "@jupyter-widgets/base",
          "model_name": "LayoutModel",
          "model_module_version": "1.2.0",
          "state": {
            "_model_module": "@jupyter-widgets/base",
            "_model_module_version": "1.2.0",
            "_model_name": "LayoutModel",
            "_view_count": null,
            "_view_module": "@jupyter-widgets/base",
            "_view_module_version": "1.2.0",
            "_view_name": "LayoutView",
            "align_content": null,
            "align_items": null,
            "align_self": null,
            "border": null,
            "bottom": null,
            "display": null,
            "flex": null,
            "flex_flow": null,
            "grid_area": null,
            "grid_auto_columns": null,
            "grid_auto_flow": null,
            "grid_auto_rows": null,
            "grid_column": null,
            "grid_gap": null,
            "grid_row": null,
            "grid_template_areas": null,
            "grid_template_columns": null,
            "grid_template_rows": null,
            "height": null,
            "justify_content": null,
            "justify_items": null,
            "left": null,
            "margin": null,
            "max_height": null,
            "max_width": null,
            "min_height": null,
            "min_width": null,
            "object_fit": null,
            "object_position": null,
            "order": null,
            "overflow": null,
            "overflow_x": null,
            "overflow_y": null,
            "padding": null,
            "right": null,
            "top": null,
            "visibility": null,
            "width": null
          }
        },
        "cb2d68793e6c4e929698e24f0ba70ed9": {
          "model_module": "@jupyter-widgets/controls",
          "model_name": "ProgressStyleModel",
          "model_module_version": "1.5.0",
          "state": {
            "_model_module": "@jupyter-widgets/controls",
            "_model_module_version": "1.5.0",
            "_model_name": "ProgressStyleModel",
            "_view_count": null,
            "_view_module": "@jupyter-widgets/base",
            "_view_module_version": "1.2.0",
            "_view_name": "StyleView",
            "bar_color": null,
            "description_width": ""
          }
        },
        "d659bd1f97e640b7a80021647263b96f": {
          "model_module": "@jupyter-widgets/base",
          "model_name": "LayoutModel",
          "model_module_version": "1.2.0",
          "state": {
            "_model_module": "@jupyter-widgets/base",
            "_model_module_version": "1.2.0",
            "_model_name": "LayoutModel",
            "_view_count": null,
            "_view_module": "@jupyter-widgets/base",
            "_view_module_version": "1.2.0",
            "_view_name": "LayoutView",
            "align_content": null,
            "align_items": null,
            "align_self": null,
            "border": null,
            "bottom": null,
            "display": null,
            "flex": null,
            "flex_flow": null,
            "grid_area": null,
            "grid_auto_columns": null,
            "grid_auto_flow": null,
            "grid_auto_rows": null,
            "grid_column": null,
            "grid_gap": null,
            "grid_row": null,
            "grid_template_areas": null,
            "grid_template_columns": null,
            "grid_template_rows": null,
            "height": null,
            "justify_content": null,
            "justify_items": null,
            "left": null,
            "margin": null,
            "max_height": null,
            "max_width": null,
            "min_height": null,
            "min_width": null,
            "object_fit": null,
            "object_position": null,
            "order": null,
            "overflow": null,
            "overflow_x": null,
            "overflow_y": null,
            "padding": null,
            "right": null,
            "top": null,
            "visibility": null,
            "width": null
          }
        },
        "b7dc8c541eb6452dae129e88b9ccd230": {
          "model_module": "@jupyter-widgets/controls",
          "model_name": "DescriptionStyleModel",
          "model_module_version": "1.5.0",
          "state": {
            "_model_module": "@jupyter-widgets/controls",
            "_model_module_version": "1.5.0",
            "_model_name": "DescriptionStyleModel",
            "_view_count": null,
            "_view_module": "@jupyter-widgets/base",
            "_view_module_version": "1.2.0",
            "_view_name": "StyleView",
            "description_width": ""
          }
        },
        "e18aaf5a7cb4455f8a22f0422664653a": {
          "model_module": "@jupyter-widgets/controls",
          "model_name": "HBoxModel",
          "model_module_version": "1.5.0",
          "state": {
            "_dom_classes": [],
            "_model_module": "@jupyter-widgets/controls",
            "_model_module_version": "1.5.0",
            "_model_name": "HBoxModel",
            "_view_count": null,
            "_view_module": "@jupyter-widgets/controls",
            "_view_module_version": "1.5.0",
            "_view_name": "HBoxView",
            "box_style": "",
            "children": [
              "IPY_MODEL_de477a7eac0b487aa2543bf082108c51",
              "IPY_MODEL_f39c241c2ce449c38094e45bdd7e86cb",
              "IPY_MODEL_d7cf923358424b4d81f2dc222835d82b"
            ],
            "layout": "IPY_MODEL_ba15f3e617424f1b93243d4ece0b1656"
          }
        },
        "de477a7eac0b487aa2543bf082108c51": {
          "model_module": "@jupyter-widgets/controls",
          "model_name": "HTMLModel",
          "model_module_version": "1.5.0",
          "state": {
            "_dom_classes": [],
            "_model_module": "@jupyter-widgets/controls",
            "_model_module_version": "1.5.0",
            "_model_name": "HTMLModel",
            "_view_count": null,
            "_view_module": "@jupyter-widgets/controls",
            "_view_module_version": "1.5.0",
            "_view_name": "HTMLView",
            "description": "",
            "description_tooltip": null,
            "layout": "IPY_MODEL_e6477232db0849d280698e0dee7dd2a8",
            "placeholder": "​",
            "style": "IPY_MODEL_db3a248d075c46958265c1d21e8e233b",
            "value": "Downloading pytorch_model.bin: 100%"
          }
        },
        "f39c241c2ce449c38094e45bdd7e86cb": {
          "model_module": "@jupyter-widgets/controls",
          "model_name": "FloatProgressModel",
          "model_module_version": "1.5.0",
          "state": {
            "_dom_classes": [],
            "_model_module": "@jupyter-widgets/controls",
            "_model_module_version": "1.5.0",
            "_model_name": "FloatProgressModel",
            "_view_count": null,
            "_view_module": "@jupyter-widgets/controls",
            "_view_module_version": "1.5.0",
            "_view_name": "ProgressView",
            "bar_style": "success",
            "description": "",
            "description_tooltip": null,
            "layout": "IPY_MODEL_1cd8ecb4462746f788f703be131fa7b5",
            "max": 497810400,
            "min": 0,
            "orientation": "horizontal",
            "style": "IPY_MODEL_546cd1e1d11448148df576671f08b5c1",
            "value": 497810400
          }
        },
        "d7cf923358424b4d81f2dc222835d82b": {
          "model_module": "@jupyter-widgets/controls",
          "model_name": "HTMLModel",
          "model_module_version": "1.5.0",
          "state": {
            "_dom_classes": [],
            "_model_module": "@jupyter-widgets/controls",
            "_model_module_version": "1.5.0",
            "_model_name": "HTMLModel",
            "_view_count": null,
            "_view_module": "@jupyter-widgets/controls",
            "_view_module_version": "1.5.0",
            "_view_name": "HTMLView",
            "description": "",
            "description_tooltip": null,
            "layout": "IPY_MODEL_bbc3449a58ee4905b10f3e1265256464",
            "placeholder": "​",
            "style": "IPY_MODEL_68aefaa4cabb46cf9603b8ff101830c3",
            "value": " 498M/498M [00:07&lt;00:00, 48.4MB/s]"
          }
        },
        "ba15f3e617424f1b93243d4ece0b1656": {
          "model_module": "@jupyter-widgets/base",
          "model_name": "LayoutModel",
          "model_module_version": "1.2.0",
          "state": {
            "_model_module": "@jupyter-widgets/base",
            "_model_module_version": "1.2.0",
            "_model_name": "LayoutModel",
            "_view_count": null,
            "_view_module": "@jupyter-widgets/base",
            "_view_module_version": "1.2.0",
            "_view_name": "LayoutView",
            "align_content": null,
            "align_items": null,
            "align_self": null,
            "border": null,
            "bottom": null,
            "display": null,
            "flex": null,
            "flex_flow": null,
            "grid_area": null,
            "grid_auto_columns": null,
            "grid_auto_flow": null,
            "grid_auto_rows": null,
            "grid_column": null,
            "grid_gap": null,
            "grid_row": null,
            "grid_template_areas": null,
            "grid_template_columns": null,
            "grid_template_rows": null,
            "height": null,
            "justify_content": null,
            "justify_items": null,
            "left": null,
            "margin": null,
            "max_height": null,
            "max_width": null,
            "min_height": null,
            "min_width": null,
            "object_fit": null,
            "object_position": null,
            "order": null,
            "overflow": null,
            "overflow_x": null,
            "overflow_y": null,
            "padding": null,
            "right": null,
            "top": null,
            "visibility": null,
            "width": null
          }
        },
        "e6477232db0849d280698e0dee7dd2a8": {
          "model_module": "@jupyter-widgets/base",
          "model_name": "LayoutModel",
          "model_module_version": "1.2.0",
          "state": {
            "_model_module": "@jupyter-widgets/base",
            "_model_module_version": "1.2.0",
            "_model_name": "LayoutModel",
            "_view_count": null,
            "_view_module": "@jupyter-widgets/base",
            "_view_module_version": "1.2.0",
            "_view_name": "LayoutView",
            "align_content": null,
            "align_items": null,
            "align_self": null,
            "border": null,
            "bottom": null,
            "display": null,
            "flex": null,
            "flex_flow": null,
            "grid_area": null,
            "grid_auto_columns": null,
            "grid_auto_flow": null,
            "grid_auto_rows": null,
            "grid_column": null,
            "grid_gap": null,
            "grid_row": null,
            "grid_template_areas": null,
            "grid_template_columns": null,
            "grid_template_rows": null,
            "height": null,
            "justify_content": null,
            "justify_items": null,
            "left": null,
            "margin": null,
            "max_height": null,
            "max_width": null,
            "min_height": null,
            "min_width": null,
            "object_fit": null,
            "object_position": null,
            "order": null,
            "overflow": null,
            "overflow_x": null,
            "overflow_y": null,
            "padding": null,
            "right": null,
            "top": null,
            "visibility": null,
            "width": null
          }
        },
        "db3a248d075c46958265c1d21e8e233b": {
          "model_module": "@jupyter-widgets/controls",
          "model_name": "DescriptionStyleModel",
          "model_module_version": "1.5.0",
          "state": {
            "_model_module": "@jupyter-widgets/controls",
            "_model_module_version": "1.5.0",
            "_model_name": "DescriptionStyleModel",
            "_view_count": null,
            "_view_module": "@jupyter-widgets/base",
            "_view_module_version": "1.2.0",
            "_view_name": "StyleView",
            "description_width": ""
          }
        },
        "1cd8ecb4462746f788f703be131fa7b5": {
          "model_module": "@jupyter-widgets/base",
          "model_name": "LayoutModel",
          "model_module_version": "1.2.0",
          "state": {
            "_model_module": "@jupyter-widgets/base",
            "_model_module_version": "1.2.0",
            "_model_name": "LayoutModel",
            "_view_count": null,
            "_view_module": "@jupyter-widgets/base",
            "_view_module_version": "1.2.0",
            "_view_name": "LayoutView",
            "align_content": null,
            "align_items": null,
            "align_self": null,
            "border": null,
            "bottom": null,
            "display": null,
            "flex": null,
            "flex_flow": null,
            "grid_area": null,
            "grid_auto_columns": null,
            "grid_auto_flow": null,
            "grid_auto_rows": null,
            "grid_column": null,
            "grid_gap": null,
            "grid_row": null,
            "grid_template_areas": null,
            "grid_template_columns": null,
            "grid_template_rows": null,
            "height": null,
            "justify_content": null,
            "justify_items": null,
            "left": null,
            "margin": null,
            "max_height": null,
            "max_width": null,
            "min_height": null,
            "min_width": null,
            "object_fit": null,
            "object_position": null,
            "order": null,
            "overflow": null,
            "overflow_x": null,
            "overflow_y": null,
            "padding": null,
            "right": null,
            "top": null,
            "visibility": null,
            "width": null
          }
        },
        "546cd1e1d11448148df576671f08b5c1": {
          "model_module": "@jupyter-widgets/controls",
          "model_name": "ProgressStyleModel",
          "model_module_version": "1.5.0",
          "state": {
            "_model_module": "@jupyter-widgets/controls",
            "_model_module_version": "1.5.0",
            "_model_name": "ProgressStyleModel",
            "_view_count": null,
            "_view_module": "@jupyter-widgets/base",
            "_view_module_version": "1.2.0",
            "_view_name": "StyleView",
            "bar_color": null,
            "description_width": ""
          }
        },
        "bbc3449a58ee4905b10f3e1265256464": {
          "model_module": "@jupyter-widgets/base",
          "model_name": "LayoutModel",
          "model_module_version": "1.2.0",
          "state": {
            "_model_module": "@jupyter-widgets/base",
            "_model_module_version": "1.2.0",
            "_model_name": "LayoutModel",
            "_view_count": null,
            "_view_module": "@jupyter-widgets/base",
            "_view_module_version": "1.2.0",
            "_view_name": "LayoutView",
            "align_content": null,
            "align_items": null,
            "align_self": null,
            "border": null,
            "bottom": null,
            "display": null,
            "flex": null,
            "flex_flow": null,
            "grid_area": null,
            "grid_auto_columns": null,
            "grid_auto_flow": null,
            "grid_auto_rows": null,
            "grid_column": null,
            "grid_gap": null,
            "grid_row": null,
            "grid_template_areas": null,
            "grid_template_columns": null,
            "grid_template_rows": null,
            "height": null,
            "justify_content": null,
            "justify_items": null,
            "left": null,
            "margin": null,
            "max_height": null,
            "max_width": null,
            "min_height": null,
            "min_width": null,
            "object_fit": null,
            "object_position": null,
            "order": null,
            "overflow": null,
            "overflow_x": null,
            "overflow_y": null,
            "padding": null,
            "right": null,
            "top": null,
            "visibility": null,
            "width": null
          }
        },
        "68aefaa4cabb46cf9603b8ff101830c3": {
          "model_module": "@jupyter-widgets/controls",
          "model_name": "DescriptionStyleModel",
          "model_module_version": "1.5.0",
          "state": {
            "_model_module": "@jupyter-widgets/controls",
            "_model_module_version": "1.5.0",
            "_model_name": "DescriptionStyleModel",
            "_view_count": null,
            "_view_module": "@jupyter-widgets/base",
            "_view_module_version": "1.2.0",
            "_view_name": "StyleView",
            "description_width": ""
          }
        }
      }
    }
  },
  "nbformat": 4,
  "nbformat_minor": 0
}
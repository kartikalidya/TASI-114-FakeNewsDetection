{
  "cells": [
    {
      "cell_type": "markdown",
      "metadata": {
        "id": "view-in-github"
      },
      "source": [
        "<a href=\"https://colab.research.google.com/github/garynico/IndoBERT-Hoax/blob/main/IndoBERT_Hoax_News_Detection.ipynb\" target=\"_parent\"><img src=\"https://colab.research.google.com/assets/colab-badge.svg\" alt=\"Open In Colab\"/></a>"
      ]
    },
    {
      "cell_type": "markdown",
      "metadata": {
        "id": "MLrHTVMSTxbt"
      },
      "source": [
        "# IndoBERT for Bahasa Indonesia Hoax News Detection"
      ]
    },
    {
      "cell_type": "markdown",
      "metadata": {
        "id": "LATDuyAVYEsw"
      },
      "source": [
        "### Import library"
      ]
    },
    {
      "cell_type": "code",
      "execution_count": 1,
      "metadata": {
        "colab": {
          "base_uri": "https://localhost:8080/"
        },
        "id": "IfNKumAzxkFn",
        "outputId": "37f2bc04-193e-43aa-a87c-c5b4fe478081"
      },
      "outputs": [
        {
          "output_type": "stream",
          "name": "stdout",
          "text": [
            "Mounted at /content/drive\n"
          ]
        }
      ],
      "source": [
        "# Drive\n",
        "from google.colab import files\n",
        "from google.colab import drive\n",
        "\n",
        "drive.mount('/content/drive', force_remount=True)"
      ]
    },
    {
      "cell_type": "code",
      "execution_count": 15,
      "metadata": {
        "id": "PohTXbqMicdb"
      },
      "outputs": [],
      "source": [
        "source_folder = '/content/drive/MyDrive/TASI/Bayessian/DataImbalance'\n",
        "destination_folder = '/content/drive/MyDrive/TASI/Bayessian/ModelImbalance3'"
      ]
    },
    {
      "cell_type": "code",
      "execution_count": 16,
      "metadata": {
        "colab": {
          "base_uri": "https://localhost:8080/"
        },
        "id": "XYRz41w8x28A",
        "outputId": "04ac615c-ef46-4bad-9c91-75f47bf90df8"
      },
      "outputs": [
        {
          "output_type": "stream",
          "name": "stdout",
          "text": [
            "/content/drive/MyDrive/TASI/Bayessian/DataImbalance\n"
          ]
        }
      ],
      "source": [
        "%cd //content/drive/MyDrive/TASI/Bayessian/DataImbalance"
      ]
    },
    {
      "cell_type": "code",
      "execution_count": 4,
      "metadata": {
        "colab": {
          "base_uri": "https://localhost:8080/"
        },
        "id": "M959vrSV0iwp",
        "outputId": "45ba64ee-3988-4caa-b0d8-f2f2c3fe079f"
      },
      "outputs": [
        {
          "output_type": "stream",
          "name": "stdout",
          "text": [
            "Looking in indexes: https://pypi.org/simple, https://us-python.pkg.dev/colab-wheels/public/simple/\n",
            "Collecting transformers\n",
            "  Downloading transformers-4.30.2-py3-none-any.whl (7.2 MB)\n",
            "\u001b[2K     \u001b[90m━━━━━━━━━━━━━━━━━━━━━━━━━━━━━━━━━━━━━━━━\u001b[0m \u001b[32m7.2/7.2 MB\u001b[0m \u001b[31m64.7 MB/s\u001b[0m eta \u001b[36m0:00:00\u001b[0m\n",
            "\u001b[?25hRequirement already satisfied: filelock in /usr/local/lib/python3.10/dist-packages (from transformers) (3.12.0)\n",
            "Collecting huggingface-hub<1.0,>=0.14.1 (from transformers)\n",
            "  Downloading huggingface_hub-0.15.1-py3-none-any.whl (236 kB)\n",
            "\u001b[2K     \u001b[90m━━━━━━━━━━━━━━━━━━━━━━━━━━━━━━━━━━━━━━\u001b[0m \u001b[32m236.8/236.8 kB\u001b[0m \u001b[31m23.8 MB/s\u001b[0m eta \u001b[36m0:00:00\u001b[0m\n",
            "\u001b[?25hRequirement already satisfied: numpy>=1.17 in /usr/local/lib/python3.10/dist-packages (from transformers) (1.22.4)\n",
            "Requirement already satisfied: packaging>=20.0 in /usr/local/lib/python3.10/dist-packages (from transformers) (23.1)\n",
            "Requirement already satisfied: pyyaml>=5.1 in /usr/local/lib/python3.10/dist-packages (from transformers) (6.0)\n",
            "Requirement already satisfied: regex!=2019.12.17 in /usr/local/lib/python3.10/dist-packages (from transformers) (2022.10.31)\n",
            "Requirement already satisfied: requests in /usr/local/lib/python3.10/dist-packages (from transformers) (2.27.1)\n",
            "Collecting tokenizers!=0.11.3,<0.14,>=0.11.1 (from transformers)\n",
            "  Downloading tokenizers-0.13.3-cp310-cp310-manylinux_2_17_x86_64.manylinux2014_x86_64.whl (7.8 MB)\n",
            "\u001b[2K     \u001b[90m━━━━━━━━━━━━━━━━━━━━━━━━━━━━━━━━━━━━━━━━\u001b[0m \u001b[32m7.8/7.8 MB\u001b[0m \u001b[31m78.3 MB/s\u001b[0m eta \u001b[36m0:00:00\u001b[0m\n",
            "\u001b[?25hCollecting safetensors>=0.3.1 (from transformers)\n",
            "  Downloading safetensors-0.3.1-cp310-cp310-manylinux_2_17_x86_64.manylinux2014_x86_64.whl (1.3 MB)\n",
            "\u001b[2K     \u001b[90m━━━━━━━━━━━━━━━━━━━━━━━━━━━━━━━━━━━━━━━━\u001b[0m \u001b[32m1.3/1.3 MB\u001b[0m \u001b[31m59.4 MB/s\u001b[0m eta \u001b[36m0:00:00\u001b[0m\n",
            "\u001b[?25hRequirement already satisfied: tqdm>=4.27 in /usr/local/lib/python3.10/dist-packages (from transformers) (4.65.0)\n",
            "Requirement already satisfied: fsspec in /usr/local/lib/python3.10/dist-packages (from huggingface-hub<1.0,>=0.14.1->transformers) (2023.4.0)\n",
            "Requirement already satisfied: typing-extensions>=3.7.4.3 in /usr/local/lib/python3.10/dist-packages (from huggingface-hub<1.0,>=0.14.1->transformers) (4.5.0)\n",
            "Requirement already satisfied: urllib3<1.27,>=1.21.1 in /usr/local/lib/python3.10/dist-packages (from requests->transformers) (1.26.15)\n",
            "Requirement already satisfied: certifi>=2017.4.17 in /usr/local/lib/python3.10/dist-packages (from requests->transformers) (2022.12.7)\n",
            "Requirement already satisfied: charset-normalizer~=2.0.0 in /usr/local/lib/python3.10/dist-packages (from requests->transformers) (2.0.12)\n",
            "Requirement already satisfied: idna<4,>=2.5 in /usr/local/lib/python3.10/dist-packages (from requests->transformers) (3.4)\n",
            "Installing collected packages: tokenizers, safetensors, huggingface-hub, transformers\n",
            "Successfully installed huggingface-hub-0.15.1 safetensors-0.3.1 tokenizers-0.13.3 transformers-4.30.2\n",
            "Looking in indexes: https://pypi.org/simple, https://us-python.pkg.dev/colab-wheels/public/simple/\n",
            "Collecting keras.preprocessing\n",
            "  Downloading Keras_Preprocessing-1.1.2-py2.py3-none-any.whl (42 kB)\n",
            "\u001b[2K     \u001b[90m━━━━━━━━━━━━━━━━━━━━━━━━━━━━━━━━━━━━━━━━\u001b[0m \u001b[32m42.6/42.6 kB\u001b[0m \u001b[31m3.0 MB/s\u001b[0m eta \u001b[36m0:00:00\u001b[0m\n",
            "\u001b[?25hRequirement already satisfied: numpy>=1.9.1 in /usr/local/lib/python3.10/dist-packages (from keras.preprocessing) (1.22.4)\n",
            "Requirement already satisfied: six>=1.9.0 in /usr/local/lib/python3.10/dist-packages (from keras.preprocessing) (1.16.0)\n",
            "Installing collected packages: keras.preprocessing\n",
            "Successfully installed keras.preprocessing-1.1.2\n",
            "Looking in indexes: https://pypi.org/simple, https://us-python.pkg.dev/colab-wheels/public/simple/\n",
            "Collecting git+https://github.com/pytorch/text.git@v0.10.0\n",
            "  Cloning https://github.com/pytorch/text.git (to revision v0.10.0) to /tmp/pip-req-build-w8r08unm\n",
            "  Running command git clone --filter=blob:none --quiet https://github.com/pytorch/text.git /tmp/pip-req-build-w8r08unm\n",
            "  Running command git checkout -q 4da1de36247aa06622088e78508e0e38a4392e38\n",
            "  Resolved https://github.com/pytorch/text.git to commit 4da1de36247aa06622088e78508e0e38a4392e38\n",
            "  Running command git submodule update --init --recursive -q\n",
            "  Preparing metadata (setup.py) ... \u001b[?25l\u001b[?25hdone\n",
            "Requirement already satisfied: tqdm in /usr/local/lib/python3.10/dist-packages (from torchtext==0.10.0a0+4da1de3) (4.65.0)\n",
            "Requirement already satisfied: requests in /usr/local/lib/python3.10/dist-packages (from torchtext==0.10.0a0+4da1de3) (2.27.1)\n",
            "Requirement already satisfied: torch in /usr/local/lib/python3.10/dist-packages (from torchtext==0.10.0a0+4da1de3) (2.0.1+cu118)\n",
            "Requirement already satisfied: numpy in /usr/local/lib/python3.10/dist-packages (from torchtext==0.10.0a0+4da1de3) (1.22.4)\n",
            "Requirement already satisfied: urllib3<1.27,>=1.21.1 in /usr/local/lib/python3.10/dist-packages (from requests->torchtext==0.10.0a0+4da1de3) (1.26.15)\n",
            "Requirement already satisfied: certifi>=2017.4.17 in /usr/local/lib/python3.10/dist-packages (from requests->torchtext==0.10.0a0+4da1de3) (2022.12.7)\n",
            "Requirement already satisfied: charset-normalizer~=2.0.0 in /usr/local/lib/python3.10/dist-packages (from requests->torchtext==0.10.0a0+4da1de3) (2.0.12)\n",
            "Requirement already satisfied: idna<4,>=2.5 in /usr/local/lib/python3.10/dist-packages (from requests->torchtext==0.10.0a0+4da1de3) (3.4)\n",
            "Requirement already satisfied: filelock in /usr/local/lib/python3.10/dist-packages (from torch->torchtext==0.10.0a0+4da1de3) (3.12.0)\n",
            "Requirement already satisfied: typing-extensions in /usr/local/lib/python3.10/dist-packages (from torch->torchtext==0.10.0a0+4da1de3) (4.5.0)\n",
            "Requirement already satisfied: sympy in /usr/local/lib/python3.10/dist-packages (from torch->torchtext==0.10.0a0+4da1de3) (1.11.1)\n",
            "Requirement already satisfied: networkx in /usr/local/lib/python3.10/dist-packages (from torch->torchtext==0.10.0a0+4da1de3) (3.1)\n",
            "Requirement already satisfied: jinja2 in /usr/local/lib/python3.10/dist-packages (from torch->torchtext==0.10.0a0+4da1de3) (3.1.2)\n",
            "Requirement already satisfied: triton==2.0.0 in /usr/local/lib/python3.10/dist-packages (from torch->torchtext==0.10.0a0+4da1de3) (2.0.0)\n",
            "Requirement already satisfied: cmake in /usr/local/lib/python3.10/dist-packages (from triton==2.0.0->torch->torchtext==0.10.0a0+4da1de3) (3.25.2)\n",
            "Requirement already satisfied: lit in /usr/local/lib/python3.10/dist-packages (from triton==2.0.0->torch->torchtext==0.10.0a0+4da1de3) (16.0.5)\n",
            "Requirement already satisfied: MarkupSafe>=2.0 in /usr/local/lib/python3.10/dist-packages (from jinja2->torch->torchtext==0.10.0a0+4da1de3) (2.1.2)\n",
            "Requirement already satisfied: mpmath>=0.19 in /usr/local/lib/python3.10/dist-packages (from sympy->torch->torchtext==0.10.0a0+4da1de3) (1.3.0)\n",
            "Building wheels for collected packages: torchtext\n",
            "  Building wheel for torchtext (setup.py) ... \u001b[?25l\u001b[?25hdone\n",
            "  Created wheel for torchtext: filename=torchtext-0.10.0a0+4da1de3-cp310-cp310-linux_x86_64.whl size=13338157 sha256=1d0f4d600d9f62cf90e950841942d3f75b8f5493028530c98b62949db6ed82bd\n",
            "  Stored in directory: /tmp/pip-ephem-wheel-cache-y7sbnp92/wheels/35/01/1b/48d47c6d8246b035aaa21b340cfee8a334384991bb59283a2c\n",
            "Successfully built torchtext\n",
            "Installing collected packages: torchtext\n",
            "  Attempting uninstall: torchtext\n",
            "    Found existing installation: torchtext 0.15.2\n",
            "    Uninstalling torchtext-0.15.2:\n",
            "      Successfully uninstalled torchtext-0.15.2\n",
            "Successfully installed torchtext-0.10.0a0+4da1de3\n"
          ]
        }
      ],
      "source": [
        "!pip install transformers\n",
        "!pip install keras.preprocessing\n",
        "!pip install git+https://github.com/pytorch/text.git@v0.10.0"
      ]
    },
    {
      "cell_type": "code",
      "execution_count": 17,
      "metadata": {
        "id": "fBr2V8S1LAt1"
      },
      "outputs": [],
      "source": [
        "import pandas as pd\n",
        "import numpy as np\n",
        "import torch\n",
        "\n",
        "\n",
        "from transformers import BertForSequenceClassification, BertConfig, BertTokenizer\n",
        "from tensorflow.keras.preprocessing.sequence import pad_sequences\n",
        "from sklearn.metrics import classification_report\n",
        "import matplotlib.pyplot as plt\n",
        "\n",
        "# Preliminaries\n",
        "from torchtext.legacy.data import Field, TabularDataset, BucketIterator, Iterator\n",
        "\n",
        "\n",
        "# Models\n",
        "import torch.nn as nn\n",
        "\n",
        "# Training\n",
        "import torch.optim as optim\n",
        "\n",
        "# Evaluation\n",
        "from sklearn.metrics import accuracy_score, classification_report, confusion_matrix\n",
        "import seaborn as sns"
      ]
    },
    {
      "cell_type": "markdown",
      "metadata": {
        "id": "D87UOuPvZWf9"
      },
      "source": [
        "## Preliminaries"
      ]
    },
    {
      "cell_type": "code",
      "execution_count": 18,
      "metadata": {
        "id": "AtWXlthhPvxl"
      },
      "outputs": [],
      "source": [
        "tokenizer = BertTokenizer.from_pretrained('indobenchmark/indobert-base-p1')"
      ]
    },
    {
      "cell_type": "code",
      "execution_count": 19,
      "metadata": {
        "id": "gWg-WDVbWyGO"
      },
      "outputs": [],
      "source": [
        "device = torch.device('cuda:0' if torch.cuda.is_available() else 'cpu')"
      ]
    },
    {
      "cell_type": "code",
      "source": [
        "import random\n",
        "\n",
        "seed = 42\n",
        "torch.manual_seed(seed)\n",
        "torch.cuda.manual_seed(seed)\n",
        "torch.cuda.manual_seed_all(seed)  # jika menggunakan multiple GPUs\n",
        "random.seed(seed)\n",
        "np.random.seed(seed)\n",
        "torch.backends.cudnn.deterministic = True\n",
        "torch.backends.cudnn.benchmark = False"
      ],
      "metadata": {
        "id": "maNrQIbx_by4"
      },
      "execution_count": 20,
      "outputs": []
    },
    {
      "cell_type": "markdown",
      "metadata": {
        "id": "C7sIHRLwaoyM"
      },
      "source": [
        "## Model"
      ]
    },
    {
      "cell_type": "code",
      "execution_count": 21,
      "metadata": {
        "id": "GeZ14Ky5Lqih"
      },
      "outputs": [],
      "source": [
        "# Model parameter\n",
        "MAX_SEQ_LEN = 128\n",
        "PAD_INDEX = tokenizer.convert_tokens_to_ids(tokenizer.pad_token)\n",
        "UNK_INDEX = tokenizer.convert_tokens_to_ids(tokenizer.unk_token)\n",
        "\n",
        "# Fields\n",
        "label_field = Field(sequential=False, use_vocab=False, batch_first=True, dtype=torch.float)\n",
        "text_field = Field(use_vocab=False, tokenize=tokenizer.encode, lower=False, include_lengths=False, batch_first=True,\n",
        "                   fix_length=MAX_SEQ_LEN, pad_token=PAD_INDEX, unk_token=UNK_INDEX)\n",
        "fields = [('Label', label_field), ('Tokenizing_Head', text_field), ('Tokenizing_Body', text_field)]\n",
        "\n",
        "train, valid, test = TabularDataset.splits(path=source_folder, train='train3.csv', validation='valid3.csv', test='test3.csv',\n",
        "                                           format='csv', fields=fields, skip_header=True)\n"
      ]
    },
    {
      "cell_type": "code",
      "execution_count": 22,
      "metadata": {
        "id": "NSKPey98jRpM"
      },
      "outputs": [],
      "source": [
        "# Iterators\n",
        "train_iter = BucketIterator(train, batch_size=16, sort_key=lambda x: len(x.Tokenizing_Body),\n",
        "                            device=device, train=True, sort=True, sort_within_batch=True)\n",
        "valid_iter = BucketIterator(valid, batch_size=16, sort_key=lambda x: len(x.Tokenizing_Body),\n",
        "                            device=device, train=True, sort=True, sort_within_batch=True)\n",
        "test_iter = Iterator(test, batch_size=16, device=device, train=False, shuffle=False, sort=False)"
      ]
    },
    {
      "cell_type": "code",
      "execution_count": 23,
      "metadata": {
        "id": "YfFxkaJq1WmC"
      },
      "outputs": [],
      "source": [
        "# Module\n",
        "class BERT(nn.Module):\n",
        "\n",
        "    def __init__(self):\n",
        "        super(BERT, self).__init__()\n",
        "\n",
        "        options_name = \"indobenchmark/indobert-base-p1\"\n",
        "        self.encoder = BertForSequenceClassification.from_pretrained(options_name)\n",
        "\n",
        "    # def forward(self, headline, body, label=None):\n",
        "    #     loss, text_fea = self.encoder(input_ids=body, attention_mask=(body!=PAD_INDEX), token_type_ids=(headline!=PAD_INDEX), labels=label)[:2]\n",
        "    def forward(self, text, label):\n",
        "        loss, text_fea = self.encoder(text, labels=label)[:2]\n",
        "\n",
        "        return loss, text_fea"
      ]
    },
    {
      "cell_type": "code",
      "execution_count": 24,
      "metadata": {
        "id": "egjaxiu51prx"
      },
      "outputs": [],
      "source": [
        "def save_checkpoint(save_path, model, valid_loss):\n",
        "    if save_path is None:\n",
        "        return\n",
        "\n",
        "    state_dict = {'model_state_dict': model.state_dict(),\n",
        "                  'valid_loss': valid_loss}\n",
        "\n",
        "    torch.save(state_dict, save_path)\n",
        "    print(f'Model saved to ==> {save_path}')\n",
        "\n",
        "\n",
        "def load_checkpoint(load_path, model):\n",
        "    if load_path is None:\n",
        "        return\n",
        "\n",
        "    state_dict = torch.load(load_path, map_location=device)\n",
        "    print(f'Model loaded from <== {load_path}')\n",
        "\n",
        "    model.load_state_dict(state_dict['model_state_dict'])\n",
        "    return state_dict['valid_loss']\n",
        "\n",
        "\n",
        "def save_metrics(save_path, train_loss_list, valid_loss_list, epoch_list):\n",
        "    if save_path is None:\n",
        "        return\n",
        "\n",
        "    state_dict = {'train_loss_list': train_loss_list,\n",
        "                  'valid_loss_list': valid_loss_list,\n",
        "                  'epoch_list': epoch_list}\n",
        "\n",
        "    torch.save(state_dict, save_path)\n",
        "    print(f'Metrics saved to ==> {save_path}')\n",
        "\n",
        "\n",
        "def load_metrics(load_path):\n",
        "    if load_path is None:\n",
        "        return\n",
        "\n",
        "    state_dict = torch.load(load_path, map_location=device)\n",
        "    print(f'Metrics loaded from <== {load_path}')\n",
        "\n",
        "    return state_dict['train_loss_list'], state_dict['valid_loss_list'], state_dict['epoch_list']"
      ]
    },
    {
      "cell_type": "markdown",
      "metadata": {
        "id": "hsAT0DKHZ1si"
      },
      "source": [
        "## Training and Validation"
      ]
    },
    {
      "cell_type": "code",
      "execution_count": 25,
      "metadata": {
        "id": "mf4FbhurXdUs"
      },
      "outputs": [],
      "source": [
        "def train(model,\n",
        "          optimizer,\n",
        "          criterion=nn.BCELoss(),\n",
        "          train_loader=train_iter,\n",
        "          valid_loader=valid_iter,\n",
        "          num_epochs=10,\n",
        "          eval_every=1,\n",
        "          file_path=destination_folder,\n",
        "          best_valid_loss=float(\"Inf\"),\n",
        "          patience=3):\n",
        "\n",
        "    # initialize running values\n",
        "    running_loss = 0.0\n",
        "    valid_running_loss = 0.0\n",
        "    train_loss_list = []\n",
        "    valid_loss_list = []\n",
        "    epoch_list = []\n",
        "    early_stopping_counter = 0\n",
        "\n",
        "    # training loop\n",
        "    model.train()\n",
        "    for epoch in range(num_epochs):\n",
        "        for (labels, title, text), _ in train_loader:\n",
        "            labels = labels.type(torch.LongTensor)\n",
        "            labels = labels.to(device)\n",
        "            text = text.type(torch.LongTensor)\n",
        "            text = text.to(device)\n",
        "            output = model(text, labels)\n",
        "            loss, _ = output\n",
        "\n",
        "            optimizer.zero_grad()\n",
        "            loss.backward()\n",
        "            optimizer.step()\n",
        "\n",
        "            # update running values\n",
        "            running_loss += loss.item()\n",
        "\n",
        "        # evaluation step\n",
        "        if epoch % eval_every == 0:\n",
        "            model.eval()\n",
        "            with torch.no_grad():\n",
        "                # validation loop\n",
        "                for (labels, title, text), _ in valid_loader:\n",
        "                    labels = labels.type(torch.LongTensor)\n",
        "                    labels = labels.to(device)\n",
        "                    text = text.type(torch.LongTensor)\n",
        "                    text = text.to(device)\n",
        "                    output = model(text, labels)\n",
        "                    loss, _ = output\n",
        "\n",
        "                    valid_running_loss += loss.item()\n",
        "\n",
        "            # evaluation\n",
        "            average_train_loss = running_loss / len(train_loader)\n",
        "            average_valid_loss = valid_running_loss / len(valid_loader)\n",
        "            train_loss_list.append(average_train_loss)\n",
        "            valid_loss_list.append(average_valid_loss)\n",
        "            epoch_list.append(epoch)\n",
        "\n",
        "            # resetting running values\n",
        "            running_loss = 0.0\n",
        "            valid_running_loss = 0.0\n",
        "            model.train()\n",
        "\n",
        "            # print progress\n",
        "            print('Epoch [{}/{}], Train Loss: {:.4f}, Valid Loss: {:.4f}'\n",
        "                  .format(epoch+1, num_epochs, average_train_loss, average_valid_loss))\n",
        "\n",
        "            # checkpoint\n",
        "            if best_valid_loss > average_valid_loss:\n",
        "                best_valid_loss = average_valid_loss\n",
        "                save_checkpoint(file_path + '/' + 'model.pt', model, best_valid_loss)\n",
        "                save_metrics(file_path + '/' + 'metrics.pt', train_loss_list, valid_loss_list, epoch_list)\n",
        "                early_stopping_counter = 0\n",
        "            else:\n",
        "                early_stopping_counter += 1\n",
        "                if early_stopping_counter >= patience:\n",
        "                    print(\"Early stopping\")\n",
        "                    break\n",
        "\n",
        "    save_metrics(file_path + '/' + 'metrics.pt', train_loss_list, valid_loss_list, epoch_list)\n",
        "    print('Finished Training!')\n",
        "    return train_loss_list, valid_loss_list, epoch_list, best_valid_loss"
      ]
    },
    {
      "cell_type": "code",
      "execution_count": 26,
      "metadata": {
        "colab": {
          "base_uri": "https://localhost:8080/"
        },
        "id": "qgEMeGkE25GR",
        "outputId": "76cf0088-6f6f-431e-bae0-db0cf26945d6"
      },
      "outputs": [
        {
          "output_type": "stream",
          "name": "stderr",
          "text": [
            "Some weights of BertForSequenceClassification were not initialized from the model checkpoint at indobenchmark/indobert-base-p1 and are newly initialized: ['classifier.bias', 'classifier.weight']\n",
            "You should probably TRAIN this model on a down-stream task to be able to use it for predictions and inference.\n"
          ]
        },
        {
          "output_type": "stream",
          "name": "stdout",
          "text": [
            "Epoch [1/10], Train Loss: 0.6521, Valid Loss: 0.7228\n",
            "Model saved to ==> /content/drive/MyDrive/TASI/Bayessian/ModelImbalance3/model.pt\n",
            "Metrics saved to ==> /content/drive/MyDrive/TASI/Bayessian/ModelImbalance3/metrics.pt\n",
            "Epoch [2/10], Train Loss: 0.6210, Valid Loss: 0.6529\n",
            "Model saved to ==> /content/drive/MyDrive/TASI/Bayessian/ModelImbalance3/model.pt\n",
            "Metrics saved to ==> /content/drive/MyDrive/TASI/Bayessian/ModelImbalance3/metrics.pt\n",
            "Epoch [3/10], Train Loss: 0.2738, Valid Loss: 0.2941\n",
            "Model saved to ==> /content/drive/MyDrive/TASI/Bayessian/ModelImbalance3/model.pt\n",
            "Metrics saved to ==> /content/drive/MyDrive/TASI/Bayessian/ModelImbalance3/metrics.pt\n",
            "Epoch [4/10], Train Loss: 0.1369, Valid Loss: 0.2067\n",
            "Model saved to ==> /content/drive/MyDrive/TASI/Bayessian/ModelImbalance3/model.pt\n",
            "Metrics saved to ==> /content/drive/MyDrive/TASI/Bayessian/ModelImbalance3/metrics.pt\n",
            "Epoch [5/10], Train Loss: 0.0909, Valid Loss: 0.1357\n",
            "Model saved to ==> /content/drive/MyDrive/TASI/Bayessian/ModelImbalance3/model.pt\n",
            "Metrics saved to ==> /content/drive/MyDrive/TASI/Bayessian/ModelImbalance3/metrics.pt\n",
            "Epoch [6/10], Train Loss: 0.0621, Valid Loss: 0.3082\n",
            "Epoch [7/10], Train Loss: 0.0442, Valid Loss: 0.0972\n",
            "Model saved to ==> /content/drive/MyDrive/TASI/Bayessian/ModelImbalance3/model.pt\n",
            "Metrics saved to ==> /content/drive/MyDrive/TASI/Bayessian/ModelImbalance3/metrics.pt\n",
            "Epoch [8/10], Train Loss: 0.0472, Valid Loss: 0.1007\n",
            "Epoch [9/10], Train Loss: 0.0306, Valid Loss: 0.1404\n",
            "Epoch [10/10], Train Loss: 0.0279, Valid Loss: 0.1502\n",
            "Early stopping\n",
            "Metrics saved to ==> /content/drive/MyDrive/TASI/Bayessian/ModelImbalance3/metrics.pt\n",
            "Finished Training!\n"
          ]
        }
      ],
      "source": [
        "model = BERT().to(device)\n",
        "optimizer = optim.Adam(model.parameters(), lr=2e-5)\n",
        "\n",
        "train_loss_list, valid_loss_list, epoch_list, best_valid_loss = train(model=model, optimizer=optimizer)"
      ]
    },
    {
      "cell_type": "code",
      "execution_count": 27,
      "metadata": {
        "id": "aB-0Up2JSsCC",
        "colab": {
          "base_uri": "https://localhost:8080/",
          "height": 466
        },
        "outputId": "c6280ae2-e49f-4dff-c364-223c39706f46"
      },
      "outputs": [
        {
          "output_type": "stream",
          "name": "stdout",
          "text": [
            "Metrics loaded from <== /content/drive/MyDrive/TASI/Bayessian/ModelImbalance3/metrics.pt\n"
          ]
        },
        {
          "output_type": "display_data",
          "data": {
            "text/plain": [
              "<Figure size 640x480 with 1 Axes>"
            ],
            "image/png": "[encoded data removed]"
          },
          "metadata": {}
        }
      ],
      "source": [
        "train_loss_list, valid_loss_list, epoch_list = load_metrics(destination_folder + '/metrics.pt')\n",
        "plt.plot(epoch_list, train_loss_list, label='Train')\n",
        "plt.plot(epoch_list, valid_loss_list, label='Valid')\n",
        "plt.xlabel('Epochs')\n",
        "plt.ylabel('Loss')\n",
        "plt.legend()\n",
        "plt.show()"
      ]
    },
    {
      "cell_type": "markdown",
      "metadata": {
        "id": "2HlW7cvQaYvl"
      },
      "source": [
        "## Testing"
      ]
    },
    {
      "cell_type": "code",
      "execution_count": 28,
      "metadata": {
        "id": "uMcQfFEFS1AB",
        "colab": {
          "base_uri": "https://localhost:8080/",
          "height": 614
        },
        "outputId": "fd6bfa20-6a35-46af-fb0f-598359538275"
      },
      "outputs": [
        {
          "output_type": "stream",
          "name": "stderr",
          "text": [
            "Some weights of BertForSequenceClassification were not initialized from the model checkpoint at indobenchmark/indobert-base-p1 and are newly initialized: ['classifier.bias', 'classifier.weight']\n",
            "You should probably TRAIN this model on a down-stream task to be able to use it for predictions and inference.\n"
          ]
        },
        {
          "output_type": "stream",
          "name": "stdout",
          "text": [
            "Model loaded from <== /content/drive/MyDrive/TASI/Bayessian/ModelImbalance3/model.pt\n",
            "Classification Report:\n",
            "Real - Precision: 0.9633, Recall: 0.9292, F1-Score: 0.9459\n",
            "Fake - Precision: 0.8632, Recall: 0.9266, F1-Score: 0.8938\n",
            "Accuracy: 0.9283582089552239\n"
          ]
        },
        {
          "output_type": "display_data",
          "data": {
            "text/plain": [
              "<Figure size 640x480 with 2 Axes>"
            ],
            "image/png": "[encoded data removed]"
          },
          "metadata": {}
        }
      ],
      "source": [
        "from sklearn.metrics import classification_report, accuracy_score, confusion_matrix\n",
        "import numpy as np\n",
        "import seaborn as sns\n",
        "import matplotlib.pyplot as plt\n",
        "\n",
        "def evaluate(model, test_loader):\n",
        "    y_pred = []\n",
        "    y_true = []\n",
        "\n",
        "    model.eval()\n",
        "    with torch.no_grad():\n",
        "        for (labels, title, text), _ in test_loader:\n",
        "            labels = labels.type(torch.LongTensor)\n",
        "            labels = labels.to(device)\n",
        "            text = text.type(torch.LongTensor)\n",
        "            text = text.to(device)\n",
        "            output = model(text, labels)\n",
        "\n",
        "            _, output = output\n",
        "            y_pred.extend(torch.argmax(output, 1).tolist())\n",
        "            y_true.extend(labels.tolist())\n",
        "\n",
        "    # Mengganti label 1 menjadi \"fake\" dan label 0 menjadi \"real\"\n",
        "    y_true = np.where(np.array(y_true) == 0, \"real\", \"fake\")\n",
        "    y_pred = np.where(np.array(y_pred) == 0, \"real\", \"fake\")\n",
        "\n",
        "    # Menghitung dan mencetak hasil precision, recall, f1-score, dan accuracy\n",
        "    report = classification_report(y_true, y_pred, labels=[\"real\", \"fake\"], digits=4, output_dict=True)\n",
        "    print('Classification Report:')\n",
        "    for label, scores in report.items():\n",
        "        if label in [\"real\", \"fake\"]:\n",
        "            precision = scores['precision']\n",
        "            recall = scores['recall']\n",
        "            f1_score = scores['f1-score']\n",
        "            print(f\"{label.capitalize()} - Precision: {precision:.4f}, Recall: {recall:.4f}, F1-Score: {f1_score:.4f}\")\n",
        "    accuracy = accuracy_score(y_true, y_pred)\n",
        "    print(f'Accuracy: {accuracy}')\n",
        "\n",
        "    # Menghitung dan mencetak confusion matrix\n",
        "    cm = confusion_matrix(y_true, y_pred, labels=[\"real\", \"fake\"])\n",
        "    ax = plt.subplot()\n",
        "    sns.heatmap(cm, annot=True, ax=ax, cmap='Blues', fmt=\"d\")\n",
        "    ax.set_title('Confusion Matrix')\n",
        "    ax.set_xlabel('Predicted Labels')\n",
        "    ax.set_ylabel('True Labels')\n",
        "    ax.xaxis.set_ticklabels(['Real', 'Fake'])\n",
        "    ax.yaxis.set_ticklabels(['Real', 'Fake'])\n",
        "    plt.show()\n",
        "\n",
        "best_model = BERT().to(device)\n",
        "\n",
        "load_checkpoint(destination_folder + '/model.pt', best_model)\n",
        "\n",
        "evaluate(best_model, test_iter)"
      ]
    },
    {
      "cell_type": "markdown",
      "metadata": {
        "id": "lH-ndpu-LdhU"
      },
      "source": [
        "##Hyperparameter Tuning Random Search with Import Optuna"
      ]
    },
    {
      "cell_type": "code",
      "execution_count": 29,
      "metadata": {
        "id": "BTVEwsVECsNB",
        "colab": {
          "base_uri": "https://localhost:8080/"
        },
        "outputId": "619792e2-7a46-4277-ebc0-1157fb4c530d"
      },
      "outputs": [
        {
          "output_type": "stream",
          "name": "stdout",
          "text": [
            "Looking in indexes: https://pypi.org/simple, https://us-python.pkg.dev/colab-wheels/public/simple/\n",
            "Collecting optuna\n",
            "  Downloading optuna-3.2.0-py3-none-any.whl (390 kB)\n",
            "\u001b[2K     \u001b[90m━━━━━━━━━━━━━━━━━━━━━━━━━━━━━━━━━━━━━━\u001b[0m \u001b[32m390.6/390.6 kB\u001b[0m \u001b[31m15.0 MB/s\u001b[0m eta \u001b[36m0:00:00\u001b[0m\n",
            "\u001b[?25hCollecting alembic>=1.5.0 (from optuna)\n",
            "  Downloading alembic-1.11.1-py3-none-any.whl (224 kB)\n",
            "\u001b[2K     \u001b[90m━━━━━━━━━━━━━━━━━━━━━━━━━━━━━━━━━━━━━━\u001b[0m \u001b[32m224.5/224.5 kB\u001b[0m \u001b[31m27.5 MB/s\u001b[0m eta \u001b[36m0:00:00\u001b[0m\n",
            "\u001b[?25hCollecting cmaes>=0.9.1 (from optuna)\n",
            "  Downloading cmaes-0.9.1-py3-none-any.whl (21 kB)\n",
            "Collecting colorlog (from optuna)\n",
            "  Downloading colorlog-6.7.0-py2.py3-none-any.whl (11 kB)\n",
            "Requirement already satisfied: numpy in /usr/local/lib/python3.10/dist-packages (from optuna) (1.22.4)\n",
            "Requirement already satisfied: packaging>=20.0 in /usr/local/lib/python3.10/dist-packages (from optuna) (23.1)\n",
            "Requirement already satisfied: sqlalchemy>=1.3.0 in /usr/local/lib/python3.10/dist-packages (from optuna) (2.0.10)\n",
            "Requirement already satisfied: tqdm in /usr/local/lib/python3.10/dist-packages (from optuna) (4.65.0)\n",
            "Requirement already satisfied: PyYAML in /usr/local/lib/python3.10/dist-packages (from optuna) (6.0)\n",
            "Collecting Mako (from alembic>=1.5.0->optuna)\n",
            "  Downloading Mako-1.2.4-py3-none-any.whl (78 kB)\n",
            "\u001b[2K     \u001b[90m━━━━━━━━━━━━━━━━━━━━━━━━━━━━━━━━━━━━━━━━\u001b[0m \u001b[32m78.7/78.7 kB\u001b[0m \u001b[31m9.2 MB/s\u001b[0m eta \u001b[36m0:00:00\u001b[0m\n",
            "\u001b[?25hRequirement already satisfied: typing-extensions>=4 in /usr/local/lib/python3.10/dist-packages (from alembic>=1.5.0->optuna) (4.5.0)\n",
            "Requirement already satisfied: greenlet!=0.4.17 in /usr/local/lib/python3.10/dist-packages (from sqlalchemy>=1.3.0->optuna) (2.0.2)\n",
            "Requirement already satisfied: MarkupSafe>=0.9.2 in /usr/local/lib/python3.10/dist-packages (from Mako->alembic>=1.5.0->optuna) (2.1.2)\n",
            "Installing collected packages: Mako, colorlog, cmaes, alembic, optuna\n",
            "Successfully installed Mako-1.2.4 alembic-1.11.1 cmaes-0.9.1 colorlog-6.7.0 optuna-3.2.0\n"
          ]
        }
      ],
      "source": [
        "!pip install optuna"
      ]
    },
    {
      "cell_type": "code",
      "execution_count": 31,
      "metadata": {
        "id": "m4ZRW3Odyw8F",
        "colab": {
          "base_uri": "https://localhost:8080/"
        },
        "outputId": "84b7fa65-5b67-4aa0-e319-7bf912c0ef28"
      },
      "outputs": [
        {
          "output_type": "stream",
          "name": "stderr",
          "text": [
            "[I 2023-06-20 12:55:06,602] A new study created in memory with name: no-name-d2c3966b-7f12-4258-89cb-a36a33759a1b\n",
            "Some weights of BertForSequenceClassification were not initialized from the model checkpoint at indobenchmark/indobert-base-p1 and are newly initialized: ['classifier.bias', 'classifier.weight']\n",
            "You should probably TRAIN this model on a down-stream task to be able to use it for predictions and inference.\n"
          ]
        },
        {
          "output_type": "stream",
          "name": "stdout",
          "text": [
            "Epoch [1/9], Train Loss: 0.6635, Valid Loss: 0.6275\n",
            "Model saved to ==> /content/drive/MyDrive/TASI/Bayessian/ModelImbalance3/model.pt\n",
            "Metrics saved to ==> /content/drive/MyDrive/TASI/Bayessian/ModelImbalance3/metrics.pt\n",
            "Epoch [2/9], Train Loss: 0.6493, Valid Loss: 0.6600\n",
            "Epoch [3/9], Train Loss: 0.3422, Valid Loss: 0.2393\n",
            "Model saved to ==> /content/drive/MyDrive/TASI/Bayessian/ModelImbalance3/model.pt\n",
            "Metrics saved to ==> /content/drive/MyDrive/TASI/Bayessian/ModelImbalance3/metrics.pt\n",
            "Epoch [4/9], Train Loss: 0.2519, Valid Loss: 0.2249\n",
            "Model saved to ==> /content/drive/MyDrive/TASI/Bayessian/ModelImbalance3/model.pt\n",
            "Metrics saved to ==> /content/drive/MyDrive/TASI/Bayessian/ModelImbalance3/metrics.pt\n",
            "Epoch [5/9], Train Loss: 0.1368, Valid Loss: 0.2419\n",
            "Epoch [6/9], Train Loss: 0.0878, Valid Loss: 0.2166\n",
            "Model saved to ==> /content/drive/MyDrive/TASI/Bayessian/ModelImbalance3/model.pt\n",
            "Metrics saved to ==> /content/drive/MyDrive/TASI/Bayessian/ModelImbalance3/metrics.pt\n",
            "Epoch [7/9], Train Loss: 0.0780, Valid Loss: 0.2738\n",
            "Epoch [8/9], Train Loss: 0.0600, Valid Loss: 0.3525\n",
            "Epoch [9/9], Train Loss: 0.0290, Valid Loss: 0.2653\n",
            "Early stopping\n",
            "Metrics saved to ==> /content/drive/MyDrive/TASI/Bayessian/ModelImbalance3/metrics.pt\n",
            "Finished Training!\n"
          ]
        },
        {
          "output_type": "stream",
          "name": "stderr",
          "text": [
            "[I 2023-06-20 12:58:28,166] Trial 0 finished with value: 0.21662789919147535 and parameters: {'lr': 3e-05, 'num_epochs': 9, 'batch_size': 16}. Best is trial 0 with value: 0.21662789919147535.\n",
            "Some weights of BertForSequenceClassification were not initialized from the model checkpoint at indobenchmark/indobert-base-p1 and are newly initialized: ['classifier.bias', 'classifier.weight']\n",
            "You should probably TRAIN this model on a down-stream task to be able to use it for predictions and inference.\n"
          ]
        },
        {
          "output_type": "stream",
          "name": "stdout",
          "text": [
            "Epoch [1/8], Train Loss: 0.6303, Valid Loss: 0.6188\n",
            "Model saved to ==> /content/drive/MyDrive/TASI/Bayessian/ModelImbalance3/model.pt\n",
            "Metrics saved to ==> /content/drive/MyDrive/TASI/Bayessian/ModelImbalance3/metrics.pt\n",
            "Epoch [2/8], Train Loss: 0.3532, Valid Loss: 0.2698\n",
            "Model saved to ==> /content/drive/MyDrive/TASI/Bayessian/ModelImbalance3/model.pt\n",
            "Metrics saved to ==> /content/drive/MyDrive/TASI/Bayessian/ModelImbalance3/metrics.pt\n",
            "Epoch [3/8], Train Loss: 0.2394, Valid Loss: 0.2208\n",
            "Model saved to ==> /content/drive/MyDrive/TASI/Bayessian/ModelImbalance3/model.pt\n",
            "Metrics saved to ==> /content/drive/MyDrive/TASI/Bayessian/ModelImbalance3/metrics.pt\n",
            "Epoch [4/8], Train Loss: 0.1445, Valid Loss: 0.1415\n",
            "Model saved to ==> /content/drive/MyDrive/TASI/Bayessian/ModelImbalance3/model.pt\n",
            "Metrics saved to ==> /content/drive/MyDrive/TASI/Bayessian/ModelImbalance3/metrics.pt\n",
            "Epoch [5/8], Train Loss: 0.0859, Valid Loss: 0.1296\n",
            "Model saved to ==> /content/drive/MyDrive/TASI/Bayessian/ModelImbalance3/model.pt\n",
            "Metrics saved to ==> /content/drive/MyDrive/TASI/Bayessian/ModelImbalance3/metrics.pt\n",
            "Epoch [6/8], Train Loss: 0.0388, Valid Loss: 0.1302\n",
            "Epoch [7/8], Train Loss: 0.0153, Valid Loss: 0.1745\n",
            "Epoch [8/8], Train Loss: 0.0160, Valid Loss: 0.2796\n",
            "Early stopping\n",
            "Metrics saved to ==> /content/drive/MyDrive/TASI/Bayessian/ModelImbalance3/metrics.pt\n",
            "Finished Training!\n"
          ]
        },
        {
          "output_type": "stream",
          "name": "stderr",
          "text": [
            "[I 2023-06-20 13:01:25,039] Trial 1 finished with value: 0.12957737079289341 and parameters: {'lr': 2e-05, 'num_epochs': 8, 'batch_size': 16}. Best is trial 1 with value: 0.12957737079289341.\n",
            "Some weights of BertForSequenceClassification were not initialized from the model checkpoint at indobenchmark/indobert-base-p1 and are newly initialized: ['classifier.bias', 'classifier.weight']\n",
            "You should probably TRAIN this model on a down-stream task to be able to use it for predictions and inference.\n"
          ]
        },
        {
          "output_type": "stream",
          "name": "stdout",
          "text": [
            "Epoch [1/5], Train Loss: 0.6075, Valid Loss: 0.3939\n",
            "Model saved to ==> /content/drive/MyDrive/TASI/Bayessian/ModelImbalance3/model.pt\n",
            "Metrics saved to ==> /content/drive/MyDrive/TASI/Bayessian/ModelImbalance3/metrics.pt\n",
            "Epoch [2/5], Train Loss: 0.2623, Valid Loss: 0.3001\n",
            "Model saved to ==> /content/drive/MyDrive/TASI/Bayessian/ModelImbalance3/model.pt\n",
            "Metrics saved to ==> /content/drive/MyDrive/TASI/Bayessian/ModelImbalance3/metrics.pt\n",
            "Epoch [3/5], Train Loss: 0.1647, Valid Loss: 0.3010\n",
            "Epoch [4/5], Train Loss: 0.1287, Valid Loss: 0.4038\n",
            "Epoch [5/5], Train Loss: 0.1300, Valid Loss: 0.2415\n"
          ]
        },
        {
          "output_type": "stream",
          "name": "stderr",
          "text": [
            "[I 2023-06-20 13:03:14,950] Trial 2 pruned. \n"
          ]
        },
        {
          "output_type": "stream",
          "name": "stdout",
          "text": [
            "Model saved to ==> /content/drive/MyDrive/TASI/Bayessian/ModelImbalance3/model.pt\n",
            "Metrics saved to ==> /content/drive/MyDrive/TASI/Bayessian/ModelImbalance3/metrics.pt\n",
            "Metrics saved to ==> /content/drive/MyDrive/TASI/Bayessian/ModelImbalance3/metrics.pt\n",
            "Finished Training!\n",
            "Validation loss hasn't improved in the last 3 epochs. Stopping early.\n"
          ]
        },
        {
          "output_type": "stream",
          "name": "stderr",
          "text": [
            "Some weights of BertForSequenceClassification were not initialized from the model checkpoint at indobenchmark/indobert-base-p1 and are newly initialized: ['classifier.bias', 'classifier.weight']\n",
            "You should probably TRAIN this model on a down-stream task to be able to use it for predictions and inference.\n"
          ]
        },
        {
          "output_type": "stream",
          "name": "stdout",
          "text": [
            "Epoch [1/7], Train Loss: 0.6731, Valid Loss: 0.6500\n",
            "Model saved to ==> /content/drive/MyDrive/TASI/Bayessian/ModelImbalance3/model.pt\n",
            "Metrics saved to ==> /content/drive/MyDrive/TASI/Bayessian/ModelImbalance3/metrics.pt\n",
            "Epoch [2/7], Train Loss: 0.5612, Valid Loss: 0.6492\n",
            "Model saved to ==> /content/drive/MyDrive/TASI/Bayessian/ModelImbalance3/model.pt\n",
            "Metrics saved to ==> /content/drive/MyDrive/TASI/Bayessian/ModelImbalance3/metrics.pt\n",
            "Epoch [3/7], Train Loss: 0.2740, Valid Loss: 0.2656\n",
            "Model saved to ==> /content/drive/MyDrive/TASI/Bayessian/ModelImbalance3/model.pt\n",
            "Metrics saved to ==> /content/drive/MyDrive/TASI/Bayessian/ModelImbalance3/metrics.pt\n",
            "Epoch [4/7], Train Loss: 0.1765, Valid Loss: 0.2973\n",
            "Epoch [5/7], Train Loss: 0.1282, Valid Loss: 0.3949\n",
            "Epoch [6/7], Train Loss: 0.0746, Valid Loss: 0.2012\n",
            "Model saved to ==> /content/drive/MyDrive/TASI/Bayessian/ModelImbalance3/model.pt\n",
            "Metrics saved to ==> /content/drive/MyDrive/TASI/Bayessian/ModelImbalance3/metrics.pt\n"
          ]
        },
        {
          "output_type": "stream",
          "name": "stderr",
          "text": [
            "[I 2023-06-20 13:05:46,792] Trial 3 pruned. \n"
          ]
        },
        {
          "output_type": "stream",
          "name": "stdout",
          "text": [
            "Epoch [7/7], Train Loss: 0.0398, Valid Loss: 0.3657\n",
            "Metrics saved to ==> /content/drive/MyDrive/TASI/Bayessian/ModelImbalance3/metrics.pt\n",
            "Finished Training!\n",
            "Validation loss hasn't improved in the last 3 epochs. Stopping early.\n"
          ]
        },
        {
          "output_type": "stream",
          "name": "stderr",
          "text": [
            "Some weights of BertForSequenceClassification were not initialized from the model checkpoint at indobenchmark/indobert-base-p1 and are newly initialized: ['classifier.bias', 'classifier.weight']\n",
            "You should probably TRAIN this model on a down-stream task to be able to use it for predictions and inference.\n"
          ]
        },
        {
          "output_type": "stream",
          "name": "stdout",
          "text": [
            "Epoch [1/8], Train Loss: 0.5534, Valid Loss: 0.3662\n",
            "Model saved to ==> /content/drive/MyDrive/TASI/Bayessian/ModelImbalance3/model.pt\n",
            "Metrics saved to ==> /content/drive/MyDrive/TASI/Bayessian/ModelImbalance3/metrics.pt\n",
            "Epoch [2/8], Train Loss: 0.2912, Valid Loss: 0.2430\n",
            "Model saved to ==> /content/drive/MyDrive/TASI/Bayessian/ModelImbalance3/model.pt\n",
            "Metrics saved to ==> /content/drive/MyDrive/TASI/Bayessian/ModelImbalance3/metrics.pt\n",
            "Epoch [3/8], Train Loss: 0.1677, Valid Loss: 0.2443\n",
            "Epoch [4/8], Train Loss: 0.0968, Valid Loss: 0.2002\n",
            "Model saved to ==> /content/drive/MyDrive/TASI/Bayessian/ModelImbalance3/model.pt\n",
            "Metrics saved to ==> /content/drive/MyDrive/TASI/Bayessian/ModelImbalance3/metrics.pt\n",
            "Epoch [5/8], Train Loss: 0.0481, Valid Loss: 0.2686\n",
            "Epoch [6/8], Train Loss: 0.0345, Valid Loss: 0.1818\n",
            "Model saved to ==> /content/drive/MyDrive/TASI/Bayessian/ModelImbalance3/model.pt\n",
            "Metrics saved to ==> /content/drive/MyDrive/TASI/Bayessian/ModelImbalance3/metrics.pt\n",
            "Epoch [7/8], Train Loss: 0.0276, Valid Loss: 0.3561\n",
            "Epoch [8/8], Train Loss: 0.0307, Valid Loss: 0.1279\n",
            "Model saved to ==> /content/drive/MyDrive/TASI/Bayessian/ModelImbalance3/model.pt\n",
            "Metrics saved to ==> /content/drive/MyDrive/TASI/Bayessian/ModelImbalance3/metrics.pt\n",
            "Metrics saved to ==> /content/drive/MyDrive/TASI/Bayessian/ModelImbalance3/metrics.pt\n",
            "Finished Training!\n"
          ]
        },
        {
          "output_type": "stream",
          "name": "stderr",
          "text": [
            "[I 2023-06-20 13:08:45,477] Trial 4 finished with value: 0.12788819306297228 and parameters: {'lr': 3e-05, 'num_epochs': 8, 'batch_size': 16}. Best is trial 4 with value: 0.12788819306297228.\n",
            "Some weights of BertForSequenceClassification were not initialized from the model checkpoint at indobenchmark/indobert-base-p1 and are newly initialized: ['classifier.bias', 'classifier.weight']\n",
            "You should probably TRAIN this model on a down-stream task to be able to use it for predictions and inference.\n"
          ]
        },
        {
          "output_type": "stream",
          "name": "stdout",
          "text": [
            "Epoch [1/9], Train Loss: 0.6604, Valid Loss: 0.6327\n",
            "Model saved to ==> /content/drive/MyDrive/TASI/Bayessian/ModelImbalance3/model.pt\n",
            "Metrics saved to ==> /content/drive/MyDrive/TASI/Bayessian/ModelImbalance3/metrics.pt\n",
            "Epoch [2/9], Train Loss: 0.5054, Valid Loss: 0.4449\n",
            "Model saved to ==> /content/drive/MyDrive/TASI/Bayessian/ModelImbalance3/model.pt\n",
            "Metrics saved to ==> /content/drive/MyDrive/TASI/Bayessian/ModelImbalance3/metrics.pt\n",
            "Epoch [3/9], Train Loss: 0.2830, Valid Loss: 0.2342\n",
            "Model saved to ==> /content/drive/MyDrive/TASI/Bayessian/ModelImbalance3/model.pt\n",
            "Metrics saved to ==> /content/drive/MyDrive/TASI/Bayessian/ModelImbalance3/metrics.pt\n",
            "Epoch [4/9], Train Loss: 0.1715, Valid Loss: 0.2126\n",
            "Model saved to ==> /content/drive/MyDrive/TASI/Bayessian/ModelImbalance3/model.pt\n",
            "Metrics saved to ==> /content/drive/MyDrive/TASI/Bayessian/ModelImbalance3/metrics.pt\n",
            "Epoch [5/9], Train Loss: 0.0932, Valid Loss: 0.1839\n",
            "Model saved to ==> /content/drive/MyDrive/TASI/Bayessian/ModelImbalance3/model.pt\n",
            "Metrics saved to ==> /content/drive/MyDrive/TASI/Bayessian/ModelImbalance3/metrics.pt\n",
            "Epoch [6/9], Train Loss: 0.0372, Valid Loss: 0.1676\n",
            "Model saved to ==> /content/drive/MyDrive/TASI/Bayessian/ModelImbalance3/model.pt\n",
            "Metrics saved to ==> /content/drive/MyDrive/TASI/Bayessian/ModelImbalance3/metrics.pt\n",
            "Epoch [7/9], Train Loss: 0.0142, Valid Loss: 0.2298\n",
            "Epoch [8/9], Train Loss: 0.0244, Valid Loss: 0.4000\n"
          ]
        },
        {
          "output_type": "stream",
          "name": "stderr",
          "text": [
            "[I 2023-06-20 13:12:03,106] Trial 5 pruned. \n"
          ]
        },
        {
          "output_type": "stream",
          "name": "stdout",
          "text": [
            "Epoch [9/9], Train Loss: 0.0307, Valid Loss: 0.3554\n",
            "Early stopping\n",
            "Metrics saved to ==> /content/drive/MyDrive/TASI/Bayessian/ModelImbalance3/metrics.pt\n",
            "Finished Training!\n",
            "Validation loss hasn't improved in the last 3 epochs. Stopping early.\n"
          ]
        },
        {
          "output_type": "stream",
          "name": "stderr",
          "text": [
            "Some weights of BertForSequenceClassification were not initialized from the model checkpoint at indobenchmark/indobert-base-p1 and are newly initialized: ['classifier.bias', 'classifier.weight']\n",
            "You should probably TRAIN this model on a down-stream task to be able to use it for predictions and inference.\n"
          ]
        },
        {
          "output_type": "stream",
          "name": "stdout",
          "text": [
            "Epoch [1/5], Train Loss: 0.6462, Valid Loss: 0.5631\n",
            "Model saved to ==> /content/drive/MyDrive/TASI/Bayessian/ModelImbalance3/model.pt\n",
            "Metrics saved to ==> /content/drive/MyDrive/TASI/Bayessian/ModelImbalance3/metrics.pt\n",
            "Epoch [2/5], Train Loss: 0.3833, Valid Loss: 0.3708\n",
            "Model saved to ==> /content/drive/MyDrive/TASI/Bayessian/ModelImbalance3/model.pt\n",
            "Metrics saved to ==> /content/drive/MyDrive/TASI/Bayessian/ModelImbalance3/metrics.pt\n",
            "Epoch [3/5], Train Loss: 0.2002, Valid Loss: 0.1963\n",
            "Model saved to ==> /content/drive/MyDrive/TASI/Bayessian/ModelImbalance3/model.pt\n",
            "Metrics saved to ==> /content/drive/MyDrive/TASI/Bayessian/ModelImbalance3/metrics.pt\n",
            "Epoch [4/5], Train Loss: 0.1356, Valid Loss: 0.2328\n"
          ]
        },
        {
          "output_type": "stream",
          "name": "stderr",
          "text": [
            "[I 2023-06-20 13:13:52,921] Trial 6 pruned. \n"
          ]
        },
        {
          "output_type": "stream",
          "name": "stdout",
          "text": [
            "Epoch [5/5], Train Loss: 0.0728, Valid Loss: 0.2567\n",
            "Metrics saved to ==> /content/drive/MyDrive/TASI/Bayessian/ModelImbalance3/metrics.pt\n",
            "Finished Training!\n",
            "Validation loss hasn't improved in the last 3 epochs. Stopping early.\n"
          ]
        },
        {
          "output_type": "stream",
          "name": "stderr",
          "text": [
            "Some weights of BertForSequenceClassification were not initialized from the model checkpoint at indobenchmark/indobert-base-p1 and are newly initialized: ['classifier.bias', 'classifier.weight']\n",
            "You should probably TRAIN this model on a down-stream task to be able to use it for predictions and inference.\n"
          ]
        },
        {
          "output_type": "stream",
          "name": "stdout",
          "text": [
            "Epoch [1/5], Train Loss: 0.6562, Valid Loss: 0.6472\n",
            "Model saved to ==> /content/drive/MyDrive/TASI/Bayessian/ModelImbalance3/model.pt\n",
            "Metrics saved to ==> /content/drive/MyDrive/TASI/Bayessian/ModelImbalance3/metrics.pt\n",
            "Epoch [2/5], Train Loss: 0.4704, Valid Loss: 0.9439\n",
            "Epoch [3/5], Train Loss: 0.2119, Valid Loss: 0.5011\n",
            "Model saved to ==> /content/drive/MyDrive/TASI/Bayessian/ModelImbalance3/model.pt\n",
            "Metrics saved to ==> /content/drive/MyDrive/TASI/Bayessian/ModelImbalance3/metrics.pt\n",
            "Epoch [4/5], Train Loss: 0.1305, Valid Loss: 0.3831\n",
            "Model saved to ==> /content/drive/MyDrive/TASI/Bayessian/ModelImbalance3/model.pt\n",
            "Metrics saved to ==> /content/drive/MyDrive/TASI/Bayessian/ModelImbalance3/metrics.pt\n",
            "Epoch [5/5], Train Loss: 0.0813, Valid Loss: 0.1671\n"
          ]
        },
        {
          "output_type": "stream",
          "name": "stderr",
          "text": [
            "[I 2023-06-20 13:15:45,356] Trial 7 pruned. \n"
          ]
        },
        {
          "output_type": "stream",
          "name": "stdout",
          "text": [
            "Model saved to ==> /content/drive/MyDrive/TASI/Bayessian/ModelImbalance3/model.pt\n",
            "Metrics saved to ==> /content/drive/MyDrive/TASI/Bayessian/ModelImbalance3/metrics.pt\n",
            "Metrics saved to ==> /content/drive/MyDrive/TASI/Bayessian/ModelImbalance3/metrics.pt\n",
            "Finished Training!\n",
            "Validation loss hasn't improved in the last 3 epochs. Stopping early.\n"
          ]
        },
        {
          "output_type": "stream",
          "name": "stderr",
          "text": [
            "Some weights of BertForSequenceClassification were not initialized from the model checkpoint at indobenchmark/indobert-base-p1 and are newly initialized: ['classifier.bias', 'classifier.weight']\n",
            "You should probably TRAIN this model on a down-stream task to be able to use it for predictions and inference.\n"
          ]
        },
        {
          "output_type": "stream",
          "name": "stdout",
          "text": [
            "Epoch [1/8], Train Loss: 0.6800, Valid Loss: 0.6454\n",
            "Model saved to ==> /content/drive/MyDrive/TASI/Bayessian/ModelImbalance3/model.pt\n",
            "Metrics saved to ==> /content/drive/MyDrive/TASI/Bayessian/ModelImbalance3/metrics.pt\n",
            "Epoch [2/8], Train Loss: 0.6677, Valid Loss: 0.6533\n",
            "Epoch [3/8], Train Loss: 0.5810, Valid Loss: 0.3656\n",
            "Model saved to ==> /content/drive/MyDrive/TASI/Bayessian/ModelImbalance3/model.pt\n",
            "Metrics saved to ==> /content/drive/MyDrive/TASI/Bayessian/ModelImbalance3/metrics.pt\n",
            "Epoch [4/8], Train Loss: 0.3226, Valid Loss: 0.2620\n",
            "Model saved to ==> /content/drive/MyDrive/TASI/Bayessian/ModelImbalance3/model.pt\n",
            "Metrics saved to ==> /content/drive/MyDrive/TASI/Bayessian/ModelImbalance3/metrics.pt\n",
            "Epoch [5/8], Train Loss: 0.1928, Valid Loss: 0.1828\n",
            "Model saved to ==> /content/drive/MyDrive/TASI/Bayessian/ModelImbalance3/model.pt\n",
            "Metrics saved to ==> /content/drive/MyDrive/TASI/Bayessian/ModelImbalance3/metrics.pt\n",
            "Epoch [6/8], Train Loss: 0.0987, Valid Loss: 0.2168\n",
            "Epoch [7/8], Train Loss: 0.0283, Valid Loss: 0.2048\n"
          ]
        },
        {
          "output_type": "stream",
          "name": "stderr",
          "text": [
            "[I 2023-06-20 13:18:39,305] Trial 8 pruned. \n"
          ]
        },
        {
          "output_type": "stream",
          "name": "stdout",
          "text": [
            "Epoch [8/8], Train Loss: 0.0256, Valid Loss: 0.2149\n",
            "Early stopping\n",
            "Metrics saved to ==> /content/drive/MyDrive/TASI/Bayessian/ModelImbalance3/metrics.pt\n",
            "Finished Training!\n",
            "Validation loss hasn't improved in the last 3 epochs. Stopping early.\n"
          ]
        },
        {
          "output_type": "stream",
          "name": "stderr",
          "text": [
            "Some weights of BertForSequenceClassification were not initialized from the model checkpoint at indobenchmark/indobert-base-p1 and are newly initialized: ['classifier.bias', 'classifier.weight']\n",
            "You should probably TRAIN this model on a down-stream task to be able to use it for predictions and inference.\n"
          ]
        },
        {
          "output_type": "stream",
          "name": "stdout",
          "text": [
            "Epoch [1/7], Train Loss: 0.6405, Valid Loss: 0.6272\n",
            "Model saved to ==> /content/drive/MyDrive/TASI/Bayessian/ModelImbalance3/model.pt\n",
            "Metrics saved to ==> /content/drive/MyDrive/TASI/Bayessian/ModelImbalance3/metrics.pt\n",
            "Epoch [2/7], Train Loss: 0.4117, Valid Loss: 0.4827\n",
            "Model saved to ==> /content/drive/MyDrive/TASI/Bayessian/ModelImbalance3/model.pt\n",
            "Metrics saved to ==> /content/drive/MyDrive/TASI/Bayessian/ModelImbalance3/metrics.pt\n",
            "Epoch [3/7], Train Loss: 0.2581, Valid Loss: 0.2345\n",
            "Model saved to ==> /content/drive/MyDrive/TASI/Bayessian/ModelImbalance3/model.pt\n",
            "Metrics saved to ==> /content/drive/MyDrive/TASI/Bayessian/ModelImbalance3/metrics.pt\n",
            "Epoch [4/7], Train Loss: 0.1730, Valid Loss: 0.2561\n",
            "Epoch [5/7], Train Loss: 0.1186, Valid Loss: 0.3212\n"
          ]
        },
        {
          "output_type": "stream",
          "name": "stderr",
          "text": [
            "[I 2023-06-20 13:20:49,426] Trial 9 pruned. \n"
          ]
        },
        {
          "output_type": "stream",
          "name": "stdout",
          "text": [
            "Epoch [6/7], Train Loss: 0.0721, Valid Loss: 0.4628\n",
            "Early stopping\n",
            "Metrics saved to ==> /content/drive/MyDrive/TASI/Bayessian/ModelImbalance3/metrics.pt\n",
            "Finished Training!\n",
            "Validation loss hasn't improved in the last 3 epochs. Stopping early.\n"
          ]
        },
        {
          "output_type": "stream",
          "name": "stderr",
          "text": [
            "Some weights of BertForSequenceClassification were not initialized from the model checkpoint at indobenchmark/indobert-base-p1 and are newly initialized: ['classifier.bias', 'classifier.weight']\n",
            "You should probably TRAIN this model on a down-stream task to be able to use it for predictions and inference.\n"
          ]
        },
        {
          "output_type": "stream",
          "name": "stdout",
          "text": [
            "Epoch [1/10], Train Loss: 0.6320, Valid Loss: 0.6227\n",
            "Model saved to ==> /content/drive/MyDrive/TASI/Bayessian/ModelImbalance3/model.pt\n",
            "Metrics saved to ==> /content/drive/MyDrive/TASI/Bayessian/ModelImbalance3/metrics.pt\n",
            "Epoch [2/10], Train Loss: 0.3371, Valid Loss: 0.1990\n",
            "Model saved to ==> /content/drive/MyDrive/TASI/Bayessian/ModelImbalance3/model.pt\n",
            "Metrics saved to ==> /content/drive/MyDrive/TASI/Bayessian/ModelImbalance3/metrics.pt\n",
            "Epoch [3/10], Train Loss: 0.1810, Valid Loss: 0.1798\n",
            "Model saved to ==> /content/drive/MyDrive/TASI/Bayessian/ModelImbalance3/model.pt\n",
            "Metrics saved to ==> /content/drive/MyDrive/TASI/Bayessian/ModelImbalance3/metrics.pt\n",
            "Epoch [4/10], Train Loss: 0.0919, Valid Loss: 0.1597\n",
            "Model saved to ==> /content/drive/MyDrive/TASI/Bayessian/ModelImbalance3/model.pt\n",
            "Metrics saved to ==> /content/drive/MyDrive/TASI/Bayessian/ModelImbalance3/metrics.pt\n",
            "Epoch [5/10], Train Loss: 0.0386, Valid Loss: 0.2353\n",
            "Epoch [6/10], Train Loss: 0.0192, Valid Loss: 0.2455\n"
          ]
        },
        {
          "output_type": "stream",
          "name": "stderr",
          "text": [
            "[I 2023-06-20 13:23:22,110] Trial 10 pruned. \n"
          ]
        },
        {
          "output_type": "stream",
          "name": "stdout",
          "text": [
            "Epoch [7/10], Train Loss: 0.0613, Valid Loss: 0.2137\n",
            "Early stopping\n",
            "Metrics saved to ==> /content/drive/MyDrive/TASI/Bayessian/ModelImbalance3/metrics.pt\n",
            "Finished Training!\n",
            "Validation loss hasn't improved in the last 3 epochs. Stopping early.\n"
          ]
        },
        {
          "output_type": "stream",
          "name": "stderr",
          "text": [
            "Some weights of BertForSequenceClassification were not initialized from the model checkpoint at indobenchmark/indobert-base-p1 and are newly initialized: ['classifier.bias', 'classifier.weight']\n",
            "You should probably TRAIN this model on a down-stream task to be able to use it for predictions and inference.\n"
          ]
        },
        {
          "output_type": "stream",
          "name": "stdout",
          "text": [
            "Epoch [1/8], Train Loss: 0.6800, Valid Loss: 0.6585\n",
            "Model saved to ==> /content/drive/MyDrive/TASI/Bayessian/ModelImbalance3/model.pt\n",
            "Metrics saved to ==> /content/drive/MyDrive/TASI/Bayessian/ModelImbalance3/metrics.pt\n",
            "Epoch [2/8], Train Loss: 0.6879, Valid Loss: 0.6836\n",
            "Epoch [3/8], Train Loss: 0.6772, Valid Loss: 0.6788\n"
          ]
        },
        {
          "output_type": "stream",
          "name": "stderr",
          "text": [
            "[I 2023-06-20 13:24:47,095] Trial 11 pruned. \n"
          ]
        },
        {
          "output_type": "stream",
          "name": "stdout",
          "text": [
            "Epoch [4/8], Train Loss: 0.6600, Valid Loss: 0.6997\n",
            "Early stopping\n",
            "Metrics saved to ==> /content/drive/MyDrive/TASI/Bayessian/ModelImbalance3/metrics.pt\n",
            "Finished Training!\n",
            "Validation loss hasn't improved in the last 3 epochs. Stopping early.\n"
          ]
        },
        {
          "output_type": "stream",
          "name": "stderr",
          "text": [
            "Some weights of BertForSequenceClassification were not initialized from the model checkpoint at indobenchmark/indobert-base-p1 and are newly initialized: ['classifier.bias', 'classifier.weight']\n",
            "You should probably TRAIN this model on a down-stream task to be able to use it for predictions and inference.\n"
          ]
        },
        {
          "output_type": "stream",
          "name": "stdout",
          "text": [
            "Epoch [1/8], Train Loss: 0.6812, Valid Loss: 0.6935\n",
            "Model saved to ==> /content/drive/MyDrive/TASI/Bayessian/ModelImbalance3/model.pt\n",
            "Metrics saved to ==> /content/drive/MyDrive/TASI/Bayessian/ModelImbalance3/metrics.pt\n",
            "Epoch [2/8], Train Loss: 0.6744, Valid Loss: 0.6053\n",
            "Model saved to ==> /content/drive/MyDrive/TASI/Bayessian/ModelImbalance3/model.pt\n",
            "Metrics saved to ==> /content/drive/MyDrive/TASI/Bayessian/ModelImbalance3/metrics.pt\n",
            "Epoch [3/8], Train Loss: 0.3583, Valid Loss: 0.3045\n",
            "Model saved to ==> /content/drive/MyDrive/TASI/Bayessian/ModelImbalance3/model.pt\n",
            "Metrics saved to ==> /content/drive/MyDrive/TASI/Bayessian/ModelImbalance3/metrics.pt\n",
            "Epoch [4/8], Train Loss: 0.2035, Valid Loss: 0.2046\n",
            "Model saved to ==> /content/drive/MyDrive/TASI/Bayessian/ModelImbalance3/model.pt\n",
            "Metrics saved to ==> /content/drive/MyDrive/TASI/Bayessian/ModelImbalance3/metrics.pt\n",
            "Epoch [5/8], Train Loss: 0.1084, Valid Loss: 0.2139\n",
            "Epoch [6/8], Train Loss: 0.0644, Valid Loss: 0.1983\n",
            "Model saved to ==> /content/drive/MyDrive/TASI/Bayessian/ModelImbalance3/model.pt\n",
            "Metrics saved to ==> /content/drive/MyDrive/TASI/Bayessian/ModelImbalance3/metrics.pt\n",
            "Epoch [7/8], Train Loss: 0.0472, Valid Loss: 0.2802\n",
            "Epoch [8/8], Train Loss: 0.0240, Valid Loss: 0.1889\n"
          ]
        },
        {
          "output_type": "stream",
          "name": "stderr",
          "text": [
            "[I 2023-06-20 13:27:52,195] Trial 12 pruned. \n"
          ]
        },
        {
          "output_type": "stream",
          "name": "stdout",
          "text": [
            "Model saved to ==> /content/drive/MyDrive/TASI/Bayessian/ModelImbalance3/model.pt\n",
            "Metrics saved to ==> /content/drive/MyDrive/TASI/Bayessian/ModelImbalance3/metrics.pt\n",
            "Metrics saved to ==> /content/drive/MyDrive/TASI/Bayessian/ModelImbalance3/metrics.pt\n",
            "Finished Training!\n",
            "Validation loss hasn't improved in the last 3 epochs. Stopping early.\n"
          ]
        },
        {
          "output_type": "stream",
          "name": "stderr",
          "text": [
            "Some weights of BertForSequenceClassification were not initialized from the model checkpoint at indobenchmark/indobert-base-p1 and are newly initialized: ['classifier.bias', 'classifier.weight']\n",
            "You should probably TRAIN this model on a down-stream task to be able to use it for predictions and inference.\n"
          ]
        },
        {
          "output_type": "stream",
          "name": "stdout",
          "text": [
            "Epoch [1/6], Train Loss: 0.6881, Valid Loss: 0.6312\n",
            "Model saved to ==> /content/drive/MyDrive/TASI/Bayessian/ModelImbalance3/model.pt\n",
            "Metrics saved to ==> /content/drive/MyDrive/TASI/Bayessian/ModelImbalance3/metrics.pt\n",
            "Epoch [2/6], Train Loss: 0.5029, Valid Loss: 0.3693\n",
            "Model saved to ==> /content/drive/MyDrive/TASI/Bayessian/ModelImbalance3/model.pt\n",
            "Metrics saved to ==> /content/drive/MyDrive/TASI/Bayessian/ModelImbalance3/metrics.pt\n",
            "Epoch [3/6], Train Loss: 0.2986, Valid Loss: 0.2465\n",
            "Model saved to ==> /content/drive/MyDrive/TASI/Bayessian/ModelImbalance3/model.pt\n",
            "Metrics saved to ==> /content/drive/MyDrive/TASI/Bayessian/ModelImbalance3/metrics.pt\n",
            "Epoch [4/6], Train Loss: 0.1960, Valid Loss: 0.1630\n",
            "Model saved to ==> /content/drive/MyDrive/TASI/Bayessian/ModelImbalance3/model.pt\n",
            "Metrics saved to ==> /content/drive/MyDrive/TASI/Bayessian/ModelImbalance3/metrics.pt\n",
            "Epoch [5/6], Train Loss: 0.1161, Valid Loss: 0.2260\n"
          ]
        },
        {
          "output_type": "stream",
          "name": "stderr",
          "text": [
            "[I 2023-06-20 13:30:04,197] Trial 13 pruned. \n"
          ]
        },
        {
          "output_type": "stream",
          "name": "stdout",
          "text": [
            "Epoch [6/6], Train Loss: 0.0567, Valid Loss: 0.2378\n",
            "Metrics saved to ==> /content/drive/MyDrive/TASI/Bayessian/ModelImbalance3/metrics.pt\n",
            "Finished Training!\n",
            "Validation loss hasn't improved in the last 3 epochs. Stopping early.\n"
          ]
        },
        {
          "output_type": "stream",
          "name": "stderr",
          "text": [
            "Some weights of BertForSequenceClassification were not initialized from the model checkpoint at indobenchmark/indobert-base-p1 and are newly initialized: ['classifier.bias', 'classifier.weight']\n",
            "You should probably TRAIN this model on a down-stream task to be able to use it for predictions and inference.\n"
          ]
        },
        {
          "output_type": "stream",
          "name": "stdout",
          "text": [
            "Epoch [1/8], Train Loss: 0.6703, Valid Loss: 0.7012\n",
            "Model saved to ==> /content/drive/MyDrive/TASI/Bayessian/ModelImbalance3/model.pt\n",
            "Metrics saved to ==> /content/drive/MyDrive/TASI/Bayessian/ModelImbalance3/metrics.pt\n",
            "Epoch [2/8], Train Loss: 0.7147, Valid Loss: 0.6659\n",
            "Model saved to ==> /content/drive/MyDrive/TASI/Bayessian/ModelImbalance3/model.pt\n",
            "Metrics saved to ==> /content/drive/MyDrive/TASI/Bayessian/ModelImbalance3/metrics.pt\n",
            "Epoch [3/8], Train Loss: 0.6761, Valid Loss: 0.6346\n",
            "Model saved to ==> /content/drive/MyDrive/TASI/Bayessian/ModelImbalance3/model.pt\n",
            "Metrics saved to ==> /content/drive/MyDrive/TASI/Bayessian/ModelImbalance3/metrics.pt\n",
            "Epoch [4/8], Train Loss: 0.7360, Valid Loss: 0.6592\n",
            "Epoch [5/8], Train Loss: 0.7479, Valid Loss: 0.6566\n"
          ]
        },
        {
          "output_type": "stream",
          "name": "stderr",
          "text": [
            "[I 2023-06-20 13:32:18,121] Trial 14 pruned. \n"
          ]
        },
        {
          "output_type": "stream",
          "name": "stdout",
          "text": [
            "Epoch [6/8], Train Loss: 0.7221, Valid Loss: 0.6554\n",
            "Early stopping\n",
            "Metrics saved to ==> /content/drive/MyDrive/TASI/Bayessian/ModelImbalance3/metrics.pt\n",
            "Finished Training!\n",
            "Validation loss hasn't improved in the last 3 epochs. Stopping early.\n"
          ]
        },
        {
          "output_type": "stream",
          "name": "stderr",
          "text": [
            "Some weights of BertForSequenceClassification were not initialized from the model checkpoint at indobenchmark/indobert-base-p1 and are newly initialized: ['classifier.bias', 'classifier.weight']\n",
            "You should probably TRAIN this model on a down-stream task to be able to use it for predictions and inference.\n"
          ]
        },
        {
          "output_type": "stream",
          "name": "stdout",
          "text": [
            "Epoch [1/8], Train Loss: 0.6557, Valid Loss: 0.6805\n",
            "Model saved to ==> /content/drive/MyDrive/TASI/Bayessian/ModelImbalance3/model.pt\n",
            "Metrics saved to ==> /content/drive/MyDrive/TASI/Bayessian/ModelImbalance3/metrics.pt\n",
            "Epoch [2/8], Train Loss: 0.6908, Valid Loss: 0.6843\n",
            "Epoch [3/8], Train Loss: 0.4929, Valid Loss: 0.7333\n",
            "Epoch [4/8], Train Loss: 0.2466, Valid Loss: 0.4429\n",
            "Model saved to ==> /content/drive/MyDrive/TASI/Bayessian/ModelImbalance3/model.pt\n",
            "Metrics saved to ==> /content/drive/MyDrive/TASI/Bayessian/ModelImbalance3/metrics.pt\n",
            "Epoch [5/8], Train Loss: 0.1556, Valid Loss: 0.3932\n",
            "Model saved to ==> /content/drive/MyDrive/TASI/Bayessian/ModelImbalance3/model.pt\n",
            "Metrics saved to ==> /content/drive/MyDrive/TASI/Bayessian/ModelImbalance3/metrics.pt\n",
            "Epoch [6/8], Train Loss: 0.0841, Valid Loss: 0.3406\n",
            "Model saved to ==> /content/drive/MyDrive/TASI/Bayessian/ModelImbalance3/model.pt\n",
            "Metrics saved to ==> /content/drive/MyDrive/TASI/Bayessian/ModelImbalance3/metrics.pt\n",
            "Epoch [7/8], Train Loss: 0.0396, Valid Loss: 0.2435\n",
            "Model saved to ==> /content/drive/MyDrive/TASI/Bayessian/ModelImbalance3/model.pt\n",
            "Metrics saved to ==> /content/drive/MyDrive/TASI/Bayessian/ModelImbalance3/metrics.pt\n",
            "Epoch [8/8], Train Loss: 0.0500, Valid Loss: 0.2105\n",
            "Model saved to ==> /content/drive/MyDrive/TASI/Bayessian/ModelImbalance3/model.pt\n",
            "Metrics saved to ==> /content/drive/MyDrive/TASI/Bayessian/ModelImbalance3/metrics.pt\n"
          ]
        },
        {
          "output_type": "stream",
          "name": "stderr",
          "text": [
            "[I 2023-06-20 13:35:15,040] Trial 15 pruned. \n"
          ]
        },
        {
          "output_type": "stream",
          "name": "stdout",
          "text": [
            "Metrics saved to ==> /content/drive/MyDrive/TASI/Bayessian/ModelImbalance3/metrics.pt\n",
            "Finished Training!\n",
            "Validation loss hasn't improved in the last 3 epochs. Stopping early.\n"
          ]
        },
        {
          "output_type": "stream",
          "name": "stderr",
          "text": [
            "Some weights of BertForSequenceClassification were not initialized from the model checkpoint at indobenchmark/indobert-base-p1 and are newly initialized: ['classifier.bias', 'classifier.weight']\n",
            "You should probably TRAIN this model on a down-stream task to be able to use it for predictions and inference.\n"
          ]
        },
        {
          "output_type": "stream",
          "name": "stdout",
          "text": [
            "Epoch [1/10], Train Loss: 0.6908, Valid Loss: 0.6765\n",
            "Model saved to ==> /content/drive/MyDrive/TASI/Bayessian/ModelImbalance3/model.pt\n",
            "Metrics saved to ==> /content/drive/MyDrive/TASI/Bayessian/ModelImbalance3/metrics.pt\n",
            "Epoch [2/10], Train Loss: 0.6219, Valid Loss: 0.3895\n",
            "Model saved to ==> /content/drive/MyDrive/TASI/Bayessian/ModelImbalance3/model.pt\n",
            "Metrics saved to ==> /content/drive/MyDrive/TASI/Bayessian/ModelImbalance3/metrics.pt\n",
            "Epoch [3/10], Train Loss: 0.2618, Valid Loss: 0.1815\n",
            "Model saved to ==> /content/drive/MyDrive/TASI/Bayessian/ModelImbalance3/model.pt\n",
            "Metrics saved to ==> /content/drive/MyDrive/TASI/Bayessian/ModelImbalance3/metrics.pt\n",
            "Epoch [4/10], Train Loss: 0.1911, Valid Loss: 0.1560\n",
            "Model saved to ==> /content/drive/MyDrive/TASI/Bayessian/ModelImbalance3/model.pt\n",
            "Metrics saved to ==> /content/drive/MyDrive/TASI/Bayessian/ModelImbalance3/metrics.pt\n",
            "Epoch [5/10], Train Loss: 0.0913, Valid Loss: 0.1885\n",
            "Epoch [6/10], Train Loss: 0.0487, Valid Loss: 0.1238\n",
            "Model saved to ==> /content/drive/MyDrive/TASI/Bayessian/ModelImbalance3/model.pt\n",
            "Metrics saved to ==> /content/drive/MyDrive/TASI/Bayessian/ModelImbalance3/metrics.pt\n",
            "Epoch [7/10], Train Loss: 0.0211, Valid Loss: 0.2364\n",
            "Epoch [8/10], Train Loss: 0.0206, Valid Loss: 0.4323\n",
            "Epoch [9/10], Train Loss: 0.0517, Valid Loss: 0.1589\n",
            "Early stopping\n",
            "Metrics saved to ==> /content/drive/MyDrive/TASI/Bayessian/ModelImbalance3/metrics.pt\n",
            "Finished Training!\n"
          ]
        },
        {
          "output_type": "stream",
          "name": "stderr",
          "text": [
            "[I 2023-06-20 13:38:37,161] Trial 16 finished with value: 0.1238212793333722 and parameters: {'lr': 2e-05, 'num_epochs': 10, 'batch_size': 16}. Best is trial 16 with value: 0.1238212793333722.\n",
            "Some weights of BertForSequenceClassification were not initialized from the model checkpoint at indobenchmark/indobert-base-p1 and are newly initialized: ['classifier.bias', 'classifier.weight']\n",
            "You should probably TRAIN this model on a down-stream task to be able to use it for predictions and inference.\n"
          ]
        },
        {
          "output_type": "stream",
          "name": "stdout",
          "text": [
            "Epoch [1/10], Train Loss: 0.6665, Valid Loss: 0.6393\n",
            "Model saved to ==> /content/drive/MyDrive/TASI/Bayessian/ModelImbalance3/model.pt\n",
            "Metrics saved to ==> /content/drive/MyDrive/TASI/Bayessian/ModelImbalance3/metrics.pt\n",
            "Epoch [2/10], Train Loss: 0.6507, Valid Loss: 0.4057\n",
            "Model saved to ==> /content/drive/MyDrive/TASI/Bayessian/ModelImbalance3/model.pt\n",
            "Metrics saved to ==> /content/drive/MyDrive/TASI/Bayessian/ModelImbalance3/metrics.pt\n",
            "Epoch [3/10], Train Loss: 0.3916, Valid Loss: 0.3411\n",
            "Model saved to ==> /content/drive/MyDrive/TASI/Bayessian/ModelImbalance3/model.pt\n",
            "Metrics saved to ==> /content/drive/MyDrive/TASI/Bayessian/ModelImbalance3/metrics.pt\n",
            "Epoch [4/10], Train Loss: 0.2134, Valid Loss: 0.2779\n",
            "Model saved to ==> /content/drive/MyDrive/TASI/Bayessian/ModelImbalance3/model.pt\n",
            "Metrics saved to ==> /content/drive/MyDrive/TASI/Bayessian/ModelImbalance3/metrics.pt\n",
            "Epoch [5/10], Train Loss: 0.1385, Valid Loss: 0.2642\n",
            "Model saved to ==> /content/drive/MyDrive/TASI/Bayessian/ModelImbalance3/model.pt\n",
            "Metrics saved to ==> /content/drive/MyDrive/TASI/Bayessian/ModelImbalance3/metrics.pt\n",
            "Epoch [6/10], Train Loss: 0.0920, Valid Loss: 0.1883\n",
            "Model saved to ==> /content/drive/MyDrive/TASI/Bayessian/ModelImbalance3/model.pt\n",
            "Metrics saved to ==> /content/drive/MyDrive/TASI/Bayessian/ModelImbalance3/metrics.pt\n",
            "Epoch [7/10], Train Loss: 0.0365, Valid Loss: 0.3388\n",
            "Epoch [8/10], Train Loss: 0.0461, Valid Loss: 0.2616\n"
          ]
        },
        {
          "output_type": "stream",
          "name": "stderr",
          "text": [
            "[I 2023-06-20 13:42:00,614] Trial 17 pruned. \n"
          ]
        },
        {
          "output_type": "stream",
          "name": "stdout",
          "text": [
            "Epoch [9/10], Train Loss: 0.0466, Valid Loss: 0.2442\n",
            "Early stopping\n",
            "Metrics saved to ==> /content/drive/MyDrive/TASI/Bayessian/ModelImbalance3/metrics.pt\n",
            "Finished Training!\n",
            "Validation loss hasn't improved in the last 3 epochs. Stopping early.\n"
          ]
        },
        {
          "output_type": "stream",
          "name": "stderr",
          "text": [
            "Some weights of BertForSequenceClassification were not initialized from the model checkpoint at indobenchmark/indobert-base-p1 and are newly initialized: ['classifier.bias', 'classifier.weight']\n",
            "You should probably TRAIN this model on a down-stream task to be able to use it for predictions and inference.\n"
          ]
        },
        {
          "output_type": "stream",
          "name": "stdout",
          "text": [
            "Epoch [1/10], Train Loss: 0.6719, Valid Loss: 0.6444\n",
            "Model saved to ==> /content/drive/MyDrive/TASI/Bayessian/ModelImbalance3/model.pt\n",
            "Metrics saved to ==> /content/drive/MyDrive/TASI/Bayessian/ModelImbalance3/metrics.pt\n",
            "Epoch [2/10], Train Loss: 0.5040, Valid Loss: 0.3557\n",
            "Model saved to ==> /content/drive/MyDrive/TASI/Bayessian/ModelImbalance3/model.pt\n",
            "Metrics saved to ==> /content/drive/MyDrive/TASI/Bayessian/ModelImbalance3/metrics.pt\n",
            "Epoch [3/10], Train Loss: 0.2384, Valid Loss: 0.1783\n",
            "Model saved to ==> /content/drive/MyDrive/TASI/Bayessian/ModelImbalance3/model.pt\n",
            "Metrics saved to ==> /content/drive/MyDrive/TASI/Bayessian/ModelImbalance3/metrics.pt\n",
            "Epoch [4/10], Train Loss: 0.1706, Valid Loss: 0.2346\n",
            "Epoch [5/10], Train Loss: 0.1003, Valid Loss: 0.2046\n",
            "Epoch [6/10], Train Loss: 0.0426, Valid Loss: 0.1627\n",
            "Model saved to ==> /content/drive/MyDrive/TASI/Bayessian/ModelImbalance3/model.pt\n",
            "Metrics saved to ==> /content/drive/MyDrive/TASI/Bayessian/ModelImbalance3/metrics.pt\n",
            "Epoch [7/10], Train Loss: 0.0193, Valid Loss: 0.1912\n",
            "Epoch [8/10], Train Loss: 0.0262, Valid Loss: 0.3297\n"
          ]
        },
        {
          "output_type": "stream",
          "name": "stderr",
          "text": [
            "[I 2023-06-20 13:45:15,671] Trial 18 pruned. \n"
          ]
        },
        {
          "output_type": "stream",
          "name": "stdout",
          "text": [
            "Epoch [9/10], Train Loss: 0.0104, Valid Loss: 0.2648\n",
            "Early stopping\n",
            "Metrics saved to ==> /content/drive/MyDrive/TASI/Bayessian/ModelImbalance3/metrics.pt\n",
            "Finished Training!\n",
            "Validation loss hasn't improved in the last 3 epochs. Stopping early.\n"
          ]
        },
        {
          "output_type": "stream",
          "name": "stderr",
          "text": [
            "Some weights of BertForSequenceClassification were not initialized from the model checkpoint at indobenchmark/indobert-base-p1 and are newly initialized: ['classifier.bias', 'classifier.weight']\n",
            "You should probably TRAIN this model on a down-stream task to be able to use it for predictions and inference.\n"
          ]
        },
        {
          "output_type": "stream",
          "name": "stdout",
          "text": [
            "Epoch [1/6], Train Loss: 0.6390, Valid Loss: 0.4545\n",
            "Model saved to ==> /content/drive/MyDrive/TASI/Bayessian/ModelImbalance3/model.pt\n",
            "Metrics saved to ==> /content/drive/MyDrive/TASI/Bayessian/ModelImbalance3/metrics.pt\n",
            "Epoch [2/6], Train Loss: 0.3491, Valid Loss: 0.3379\n",
            "Model saved to ==> /content/drive/MyDrive/TASI/Bayessian/ModelImbalance3/model.pt\n",
            "Metrics saved to ==> /content/drive/MyDrive/TASI/Bayessian/ModelImbalance3/metrics.pt\n",
            "Epoch [3/6], Train Loss: 0.2384, Valid Loss: 0.2157\n",
            "Model saved to ==> /content/drive/MyDrive/TASI/Bayessian/ModelImbalance3/model.pt\n",
            "Metrics saved to ==> /content/drive/MyDrive/TASI/Bayessian/ModelImbalance3/metrics.pt\n",
            "Epoch [4/6], Train Loss: 0.1202, Valid Loss: 0.1437\n",
            "Model saved to ==> /content/drive/MyDrive/TASI/Bayessian/ModelImbalance3/model.pt\n",
            "Metrics saved to ==> /content/drive/MyDrive/TASI/Bayessian/ModelImbalance3/metrics.pt\n",
            "Epoch [5/6], Train Loss: 0.0950, Valid Loss: 0.2305\n"
          ]
        },
        {
          "output_type": "stream",
          "name": "stderr",
          "text": [
            "[I 2023-06-20 13:47:30,294] Trial 19 pruned. \n"
          ]
        },
        {
          "output_type": "stream",
          "name": "stdout",
          "text": [
            "Epoch [6/6], Train Loss: 0.0773, Valid Loss: 0.3102\n",
            "Metrics saved to ==> /content/drive/MyDrive/TASI/Bayessian/ModelImbalance3/metrics.pt\n",
            "Finished Training!\n",
            "Validation loss hasn't improved in the last 3 epochs. Stopping early.\n"
          ]
        },
        {
          "output_type": "stream",
          "name": "stderr",
          "text": [
            "Some weights of BertForSequenceClassification were not initialized from the model checkpoint at indobenchmark/indobert-base-p1 and are newly initialized: ['classifier.bias', 'classifier.weight']\n",
            "You should probably TRAIN this model on a down-stream task to be able to use it for predictions and inference.\n"
          ]
        },
        {
          "output_type": "stream",
          "name": "stdout",
          "text": [
            "Epoch [1/10], Train Loss: 0.6920, Valid Loss: 0.6662\n",
            "Model saved to ==> /content/drive/MyDrive/TASI/Bayessian/ModelImbalance3/model.pt\n",
            "Metrics saved to ==> /content/drive/MyDrive/TASI/Bayessian/ModelImbalance3/metrics.pt\n",
            "Epoch [2/10], Train Loss: 0.7111, Valid Loss: 0.6572\n",
            "Model saved to ==> /content/drive/MyDrive/TASI/Bayessian/ModelImbalance3/model.pt\n",
            "Metrics saved to ==> /content/drive/MyDrive/TASI/Bayessian/ModelImbalance3/metrics.pt\n",
            "Epoch [3/10], Train Loss: 0.6444, Valid Loss: 0.5646\n",
            "Model saved to ==> /content/drive/MyDrive/TASI/Bayessian/ModelImbalance3/model.pt\n",
            "Metrics saved to ==> /content/drive/MyDrive/TASI/Bayessian/ModelImbalance3/metrics.pt\n",
            "Epoch [4/10], Train Loss: 0.3159, Valid Loss: 0.3133\n",
            "Model saved to ==> /content/drive/MyDrive/TASI/Bayessian/ModelImbalance3/model.pt\n",
            "Metrics saved to ==> /content/drive/MyDrive/TASI/Bayessian/ModelImbalance3/metrics.pt\n",
            "Epoch [5/10], Train Loss: 0.1834, Valid Loss: 0.1802\n",
            "Model saved to ==> /content/drive/MyDrive/TASI/Bayessian/ModelImbalance3/model.pt\n",
            "Metrics saved to ==> /content/drive/MyDrive/TASI/Bayessian/ModelImbalance3/metrics.pt\n",
            "Epoch [6/10], Train Loss: 0.0965, Valid Loss: 0.2859\n",
            "Epoch [7/10], Train Loss: 0.0523, Valid Loss: 0.2620\n"
          ]
        },
        {
          "output_type": "stream",
          "name": "stderr",
          "text": [
            "[I 2023-06-20 13:50:36,069] Trial 20 pruned. \n"
          ]
        },
        {
          "output_type": "stream",
          "name": "stdout",
          "text": [
            "Epoch [8/10], Train Loss: 0.0275, Valid Loss: 0.4299\n",
            "Early stopping\n",
            "Metrics saved to ==> /content/drive/MyDrive/TASI/Bayessian/ModelImbalance3/metrics.pt\n",
            "Finished Training!\n",
            "Validation loss hasn't improved in the last 3 epochs. Stopping early.\n"
          ]
        },
        {
          "output_type": "stream",
          "name": "stderr",
          "text": [
            "Some weights of BertForSequenceClassification were not initialized from the model checkpoint at indobenchmark/indobert-base-p1 and are newly initialized: ['classifier.bias', 'classifier.weight']\n",
            "You should probably TRAIN this model on a down-stream task to be able to use it for predictions and inference.\n"
          ]
        },
        {
          "output_type": "stream",
          "name": "stdout",
          "text": [
            "Epoch [1/8], Train Loss: 0.7005, Valid Loss: 0.6559\n",
            "Model saved to ==> /content/drive/MyDrive/TASI/Bayessian/ModelImbalance3/model.pt\n",
            "Metrics saved to ==> /content/drive/MyDrive/TASI/Bayessian/ModelImbalance3/metrics.pt\n",
            "Epoch [2/8], Train Loss: 0.5736, Valid Loss: 0.4691\n",
            "Model saved to ==> /content/drive/MyDrive/TASI/Bayessian/ModelImbalance3/model.pt\n",
            "Metrics saved to ==> /content/drive/MyDrive/TASI/Bayessian/ModelImbalance3/metrics.pt\n",
            "Epoch [3/8], Train Loss: 0.3338, Valid Loss: 0.2872\n",
            "Model saved to ==> /content/drive/MyDrive/TASI/Bayessian/ModelImbalance3/model.pt\n",
            "Metrics saved to ==> /content/drive/MyDrive/TASI/Bayessian/ModelImbalance3/metrics.pt\n",
            "Epoch [4/8], Train Loss: 0.1802, Valid Loss: 0.2627\n",
            "Model saved to ==> /content/drive/MyDrive/TASI/Bayessian/ModelImbalance3/model.pt\n",
            "Metrics saved to ==> /content/drive/MyDrive/TASI/Bayessian/ModelImbalance3/metrics.pt\n",
            "Epoch [5/8], Train Loss: 0.1092, Valid Loss: 0.1806\n",
            "Model saved to ==> /content/drive/MyDrive/TASI/Bayessian/ModelImbalance3/model.pt\n",
            "Metrics saved to ==> /content/drive/MyDrive/TASI/Bayessian/ModelImbalance3/metrics.pt\n",
            "Epoch [6/8], Train Loss: 0.0640, Valid Loss: 0.1618\n",
            "Model saved to ==> /content/drive/MyDrive/TASI/Bayessian/ModelImbalance3/model.pt\n",
            "Metrics saved to ==> /content/drive/MyDrive/TASI/Bayessian/ModelImbalance3/metrics.pt\n",
            "Epoch [7/8], Train Loss: 0.0541, Valid Loss: 0.1786\n"
          ]
        },
        {
          "output_type": "stream",
          "name": "stderr",
          "text": [
            "[I 2023-06-20 13:53:37,501] Trial 21 pruned. \n"
          ]
        },
        {
          "output_type": "stream",
          "name": "stdout",
          "text": [
            "Epoch [8/8], Train Loss: 0.0359, Valid Loss: 0.2414\n",
            "Metrics saved to ==> /content/drive/MyDrive/TASI/Bayessian/ModelImbalance3/metrics.pt\n",
            "Finished Training!\n",
            "Validation loss hasn't improved in the last 3 epochs. Stopping early.\n"
          ]
        },
        {
          "output_type": "stream",
          "name": "stderr",
          "text": [
            "Some weights of BertForSequenceClassification were not initialized from the model checkpoint at indobenchmark/indobert-base-p1 and are newly initialized: ['classifier.bias', 'classifier.weight']\n",
            "You should probably TRAIN this model on a down-stream task to be able to use it for predictions and inference.\n"
          ]
        },
        {
          "output_type": "stream",
          "name": "stdout",
          "text": [
            "Epoch [1/8], Train Loss: 0.6916, Valid Loss: 0.6588\n",
            "Model saved to ==> /content/drive/MyDrive/TASI/Bayessian/ModelImbalance3/model.pt\n",
            "Metrics saved to ==> /content/drive/MyDrive/TASI/Bayessian/ModelImbalance3/metrics.pt\n",
            "Epoch [2/8], Train Loss: 0.6955, Valid Loss: 0.6567\n",
            "Model saved to ==> /content/drive/MyDrive/TASI/Bayessian/ModelImbalance3/model.pt\n",
            "Metrics saved to ==> /content/drive/MyDrive/TASI/Bayessian/ModelImbalance3/metrics.pt\n",
            "Epoch [3/8], Train Loss: 0.5760, Valid Loss: 0.3501\n",
            "Model saved to ==> /content/drive/MyDrive/TASI/Bayessian/ModelImbalance3/model.pt\n",
            "Metrics saved to ==> /content/drive/MyDrive/TASI/Bayessian/ModelImbalance3/metrics.pt\n",
            "Epoch [4/8], Train Loss: 0.2755, Valid Loss: 0.2219\n",
            "Model saved to ==> /content/drive/MyDrive/TASI/Bayessian/ModelImbalance3/model.pt\n",
            "Metrics saved to ==> /content/drive/MyDrive/TASI/Bayessian/ModelImbalance3/metrics.pt\n",
            "Epoch [5/8], Train Loss: 0.2008, Valid Loss: 0.2120\n",
            "Model saved to ==> /content/drive/MyDrive/TASI/Bayessian/ModelImbalance3/model.pt\n",
            "Metrics saved to ==> /content/drive/MyDrive/TASI/Bayessian/ModelImbalance3/metrics.pt\n",
            "Epoch [6/8], Train Loss: 0.1253, Valid Loss: 0.1982\n",
            "Model saved to ==> /content/drive/MyDrive/TASI/Bayessian/ModelImbalance3/model.pt\n",
            "Metrics saved to ==> /content/drive/MyDrive/TASI/Bayessian/ModelImbalance3/metrics.pt\n",
            "Epoch [7/8], Train Loss: 0.0969, Valid Loss: 0.1823\n",
            "Model saved to ==> /content/drive/MyDrive/TASI/Bayessian/ModelImbalance3/model.pt\n",
            "Metrics saved to ==> /content/drive/MyDrive/TASI/Bayessian/ModelImbalance3/metrics.pt\n"
          ]
        },
        {
          "output_type": "stream",
          "name": "stderr",
          "text": [
            "[I 2023-06-20 13:56:36,395] Trial 22 pruned. \n"
          ]
        },
        {
          "output_type": "stream",
          "name": "stdout",
          "text": [
            "Epoch [8/8], Train Loss: 0.0628, Valid Loss: 0.1932\n",
            "Metrics saved to ==> /content/drive/MyDrive/TASI/Bayessian/ModelImbalance3/metrics.pt\n",
            "Finished Training!\n",
            "Validation loss hasn't improved in the last 3 epochs. Stopping early.\n"
          ]
        },
        {
          "output_type": "stream",
          "name": "stderr",
          "text": [
            "Some weights of BertForSequenceClassification were not initialized from the model checkpoint at indobenchmark/indobert-base-p1 and are newly initialized: ['classifier.bias', 'classifier.weight']\n",
            "You should probably TRAIN this model on a down-stream task to be able to use it for predictions and inference.\n"
          ]
        },
        {
          "output_type": "stream",
          "name": "stdout",
          "text": [
            "Epoch [1/10], Train Loss: 0.6743, Valid Loss: 0.6915\n",
            "Model saved to ==> /content/drive/MyDrive/TASI/Bayessian/ModelImbalance3/model.pt\n",
            "Metrics saved to ==> /content/drive/MyDrive/TASI/Bayessian/ModelImbalance3/metrics.pt\n",
            "Epoch [2/10], Train Loss: 0.6881, Valid Loss: 0.6184\n",
            "Model saved to ==> /content/drive/MyDrive/TASI/Bayessian/ModelImbalance3/model.pt\n",
            "Metrics saved to ==> /content/drive/MyDrive/TASI/Bayessian/ModelImbalance3/metrics.pt\n",
            "Epoch [3/10], Train Loss: 0.6633, Valid Loss: 0.6930\n",
            "Epoch [4/10], Train Loss: 0.6835, Valid Loss: 0.6551\n"
          ]
        },
        {
          "output_type": "stream",
          "name": "stderr",
          "text": [
            "[I 2023-06-20 13:58:24,469] Trial 23 pruned. \n"
          ]
        },
        {
          "output_type": "stream",
          "name": "stdout",
          "text": [
            "Epoch [5/10], Train Loss: 0.7244, Valid Loss: 0.6622\n",
            "Early stopping\n",
            "Metrics saved to ==> /content/drive/MyDrive/TASI/Bayessian/ModelImbalance3/metrics.pt\n",
            "Finished Training!\n",
            "Validation loss hasn't improved in the last 3 epochs. Stopping early.\n"
          ]
        },
        {
          "output_type": "stream",
          "name": "stderr",
          "text": [
            "Some weights of BertForSequenceClassification were not initialized from the model checkpoint at indobenchmark/indobert-base-p1 and are newly initialized: ['classifier.bias', 'classifier.weight']\n",
            "You should probably TRAIN this model on a down-stream task to be able to use it for predictions and inference.\n"
          ]
        },
        {
          "output_type": "stream",
          "name": "stdout",
          "text": [
            "Epoch [1/8], Train Loss: 0.6663, Valid Loss: 0.6653\n",
            "Model saved to ==> /content/drive/MyDrive/TASI/Bayessian/ModelImbalance3/model.pt\n",
            "Metrics saved to ==> /content/drive/MyDrive/TASI/Bayessian/ModelImbalance3/metrics.pt\n",
            "Epoch [2/8], Train Loss: 0.5445, Valid Loss: 0.3462\n",
            "Model saved to ==> /content/drive/MyDrive/TASI/Bayessian/ModelImbalance3/model.pt\n",
            "Metrics saved to ==> /content/drive/MyDrive/TASI/Bayessian/ModelImbalance3/metrics.pt\n",
            "Epoch [3/8], Train Loss: 0.2466, Valid Loss: 0.1780\n",
            "Model saved to ==> /content/drive/MyDrive/TASI/Bayessian/ModelImbalance3/model.pt\n",
            "Metrics saved to ==> /content/drive/MyDrive/TASI/Bayessian/ModelImbalance3/metrics.pt\n",
            "Epoch [4/8], Train Loss: 0.1942, Valid Loss: 0.1619\n",
            "Model saved to ==> /content/drive/MyDrive/TASI/Bayessian/ModelImbalance3/model.pt\n",
            "Metrics saved to ==> /content/drive/MyDrive/TASI/Bayessian/ModelImbalance3/metrics.pt\n",
            "Epoch [5/8], Train Loss: 0.0782, Valid Loss: 0.1461\n",
            "Model saved to ==> /content/drive/MyDrive/TASI/Bayessian/ModelImbalance3/model.pt\n",
            "Metrics saved to ==> /content/drive/MyDrive/TASI/Bayessian/ModelImbalance3/metrics.pt\n",
            "Epoch [6/8], Train Loss: 0.0584, Valid Loss: 0.0945\n",
            "Model saved to ==> /content/drive/MyDrive/TASI/Bayessian/ModelImbalance3/model.pt\n",
            "Metrics saved to ==> /content/drive/MyDrive/TASI/Bayessian/ModelImbalance3/metrics.pt\n",
            "Epoch [7/8], Train Loss: 0.0335, Valid Loss: 0.0851\n",
            "Model saved to ==> /content/drive/MyDrive/TASI/Bayessian/ModelImbalance3/model.pt\n",
            "Metrics saved to ==> /content/drive/MyDrive/TASI/Bayessian/ModelImbalance3/metrics.pt\n",
            "Epoch [8/8], Train Loss: 0.0113, Valid Loss: 0.4566\n",
            "Metrics saved to ==> /content/drive/MyDrive/TASI/Bayessian/ModelImbalance3/metrics.pt\n",
            "Finished Training!\n"
          ]
        },
        {
          "output_type": "stream",
          "name": "stderr",
          "text": [
            "[I 2023-06-20 14:01:25,464] Trial 24 finished with value: 0.08509231308874275 and parameters: {'lr': 2e-05, 'num_epochs': 8, 'batch_size': 16}. Best is trial 24 with value: 0.08509231308874275.\n",
            "Some weights of BertForSequenceClassification were not initialized from the model checkpoint at indobenchmark/indobert-base-p1 and are newly initialized: ['classifier.bias', 'classifier.weight']\n",
            "You should probably TRAIN this model on a down-stream task to be able to use it for predictions and inference.\n"
          ]
        },
        {
          "output_type": "stream",
          "name": "stdout",
          "text": [
            "Epoch [1/9], Train Loss: 0.6552, Valid Loss: 0.6394\n",
            "Model saved to ==> /content/drive/MyDrive/TASI/Bayessian/ModelImbalance3/model.pt\n",
            "Metrics saved to ==> /content/drive/MyDrive/TASI/Bayessian/ModelImbalance3/metrics.pt\n",
            "Epoch [2/9], Train Loss: 0.4981, Valid Loss: 0.4462\n",
            "Model saved to ==> /content/drive/MyDrive/TASI/Bayessian/ModelImbalance3/model.pt\n",
            "Metrics saved to ==> /content/drive/MyDrive/TASI/Bayessian/ModelImbalance3/metrics.pt\n",
            "Epoch [3/9], Train Loss: 0.2195, Valid Loss: 0.3074\n",
            "Model saved to ==> /content/drive/MyDrive/TASI/Bayessian/ModelImbalance3/model.pt\n",
            "Metrics saved to ==> /content/drive/MyDrive/TASI/Bayessian/ModelImbalance3/metrics.pt\n",
            "Epoch [4/9], Train Loss: 0.1712, Valid Loss: 0.5154\n",
            "Epoch [5/9], Train Loss: 0.0888, Valid Loss: 0.4175\n",
            "Epoch [6/9], Train Loss: 0.0618, Valid Loss: 0.1711\n",
            "Model saved to ==> /content/drive/MyDrive/TASI/Bayessian/ModelImbalance3/model.pt\n",
            "Metrics saved to ==> /content/drive/MyDrive/TASI/Bayessian/ModelImbalance3/metrics.pt\n",
            "Epoch [7/9], Train Loss: 0.0342, Valid Loss: 0.2410\n",
            "Epoch [8/9], Train Loss: 0.0083, Valid Loss: 0.2222\n"
          ]
        },
        {
          "output_type": "stream",
          "name": "stderr",
          "text": [
            "[I 2023-06-20 14:04:40,195] Trial 25 pruned. \n"
          ]
        },
        {
          "output_type": "stream",
          "name": "stdout",
          "text": [
            "Epoch [9/9], Train Loss: 0.0023, Valid Loss: 0.2095\n",
            "Early stopping\n",
            "Metrics saved to ==> /content/drive/MyDrive/TASI/Bayessian/ModelImbalance3/metrics.pt\n",
            "Finished Training!\n",
            "Validation loss hasn't improved in the last 3 epochs. Stopping early.\n"
          ]
        },
        {
          "output_type": "stream",
          "name": "stderr",
          "text": [
            "Some weights of BertForSequenceClassification were not initialized from the model checkpoint at indobenchmark/indobert-base-p1 and are newly initialized: ['classifier.bias', 'classifier.weight']\n",
            "You should probably TRAIN this model on a down-stream task to be able to use it for predictions and inference.\n"
          ]
        },
        {
          "output_type": "stream",
          "name": "stdout",
          "text": [
            "Epoch [1/6], Train Loss: 0.6908, Valid Loss: 0.6710\n",
            "Model saved to ==> /content/drive/MyDrive/TASI/Bayessian/ModelImbalance3/model.pt\n",
            "Metrics saved to ==> /content/drive/MyDrive/TASI/Bayessian/ModelImbalance3/metrics.pt\n",
            "Epoch [2/6], Train Loss: 0.6924, Valid Loss: 0.6922\n",
            "Epoch [3/6], Train Loss: 0.6840, Valid Loss: 0.6823\n"
          ]
        },
        {
          "output_type": "stream",
          "name": "stderr",
          "text": [
            "[I 2023-06-20 14:06:05,171] Trial 26 pruned. \n"
          ]
        },
        {
          "output_type": "stream",
          "name": "stdout",
          "text": [
            "Epoch [4/6], Train Loss: 0.6831, Valid Loss: 0.6976\n",
            "Early stopping\n",
            "Metrics saved to ==> /content/drive/MyDrive/TASI/Bayessian/ModelImbalance3/metrics.pt\n",
            "Finished Training!\n",
            "Validation loss hasn't improved in the last 3 epochs. Stopping early.\n"
          ]
        },
        {
          "output_type": "stream",
          "name": "stderr",
          "text": [
            "Some weights of BertForSequenceClassification were not initialized from the model checkpoint at indobenchmark/indobert-base-p1 and are newly initialized: ['classifier.bias', 'classifier.weight']\n",
            "You should probably TRAIN this model on a down-stream task to be able to use it for predictions and inference.\n"
          ]
        },
        {
          "output_type": "stream",
          "name": "stdout",
          "text": [
            "Epoch [1/7], Train Loss: 0.6657, Valid Loss: 0.6121\n",
            "Model saved to ==> /content/drive/MyDrive/TASI/Bayessian/ModelImbalance3/model.pt\n",
            "Metrics saved to ==> /content/drive/MyDrive/TASI/Bayessian/ModelImbalance3/metrics.pt\n",
            "Epoch [2/7], Train Loss: 0.4015, Valid Loss: 0.2580\n",
            "Model saved to ==> /content/drive/MyDrive/TASI/Bayessian/ModelImbalance3/model.pt\n",
            "Metrics saved to ==> /content/drive/MyDrive/TASI/Bayessian/ModelImbalance3/metrics.pt\n",
            "Epoch [3/7], Train Loss: 0.2025, Valid Loss: 0.1748\n",
            "Model saved to ==> /content/drive/MyDrive/TASI/Bayessian/ModelImbalance3/model.pt\n",
            "Metrics saved to ==> /content/drive/MyDrive/TASI/Bayessian/ModelImbalance3/metrics.pt\n",
            "Epoch [4/7], Train Loss: 0.0954, Valid Loss: 0.1733\n",
            "Model saved to ==> /content/drive/MyDrive/TASI/Bayessian/ModelImbalance3/model.pt\n",
            "Metrics saved to ==> /content/drive/MyDrive/TASI/Bayessian/ModelImbalance3/metrics.pt\n",
            "Epoch [5/7], Train Loss: 0.0360, Valid Loss: 0.2553\n",
            "Epoch [6/7], Train Loss: 0.0238, Valid Loss: 0.2025\n"
          ]
        },
        {
          "output_type": "stream",
          "name": "stderr",
          "text": [
            "[I 2023-06-20 14:08:38,087] Trial 27 pruned. \n"
          ]
        },
        {
          "output_type": "stream",
          "name": "stdout",
          "text": [
            "Epoch [7/7], Train Loss: 0.0269, Valid Loss: 0.3196\n",
            "Early stopping\n",
            "Metrics saved to ==> /content/drive/MyDrive/TASI/Bayessian/ModelImbalance3/metrics.pt\n",
            "Finished Training!\n",
            "Validation loss hasn't improved in the last 3 epochs. Stopping early.\n"
          ]
        },
        {
          "output_type": "stream",
          "name": "stderr",
          "text": [
            "Some weights of BertForSequenceClassification were not initialized from the model checkpoint at indobenchmark/indobert-base-p1 and are newly initialized: ['classifier.bias', 'classifier.weight']\n",
            "You should probably TRAIN this model on a down-stream task to be able to use it for predictions and inference.\n"
          ]
        },
        {
          "output_type": "stream",
          "name": "stdout",
          "text": [
            "Epoch [1/10], Train Loss: 0.6185, Valid Loss: 0.6577\n",
            "Model saved to ==> /content/drive/MyDrive/TASI/Bayessian/ModelImbalance3/model.pt\n",
            "Metrics saved to ==> /content/drive/MyDrive/TASI/Bayessian/ModelImbalance3/metrics.pt\n",
            "Epoch [2/10], Train Loss: 0.2631, Valid Loss: 0.2875\n",
            "Model saved to ==> /content/drive/MyDrive/TASI/Bayessian/ModelImbalance3/model.pt\n",
            "Metrics saved to ==> /content/drive/MyDrive/TASI/Bayessian/ModelImbalance3/metrics.pt\n",
            "Epoch [3/10], Train Loss: 0.1884, Valid Loss: 0.1782\n",
            "Model saved to ==> /content/drive/MyDrive/TASI/Bayessian/ModelImbalance3/model.pt\n",
            "Metrics saved to ==> /content/drive/MyDrive/TASI/Bayessian/ModelImbalance3/metrics.pt\n",
            "Epoch [4/10], Train Loss: 0.1204, Valid Loss: 0.2488\n",
            "Epoch [5/10], Train Loss: 0.0543, Valid Loss: 0.2902\n"
          ]
        },
        {
          "output_type": "stream",
          "name": "stderr",
          "text": [
            "[I 2023-06-20 14:10:47,559] Trial 28 pruned. \n"
          ]
        },
        {
          "output_type": "stream",
          "name": "stdout",
          "text": [
            "Epoch [6/10], Train Loss: 0.0184, Valid Loss: 0.3293\n",
            "Early stopping\n",
            "Metrics saved to ==> /content/drive/MyDrive/TASI/Bayessian/ModelImbalance3/metrics.pt\n",
            "Finished Training!\n",
            "Validation loss hasn't improved in the last 3 epochs. Stopping early.\n"
          ]
        },
        {
          "output_type": "stream",
          "name": "stderr",
          "text": [
            "Some weights of BertForSequenceClassification were not initialized from the model checkpoint at indobenchmark/indobert-base-p1 and are newly initialized: ['classifier.bias', 'classifier.weight']\n",
            "You should probably TRAIN this model on a down-stream task to be able to use it for predictions and inference.\n"
          ]
        },
        {
          "output_type": "stream",
          "name": "stdout",
          "text": [
            "Epoch [1/9], Train Loss: 0.6289, Valid Loss: 0.5427\n",
            "Model saved to ==> /content/drive/MyDrive/TASI/Bayessian/ModelImbalance3/model.pt\n",
            "Metrics saved to ==> /content/drive/MyDrive/TASI/Bayessian/ModelImbalance3/metrics.pt\n",
            "Epoch [2/9], Train Loss: 0.3219, Valid Loss: 0.2930\n",
            "Model saved to ==> /content/drive/MyDrive/TASI/Bayessian/ModelImbalance3/model.pt\n",
            "Metrics saved to ==> /content/drive/MyDrive/TASI/Bayessian/ModelImbalance3/metrics.pt\n",
            "Epoch [3/9], Train Loss: 0.1767, Valid Loss: 0.2678\n",
            "Model saved to ==> /content/drive/MyDrive/TASI/Bayessian/ModelImbalance3/model.pt\n",
            "Metrics saved to ==> /content/drive/MyDrive/TASI/Bayessian/ModelImbalance3/metrics.pt\n",
            "Epoch [4/9], Train Loss: 0.1054, Valid Loss: 0.2689\n",
            "Epoch [5/9], Train Loss: 0.0971, Valid Loss: 0.3042\n",
            "Epoch [6/9], Train Loss: 0.0389, Valid Loss: 0.1617\n",
            "Model saved to ==> /content/drive/MyDrive/TASI/Bayessian/ModelImbalance3/model.pt\n",
            "Metrics saved to ==> /content/drive/MyDrive/TASI/Bayessian/ModelImbalance3/metrics.pt\n",
            "Epoch [7/9], Train Loss: 0.0163, Valid Loss: 0.2819\n",
            "Epoch [8/9], Train Loss: 0.0227, Valid Loss: 0.1469\n",
            "Model saved to ==> /content/drive/MyDrive/TASI/Bayessian/ModelImbalance3/model.pt\n",
            "Metrics saved to ==> /content/drive/MyDrive/TASI/Bayessian/ModelImbalance3/metrics.pt\n"
          ]
        },
        {
          "output_type": "stream",
          "name": "stderr",
          "text": [
            "[I 2023-06-20 14:14:05,518] Trial 29 pruned. \n"
          ]
        },
        {
          "output_type": "stream",
          "name": "stdout",
          "text": [
            "Epoch [9/9], Train Loss: 0.0020, Valid Loss: 0.2885\n",
            "Metrics saved to ==> /content/drive/MyDrive/TASI/Bayessian/ModelImbalance3/metrics.pt\n",
            "Finished Training!\n",
            "Validation loss hasn't improved in the last 3 epochs. Stopping early.\n"
          ]
        },
        {
          "output_type": "stream",
          "name": "stderr",
          "text": [
            "Some weights of BertForSequenceClassification were not initialized from the model checkpoint at indobenchmark/indobert-base-p1 and are newly initialized: ['classifier.bias', 'classifier.weight']\n",
            "You should probably TRAIN this model on a down-stream task to be able to use it for predictions and inference.\n"
          ]
        },
        {
          "output_type": "stream",
          "name": "stdout",
          "text": [
            "Epoch [1/8], Train Loss: 0.6477, Valid Loss: 0.6684\n",
            "Model saved to ==> /content/drive/MyDrive/TASI/Bayessian/ModelImbalance3/model.pt\n",
            "Metrics saved to ==> /content/drive/MyDrive/TASI/Bayessian/ModelImbalance3/metrics.pt\n",
            "Epoch [2/8], Train Loss: 0.6815, Valid Loss: 0.7024\n",
            "Epoch [3/8], Train Loss: 0.7047, Valid Loss: 0.6743\n"
          ]
        },
        {
          "output_type": "stream",
          "name": "stderr",
          "text": [
            "[I 2023-06-20 14:15:31,618] Trial 30 pruned. \n"
          ]
        },
        {
          "output_type": "stream",
          "name": "stdout",
          "text": [
            "Epoch [4/8], Train Loss: 0.6923, Valid Loss: 0.6824\n",
            "Early stopping\n",
            "Metrics saved to ==> /content/drive/MyDrive/TASI/Bayessian/ModelImbalance3/metrics.pt\n",
            "Finished Training!\n",
            "Validation loss hasn't improved in the last 3 epochs. Stopping early.\n"
          ]
        },
        {
          "output_type": "stream",
          "name": "stderr",
          "text": [
            "Some weights of BertForSequenceClassification were not initialized from the model checkpoint at indobenchmark/indobert-base-p1 and are newly initialized: ['classifier.bias', 'classifier.weight']\n",
            "You should probably TRAIN this model on a down-stream task to be able to use it for predictions and inference.\n"
          ]
        },
        {
          "output_type": "stream",
          "name": "stdout",
          "text": [
            "Epoch [1/8], Train Loss: 0.6810, Valid Loss: 0.7046\n",
            "Model saved to ==> /content/drive/MyDrive/TASI/Bayessian/ModelImbalance3/model.pt\n",
            "Metrics saved to ==> /content/drive/MyDrive/TASI/Bayessian/ModelImbalance3/metrics.pt\n",
            "Epoch [2/8], Train Loss: 0.5975, Valid Loss: 0.4283\n",
            "Model saved to ==> /content/drive/MyDrive/TASI/Bayessian/ModelImbalance3/model.pt\n",
            "Metrics saved to ==> /content/drive/MyDrive/TASI/Bayessian/ModelImbalance3/metrics.pt\n",
            "Epoch [3/8], Train Loss: 0.2530, Valid Loss: 0.2450\n",
            "Model saved to ==> /content/drive/MyDrive/TASI/Bayessian/ModelImbalance3/model.pt\n",
            "Metrics saved to ==> /content/drive/MyDrive/TASI/Bayessian/ModelImbalance3/metrics.pt\n",
            "Epoch [4/8], Train Loss: 0.1606, Valid Loss: 0.3440\n",
            "Epoch [5/8], Train Loss: 0.0779, Valid Loss: 0.2593\n",
            "Epoch [6/8], Train Loss: 0.0413, Valid Loss: 0.1888\n",
            "Model saved to ==> /content/drive/MyDrive/TASI/Bayessian/ModelImbalance3/model.pt\n",
            "Metrics saved to ==> /content/drive/MyDrive/TASI/Bayessian/ModelImbalance3/metrics.pt\n",
            "Epoch [7/8], Train Loss: 0.0165, Valid Loss: 0.3198\n"
          ]
        },
        {
          "output_type": "stream",
          "name": "stderr",
          "text": [
            "[I 2023-06-20 14:18:26,605] Trial 31 pruned. \n"
          ]
        },
        {
          "output_type": "stream",
          "name": "stdout",
          "text": [
            "Epoch [8/8], Train Loss: 0.0309, Valid Loss: 0.3347\n",
            "Metrics saved to ==> /content/drive/MyDrive/TASI/Bayessian/ModelImbalance3/metrics.pt\n",
            "Finished Training!\n",
            "Validation loss hasn't improved in the last 3 epochs. Stopping early.\n"
          ]
        },
        {
          "output_type": "stream",
          "name": "stderr",
          "text": [
            "Some weights of BertForSequenceClassification were not initialized from the model checkpoint at indobenchmark/indobert-base-p1 and are newly initialized: ['classifier.bias', 'classifier.weight']\n",
            "You should probably TRAIN this model on a down-stream task to be able to use it for predictions and inference.\n"
          ]
        },
        {
          "output_type": "stream",
          "name": "stdout",
          "text": [
            "Epoch [1/8], Train Loss: 0.6811, Valid Loss: 0.6720\n",
            "Model saved to ==> /content/drive/MyDrive/TASI/Bayessian/ModelImbalance3/model.pt\n",
            "Metrics saved to ==> /content/drive/MyDrive/TASI/Bayessian/ModelImbalance3/metrics.pt\n",
            "Epoch [2/8], Train Loss: 0.6033, Valid Loss: 0.4205\n",
            "Model saved to ==> /content/drive/MyDrive/TASI/Bayessian/ModelImbalance3/model.pt\n",
            "Metrics saved to ==> /content/drive/MyDrive/TASI/Bayessian/ModelImbalance3/metrics.pt\n",
            "Epoch [3/8], Train Loss: 0.2946, Valid Loss: 0.2207\n",
            "Model saved to ==> /content/drive/MyDrive/TASI/Bayessian/ModelImbalance3/model.pt\n",
            "Metrics saved to ==> /content/drive/MyDrive/TASI/Bayessian/ModelImbalance3/metrics.pt\n",
            "Epoch [4/8], Train Loss: 0.2020, Valid Loss: 0.2966\n",
            "Epoch [5/8], Train Loss: 0.1181, Valid Loss: 0.1889\n",
            "Model saved to ==> /content/drive/MyDrive/TASI/Bayessian/ModelImbalance3/model.pt\n",
            "Metrics saved to ==> /content/drive/MyDrive/TASI/Bayessian/ModelImbalance3/metrics.pt\n",
            "Epoch [6/8], Train Loss: 0.0621, Valid Loss: 0.1701\n",
            "Model saved to ==> /content/drive/MyDrive/TASI/Bayessian/ModelImbalance3/model.pt\n",
            "Metrics saved to ==> /content/drive/MyDrive/TASI/Bayessian/ModelImbalance3/metrics.pt\n",
            "Epoch [7/8], Train Loss: 0.0302, Valid Loss: 0.2533\n"
          ]
        },
        {
          "output_type": "stream",
          "name": "stderr",
          "text": [
            "[I 2023-06-20 14:21:21,097] Trial 32 pruned. \n"
          ]
        },
        {
          "output_type": "stream",
          "name": "stdout",
          "text": [
            "Epoch [8/8], Train Loss: 0.0185, Valid Loss: 0.3224\n",
            "Metrics saved to ==> /content/drive/MyDrive/TASI/Bayessian/ModelImbalance3/metrics.pt\n",
            "Finished Training!\n",
            "Validation loss hasn't improved in the last 3 epochs. Stopping early.\n"
          ]
        },
        {
          "output_type": "stream",
          "name": "stderr",
          "text": [
            "Some weights of BertForSequenceClassification were not initialized from the model checkpoint at indobenchmark/indobert-base-p1 and are newly initialized: ['classifier.bias', 'classifier.weight']\n",
            "You should probably TRAIN this model on a down-stream task to be able to use it for predictions and inference.\n"
          ]
        },
        {
          "output_type": "stream",
          "name": "stdout",
          "text": [
            "Epoch [1/8], Train Loss: 0.6698, Valid Loss: 0.7107\n",
            "Model saved to ==> /content/drive/MyDrive/TASI/Bayessian/ModelImbalance3/model.pt\n",
            "Metrics saved to ==> /content/drive/MyDrive/TASI/Bayessian/ModelImbalance3/metrics.pt\n",
            "Epoch [2/8], Train Loss: 0.5581, Valid Loss: 0.4050\n",
            "Model saved to ==> /content/drive/MyDrive/TASI/Bayessian/ModelImbalance3/model.pt\n",
            "Metrics saved to ==> /content/drive/MyDrive/TASI/Bayessian/ModelImbalance3/metrics.pt\n",
            "Epoch [3/8], Train Loss: 0.3513, Valid Loss: 0.2683\n",
            "Model saved to ==> /content/drive/MyDrive/TASI/Bayessian/ModelImbalance3/model.pt\n",
            "Metrics saved to ==> /content/drive/MyDrive/TASI/Bayessian/ModelImbalance3/metrics.pt\n",
            "Epoch [4/8], Train Loss: 0.2007, Valid Loss: 0.2458\n",
            "Model saved to ==> /content/drive/MyDrive/TASI/Bayessian/ModelImbalance3/model.pt\n",
            "Metrics saved to ==> /content/drive/MyDrive/TASI/Bayessian/ModelImbalance3/metrics.pt\n",
            "Epoch [5/8], Train Loss: 0.1122, Valid Loss: 0.1772\n",
            "Model saved to ==> /content/drive/MyDrive/TASI/Bayessian/ModelImbalance3/model.pt\n",
            "Metrics saved to ==> /content/drive/MyDrive/TASI/Bayessian/ModelImbalance3/metrics.pt\n",
            "Epoch [6/8], Train Loss: 0.0617, Valid Loss: 0.1662\n",
            "Model saved to ==> /content/drive/MyDrive/TASI/Bayessian/ModelImbalance3/model.pt\n",
            "Metrics saved to ==> /content/drive/MyDrive/TASI/Bayessian/ModelImbalance3/metrics.pt\n",
            "Epoch [7/8], Train Loss: 0.0401, Valid Loss: 0.1267\n",
            "Model saved to ==> /content/drive/MyDrive/TASI/Bayessian/ModelImbalance3/model.pt\n",
            "Metrics saved to ==> /content/drive/MyDrive/TASI/Bayessian/ModelImbalance3/metrics.pt\n"
          ]
        },
        {
          "output_type": "stream",
          "name": "stderr",
          "text": [
            "[I 2023-06-20 14:24:21,133] Trial 33 pruned. \n"
          ]
        },
        {
          "output_type": "stream",
          "name": "stdout",
          "text": [
            "Epoch [8/8], Train Loss: 0.0146, Valid Loss: 0.1284\n",
            "Metrics saved to ==> /content/drive/MyDrive/TASI/Bayessian/ModelImbalance3/metrics.pt\n",
            "Finished Training!\n",
            "Validation loss hasn't improved in the last 3 epochs. Stopping early.\n"
          ]
        },
        {
          "output_type": "stream",
          "name": "stderr",
          "text": [
            "Some weights of BertForSequenceClassification were not initialized from the model checkpoint at indobenchmark/indobert-base-p1 and are newly initialized: ['classifier.bias', 'classifier.weight']\n",
            "You should probably TRAIN this model on a down-stream task to be able to use it for predictions and inference.\n"
          ]
        },
        {
          "output_type": "stream",
          "name": "stdout",
          "text": [
            "Epoch [1/5], Train Loss: 0.6495, Valid Loss: 0.6721\n",
            "Model saved to ==> /content/drive/MyDrive/TASI/Bayessian/ModelImbalance3/model.pt\n",
            "Metrics saved to ==> /content/drive/MyDrive/TASI/Bayessian/ModelImbalance3/metrics.pt\n",
            "Epoch [2/5], Train Loss: 0.6590, Valid Loss: 0.5085\n",
            "Model saved to ==> /content/drive/MyDrive/TASI/Bayessian/ModelImbalance3/model.pt\n",
            "Metrics saved to ==> /content/drive/MyDrive/TASI/Bayessian/ModelImbalance3/metrics.pt\n",
            "Epoch [3/5], Train Loss: 0.3186, Valid Loss: 0.2484\n",
            "Model saved to ==> /content/drive/MyDrive/TASI/Bayessian/ModelImbalance3/model.pt\n",
            "Metrics saved to ==> /content/drive/MyDrive/TASI/Bayessian/ModelImbalance3/metrics.pt\n",
            "Epoch [4/5], Train Loss: 0.1539, Valid Loss: 0.2611\n"
          ]
        },
        {
          "output_type": "stream",
          "name": "stderr",
          "text": [
            "[I 2023-06-20 14:26:11,262] Trial 34 pruned. \n"
          ]
        },
        {
          "output_type": "stream",
          "name": "stdout",
          "text": [
            "Epoch [5/5], Train Loss: 0.0811, Valid Loss: 0.3343\n",
            "Metrics saved to ==> /content/drive/MyDrive/TASI/Bayessian/ModelImbalance3/metrics.pt\n",
            "Finished Training!\n",
            "Validation loss hasn't improved in the last 3 epochs. Stopping early.\n"
          ]
        },
        {
          "output_type": "stream",
          "name": "stderr",
          "text": [
            "Some weights of BertForSequenceClassification were not initialized from the model checkpoint at indobenchmark/indobert-base-p1 and are newly initialized: ['classifier.bias', 'classifier.weight']\n",
            "You should probably TRAIN this model on a down-stream task to be able to use it for predictions and inference.\n"
          ]
        },
        {
          "output_type": "stream",
          "name": "stdout",
          "text": [
            "Epoch [1/8], Train Loss: 0.6317, Valid Loss: 0.5073\n",
            "Model saved to ==> /content/drive/MyDrive/TASI/Bayessian/ModelImbalance3/model.pt\n",
            "Metrics saved to ==> /content/drive/MyDrive/TASI/Bayessian/ModelImbalance3/metrics.pt\n",
            "Epoch [2/8], Train Loss: 0.3451, Valid Loss: 0.2490\n",
            "Model saved to ==> /content/drive/MyDrive/TASI/Bayessian/ModelImbalance3/model.pt\n",
            "Metrics saved to ==> /content/drive/MyDrive/TASI/Bayessian/ModelImbalance3/metrics.pt\n",
            "Epoch [3/8], Train Loss: 0.2152, Valid Loss: 0.1615\n",
            "Model saved to ==> /content/drive/MyDrive/TASI/Bayessian/ModelImbalance3/model.pt\n",
            "Metrics saved to ==> /content/drive/MyDrive/TASI/Bayessian/ModelImbalance3/metrics.pt\n",
            "Epoch [4/8], Train Loss: 0.1336, Valid Loss: 0.1878\n",
            "Epoch [5/8], Train Loss: 0.0898, Valid Loss: 0.1348\n",
            "Model saved to ==> /content/drive/MyDrive/TASI/Bayessian/ModelImbalance3/model.pt\n",
            "Metrics saved to ==> /content/drive/MyDrive/TASI/Bayessian/ModelImbalance3/metrics.pt\n",
            "Epoch [6/8], Train Loss: 0.0541, Valid Loss: 0.2278\n",
            "Epoch [7/8], Train Loss: 0.0430, Valid Loss: 0.1910\n",
            "Epoch [8/8], Train Loss: 0.0178, Valid Loss: 0.1342\n"
          ]
        },
        {
          "output_type": "stream",
          "name": "stderr",
          "text": [
            "[I 2023-06-20 14:29:08,201] Trial 35 pruned. \n"
          ]
        },
        {
          "output_type": "stream",
          "name": "stdout",
          "text": [
            "Model saved to ==> /content/drive/MyDrive/TASI/Bayessian/ModelImbalance3/model.pt\n",
            "Metrics saved to ==> /content/drive/MyDrive/TASI/Bayessian/ModelImbalance3/metrics.pt\n",
            "Metrics saved to ==> /content/drive/MyDrive/TASI/Bayessian/ModelImbalance3/metrics.pt\n",
            "Finished Training!\n",
            "Validation loss hasn't improved in the last 3 epochs. Stopping early.\n",
            "Best model: lr=2e-05, num_epochs=8, batch_size=16\n",
            "Best valid loss: 0.12666060339792498\n"
          ]
        }
      ],
      "source": [
        "import optuna\n",
        "\n",
        "# Define an objective function to optimize hyperparameters\n",
        "def objective(trial):\n",
        "    # Sample hyperparameters\n",
        "    lr = trial.suggest_categorical('lr', [2e-5, 3e-5, 5e-5])\n",
        "    num_epochs = trial.suggest_categorical('num_epochs', [5, 6, 7, 8, 9, 10])\n",
        "    batch_size = trial.suggest_categorical('batch_size', [16, 32])\n",
        "\n",
        "    # Define model, optimizer, and criterion\n",
        "    model = BERT().to(device)\n",
        "    optimizer = optim.Adam(model.parameters(), lr=lr)\n",
        "    criterion = nn.BCELoss()\n",
        "\n",
        "    # Train model\n",
        "    train_loss_list, valid_loss_list, epoch_list, best_valid_loss = train(model=model,\n",
        "                                                                                  optimizer=optimizer,\n",
        "                                                                                  criterion=criterion,\n",
        "                                                                                  train_loader=train_iter,\n",
        "                                                                                  valid_loader=valid_iter,\n",
        "                                                                                  num_epochs=num_epochs,\n",
        "                                                                                  eval_every=1,\n",
        "                                                                                  file_path=destination_folder)\n",
        "\n",
        "    # Save results\n",
        "    key = f'lr={lr}, num_epochs={num_epochs}, batch_size={batch_size}'\n",
        "    results[key] = {\n",
        "        'train_loss': train_loss_list[-1],\n",
        "        'valid_loss': valid_loss_list,\n",
        "        'epoch_list': epoch_list,\n",
        "        'best_valid_loss': best_valid_loss,\n",
        "        'lr': lr,\n",
        "        'num_epochs': num_epochs,\n",
        "        'batch_size': batch_size,\n",
        "    }\n",
        "\n",
        "    # Save model if best\n",
        "    if best_valid_loss < results.get('best_valid_loss', float('inf')):\n",
        "        results['best_valid_loss'] = best_valid_loss\n",
        "        results['best_model'] = key\n",
        "        torch.save(model.state_dict(), f'{destination_folder}/model_{key}.pt')\n",
        "\n",
        "    # Implement early stopping\n",
        "    if len(valid_loss_list) >= 3:\n",
        "        if best_valid_loss > results['best_valid_loss']:\n",
        "            print(\"Validation loss hasn't improved in the last 3 epochs. Stopping early.\")\n",
        "            raise optuna.TrialPruned()\n",
        "\n",
        "    return best_valid_loss\n",
        "\n",
        "# Set up Optuna study with RandomSampler\n",
        "sampler = optuna.samplers.TPESampler(seed=seed)\n",
        "study = optuna.create_study(direction='minimize', sampler=sampler)\n",
        "\n",
        "# Run optimization\n",
        "results = {}\n",
        "study.optimize(objective, n_trials=36)\n",
        "\n",
        "# Print best model and hyperparameters\n",
        "best_model = results['best_model']\n",
        "best_hyperparams = results[best_model]\n",
        "print('Best model:', best_model)\n",
        "print('Best valid loss:', best_hyperparams['best_valid_loss'])"
      ]
    },
    {
      "cell_type": "code",
      "execution_count": 32,
      "metadata": {
        "id": "iyknvLHm-0Iv",
        "colab": {
          "base_uri": "https://localhost:8080/",
          "height": 466
        },
        "outputId": "33a89403-6b1d-4ac0-9887-bd8930cbe2e2"
      },
      "outputs": [
        {
          "output_type": "stream",
          "name": "stdout",
          "text": [
            "Metrics loaded from <== /content/drive/MyDrive/TASI/Bayessian/ModelImbalance3/metrics.pt\n"
          ]
        },
        {
          "output_type": "display_data",
          "data": {
            "text/plain": [
              "<Figure size 640x480 with 1 Axes>"
            ],
            "image/png": "[encoded data removed]"
          },
          "metadata": {}
        }
      ],
      "source": [
        "train_loss_list, valid_loss_list, epoch_list = load_metrics(destination_folder + '/metrics.pt')\n",
        "plt.plot(epoch_list, train_loss_list, label='Train')\n",
        "plt.plot(epoch_list, valid_loss_list, label='Valid')\n",
        "plt.xlabel('Epochs')\n",
        "plt.ylabel('Loss')\n",
        "plt.legend()\n",
        "plt.show()"
      ]
    },
    {
      "cell_type": "code",
      "execution_count": 33,
      "metadata": {
        "id": "HEjtkI8OMTE6",
        "colab": {
          "base_uri": "https://localhost:8080/",
          "height": 614
        },
        "outputId": "fa4e957d-6db3-4bfe-9a6b-e3f4aa39af42"
      },
      "outputs": [
        {
          "output_type": "stream",
          "name": "stderr",
          "text": [
            "Some weights of BertForSequenceClassification were not initialized from the model checkpoint at indobenchmark/indobert-base-p1 and are newly initialized: ['classifier.bias', 'classifier.weight']\n",
            "You should probably TRAIN this model on a down-stream task to be able to use it for predictions and inference.\n"
          ]
        },
        {
          "output_type": "stream",
          "name": "stdout",
          "text": [
            "Model loaded from <== /content/drive/MyDrive/TASI/Bayessian/ModelImbalance3/model.pt\n",
            "Classification Report:\n",
            "Real - Precision: 0.9726, Recall: 0.9425, F1-Score: 0.9573\n",
            "Fake - Precision: 0.8879, Recall: 0.9450, F1-Score: 0.9156\n",
            "Accuracy: 0.9432835820895522\n"
          ]
        },
        {
          "output_type": "display_data",
          "data": {
            "text/plain": [
              "<Figure size 640x480 with 2 Axes>"
            ],
            "image/png": "[encoded data removed]"
          },
          "metadata": {}
        }
      ],
      "source": [
        "from sklearn.metrics import classification_report, accuracy_score, confusion_matrix\n",
        "import numpy as np\n",
        "import seaborn as sns\n",
        "import matplotlib.pyplot as plt\n",
        "\n",
        "def evaluate(model, test_loader):\n",
        "    y_pred = []\n",
        "    y_true = []\n",
        "\n",
        "    model.eval()\n",
        "    with torch.no_grad():\n",
        "        for (labels, title, text), _ in test_loader:\n",
        "            labels = labels.type(torch.LongTensor)\n",
        "            labels = labels.to(device)\n",
        "            text = text.type(torch.LongTensor)\n",
        "            text = text.to(device)\n",
        "            output = model(text, labels)\n",
        "\n",
        "            _, output = output\n",
        "            y_pred.extend(torch.argmax(output, 1).tolist())\n",
        "            y_true.extend(labels.tolist())\n",
        "\n",
        "    # Mengganti label 1 menjadi \"fake\" dan label 0 menjadi \"real\"\n",
        "    y_true = np.where(np.array(y_true) == 0, \"real\", \"fake\")\n",
        "    y_pred = np.where(np.array(y_pred) == 0, \"real\", \"fake\")\n",
        "\n",
        "    # Menghitung dan mencetak hasil precision, recall, f1-score, dan accuracy\n",
        "    report = classification_report(y_true, y_pred, labels=[\"real\", \"fake\"], digits=4, output_dict=True)\n",
        "    print('Classification Report:')\n",
        "    for label, scores in report.items():\n",
        "        if label in [\"real\", \"fake\"]:\n",
        "            precision = scores['precision']\n",
        "            recall = scores['recall']\n",
        "            f1_score = scores['f1-score']\n",
        "            print(f\"{label.capitalize()} - Precision: {precision:.4f}, Recall: {recall:.4f}, F1-Score: {f1_score:.4f}\")\n",
        "    accuracy = accuracy_score(y_true, y_pred)\n",
        "    print(f'Accuracy: {accuracy}')\n",
        "\n",
        "    # Menghitung dan mencetak confusion matrix\n",
        "    cm = confusion_matrix(y_true, y_pred, labels=[\"real\", \"fake\"])\n",
        "    ax = plt.subplot()\n",
        "    sns.heatmap(cm, annot=True, ax=ax, cmap='Blues', fmt=\"d\")\n",
        "    ax.set_title('Confusion Matrix')\n",
        "    ax.set_xlabel('Predicted Labels')\n",
        "    ax.set_ylabel('True Labels')\n",
        "    ax.xaxis.set_ticklabels(['Real', 'Fake'])\n",
        "    ax.yaxis.set_ticklabels(['Real', 'Fake'])\n",
        "    plt.show()\n",
        "\n",
        "best_model = BERT().to(device)\n",
        "\n",
        "load_checkpoint(destination_folder + '/model.pt', best_model)\n",
        "\n",
        "evaluate(best_model, test_iter)"
      ]
    },
    {
      "cell_type": "code",
      "source": [],
      "metadata": {
        "id": "XWrnHdKFe3Kj"
      },
      "execution_count": null,
      "outputs": []
    }
  ],
  "metadata": {
    "accelerator": "GPU",
    "colab": {
      "provenance": []
    },
    "gpuClass": "standard",
    "kernelspec": {
      "display_name": "Python 3",
      "name": "python3"
    }
  },
  "nbformat": 4,
  "nbformat_minor": 0
}
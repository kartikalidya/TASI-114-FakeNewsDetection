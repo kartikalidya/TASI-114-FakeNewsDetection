{
  "cells": [
    {
      "cell_type": "markdown",
      "metadata": {
        "id": "view-in-github"
      },
      "source": [
        "<a href=\"https://colab.research.google.com/github/garynico/IndoBERT-Hoax/blob/main/IndoBERT_Hoax_News_Detection.ipynb\" target=\"_parent\"><img src=\"https://colab.research.google.com/assets/colab-badge.svg\" alt=\"Open In Colab\"/></a>"
      ]
    },
    {
      "cell_type": "markdown",
      "metadata": {
        "id": "MLrHTVMSTxbt"
      },
      "source": [
        "# IndoBERT for Bahasa Indonesia Hoax News Detection"
      ]
    },
    {
      "cell_type": "markdown",
      "metadata": {
        "id": "LATDuyAVYEsw"
      },
      "source": [
        "### Import library"
      ]
    },
    {
      "cell_type": "code",
      "execution_count": 1,
      "metadata": {
        "colab": {
          "base_uri": "https://localhost:8080/"
        },
        "id": "IfNKumAzxkFn",
        "outputId": "b3068b59-688b-409a-efb7-f75de86f0ec4"
      },
      "outputs": [
        {
          "output_type": "stream",
          "name": "stdout",
          "text": [
            "Mounted at /content/drive\n"
          ]
        }
      ],
      "source": [
        "# Drive\n",
        "from google.colab import files\n",
        "from google.colab import drive\n",
        "\n",
        "drive.mount('/content/drive', force_remount=True)"
      ]
    },
    {
      "cell_type": "code",
      "execution_count": 2,
      "metadata": {
        "id": "PohTXbqMicdb"
      },
      "outputs": [],
      "source": [
        "source_folder = '/content/drive/MyDrive/TASI/GridSearch/DataImbalance'\n",
        "destination_folder = '/content/drive/MyDrive/TASI/GridSearch/ModelImbalance5'"
      ]
    },
    {
      "cell_type": "code",
      "execution_count": 3,
      "metadata": {
        "colab": {
          "base_uri": "https://localhost:8080/"
        },
        "id": "XYRz41w8x28A",
        "outputId": "179e4648-7fdd-4b21-dde0-8dd286b6b7d7"
      },
      "outputs": [
        {
          "output_type": "stream",
          "name": "stdout",
          "text": [
            "/content/drive/MyDrive/TASI/GridSearch/DataImbalance\n"
          ]
        }
      ],
      "source": [
        "%cd //content/drive/MyDrive/TASI/GridSearch/DataImbalance"
      ]
    },
    {
      "cell_type": "code",
      "execution_count": 4,
      "metadata": {
        "colab": {
          "base_uri": "https://localhost:8080/"
        },
        "id": "M959vrSV0iwp",
        "outputId": "53fded88-320f-4bb9-f956-60827e3bf35d"
      },
      "outputs": [
        {
          "output_type": "stream",
          "name": "stdout",
          "text": [
            "Looking in indexes: https://pypi.org/simple, https://us-python.pkg.dev/colab-wheels/public/simple/\n",
            "Collecting transformers\n",
            "  Downloading transformers-4.30.2-py3-none-any.whl (7.2 MB)\n",
            "\u001b[2K     \u001b[90m━━━━━━━━━━━━━━━━━━━━━━━━━━━━━━━━━━━━━━━━\u001b[0m \u001b[32m7.2/7.2 MB\u001b[0m \u001b[31m46.2 MB/s\u001b[0m eta \u001b[36m0:00:00\u001b[0m\n",
            "\u001b[?25hRequirement already satisfied: filelock in /usr/local/lib/python3.10/dist-packages (from transformers) (3.12.0)\n",
            "Collecting huggingface-hub<1.0,>=0.14.1 (from transformers)\n",
            "  Downloading huggingface_hub-0.15.1-py3-none-any.whl (236 kB)\n",
            "\u001b[2K     \u001b[90m━━━━━━━━━━━━━━━━━━━━━━━━━━━━━━━━━━━━━━\u001b[0m \u001b[32m236.8/236.8 kB\u001b[0m \u001b[31m26.8 MB/s\u001b[0m eta \u001b[36m0:00:00\u001b[0m\n",
            "\u001b[?25hRequirement already satisfied: numpy>=1.17 in /usr/local/lib/python3.10/dist-packages (from transformers) (1.22.4)\n",
            "Requirement already satisfied: packaging>=20.0 in /usr/local/lib/python3.10/dist-packages (from transformers) (23.1)\n",
            "Requirement already satisfied: pyyaml>=5.1 in /usr/local/lib/python3.10/dist-packages (from transformers) (6.0)\n",
            "Requirement already satisfied: regex!=2019.12.17 in /usr/local/lib/python3.10/dist-packages (from transformers) (2022.10.31)\n",
            "Requirement already satisfied: requests in /usr/local/lib/python3.10/dist-packages (from transformers) (2.27.1)\n",
            "Collecting tokenizers!=0.11.3,<0.14,>=0.11.1 (from transformers)\n",
            "  Downloading tokenizers-0.13.3-cp310-cp310-manylinux_2_17_x86_64.manylinux2014_x86_64.whl (7.8 MB)\n",
            "\u001b[2K     \u001b[90m━━━━━━━━━━━━━━━━━━━━━━━━━━━━━━━━━━━━━━━━\u001b[0m \u001b[32m7.8/7.8 MB\u001b[0m \u001b[31m41.5 MB/s\u001b[0m eta \u001b[36m0:00:00\u001b[0m\n",
            "\u001b[?25hCollecting safetensors>=0.3.1 (from transformers)\n",
            "  Downloading safetensors-0.3.1-cp310-cp310-manylinux_2_17_x86_64.manylinux2014_x86_64.whl (1.3 MB)\n",
            "\u001b[2K     \u001b[90m━━━━━━━━━━━━━━━━━━━━━━━━━━━━━━━━━━━━━━━━\u001b[0m \u001b[32m1.3/1.3 MB\u001b[0m \u001b[31m52.2 MB/s\u001b[0m eta \u001b[36m0:00:00\u001b[0m\n",
            "\u001b[?25hRequirement already satisfied: tqdm>=4.27 in /usr/local/lib/python3.10/dist-packages (from transformers) (4.65.0)\n",
            "Requirement already satisfied: fsspec in /usr/local/lib/python3.10/dist-packages (from huggingface-hub<1.0,>=0.14.1->transformers) (2023.4.0)\n",
            "Requirement already satisfied: typing-extensions>=3.7.4.3 in /usr/local/lib/python3.10/dist-packages (from huggingface-hub<1.0,>=0.14.1->transformers) (4.5.0)\n",
            "Requirement already satisfied: urllib3<1.27,>=1.21.1 in /usr/local/lib/python3.10/dist-packages (from requests->transformers) (1.26.15)\n",
            "Requirement already satisfied: certifi>=2017.4.17 in /usr/local/lib/python3.10/dist-packages (from requests->transformers) (2022.12.7)\n",
            "Requirement already satisfied: charset-normalizer~=2.0.0 in /usr/local/lib/python3.10/dist-packages (from requests->transformers) (2.0.12)\n",
            "Requirement already satisfied: idna<4,>=2.5 in /usr/local/lib/python3.10/dist-packages (from requests->transformers) (3.4)\n",
            "Installing collected packages: tokenizers, safetensors, huggingface-hub, transformers\n",
            "Successfully installed huggingface-hub-0.15.1 safetensors-0.3.1 tokenizers-0.13.3 transformers-4.30.2\n",
            "Looking in indexes: https://pypi.org/simple, https://us-python.pkg.dev/colab-wheels/public/simple/\n",
            "Collecting keras.preprocessing\n",
            "  Downloading Keras_Preprocessing-1.1.2-py2.py3-none-any.whl (42 kB)\n",
            "\u001b[2K     \u001b[90m━━━━━━━━━━━━━━━━━━━━━━━━━━━━━━━━━━━━━━━━\u001b[0m \u001b[32m42.6/42.6 kB\u001b[0m \u001b[31m2.6 MB/s\u001b[0m eta \u001b[36m0:00:00\u001b[0m\n",
            "\u001b[?25hRequirement already satisfied: numpy>=1.9.1 in /usr/local/lib/python3.10/dist-packages (from keras.preprocessing) (1.22.4)\n",
            "Requirement already satisfied: six>=1.9.0 in /usr/local/lib/python3.10/dist-packages (from keras.preprocessing) (1.16.0)\n",
            "Installing collected packages: keras.preprocessing\n",
            "Successfully installed keras.preprocessing-1.1.2\n",
            "Looking in indexes: https://pypi.org/simple, https://us-python.pkg.dev/colab-wheels/public/simple/\n",
            "Collecting git+https://github.com/pytorch/text.git@v0.10.0\n",
            "  Cloning https://github.com/pytorch/text.git (to revision v0.10.0) to /tmp/pip-req-build-4q7tt_o_\n",
            "  Running command git clone --filter=blob:none --quiet https://github.com/pytorch/text.git /tmp/pip-req-build-4q7tt_o_\n",
            "  Running command git checkout -q 4da1de36247aa06622088e78508e0e38a4392e38\n",
            "  Resolved https://github.com/pytorch/text.git to commit 4da1de36247aa06622088e78508e0e38a4392e38\n",
            "  Running command git submodule update --init --recursive -q\n",
            "  Preparing metadata (setup.py) ... \u001b[?25l\u001b[?25hdone\n",
            "Requirement already satisfied: tqdm in /usr/local/lib/python3.10/dist-packages (from torchtext==0.10.0a0+4da1de3) (4.65.0)\n",
            "Requirement already satisfied: requests in /usr/local/lib/python3.10/dist-packages (from torchtext==0.10.0a0+4da1de3) (2.27.1)\n",
            "Requirement already satisfied: torch in /usr/local/lib/python3.10/dist-packages (from torchtext==0.10.0a0+4da1de3) (2.0.1+cu118)\n",
            "Requirement already satisfied: numpy in /usr/local/lib/python3.10/dist-packages (from torchtext==0.10.0a0+4da1de3) (1.22.4)\n",
            "Requirement already satisfied: urllib3<1.27,>=1.21.1 in /usr/local/lib/python3.10/dist-packages (from requests->torchtext==0.10.0a0+4da1de3) (1.26.15)\n",
            "Requirement already satisfied: certifi>=2017.4.17 in /usr/local/lib/python3.10/dist-packages (from requests->torchtext==0.10.0a0+4da1de3) (2022.12.7)\n",
            "Requirement already satisfied: charset-normalizer~=2.0.0 in /usr/local/lib/python3.10/dist-packages (from requests->torchtext==0.10.0a0+4da1de3) (2.0.12)\n",
            "Requirement already satisfied: idna<4,>=2.5 in /usr/local/lib/python3.10/dist-packages (from requests->torchtext==0.10.0a0+4da1de3) (3.4)\n",
            "Requirement already satisfied: filelock in /usr/local/lib/python3.10/dist-packages (from torch->torchtext==0.10.0a0+4da1de3) (3.12.0)\n",
            "Requirement already satisfied: typing-extensions in /usr/local/lib/python3.10/dist-packages (from torch->torchtext==0.10.0a0+4da1de3) (4.5.0)\n",
            "Requirement already satisfied: sympy in /usr/local/lib/python3.10/dist-packages (from torch->torchtext==0.10.0a0+4da1de3) (1.11.1)\n",
            "Requirement already satisfied: networkx in /usr/local/lib/python3.10/dist-packages (from torch->torchtext==0.10.0a0+4da1de3) (3.1)\n",
            "Requirement already satisfied: jinja2 in /usr/local/lib/python3.10/dist-packages (from torch->torchtext==0.10.0a0+4da1de3) (3.1.2)\n",
            "Requirement already satisfied: triton==2.0.0 in /usr/local/lib/python3.10/dist-packages (from torch->torchtext==0.10.0a0+4da1de3) (2.0.0)\n",
            "Requirement already satisfied: cmake in /usr/local/lib/python3.10/dist-packages (from triton==2.0.0->torch->torchtext==0.10.0a0+4da1de3) (3.25.2)\n",
            "Requirement already satisfied: lit in /usr/local/lib/python3.10/dist-packages (from triton==2.0.0->torch->torchtext==0.10.0a0+4da1de3) (16.0.5)\n",
            "Requirement already satisfied: MarkupSafe>=2.0 in /usr/local/lib/python3.10/dist-packages (from jinja2->torch->torchtext==0.10.0a0+4da1de3) (2.1.2)\n",
            "Requirement already satisfied: mpmath>=0.19 in /usr/local/lib/python3.10/dist-packages (from sympy->torch->torchtext==0.10.0a0+4da1de3) (1.3.0)\n",
            "Building wheels for collected packages: torchtext\n",
            "  Building wheel for torchtext (setup.py) ... \u001b[?25l\u001b[?25hdone\n",
            "  Created wheel for torchtext: filename=torchtext-0.10.0a0+4da1de3-cp310-cp310-linux_x86_64.whl size=13337805 sha256=e2d74e93d8961534fb71e8d414f5e23b4534ed3bf3d62a1d8447c221a8e43381\n",
            "  Stored in directory: /tmp/pip-ephem-wheel-cache-fnybov43/wheels/35/01/1b/48d47c6d8246b035aaa21b340cfee8a334384991bb59283a2c\n",
            "Successfully built torchtext\n",
            "Installing collected packages: torchtext\n",
            "  Attempting uninstall: torchtext\n",
            "    Found existing installation: torchtext 0.15.2\n",
            "    Uninstalling torchtext-0.15.2:\n",
            "      Successfully uninstalled torchtext-0.15.2\n",
            "Successfully installed torchtext-0.10.0a0+4da1de3\n"
          ]
        }
      ],
      "source": [
        "!pip install transformers\n",
        "!pip install keras.preprocessing\n",
        "!pip install git+https://github.com/pytorch/text.git@v0.10.0"
      ]
    },
    {
      "cell_type": "code",
      "execution_count": 5,
      "metadata": {
        "id": "fBr2V8S1LAt1"
      },
      "outputs": [],
      "source": [
        "import pandas as pd\n",
        "import numpy as np\n",
        "import torch\n",
        "\n",
        "\n",
        "from transformers import BertForSequenceClassification, BertConfig, BertTokenizer\n",
        "from tensorflow.keras.preprocessing.sequence import pad_sequences\n",
        "from sklearn.metrics import classification_report\n",
        "import matplotlib.pyplot as plt\n",
        "\n",
        "# Preliminaries\n",
        "from torchtext.legacy.data import Field, TabularDataset, BucketIterator, Iterator\n",
        "\n",
        "\n",
        "# Models\n",
        "import torch.nn as nn\n",
        "\n",
        "# Training\n",
        "import torch.optim as optim\n",
        "\n",
        "# Evaluation\n",
        "from sklearn.metrics import accuracy_score, classification_report, confusion_matrix\n",
        "import seaborn as sns"
      ]
    },
    {
      "cell_type": "markdown",
      "metadata": {
        "id": "D87UOuPvZWf9"
      },
      "source": [
        "## Preliminaries"
      ]
    },
    {
      "cell_type": "code",
      "execution_count": 6,
      "metadata": {
        "colab": {
          "base_uri": "https://localhost:8080/",
          "height": 145,
          "referenced_widgets": [
            "6440fe4f7aa744bfa76fe4baed1a4a6c",
            "34ebbf9f1b674d8db5b0620512d28d8d",
            "1f74216a61ee4c7a86f823559f5fa221",
            "19b6777412ca48019d3464c7c80795d2",
            "752eb61762674b2e8d99055f7f72f5bc",
            "c092186e46ef4a4fb7967a1b87c75884",
            "11ccebe888f044849ce4125213fa201e",
            "3403aaff7375471e8f552cd6233b9580",
            "c6de2eed32e14aba947c59760fb64de5",
            "4ff296d08d49416dbbae2a16dd440936",
            "ef72248d28584855a2e29427bf0c52be",
            "e82fa9f882bf40798ff6e9d82a1c99bf",
            "7eccdecba17042d49ec4db6721ad8941",
            "e57655bf9e034289b1254d18bc51ad91",
            "c7aad7128c4249418c8ff33cd813fd75",
            "32810942cb5c4bdf85ea50dd74795080",
            "2eee5a19505e4b26a253697b11dffd08",
            "5041a93c22b64b7a9118d68de3b4429c",
            "e2dde1b5344c4aefac234b2b25cd3e9a",
            "1c62266976ed496e8bdada47deee3170",
            "4a60a312013d48be9a9e4cb58c788dbe",
            "64dda527da43450fa9cab2ab247b60f8",
            "64aa2ff040ec48949d1dbd881ff40a25",
            "b269b5797a0a4726b2bed3cac55a214c",
            "c46049b9434c41b08dff7d545d38a7c9",
            "37384cee3176455088200d237b1516ad",
            "c06e2bcfdaf246a78e19891e596a0b0f",
            "2b0fe4cc34bf455fb6cb1ecbabebc124",
            "c93c8509a854456d832e52c86105cc45",
            "073eb1c6c0264918a5c4d3cceff8757d",
            "989a95bf809e472384c713a5eb97ddc4",
            "47ce329f0ba4446085caee87eaaf4ebf",
            "2ff2dde1ea68454895e51d45bcdfd020",
            "977dc0b60b334c6b92579c97eb50ca3f",
            "3b5af4f087f44e93a1577554f3937382",
            "c4e7f7e8da1a4f389c2d97a5697c70be",
            "54e2b091daf54b10a09cf60dc66f7bf9",
            "325dd7f087a94264a66684ad93710d33",
            "049a4e1a5ee542c4afb5853f41239f04",
            "b84294618ef446baadbba9b1e28ba25e",
            "df808741179b4ed3bf93e6f297d3077e",
            "0777597b64de4899be968aece8dbc314",
            "eb2c37ff0e314fed86306ae23617d1da",
            "e465069dc67b41c1b0864c60e95b381f"
          ]
        },
        "id": "AtWXlthhPvxl",
        "outputId": "5f305cc4-68ff-42c3-e0f3-2e9d19b9288a"
      },
      "outputs": [
        {
          "output_type": "display_data",
          "data": {
            "text/plain": [
              "Downloading (…)solve/main/vocab.txt:   0%|          | 0.00/229k [00:00<?, ?B/s]"
            ],
            "application/vnd.jupyter.widget-view+json": {
              "version_major": 2,
              "version_minor": 0,
              "model_id": "6440fe4f7aa744bfa76fe4baed1a4a6c"
            }
          },
          "metadata": {}
        },
        {
          "output_type": "display_data",
          "data": {
            "text/plain": [
              "Downloading (…)cial_tokens_map.json:   0%|          | 0.00/112 [00:00<?, ?B/s]"
            ],
            "application/vnd.jupyter.widget-view+json": {
              "version_major": 2,
              "version_minor": 0,
              "model_id": "e82fa9f882bf40798ff6e9d82a1c99bf"
            }
          },
          "metadata": {}
        },
        {
          "output_type": "display_data",
          "data": {
            "text/plain": [
              "Downloading (…)okenizer_config.json:   0%|          | 0.00/2.00 [00:00<?, ?B/s]"
            ],
            "application/vnd.jupyter.widget-view+json": {
              "version_major": 2,
              "version_minor": 0,
              "model_id": "64aa2ff040ec48949d1dbd881ff40a25"
            }
          },
          "metadata": {}
        },
        {
          "output_type": "display_data",
          "data": {
            "text/plain": [
              "Downloading (…)lve/main/config.json:   0%|          | 0.00/1.53k [00:00<?, ?B/s]"
            ],
            "application/vnd.jupyter.widget-view+json": {
              "version_major": 2,
              "version_minor": 0,
              "model_id": "977dc0b60b334c6b92579c97eb50ca3f"
            }
          },
          "metadata": {}
        }
      ],
      "source": [
        "tokenizer = BertTokenizer.from_pretrained('indobenchmark/indobert-base-p1')"
      ]
    },
    {
      "cell_type": "code",
      "execution_count": 7,
      "metadata": {
        "id": "gWg-WDVbWyGO"
      },
      "outputs": [],
      "source": [
        "device = torch.device('cuda:0' if torch.cuda.is_available() else 'cpu')"
      ]
    },
    {
      "cell_type": "markdown",
      "metadata": {
        "id": "1Fwjvqc0YrCP"
      },
      "source": [
        "##Random Seed"
      ]
    },
    {
      "cell_type": "code",
      "execution_count": 8,
      "metadata": {
        "id": "NTH_lIhxYpuj"
      },
      "outputs": [],
      "source": [
        "import random\n",
        "\n",
        "seed = 42\n",
        "torch.manual_seed(seed)\n",
        "torch.cuda.manual_seed(seed)\n",
        "torch.cuda.manual_seed_all(seed)  # jika menggunakan multiple GPUs\n",
        "random.seed(seed)\n",
        "np.random.seed(seed)\n",
        "torch.backends.cudnn.deterministic = True\n",
        "torch.backends.cudnn.benchmark = False"
      ]
    },
    {
      "cell_type": "markdown",
      "metadata": {
        "id": "C7sIHRLwaoyM"
      },
      "source": [
        "## Model"
      ]
    },
    {
      "cell_type": "code",
      "execution_count": 9,
      "metadata": {
        "id": "GeZ14Ky5Lqih"
      },
      "outputs": [],
      "source": [
        "# Model parameter\n",
        "MAX_SEQ_LEN = 128\n",
        "PAD_INDEX = tokenizer.convert_tokens_to_ids(tokenizer.pad_token)\n",
        "UNK_INDEX = tokenizer.convert_tokens_to_ids(tokenizer.unk_token)\n",
        "\n",
        "# Fields\n",
        "label_field = Field(sequential=False, use_vocab=False, batch_first=True, dtype=torch.float)\n",
        "text_field = Field(use_vocab=False, tokenize=tokenizer.encode, lower=False, include_lengths=False, batch_first=True,\n",
        "                   fix_length=MAX_SEQ_LEN, pad_token=PAD_INDEX, unk_token=UNK_INDEX)\n",
        "fields = [('Label', label_field), ('Tokenizing_Head', text_field), ('Tokenizing_Body', text_field)]\n",
        "\n",
        "train, valid, test = TabularDataset.splits(path=source_folder, train='train3.csv', validation='valid3.csv', test='test3.csv',\n",
        "                                           format='csv', fields=fields, skip_header=True)\n"
      ]
    },
    {
      "cell_type": "code",
      "execution_count": 10,
      "metadata": {
        "id": "NSKPey98jRpM"
      },
      "outputs": [],
      "source": [
        "# Iterators\n",
        "train_iter = BucketIterator(train, batch_size=16, sort_key=lambda x: len(x.Tokenizing_Body),\n",
        "                            device=device, train=True, sort=True, sort_within_batch=True)\n",
        "valid_iter = BucketIterator(valid, batch_size=16, sort_key=lambda x: len(x.Tokenizing_Body),\n",
        "                            device=device, train=True, sort=True, sort_within_batch=True)\n",
        "test_iter = Iterator(test, batch_size=16, device=device, train=False, shuffle=False, sort=False)"
      ]
    },
    {
      "cell_type": "code",
      "execution_count": 11,
      "metadata": {
        "id": "YfFxkaJq1WmC"
      },
      "outputs": [],
      "source": [
        "# Module\n",
        "class BERT(nn.Module):\n",
        "\n",
        "    def __init__(self):\n",
        "        super(BERT, self).__init__()\n",
        "\n",
        "        options_name = \"indobenchmark/indobert-base-p1\"\n",
        "        self.encoder = BertForSequenceClassification.from_pretrained(options_name)\n",
        "\n",
        "    # def forward(self, headline, body, label=None):\n",
        "    #     loss, text_fea = self.encoder(input_ids=body, attention_mask=(body!=PAD_INDEX), token_type_ids=(headline!=PAD_INDEX), labels=label)[:2]\n",
        "    def forward(self, text, label):\n",
        "        loss, text_fea = self.encoder(text, labels=label)[:2]\n",
        "\n",
        "        return loss, text_fea"
      ]
    },
    {
      "cell_type": "code",
      "execution_count": 12,
      "metadata": {
        "id": "egjaxiu51prx"
      },
      "outputs": [],
      "source": [
        "def save_checkpoint(save_path, model, valid_loss):\n",
        "    if save_path is None:\n",
        "        return\n",
        "\n",
        "    state_dict = {'model_state_dict': model.state_dict(),\n",
        "                  'valid_loss': valid_loss}\n",
        "\n",
        "    torch.save(state_dict, save_path)\n",
        "    print(f'Model saved to ==> {save_path}')\n",
        "\n",
        "\n",
        "def load_checkpoint(load_path, model):\n",
        "    if load_path is None:\n",
        "        return\n",
        "\n",
        "    state_dict = torch.load(load_path, map_location=device)\n",
        "    print(f'Model loaded from <== {load_path}')\n",
        "\n",
        "    model.load_state_dict(state_dict['model_state_dict'])\n",
        "    return state_dict['valid_loss']\n",
        "\n",
        "\n",
        "def save_metrics(save_path, train_loss_list, valid_loss_list, epoch_list):\n",
        "    if save_path is None:\n",
        "        return\n",
        "\n",
        "    state_dict = {'train_loss_list': train_loss_list,\n",
        "                  'valid_loss_list': valid_loss_list,\n",
        "                  'epoch_list': epoch_list}\n",
        "\n",
        "    torch.save(state_dict, save_path)\n",
        "    print(f'Metrics saved to ==> {save_path}')\n",
        "\n",
        "\n",
        "def load_metrics(load_path):\n",
        "    if load_path is None:\n",
        "        return\n",
        "\n",
        "    state_dict = torch.load(load_path, map_location=device)\n",
        "    print(f'Metrics loaded from <== {load_path}')\n",
        "\n",
        "    return state_dict['train_loss_list'], state_dict['valid_loss_list'], state_dict['epoch_list']"
      ]
    },
    {
      "cell_type": "markdown",
      "metadata": {
        "id": "hsAT0DKHZ1si"
      },
      "source": [
        "## Training and Validation"
      ]
    },
    {
      "cell_type": "code",
      "execution_count": 13,
      "metadata": {
        "id": "mf4FbhurXdUs"
      },
      "outputs": [],
      "source": [
        "def train(model,\n",
        "          optimizer,\n",
        "          criterion=nn.BCELoss(),\n",
        "          train_loader=train_iter,\n",
        "          valid_loader=valid_iter,\n",
        "          num_epochs=10,\n",
        "          eval_every=1,\n",
        "          file_path=destination_folder,\n",
        "          best_valid_loss=float(\"Inf\"),\n",
        "          patience=3):\n",
        "\n",
        "    # initialize running values\n",
        "    running_loss = 0.0\n",
        "    valid_running_loss = 0.0\n",
        "    train_loss_list = []\n",
        "    valid_loss_list = []\n",
        "    epoch_list = []\n",
        "\n",
        "    # training loop\n",
        "    model.train()\n",
        "    for epoch in range(num_epochs):\n",
        "        for (labels, title, text), _ in train_loader:\n",
        "            labels = labels.type(torch.LongTensor)\n",
        "            labels = labels.to(device)\n",
        "            text = text.type(torch.LongTensor)\n",
        "            text = text.to(device)\n",
        "            output = model(text, labels)\n",
        "            loss, _ = output\n",
        "\n",
        "            optimizer.zero_grad()\n",
        "            loss.backward()\n",
        "            optimizer.step()\n",
        "\n",
        "            # update running values\n",
        "            running_loss += loss.item()\n",
        "\n",
        "        # evaluation step\n",
        "        if epoch % eval_every == 0:\n",
        "            model.eval()\n",
        "            with torch.no_grad():\n",
        "                # validation loop\n",
        "                for (labels, title, text), _ in valid_loader:\n",
        "                    labels = labels.type(torch.LongTensor)\n",
        "                    labels = labels.to(device)\n",
        "                    text = text.type(torch.LongTensor)\n",
        "                    text = text.to(device)\n",
        "                    output = model(text, labels)\n",
        "                    loss, _ = output\n",
        "\n",
        "                    valid_running_loss += loss.item()\n",
        "\n",
        "            # evaluation\n",
        "            average_train_loss = running_loss / len(train_loader)\n",
        "            average_valid_loss = valid_running_loss / len(valid_loader)\n",
        "            train_loss_list.append(average_train_loss)\n",
        "            valid_loss_list.append(average_valid_loss)\n",
        "            epoch_list.append(epoch)\n",
        "\n",
        "            # resetting running values\n",
        "            running_loss = 0.0\n",
        "            valid_running_loss = 0.0\n",
        "            model.train()\n",
        "\n",
        "            # print progress\n",
        "            print('Epoch [{}/{}], Train Loss: {:.4f}, Valid Loss: {:.4f}'\n",
        "                  .format(epoch+1, num_epochs, average_train_loss, average_valid_loss))\n",
        "\n",
        "            # checkpoint\n",
        "            if best_valid_loss > average_valid_loss:\n",
        "                best_valid_loss = average_valid_loss\n",
        "                save_checkpoint(file_path + '/' + 'model.pt', model, best_valid_loss)\n",
        "                save_metrics(file_path + '/' + 'metrics.pt', train_loss_list, valid_loss_list, epoch_list)\n",
        "\n",
        "    save_metrics(file_path + '/' + 'metrics.pt', train_loss_list, valid_loss_list, epoch_list)\n",
        "    print('Finished Training!')\n",
        "    return train_loss_list, valid_loss_list, epoch_list, best_valid_loss"
      ]
    },
    {
      "cell_type": "code",
      "execution_count": 14,
      "metadata": {
        "colab": {
          "base_uri": "https://localhost:8080/",
          "height": 520,
          "referenced_widgets": [
            "2d506b8cfef84240a1f5170e0a9068fe",
            "484d696d996447558cd1190dc71770cd",
            "8fb3bcc93c3347d7bf575b4f598641fc",
            "d2af5eef171a4ae1939c7f2a6e6e5459",
            "6141fe96bc3e48098f18e96ef59fce4b",
            "512094da0e074f33a024e5eec3b8e059",
            "7ea22bfba0404579bb8894ea794d785d",
            "a3556711e1df4f30a9561f2c066b38a9",
            "715c3a47410b4e4e807274a232fa362c",
            "f164a0de759d40c3a6273531c1c292cf",
            "725be5658bbe4429b476d8feb802a121"
          ]
        },
        "id": "qgEMeGkE25GR",
        "outputId": "ff2763f0-07c5-47e3-a7ca-b934ba232b87"
      },
      "outputs": [
        {
          "output_type": "display_data",
          "data": {
            "text/plain": [
              "Downloading pytorch_model.bin:   0%|          | 0.00/498M [00:00<?, ?B/s]"
            ],
            "application/vnd.jupyter.widget-view+json": {
              "version_major": 2,
              "version_minor": 0,
              "model_id": "2d506b8cfef84240a1f5170e0a9068fe"
            }
          },
          "metadata": {}
        },
        {
          "output_type": "stream",
          "name": "stderr",
          "text": [
            "Some weights of BertForSequenceClassification were not initialized from the model checkpoint at indobenchmark/indobert-base-p1 and are newly initialized: ['classifier.weight', 'classifier.bias']\n",
            "You should probably TRAIN this model on a down-stream task to be able to use it for predictions and inference.\n"
          ]
        },
        {
          "output_type": "stream",
          "name": "stdout",
          "text": [
            "Epoch [1/10], Train Loss: 0.6521, Valid Loss: 0.7228\n",
            "Model saved to ==> /content/drive/MyDrive/TASI/GridSearch/ModelImbalance5/model.pt\n",
            "Metrics saved to ==> /content/drive/MyDrive/TASI/GridSearch/ModelImbalance5/metrics.pt\n",
            "Epoch [2/10], Train Loss: 0.6210, Valid Loss: 0.6529\n",
            "Model saved to ==> /content/drive/MyDrive/TASI/GridSearch/ModelImbalance5/model.pt\n",
            "Metrics saved to ==> /content/drive/MyDrive/TASI/GridSearch/ModelImbalance5/metrics.pt\n",
            "Epoch [3/10], Train Loss: 0.2738, Valid Loss: 0.2941\n",
            "Model saved to ==> /content/drive/MyDrive/TASI/GridSearch/ModelImbalance5/model.pt\n",
            "Metrics saved to ==> /content/drive/MyDrive/TASI/GridSearch/ModelImbalance5/metrics.pt\n",
            "Epoch [4/10], Train Loss: 0.1369, Valid Loss: 0.2067\n",
            "Model saved to ==> /content/drive/MyDrive/TASI/GridSearch/ModelImbalance5/model.pt\n",
            "Metrics saved to ==> /content/drive/MyDrive/TASI/GridSearch/ModelImbalance5/metrics.pt\n",
            "Epoch [5/10], Train Loss: 0.0909, Valid Loss: 0.1357\n",
            "Model saved to ==> /content/drive/MyDrive/TASI/GridSearch/ModelImbalance5/model.pt\n",
            "Metrics saved to ==> /content/drive/MyDrive/TASI/GridSearch/ModelImbalance5/metrics.pt\n",
            "Epoch [6/10], Train Loss: 0.0621, Valid Loss: 0.3082\n",
            "Epoch [7/10], Train Loss: 0.0442, Valid Loss: 0.0972\n",
            "Model saved to ==> /content/drive/MyDrive/TASI/GridSearch/ModelImbalance5/model.pt\n",
            "Metrics saved to ==> /content/drive/MyDrive/TASI/GridSearch/ModelImbalance5/metrics.pt\n",
            "Epoch [8/10], Train Loss: 0.0472, Valid Loss: 0.1007\n",
            "Epoch [9/10], Train Loss: 0.0306, Valid Loss: 0.1404\n",
            "Epoch [10/10], Train Loss: 0.0279, Valid Loss: 0.1502\n",
            "Metrics saved to ==> /content/drive/MyDrive/TASI/GridSearch/ModelImbalance5/metrics.pt\n",
            "Finished Training!\n"
          ]
        }
      ],
      "source": [
        "model = BERT().to(device)\n",
        "optimizer = optim.Adam(model.parameters(), lr=2e-5)\n",
        "\n",
        "train_loss_list, valid_loss_list, epoch_list, best_valid_loss = train(model=model, optimizer=optimizer)"
      ]
    },
    {
      "cell_type": "code",
      "execution_count": 15,
      "metadata": {
        "colab": {
          "base_uri": "https://localhost:8080/",
          "height": 466
        },
        "id": "aB-0Up2JSsCC",
        "outputId": "a9b3078a-18e2-4ec4-96ac-a921967ead0f"
      },
      "outputs": [
        {
          "output_type": "stream",
          "name": "stdout",
          "text": [
            "Metrics loaded from <== /content/drive/MyDrive/TASI/GridSearch/ModelImbalance5/metrics.pt\n"
          ]
        },
        {
          "output_type": "display_data",
          "data": {
            "text/plain": [
              "<Figure size 640x480 with 1 Axes>"
            ],
            "image/png": "[encoded data removed]"
          },
          "metadata": {}
        }
      ],
      "source": [
        "train_loss_list, valid_loss_list, epoch_list = load_metrics(destination_folder + '/metrics.pt')\n",
        "plt.plot(epoch_list, train_loss_list, label='Train')\n",
        "plt.plot(epoch_list, valid_loss_list, label='Valid')\n",
        "plt.xlabel('Epochs')\n",
        "plt.ylabel('Loss')\n",
        "plt.legend()\n",
        "plt.show()"
      ]
    },
    {
      "cell_type": "markdown",
      "metadata": {
        "id": "2HlW7cvQaYvl"
      },
      "source": [
        "## Testing"
      ]
    },
    {
      "cell_type": "code",
      "execution_count": 16,
      "metadata": {
        "colab": {
          "base_uri": "https://localhost:8080/",
          "height": 614
        },
        "id": "uMcQfFEFS1AB",
        "outputId": "0d76a02c-d726-4331-cedc-643291828403"
      },
      "outputs": [
        {
          "output_type": "stream",
          "name": "stderr",
          "text": [
            "Some weights of BertForSequenceClassification were not initialized from the model checkpoint at indobenchmark/indobert-base-p1 and are newly initialized: ['classifier.weight', 'classifier.bias']\n",
            "You should probably TRAIN this model on a down-stream task to be able to use it for predictions and inference.\n"
          ]
        },
        {
          "output_type": "stream",
          "name": "stdout",
          "text": [
            "Model loaded from <== /content/drive/MyDrive/TASI/GridSearch/ModelImbalance5/model.pt\n",
            "Classification Report:\n",
            "Real - Precision: 0.9633, Recall: 0.9292, F1-Score: 0.9459\n",
            "Fake - Precision: 0.8632, Recall: 0.9266, F1-Score: 0.8938\n",
            "Accuracy: 0.9283582089552239\n"
          ]
        },
        {
          "output_type": "display_data",
          "data": {
            "text/plain": [
              "<Figure size 640x480 with 2 Axes>"
            ],
            "image/png": "[encoded data removed]"
          },
          "metadata": {}
        }
      ],
      "source": [
        "from sklearn.metrics import classification_report, accuracy_score, confusion_matrix\n",
        "import numpy as np\n",
        "import seaborn as sns\n",
        "import matplotlib.pyplot as plt\n",
        "\n",
        "def evaluate(model, test_loader):\n",
        "    y_pred = []\n",
        "    y_true = []\n",
        "\n",
        "    model.eval()\n",
        "    with torch.no_grad():\n",
        "        for (labels, title, text), _ in test_loader:\n",
        "            labels = labels.type(torch.LongTensor)\n",
        "            labels = labels.to(device)\n",
        "            text = text.type(torch.LongTensor)\n",
        "            text = text.to(device)\n",
        "            output = model(text, labels)\n",
        "\n",
        "            _, output = output\n",
        "            y_pred.extend(torch.argmax(output, 1).tolist())\n",
        "            y_true.extend(labels.tolist())\n",
        "\n",
        "    # Mengganti label 1 menjadi \"fake\" dan label 0 menjadi \"real\"\n",
        "    y_true = np.where(np.array(y_true) == 0, \"real\", \"fake\")\n",
        "    y_pred = np.where(np.array(y_pred) == 0, \"real\", \"fake\")\n",
        "\n",
        "    # Menghitung dan mencetak hasil precision, recall, f1-score, dan accuracy\n",
        "    report = classification_report(y_true, y_pred, labels=[\"real\", \"fake\"], digits=4, output_dict=True)\n",
        "    print('Classification Report:')\n",
        "    for label, scores in report.items():\n",
        "        if label in [\"real\", \"fake\"]:\n",
        "            precision = scores['precision']\n",
        "            recall = scores['recall']\n",
        "            f1_score = scores['f1-score']\n",
        "            print(f\"{label.capitalize()} - Precision: {precision:.4f}, Recall: {recall:.4f}, F1-Score: {f1_score:.4f}\")\n",
        "    accuracy = accuracy_score(y_true, y_pred)\n",
        "    print(f'Accuracy: {accuracy}')\n",
        "\n",
        "    # Menghitung dan mencetak confusion matrix\n",
        "    cm = confusion_matrix(y_true, y_pred, labels=[\"real\", \"fake\"])\n",
        "    ax = plt.subplot()\n",
        "    sns.heatmap(cm, annot=True, ax=ax, cmap='Blues', fmt=\"d\")\n",
        "    ax.set_title('Confusion Matrix')\n",
        "    ax.set_xlabel('Predicted Labels')\n",
        "    ax.set_ylabel('True Labels')\n",
        "    ax.xaxis.set_ticklabels(['Real', 'Fake'])\n",
        "    ax.yaxis.set_ticklabels(['Real', 'Fake'])\n",
        "    plt.show()\n",
        "\n",
        "best_model = BERT().to(device)\n",
        "\n",
        "load_checkpoint(destination_folder + '/model.pt', best_model)\n",
        "\n",
        "evaluate(best_model, test_iter)"
      ]
    },
    {
      "cell_type": "markdown",
      "metadata": {
        "id": "lH-ndpu-LdhU"
      },
      "source": [
        "##Hyperparameter Tuning with Import Grid"
      ]
    },
    {
      "cell_type": "code",
      "execution_count": 17,
      "metadata": {
        "colab": {
          "base_uri": "https://localhost:8080/"
        },
        "id": "BTVEwsVECsNB",
        "outputId": "997fabb8-f59b-4923-ac9b-5aaa9eef696a"
      },
      "outputs": [
        {
          "output_type": "stream",
          "name": "stdout",
          "text": [
            "Looking in indexes: https://pypi.org/simple, https://us-python.pkg.dev/colab-wheels/public/simple/\n",
            "Collecting optuna\n",
            "  Downloading optuna-3.2.0-py3-none-any.whl (390 kB)\n",
            "\u001b[2K     \u001b[90m━━━━━━━━━━━━━━━━━━━━━━━━━━━━━━━━━━━━━━\u001b[0m \u001b[32m390.6/390.6 kB\u001b[0m \u001b[31m17.5 MB/s\u001b[0m eta \u001b[36m0:00:00\u001b[0m\n",
            "\u001b[?25hCollecting alembic>=1.5.0 (from optuna)\n",
            "  Downloading alembic-1.11.1-py3-none-any.whl (224 kB)\n",
            "\u001b[2K     \u001b[90m━━━━━━━━━━━━━━━━━━━━━━━━━━━━━━━━━━━━━━\u001b[0m \u001b[32m224.5/224.5 kB\u001b[0m \u001b[31m27.5 MB/s\u001b[0m eta \u001b[36m0:00:00\u001b[0m\n",
            "\u001b[?25hCollecting cmaes>=0.9.1 (from optuna)\n",
            "  Downloading cmaes-0.9.1-py3-none-any.whl (21 kB)\n",
            "Collecting colorlog (from optuna)\n",
            "  Downloading colorlog-6.7.0-py2.py3-none-any.whl (11 kB)\n",
            "Requirement already satisfied: numpy in /usr/local/lib/python3.10/dist-packages (from optuna) (1.22.4)\n",
            "Requirement already satisfied: packaging>=20.0 in /usr/local/lib/python3.10/dist-packages (from optuna) (23.1)\n",
            "Requirement already satisfied: sqlalchemy>=1.3.0 in /usr/local/lib/python3.10/dist-packages (from optuna) (2.0.10)\n",
            "Requirement already satisfied: tqdm in /usr/local/lib/python3.10/dist-packages (from optuna) (4.65.0)\n",
            "Requirement already satisfied: PyYAML in /usr/local/lib/python3.10/dist-packages (from optuna) (6.0)\n",
            "Collecting Mako (from alembic>=1.5.0->optuna)\n",
            "  Downloading Mako-1.2.4-py3-none-any.whl (78 kB)\n",
            "\u001b[2K     \u001b[90m━━━━━━━━━━━━━━━━━━━━━━━━━━━━━━━━━━━━━━━━\u001b[0m \u001b[32m78.7/78.7 kB\u001b[0m \u001b[31m12.4 MB/s\u001b[0m eta \u001b[36m0:00:00\u001b[0m\n",
            "\u001b[?25hRequirement already satisfied: typing-extensions>=4 in /usr/local/lib/python3.10/dist-packages (from alembic>=1.5.0->optuna) (4.5.0)\n",
            "Requirement already satisfied: greenlet!=0.4.17 in /usr/local/lib/python3.10/dist-packages (from sqlalchemy>=1.3.0->optuna) (2.0.2)\n",
            "Requirement already satisfied: MarkupSafe>=0.9.2 in /usr/local/lib/python3.10/dist-packages (from Mako->alembic>=1.5.0->optuna) (2.1.2)\n",
            "Installing collected packages: Mako, colorlog, cmaes, alembic, optuna\n",
            "Successfully installed Mako-1.2.4 alembic-1.11.1 cmaes-0.9.1 colorlog-6.7.0 optuna-3.2.0\n"
          ]
        }
      ],
      "source": [
        "!pip install optuna"
      ]
    },
    {
      "cell_type": "code",
      "execution_count": 19,
      "metadata": {
        "colab": {
          "base_uri": "https://localhost:8080/"
        },
        "id": "m4ZRW3Odyw8F",
        "outputId": "0f4f9aef-83c9-43df-bfd5-2ca4283b2155"
      },
      "outputs": [
        {
          "output_type": "stream",
          "name": "stderr",
          "text": [
            "[I 2023-06-20 08:16:13,067] A new study created in memory with name: no-name-985cbf24-6e6c-4662-9a4a-b113f946bd4d\n",
            "Some weights of BertForSequenceClassification were not initialized from the model checkpoint at indobenchmark/indobert-base-p1 and are newly initialized: ['classifier.weight', 'classifier.bias']\n",
            "You should probably TRAIN this model on a down-stream task to be able to use it for predictions and inference.\n"
          ]
        },
        {
          "output_type": "stream",
          "name": "stdout",
          "text": [
            "Epoch [1/5], Train Loss: 0.4281, Valid Loss: 0.2725\n",
            "Model saved to ==> /content/drive/MyDrive/TASI/GridSearch/ModelImbalance5/model.pt\n",
            "Metrics saved to ==> /content/drive/MyDrive/TASI/GridSearch/ModelImbalance5/metrics.pt\n",
            "Epoch [2/5], Train Loss: 0.2324, Valid Loss: 0.2335\n",
            "Model saved to ==> /content/drive/MyDrive/TASI/GridSearch/ModelImbalance5/model.pt\n",
            "Metrics saved to ==> /content/drive/MyDrive/TASI/GridSearch/ModelImbalance5/metrics.pt\n",
            "Epoch [3/5], Train Loss: 0.1483, Valid Loss: 0.2297\n",
            "Model saved to ==> /content/drive/MyDrive/TASI/GridSearch/ModelImbalance5/model.pt\n",
            "Metrics saved to ==> /content/drive/MyDrive/TASI/GridSearch/ModelImbalance5/metrics.pt\n",
            "Epoch [4/5], Train Loss: 0.0989, Valid Loss: 0.2649\n",
            "Epoch [5/5], Train Loss: 0.0576, Valid Loss: 0.3111\n",
            "Metrics saved to ==> /content/drive/MyDrive/TASI/GridSearch/ModelImbalance5/metrics.pt\n",
            "Finished Training!\n"
          ]
        },
        {
          "output_type": "stream",
          "name": "stderr",
          "text": [
            "[I 2023-06-20 08:18:04,225] Trial 0 finished with value: 0.22972964235980595 and parameters: {'lr': 5e-05, 'num_epochs': 5, 'batch_size': 32}. Best is trial 0 with value: 0.22972964235980595.\n",
            "Some weights of BertForSequenceClassification were not initialized from the model checkpoint at indobenchmark/indobert-base-p1 and are newly initialized: ['classifier.weight', 'classifier.bias']\n",
            "You should probably TRAIN this model on a down-stream task to be able to use it for predictions and inference.\n"
          ]
        },
        {
          "output_type": "stream",
          "name": "stdout",
          "text": [
            "Epoch [1/5], Train Loss: 0.6660, Valid Loss: 0.6480\n",
            "Model saved to ==> /content/drive/MyDrive/TASI/GridSearch/ModelImbalance5/model.pt\n",
            "Metrics saved to ==> /content/drive/MyDrive/TASI/GridSearch/ModelImbalance5/metrics.pt\n",
            "Epoch [2/5], Train Loss: 0.6759, Valid Loss: 0.6827\n",
            "Epoch [3/5], Train Loss: 0.5480, Valid Loss: 0.2730\n",
            "Model saved to ==> /content/drive/MyDrive/TASI/GridSearch/ModelImbalance5/model.pt\n",
            "Metrics saved to ==> /content/drive/MyDrive/TASI/GridSearch/ModelImbalance5/metrics.pt\n",
            "Epoch [4/5], Train Loss: 0.2011, Valid Loss: 0.1396\n",
            "Model saved to ==> /content/drive/MyDrive/TASI/GridSearch/ModelImbalance5/model.pt\n",
            "Metrics saved to ==> /content/drive/MyDrive/TASI/GridSearch/ModelImbalance5/metrics.pt\n",
            "Epoch [5/5], Train Loss: 0.1358, Valid Loss: 0.1893\n",
            "Metrics saved to ==> /content/drive/MyDrive/TASI/GridSearch/ModelImbalance5/metrics.pt\n",
            "Finished Training!\n"
          ]
        },
        {
          "output_type": "stream",
          "name": "stderr",
          "text": [
            "[I 2023-06-20 08:19:57,210] Trial 1 finished with value: 0.13960315340331622 and parameters: {'lr': 2e-05, 'num_epochs': 5, 'batch_size': 32}. Best is trial 1 with value: 0.13960315340331622.\n",
            "Some weights of BertForSequenceClassification were not initialized from the model checkpoint at indobenchmark/indobert-base-p1 and are newly initialized: ['classifier.weight', 'classifier.bias']\n",
            "You should probably TRAIN this model on a down-stream task to be able to use it for predictions and inference.\n"
          ]
        },
        {
          "output_type": "stream",
          "name": "stdout",
          "text": [
            "Epoch [1/5], Train Loss: 0.5519, Valid Loss: 0.3763\n",
            "Model saved to ==> /content/drive/MyDrive/TASI/GridSearch/ModelImbalance5/model.pt\n",
            "Metrics saved to ==> /content/drive/MyDrive/TASI/GridSearch/ModelImbalance5/metrics.pt\n",
            "Epoch [2/5], Train Loss: 0.3421, Valid Loss: 0.1895\n",
            "Model saved to ==> /content/drive/MyDrive/TASI/GridSearch/ModelImbalance5/model.pt\n",
            "Metrics saved to ==> /content/drive/MyDrive/TASI/GridSearch/ModelImbalance5/metrics.pt\n",
            "Epoch [3/5], Train Loss: 0.1833, Valid Loss: 0.1560\n",
            "Model saved to ==> /content/drive/MyDrive/TASI/GridSearch/ModelImbalance5/model.pt\n",
            "Metrics saved to ==> /content/drive/MyDrive/TASI/GridSearch/ModelImbalance5/metrics.pt\n",
            "Epoch [4/5], Train Loss: 0.1132, Valid Loss: 0.1872\n",
            "Epoch [5/5], Train Loss: 0.0673, Valid Loss: 0.1491\n"
          ]
        },
        {
          "output_type": "stream",
          "name": "stderr",
          "text": [
            "[I 2023-06-20 08:21:46,282] Trial 2 finished with value: 0.14907631758666998 and parameters: {'lr': 3e-05, 'num_epochs': 5, 'batch_size': 32}. Best is trial 1 with value: 0.13960315340331622.\n"
          ]
        },
        {
          "output_type": "stream",
          "name": "stdout",
          "text": [
            "Model saved to ==> /content/drive/MyDrive/TASI/GridSearch/ModelImbalance5/model.pt\n",
            "Metrics saved to ==> /content/drive/MyDrive/TASI/GridSearch/ModelImbalance5/metrics.pt\n",
            "Metrics saved to ==> /content/drive/MyDrive/TASI/GridSearch/ModelImbalance5/metrics.pt\n",
            "Finished Training!\n"
          ]
        },
        {
          "output_type": "stream",
          "name": "stderr",
          "text": [
            "Some weights of BertForSequenceClassification were not initialized from the model checkpoint at indobenchmark/indobert-base-p1 and are newly initialized: ['classifier.weight', 'classifier.bias']\n",
            "You should probably TRAIN this model on a down-stream task to be able to use it for predictions and inference.\n"
          ]
        },
        {
          "output_type": "stream",
          "name": "stdout",
          "text": [
            "Epoch [1/7], Train Loss: 0.6422, Valid Loss: 0.6383\n",
            "Model saved to ==> /content/drive/MyDrive/TASI/GridSearch/ModelImbalance5/model.pt\n",
            "Metrics saved to ==> /content/drive/MyDrive/TASI/GridSearch/ModelImbalance5/metrics.pt\n",
            "Epoch [2/7], Train Loss: 0.4165, Valid Loss: 0.2546\n",
            "Model saved to ==> /content/drive/MyDrive/TASI/GridSearch/ModelImbalance5/model.pt\n",
            "Metrics saved to ==> /content/drive/MyDrive/TASI/GridSearch/ModelImbalance5/metrics.pt\n",
            "Epoch [3/7], Train Loss: 0.2175, Valid Loss: 0.4191\n",
            "Epoch [4/7], Train Loss: 0.0835, Valid Loss: 0.2474\n",
            "Model saved to ==> /content/drive/MyDrive/TASI/GridSearch/ModelImbalance5/model.pt\n",
            "Metrics saved to ==> /content/drive/MyDrive/TASI/GridSearch/ModelImbalance5/metrics.pt\n",
            "Epoch [5/7], Train Loss: 0.0945, Valid Loss: 0.2800\n",
            "Epoch [6/7], Train Loss: 0.0424, Valid Loss: 0.1931\n",
            "Model saved to ==> /content/drive/MyDrive/TASI/GridSearch/ModelImbalance5/model.pt\n",
            "Metrics saved to ==> /content/drive/MyDrive/TASI/GridSearch/ModelImbalance5/metrics.pt\n"
          ]
        },
        {
          "output_type": "stream",
          "name": "stderr",
          "text": [
            "[I 2023-06-20 08:24:15,081] Trial 3 finished with value: 0.19308663342547203 and parameters: {'lr': 3e-05, 'num_epochs': 7, 'batch_size': 16}. Best is trial 1 with value: 0.13960315340331622.\n"
          ]
        },
        {
          "output_type": "stream",
          "name": "stdout",
          "text": [
            "Epoch [7/7], Train Loss: 0.0265, Valid Loss: 0.3652\n",
            "Metrics saved to ==> /content/drive/MyDrive/TASI/GridSearch/ModelImbalance5/metrics.pt\n",
            "Finished Training!\n"
          ]
        },
        {
          "output_type": "stream",
          "name": "stderr",
          "text": [
            "Some weights of BertForSequenceClassification were not initialized from the model checkpoint at indobenchmark/indobert-base-p1 and are newly initialized: ['classifier.weight', 'classifier.bias']\n",
            "You should probably TRAIN this model on a down-stream task to be able to use it for predictions and inference.\n"
          ]
        },
        {
          "output_type": "stream",
          "name": "stdout",
          "text": [
            "Epoch [1/9], Train Loss: 0.6747, Valid Loss: 0.6538\n",
            "Model saved to ==> /content/drive/MyDrive/TASI/GridSearch/ModelImbalance5/model.pt\n",
            "Metrics saved to ==> /content/drive/MyDrive/TASI/GridSearch/ModelImbalance5/metrics.pt\n",
            "Epoch [2/9], Train Loss: 0.6894, Valid Loss: 0.6587\n",
            "Epoch [3/9], Train Loss: 0.6787, Valid Loss: 0.6672\n",
            "Epoch [4/9], Train Loss: 0.7166, Valid Loss: 0.6900\n",
            "Epoch [5/9], Train Loss: 0.6978, Valid Loss: 0.6761\n",
            "Epoch [6/9], Train Loss: 0.6954, Valid Loss: 0.7072\n",
            "Epoch [7/9], Train Loss: 0.7229, Valid Loss: 0.6862\n",
            "Epoch [8/9], Train Loss: 0.6840, Valid Loss: 0.7027\n"
          ]
        },
        {
          "output_type": "stream",
          "name": "stderr",
          "text": [
            "[I 2023-06-20 08:27:16,378] Trial 4 finished with value: 0.6537607099328723 and parameters: {'lr': 3e-05, 'num_epochs': 9, 'batch_size': 16}. Best is trial 1 with value: 0.13960315340331622.\n"
          ]
        },
        {
          "output_type": "stream",
          "name": "stdout",
          "text": [
            "Epoch [9/9], Train Loss: 0.6916, Valid Loss: 0.7812\n",
            "Metrics saved to ==> /content/drive/MyDrive/TASI/GridSearch/ModelImbalance5/metrics.pt\n",
            "Finished Training!\n"
          ]
        },
        {
          "output_type": "stream",
          "name": "stderr",
          "text": [
            "Some weights of BertForSequenceClassification were not initialized from the model checkpoint at indobenchmark/indobert-base-p1 and are newly initialized: ['classifier.weight', 'classifier.bias']\n",
            "You should probably TRAIN this model on a down-stream task to be able to use it for predictions and inference.\n"
          ]
        },
        {
          "output_type": "stream",
          "name": "stdout",
          "text": [
            "Epoch [1/5], Train Loss: 0.6559, Valid Loss: 0.6158\n",
            "Model saved to ==> /content/drive/MyDrive/TASI/GridSearch/ModelImbalance5/model.pt\n",
            "Metrics saved to ==> /content/drive/MyDrive/TASI/GridSearch/ModelImbalance5/metrics.pt\n",
            "Epoch [2/5], Train Loss: 0.3208, Valid Loss: 0.3257\n",
            "Model saved to ==> /content/drive/MyDrive/TASI/GridSearch/ModelImbalance5/model.pt\n",
            "Metrics saved to ==> /content/drive/MyDrive/TASI/GridSearch/ModelImbalance5/metrics.pt\n",
            "Epoch [3/5], Train Loss: 0.1612, Valid Loss: 0.4034\n",
            "Epoch [4/5], Train Loss: 0.0883, Valid Loss: 0.1667\n",
            "Model saved to ==> /content/drive/MyDrive/TASI/GridSearch/ModelImbalance5/model.pt\n",
            "Metrics saved to ==> /content/drive/MyDrive/TASI/GridSearch/ModelImbalance5/metrics.pt\n"
          ]
        },
        {
          "output_type": "stream",
          "name": "stderr",
          "text": [
            "[I 2023-06-20 08:29:07,294] Trial 5 finished with value: 0.16667932800815574 and parameters: {'lr': 5e-05, 'num_epochs': 5, 'batch_size': 16}. Best is trial 1 with value: 0.13960315340331622.\n"
          ]
        },
        {
          "output_type": "stream",
          "name": "stdout",
          "text": [
            "Epoch [5/5], Train Loss: 0.0540, Valid Loss: 0.7641\n",
            "Metrics saved to ==> /content/drive/MyDrive/TASI/GridSearch/ModelImbalance5/metrics.pt\n",
            "Finished Training!\n"
          ]
        },
        {
          "output_type": "stream",
          "name": "stderr",
          "text": [
            "Some weights of BertForSequenceClassification were not initialized from the model checkpoint at indobenchmark/indobert-base-p1 and are newly initialized: ['classifier.weight', 'classifier.bias']\n",
            "You should probably TRAIN this model on a down-stream task to be able to use it for predictions and inference.\n"
          ]
        },
        {
          "output_type": "stream",
          "name": "stdout",
          "text": [
            "Epoch [1/10], Train Loss: 0.6223, Valid Loss: 0.4548\n",
            "Model saved to ==> /content/drive/MyDrive/TASI/GridSearch/ModelImbalance5/model.pt\n",
            "Metrics saved to ==> /content/drive/MyDrive/TASI/GridSearch/ModelImbalance5/metrics.pt\n",
            "Epoch [2/10], Train Loss: 0.3171, Valid Loss: 0.2242\n",
            "Model saved to ==> /content/drive/MyDrive/TASI/GridSearch/ModelImbalance5/model.pt\n",
            "Metrics saved to ==> /content/drive/MyDrive/TASI/GridSearch/ModelImbalance5/metrics.pt\n",
            "Epoch [3/10], Train Loss: 0.1675, Valid Loss: 0.1833\n",
            "Model saved to ==> /content/drive/MyDrive/TASI/GridSearch/ModelImbalance5/model.pt\n",
            "Metrics saved to ==> /content/drive/MyDrive/TASI/GridSearch/ModelImbalance5/metrics.pt\n",
            "Epoch [4/10], Train Loss: 0.1205, Valid Loss: 0.1347\n",
            "Model saved to ==> /content/drive/MyDrive/TASI/GridSearch/ModelImbalance5/model.pt\n",
            "Metrics saved to ==> /content/drive/MyDrive/TASI/GridSearch/ModelImbalance5/metrics.pt\n",
            "Epoch [5/10], Train Loss: 0.0636, Valid Loss: 0.1731\n",
            "Epoch [6/10], Train Loss: 0.0255, Valid Loss: 0.2093\n",
            "Epoch [7/10], Train Loss: 0.0198, Valid Loss: 0.2648\n",
            "Epoch [8/10], Train Loss: 0.0168, Valid Loss: 0.2627\n",
            "Epoch [9/10], Train Loss: 0.0100, Valid Loss: 0.4345\n",
            "Epoch [10/10], Train Loss: 0.0302, Valid Loss: 0.1600\n",
            "Metrics saved to ==> /content/drive/MyDrive/TASI/GridSearch/ModelImbalance5/metrics.pt\n",
            "Finished Training!\n"
          ]
        },
        {
          "output_type": "stream",
          "name": "stderr",
          "text": [
            "[I 2023-06-20 08:32:37,852] Trial 6 finished with value: 0.13472771321955537 and parameters: {'lr': 3e-05, 'num_epochs': 10, 'batch_size': 16}. Best is trial 6 with value: 0.13472771321955537.\n",
            "Some weights of BertForSequenceClassification were not initialized from the model checkpoint at indobenchmark/indobert-base-p1 and are newly initialized: ['classifier.weight', 'classifier.bias']\n",
            "You should probably TRAIN this model on a down-stream task to be able to use it for predictions and inference.\n"
          ]
        },
        {
          "output_type": "stream",
          "name": "stdout",
          "text": [
            "Epoch [1/10], Train Loss: 0.6642, Valid Loss: 0.6272\n",
            "Model saved to ==> /content/drive/MyDrive/TASI/GridSearch/ModelImbalance5/model.pt\n",
            "Metrics saved to ==> /content/drive/MyDrive/TASI/GridSearch/ModelImbalance5/metrics.pt\n",
            "Epoch [2/10], Train Loss: 0.4517, Valid Loss: 0.2375\n",
            "Model saved to ==> /content/drive/MyDrive/TASI/GridSearch/ModelImbalance5/model.pt\n",
            "Metrics saved to ==> /content/drive/MyDrive/TASI/GridSearch/ModelImbalance5/metrics.pt\n",
            "Epoch [3/10], Train Loss: 0.2217, Valid Loss: 0.3100\n",
            "Epoch [4/10], Train Loss: 0.1677, Valid Loss: 0.1928\n",
            "Model saved to ==> /content/drive/MyDrive/TASI/GridSearch/ModelImbalance5/model.pt\n",
            "Metrics saved to ==> /content/drive/MyDrive/TASI/GridSearch/ModelImbalance5/metrics.pt\n",
            "Epoch [5/10], Train Loss: 0.0694, Valid Loss: 0.2496\n",
            "Epoch [6/10], Train Loss: 0.0466, Valid Loss: 0.3025\n",
            "Epoch [7/10], Train Loss: 0.0269, Valid Loss: 0.2379\n",
            "Epoch [8/10], Train Loss: 0.0260, Valid Loss: 0.3182\n",
            "Epoch [9/10], Train Loss: 0.0280, Valid Loss: 0.3585\n"
          ]
        },
        {
          "output_type": "stream",
          "name": "stderr",
          "text": [
            "[I 2023-06-20 08:36:03,996] Trial 7 finished with value: 0.19278895622119308 and parameters: {'lr': 5e-05, 'num_epochs': 10, 'batch_size': 32}. Best is trial 6 with value: 0.13472771321955537.\n"
          ]
        },
        {
          "output_type": "stream",
          "name": "stdout",
          "text": [
            "Epoch [10/10], Train Loss: 0.0246, Valid Loss: 0.2587\n",
            "Metrics saved to ==> /content/drive/MyDrive/TASI/GridSearch/ModelImbalance5/metrics.pt\n",
            "Finished Training!\n"
          ]
        },
        {
          "output_type": "stream",
          "name": "stderr",
          "text": [
            "Some weights of BertForSequenceClassification were not initialized from the model checkpoint at indobenchmark/indobert-base-p1 and are newly initialized: ['classifier.weight', 'classifier.bias']\n",
            "You should probably TRAIN this model on a down-stream task to be able to use it for predictions and inference.\n"
          ]
        },
        {
          "output_type": "stream",
          "name": "stdout",
          "text": [
            "Epoch [1/7], Train Loss: 0.6294, Valid Loss: 0.5810\n",
            "Model saved to ==> /content/drive/MyDrive/TASI/GridSearch/ModelImbalance5/model.pt\n",
            "Metrics saved to ==> /content/drive/MyDrive/TASI/GridSearch/ModelImbalance5/metrics.pt\n",
            "Epoch [2/7], Train Loss: 0.2865, Valid Loss: 0.3281\n",
            "Model saved to ==> /content/drive/MyDrive/TASI/GridSearch/ModelImbalance5/model.pt\n",
            "Metrics saved to ==> /content/drive/MyDrive/TASI/GridSearch/ModelImbalance5/metrics.pt\n",
            "Epoch [3/7], Train Loss: 0.1868, Valid Loss: 0.3055\n",
            "Model saved to ==> /content/drive/MyDrive/TASI/GridSearch/ModelImbalance5/model.pt\n",
            "Metrics saved to ==> /content/drive/MyDrive/TASI/GridSearch/ModelImbalance5/metrics.pt\n",
            "Epoch [4/7], Train Loss: 0.1168, Valid Loss: 0.3485\n",
            "Epoch [5/7], Train Loss: 0.0556, Valid Loss: 0.2625\n",
            "Model saved to ==> /content/drive/MyDrive/TASI/GridSearch/ModelImbalance5/model.pt\n",
            "Metrics saved to ==> /content/drive/MyDrive/TASI/GridSearch/ModelImbalance5/metrics.pt\n",
            "Epoch [6/7], Train Loss: 0.0298, Valid Loss: 0.2413\n",
            "Model saved to ==> /content/drive/MyDrive/TASI/GridSearch/ModelImbalance5/model.pt\n",
            "Metrics saved to ==> /content/drive/MyDrive/TASI/GridSearch/ModelImbalance5/metrics.pt\n",
            "Epoch [7/7], Train Loss: 0.0027, Valid Loss: 0.1943\n",
            "Model saved to ==> /content/drive/MyDrive/TASI/GridSearch/ModelImbalance5/model.pt\n",
            "Metrics saved to ==> /content/drive/MyDrive/TASI/GridSearch/ModelImbalance5/metrics.pt\n"
          ]
        },
        {
          "output_type": "stream",
          "name": "stderr",
          "text": [
            "[I 2023-06-20 08:38:36,843] Trial 8 finished with value: 0.19430919633097282 and parameters: {'lr': 5e-05, 'num_epochs': 7, 'batch_size': 32}. Best is trial 6 with value: 0.13472771321955537.\n"
          ]
        },
        {
          "output_type": "stream",
          "name": "stdout",
          "text": [
            "Metrics saved to ==> /content/drive/MyDrive/TASI/GridSearch/ModelImbalance5/metrics.pt\n",
            "Finished Training!\n"
          ]
        },
        {
          "output_type": "stream",
          "name": "stderr",
          "text": [
            "Some weights of BertForSequenceClassification were not initialized from the model checkpoint at indobenchmark/indobert-base-p1 and are newly initialized: ['classifier.weight', 'classifier.bias']\n",
            "You should probably TRAIN this model on a down-stream task to be able to use it for predictions and inference.\n"
          ]
        },
        {
          "output_type": "stream",
          "name": "stdout",
          "text": [
            "Epoch [1/7], Train Loss: 0.6803, Valid Loss: 0.6459\n",
            "Model saved to ==> /content/drive/MyDrive/TASI/GridSearch/ModelImbalance5/model.pt\n",
            "Metrics saved to ==> /content/drive/MyDrive/TASI/GridSearch/ModelImbalance5/metrics.pt\n",
            "Epoch [2/7], Train Loss: 0.6848, Valid Loss: 0.6756\n",
            "Epoch [3/7], Train Loss: 0.6921, Valid Loss: 0.7301\n",
            "Epoch [4/7], Train Loss: 0.6702, Valid Loss: 0.6799\n",
            "Epoch [5/7], Train Loss: 0.6719, Valid Loss: 0.6680\n",
            "Epoch [6/7], Train Loss: 0.6961, Valid Loss: 0.6761\n"
          ]
        },
        {
          "output_type": "stream",
          "name": "stderr",
          "text": [
            "[I 2023-06-20 08:40:59,731] Trial 9 finished with value: 0.6459149100950786 and parameters: {'lr': 2e-05, 'num_epochs': 7, 'batch_size': 32}. Best is trial 6 with value: 0.13472771321955537.\n"
          ]
        },
        {
          "output_type": "stream",
          "name": "stdout",
          "text": [
            "Epoch [7/7], Train Loss: 0.6560, Valid Loss: 0.7646\n",
            "Metrics saved to ==> /content/drive/MyDrive/TASI/GridSearch/ModelImbalance5/metrics.pt\n",
            "Finished Training!\n"
          ]
        },
        {
          "output_type": "stream",
          "name": "stderr",
          "text": [
            "Some weights of BertForSequenceClassification were not initialized from the model checkpoint at indobenchmark/indobert-base-p1 and are newly initialized: ['classifier.weight', 'classifier.bias']\n",
            "You should probably TRAIN this model on a down-stream task to be able to use it for predictions and inference.\n"
          ]
        },
        {
          "output_type": "stream",
          "name": "stdout",
          "text": [
            "Epoch [1/8], Train Loss: 0.6429, Valid Loss: 0.6308\n",
            "Model saved to ==> /content/drive/MyDrive/TASI/GridSearch/ModelImbalance5/model.pt\n",
            "Metrics saved to ==> /content/drive/MyDrive/TASI/GridSearch/ModelImbalance5/metrics.pt\n",
            "Epoch [2/8], Train Loss: 0.6421, Valid Loss: 0.5796\n",
            "Model saved to ==> /content/drive/MyDrive/TASI/GridSearch/ModelImbalance5/model.pt\n",
            "Metrics saved to ==> /content/drive/MyDrive/TASI/GridSearch/ModelImbalance5/metrics.pt\n",
            "Epoch [3/8], Train Loss: 0.4533, Valid Loss: 0.5236\n",
            "Model saved to ==> /content/drive/MyDrive/TASI/GridSearch/ModelImbalance5/model.pt\n",
            "Metrics saved to ==> /content/drive/MyDrive/TASI/GridSearch/ModelImbalance5/metrics.pt\n",
            "Epoch [4/8], Train Loss: 0.2269, Valid Loss: 0.5359\n",
            "Epoch [5/8], Train Loss: 0.1097, Valid Loss: 0.4865\n",
            "Model saved to ==> /content/drive/MyDrive/TASI/GridSearch/ModelImbalance5/model.pt\n",
            "Metrics saved to ==> /content/drive/MyDrive/TASI/GridSearch/ModelImbalance5/metrics.pt\n",
            "Epoch [6/8], Train Loss: 0.0754, Valid Loss: 0.2032\n",
            "Model saved to ==> /content/drive/MyDrive/TASI/GridSearch/ModelImbalance5/model.pt\n",
            "Metrics saved to ==> /content/drive/MyDrive/TASI/GridSearch/ModelImbalance5/metrics.pt\n",
            "Epoch [7/8], Train Loss: 0.0405, Valid Loss: 0.5034\n",
            "Epoch [8/8], Train Loss: 0.0587, Valid Loss: 0.1712\n"
          ]
        },
        {
          "output_type": "stream",
          "name": "stderr",
          "text": [
            "[I 2023-06-20 08:43:50,741] Trial 10 finished with value: 0.1712250148910763 and parameters: {'lr': 5e-05, 'num_epochs': 8, 'batch_size': 32}. Best is trial 6 with value: 0.13472771321955537.\n"
          ]
        },
        {
          "output_type": "stream",
          "name": "stdout",
          "text": [
            "Model saved to ==> /content/drive/MyDrive/TASI/GridSearch/ModelImbalance5/model.pt\n",
            "Metrics saved to ==> /content/drive/MyDrive/TASI/GridSearch/ModelImbalance5/metrics.pt\n",
            "Metrics saved to ==> /content/drive/MyDrive/TASI/GridSearch/ModelImbalance5/metrics.pt\n",
            "Finished Training!\n"
          ]
        },
        {
          "output_type": "stream",
          "name": "stderr",
          "text": [
            "Some weights of BertForSequenceClassification were not initialized from the model checkpoint at indobenchmark/indobert-base-p1 and are newly initialized: ['classifier.weight', 'classifier.bias']\n",
            "You should probably TRAIN this model on a down-stream task to be able to use it for predictions and inference.\n"
          ]
        },
        {
          "output_type": "stream",
          "name": "stdout",
          "text": [
            "Epoch [1/6], Train Loss: 0.6393, Valid Loss: 0.5927\n",
            "Model saved to ==> /content/drive/MyDrive/TASI/GridSearch/ModelImbalance5/model.pt\n",
            "Metrics saved to ==> /content/drive/MyDrive/TASI/GridSearch/ModelImbalance5/metrics.pt\n",
            "Epoch [2/6], Train Loss: 0.3234, Valid Loss: 0.1712\n",
            "Model saved to ==> /content/drive/MyDrive/TASI/GridSearch/ModelImbalance5/model.pt\n",
            "Metrics saved to ==> /content/drive/MyDrive/TASI/GridSearch/ModelImbalance5/metrics.pt\n",
            "Epoch [3/6], Train Loss: 0.1844, Valid Loss: 0.2704\n",
            "Epoch [4/6], Train Loss: 0.1292, Valid Loss: 0.1533\n",
            "Model saved to ==> /content/drive/MyDrive/TASI/GridSearch/ModelImbalance5/model.pt\n",
            "Metrics saved to ==> /content/drive/MyDrive/TASI/GridSearch/ModelImbalance5/metrics.pt\n",
            "Epoch [5/6], Train Loss: 0.0707, Valid Loss: 0.1327\n",
            "Model saved to ==> /content/drive/MyDrive/TASI/GridSearch/ModelImbalance5/model.pt\n",
            "Metrics saved to ==> /content/drive/MyDrive/TASI/GridSearch/ModelImbalance5/metrics.pt\n",
            "Epoch [6/6], Train Loss: 0.0288, Valid Loss: 0.1520\n",
            "Metrics saved to ==> /content/drive/MyDrive/TASI/GridSearch/ModelImbalance5/metrics.pt\n",
            "Finished Training!\n"
          ]
        },
        {
          "output_type": "stream",
          "name": "stderr",
          "text": [
            "[I 2023-06-20 08:46:01,365] Trial 11 finished with value: 0.13269521838187107 and parameters: {'lr': 3e-05, 'num_epochs': 6, 'batch_size': 16}. Best is trial 11 with value: 0.13269521838187107.\n",
            "Some weights of BertForSequenceClassification were not initialized from the model checkpoint at indobenchmark/indobert-base-p1 and are newly initialized: ['classifier.weight', 'classifier.bias']\n",
            "You should probably TRAIN this model on a down-stream task to be able to use it for predictions and inference.\n"
          ]
        },
        {
          "output_type": "stream",
          "name": "stdout",
          "text": [
            "Epoch [1/10], Train Loss: 0.6608, Valid Loss: 0.6721\n",
            "Model saved to ==> /content/drive/MyDrive/TASI/GridSearch/ModelImbalance5/model.pt\n",
            "Metrics saved to ==> /content/drive/MyDrive/TASI/GridSearch/ModelImbalance5/metrics.pt\n",
            "Epoch [2/10], Train Loss: 0.7054, Valid Loss: 0.6632\n",
            "Model saved to ==> /content/drive/MyDrive/TASI/GridSearch/ModelImbalance5/model.pt\n",
            "Metrics saved to ==> /content/drive/MyDrive/TASI/GridSearch/ModelImbalance5/metrics.pt\n",
            "Epoch [3/10], Train Loss: 0.5801, Valid Loss: 0.4339\n",
            "Model saved to ==> /content/drive/MyDrive/TASI/GridSearch/ModelImbalance5/model.pt\n",
            "Metrics saved to ==> /content/drive/MyDrive/TASI/GridSearch/ModelImbalance5/metrics.pt\n",
            "Epoch [4/10], Train Loss: 0.3039, Valid Loss: 0.2931\n",
            "Model saved to ==> /content/drive/MyDrive/TASI/GridSearch/ModelImbalance5/model.pt\n",
            "Metrics saved to ==> /content/drive/MyDrive/TASI/GridSearch/ModelImbalance5/metrics.pt\n",
            "Epoch [5/10], Train Loss: 0.2143, Valid Loss: 0.4195\n",
            "Epoch [6/10], Train Loss: 0.1947, Valid Loss: 0.8516\n",
            "Epoch [7/10], Train Loss: 0.1991, Valid Loss: 0.3241\n",
            "Epoch [8/10], Train Loss: 0.1242, Valid Loss: 0.2666\n",
            "Model saved to ==> /content/drive/MyDrive/TASI/GridSearch/ModelImbalance5/model.pt\n",
            "Metrics saved to ==> /content/drive/MyDrive/TASI/GridSearch/ModelImbalance5/metrics.pt\n",
            "Epoch [9/10], Train Loss: 0.0928, Valid Loss: 0.2405\n",
            "Model saved to ==> /content/drive/MyDrive/TASI/GridSearch/ModelImbalance5/model.pt\n",
            "Metrics saved to ==> /content/drive/MyDrive/TASI/GridSearch/ModelImbalance5/metrics.pt\n"
          ]
        },
        {
          "output_type": "stream",
          "name": "stderr",
          "text": [
            "[I 2023-06-20 08:49:33,272] Trial 12 finished with value: 0.24046081008522638 and parameters: {'lr': 3e-05, 'num_epochs': 10, 'batch_size': 32}. Best is trial 11 with value: 0.13269521838187107.\n"
          ]
        },
        {
          "output_type": "stream",
          "name": "stdout",
          "text": [
            "Epoch [10/10], Train Loss: 0.0712, Valid Loss: 0.6705\n",
            "Metrics saved to ==> /content/drive/MyDrive/TASI/GridSearch/ModelImbalance5/metrics.pt\n",
            "Finished Training!\n"
          ]
        },
        {
          "output_type": "stream",
          "name": "stderr",
          "text": [
            "Some weights of BertForSequenceClassification were not initialized from the model checkpoint at indobenchmark/indobert-base-p1 and are newly initialized: ['classifier.weight', 'classifier.bias']\n",
            "You should probably TRAIN this model on a down-stream task to be able to use it for predictions and inference.\n"
          ]
        },
        {
          "output_type": "stream",
          "name": "stdout",
          "text": [
            "Epoch [1/8], Train Loss: 0.6673, Valid Loss: 0.6769\n",
            "Model saved to ==> /content/drive/MyDrive/TASI/GridSearch/ModelImbalance5/model.pt\n",
            "Metrics saved to ==> /content/drive/MyDrive/TASI/GridSearch/ModelImbalance5/metrics.pt\n",
            "Epoch [2/8], Train Loss: 0.7039, Valid Loss: 0.6775\n",
            "Epoch [3/8], Train Loss: 0.6579, Valid Loss: 0.4958\n",
            "Model saved to ==> /content/drive/MyDrive/TASI/GridSearch/ModelImbalance5/model.pt\n",
            "Metrics saved to ==> /content/drive/MyDrive/TASI/GridSearch/ModelImbalance5/metrics.pt\n",
            "Epoch [4/8], Train Loss: 0.3189, Valid Loss: 0.2318\n",
            "Model saved to ==> /content/drive/MyDrive/TASI/GridSearch/ModelImbalance5/model.pt\n",
            "Metrics saved to ==> /content/drive/MyDrive/TASI/GridSearch/ModelImbalance5/metrics.pt\n",
            "Epoch [5/8], Train Loss: 0.1817, Valid Loss: 0.2127\n",
            "Model saved to ==> /content/drive/MyDrive/TASI/GridSearch/ModelImbalance5/model.pt\n",
            "Metrics saved to ==> /content/drive/MyDrive/TASI/GridSearch/ModelImbalance5/metrics.pt\n",
            "Epoch [6/8], Train Loss: 0.1177, Valid Loss: 0.1777\n",
            "Model saved to ==> /content/drive/MyDrive/TASI/GridSearch/ModelImbalance5/model.pt\n",
            "Metrics saved to ==> /content/drive/MyDrive/TASI/GridSearch/ModelImbalance5/metrics.pt\n",
            "Epoch [7/8], Train Loss: 0.0777, Valid Loss: 0.1545\n",
            "Model saved to ==> /content/drive/MyDrive/TASI/GridSearch/ModelImbalance5/model.pt\n",
            "Metrics saved to ==> /content/drive/MyDrive/TASI/GridSearch/ModelImbalance5/metrics.pt\n"
          ]
        },
        {
          "output_type": "stream",
          "name": "stderr",
          "text": [
            "[I 2023-06-20 08:52:25,535] Trial 13 finished with value: 0.15454922776137078 and parameters: {'lr': 3e-05, 'num_epochs': 8, 'batch_size': 32}. Best is trial 11 with value: 0.13269521838187107.\n"
          ]
        },
        {
          "output_type": "stream",
          "name": "stdout",
          "text": [
            "Epoch [8/8], Train Loss: 0.0551, Valid Loss: 0.2143\n",
            "Metrics saved to ==> /content/drive/MyDrive/TASI/GridSearch/ModelImbalance5/metrics.pt\n",
            "Finished Training!\n"
          ]
        },
        {
          "output_type": "stream",
          "name": "stderr",
          "text": [
            "Some weights of BertForSequenceClassification were not initialized from the model checkpoint at indobenchmark/indobert-base-p1 and are newly initialized: ['classifier.weight', 'classifier.bias']\n",
            "You should probably TRAIN this model on a down-stream task to be able to use it for predictions and inference.\n"
          ]
        },
        {
          "output_type": "stream",
          "name": "stdout",
          "text": [
            "Epoch [1/10], Train Loss: 0.6868, Valid Loss: 0.6413\n",
            "Model saved to ==> /content/drive/MyDrive/TASI/GridSearch/ModelImbalance5/model.pt\n",
            "Metrics saved to ==> /content/drive/MyDrive/TASI/GridSearch/ModelImbalance5/metrics.pt\n",
            "Epoch [2/10], Train Loss: 0.5702, Valid Loss: 0.4487\n",
            "Model saved to ==> /content/drive/MyDrive/TASI/GridSearch/ModelImbalance5/model.pt\n",
            "Metrics saved to ==> /content/drive/MyDrive/TASI/GridSearch/ModelImbalance5/metrics.pt\n",
            "Epoch [3/10], Train Loss: 0.3095, Valid Loss: 0.2618\n",
            "Model saved to ==> /content/drive/MyDrive/TASI/GridSearch/ModelImbalance5/model.pt\n",
            "Metrics saved to ==> /content/drive/MyDrive/TASI/GridSearch/ModelImbalance5/metrics.pt\n",
            "Epoch [4/10], Train Loss: 0.1816, Valid Loss: 0.2427\n",
            "Model saved to ==> /content/drive/MyDrive/TASI/GridSearch/ModelImbalance5/model.pt\n",
            "Metrics saved to ==> /content/drive/MyDrive/TASI/GridSearch/ModelImbalance5/metrics.pt\n",
            "Epoch [5/10], Train Loss: 0.0953, Valid Loss: 0.2517\n",
            "Epoch [6/10], Train Loss: 0.0722, Valid Loss: 0.3430\n",
            "Epoch [7/10], Train Loss: 0.0516, Valid Loss: 0.5193\n",
            "Epoch [8/10], Train Loss: 0.0372, Valid Loss: 0.2656\n",
            "Epoch [9/10], Train Loss: 0.0235, Valid Loss: 0.3431\n"
          ]
        },
        {
          "output_type": "stream",
          "name": "stderr",
          "text": [
            "[I 2023-06-20 08:55:54,789] Trial 14 finished with value: 0.2427081445764218 and parameters: {'lr': 2e-05, 'num_epochs': 10, 'batch_size': 16}. Best is trial 11 with value: 0.13269521838187107.\n"
          ]
        },
        {
          "output_type": "stream",
          "name": "stdout",
          "text": [
            "Epoch [10/10], Train Loss: 0.0177, Valid Loss: 0.4745\n",
            "Metrics saved to ==> /content/drive/MyDrive/TASI/GridSearch/ModelImbalance5/metrics.pt\n",
            "Finished Training!\n"
          ]
        },
        {
          "output_type": "stream",
          "name": "stderr",
          "text": [
            "Some weights of BertForSequenceClassification were not initialized from the model checkpoint at indobenchmark/indobert-base-p1 and are newly initialized: ['classifier.weight', 'classifier.bias']\n",
            "You should probably TRAIN this model on a down-stream task to be able to use it for predictions and inference.\n"
          ]
        },
        {
          "output_type": "stream",
          "name": "stdout",
          "text": [
            "Epoch [1/6], Train Loss: 0.6658, Valid Loss: 0.6838\n",
            "Model saved to ==> /content/drive/MyDrive/TASI/GridSearch/ModelImbalance5/model.pt\n",
            "Metrics saved to ==> /content/drive/MyDrive/TASI/GridSearch/ModelImbalance5/metrics.pt\n",
            "Epoch [2/6], Train Loss: 0.6605, Valid Loss: 0.6971\n",
            "Epoch [3/6], Train Loss: 0.6746, Valid Loss: 0.7157\n",
            "Epoch [4/6], Train Loss: 0.6488, Valid Loss: 0.6656\n",
            "Model saved to ==> /content/drive/MyDrive/TASI/GridSearch/ModelImbalance5/model.pt\n",
            "Metrics saved to ==> /content/drive/MyDrive/TASI/GridSearch/ModelImbalance5/metrics.pt\n",
            "Epoch [5/6], Train Loss: 0.7353, Valid Loss: 0.6695\n"
          ]
        },
        {
          "output_type": "stream",
          "name": "stderr",
          "text": [
            "[I 2023-06-20 08:57:59,249] Trial 15 finished with value: 0.6656487328665597 and parameters: {'lr': 5e-05, 'num_epochs': 6, 'batch_size': 16}. Best is trial 11 with value: 0.13269521838187107.\n"
          ]
        },
        {
          "output_type": "stream",
          "name": "stdout",
          "text": [
            "Epoch [6/6], Train Loss: 0.7207, Valid Loss: 0.6961\n",
            "Metrics saved to ==> /content/drive/MyDrive/TASI/GridSearch/ModelImbalance5/metrics.pt\n",
            "Finished Training!\n"
          ]
        },
        {
          "output_type": "stream",
          "name": "stderr",
          "text": [
            "Some weights of BertForSequenceClassification were not initialized from the model checkpoint at indobenchmark/indobert-base-p1 and are newly initialized: ['classifier.weight', 'classifier.bias']\n",
            "You should probably TRAIN this model on a down-stream task to be able to use it for predictions and inference.\n"
          ]
        },
        {
          "output_type": "stream",
          "name": "stdout",
          "text": [
            "Epoch [1/10], Train Loss: 0.6852, Valid Loss: 0.6702\n",
            "Model saved to ==> /content/drive/MyDrive/TASI/GridSearch/ModelImbalance5/model.pt\n",
            "Metrics saved to ==> /content/drive/MyDrive/TASI/GridSearch/ModelImbalance5/metrics.pt\n",
            "Epoch [2/10], Train Loss: 0.6973, Valid Loss: 0.6884\n",
            "Epoch [3/10], Train Loss: 0.6108, Valid Loss: 0.5822\n",
            "Model saved to ==> /content/drive/MyDrive/TASI/GridSearch/ModelImbalance5/model.pt\n",
            "Metrics saved to ==> /content/drive/MyDrive/TASI/GridSearch/ModelImbalance5/metrics.pt\n",
            "Epoch [4/10], Train Loss: 0.2584, Valid Loss: 0.2373\n",
            "Model saved to ==> /content/drive/MyDrive/TASI/GridSearch/ModelImbalance5/model.pt\n",
            "Metrics saved to ==> /content/drive/MyDrive/TASI/GridSearch/ModelImbalance5/metrics.pt\n",
            "Epoch [5/10], Train Loss: 0.1494, Valid Loss: 0.2574\n",
            "Epoch [6/10], Train Loss: 0.0757, Valid Loss: 0.2011\n",
            "Model saved to ==> /content/drive/MyDrive/TASI/GridSearch/ModelImbalance5/model.pt\n",
            "Metrics saved to ==> /content/drive/MyDrive/TASI/GridSearch/ModelImbalance5/metrics.pt\n",
            "Epoch [7/10], Train Loss: 0.0559, Valid Loss: 0.2532\n",
            "Epoch [8/10], Train Loss: 0.0586, Valid Loss: 0.2196\n",
            "Epoch [9/10], Train Loss: 0.0282, Valid Loss: 0.1457\n",
            "Model saved to ==> /content/drive/MyDrive/TASI/GridSearch/ModelImbalance5/model.pt\n",
            "Metrics saved to ==> /content/drive/MyDrive/TASI/GridSearch/ModelImbalance5/metrics.pt\n",
            "Epoch [10/10], Train Loss: 0.0082, Valid Loss: 0.1197\n",
            "Model saved to ==> /content/drive/MyDrive/TASI/GridSearch/ModelImbalance5/model.pt\n",
            "Metrics saved to ==> /content/drive/MyDrive/TASI/GridSearch/ModelImbalance5/metrics.pt\n",
            "Metrics saved to ==> /content/drive/MyDrive/TASI/GridSearch/ModelImbalance5/metrics.pt\n",
            "Finished Training!\n"
          ]
        },
        {
          "output_type": "stream",
          "name": "stderr",
          "text": [
            "[I 2023-06-20 09:01:34,022] Trial 16 finished with value: 0.11967409578418094 and parameters: {'lr': 2e-05, 'num_epochs': 10, 'batch_size': 32}. Best is trial 16 with value: 0.11967409578418094.\n",
            "Some weights of BertForSequenceClassification were not initialized from the model checkpoint at indobenchmark/indobert-base-p1 and are newly initialized: ['classifier.weight', 'classifier.bias']\n",
            "You should probably TRAIN this model on a down-stream task to be able to use it for predictions and inference.\n"
          ]
        },
        {
          "output_type": "stream",
          "name": "stdout",
          "text": [
            "Epoch [1/6], Train Loss: 0.6659, Valid Loss: 0.6557\n",
            "Model saved to ==> /content/drive/MyDrive/TASI/GridSearch/ModelImbalance5/model.pt\n",
            "Metrics saved to ==> /content/drive/MyDrive/TASI/GridSearch/ModelImbalance5/metrics.pt\n",
            "Epoch [2/6], Train Loss: 0.5936, Valid Loss: 0.3689\n",
            "Model saved to ==> /content/drive/MyDrive/TASI/GridSearch/ModelImbalance5/model.pt\n",
            "Metrics saved to ==> /content/drive/MyDrive/TASI/GridSearch/ModelImbalance5/metrics.pt\n",
            "Epoch [3/6], Train Loss: 0.2428, Valid Loss: 0.2339\n",
            "Model saved to ==> /content/drive/MyDrive/TASI/GridSearch/ModelImbalance5/model.pt\n",
            "Metrics saved to ==> /content/drive/MyDrive/TASI/GridSearch/ModelImbalance5/metrics.pt\n",
            "Epoch [4/6], Train Loss: 0.1558, Valid Loss: 0.2979\n",
            "Epoch [5/6], Train Loss: 0.1045, Valid Loss: 0.1505\n",
            "Model saved to ==> /content/drive/MyDrive/TASI/GridSearch/ModelImbalance5/model.pt\n",
            "Metrics saved to ==> /content/drive/MyDrive/TASI/GridSearch/ModelImbalance5/metrics.pt\n"
          ]
        },
        {
          "output_type": "stream",
          "name": "stderr",
          "text": [
            "[I 2023-06-20 09:03:43,587] Trial 17 finished with value: 0.15052186441607773 and parameters: {'lr': 3e-05, 'num_epochs': 6, 'batch_size': 32}. Best is trial 16 with value: 0.11967409578418094.\n"
          ]
        },
        {
          "output_type": "stream",
          "name": "stdout",
          "text": [
            "Epoch [6/6], Train Loss: 0.0562, Valid Loss: 0.1527\n",
            "Metrics saved to ==> /content/drive/MyDrive/TASI/GridSearch/ModelImbalance5/metrics.pt\n",
            "Finished Training!\n"
          ]
        },
        {
          "output_type": "stream",
          "name": "stderr",
          "text": [
            "Some weights of BertForSequenceClassification were not initialized from the model checkpoint at indobenchmark/indobert-base-p1 and are newly initialized: ['classifier.weight', 'classifier.bias']\n",
            "You should probably TRAIN this model on a down-stream task to be able to use it for predictions and inference.\n"
          ]
        },
        {
          "output_type": "stream",
          "name": "stdout",
          "text": [
            "Epoch [1/7], Train Loss: 0.6509, Valid Loss: 0.6635\n",
            "Model saved to ==> /content/drive/MyDrive/TASI/GridSearch/ModelImbalance5/model.pt\n",
            "Metrics saved to ==> /content/drive/MyDrive/TASI/GridSearch/ModelImbalance5/metrics.pt\n",
            "Epoch [2/7], Train Loss: 0.6409, Valid Loss: 0.6877\n",
            "Epoch [3/7], Train Loss: 0.6282, Valid Loss: 0.2332\n",
            "Model saved to ==> /content/drive/MyDrive/TASI/GridSearch/ModelImbalance5/model.pt\n",
            "Metrics saved to ==> /content/drive/MyDrive/TASI/GridSearch/ModelImbalance5/metrics.pt\n",
            "Epoch [4/7], Train Loss: 0.3388, Valid Loss: 0.3695\n",
            "Epoch [5/7], Train Loss: 0.2314, Valid Loss: 0.4366\n",
            "Epoch [6/7], Train Loss: 0.1738, Valid Loss: 0.6346\n"
          ]
        },
        {
          "output_type": "stream",
          "name": "stderr",
          "text": [
            "[I 2023-06-20 09:06:08,052] Trial 18 finished with value: 0.2331731053335326 and parameters: {'lr': 5e-05, 'num_epochs': 7, 'batch_size': 16}. Best is trial 16 with value: 0.11967409578418094.\n"
          ]
        },
        {
          "output_type": "stream",
          "name": "stdout",
          "text": [
            "Epoch [7/7], Train Loss: 0.2316, Valid Loss: 0.3970\n",
            "Metrics saved to ==> /content/drive/MyDrive/TASI/GridSearch/ModelImbalance5/metrics.pt\n",
            "Finished Training!\n"
          ]
        },
        {
          "output_type": "stream",
          "name": "stderr",
          "text": [
            "Some weights of BertForSequenceClassification were not initialized from the model checkpoint at indobenchmark/indobert-base-p1 and are newly initialized: ['classifier.weight', 'classifier.bias']\n",
            "You should probably TRAIN this model on a down-stream task to be able to use it for predictions and inference.\n"
          ]
        },
        {
          "output_type": "stream",
          "name": "stdout",
          "text": [
            "Epoch [1/9], Train Loss: 0.6068, Valid Loss: 0.4450\n",
            "Model saved to ==> /content/drive/MyDrive/TASI/GridSearch/ModelImbalance5/model.pt\n",
            "Metrics saved to ==> /content/drive/MyDrive/TASI/GridSearch/ModelImbalance5/metrics.pt\n",
            "Epoch [2/9], Train Loss: 0.3642, Valid Loss: 0.3752\n",
            "Model saved to ==> /content/drive/MyDrive/TASI/GridSearch/ModelImbalance5/model.pt\n",
            "Metrics saved to ==> /content/drive/MyDrive/TASI/GridSearch/ModelImbalance5/metrics.pt\n",
            "Epoch [3/9], Train Loss: 0.2363, Valid Loss: 0.1861\n",
            "Model saved to ==> /content/drive/MyDrive/TASI/GridSearch/ModelImbalance5/model.pt\n",
            "Metrics saved to ==> /content/drive/MyDrive/TASI/GridSearch/ModelImbalance5/metrics.pt\n",
            "Epoch [4/9], Train Loss: 0.1877, Valid Loss: 0.1685\n",
            "Model saved to ==> /content/drive/MyDrive/TASI/GridSearch/ModelImbalance5/model.pt\n",
            "Metrics saved to ==> /content/drive/MyDrive/TASI/GridSearch/ModelImbalance5/metrics.pt\n",
            "Epoch [5/9], Train Loss: 0.1154, Valid Loss: 0.1590\n",
            "Model saved to ==> /content/drive/MyDrive/TASI/GridSearch/ModelImbalance5/model.pt\n",
            "Metrics saved to ==> /content/drive/MyDrive/TASI/GridSearch/ModelImbalance5/metrics.pt\n",
            "Epoch [6/9], Train Loss: 0.0892, Valid Loss: 0.1619\n",
            "Epoch [7/9], Train Loss: 0.0679, Valid Loss: 0.1334\n",
            "Model saved to ==> /content/drive/MyDrive/TASI/GridSearch/ModelImbalance5/model.pt\n",
            "Metrics saved to ==> /content/drive/MyDrive/TASI/GridSearch/ModelImbalance5/metrics.pt\n",
            "Epoch [8/9], Train Loss: 0.0364, Valid Loss: 0.2950\n"
          ]
        },
        {
          "output_type": "stream",
          "name": "stderr",
          "text": [
            "[I 2023-06-20 09:09:22,211] Trial 19 finished with value: 0.1334175664565659 and parameters: {'lr': 3e-05, 'num_epochs': 9, 'batch_size': 32}. Best is trial 16 with value: 0.11967409578418094.\n"
          ]
        },
        {
          "output_type": "stream",
          "name": "stdout",
          "text": [
            "Epoch [9/9], Train Loss: 0.0446, Valid Loss: 0.2307\n",
            "Metrics saved to ==> /content/drive/MyDrive/TASI/GridSearch/ModelImbalance5/metrics.pt\n",
            "Finished Training!\n"
          ]
        },
        {
          "output_type": "stream",
          "name": "stderr",
          "text": [
            "Some weights of BertForSequenceClassification were not initialized from the model checkpoint at indobenchmark/indobert-base-p1 and are newly initialized: ['classifier.weight', 'classifier.bias']\n",
            "You should probably TRAIN this model on a down-stream task to be able to use it for predictions and inference.\n"
          ]
        },
        {
          "output_type": "stream",
          "name": "stdout",
          "text": [
            "Epoch [1/6], Train Loss: 0.6142, Valid Loss: 0.5332\n",
            "Model saved to ==> /content/drive/MyDrive/TASI/GridSearch/ModelImbalance5/model.pt\n",
            "Metrics saved to ==> /content/drive/MyDrive/TASI/GridSearch/ModelImbalance5/metrics.pt\n",
            "Epoch [2/6], Train Loss: 0.3600, Valid Loss: 0.2566\n",
            "Model saved to ==> /content/drive/MyDrive/TASI/GridSearch/ModelImbalance5/model.pt\n",
            "Metrics saved to ==> /content/drive/MyDrive/TASI/GridSearch/ModelImbalance5/metrics.pt\n",
            "Epoch [3/6], Train Loss: 0.1978, Valid Loss: 0.1672\n",
            "Model saved to ==> /content/drive/MyDrive/TASI/GridSearch/ModelImbalance5/model.pt\n",
            "Metrics saved to ==> /content/drive/MyDrive/TASI/GridSearch/ModelImbalance5/metrics.pt\n",
            "Epoch [4/6], Train Loss: 0.1048, Valid Loss: 0.1710\n",
            "Epoch [5/6], Train Loss: 0.0830, Valid Loss: 0.1543\n",
            "Model saved to ==> /content/drive/MyDrive/TASI/GridSearch/ModelImbalance5/model.pt\n",
            "Metrics saved to ==> /content/drive/MyDrive/TASI/GridSearch/ModelImbalance5/metrics.pt\n",
            "Epoch [6/6], Train Loss: 0.0462, Valid Loss: 0.1437\n"
          ]
        },
        {
          "output_type": "stream",
          "name": "stderr",
          "text": [
            "[I 2023-06-20 09:11:35,422] Trial 20 finished with value: 0.14368685032241046 and parameters: {'lr': 2e-05, 'num_epochs': 6, 'batch_size': 16}. Best is trial 16 with value: 0.11967409578418094.\n"
          ]
        },
        {
          "output_type": "stream",
          "name": "stdout",
          "text": [
            "Model saved to ==> /content/drive/MyDrive/TASI/GridSearch/ModelImbalance5/model.pt\n",
            "Metrics saved to ==> /content/drive/MyDrive/TASI/GridSearch/ModelImbalance5/metrics.pt\n",
            "Metrics saved to ==> /content/drive/MyDrive/TASI/GridSearch/ModelImbalance5/metrics.pt\n",
            "Finished Training!\n"
          ]
        },
        {
          "output_type": "stream",
          "name": "stderr",
          "text": [
            "Some weights of BertForSequenceClassification were not initialized from the model checkpoint at indobenchmark/indobert-base-p1 and are newly initialized: ['classifier.weight', 'classifier.bias']\n",
            "You should probably TRAIN this model on a down-stream task to be able to use it for predictions and inference.\n"
          ]
        },
        {
          "output_type": "stream",
          "name": "stdout",
          "text": [
            "Epoch [1/5], Train Loss: 0.6714, Valid Loss: 0.6628\n",
            "Model saved to ==> /content/drive/MyDrive/TASI/GridSearch/ModelImbalance5/model.pt\n",
            "Metrics saved to ==> /content/drive/MyDrive/TASI/GridSearch/ModelImbalance5/metrics.pt\n",
            "Epoch [2/5], Train Loss: 0.7069, Valid Loss: 0.6854\n",
            "Epoch [3/5], Train Loss: 0.6901, Valid Loss: 0.6566\n",
            "Model saved to ==> /content/drive/MyDrive/TASI/GridSearch/ModelImbalance5/model.pt\n",
            "Metrics saved to ==> /content/drive/MyDrive/TASI/GridSearch/ModelImbalance5/metrics.pt\n",
            "Epoch [4/5], Train Loss: 0.6324, Valid Loss: 0.8511\n",
            "Epoch [5/5], Train Loss: 0.3989, Valid Loss: 0.3411\n"
          ]
        },
        {
          "output_type": "stream",
          "name": "stderr",
          "text": [
            "[I 2023-06-20 09:13:22,656] Trial 21 finished with value: 0.3410543464124203 and parameters: {'lr': 2e-05, 'num_epochs': 5, 'batch_size': 16}. Best is trial 16 with value: 0.11967409578418094.\n"
          ]
        },
        {
          "output_type": "stream",
          "name": "stdout",
          "text": [
            "Model saved to ==> /content/drive/MyDrive/TASI/GridSearch/ModelImbalance5/model.pt\n",
            "Metrics saved to ==> /content/drive/MyDrive/TASI/GridSearch/ModelImbalance5/metrics.pt\n",
            "Metrics saved to ==> /content/drive/MyDrive/TASI/GridSearch/ModelImbalance5/metrics.pt\n",
            "Finished Training!\n"
          ]
        },
        {
          "output_type": "stream",
          "name": "stderr",
          "text": [
            "Some weights of BertForSequenceClassification were not initialized from the model checkpoint at indobenchmark/indobert-base-p1 and are newly initialized: ['classifier.weight', 'classifier.bias']\n",
            "You should probably TRAIN this model on a down-stream task to be able to use it for predictions and inference.\n"
          ]
        },
        {
          "output_type": "stream",
          "name": "stdout",
          "text": [
            "Epoch [1/8], Train Loss: 0.6967, Valid Loss: 0.6597\n",
            "Model saved to ==> /content/drive/MyDrive/TASI/GridSearch/ModelImbalance5/model.pt\n",
            "Metrics saved to ==> /content/drive/MyDrive/TASI/GridSearch/ModelImbalance5/metrics.pt\n",
            "Epoch [2/8], Train Loss: 0.6624, Valid Loss: 0.5339\n",
            "Model saved to ==> /content/drive/MyDrive/TASI/GridSearch/ModelImbalance5/model.pt\n",
            "Metrics saved to ==> /content/drive/MyDrive/TASI/GridSearch/ModelImbalance5/metrics.pt\n",
            "Epoch [3/8], Train Loss: 0.3390, Valid Loss: 0.3012\n",
            "Model saved to ==> /content/drive/MyDrive/TASI/GridSearch/ModelImbalance5/model.pt\n",
            "Metrics saved to ==> /content/drive/MyDrive/TASI/GridSearch/ModelImbalance5/metrics.pt\n",
            "Epoch [4/8], Train Loss: 0.1808, Valid Loss: 0.1877\n",
            "Model saved to ==> /content/drive/MyDrive/TASI/GridSearch/ModelImbalance5/model.pt\n",
            "Metrics saved to ==> /content/drive/MyDrive/TASI/GridSearch/ModelImbalance5/metrics.pt\n",
            "Epoch [5/8], Train Loss: 0.0966, Valid Loss: 0.2125\n",
            "Epoch [6/8], Train Loss: 0.0707, Valid Loss: 0.1639\n",
            "Model saved to ==> /content/drive/MyDrive/TASI/GridSearch/ModelImbalance5/model.pt\n",
            "Metrics saved to ==> /content/drive/MyDrive/TASI/GridSearch/ModelImbalance5/metrics.pt\n",
            "Epoch [7/8], Train Loss: 0.0726, Valid Loss: 0.1070\n",
            "Model saved to ==> /content/drive/MyDrive/TASI/GridSearch/ModelImbalance5/model.pt\n",
            "Metrics saved to ==> /content/drive/MyDrive/TASI/GridSearch/ModelImbalance5/metrics.pt\n",
            "Epoch [8/8], Train Loss: 0.0174, Valid Loss: 0.1594\n",
            "Metrics saved to ==> /content/drive/MyDrive/TASI/GridSearch/ModelImbalance5/metrics.pt\n",
            "Finished Training!\n"
          ]
        },
        {
          "output_type": "stream",
          "name": "stderr",
          "text": [
            "[I 2023-06-20 09:16:18,419] Trial 22 finished with value: 0.1069559833101396 and parameters: {'lr': 2e-05, 'num_epochs': 8, 'batch_size': 16}. Best is trial 22 with value: 0.1069559833101396.\n",
            "Some weights of BertForSequenceClassification were not initialized from the model checkpoint at indobenchmark/indobert-base-p1 and are newly initialized: ['classifier.weight', 'classifier.bias']\n",
            "You should probably TRAIN this model on a down-stream task to be able to use it for predictions and inference.\n"
          ]
        },
        {
          "output_type": "stream",
          "name": "stdout",
          "text": [
            "Epoch [1/6], Train Loss: 0.6789, Valid Loss: 0.6706\n",
            "Model saved to ==> /content/drive/MyDrive/TASI/GridSearch/ModelImbalance5/model.pt\n",
            "Metrics saved to ==> /content/drive/MyDrive/TASI/GridSearch/ModelImbalance5/metrics.pt\n",
            "Epoch [2/6], Train Loss: 0.6854, Valid Loss: 0.6223\n",
            "Model saved to ==> /content/drive/MyDrive/TASI/GridSearch/ModelImbalance5/model.pt\n",
            "Metrics saved to ==> /content/drive/MyDrive/TASI/GridSearch/ModelImbalance5/metrics.pt\n",
            "Epoch [3/6], Train Loss: 0.5492, Valid Loss: 0.4026\n",
            "Model saved to ==> /content/drive/MyDrive/TASI/GridSearch/ModelImbalance5/model.pt\n",
            "Metrics saved to ==> /content/drive/MyDrive/TASI/GridSearch/ModelImbalance5/metrics.pt\n",
            "Epoch [4/6], Train Loss: 0.2558, Valid Loss: 0.1689\n",
            "Model saved to ==> /content/drive/MyDrive/TASI/GridSearch/ModelImbalance5/model.pt\n",
            "Metrics saved to ==> /content/drive/MyDrive/TASI/GridSearch/ModelImbalance5/metrics.pt\n",
            "Epoch [5/6], Train Loss: 0.1485, Valid Loss: 0.1540\n",
            "Model saved to ==> /content/drive/MyDrive/TASI/GridSearch/ModelImbalance5/model.pt\n",
            "Metrics saved to ==> /content/drive/MyDrive/TASI/GridSearch/ModelImbalance5/metrics.pt\n",
            "Epoch [6/6], Train Loss: 0.0688, Valid Loss: 0.1453\n"
          ]
        },
        {
          "output_type": "stream",
          "name": "stderr",
          "text": [
            "[I 2023-06-20 09:18:30,855] Trial 23 finished with value: 0.14533226670963423 and parameters: {'lr': 2e-05, 'num_epochs': 6, 'batch_size': 32}. Best is trial 22 with value: 0.1069559833101396.\n"
          ]
        },
        {
          "output_type": "stream",
          "name": "stdout",
          "text": [
            "Model saved to ==> /content/drive/MyDrive/TASI/GridSearch/ModelImbalance5/model.pt\n",
            "Metrics saved to ==> /content/drive/MyDrive/TASI/GridSearch/ModelImbalance5/metrics.pt\n",
            "Metrics saved to ==> /content/drive/MyDrive/TASI/GridSearch/ModelImbalance5/metrics.pt\n",
            "Finished Training!\n"
          ]
        },
        {
          "output_type": "stream",
          "name": "stderr",
          "text": [
            "Some weights of BertForSequenceClassification were not initialized from the model checkpoint at indobenchmark/indobert-base-p1 and are newly initialized: ['classifier.weight', 'classifier.bias']\n",
            "You should probably TRAIN this model on a down-stream task to be able to use it for predictions and inference.\n"
          ]
        },
        {
          "output_type": "stream",
          "name": "stdout",
          "text": [
            "Epoch [1/7], Train Loss: 0.6770, Valid Loss: 0.6902\n",
            "Model saved to ==> /content/drive/MyDrive/TASI/GridSearch/ModelImbalance5/model.pt\n",
            "Metrics saved to ==> /content/drive/MyDrive/TASI/GridSearch/ModelImbalance5/metrics.pt\n",
            "Epoch [2/7], Train Loss: 0.7020, Valid Loss: 0.6556\n",
            "Model saved to ==> /content/drive/MyDrive/TASI/GridSearch/ModelImbalance5/model.pt\n",
            "Metrics saved to ==> /content/drive/MyDrive/TASI/GridSearch/ModelImbalance5/metrics.pt\n",
            "Epoch [3/7], Train Loss: 0.6738, Valid Loss: 0.6820\n",
            "Epoch [4/7], Train Loss: 0.5742, Valid Loss: 0.6358\n",
            "Model saved to ==> /content/drive/MyDrive/TASI/GridSearch/ModelImbalance5/model.pt\n",
            "Metrics saved to ==> /content/drive/MyDrive/TASI/GridSearch/ModelImbalance5/metrics.pt\n",
            "Epoch [5/7], Train Loss: 0.2948, Valid Loss: 0.4000\n",
            "Model saved to ==> /content/drive/MyDrive/TASI/GridSearch/ModelImbalance5/model.pt\n",
            "Metrics saved to ==> /content/drive/MyDrive/TASI/GridSearch/ModelImbalance5/metrics.pt\n",
            "Epoch [6/7], Train Loss: 0.1608, Valid Loss: 0.4352\n",
            "Epoch [7/7], Train Loss: 0.0747, Valid Loss: 0.2786\n",
            "Model saved to ==> /content/drive/MyDrive/TASI/GridSearch/ModelImbalance5/model.pt\n",
            "Metrics saved to ==> /content/drive/MyDrive/TASI/GridSearch/ModelImbalance5/metrics.pt\n"
          ]
        },
        {
          "output_type": "stream",
          "name": "stderr",
          "text": [
            "[I 2023-06-20 09:21:02,831] Trial 24 finished with value: 0.27858604823372196 and parameters: {'lr': 2e-05, 'num_epochs': 7, 'batch_size': 16}. Best is trial 22 with value: 0.1069559833101396.\n"
          ]
        },
        {
          "output_type": "stream",
          "name": "stdout",
          "text": [
            "Metrics saved to ==> /content/drive/MyDrive/TASI/GridSearch/ModelImbalance5/metrics.pt\n",
            "Finished Training!\n"
          ]
        },
        {
          "output_type": "stream",
          "name": "stderr",
          "text": [
            "Some weights of BertForSequenceClassification were not initialized from the model checkpoint at indobenchmark/indobert-base-p1 and are newly initialized: ['classifier.weight', 'classifier.bias']\n",
            "You should probably TRAIN this model on a down-stream task to be able to use it for predictions and inference.\n"
          ]
        },
        {
          "output_type": "stream",
          "name": "stdout",
          "text": [
            "Epoch [1/8], Train Loss: 0.6692, Valid Loss: 0.7322\n",
            "Model saved to ==> /content/drive/MyDrive/TASI/GridSearch/ModelImbalance5/model.pt\n",
            "Metrics saved to ==> /content/drive/MyDrive/TASI/GridSearch/ModelImbalance5/metrics.pt\n",
            "Epoch [2/8], Train Loss: 0.5163, Valid Loss: 0.4332\n",
            "Model saved to ==> /content/drive/MyDrive/TASI/GridSearch/ModelImbalance5/model.pt\n",
            "Metrics saved to ==> /content/drive/MyDrive/TASI/GridSearch/ModelImbalance5/metrics.pt\n",
            "Epoch [3/8], Train Loss: 0.3121, Valid Loss: 0.2716\n",
            "Model saved to ==> /content/drive/MyDrive/TASI/GridSearch/ModelImbalance5/model.pt\n",
            "Metrics saved to ==> /content/drive/MyDrive/TASI/GridSearch/ModelImbalance5/metrics.pt\n",
            "Epoch [4/8], Train Loss: 0.1692, Valid Loss: 0.1971\n",
            "Model saved to ==> /content/drive/MyDrive/TASI/GridSearch/ModelImbalance5/model.pt\n",
            "Metrics saved to ==> /content/drive/MyDrive/TASI/GridSearch/ModelImbalance5/metrics.pt\n",
            "Epoch [5/8], Train Loss: 0.1386, Valid Loss: 0.2194\n",
            "Epoch [6/8], Train Loss: 0.0692, Valid Loss: 0.1930\n",
            "Model saved to ==> /content/drive/MyDrive/TASI/GridSearch/ModelImbalance5/model.pt\n",
            "Metrics saved to ==> /content/drive/MyDrive/TASI/GridSearch/ModelImbalance5/metrics.pt\n",
            "Epoch [7/8], Train Loss: 0.0492, Valid Loss: 0.2878\n",
            "Epoch [8/8], Train Loss: 0.0384, Valid Loss: 0.1641\n",
            "Model saved to ==> /content/drive/MyDrive/TASI/GridSearch/ModelImbalance5/model.pt\n"
          ]
        },
        {
          "output_type": "stream",
          "name": "stderr",
          "text": [
            "[I 2023-06-20 09:23:56,034] Trial 25 finished with value: 0.16409839317202568 and parameters: {'lr': 2e-05, 'num_epochs': 8, 'batch_size': 32}. Best is trial 22 with value: 0.1069559833101396.\n"
          ]
        },
        {
          "output_type": "stream",
          "name": "stdout",
          "text": [
            "Metrics saved to ==> /content/drive/MyDrive/TASI/GridSearch/ModelImbalance5/metrics.pt\n",
            "Metrics saved to ==> /content/drive/MyDrive/TASI/GridSearch/ModelImbalance5/metrics.pt\n",
            "Finished Training!\n"
          ]
        },
        {
          "output_type": "stream",
          "name": "stderr",
          "text": [
            "Some weights of BertForSequenceClassification were not initialized from the model checkpoint at indobenchmark/indobert-base-p1 and are newly initialized: ['classifier.weight', 'classifier.bias']\n",
            "You should probably TRAIN this model on a down-stream task to be able to use it for predictions and inference.\n"
          ]
        },
        {
          "output_type": "stream",
          "name": "stdout",
          "text": [
            "Epoch [1/7], Train Loss: 0.6442, Valid Loss: 0.6641\n",
            "Model saved to ==> /content/drive/MyDrive/TASI/GridSearch/ModelImbalance5/model.pt\n",
            "Metrics saved to ==> /content/drive/MyDrive/TASI/GridSearch/ModelImbalance5/metrics.pt\n",
            "Epoch [2/7], Train Loss: 0.5036, Valid Loss: 0.3872\n",
            "Model saved to ==> /content/drive/MyDrive/TASI/GridSearch/ModelImbalance5/model.pt\n",
            "Metrics saved to ==> /content/drive/MyDrive/TASI/GridSearch/ModelImbalance5/metrics.pt\n",
            "Epoch [3/7], Train Loss: 0.2165, Valid Loss: 0.2428\n",
            "Model saved to ==> /content/drive/MyDrive/TASI/GridSearch/ModelImbalance5/model.pt\n",
            "Metrics saved to ==> /content/drive/MyDrive/TASI/GridSearch/ModelImbalance5/metrics.pt\n",
            "Epoch [4/7], Train Loss: 0.1496, Valid Loss: 0.2217\n",
            "Model saved to ==> /content/drive/MyDrive/TASI/GridSearch/ModelImbalance5/model.pt\n",
            "Metrics saved to ==> /content/drive/MyDrive/TASI/GridSearch/ModelImbalance5/metrics.pt\n",
            "Epoch [5/7], Train Loss: 0.0815, Valid Loss: 0.1869\n",
            "Model saved to ==> /content/drive/MyDrive/TASI/GridSearch/ModelImbalance5/model.pt\n",
            "Metrics saved to ==> /content/drive/MyDrive/TASI/GridSearch/ModelImbalance5/metrics.pt\n",
            "Epoch [6/7], Train Loss: 0.0402, Valid Loss: 0.1549\n",
            "Model saved to ==> /content/drive/MyDrive/TASI/GridSearch/ModelImbalance5/model.pt\n",
            "Metrics saved to ==> /content/drive/MyDrive/TASI/GridSearch/ModelImbalance5/metrics.pt\n"
          ]
        },
        {
          "output_type": "stream",
          "name": "stderr",
          "text": [
            "[I 2023-06-20 09:26:29,002] Trial 26 finished with value: 0.1549362917430699 and parameters: {'lr': 3e-05, 'num_epochs': 7, 'batch_size': 32}. Best is trial 22 with value: 0.1069559833101396.\n"
          ]
        },
        {
          "output_type": "stream",
          "name": "stdout",
          "text": [
            "Epoch [7/7], Train Loss: 0.0175, Valid Loss: 0.4520\n",
            "Metrics saved to ==> /content/drive/MyDrive/TASI/GridSearch/ModelImbalance5/metrics.pt\n",
            "Finished Training!\n"
          ]
        },
        {
          "output_type": "stream",
          "name": "stderr",
          "text": [
            "Some weights of BertForSequenceClassification were not initialized from the model checkpoint at indobenchmark/indobert-base-p1 and are newly initialized: ['classifier.weight', 'classifier.bias']\n",
            "You should probably TRAIN this model on a down-stream task to be able to use it for predictions and inference.\n"
          ]
        },
        {
          "output_type": "stream",
          "name": "stdout",
          "text": [
            "Epoch [1/9], Train Loss: 0.6564, Valid Loss: 0.6849\n",
            "Model saved to ==> /content/drive/MyDrive/TASI/GridSearch/ModelImbalance5/model.pt\n",
            "Metrics saved to ==> /content/drive/MyDrive/TASI/GridSearch/ModelImbalance5/metrics.pt\n",
            "Epoch [2/9], Train Loss: 0.5652, Valid Loss: 0.3671\n",
            "Model saved to ==> /content/drive/MyDrive/TASI/GridSearch/ModelImbalance5/model.pt\n",
            "Metrics saved to ==> /content/drive/MyDrive/TASI/GridSearch/ModelImbalance5/metrics.pt\n",
            "Epoch [3/9], Train Loss: 0.2650, Valid Loss: 0.4109\n",
            "Epoch [4/9], Train Loss: 0.1823, Valid Loss: 0.2407\n",
            "Model saved to ==> /content/drive/MyDrive/TASI/GridSearch/ModelImbalance5/model.pt\n",
            "Metrics saved to ==> /content/drive/MyDrive/TASI/GridSearch/ModelImbalance5/metrics.pt\n",
            "Epoch [5/9], Train Loss: 0.1263, Valid Loss: 0.2288\n",
            "Model saved to ==> /content/drive/MyDrive/TASI/GridSearch/ModelImbalance5/model.pt\n",
            "Metrics saved to ==> /content/drive/MyDrive/TASI/GridSearch/ModelImbalance5/metrics.pt\n",
            "Epoch [6/9], Train Loss: 0.0935, Valid Loss: 0.2079\n",
            "Model saved to ==> /content/drive/MyDrive/TASI/GridSearch/ModelImbalance5/model.pt\n",
            "Metrics saved to ==> /content/drive/MyDrive/TASI/GridSearch/ModelImbalance5/metrics.pt\n",
            "Epoch [7/9], Train Loss: 0.0706, Valid Loss: 0.2643\n",
            "Epoch [8/9], Train Loss: 0.0380, Valid Loss: 0.2181\n"
          ]
        },
        {
          "output_type": "stream",
          "name": "stderr",
          "text": [
            "[I 2023-06-20 09:29:39,197] Trial 27 finished with value: 0.20792823278212122 and parameters: {'lr': 5e-05, 'num_epochs': 9, 'batch_size': 16}. Best is trial 22 with value: 0.1069559833101396.\n"
          ]
        },
        {
          "output_type": "stream",
          "name": "stdout",
          "text": [
            "Epoch [9/9], Train Loss: 0.0209, Valid Loss: 0.2257\n",
            "Metrics saved to ==> /content/drive/MyDrive/TASI/GridSearch/ModelImbalance5/metrics.pt\n",
            "Finished Training!\n"
          ]
        },
        {
          "output_type": "stream",
          "name": "stderr",
          "text": [
            "Some weights of BertForSequenceClassification were not initialized from the model checkpoint at indobenchmark/indobert-base-p1 and are newly initialized: ['classifier.weight', 'classifier.bias']\n",
            "You should probably TRAIN this model on a down-stream task to be able to use it for predictions and inference.\n"
          ]
        },
        {
          "output_type": "stream",
          "name": "stdout",
          "text": [
            "Epoch [1/9], Train Loss: 0.6238, Valid Loss: 0.5204\n",
            "Model saved to ==> /content/drive/MyDrive/TASI/GridSearch/ModelImbalance5/model.pt\n",
            "Metrics saved to ==> /content/drive/MyDrive/TASI/GridSearch/ModelImbalance5/metrics.pt\n",
            "Epoch [2/9], Train Loss: 0.2754, Valid Loss: 0.2159\n",
            "Model saved to ==> /content/drive/MyDrive/TASI/GridSearch/ModelImbalance5/model.pt\n",
            "Metrics saved to ==> /content/drive/MyDrive/TASI/GridSearch/ModelImbalance5/metrics.pt\n",
            "Epoch [3/9], Train Loss: 0.1449, Valid Loss: 0.2033\n",
            "Model saved to ==> /content/drive/MyDrive/TASI/GridSearch/ModelImbalance5/model.pt\n",
            "Metrics saved to ==> /content/drive/MyDrive/TASI/GridSearch/ModelImbalance5/metrics.pt\n",
            "Epoch [4/9], Train Loss: 0.0926, Valid Loss: 0.1629\n",
            "Model saved to ==> /content/drive/MyDrive/TASI/GridSearch/ModelImbalance5/model.pt\n",
            "Metrics saved to ==> /content/drive/MyDrive/TASI/GridSearch/ModelImbalance5/metrics.pt\n",
            "Epoch [5/9], Train Loss: 0.0469, Valid Loss: 0.1879\n",
            "Epoch [6/9], Train Loss: 0.0264, Valid Loss: 0.1216\n",
            "Model saved to ==> /content/drive/MyDrive/TASI/GridSearch/ModelImbalance5/model.pt\n",
            "Metrics saved to ==> /content/drive/MyDrive/TASI/GridSearch/ModelImbalance5/metrics.pt\n",
            "Epoch [7/9], Train Loss: 0.0438, Valid Loss: 0.1100\n",
            "Model saved to ==> /content/drive/MyDrive/TASI/GridSearch/ModelImbalance5/model.pt\n",
            "Metrics saved to ==> /content/drive/MyDrive/TASI/GridSearch/ModelImbalance5/metrics.pt\n",
            "Epoch [8/9], Train Loss: 0.0030, Valid Loss: 0.1354\n"
          ]
        },
        {
          "output_type": "stream",
          "name": "stderr",
          "text": [
            "[I 2023-06-20 09:32:51,470] Trial 28 finished with value: 0.11002406333240547 and parameters: {'lr': 5e-05, 'num_epochs': 9, 'batch_size': 32}. Best is trial 22 with value: 0.1069559833101396.\n"
          ]
        },
        {
          "output_type": "stream",
          "name": "stdout",
          "text": [
            "Epoch [9/9], Train Loss: 0.0011, Valid Loss: 0.1479\n",
            "Metrics saved to ==> /content/drive/MyDrive/TASI/GridSearch/ModelImbalance5/metrics.pt\n",
            "Finished Training!\n"
          ]
        },
        {
          "output_type": "stream",
          "name": "stderr",
          "text": [
            "Some weights of BertForSequenceClassification were not initialized from the model checkpoint at indobenchmark/indobert-base-p1 and are newly initialized: ['classifier.weight', 'classifier.bias']\n",
            "You should probably TRAIN this model on a down-stream task to be able to use it for predictions and inference.\n"
          ]
        },
        {
          "output_type": "stream",
          "name": "stdout",
          "text": [
            "Epoch [1/6], Train Loss: 0.6318, Valid Loss: 0.6028\n",
            "Model saved to ==> /content/drive/MyDrive/TASI/GridSearch/ModelImbalance5/model.pt\n",
            "Metrics saved to ==> /content/drive/MyDrive/TASI/GridSearch/ModelImbalance5/metrics.pt\n",
            "Epoch [2/6], Train Loss: 0.5026, Valid Loss: 0.4779\n",
            "Model saved to ==> /content/drive/MyDrive/TASI/GridSearch/ModelImbalance5/model.pt\n",
            "Metrics saved to ==> /content/drive/MyDrive/TASI/GridSearch/ModelImbalance5/metrics.pt\n",
            "Epoch [3/6], Train Loss: 0.2800, Valid Loss: 0.5399\n",
            "Epoch [4/6], Train Loss: 0.2031, Valid Loss: 0.6435\n",
            "Epoch [5/6], Train Loss: 0.1264, Valid Loss: 0.5303\n",
            "Epoch [6/6], Train Loss: 0.0697, Valid Loss: 0.4573\n"
          ]
        },
        {
          "output_type": "stream",
          "name": "stderr",
          "text": [
            "[I 2023-06-20 09:34:57,542] Trial 29 finished with value: 0.4573024066630751 and parameters: {'lr': 5e-05, 'num_epochs': 6, 'batch_size': 32}. Best is trial 22 with value: 0.1069559833101396.\n"
          ]
        },
        {
          "output_type": "stream",
          "name": "stdout",
          "text": [
            "Model saved to ==> /content/drive/MyDrive/TASI/GridSearch/ModelImbalance5/model.pt\n",
            "Metrics saved to ==> /content/drive/MyDrive/TASI/GridSearch/ModelImbalance5/metrics.pt\n",
            "Metrics saved to ==> /content/drive/MyDrive/TASI/GridSearch/ModelImbalance5/metrics.pt\n",
            "Finished Training!\n"
          ]
        },
        {
          "output_type": "stream",
          "name": "stderr",
          "text": [
            "Some weights of BertForSequenceClassification were not initialized from the model checkpoint at indobenchmark/indobert-base-p1 and are newly initialized: ['classifier.weight', 'classifier.bias']\n",
            "You should probably TRAIN this model on a down-stream task to be able to use it for predictions and inference.\n"
          ]
        },
        {
          "output_type": "stream",
          "name": "stdout",
          "text": [
            "Epoch [1/9], Train Loss: 0.6758, Valid Loss: 0.6593\n",
            "Model saved to ==> /content/drive/MyDrive/TASI/GridSearch/ModelImbalance5/model.pt\n",
            "Metrics saved to ==> /content/drive/MyDrive/TASI/GridSearch/ModelImbalance5/metrics.pt\n",
            "Epoch [2/9], Train Loss: 0.6696, Valid Loss: 0.6129\n",
            "Model saved to ==> /content/drive/MyDrive/TASI/GridSearch/ModelImbalance5/model.pt\n",
            "Metrics saved to ==> /content/drive/MyDrive/TASI/GridSearch/ModelImbalance5/metrics.pt\n",
            "Epoch [3/9], Train Loss: 0.3888, Valid Loss: 0.3629\n",
            "Model saved to ==> /content/drive/MyDrive/TASI/GridSearch/ModelImbalance5/model.pt\n",
            "Metrics saved to ==> /content/drive/MyDrive/TASI/GridSearch/ModelImbalance5/metrics.pt\n",
            "Epoch [4/9], Train Loss: 0.2493, Valid Loss: 0.2493\n",
            "Model saved to ==> /content/drive/MyDrive/TASI/GridSearch/ModelImbalance5/model.pt\n",
            "Metrics saved to ==> /content/drive/MyDrive/TASI/GridSearch/ModelImbalance5/metrics.pt\n",
            "Epoch [5/9], Train Loss: 0.1372, Valid Loss: 0.1487\n",
            "Model saved to ==> /content/drive/MyDrive/TASI/GridSearch/ModelImbalance5/model.pt\n",
            "Metrics saved to ==> /content/drive/MyDrive/TASI/GridSearch/ModelImbalance5/metrics.pt\n",
            "Epoch [6/9], Train Loss: 0.0848, Valid Loss: 0.2633\n",
            "Epoch [7/9], Train Loss: 0.0562, Valid Loss: 0.1164\n",
            "Model saved to ==> /content/drive/MyDrive/TASI/GridSearch/ModelImbalance5/model.pt\n",
            "Metrics saved to ==> /content/drive/MyDrive/TASI/GridSearch/ModelImbalance5/metrics.pt\n",
            "Epoch [8/9], Train Loss: 0.0156, Valid Loss: 0.4103\n"
          ]
        },
        {
          "output_type": "stream",
          "name": "stderr",
          "text": [
            "[I 2023-06-20 09:38:09,540] Trial 30 finished with value: 0.11635501817467489 and parameters: {'lr': 2e-05, 'num_epochs': 9, 'batch_size': 32}. Best is trial 22 with value: 0.1069559833101396.\n"
          ]
        },
        {
          "output_type": "stream",
          "name": "stdout",
          "text": [
            "Epoch [9/9], Train Loss: 0.0210, Valid Loss: 0.1620\n",
            "Metrics saved to ==> /content/drive/MyDrive/TASI/GridSearch/ModelImbalance5/metrics.pt\n",
            "Finished Training!\n"
          ]
        },
        {
          "output_type": "stream",
          "name": "stderr",
          "text": [
            "Some weights of BertForSequenceClassification were not initialized from the model checkpoint at indobenchmark/indobert-base-p1 and are newly initialized: ['classifier.weight', 'classifier.bias']\n",
            "You should probably TRAIN this model on a down-stream task to be able to use it for predictions and inference.\n"
          ]
        },
        {
          "output_type": "stream",
          "name": "stdout",
          "text": [
            "Epoch [1/5], Train Loss: 0.6588, Valid Loss: 0.6699\n",
            "Model saved to ==> /content/drive/MyDrive/TASI/GridSearch/ModelImbalance5/model.pt\n",
            "Metrics saved to ==> /content/drive/MyDrive/TASI/GridSearch/ModelImbalance5/metrics.pt\n",
            "Epoch [2/5], Train Loss: 0.6630, Valid Loss: 0.6529\n",
            "Model saved to ==> /content/drive/MyDrive/TASI/GridSearch/ModelImbalance5/model.pt\n",
            "Metrics saved to ==> /content/drive/MyDrive/TASI/GridSearch/ModelImbalance5/metrics.pt\n",
            "Epoch [3/5], Train Loss: 0.6331, Valid Loss: 0.6757\n",
            "Epoch [4/5], Train Loss: 0.6579, Valid Loss: 0.6829\n"
          ]
        },
        {
          "output_type": "stream",
          "name": "stderr",
          "text": [
            "[I 2023-06-20 09:39:54,404] Trial 31 finished with value: 0.6529230901173183 and parameters: {'lr': 3e-05, 'num_epochs': 5, 'batch_size': 16}. Best is trial 22 with value: 0.1069559833101396.\n"
          ]
        },
        {
          "output_type": "stream",
          "name": "stdout",
          "text": [
            "Epoch [5/5], Train Loss: 0.7426, Valid Loss: 0.6893\n",
            "Metrics saved to ==> /content/drive/MyDrive/TASI/GridSearch/ModelImbalance5/metrics.pt\n",
            "Finished Training!\n"
          ]
        },
        {
          "output_type": "stream",
          "name": "stderr",
          "text": [
            "Some weights of BertForSequenceClassification were not initialized from the model checkpoint at indobenchmark/indobert-base-p1 and are newly initialized: ['classifier.weight', 'classifier.bias']\n",
            "You should probably TRAIN this model on a down-stream task to be able to use it for predictions and inference.\n"
          ]
        },
        {
          "output_type": "stream",
          "name": "stdout",
          "text": [
            "Epoch [1/8], Train Loss: 0.6196, Valid Loss: 0.4566\n",
            "Model saved to ==> /content/drive/MyDrive/TASI/GridSearch/ModelImbalance5/model.pt\n",
            "Metrics saved to ==> /content/drive/MyDrive/TASI/GridSearch/ModelImbalance5/metrics.pt\n",
            "Epoch [2/8], Train Loss: 0.3787, Valid Loss: 0.2702\n",
            "Model saved to ==> /content/drive/MyDrive/TASI/GridSearch/ModelImbalance5/model.pt\n",
            "Metrics saved to ==> /content/drive/MyDrive/TASI/GridSearch/ModelImbalance5/metrics.pt\n",
            "Epoch [3/8], Train Loss: 0.1609, Valid Loss: 0.2319\n",
            "Model saved to ==> /content/drive/MyDrive/TASI/GridSearch/ModelImbalance5/model.pt\n",
            "Metrics saved to ==> /content/drive/MyDrive/TASI/GridSearch/ModelImbalance5/metrics.pt\n",
            "Epoch [4/8], Train Loss: 0.0953, Valid Loss: 0.3093\n",
            "Epoch [5/8], Train Loss: 0.0741, Valid Loss: 0.2853\n",
            "Epoch [6/8], Train Loss: 0.0463, Valid Loss: 0.2734\n",
            "Epoch [7/8], Train Loss: 0.0312, Valid Loss: 0.1413\n",
            "Model saved to ==> /content/drive/MyDrive/TASI/GridSearch/ModelImbalance5/model.pt\n",
            "Metrics saved to ==> /content/drive/MyDrive/TASI/GridSearch/ModelImbalance5/metrics.pt\n"
          ]
        },
        {
          "output_type": "stream",
          "name": "stderr",
          "text": [
            "[I 2023-06-20 09:42:43,041] Trial 32 finished with value: 0.1412531350672777 and parameters: {'lr': 3e-05, 'num_epochs': 8, 'batch_size': 16}. Best is trial 22 with value: 0.1069559833101396.\n"
          ]
        },
        {
          "output_type": "stream",
          "name": "stdout",
          "text": [
            "Epoch [8/8], Train Loss: 0.0037, Valid Loss: 0.1993\n",
            "Metrics saved to ==> /content/drive/MyDrive/TASI/GridSearch/ModelImbalance5/metrics.pt\n",
            "Finished Training!\n"
          ]
        },
        {
          "output_type": "stream",
          "name": "stderr",
          "text": [
            "Some weights of BertForSequenceClassification were not initialized from the model checkpoint at indobenchmark/indobert-base-p1 and are newly initialized: ['classifier.weight', 'classifier.bias']\n",
            "You should probably TRAIN this model on a down-stream task to be able to use it for predictions and inference.\n"
          ]
        },
        {
          "output_type": "stream",
          "name": "stdout",
          "text": [
            "Epoch [1/8], Train Loss: 0.6490, Valid Loss: 0.6770\n",
            "Model saved to ==> /content/drive/MyDrive/TASI/GridSearch/ModelImbalance5/model.pt\n",
            "Metrics saved to ==> /content/drive/MyDrive/TASI/GridSearch/ModelImbalance5/metrics.pt\n",
            "Epoch [2/8], Train Loss: 0.6504, Valid Loss: 0.5915\n",
            "Model saved to ==> /content/drive/MyDrive/TASI/GridSearch/ModelImbalance5/model.pt\n",
            "Metrics saved to ==> /content/drive/MyDrive/TASI/GridSearch/ModelImbalance5/metrics.pt\n",
            "Epoch [3/8], Train Loss: 0.3474, Valid Loss: 0.2724\n",
            "Model saved to ==> /content/drive/MyDrive/TASI/GridSearch/ModelImbalance5/model.pt\n",
            "Metrics saved to ==> /content/drive/MyDrive/TASI/GridSearch/ModelImbalance5/metrics.pt\n",
            "Epoch [4/8], Train Loss: 0.2018, Valid Loss: 0.2395\n",
            "Model saved to ==> /content/drive/MyDrive/TASI/GridSearch/ModelImbalance5/model.pt\n",
            "Metrics saved to ==> /content/drive/MyDrive/TASI/GridSearch/ModelImbalance5/metrics.pt\n",
            "Epoch [5/8], Train Loss: 0.1044, Valid Loss: 0.2098\n",
            "Model saved to ==> /content/drive/MyDrive/TASI/GridSearch/ModelImbalance5/model.pt\n",
            "Metrics saved to ==> /content/drive/MyDrive/TASI/GridSearch/ModelImbalance5/metrics.pt\n",
            "Epoch [6/8], Train Loss: 0.0649, Valid Loss: 0.3468\n",
            "Epoch [7/8], Train Loss: 0.0437, Valid Loss: 0.2016\n",
            "Model saved to ==> /content/drive/MyDrive/TASI/GridSearch/ModelImbalance5/model.pt\n",
            "Metrics saved to ==> /content/drive/MyDrive/TASI/GridSearch/ModelImbalance5/metrics.pt\n"
          ]
        },
        {
          "output_type": "stream",
          "name": "stderr",
          "text": [
            "[I 2023-06-20 09:45:35,787] Trial 33 finished with value: 0.20160160958766937 and parameters: {'lr': 5e-05, 'num_epochs': 8, 'batch_size': 16}. Best is trial 22 with value: 0.1069559833101396.\n"
          ]
        },
        {
          "output_type": "stream",
          "name": "stdout",
          "text": [
            "Epoch [8/8], Train Loss: 0.0500, Valid Loss: 0.3725\n",
            "Metrics saved to ==> /content/drive/MyDrive/TASI/GridSearch/ModelImbalance5/metrics.pt\n",
            "Finished Training!\n"
          ]
        },
        {
          "output_type": "stream",
          "name": "stderr",
          "text": [
            "Some weights of BertForSequenceClassification were not initialized from the model checkpoint at indobenchmark/indobert-base-p1 and are newly initialized: ['classifier.weight', 'classifier.bias']\n",
            "You should probably TRAIN this model on a down-stream task to be able to use it for predictions and inference.\n"
          ]
        },
        {
          "output_type": "stream",
          "name": "stdout",
          "text": [
            "Epoch [1/9], Train Loss: 0.6572, Valid Loss: 0.6841\n",
            "Model saved to ==> /content/drive/MyDrive/TASI/GridSearch/ModelImbalance5/model.pt\n",
            "Metrics saved to ==> /content/drive/MyDrive/TASI/GridSearch/ModelImbalance5/metrics.pt\n",
            "Epoch [2/9], Train Loss: 0.4689, Valid Loss: 0.3476\n",
            "Model saved to ==> /content/drive/MyDrive/TASI/GridSearch/ModelImbalance5/model.pt\n",
            "Metrics saved to ==> /content/drive/MyDrive/TASI/GridSearch/ModelImbalance5/metrics.pt\n",
            "Epoch [3/9], Train Loss: 0.3411, Valid Loss: 0.2836\n",
            "Model saved to ==> /content/drive/MyDrive/TASI/GridSearch/ModelImbalance5/model.pt\n",
            "Metrics saved to ==> /content/drive/MyDrive/TASI/GridSearch/ModelImbalance5/metrics.pt\n",
            "Epoch [4/9], Train Loss: 0.2062, Valid Loss: 0.2098\n",
            "Model saved to ==> /content/drive/MyDrive/TASI/GridSearch/ModelImbalance5/model.pt\n",
            "Metrics saved to ==> /content/drive/MyDrive/TASI/GridSearch/ModelImbalance5/metrics.pt\n",
            "Epoch [5/9], Train Loss: 0.0908, Valid Loss: 0.1791\n",
            "Model saved to ==> /content/drive/MyDrive/TASI/GridSearch/ModelImbalance5/model.pt\n",
            "Metrics saved to ==> /content/drive/MyDrive/TASI/GridSearch/ModelImbalance5/metrics.pt\n",
            "Epoch [6/9], Train Loss: 0.0479, Valid Loss: 0.1804\n",
            "Epoch [7/9], Train Loss: 0.0299, Valid Loss: 0.1217\n",
            "Model saved to ==> /content/drive/MyDrive/TASI/GridSearch/ModelImbalance5/model.pt\n",
            "Metrics saved to ==> /content/drive/MyDrive/TASI/GridSearch/ModelImbalance5/metrics.pt\n",
            "Epoch [8/9], Train Loss: 0.0170, Valid Loss: 0.1819\n"
          ]
        },
        {
          "output_type": "stream",
          "name": "stderr",
          "text": [
            "[I 2023-06-20 09:48:51,497] Trial 34 finished with value: 0.12166617311803359 and parameters: {'lr': 2e-05, 'num_epochs': 9, 'batch_size': 16}. Best is trial 22 with value: 0.1069559833101396.\n"
          ]
        },
        {
          "output_type": "stream",
          "name": "stdout",
          "text": [
            "Epoch [9/9], Train Loss: 0.0097, Valid Loss: 0.2804\n",
            "Metrics saved to ==> /content/drive/MyDrive/TASI/GridSearch/ModelImbalance5/metrics.pt\n",
            "Finished Training!\n"
          ]
        },
        {
          "output_type": "stream",
          "name": "stderr",
          "text": [
            "Some weights of BertForSequenceClassification were not initialized from the model checkpoint at indobenchmark/indobert-base-p1 and are newly initialized: ['classifier.weight', 'classifier.bias']\n",
            "You should probably TRAIN this model on a down-stream task to be able to use it for predictions and inference.\n"
          ]
        },
        {
          "output_type": "stream",
          "name": "stdout",
          "text": [
            "Epoch [1/10], Train Loss: 0.6466, Valid Loss: 0.6952\n",
            "Model saved to ==> /content/drive/MyDrive/TASI/GridSearch/ModelImbalance5/model.pt\n",
            "Metrics saved to ==> /content/drive/MyDrive/TASI/GridSearch/ModelImbalance5/metrics.pt\n",
            "Epoch [2/10], Train Loss: 0.6098, Valid Loss: 0.5760\n",
            "Model saved to ==> /content/drive/MyDrive/TASI/GridSearch/ModelImbalance5/model.pt\n",
            "Metrics saved to ==> /content/drive/MyDrive/TASI/GridSearch/ModelImbalance5/metrics.pt\n",
            "Epoch [3/10], Train Loss: 0.2664, Valid Loss: 0.2477\n",
            "Model saved to ==> /content/drive/MyDrive/TASI/GridSearch/ModelImbalance5/model.pt\n",
            "Metrics saved to ==> /content/drive/MyDrive/TASI/GridSearch/ModelImbalance5/metrics.pt\n",
            "Epoch [4/10], Train Loss: 0.1579, Valid Loss: 0.3237\n",
            "Epoch [5/10], Train Loss: 0.1350, Valid Loss: 0.2638\n",
            "Epoch [6/10], Train Loss: 0.0994, Valid Loss: 0.2591\n",
            "Epoch [7/10], Train Loss: 0.0617, Valid Loss: 0.2521\n",
            "Epoch [8/10], Train Loss: 0.0396, Valid Loss: 0.2900\n",
            "Epoch [9/10], Train Loss: 0.0258, Valid Loss: 0.2660\n"
          ]
        },
        {
          "output_type": "stream",
          "name": "stderr",
          "text": [
            "[I 2023-06-20 09:52:20,059] Trial 35 finished with value: 0.2476510782726109 and parameters: {'lr': 5e-05, 'num_epochs': 10, 'batch_size': 16}. Best is trial 22 with value: 0.1069559833101396.\n"
          ]
        },
        {
          "output_type": "stream",
          "name": "stdout",
          "text": [
            "Epoch [10/10], Train Loss: 0.0236, Valid Loss: 0.2849\n",
            "Metrics saved to ==> /content/drive/MyDrive/TASI/GridSearch/ModelImbalance5/metrics.pt\n",
            "Finished Training!\n",
            "Best model: lr=2e-05, num_epochs=8, batch_size=16\n",
            "Best valid loss: 0.1069559833101396\n"
          ]
        }
      ],
      "source": [
        "import optuna\n",
        "\n",
        "# Define an objective function to optimize hyperparameters\n",
        "def objective(trial):\n",
        "    # Sample hyperparameters\n",
        "    lr = trial.suggest_categorical('lr', [2e-5, 3e-5, 5e-5])\n",
        "    num_epochs = trial.suggest_categorical('num_epochs', [5, 6, 7, 8, 9, 10])\n",
        "    batch_size = trial.suggest_categorical('batch_size', [16, 32])\n",
        "\n",
        "    # Define model, optimizer, and criterion\n",
        "    model = BERT().to(device)\n",
        "    optimizer = optim.Adam(model.parameters(), lr=lr)\n",
        "    criterion = nn.BCELoss()\n",
        "\n",
        "    # Train model\n",
        "    train_loss_list, valid_loss_list, epoch_list, best_valid_loss = train(model=model,\n",
        "                                                                          optimizer=optimizer,\n",
        "                                                                          criterion=criterion,\n",
        "                                                                          train_loader=train_iter,\n",
        "                                                                          valid_loader=valid_iter,\n",
        "                                                                          num_epochs=num_epochs,\n",
        "                                                                          eval_every=1,\n",
        "                                                                          file_path=destination_folder)\n",
        "\n",
        "    # Save results\n",
        "    key = f'lr={lr}, num_epochs={num_epochs}, batch_size={batch_size}'\n",
        "    results[key] = {\n",
        "        'train_loss': train_loss_list[-1],\n",
        "        'valid_loss': valid_loss_list,\n",
        "        'epoch_list': epoch_list,\n",
        "        'best_valid_loss': best_valid_loss,\n",
        "        'lr': lr,\n",
        "        'num_epochs': num_epochs,\n",
        "        'batch_size': batch_size,\n",
        "    }\n",
        "\n",
        "    # Save model if best\n",
        "    if best_valid_loss < results.get('best_valid_loss', float('inf')):\n",
        "        results['best_valid_loss'] = best_valid_loss\n",
        "        results['best_model'] = key\n",
        "        torch.save(model.state_dict(), f'{destination_folder}/model_{key}.pt')\n",
        "\n",
        "    return best_valid_loss\n",
        "\n",
        "# Set up Optuna study with GridSampler\n",
        "sampler = optuna.samplers.GridSampler({\n",
        "    'lr': [2e-5, 3e-5, 5e-5],\n",
        "    'num_epochs': [5, 6, 7, 8, 9, 10],\n",
        "    'batch_size': [16, 32]\n",
        "})\n",
        "study = optuna.create_study(direction='minimize', sampler=sampler)\n",
        "\n",
        "# Run optimization\n",
        "results = {}\n",
        "study.optimize(objective, n_trials=36)\n",
        "\n",
        "# Print best model and hyperparameters\n",
        "best_model = results['best_model']\n",
        "best_hyperparams = results[best_model]\n",
        "print('Best model:', best_model)\n",
        "print('Best valid loss:', best_hyperparams['best_valid_loss'])"
      ]
    },
    {
      "cell_type": "code",
      "execution_count": 20,
      "metadata": {
        "colab": {
          "base_uri": "https://localhost:8080/",
          "height": 466
        },
        "id": "iyknvLHm-0Iv",
        "outputId": "9ad5d66d-b957-493b-a357-0d470d9c98ff"
      },
      "outputs": [
        {
          "output_type": "stream",
          "name": "stdout",
          "text": [
            "Metrics loaded from <== /content/drive/MyDrive/TASI/GridSearch/ModelImbalance5/metrics.pt\n"
          ]
        },
        {
          "output_type": "display_data",
          "data": {
            "text/plain": [
              "<Figure size 640x480 with 1 Axes>"
            ],
            "image/png": "[encoded data removed]"
          },
          "metadata": {}
        }
      ],
      "source": [
        "train_loss_list, valid_loss_list, epoch_list = load_metrics(destination_folder + '/metrics.pt')\n",
        "plt.plot(epoch_list, train_loss_list, label='Train')\n",
        "plt.plot(epoch_list, valid_loss_list, label='Valid')\n",
        "plt.xlabel('Epochs')\n",
        "plt.ylabel('Loss')\n",
        "plt.legend()\n",
        "plt.show()"
      ]
    },
    {
      "cell_type": "code",
      "execution_count": 21,
      "metadata": {
        "colab": {
          "base_uri": "https://localhost:8080/",
          "height": 614
        },
        "id": "HEjtkI8OMTE6",
        "outputId": "c75764cb-b655-413f-c61b-6f4a5769e119"
      },
      "outputs": [
        {
          "output_type": "stream",
          "name": "stderr",
          "text": [
            "Some weights of BertForSequenceClassification were not initialized from the model checkpoint at indobenchmark/indobert-base-p1 and are newly initialized: ['classifier.weight', 'classifier.bias']\n",
            "You should probably TRAIN this model on a down-stream task to be able to use it for predictions and inference.\n"
          ]
        },
        {
          "output_type": "stream",
          "name": "stdout",
          "text": [
            "Model loaded from <== /content/drive/MyDrive/TASI/GridSearch/ModelImbalance5/model.pt\n",
            "Classification Report:\n",
            "Real - Precision: 0.9676, Recall: 0.9248, F1-Score: 0.9457\n",
            "Fake - Precision: 0.8571, Recall: 0.9358, F1-Score: 0.8947\n",
            "Accuracy: 0.9283582089552239\n"
          ]
        },
        {
          "output_type": "display_data",
          "data": {
            "text/plain": [
              "<Figure size 640x480 with 2 Axes>"
            ],
            "image/png": "[encoded data removed]"
          },
          "metadata": {}
        }
      ],
      "source": [
        "from sklearn.metrics import classification_report, accuracy_score, confusion_matrix\n",
        "import numpy as np\n",
        "import seaborn as sns\n",
        "import matplotlib.pyplot as plt\n",
        "\n",
        "def evaluate(model, test_loader):\n",
        "    y_pred = []\n",
        "    y_true = []\n",
        "\n",
        "    model.eval()\n",
        "    with torch.no_grad():\n",
        "        for (labels, title, text), _ in test_loader:\n",
        "            labels = labels.type(torch.LongTensor)\n",
        "            labels = labels.to(device)\n",
        "            text = text.type(torch.LongTensor)\n",
        "            text = text.to(device)\n",
        "            output = model(text, labels)\n",
        "\n",
        "            _, output = output\n",
        "            y_pred.extend(torch.argmax(output, 1).tolist())\n",
        "            y_true.extend(labels.tolist())\n",
        "\n",
        "    # Mengganti label 1 menjadi \"fake\" dan label 0 menjadi \"real\"\n",
        "    y_true = np.where(np.array(y_true) == 0, \"real\", \"fake\")\n",
        "    y_pred = np.where(np.array(y_pred) == 0, \"real\", \"fake\")\n",
        "\n",
        "    # Menghitung dan mencetak hasil precision, recall, f1-score, dan accuracy\n",
        "    report = classification_report(y_true, y_pred, labels=[\"real\", \"fake\"], digits=4, output_dict=True)\n",
        "    print('Classification Report:')\n",
        "    for label, scores in report.items():\n",
        "        if label in [\"real\", \"fake\"]:\n",
        "            precision = scores['precision']\n",
        "            recall = scores['recall']\n",
        "            f1_score = scores['f1-score']\n",
        "            print(f\"{label.capitalize()} - Precision: {precision:.4f}, Recall: {recall:.4f}, F1-Score: {f1_score:.4f}\")\n",
        "    accuracy = accuracy_score(y_true, y_pred)\n",
        "    print(f'Accuracy: {accuracy}')\n",
        "\n",
        "    # Menghitung dan mencetak confusion matrix\n",
        "    cm = confusion_matrix(y_true, y_pred, labels=[\"real\", \"fake\"])\n",
        "    ax = plt.subplot()\n",
        "    sns.heatmap(cm, annot=True, ax=ax, cmap='Blues', fmt=\"d\")\n",
        "    ax.set_title('Confusion Matrix')\n",
        "    ax.set_xlabel('Predicted Labels')\n",
        "    ax.set_ylabel('True Labels')\n",
        "    ax.xaxis.set_ticklabels(['Real', 'Fake'])\n",
        "    ax.yaxis.set_ticklabels(['Real', 'Fake'])\n",
        "    plt.show()\n",
        "\n",
        "best_model = BERT().to(device)\n",
        "\n",
        "load_checkpoint(destination_folder + '/model.pt', best_model)\n",
        "\n",
        "evaluate(best_model, test_iter)"
      ]
    },
    {
      "cell_type": "code",
      "execution_count": null,
      "metadata": {
        "id": "XWrnHdKFe3Kj"
      },
      "outputs": [],
      "source": []
    }
  ],
  "metadata": {
    "accelerator": "GPU",
    "colab": {
      "provenance": []
    },
    "gpuClass": "standard",
    "kernelspec": {
      "display_name": "Python 3",
      "name": "python3"
    },
    "widgets": {
      "application/vnd.jupyter.widget-state+json": {
        "6440fe4f7aa744bfa76fe4baed1a4a6c": {
          "model_module": "@jupyter-widgets/controls",
          "model_name": "HBoxModel",
          "model_module_version": "1.5.0",
          "state": {
            "_dom_classes": [],
            "_model_module": "@jupyter-widgets/controls",
            "_model_module_version": "1.5.0",
            "_model_name": "HBoxModel",
            "_view_count": null,
            "_view_module": "@jupyter-widgets/controls",
            "_view_module_version": "1.5.0",
            "_view_name": "HBoxView",
            "box_style": "",
            "children": [
              "IPY_MODEL_34ebbf9f1b674d8db5b0620512d28d8d",
              "IPY_MODEL_1f74216a61ee4c7a86f823559f5fa221",
              "IPY_MODEL_19b6777412ca48019d3464c7c80795d2"
            ],
            "layout": "IPY_MODEL_752eb61762674b2e8d99055f7f72f5bc"
          }
        },
        "34ebbf9f1b674d8db5b0620512d28d8d": {
          "model_module": "@jupyter-widgets/controls",
          "model_name": "HTMLModel",
          "model_module_version": "1.5.0",
          "state": {
            "_dom_classes": [],
            "_model_module": "@jupyter-widgets/controls",
            "_model_module_version": "1.5.0",
            "_model_name": "HTMLModel",
            "_view_count": null,
            "_view_module": "@jupyter-widgets/controls",
            "_view_module_version": "1.5.0",
            "_view_name": "HTMLView",
            "description": "",
            "description_tooltip": null,
            "layout": "IPY_MODEL_c092186e46ef4a4fb7967a1b87c75884",
            "placeholder": "​",
            "style": "IPY_MODEL_11ccebe888f044849ce4125213fa201e",
            "value": "Downloading (…)solve/main/vocab.txt: 100%"
          }
        },
        "1f74216a61ee4c7a86f823559f5fa221": {
          "model_module": "@jupyter-widgets/controls",
          "model_name": "FloatProgressModel",
          "model_module_version": "1.5.0",
          "state": {
            "_dom_classes": [],
            "_model_module": "@jupyter-widgets/controls",
            "_model_module_version": "1.5.0",
            "_model_name": "FloatProgressModel",
            "_view_count": null,
            "_view_module": "@jupyter-widgets/controls",
            "_view_module_version": "1.5.0",
            "_view_name": "ProgressView",
            "bar_style": "success",
            "description": "",
            "description_tooltip": null,
            "layout": "IPY_MODEL_3403aaff7375471e8f552cd6233b9580",
            "max": 229167,
            "min": 0,
            "orientation": "horizontal",
            "style": "IPY_MODEL_c6de2eed32e14aba947c59760fb64de5",
            "value": 229167
          }
        },
        "19b6777412ca48019d3464c7c80795d2": {
          "model_module": "@jupyter-widgets/controls",
          "model_name": "HTMLModel",
          "model_module_version": "1.5.0",
          "state": {
            "_dom_classes": [],
            "_model_module": "@jupyter-widgets/controls",
            "_model_module_version": "1.5.0",
            "_model_name": "HTMLModel",
            "_view_count": null,
            "_view_module": "@jupyter-widgets/controls",
            "_view_module_version": "1.5.0",
            "_view_name": "HTMLView",
            "description": "",
            "description_tooltip": null,
            "layout": "IPY_MODEL_4ff296d08d49416dbbae2a16dd440936",
            "placeholder": "​",
            "style": "IPY_MODEL_ef72248d28584855a2e29427bf0c52be",
            "value": " 229k/229k [00:00&lt;00:00, 1.39MB/s]"
          }
        },
        "752eb61762674b2e8d99055f7f72f5bc": {
          "model_module": "@jupyter-widgets/base",
          "model_name": "LayoutModel",
          "model_module_version": "1.2.0",
          "state": {
            "_model_module": "@jupyter-widgets/base",
            "_model_module_version": "1.2.0",
            "_model_name": "LayoutModel",
            "_view_count": null,
            "_view_module": "@jupyter-widgets/base",
            "_view_module_version": "1.2.0",
            "_view_name": "LayoutView",
            "align_content": null,
            "align_items": null,
            "align_self": null,
            "border": null,
            "bottom": null,
            "display": null,
            "flex": null,
            "flex_flow": null,
            "grid_area": null,
            "grid_auto_columns": null,
            "grid_auto_flow": null,
            "grid_auto_rows": null,
            "grid_column": null,
            "grid_gap": null,
            "grid_row": null,
            "grid_template_areas": null,
            "grid_template_columns": null,
            "grid_template_rows": null,
            "height": null,
            "justify_content": null,
            "justify_items": null,
            "left": null,
            "margin": null,
            "max_height": null,
            "max_width": null,
            "min_height": null,
            "min_width": null,
            "object_fit": null,
            "object_position": null,
            "order": null,
            "overflow": null,
            "overflow_x": null,
            "overflow_y": null,
            "padding": null,
            "right": null,
            "top": null,
            "visibility": null,
            "width": null
          }
        },
        "c092186e46ef4a4fb7967a1b87c75884": {
          "model_module": "@jupyter-widgets/base",
          "model_name": "LayoutModel",
          "model_module_version": "1.2.0",
          "state": {
            "_model_module": "@jupyter-widgets/base",
            "_model_module_version": "1.2.0",
            "_model_name": "LayoutModel",
            "_view_count": null,
            "_view_module": "@jupyter-widgets/base",
            "_view_module_version": "1.2.0",
            "_view_name": "LayoutView",
            "align_content": null,
            "align_items": null,
            "align_self": null,
            "border": null,
            "bottom": null,
            "display": null,
            "flex": null,
            "flex_flow": null,
            "grid_area": null,
            "grid_auto_columns": null,
            "grid_auto_flow": null,
            "grid_auto_rows": null,
            "grid_column": null,
            "grid_gap": null,
            "grid_row": null,
            "grid_template_areas": null,
            "grid_template_columns": null,
            "grid_template_rows": null,
            "height": null,
            "justify_content": null,
            "justify_items": null,
            "left": null,
            "margin": null,
            "max_height": null,
            "max_width": null,
            "min_height": null,
            "min_width": null,
            "object_fit": null,
            "object_position": null,
            "order": null,
            "overflow": null,
            "overflow_x": null,
            "overflow_y": null,
            "padding": null,
            "right": null,
            "top": null,
            "visibility": null,
            "width": null
          }
        },
        "11ccebe888f044849ce4125213fa201e": {
          "model_module": "@jupyter-widgets/controls",
          "model_name": "DescriptionStyleModel",
          "model_module_version": "1.5.0",
          "state": {
            "_model_module": "@jupyter-widgets/controls",
            "_model_module_version": "1.5.0",
            "_model_name": "DescriptionStyleModel",
            "_view_count": null,
            "_view_module": "@jupyter-widgets/base",
            "_view_module_version": "1.2.0",
            "_view_name": "StyleView",
            "description_width": ""
          }
        },
        "3403aaff7375471e8f552cd6233b9580": {
          "model_module": "@jupyter-widgets/base",
          "model_name": "LayoutModel",
          "model_module_version": "1.2.0",
          "state": {
            "_model_module": "@jupyter-widgets/base",
            "_model_module_version": "1.2.0",
            "_model_name": "LayoutModel",
            "_view_count": null,
            "_view_module": "@jupyter-widgets/base",
            "_view_module_version": "1.2.0",
            "_view_name": "LayoutView",
            "align_content": null,
            "align_items": null,
            "align_self": null,
            "border": null,
            "bottom": null,
            "display": null,
            "flex": null,
            "flex_flow": null,
            "grid_area": null,
            "grid_auto_columns": null,
            "grid_auto_flow": null,
            "grid_auto_rows": null,
            "grid_column": null,
            "grid_gap": null,
            "grid_row": null,
            "grid_template_areas": null,
            "grid_template_columns": null,
            "grid_template_rows": null,
            "height": null,
            "justify_content": null,
            "justify_items": null,
            "left": null,
            "margin": null,
            "max_height": null,
            "max_width": null,
            "min_height": null,
            "min_width": null,
            "object_fit": null,
            "object_position": null,
            "order": null,
            "overflow": null,
            "overflow_x": null,
            "overflow_y": null,
            "padding": null,
            "right": null,
            "top": null,
            "visibility": null,
            "width": null
          }
        },
        "c6de2eed32e14aba947c59760fb64de5": {
          "model_module": "@jupyter-widgets/controls",
          "model_name": "ProgressStyleModel",
          "model_module_version": "1.5.0",
          "state": {
            "_model_module": "@jupyter-widgets/controls",
            "_model_module_version": "1.5.0",
            "_model_name": "ProgressStyleModel",
            "_view_count": null,
            "_view_module": "@jupyter-widgets/base",
            "_view_module_version": "1.2.0",
            "_view_name": "StyleView",
            "bar_color": null,
            "description_width": ""
          }
        },
        "4ff296d08d49416dbbae2a16dd440936": {
          "model_module": "@jupyter-widgets/base",
          "model_name": "LayoutModel",
          "model_module_version": "1.2.0",
          "state": {
            "_model_module": "@jupyter-widgets/base",
            "_model_module_version": "1.2.0",
            "_model_name": "LayoutModel",
            "_view_count": null,
            "_view_module": "@jupyter-widgets/base",
            "_view_module_version": "1.2.0",
            "_view_name": "LayoutView",
            "align_content": null,
            "align_items": null,
            "align_self": null,
            "border": null,
            "bottom": null,
            "display": null,
            "flex": null,
            "flex_flow": null,
            "grid_area": null,
            "grid_auto_columns": null,
            "grid_auto_flow": null,
            "grid_auto_rows": null,
            "grid_column": null,
            "grid_gap": null,
            "grid_row": null,
            "grid_template_areas": null,
            "grid_template_columns": null,
            "grid_template_rows": null,
            "height": null,
            "justify_content": null,
            "justify_items": null,
            "left": null,
            "margin": null,
            "max_height": null,
            "max_width": null,
            "min_height": null,
            "min_width": null,
            "object_fit": null,
            "object_position": null,
            "order": null,
            "overflow": null,
            "overflow_x": null,
            "overflow_y": null,
            "padding": null,
            "right": null,
            "top": null,
            "visibility": null,
            "width": null
          }
        },
        "ef72248d28584855a2e29427bf0c52be": {
          "model_module": "@jupyter-widgets/controls",
          "model_name": "DescriptionStyleModel",
          "model_module_version": "1.5.0",
          "state": {
            "_model_module": "@jupyter-widgets/controls",
            "_model_module_version": "1.5.0",
            "_model_name": "DescriptionStyleModel",
            "_view_count": null,
            "_view_module": "@jupyter-widgets/base",
            "_view_module_version": "1.2.0",
            "_view_name": "StyleView",
            "description_width": ""
          }
        },
        "e82fa9f882bf40798ff6e9d82a1c99bf": {
          "model_module": "@jupyter-widgets/controls",
          "model_name": "HBoxModel",
          "model_module_version": "1.5.0",
          "state": {
            "_dom_classes": [],
            "_model_module": "@jupyter-widgets/controls",
            "_model_module_version": "1.5.0",
            "_model_name": "HBoxModel",
            "_view_count": null,
            "_view_module": "@jupyter-widgets/controls",
            "_view_module_version": "1.5.0",
            "_view_name": "HBoxView",
            "box_style": "",
            "children": [
              "IPY_MODEL_7eccdecba17042d49ec4db6721ad8941",
              "IPY_MODEL_e57655bf9e034289b1254d18bc51ad91",
              "IPY_MODEL_c7aad7128c4249418c8ff33cd813fd75"
            ],
            "layout": "IPY_MODEL_32810942cb5c4bdf85ea50dd74795080"
          }
        },
        "7eccdecba17042d49ec4db6721ad8941": {
          "model_module": "@jupyter-widgets/controls",
          "model_name": "HTMLModel",
          "model_module_version": "1.5.0",
          "state": {
            "_dom_classes": [],
            "_model_module": "@jupyter-widgets/controls",
            "_model_module_version": "1.5.0",
            "_model_name": "HTMLModel",
            "_view_count": null,
            "_view_module": "@jupyter-widgets/controls",
            "_view_module_version": "1.5.0",
            "_view_name": "HTMLView",
            "description": "",
            "description_tooltip": null,
            "layout": "IPY_MODEL_2eee5a19505e4b26a253697b11dffd08",
            "placeholder": "​",
            "style": "IPY_MODEL_5041a93c22b64b7a9118d68de3b4429c",
            "value": "Downloading (…)cial_tokens_map.json: 100%"
          }
        },
        "e57655bf9e034289b1254d18bc51ad91": {
          "model_module": "@jupyter-widgets/controls",
          "model_name": "FloatProgressModel",
          "model_module_version": "1.5.0",
          "state": {
            "_dom_classes": [],
            "_model_module": "@jupyter-widgets/controls",
            "_model_module_version": "1.5.0",
            "_model_name": "FloatProgressModel",
            "_view_count": null,
            "_view_module": "@jupyter-widgets/controls",
            "_view_module_version": "1.5.0",
            "_view_name": "ProgressView",
            "bar_style": "success",
            "description": "",
            "description_tooltip": null,
            "layout": "IPY_MODEL_e2dde1b5344c4aefac234b2b25cd3e9a",
            "max": 112,
            "min": 0,
            "orientation": "horizontal",
            "style": "IPY_MODEL_1c62266976ed496e8bdada47deee3170",
            "value": 112
          }
        },
        "c7aad7128c4249418c8ff33cd813fd75": {
          "model_module": "@jupyter-widgets/controls",
          "model_name": "HTMLModel",
          "model_module_version": "1.5.0",
          "state": {
            "_dom_classes": [],
            "_model_module": "@jupyter-widgets/controls",
            "_model_module_version": "1.5.0",
            "_model_name": "HTMLModel",
            "_view_count": null,
            "_view_module": "@jupyter-widgets/controls",
            "_view_module_version": "1.5.0",
            "_view_name": "HTMLView",
            "description": "",
            "description_tooltip": null,
            "layout": "IPY_MODEL_4a60a312013d48be9a9e4cb58c788dbe",
            "placeholder": "​",
            "style": "IPY_MODEL_64dda527da43450fa9cab2ab247b60f8",
            "value": " 112/112 [00:00&lt;00:00, 5.66kB/s]"
          }
        },
        "32810942cb5c4bdf85ea50dd74795080": {
          "model_module": "@jupyter-widgets/base",
          "model_name": "LayoutModel",
          "model_module_version": "1.2.0",
          "state": {
            "_model_module": "@jupyter-widgets/base",
            "_model_module_version": "1.2.0",
            "_model_name": "LayoutModel",
            "_view_count": null,
            "_view_module": "@jupyter-widgets/base",
            "_view_module_version": "1.2.0",
            "_view_name": "LayoutView",
            "align_content": null,
            "align_items": null,
            "align_self": null,
            "border": null,
            "bottom": null,
            "display": null,
            "flex": null,
            "flex_flow": null,
            "grid_area": null,
            "grid_auto_columns": null,
            "grid_auto_flow": null,
            "grid_auto_rows": null,
            "grid_column": null,
            "grid_gap": null,
            "grid_row": null,
            "grid_template_areas": null,
            "grid_template_columns": null,
            "grid_template_rows": null,
            "height": null,
            "justify_content": null,
            "justify_items": null,
            "left": null,
            "margin": null,
            "max_height": null,
            "max_width": null,
            "min_height": null,
            "min_width": null,
            "object_fit": null,
            "object_position": null,
            "order": null,
            "overflow": null,
            "overflow_x": null,
            "overflow_y": null,
            "padding": null,
            "right": null,
            "top": null,
            "visibility": null,
            "width": null
          }
        },
        "2eee5a19505e4b26a253697b11dffd08": {
          "model_module": "@jupyter-widgets/base",
          "model_name": "LayoutModel",
          "model_module_version": "1.2.0",
          "state": {
            "_model_module": "@jupyter-widgets/base",
            "_model_module_version": "1.2.0",
            "_model_name": "LayoutModel",
            "_view_count": null,
            "_view_module": "@jupyter-widgets/base",
            "_view_module_version": "1.2.0",
            "_view_name": "LayoutView",
            "align_content": null,
            "align_items": null,
            "align_self": null,
            "border": null,
            "bottom": null,
            "display": null,
            "flex": null,
            "flex_flow": null,
            "grid_area": null,
            "grid_auto_columns": null,
            "grid_auto_flow": null,
            "grid_auto_rows": null,
            "grid_column": null,
            "grid_gap": null,
            "grid_row": null,
            "grid_template_areas": null,
            "grid_template_columns": null,
            "grid_template_rows": null,
            "height": null,
            "justify_content": null,
            "justify_items": null,
            "left": null,
            "margin": null,
            "max_height": null,
            "max_width": null,
            "min_height": null,
            "min_width": null,
            "object_fit": null,
            "object_position": null,
            "order": null,
            "overflow": null,
            "overflow_x": null,
            "overflow_y": null,
            "padding": null,
            "right": null,
            "top": null,
            "visibility": null,
            "width": null
          }
        },
        "5041a93c22b64b7a9118d68de3b4429c": {
          "model_module": "@jupyter-widgets/controls",
          "model_name": "DescriptionStyleModel",
          "model_module_version": "1.5.0",
          "state": {
            "_model_module": "@jupyter-widgets/controls",
            "_model_module_version": "1.5.0",
            "_model_name": "DescriptionStyleModel",
            "_view_count": null,
            "_view_module": "@jupyter-widgets/base",
            "_view_module_version": "1.2.0",
            "_view_name": "StyleView",
            "description_width": ""
          }
        },
        "e2dde1b5344c4aefac234b2b25cd3e9a": {
          "model_module": "@jupyter-widgets/base",
          "model_name": "LayoutModel",
          "model_module_version": "1.2.0",
          "state": {
            "_model_module": "@jupyter-widgets/base",
            "_model_module_version": "1.2.0",
            "_model_name": "LayoutModel",
            "_view_count": null,
            "_view_module": "@jupyter-widgets/base",
            "_view_module_version": "1.2.0",
            "_view_name": "LayoutView",
            "align_content": null,
            "align_items": null,
            "align_self": null,
            "border": null,
            "bottom": null,
            "display": null,
            "flex": null,
            "flex_flow": null,
            "grid_area": null,
            "grid_auto_columns": null,
            "grid_auto_flow": null,
            "grid_auto_rows": null,
            "grid_column": null,
            "grid_gap": null,
            "grid_row": null,
            "grid_template_areas": null,
            "grid_template_columns": null,
            "grid_template_rows": null,
            "height": null,
            "justify_content": null,
            "justify_items": null,
            "left": null,
            "margin": null,
            "max_height": null,
            "max_width": null,
            "min_height": null,
            "min_width": null,
            "object_fit": null,
            "object_position": null,
            "order": null,
            "overflow": null,
            "overflow_x": null,
            "overflow_y": null,
            "padding": null,
            "right": null,
            "top": null,
            "visibility": null,
            "width": null
          }
        },
        "1c62266976ed496e8bdada47deee3170": {
          "model_module": "@jupyter-widgets/controls",
          "model_name": "ProgressStyleModel",
          "model_module_version": "1.5.0",
          "state": {
            "_model_module": "@jupyter-widgets/controls",
            "_model_module_version": "1.5.0",
            "_model_name": "ProgressStyleModel",
            "_view_count": null,
            "_view_module": "@jupyter-widgets/base",
            "_view_module_version": "1.2.0",
            "_view_name": "StyleView",
            "bar_color": null,
            "description_width": ""
          }
        },
        "4a60a312013d48be9a9e4cb58c788dbe": {
          "model_module": "@jupyter-widgets/base",
          "model_name": "LayoutModel",
          "model_module_version": "1.2.0",
          "state": {
            "_model_module": "@jupyter-widgets/base",
            "_model_module_version": "1.2.0",
            "_model_name": "LayoutModel",
            "_view_count": null,
            "_view_module": "@jupyter-widgets/base",
            "_view_module_version": "1.2.0",
            "_view_name": "LayoutView",
            "align_content": null,
            "align_items": null,
            "align_self": null,
            "border": null,
            "bottom": null,
            "display": null,
            "flex": null,
            "flex_flow": null,
            "grid_area": null,
            "grid_auto_columns": null,
            "grid_auto_flow": null,
            "grid_auto_rows": null,
            "grid_column": null,
            "grid_gap": null,
            "grid_row": null,
            "grid_template_areas": null,
            "grid_template_columns": null,
            "grid_template_rows": null,
            "height": null,
            "justify_content": null,
            "justify_items": null,
            "left": null,
            "margin": null,
            "max_height": null,
            "max_width": null,
            "min_height": null,
            "min_width": null,
            "object_fit": null,
            "object_position": null,
            "order": null,
            "overflow": null,
            "overflow_x": null,
            "overflow_y": null,
            "padding": null,
            "right": null,
            "top": null,
            "visibility": null,
            "width": null
          }
        },
        "64dda527da43450fa9cab2ab247b60f8": {
          "model_module": "@jupyter-widgets/controls",
          "model_name": "DescriptionStyleModel",
          "model_module_version": "1.5.0",
          "state": {
            "_model_module": "@jupyter-widgets/controls",
            "_model_module_version": "1.5.0",
            "_model_name": "DescriptionStyleModel",
            "_view_count": null,
            "_view_module": "@jupyter-widgets/base",
            "_view_module_version": "1.2.0",
            "_view_name": "StyleView",
            "description_width": ""
          }
        },
        "64aa2ff040ec48949d1dbd881ff40a25": {
          "model_module": "@jupyter-widgets/controls",
          "model_name": "HBoxModel",
          "model_module_version": "1.5.0",
          "state": {
            "_dom_classes": [],
            "_model_module": "@jupyter-widgets/controls",
            "_model_module_version": "1.5.0",
            "_model_name": "HBoxModel",
            "_view_count": null,
            "_view_module": "@jupyter-widgets/controls",
            "_view_module_version": "1.5.0",
            "_view_name": "HBoxView",
            "box_style": "",
            "children": [
              "IPY_MODEL_b269b5797a0a4726b2bed3cac55a214c",
              "IPY_MODEL_c46049b9434c41b08dff7d545d38a7c9",
              "IPY_MODEL_37384cee3176455088200d237b1516ad"
            ],
            "layout": "IPY_MODEL_c06e2bcfdaf246a78e19891e596a0b0f"
          }
        },
        "b269b5797a0a4726b2bed3cac55a214c": {
          "model_module": "@jupyter-widgets/controls",
          "model_name": "HTMLModel",
          "model_module_version": "1.5.0",
          "state": {
            "_dom_classes": [],
            "_model_module": "@jupyter-widgets/controls",
            "_model_module_version": "1.5.0",
            "_model_name": "HTMLModel",
            "_view_count": null,
            "_view_module": "@jupyter-widgets/controls",
            "_view_module_version": "1.5.0",
            "_view_name": "HTMLView",
            "description": "",
            "description_tooltip": null,
            "layout": "IPY_MODEL_2b0fe4cc34bf455fb6cb1ecbabebc124",
            "placeholder": "​",
            "style": "IPY_MODEL_c93c8509a854456d832e52c86105cc45",
            "value": "Downloading (…)okenizer_config.json: 100%"
          }
        },
        "c46049b9434c41b08dff7d545d38a7c9": {
          "model_module": "@jupyter-widgets/controls",
          "model_name": "FloatProgressModel",
          "model_module_version": "1.5.0",
          "state": {
            "_dom_classes": [],
            "_model_module": "@jupyter-widgets/controls",
            "_model_module_version": "1.5.0",
            "_model_name": "FloatProgressModel",
            "_view_count": null,
            "_view_module": "@jupyter-widgets/controls",
            "_view_module_version": "1.5.0",
            "_view_name": "ProgressView",
            "bar_style": "success",
            "description": "",
            "description_tooltip": null,
            "layout": "IPY_MODEL_073eb1c6c0264918a5c4d3cceff8757d",
            "max": 2,
            "min": 0,
            "orientation": "horizontal",
            "style": "IPY_MODEL_989a95bf809e472384c713a5eb97ddc4",
            "value": 2
          }
        },
        "37384cee3176455088200d237b1516ad": {
          "model_module": "@jupyter-widgets/controls",
          "model_name": "HTMLModel",
          "model_module_version": "1.5.0",
          "state": {
            "_dom_classes": [],
            "_model_module": "@jupyter-widgets/controls",
            "_model_module_version": "1.5.0",
            "_model_name": "HTMLModel",
            "_view_count": null,
            "_view_module": "@jupyter-widgets/controls",
            "_view_module_version": "1.5.0",
            "_view_name": "HTMLView",
            "description": "",
            "description_tooltip": null,
            "layout": "IPY_MODEL_47ce329f0ba4446085caee87eaaf4ebf",
            "placeholder": "​",
            "style": "IPY_MODEL_2ff2dde1ea68454895e51d45bcdfd020",
            "value": " 2.00/2.00 [00:00&lt;00:00, 120B/s]"
          }
        },
        "c06e2bcfdaf246a78e19891e596a0b0f": {
          "model_module": "@jupyter-widgets/base",
          "model_name": "LayoutModel",
          "model_module_version": "1.2.0",
          "state": {
            "_model_module": "@jupyter-widgets/base",
            "_model_module_version": "1.2.0",
            "_model_name": "LayoutModel",
            "_view_count": null,
            "_view_module": "@jupyter-widgets/base",
            "_view_module_version": "1.2.0",
            "_view_name": "LayoutView",
            "align_content": null,
            "align_items": null,
            "align_self": null,
            "border": null,
            "bottom": null,
            "display": null,
            "flex": null,
            "flex_flow": null,
            "grid_area": null,
            "grid_auto_columns": null,
            "grid_auto_flow": null,
            "grid_auto_rows": null,
            "grid_column": null,
            "grid_gap": null,
            "grid_row": null,
            "grid_template_areas": null,
            "grid_template_columns": null,
            "grid_template_rows": null,
            "height": null,
            "justify_content": null,
            "justify_items": null,
            "left": null,
            "margin": null,
            "max_height": null,
            "max_width": null,
            "min_height": null,
            "min_width": null,
            "object_fit": null,
            "object_position": null,
            "order": null,
            "overflow": null,
            "overflow_x": null,
            "overflow_y": null,
            "padding": null,
            "right": null,
            "top": null,
            "visibility": null,
            "width": null
          }
        },
        "2b0fe4cc34bf455fb6cb1ecbabebc124": {
          "model_module": "@jupyter-widgets/base",
          "model_name": "LayoutModel",
          "model_module_version": "1.2.0",
          "state": {
            "_model_module": "@jupyter-widgets/base",
            "_model_module_version": "1.2.0",
            "_model_name": "LayoutModel",
            "_view_count": null,
            "_view_module": "@jupyter-widgets/base",
            "_view_module_version": "1.2.0",
            "_view_name": "LayoutView",
            "align_content": null,
            "align_items": null,
            "align_self": null,
            "border": null,
            "bottom": null,
            "display": null,
            "flex": null,
            "flex_flow": null,
            "grid_area": null,
            "grid_auto_columns": null,
            "grid_auto_flow": null,
            "grid_auto_rows": null,
            "grid_column": null,
            "grid_gap": null,
            "grid_row": null,
            "grid_template_areas": null,
            "grid_template_columns": null,
            "grid_template_rows": null,
            "height": null,
            "justify_content": null,
            "justify_items": null,
            "left": null,
            "margin": null,
            "max_height": null,
            "max_width": null,
            "min_height": null,
            "min_width": null,
            "object_fit": null,
            "object_position": null,
            "order": null,
            "overflow": null,
            "overflow_x": null,
            "overflow_y": null,
            "padding": null,
            "right": null,
            "top": null,
            "visibility": null,
            "width": null
          }
        },
        "c93c8509a854456d832e52c86105cc45": {
          "model_module": "@jupyter-widgets/controls",
          "model_name": "DescriptionStyleModel",
          "model_module_version": "1.5.0",
          "state": {
            "_model_module": "@jupyter-widgets/controls",
            "_model_module_version": "1.5.0",
            "_model_name": "DescriptionStyleModel",
            "_view_count": null,
            "_view_module": "@jupyter-widgets/base",
            "_view_module_version": "1.2.0",
            "_view_name": "StyleView",
            "description_width": ""
          }
        },
        "073eb1c6c0264918a5c4d3cceff8757d": {
          "model_module": "@jupyter-widgets/base",
          "model_name": "LayoutModel",
          "model_module_version": "1.2.0",
          "state": {
            "_model_module": "@jupyter-widgets/base",
            "_model_module_version": "1.2.0",
            "_model_name": "LayoutModel",
            "_view_count": null,
            "_view_module": "@jupyter-widgets/base",
            "_view_module_version": "1.2.0",
            "_view_name": "LayoutView",
            "align_content": null,
            "align_items": null,
            "align_self": null,
            "border": null,
            "bottom": null,
            "display": null,
            "flex": null,
            "flex_flow": null,
            "grid_area": null,
            "grid_auto_columns": null,
            "grid_auto_flow": null,
            "grid_auto_rows": null,
            "grid_column": null,
            "grid_gap": null,
            "grid_row": null,
            "grid_template_areas": null,
            "grid_template_columns": null,
            "grid_template_rows": null,
            "height": null,
            "justify_content": null,
            "justify_items": null,
            "left": null,
            "margin": null,
            "max_height": null,
            "max_width": null,
            "min_height": null,
            "min_width": null,
            "object_fit": null,
            "object_position": null,
            "order": null,
            "overflow": null,
            "overflow_x": null,
            "overflow_y": null,
            "padding": null,
            "right": null,
            "top": null,
            "visibility": null,
            "width": null
          }
        },
        "989a95bf809e472384c713a5eb97ddc4": {
          "model_module": "@jupyter-widgets/controls",
          "model_name": "ProgressStyleModel",
          "model_module_version": "1.5.0",
          "state": {
            "_model_module": "@jupyter-widgets/controls",
            "_model_module_version": "1.5.0",
            "_model_name": "ProgressStyleModel",
            "_view_count": null,
            "_view_module": "@jupyter-widgets/base",
            "_view_module_version": "1.2.0",
            "_view_name": "StyleView",
            "bar_color": null,
            "description_width": ""
          }
        },
        "47ce329f0ba4446085caee87eaaf4ebf": {
          "model_module": "@jupyter-widgets/base",
          "model_name": "LayoutModel",
          "model_module_version": "1.2.0",
          "state": {
            "_model_module": "@jupyter-widgets/base",
            "_model_module_version": "1.2.0",
            "_model_name": "LayoutModel",
            "_view_count": null,
            "_view_module": "@jupyter-widgets/base",
            "_view_module_version": "1.2.0",
            "_view_name": "LayoutView",
            "align_content": null,
            "align_items": null,
            "align_self": null,
            "border": null,
            "bottom": null,
            "display": null,
            "flex": null,
            "flex_flow": null,
            "grid_area": null,
            "grid_auto_columns": null,
            "grid_auto_flow": null,
            "grid_auto_rows": null,
            "grid_column": null,
            "grid_gap": null,
            "grid_row": null,
            "grid_template_areas": null,
            "grid_template_columns": null,
            "grid_template_rows": null,
            "height": null,
            "justify_content": null,
            "justify_items": null,
            "left": null,
            "margin": null,
            "max_height": null,
            "max_width": null,
            "min_height": null,
            "min_width": null,
            "object_fit": null,
            "object_position": null,
            "order": null,
            "overflow": null,
            "overflow_x": null,
            "overflow_y": null,
            "padding": null,
            "right": null,
            "top": null,
            "visibility": null,
            "width": null
          }
        },
        "2ff2dde1ea68454895e51d45bcdfd020": {
          "model_module": "@jupyter-widgets/controls",
          "model_name": "DescriptionStyleModel",
          "model_module_version": "1.5.0",
          "state": {
            "_model_module": "@jupyter-widgets/controls",
            "_model_module_version": "1.5.0",
            "_model_name": "DescriptionStyleModel",
            "_view_count": null,
            "_view_module": "@jupyter-widgets/base",
            "_view_module_version": "1.2.0",
            "_view_name": "StyleView",
            "description_width": ""
          }
        },
        "977dc0b60b334c6b92579c97eb50ca3f": {
          "model_module": "@jupyter-widgets/controls",
          "model_name": "HBoxModel",
          "model_module_version": "1.5.0",
          "state": {
            "_dom_classes": [],
            "_model_module": "@jupyter-widgets/controls",
            "_model_module_version": "1.5.0",
            "_model_name": "HBoxModel",
            "_view_count": null,
            "_view_module": "@jupyter-widgets/controls",
            "_view_module_version": "1.5.0",
            "_view_name": "HBoxView",
            "box_style": "",
            "children": [
              "IPY_MODEL_3b5af4f087f44e93a1577554f3937382",
              "IPY_MODEL_c4e7f7e8da1a4f389c2d97a5697c70be",
              "IPY_MODEL_54e2b091daf54b10a09cf60dc66f7bf9"
            ],
            "layout": "IPY_MODEL_325dd7f087a94264a66684ad93710d33"
          }
        },
        "3b5af4f087f44e93a1577554f3937382": {
          "model_module": "@jupyter-widgets/controls",
          "model_name": "HTMLModel",
          "model_module_version": "1.5.0",
          "state": {
            "_dom_classes": [],
            "_model_module": "@jupyter-widgets/controls",
            "_model_module_version": "1.5.0",
            "_model_name": "HTMLModel",
            "_view_count": null,
            "_view_module": "@jupyter-widgets/controls",
            "_view_module_version": "1.5.0",
            "_view_name": "HTMLView",
            "description": "",
            "description_tooltip": null,
            "layout": "IPY_MODEL_049a4e1a5ee542c4afb5853f41239f04",
            "placeholder": "​",
            "style": "IPY_MODEL_b84294618ef446baadbba9b1e28ba25e",
            "value": "Downloading (…)lve/main/config.json: 100%"
          }
        },
        "c4e7f7e8da1a4f389c2d97a5697c70be": {
          "model_module": "@jupyter-widgets/controls",
          "model_name": "FloatProgressModel",
          "model_module_version": "1.5.0",
          "state": {
            "_dom_classes": [],
            "_model_module": "@jupyter-widgets/controls",
            "_model_module_version": "1.5.0",
            "_model_name": "FloatProgressModel",
            "_view_count": null,
            "_view_module": "@jupyter-widgets/controls",
            "_view_module_version": "1.5.0",
            "_view_name": "ProgressView",
            "bar_style": "success",
            "description": "",
            "description_tooltip": null,
            "layout": "IPY_MODEL_df808741179b4ed3bf93e6f297d3077e",
            "max": 1534,
            "min": 0,
            "orientation": "horizontal",
            "style": "IPY_MODEL_0777597b64de4899be968aece8dbc314",
            "value": 1534
          }
        },
        "54e2b091daf54b10a09cf60dc66f7bf9": {
          "model_module": "@jupyter-widgets/controls",
          "model_name": "HTMLModel",
          "model_module_version": "1.5.0",
          "state": {
            "_dom_classes": [],
            "_model_module": "@jupyter-widgets/controls",
            "_model_module_version": "1.5.0",
            "_model_name": "HTMLModel",
            "_view_count": null,
            "_view_module": "@jupyter-widgets/controls",
            "_view_module_version": "1.5.0",
            "_view_name": "HTMLView",
            "description": "",
            "description_tooltip": null,
            "layout": "IPY_MODEL_eb2c37ff0e314fed86306ae23617d1da",
            "placeholder": "​",
            "style": "IPY_MODEL_e465069dc67b41c1b0864c60e95b381f",
            "value": " 1.53k/1.53k [00:00&lt;00:00, 102kB/s]"
          }
        },
        "325dd7f087a94264a66684ad93710d33": {
          "model_module": "@jupyter-widgets/base",
          "model_name": "LayoutModel",
          "model_module_version": "1.2.0",
          "state": {
            "_model_module": "@jupyter-widgets/base",
            "_model_module_version": "1.2.0",
            "_model_name": "LayoutModel",
            "_view_count": null,
            "_view_module": "@jupyter-widgets/base",
            "_view_module_version": "1.2.0",
            "_view_name": "LayoutView",
            "align_content": null,
            "align_items": null,
            "align_self": null,
            "border": null,
            "bottom": null,
            "display": null,
            "flex": null,
            "flex_flow": null,
            "grid_area": null,
            "grid_auto_columns": null,
            "grid_auto_flow": null,
            "grid_auto_rows": null,
            "grid_column": null,
            "grid_gap": null,
            "grid_row": null,
            "grid_template_areas": null,
            "grid_template_columns": null,
            "grid_template_rows": null,
            "height": null,
            "justify_content": null,
            "justify_items": null,
            "left": null,
            "margin": null,
            "max_height": null,
            "max_width": null,
            "min_height": null,
            "min_width": null,
            "object_fit": null,
            "object_position": null,
            "order": null,
            "overflow": null,
            "overflow_x": null,
            "overflow_y": null,
            "padding": null,
            "right": null,
            "top": null,
            "visibility": null,
            "width": null
          }
        },
        "049a4e1a5ee542c4afb5853f41239f04": {
          "model_module": "@jupyter-widgets/base",
          "model_name": "LayoutModel",
          "model_module_version": "1.2.0",
          "state": {
            "_model_module": "@jupyter-widgets/base",
            "_model_module_version": "1.2.0",
            "_model_name": "LayoutModel",
            "_view_count": null,
            "_view_module": "@jupyter-widgets/base",
            "_view_module_version": "1.2.0",
            "_view_name": "LayoutView",
            "align_content": null,
            "align_items": null,
            "align_self": null,
            "border": null,
            "bottom": null,
            "display": null,
            "flex": null,
            "flex_flow": null,
            "grid_area": null,
            "grid_auto_columns": null,
            "grid_auto_flow": null,
            "grid_auto_rows": null,
            "grid_column": null,
            "grid_gap": null,
            "grid_row": null,
            "grid_template_areas": null,
            "grid_template_columns": null,
            "grid_template_rows": null,
            "height": null,
            "justify_content": null,
            "justify_items": null,
            "left": null,
            "margin": null,
            "max_height": null,
            "max_width": null,
            "min_height": null,
            "min_width": null,
            "object_fit": null,
            "object_position": null,
            "order": null,
            "overflow": null,
            "overflow_x": null,
            "overflow_y": null,
            "padding": null,
            "right": null,
            "top": null,
            "visibility": null,
            "width": null
          }
        },
        "b84294618ef446baadbba9b1e28ba25e": {
          "model_module": "@jupyter-widgets/controls",
          "model_name": "DescriptionStyleModel",
          "model_module_version": "1.5.0",
          "state": {
            "_model_module": "@jupyter-widgets/controls",
            "_model_module_version": "1.5.0",
            "_model_name": "DescriptionStyleModel",
            "_view_count": null,
            "_view_module": "@jupyter-widgets/base",
            "_view_module_version": "1.2.0",
            "_view_name": "StyleView",
            "description_width": ""
          }
        },
        "df808741179b4ed3bf93e6f297d3077e": {
          "model_module": "@jupyter-widgets/base",
          "model_name": "LayoutModel",
          "model_module_version": "1.2.0",
          "state": {
            "_model_module": "@jupyter-widgets/base",
            "_model_module_version": "1.2.0",
            "_model_name": "LayoutModel",
            "_view_count": null,
            "_view_module": "@jupyter-widgets/base",
            "_view_module_version": "1.2.0",
            "_view_name": "LayoutView",
            "align_content": null,
            "align_items": null,
            "align_self": null,
            "border": null,
            "bottom": null,
            "display": null,
            "flex": null,
            "flex_flow": null,
            "grid_area": null,
            "grid_auto_columns": null,
            "grid_auto_flow": null,
            "grid_auto_rows": null,
            "grid_column": null,
            "grid_gap": null,
            "grid_row": null,
            "grid_template_areas": null,
            "grid_template_columns": null,
            "grid_template_rows": null,
            "height": null,
            "justify_content": null,
            "justify_items": null,
            "left": null,
            "margin": null,
            "max_height": null,
            "max_width": null,
            "min_height": null,
            "min_width": null,
            "object_fit": null,
            "object_position": null,
            "order": null,
            "overflow": null,
            "overflow_x": null,
            "overflow_y": null,
            "padding": null,
            "right": null,
            "top": null,
            "visibility": null,
            "width": null
          }
        },
        "0777597b64de4899be968aece8dbc314": {
          "model_module": "@jupyter-widgets/controls",
          "model_name": "ProgressStyleModel",
          "model_module_version": "1.5.0",
          "state": {
            "_model_module": "@jupyter-widgets/controls",
            "_model_module_version": "1.5.0",
            "_model_name": "ProgressStyleModel",
            "_view_count": null,
            "_view_module": "@jupyter-widgets/base",
            "_view_module_version": "1.2.0",
            "_view_name": "StyleView",
            "bar_color": null,
            "description_width": ""
          }
        },
        "eb2c37ff0e314fed86306ae23617d1da": {
          "model_module": "@jupyter-widgets/base",
          "model_name": "LayoutModel",
          "model_module_version": "1.2.0",
          "state": {
            "_model_module": "@jupyter-widgets/base",
            "_model_module_version": "1.2.0",
            "_model_name": "LayoutModel",
            "_view_count": null,
            "_view_module": "@jupyter-widgets/base",
            "_view_module_version": "1.2.0",
            "_view_name": "LayoutView",
            "align_content": null,
            "align_items": null,
            "align_self": null,
            "border": null,
            "bottom": null,
            "display": null,
            "flex": null,
            "flex_flow": null,
            "grid_area": null,
            "grid_auto_columns": null,
            "grid_auto_flow": null,
            "grid_auto_rows": null,
            "grid_column": null,
            "grid_gap": null,
            "grid_row": null,
            "grid_template_areas": null,
            "grid_template_columns": null,
            "grid_template_rows": null,
            "height": null,
            "justify_content": null,
            "justify_items": null,
            "left": null,
            "margin": null,
            "max_height": null,
            "max_width": null,
            "min_height": null,
            "min_width": null,
            "object_fit": null,
            "object_position": null,
            "order": null,
            "overflow": null,
            "overflow_x": null,
            "overflow_y": null,
            "padding": null,
            "right": null,
            "top": null,
            "visibility": null,
            "width": null
          }
        },
        "e465069dc67b41c1b0864c60e95b381f": {
          "model_module": "@jupyter-widgets/controls",
          "model_name": "DescriptionStyleModel",
          "model_module_version": "1.5.0",
          "state": {
            "_model_module": "@jupyter-widgets/controls",
            "_model_module_version": "1.5.0",
            "_model_name": "DescriptionStyleModel",
            "_view_count": null,
            "_view_module": "@jupyter-widgets/base",
            "_view_module_version": "1.2.0",
            "_view_name": "StyleView",
            "description_width": ""
          }
        },
        "2d506b8cfef84240a1f5170e0a9068fe": {
          "model_module": "@jupyter-widgets/controls",
          "model_name": "HBoxModel",
          "model_module_version": "1.5.0",
          "state": {
            "_dom_classes": [],
            "_model_module": "@jupyter-widgets/controls",
            "_model_module_version": "1.5.0",
            "_model_name": "HBoxModel",
            "_view_count": null,
            "_view_module": "@jupyter-widgets/controls",
            "_view_module_version": "1.5.0",
            "_view_name": "HBoxView",
            "box_style": "",
            "children": [
              "IPY_MODEL_484d696d996447558cd1190dc71770cd",
              "IPY_MODEL_8fb3bcc93c3347d7bf575b4f598641fc",
              "IPY_MODEL_d2af5eef171a4ae1939c7f2a6e6e5459"
            ],
            "layout": "IPY_MODEL_6141fe96bc3e48098f18e96ef59fce4b"
          }
        },
        "484d696d996447558cd1190dc71770cd": {
          "model_module": "@jupyter-widgets/controls",
          "model_name": "HTMLModel",
          "model_module_version": "1.5.0",
          "state": {
            "_dom_classes": [],
            "_model_module": "@jupyter-widgets/controls",
            "_model_module_version": "1.5.0",
            "_model_name": "HTMLModel",
            "_view_count": null,
            "_view_module": "@jupyter-widgets/controls",
            "_view_module_version": "1.5.0",
            "_view_name": "HTMLView",
            "description": "",
            "description_tooltip": null,
            "layout": "IPY_MODEL_512094da0e074f33a024e5eec3b8e059",
            "placeholder": "​",
            "style": "IPY_MODEL_7ea22bfba0404579bb8894ea794d785d",
            "value": "Downloading pytorch_model.bin: 100%"
          }
        },
        "8fb3bcc93c3347d7bf575b4f598641fc": {
          "model_module": "@jupyter-widgets/controls",
          "model_name": "FloatProgressModel",
          "model_module_version": "1.5.0",
          "state": {
            "_dom_classes": [],
            "_model_module": "@jupyter-widgets/controls",
            "_model_module_version": "1.5.0",
            "_model_name": "FloatProgressModel",
            "_view_count": null,
            "_view_module": "@jupyter-widgets/controls",
            "_view_module_version": "1.5.0",
            "_view_name": "ProgressView",
            "bar_style": "success",
            "description": "",
            "description_tooltip": null,
            "layout": "IPY_MODEL_a3556711e1df4f30a9561f2c066b38a9",
            "max": 497810400,
            "min": 0,
            "orientation": "horizontal",
            "style": "IPY_MODEL_715c3a47410b4e4e807274a232fa362c",
            "value": 497810400
          }
        },
        "d2af5eef171a4ae1939c7f2a6e6e5459": {
          "model_module": "@jupyter-widgets/controls",
          "model_name": "HTMLModel",
          "model_module_version": "1.5.0",
          "state": {
            "_dom_classes": [],
            "_model_module": "@jupyter-widgets/controls",
            "_model_module_version": "1.5.0",
            "_model_name": "HTMLModel",
            "_view_count": null,
            "_view_module": "@jupyter-widgets/controls",
            "_view_module_version": "1.5.0",
            "_view_name": "HTMLView",
            "description": "",
            "description_tooltip": null,
            "layout": "IPY_MODEL_f164a0de759d40c3a6273531c1c292cf",
            "placeholder": "​",
            "style": "IPY_MODEL_725be5658bbe4429b476d8feb802a121",
            "value": " 498M/498M [00:03&lt;00:00, 205MB/s]"
          }
        },
        "6141fe96bc3e48098f18e96ef59fce4b": {
          "model_module": "@jupyter-widgets/base",
          "model_name": "LayoutModel",
          "model_module_version": "1.2.0",
          "state": {
            "_model_module": "@jupyter-widgets/base",
            "_model_module_version": "1.2.0",
            "_model_name": "LayoutModel",
            "_view_count": null,
            "_view_module": "@jupyter-widgets/base",
            "_view_module_version": "1.2.0",
            "_view_name": "LayoutView",
            "align_content": null,
            "align_items": null,
            "align_self": null,
            "border": null,
            "bottom": null,
            "display": null,
            "flex": null,
            "flex_flow": null,
            "grid_area": null,
            "grid_auto_columns": null,
            "grid_auto_flow": null,
            "grid_auto_rows": null,
            "grid_column": null,
            "grid_gap": null,
            "grid_row": null,
            "grid_template_areas": null,
            "grid_template_columns": null,
            "grid_template_rows": null,
            "height": null,
            "justify_content": null,
            "justify_items": null,
            "left": null,
            "margin": null,
            "max_height": null,
            "max_width": null,
            "min_height": null,
            "min_width": null,
            "object_fit": null,
            "object_position": null,
            "order": null,
            "overflow": null,
            "overflow_x": null,
            "overflow_y": null,
            "padding": null,
            "right": null,
            "top": null,
            "visibility": null,
            "width": null
          }
        },
        "512094da0e074f33a024e5eec3b8e059": {
          "model_module": "@jupyter-widgets/base",
          "model_name": "LayoutModel",
          "model_module_version": "1.2.0",
          "state": {
            "_model_module": "@jupyter-widgets/base",
            "_model_module_version": "1.2.0",
            "_model_name": "LayoutModel",
            "_view_count": null,
            "_view_module": "@jupyter-widgets/base",
            "_view_module_version": "1.2.0",
            "_view_name": "LayoutView",
            "align_content": null,
            "align_items": null,
            "align_self": null,
            "border": null,
            "bottom": null,
            "display": null,
            "flex": null,
            "flex_flow": null,
            "grid_area": null,
            "grid_auto_columns": null,
            "grid_auto_flow": null,
            "grid_auto_rows": null,
            "grid_column": null,
            "grid_gap": null,
            "grid_row": null,
            "grid_template_areas": null,
            "grid_template_columns": null,
            "grid_template_rows": null,
            "height": null,
            "justify_content": null,
            "justify_items": null,
            "left": null,
            "margin": null,
            "max_height": null,
            "max_width": null,
            "min_height": null,
            "min_width": null,
            "object_fit": null,
            "object_position": null,
            "order": null,
            "overflow": null,
            "overflow_x": null,
            "overflow_y": null,
            "padding": null,
            "right": null,
            "top": null,
            "visibility": null,
            "width": null
          }
        },
        "7ea22bfba0404579bb8894ea794d785d": {
          "model_module": "@jupyter-widgets/controls",
          "model_name": "DescriptionStyleModel",
          "model_module_version": "1.5.0",
          "state": {
            "_model_module": "@jupyter-widgets/controls",
            "_model_module_version": "1.5.0",
            "_model_name": "DescriptionStyleModel",
            "_view_count": null,
            "_view_module": "@jupyter-widgets/base",
            "_view_module_version": "1.2.0",
            "_view_name": "StyleView",
            "description_width": ""
          }
        },
        "a3556711e1df4f30a9561f2c066b38a9": {
          "model_module": "@jupyter-widgets/base",
          "model_name": "LayoutModel",
          "model_module_version": "1.2.0",
          "state": {
            "_model_module": "@jupyter-widgets/base",
            "_model_module_version": "1.2.0",
            "_model_name": "LayoutModel",
            "_view_count": null,
            "_view_module": "@jupyter-widgets/base",
            "_view_module_version": "1.2.0",
            "_view_name": "LayoutView",
            "align_content": null,
            "align_items": null,
            "align_self": null,
            "border": null,
            "bottom": null,
            "display": null,
            "flex": null,
            "flex_flow": null,
            "grid_area": null,
            "grid_auto_columns": null,
            "grid_auto_flow": null,
            "grid_auto_rows": null,
            "grid_column": null,
            "grid_gap": null,
            "grid_row": null,
            "grid_template_areas": null,
            "grid_template_columns": null,
            "grid_template_rows": null,
            "height": null,
            "justify_content": null,
            "justify_items": null,
            "left": null,
            "margin": null,
            "max_height": null,
            "max_width": null,
            "min_height": null,
            "min_width": null,
            "object_fit": null,
            "object_position": null,
            "order": null,
            "overflow": null,
            "overflow_x": null,
            "overflow_y": null,
            "padding": null,
            "right": null,
            "top": null,
            "visibility": null,
            "width": null
          }
        },
        "715c3a47410b4e4e807274a232fa362c": {
          "model_module": "@jupyter-widgets/controls",
          "model_name": "ProgressStyleModel",
          "model_module_version": "1.5.0",
          "state": {
            "_model_module": "@jupyter-widgets/controls",
            "_model_module_version": "1.5.0",
            "_model_name": "ProgressStyleModel",
            "_view_count": null,
            "_view_module": "@jupyter-widgets/base",
            "_view_module_version": "1.2.0",
            "_view_name": "StyleView",
            "bar_color": null,
            "description_width": ""
          }
        },
        "f164a0de759d40c3a6273531c1c292cf": {
          "model_module": "@jupyter-widgets/base",
          "model_name": "LayoutModel",
          "model_module_version": "1.2.0",
          "state": {
            "_model_module": "@jupyter-widgets/base",
            "_model_module_version": "1.2.0",
            "_model_name": "LayoutModel",
            "_view_count": null,
            "_view_module": "@jupyter-widgets/base",
            "_view_module_version": "1.2.0",
            "_view_name": "LayoutView",
            "align_content": null,
            "align_items": null,
            "align_self": null,
            "border": null,
            "bottom": null,
            "display": null,
            "flex": null,
            "flex_flow": null,
            "grid_area": null,
            "grid_auto_columns": null,
            "grid_auto_flow": null,
            "grid_auto_rows": null,
            "grid_column": null,
            "grid_gap": null,
            "grid_row": null,
            "grid_template_areas": null,
            "grid_template_columns": null,
            "grid_template_rows": null,
            "height": null,
            "justify_content": null,
            "justify_items": null,
            "left": null,
            "margin": null,
            "max_height": null,
            "max_width": null,
            "min_height": null,
            "min_width": null,
            "object_fit": null,
            "object_position": null,
            "order": null,
            "overflow": null,
            "overflow_x": null,
            "overflow_y": null,
            "padding": null,
            "right": null,
            "top": null,
            "visibility": null,
            "width": null
          }
        },
        "725be5658bbe4429b476d8feb802a121": {
          "model_module": "@jupyter-widgets/controls",
          "model_name": "DescriptionStyleModel",
          "model_module_version": "1.5.0",
          "state": {
            "_model_module": "@jupyter-widgets/controls",
            "_model_module_version": "1.5.0",
            "_model_name": "DescriptionStyleModel",
            "_view_count": null,
            "_view_module": "@jupyter-widgets/base",
            "_view_module_version": "1.2.0",
            "_view_name": "StyleView",
            "description_width": ""
          }
        }
      }
    }
  },
  "nbformat": 4,
  "nbformat_minor": 0
}
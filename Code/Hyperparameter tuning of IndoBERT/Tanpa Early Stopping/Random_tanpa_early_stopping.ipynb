{
  "cells": [
    {
      "cell_type": "markdown",
      "metadata": {
        "id": "view-in-github"
      },
      "source": [
        "<a href=\"https://colab.research.google.com/github/garynico/IndoBERT-Hoax/blob/main/IndoBERT_Hoax_News_Detection.ipynb\" target=\"_parent\"><img src=\"https://colab.research.google.com/assets/colab-badge.svg\" alt=\"Open In Colab\"/></a>"
      ]
    },
    {
      "cell_type": "markdown",
      "metadata": {
        "id": "MLrHTVMSTxbt"
      },
      "source": [
        "# IndoBERT for Bahasa Indonesia Hoax News Detection"
      ]
    },
    {
      "cell_type": "markdown",
      "metadata": {
        "id": "LATDuyAVYEsw"
      },
      "source": [
        "### Import library"
      ]
    },
    {
      "cell_type": "code",
      "execution_count": 1,
      "metadata": {
        "colab": {
          "base_uri": "https://localhost:8080/"
        },
        "id": "IfNKumAzxkFn",
        "outputId": "ad407b7c-555f-4445-f6e7-7a057b4fc84e"
      },
      "outputs": [
        {
          "output_type": "stream",
          "name": "stdout",
          "text": [
            "Mounted at /content/drive\n"
          ]
        }
      ],
      "source": [
        "# Drive\n",
        "from google.colab import files\n",
        "from google.colab import drive\n",
        "\n",
        "drive.mount('/content/drive', force_remount=True)"
      ]
    },
    {
      "cell_type": "code",
      "execution_count": 2,
      "metadata": {
        "id": "PohTXbqMicdb"
      },
      "outputs": [],
      "source": [
        "source_folder = '/content/drive/MyDrive/TASI/RandomSearch/DataImbalance'\n",
        "destination_folder = '/content/drive/MyDrive/TASI/RandomSearch/ModelImbalance'"
      ]
    },
    {
      "cell_type": "code",
      "execution_count": 3,
      "metadata": {
        "colab": {
          "base_uri": "https://localhost:8080/"
        },
        "id": "XYRz41w8x28A",
        "outputId": "097707e4-10d5-4aa0-ef85-c519fbe64861"
      },
      "outputs": [
        {
          "output_type": "stream",
          "name": "stdout",
          "text": [
            "/content/drive/MyDrive/TASI/RandomSearch/DataImbalance\n"
          ]
        }
      ],
      "source": [
        "%cd //content/drive/MyDrive/TASI/RandomSearch/DataImbalance"
      ]
    },
    {
      "cell_type": "code",
      "execution_count": 4,
      "metadata": {
        "colab": {
          "base_uri": "https://localhost:8080/"
        },
        "id": "M959vrSV0iwp",
        "outputId": "e2eaccce-8a13-4de5-95bb-3d56932099f1"
      },
      "outputs": [
        {
          "output_type": "stream",
          "name": "stdout",
          "text": [
            "Looking in indexes: https://pypi.org/simple, https://us-python.pkg.dev/colab-wheels/public/simple/\n",
            "Collecting transformers\n",
            "  Downloading transformers-4.30.2-py3-none-any.whl (7.2 MB)\n",
            "\u001b[2K     \u001b[90m━━━━━━━━━━━━━━━━━━━━━━━━━━━━━━━━━━━━━━━━\u001b[0m \u001b[32m7.2/7.2 MB\u001b[0m \u001b[31m48.5 MB/s\u001b[0m eta \u001b[36m0:00:00\u001b[0m\n",
            "\u001b[?25hRequirement already satisfied: filelock in /usr/local/lib/python3.10/dist-packages (from transformers) (3.12.0)\n",
            "Collecting huggingface-hub<1.0,>=0.14.1 (from transformers)\n",
            "  Downloading huggingface_hub-0.15.1-py3-none-any.whl (236 kB)\n",
            "\u001b[2K     \u001b[90m━━━━━━━━━━━━━━━━━━━━━━━━━━━━━━━━━━━━━━\u001b[0m \u001b[32m236.8/236.8 kB\u001b[0m \u001b[31m31.3 MB/s\u001b[0m eta \u001b[36m0:00:00\u001b[0m\n",
            "\u001b[?25hRequirement already satisfied: numpy>=1.17 in /usr/local/lib/python3.10/dist-packages (from transformers) (1.22.4)\n",
            "Requirement already satisfied: packaging>=20.0 in /usr/local/lib/python3.10/dist-packages (from transformers) (23.1)\n",
            "Requirement already satisfied: pyyaml>=5.1 in /usr/local/lib/python3.10/dist-packages (from transformers) (6.0)\n",
            "Requirement already satisfied: regex!=2019.12.17 in /usr/local/lib/python3.10/dist-packages (from transformers) (2022.10.31)\n",
            "Requirement already satisfied: requests in /usr/local/lib/python3.10/dist-packages (from transformers) (2.27.1)\n",
            "Collecting tokenizers!=0.11.3,<0.14,>=0.11.1 (from transformers)\n",
            "  Downloading tokenizers-0.13.3-cp310-cp310-manylinux_2_17_x86_64.manylinux2014_x86_64.whl (7.8 MB)\n",
            "\u001b[2K     \u001b[90m━━━━━━━━━━━━━━━━━━━━━━━━━━━━━━━━━━━━━━━━\u001b[0m \u001b[32m7.8/7.8 MB\u001b[0m \u001b[31m51.2 MB/s\u001b[0m eta \u001b[36m0:00:00\u001b[0m\n",
            "\u001b[?25hCollecting safetensors>=0.3.1 (from transformers)\n",
            "  Downloading safetensors-0.3.1-cp310-cp310-manylinux_2_17_x86_64.manylinux2014_x86_64.whl (1.3 MB)\n",
            "\u001b[2K     \u001b[90m━━━━━━━━━━━━━━━━━━━━━━━━━━━━━━━━━━━━━━━━\u001b[0m \u001b[32m1.3/1.3 MB\u001b[0m \u001b[31m47.1 MB/s\u001b[0m eta \u001b[36m0:00:00\u001b[0m\n",
            "\u001b[?25hRequirement already satisfied: tqdm>=4.27 in /usr/local/lib/python3.10/dist-packages (from transformers) (4.65.0)\n",
            "Requirement already satisfied: fsspec in /usr/local/lib/python3.10/dist-packages (from huggingface-hub<1.0,>=0.14.1->transformers) (2023.4.0)\n",
            "Requirement already satisfied: typing-extensions>=3.7.4.3 in /usr/local/lib/python3.10/dist-packages (from huggingface-hub<1.0,>=0.14.1->transformers) (4.5.0)\n",
            "Requirement already satisfied: urllib3<1.27,>=1.21.1 in /usr/local/lib/python3.10/dist-packages (from requests->transformers) (1.26.15)\n",
            "Requirement already satisfied: certifi>=2017.4.17 in /usr/local/lib/python3.10/dist-packages (from requests->transformers) (2022.12.7)\n",
            "Requirement already satisfied: charset-normalizer~=2.0.0 in /usr/local/lib/python3.10/dist-packages (from requests->transformers) (2.0.12)\n",
            "Requirement already satisfied: idna<4,>=2.5 in /usr/local/lib/python3.10/dist-packages (from requests->transformers) (3.4)\n",
            "Installing collected packages: tokenizers, safetensors, huggingface-hub, transformers\n",
            "Successfully installed huggingface-hub-0.15.1 safetensors-0.3.1 tokenizers-0.13.3 transformers-4.30.2\n",
            "Looking in indexes: https://pypi.org/simple, https://us-python.pkg.dev/colab-wheels/public/simple/\n",
            "Collecting keras.preprocessing\n",
            "  Downloading Keras_Preprocessing-1.1.2-py2.py3-none-any.whl (42 kB)\n",
            "\u001b[2K     \u001b[90m━━━━━━━━━━━━━━━━━━━━━━━━━━━━━━━━━━━━━━━━\u001b[0m \u001b[32m42.6/42.6 kB\u001b[0m \u001b[31m4.8 MB/s\u001b[0m eta \u001b[36m0:00:00\u001b[0m\n",
            "\u001b[?25hRequirement already satisfied: numpy>=1.9.1 in /usr/local/lib/python3.10/dist-packages (from keras.preprocessing) (1.22.4)\n",
            "Requirement already satisfied: six>=1.9.0 in /usr/local/lib/python3.10/dist-packages (from keras.preprocessing) (1.16.0)\n",
            "Installing collected packages: keras.preprocessing\n",
            "Successfully installed keras.preprocessing-1.1.2\n",
            "Looking in indexes: https://pypi.org/simple, https://us-python.pkg.dev/colab-wheels/public/simple/\n",
            "Collecting git+https://github.com/pytorch/text.git@v0.10.0\n",
            "  Cloning https://github.com/pytorch/text.git (to revision v0.10.0) to /tmp/pip-req-build-08z2c0ly\n",
            "  Running command git clone --filter=blob:none --quiet https://github.com/pytorch/text.git /tmp/pip-req-build-08z2c0ly\n",
            "  Running command git checkout -q 4da1de36247aa06622088e78508e0e38a4392e38\n",
            "  Resolved https://github.com/pytorch/text.git to commit 4da1de36247aa06622088e78508e0e38a4392e38\n",
            "  Running command git submodule update --init --recursive -q\n",
            "  Preparing metadata (setup.py) ... \u001b[?25l\u001b[?25hdone\n",
            "Requirement already satisfied: tqdm in /usr/local/lib/python3.10/dist-packages (from torchtext==0.10.0a0+4da1de3) (4.65.0)\n",
            "Requirement already satisfied: requests in /usr/local/lib/python3.10/dist-packages (from torchtext==0.10.0a0+4da1de3) (2.27.1)\n",
            "Requirement already satisfied: torch in /usr/local/lib/python3.10/dist-packages (from torchtext==0.10.0a0+4da1de3) (2.0.1+cu118)\n",
            "Requirement already satisfied: numpy in /usr/local/lib/python3.10/dist-packages (from torchtext==0.10.0a0+4da1de3) (1.22.4)\n",
            "Requirement already satisfied: urllib3<1.27,>=1.21.1 in /usr/local/lib/python3.10/dist-packages (from requests->torchtext==0.10.0a0+4da1de3) (1.26.15)\n",
            "Requirement already satisfied: certifi>=2017.4.17 in /usr/local/lib/python3.10/dist-packages (from requests->torchtext==0.10.0a0+4da1de3) (2022.12.7)\n",
            "Requirement already satisfied: charset-normalizer~=2.0.0 in /usr/local/lib/python3.10/dist-packages (from requests->torchtext==0.10.0a0+4da1de3) (2.0.12)\n",
            "Requirement already satisfied: idna<4,>=2.5 in /usr/local/lib/python3.10/dist-packages (from requests->torchtext==0.10.0a0+4da1de3) (3.4)\n",
            "Requirement already satisfied: filelock in /usr/local/lib/python3.10/dist-packages (from torch->torchtext==0.10.0a0+4da1de3) (3.12.0)\n",
            "Requirement already satisfied: typing-extensions in /usr/local/lib/python3.10/dist-packages (from torch->torchtext==0.10.0a0+4da1de3) (4.5.0)\n",
            "Requirement already satisfied: sympy in /usr/local/lib/python3.10/dist-packages (from torch->torchtext==0.10.0a0+4da1de3) (1.11.1)\n",
            "Requirement already satisfied: networkx in /usr/local/lib/python3.10/dist-packages (from torch->torchtext==0.10.0a0+4da1de3) (3.1)\n",
            "Requirement already satisfied: jinja2 in /usr/local/lib/python3.10/dist-packages (from torch->torchtext==0.10.0a0+4da1de3) (3.1.2)\n",
            "Requirement already satisfied: triton==2.0.0 in /usr/local/lib/python3.10/dist-packages (from torch->torchtext==0.10.0a0+4da1de3) (2.0.0)\n",
            "Requirement already satisfied: cmake in /usr/local/lib/python3.10/dist-packages (from triton==2.0.0->torch->torchtext==0.10.0a0+4da1de3) (3.25.2)\n",
            "Requirement already satisfied: lit in /usr/local/lib/python3.10/dist-packages (from triton==2.0.0->torch->torchtext==0.10.0a0+4da1de3) (16.0.5)\n",
            "Requirement already satisfied: MarkupSafe>=2.0 in /usr/local/lib/python3.10/dist-packages (from jinja2->torch->torchtext==0.10.0a0+4da1de3) (2.1.2)\n",
            "Requirement already satisfied: mpmath>=0.19 in /usr/local/lib/python3.10/dist-packages (from sympy->torch->torchtext==0.10.0a0+4da1de3) (1.3.0)\n",
            "Building wheels for collected packages: torchtext\n",
            "  Building wheel for torchtext (setup.py) ... \u001b[?25l\u001b[?25hdone\n",
            "  Created wheel for torchtext: filename=torchtext-0.10.0a0+4da1de3-cp310-cp310-linux_x86_64.whl size=13338095 sha256=bb471157e3e8e981fbaba61040f5958d3eea1a8f82e9dc7408b03dec88e20d60\n",
            "  Stored in directory: /tmp/pip-ephem-wheel-cache-e7q3m3fl/wheels/35/01/1b/48d47c6d8246b035aaa21b340cfee8a334384991bb59283a2c\n",
            "Successfully built torchtext\n",
            "Installing collected packages: torchtext\n",
            "  Attempting uninstall: torchtext\n",
            "    Found existing installation: torchtext 0.15.2\n",
            "    Uninstalling torchtext-0.15.2:\n",
            "      Successfully uninstalled torchtext-0.15.2\n",
            "Successfully installed torchtext-0.10.0a0+4da1de3\n"
          ]
        }
      ],
      "source": [
        "!pip install transformers\n",
        "!pip install keras.preprocessing\n",
        "!pip install git+https://github.com/pytorch/text.git@v0.10.0"
      ]
    },
    {
      "cell_type": "code",
      "execution_count": 5,
      "metadata": {
        "id": "fBr2V8S1LAt1"
      },
      "outputs": [],
      "source": [
        "import pandas as pd\n",
        "import numpy as np\n",
        "import torch\n",
        "\n",
        "\n",
        "from transformers import BertForSequenceClassification, BertConfig, BertTokenizer\n",
        "from tensorflow.keras.preprocessing.sequence import pad_sequences\n",
        "from sklearn.metrics import classification_report\n",
        "import matplotlib.pyplot as plt\n",
        "\n",
        "# Preliminaries\n",
        "from torchtext.legacy.data import Field, TabularDataset, BucketIterator, Iterator\n",
        "\n",
        "\n",
        "# Models\n",
        "import torch.nn as nn\n",
        "\n",
        "# Training\n",
        "import torch.optim as optim\n",
        "\n",
        "# Evaluation\n",
        "from sklearn.metrics import accuracy_score, classification_report, confusion_matrix\n",
        "import seaborn as sns"
      ]
    },
    {
      "cell_type": "markdown",
      "metadata": {
        "id": "D87UOuPvZWf9"
      },
      "source": [
        "## Preliminaries"
      ]
    },
    {
      "cell_type": "code",
      "execution_count": 6,
      "metadata": {
        "id": "AtWXlthhPvxl",
        "colab": {
          "base_uri": "https://localhost:8080/",
          "height": 145,
          "referenced_widgets": [
            "b9a3c991a21240dfb2e1b21f8659dbed",
            "8e2932770f434d23ac1a5a9f53cf5f4b",
            "27d7a7c9bde2486893431d3f0c111c47",
            "841ed4261a1543cf903e1df5fe2b7e1d",
            "620d2c82607c4f3cbb2751a884002cc2",
            "be9c778dfc624a7ab304abfbf75029fc",
            "1ea857fa9bb7401885615a1d6fe209a9",
            "94257ffc4fa542bc8830f1697844137e",
            "faa2d6c8642d47ecbe2bfafede9070f2",
            "8592dd6ea3114791b077d15fb580eeaa",
            "87252d459ba8423c929b017a37dc1b3d",
            "2f254d501223437fa85b66d8d1138fb7",
            "ae337a655b8c4cebb6d267fb4d6c3dcb",
            "2b2ae1a9b32943c0bc4f31f93f1dd477",
            "dd777dbf6709425c939249a7c88696fd",
            "1e7e888a068e4042a6ded2b2c0ef8ba1",
            "d4abb6c918624f81be1127f92875bbb2",
            "04ebc4509c0f4e889e9d96718e796cb0",
            "64ce032794f546a5ab235b1f70bd8b89",
            "12fa2e5a910a40feae129a0367e6cb65",
            "3229507206284ddf933d054b606bed84",
            "bb5a7f9be8c647ed837eff26c015fa4d",
            "9c86d2a682544e5e9772759469cb9449",
            "cbcbb7343180452fa4331b6460b80453",
            "803c0ea1a9834e5a80a375694b0c102a",
            "8a9a6892291b4ed0866c312cce83b082",
            "6ec29f38ec094b6cba6b0c362fecc612",
            "87458b3bcf2b4bd6a2141cd753804822",
            "d2201c45b11448e1bb4daa55d95bbce6",
            "2389d8f98fa44d2d865cd9cc933769ef",
            "7320b860e9bd4358930a343c76623b45",
            "258c9d5b533840a59eec76b8e4b765df",
            "53760ccb45d044f099f4390684e8821c",
            "3b776d91903b4f4fa61b374cb95ce4b2",
            "8c33e68e5643446793dc0dd1fde6f6ea",
            "6cd1130b4c14483aa532418194edb449",
            "cf168abc99a84fd3bfd685a2999a2ad6",
            "bcefae8d102c426aa584303678f06f87",
            "e237ef2486844f91a27e81f8b0ba031c",
            "a37a827ddc9b4dd7bc2241cb8885a069",
            "dfda22dd5edb415ea0e5865d8d2fcaf0",
            "ced93d051564477a86eff97df1fb1225",
            "6eea269a7f984c73bd2c56ceb1161944",
            "fd7d234b6c884253bd5985587871fffe"
          ]
        },
        "outputId": "8dd93cf1-6aad-464f-a205-ce460fbc4235"
      },
      "outputs": [
        {
          "output_type": "display_data",
          "data": {
            "text/plain": [
              "Downloading (…)solve/main/vocab.txt:   0%|          | 0.00/229k [00:00<?, ?B/s]"
            ],
            "application/vnd.jupyter.widget-view+json": {
              "version_major": 2,
              "version_minor": 0,
              "model_id": "b9a3c991a21240dfb2e1b21f8659dbed"
            }
          },
          "metadata": {}
        },
        {
          "output_type": "display_data",
          "data": {
            "text/plain": [
              "Downloading (…)cial_tokens_map.json:   0%|          | 0.00/112 [00:00<?, ?B/s]"
            ],
            "application/vnd.jupyter.widget-view+json": {
              "version_major": 2,
              "version_minor": 0,
              "model_id": "2f254d501223437fa85b66d8d1138fb7"
            }
          },
          "metadata": {}
        },
        {
          "output_type": "display_data",
          "data": {
            "text/plain": [
              "Downloading (…)okenizer_config.json:   0%|          | 0.00/2.00 [00:00<?, ?B/s]"
            ],
            "application/vnd.jupyter.widget-view+json": {
              "version_major": 2,
              "version_minor": 0,
              "model_id": "9c86d2a682544e5e9772759469cb9449"
            }
          },
          "metadata": {}
        },
        {
          "output_type": "display_data",
          "data": {
            "text/plain": [
              "Downloading (…)lve/main/config.json:   0%|          | 0.00/1.53k [00:00<?, ?B/s]"
            ],
            "application/vnd.jupyter.widget-view+json": {
              "version_major": 2,
              "version_minor": 0,
              "model_id": "3b776d91903b4f4fa61b374cb95ce4b2"
            }
          },
          "metadata": {}
        }
      ],
      "source": [
        "tokenizer = BertTokenizer.from_pretrained('indobenchmark/indobert-base-p1')"
      ]
    },
    {
      "cell_type": "code",
      "execution_count": 7,
      "metadata": {
        "id": "gWg-WDVbWyGO"
      },
      "outputs": [],
      "source": [
        "device = torch.device('cuda:0' if torch.cuda.is_available() else 'cpu')"
      ]
    },
    {
      "cell_type": "markdown",
      "source": [
        "##Random Seed"
      ],
      "metadata": {
        "id": "1Fwjvqc0YrCP"
      }
    },
    {
      "cell_type": "code",
      "source": [
        "import random\n",
        "\n",
        "seed = 42\n",
        "torch.manual_seed(seed)\n",
        "torch.cuda.manual_seed(seed)\n",
        "torch.cuda.manual_seed_all(seed)  # jika menggunakan multiple GPUs\n",
        "random.seed(seed)\n",
        "np.random.seed(seed)\n",
        "torch.backends.cudnn.deterministic = True\n",
        "torch.backends.cudnn.benchmark = False"
      ],
      "metadata": {
        "id": "NTH_lIhxYpuj"
      },
      "execution_count": 8,
      "outputs": []
    },
    {
      "cell_type": "markdown",
      "metadata": {
        "id": "C7sIHRLwaoyM"
      },
      "source": [
        "## Model"
      ]
    },
    {
      "cell_type": "code",
      "execution_count": 9,
      "metadata": {
        "id": "GeZ14Ky5Lqih"
      },
      "outputs": [],
      "source": [
        "# Model parameter\n",
        "MAX_SEQ_LEN = 128\n",
        "PAD_INDEX = tokenizer.convert_tokens_to_ids(tokenizer.pad_token)\n",
        "UNK_INDEX = tokenizer.convert_tokens_to_ids(tokenizer.unk_token)\n",
        "\n",
        "# Fields\n",
        "label_field = Field(sequential=False, use_vocab=False, batch_first=True, dtype=torch.float)\n",
        "text_field = Field(use_vocab=False, tokenize=tokenizer.encode, lower=False, include_lengths=False, batch_first=True,\n",
        "                   fix_length=MAX_SEQ_LEN, pad_token=PAD_INDEX, unk_token=UNK_INDEX)\n",
        "fields = [('Label', label_field), ('Tokenizing_Head', text_field), ('Tokenizing_Body', text_field)]\n",
        "\n",
        "train, valid, test = TabularDataset.splits(path=source_folder, train='train3.csv', validation='valid3.csv', test='test3.csv',\n",
        "                                           format='csv', fields=fields, skip_header=True)\n"
      ]
    },
    {
      "cell_type": "code",
      "execution_count": 10,
      "metadata": {
        "id": "NSKPey98jRpM"
      },
      "outputs": [],
      "source": [
        "# Iterators\n",
        "train_iter = BucketIterator(train, batch_size=16, sort_key=lambda x: len(x.Tokenizing_Body),\n",
        "                            device=device, train=True, sort=True, sort_within_batch=True)\n",
        "valid_iter = BucketIterator(valid, batch_size=16, sort_key=lambda x: len(x.Tokenizing_Body),\n",
        "                            device=device, train=True, sort=True, sort_within_batch=True)\n",
        "test_iter = Iterator(test, batch_size=16, device=device, train=False, shuffle=False, sort=False)"
      ]
    },
    {
      "cell_type": "code",
      "execution_count": 11,
      "metadata": {
        "id": "YfFxkaJq1WmC"
      },
      "outputs": [],
      "source": [
        "# Module\n",
        "class BERT(nn.Module):\n",
        "\n",
        "    def __init__(self):\n",
        "        super(BERT, self).__init__()\n",
        "\n",
        "        options_name = \"indobenchmark/indobert-base-p1\"\n",
        "        self.encoder = BertForSequenceClassification.from_pretrained(options_name)\n",
        "\n",
        "    # def forward(self, headline, body, label=None):\n",
        "    #     loss, text_fea = self.encoder(input_ids=body, attention_mask=(body!=PAD_INDEX), token_type_ids=(headline!=PAD_INDEX), labels=label)[:2]\n",
        "    def forward(self, text, label):\n",
        "        loss, text_fea = self.encoder(text, labels=label)[:2]\n",
        "\n",
        "        return loss, text_fea"
      ]
    },
    {
      "cell_type": "code",
      "execution_count": 12,
      "metadata": {
        "id": "egjaxiu51prx"
      },
      "outputs": [],
      "source": [
        "def save_checkpoint(save_path, model, valid_loss):\n",
        "    if save_path is None:\n",
        "        return\n",
        "\n",
        "    state_dict = {'model_state_dict': model.state_dict(),\n",
        "                  'valid_loss': valid_loss}\n",
        "\n",
        "    torch.save(state_dict, save_path)\n",
        "    print(f'Model saved to ==> {save_path}')\n",
        "\n",
        "\n",
        "def load_checkpoint(load_path, model):\n",
        "    if load_path is None:\n",
        "        return\n",
        "\n",
        "    state_dict = torch.load(load_path, map_location=device)\n",
        "    print(f'Model loaded from <== {load_path}')\n",
        "\n",
        "    model.load_state_dict(state_dict['model_state_dict'])\n",
        "    return state_dict['valid_loss']\n",
        "\n",
        "\n",
        "def save_metrics(save_path, train_loss_list, valid_loss_list, epoch_list):\n",
        "    if save_path is None:\n",
        "        return\n",
        "\n",
        "    state_dict = {'train_loss_list': train_loss_list,\n",
        "                  'valid_loss_list': valid_loss_list,\n",
        "                  'epoch_list': epoch_list}\n",
        "\n",
        "    torch.save(state_dict, save_path)\n",
        "    print(f'Metrics saved to ==> {save_path}')\n",
        "\n",
        "\n",
        "def load_metrics(load_path):\n",
        "    if load_path is None:\n",
        "        return\n",
        "\n",
        "    state_dict = torch.load(load_path, map_location=device)\n",
        "    print(f'Metrics loaded from <== {load_path}')\n",
        "\n",
        "    return state_dict['train_loss_list'], state_dict['valid_loss_list'], state_dict['epoch_list']"
      ]
    },
    {
      "cell_type": "markdown",
      "metadata": {
        "id": "hsAT0DKHZ1si"
      },
      "source": [
        "## Training and Validation"
      ]
    },
    {
      "cell_type": "code",
      "execution_count": 13,
      "metadata": {
        "id": "mf4FbhurXdUs"
      },
      "outputs": [],
      "source": [
        "def train(model,\n",
        "          optimizer,\n",
        "          criterion=nn.BCELoss(),\n",
        "          train_loader=train_iter,\n",
        "          valid_loader=valid_iter,\n",
        "          num_epochs=10,\n",
        "          eval_every=1,\n",
        "          file_path=destination_folder,\n",
        "          best_valid_loss=float(\"Inf\"),\n",
        "          patience=3):\n",
        "\n",
        "    # initialize running values\n",
        "    running_loss = 0.0\n",
        "    valid_running_loss = 0.0\n",
        "    train_loss_list = []\n",
        "    valid_loss_list = []\n",
        "    epoch_list = []\n",
        "\n",
        "    # training loop\n",
        "    model.train()\n",
        "    for epoch in range(num_epochs):\n",
        "        for (labels, title, text), _ in train_loader:\n",
        "            labels = labels.type(torch.LongTensor)\n",
        "            labels = labels.to(device)\n",
        "            text = text.type(torch.LongTensor)\n",
        "            text = text.to(device)\n",
        "            output = model(text, labels)\n",
        "            loss, _ = output\n",
        "\n",
        "            optimizer.zero_grad()\n",
        "            loss.backward()\n",
        "            optimizer.step()\n",
        "\n",
        "            # update running values\n",
        "            running_loss += loss.item()\n",
        "\n",
        "        # evaluation step\n",
        "        if epoch % eval_every == 0:\n",
        "            model.eval()\n",
        "            with torch.no_grad():\n",
        "                # validation loop\n",
        "                for (labels, title, text), _ in valid_loader:\n",
        "                    labels = labels.type(torch.LongTensor)\n",
        "                    labels = labels.to(device)\n",
        "                    text = text.type(torch.LongTensor)\n",
        "                    text = text.to(device)\n",
        "                    output = model(text, labels)\n",
        "                    loss, _ = output\n",
        "\n",
        "                    valid_running_loss += loss.item()\n",
        "\n",
        "            # evaluation\n",
        "            average_train_loss = running_loss / len(train_loader)\n",
        "            average_valid_loss = valid_running_loss / len(valid_loader)\n",
        "            train_loss_list.append(average_train_loss)\n",
        "            valid_loss_list.append(average_valid_loss)\n",
        "            epoch_list.append(epoch)\n",
        "\n",
        "            # resetting running values\n",
        "            running_loss = 0.0\n",
        "            valid_running_loss = 0.0\n",
        "            model.train()\n",
        "\n",
        "            # print progress\n",
        "            print('Epoch [{}/{}], Train Loss: {:.4f}, Valid Loss: {:.4f}'\n",
        "                  .format(epoch+1, num_epochs, average_train_loss, average_valid_loss))\n",
        "\n",
        "            # checkpoint\n",
        "            if best_valid_loss > average_valid_loss:\n",
        "                best_valid_loss = average_valid_loss\n",
        "                save_checkpoint(file_path + '/' + 'model.pt', model, best_valid_loss)\n",
        "                save_metrics(file_path + '/' + 'metrics.pt', train_loss_list, valid_loss_list, epoch_list)\n",
        "\n",
        "    save_metrics(file_path + '/' + 'metrics.pt', train_loss_list, valid_loss_list, epoch_list)\n",
        "    print('Finished Training!')\n",
        "    return train_loss_list, valid_loss_list, epoch_list, best_valid_loss"
      ]
    },
    {
      "cell_type": "code",
      "execution_count": 14,
      "metadata": {
        "colab": {
          "base_uri": "https://localhost:8080/",
          "height": 520,
          "referenced_widgets": [
            "cdd31e3594424c319be4bad80dcf06ef",
            "25c5ed47c98542038de87227668ba61f",
            "a921ff5ca0b542819fc21fb493fcf7cc",
            "7d5fef66b00c4cb9a6d92191dca9d9f3",
            "da3b138c7e02465ca77f47ce6aad7eb7",
            "6becf3436d63484ca022305c12ccdd80",
            "5caea0e931e94d689ddf7027ca4c283a",
            "01dda7d23ec242bb8b6711e363591398",
            "abe694e61d4c494cb705f9bd415f6939",
            "1ca02a535fea4725afcb3dda8681ec5c",
            "d43dd695e83c4162846967770fb492e2"
          ]
        },
        "id": "qgEMeGkE25GR",
        "outputId": "5a7f78f2-7833-4019-ba43-4cc42d27555d"
      },
      "outputs": [
        {
          "output_type": "display_data",
          "data": {
            "text/plain": [
              "Downloading pytorch_model.bin:   0%|          | 0.00/498M [00:00<?, ?B/s]"
            ],
            "application/vnd.jupyter.widget-view+json": {
              "version_major": 2,
              "version_minor": 0,
              "model_id": "cdd31e3594424c319be4bad80dcf06ef"
            }
          },
          "metadata": {}
        },
        {
          "output_type": "stream",
          "name": "stderr",
          "text": [
            "Some weights of BertForSequenceClassification were not initialized from the model checkpoint at indobenchmark/indobert-base-p1 and are newly initialized: ['classifier.bias', 'classifier.weight']\n",
            "You should probably TRAIN this model on a down-stream task to be able to use it for predictions and inference.\n"
          ]
        },
        {
          "output_type": "stream",
          "name": "stdout",
          "text": [
            "Epoch [1/10], Train Loss: 0.6521, Valid Loss: 0.7228\n",
            "Model saved to ==> /content/drive/MyDrive/TASI/RandomSearch/ModelImbalance/model.pt\n",
            "Metrics saved to ==> /content/drive/MyDrive/TASI/RandomSearch/ModelImbalance/metrics.pt\n",
            "Epoch [2/10], Train Loss: 0.6210, Valid Loss: 0.6529\n",
            "Model saved to ==> /content/drive/MyDrive/TASI/RandomSearch/ModelImbalance/model.pt\n",
            "Metrics saved to ==> /content/drive/MyDrive/TASI/RandomSearch/ModelImbalance/metrics.pt\n",
            "Epoch [3/10], Train Loss: 0.2738, Valid Loss: 0.2941\n",
            "Model saved to ==> /content/drive/MyDrive/TASI/RandomSearch/ModelImbalance/model.pt\n",
            "Metrics saved to ==> /content/drive/MyDrive/TASI/RandomSearch/ModelImbalance/metrics.pt\n",
            "Epoch [4/10], Train Loss: 0.1369, Valid Loss: 0.2067\n",
            "Model saved to ==> /content/drive/MyDrive/TASI/RandomSearch/ModelImbalance/model.pt\n",
            "Metrics saved to ==> /content/drive/MyDrive/TASI/RandomSearch/ModelImbalance/metrics.pt\n",
            "Epoch [5/10], Train Loss: 0.0909, Valid Loss: 0.1357\n",
            "Model saved to ==> /content/drive/MyDrive/TASI/RandomSearch/ModelImbalance/model.pt\n",
            "Metrics saved to ==> /content/drive/MyDrive/TASI/RandomSearch/ModelImbalance/metrics.pt\n",
            "Epoch [6/10], Train Loss: 0.0621, Valid Loss: 0.3082\n",
            "Epoch [7/10], Train Loss: 0.0442, Valid Loss: 0.0972\n",
            "Model saved to ==> /content/drive/MyDrive/TASI/RandomSearch/ModelImbalance/model.pt\n",
            "Metrics saved to ==> /content/drive/MyDrive/TASI/RandomSearch/ModelImbalance/metrics.pt\n",
            "Epoch [8/10], Train Loss: 0.0472, Valid Loss: 0.1007\n",
            "Epoch [9/10], Train Loss: 0.0306, Valid Loss: 0.1404\n",
            "Epoch [10/10], Train Loss: 0.0279, Valid Loss: 0.1502\n",
            "Metrics saved to ==> /content/drive/MyDrive/TASI/RandomSearch/ModelImbalance/metrics.pt\n",
            "Finished Training!\n"
          ]
        }
      ],
      "source": [
        "model = BERT().to(device)\n",
        "optimizer = optim.Adam(model.parameters(), lr=2e-5)\n",
        "\n",
        "train_loss_list, valid_loss_list, epoch_list, best_valid_loss = train(model=model, optimizer=optimizer)"
      ]
    },
    {
      "cell_type": "code",
      "execution_count": 15,
      "metadata": {
        "id": "aB-0Up2JSsCC",
        "colab": {
          "base_uri": "https://localhost:8080/",
          "height": 466
        },
        "outputId": "30c5de8b-e56a-4137-dfc7-e4c9be546495"
      },
      "outputs": [
        {
          "output_type": "stream",
          "name": "stdout",
          "text": [
            "Metrics loaded from <== /content/drive/MyDrive/TASI/RandomSearch/ModelImbalance/metrics.pt\n"
          ]
        },
        {
          "output_type": "display_data",
          "data": {
            "text/plain": [
              "<Figure size 640x480 with 1 Axes>"
            ],
            "image/png": "[encoded data removed]"
          },
          "metadata": {}
        }
      ],
      "source": [
        "train_loss_list, valid_loss_list, epoch_list = load_metrics(destination_folder + '/metrics.pt')\n",
        "plt.plot(epoch_list, train_loss_list, label='Train')\n",
        "plt.plot(epoch_list, valid_loss_list, label='Valid')\n",
        "plt.xlabel('Epochs')\n",
        "plt.ylabel('Loss')\n",
        "plt.legend()\n",
        "plt.show()"
      ]
    },
    {
      "cell_type": "markdown",
      "metadata": {
        "id": "2HlW7cvQaYvl"
      },
      "source": [
        "## Testing"
      ]
    },
    {
      "cell_type": "code",
      "execution_count": 16,
      "metadata": {
        "id": "uMcQfFEFS1AB",
        "colab": {
          "base_uri": "https://localhost:8080/",
          "height": 614
        },
        "outputId": "e9f2ee68-d734-4d6b-81f1-7feba847e5c1"
      },
      "outputs": [
        {
          "output_type": "stream",
          "name": "stderr",
          "text": [
            "Some weights of BertForSequenceClassification were not initialized from the model checkpoint at indobenchmark/indobert-base-p1 and are newly initialized: ['classifier.bias', 'classifier.weight']\n",
            "You should probably TRAIN this model on a down-stream task to be able to use it for predictions and inference.\n"
          ]
        },
        {
          "output_type": "stream",
          "name": "stdout",
          "text": [
            "Model loaded from <== /content/drive/MyDrive/TASI/RandomSearch/ModelImbalance/model.pt\n",
            "Classification Report:\n",
            "Real - Precision: 0.8632, Recall: 0.9266, F1-Score: 0.8938\n",
            "Fake - Precision: 0.9633, Recall: 0.9292, F1-Score: 0.9459\n",
            "Accuracy: 0.9283582089552239\n"
          ]
        },
        {
          "output_type": "display_data",
          "data": {
            "text/plain": [
              "<Figure size 640x480 with 2 Axes>"
            ],
            "image/png": "[encoded data removed]"
          },
          "metadata": {}
        }
      ],
      "source": [
        "from sklearn.metrics import classification_report, accuracy_score, confusion_matrix\n",
        "import numpy as np\n",
        "import seaborn as sns\n",
        "import matplotlib.pyplot as plt\n",
        "\n",
        "def evaluate(model, test_loader):\n",
        "    y_pred = []\n",
        "    y_true = []\n",
        "\n",
        "    model.eval()\n",
        "    with torch.no_grad():\n",
        "        for (labels, title, text), _ in test_loader:\n",
        "            labels = labels.type(torch.LongTensor)\n",
        "            labels = labels.to(device)\n",
        "            text = text.type(torch.LongTensor)\n",
        "            text = text.to(device)\n",
        "            output = model(text, labels)\n",
        "\n",
        "            _, output = output\n",
        "            y_pred.extend(torch.argmax(output, 1).tolist())\n",
        "            y_true.extend(labels.tolist())\n",
        "\n",
        "    # Mengganti label 1 menjadi \"real\" dan label 0 menjadi \"fake\"\n",
        "    y_true = np.where(np.array(y_true) == 1, \"real\", \"fake\")\n",
        "    y_pred = np.where(np.array(y_pred) == 1, \"real\", \"fake\")\n",
        "\n",
        "    # Menghitung dan mencetak hasil precision, recall, f1-score, dan accuracy\n",
        "    report = classification_report(y_true, y_pred, labels=[\"real\", \"fake\"], digits=4, output_dict=True)\n",
        "    print('Classification Report:')\n",
        "    for label, scores in report.items():\n",
        "        if label in [\"real\", \"fake\"]:\n",
        "            precision = scores['precision']\n",
        "            recall = scores['recall']\n",
        "            f1_score = scores['f1-score']\n",
        "            print(f\"{label.capitalize()} - Precision: {precision:.4f}, Recall: {recall:.4f}, F1-Score: {f1_score:.4f}\")\n",
        "    accuracy = accuracy_score(y_true, y_pred)\n",
        "    print(f'Accuracy: {accuracy}')\n",
        "\n",
        "    # Menghitung dan mencetak confusion matrix\n",
        "    cm = confusion_matrix(y_true, y_pred, labels=[\"real\", \"fake\"])\n",
        "    ax = plt.subplot()\n",
        "    sns.heatmap(cm, annot=True, ax=ax, cmap='Blues', fmt=\"d\")\n",
        "    ax.set_title('Confusion Matrix')\n",
        "    ax.set_xlabel('Predicted Labels')\n",
        "    ax.set_ylabel('True Labels')\n",
        "    ax.xaxis.set_ticklabels(['Real', 'Fake'])\n",
        "    ax.yaxis.set_ticklabels(['Real', 'Fake'])\n",
        "    plt.show()\n",
        "\n",
        "best_model = BERT().to(device)\n",
        "\n",
        "load_checkpoint(destination_folder + '/model.pt', best_model)\n",
        "\n",
        "evaluate(best_model, test_iter)"
      ]
    },
    {
      "cell_type": "markdown",
      "metadata": {
        "id": "lH-ndpu-LdhU"
      },
      "source": [
        "##Hyperparameter Tuning with Import Grid"
      ]
    },
    {
      "cell_type": "code",
      "execution_count": 17,
      "metadata": {
        "id": "BTVEwsVECsNB",
        "colab": {
          "base_uri": "https://localhost:8080/"
        },
        "outputId": "e39696a5-7c4a-44ea-e268-87eaa60d6c44"
      },
      "outputs": [
        {
          "output_type": "stream",
          "name": "stdout",
          "text": [
            "Looking in indexes: https://pypi.org/simple, https://us-python.pkg.dev/colab-wheels/public/simple/\n",
            "Collecting optuna\n",
            "  Downloading optuna-3.2.0-py3-none-any.whl (390 kB)\n",
            "\u001b[2K     \u001b[90m━━━━━━━━━━━━━━━━━━━━━━━━━━━━━━━━━━━━━━\u001b[0m \u001b[32m390.6/390.6 kB\u001b[0m \u001b[31m21.6 MB/s\u001b[0m eta \u001b[36m0:00:00\u001b[0m\n",
            "\u001b[?25hCollecting alembic>=1.5.0 (from optuna)\n",
            "  Downloading alembic-1.11.1-py3-none-any.whl (224 kB)\n",
            "\u001b[2K     \u001b[90m━━━━━━━━━━━━━━━━━━━━━━━━━━━━━━━━━━━━━━\u001b[0m \u001b[32m224.5/224.5 kB\u001b[0m \u001b[31m29.0 MB/s\u001b[0m eta \u001b[36m0:00:00\u001b[0m\n",
            "\u001b[?25hCollecting cmaes>=0.9.1 (from optuna)\n",
            "  Downloading cmaes-0.9.1-py3-none-any.whl (21 kB)\n",
            "Collecting colorlog (from optuna)\n",
            "  Downloading colorlog-6.7.0-py2.py3-none-any.whl (11 kB)\n",
            "Requirement already satisfied: numpy in /usr/local/lib/python3.10/dist-packages (from optuna) (1.22.4)\n",
            "Requirement already satisfied: packaging>=20.0 in /usr/local/lib/python3.10/dist-packages (from optuna) (23.1)\n",
            "Requirement already satisfied: sqlalchemy>=1.3.0 in /usr/local/lib/python3.10/dist-packages (from optuna) (2.0.10)\n",
            "Requirement already satisfied: tqdm in /usr/local/lib/python3.10/dist-packages (from optuna) (4.65.0)\n",
            "Requirement already satisfied: PyYAML in /usr/local/lib/python3.10/dist-packages (from optuna) (6.0)\n",
            "Collecting Mako (from alembic>=1.5.0->optuna)\n",
            "  Downloading Mako-1.2.4-py3-none-any.whl (78 kB)\n",
            "\u001b[2K     \u001b[90m━━━━━━━━━━━━━━━━━━━━━━━━━━━━━━━━━━━━━━━━\u001b[0m \u001b[32m78.7/78.7 kB\u001b[0m \u001b[31m12.1 MB/s\u001b[0m eta \u001b[36m0:00:00\u001b[0m\n",
            "\u001b[?25hRequirement already satisfied: typing-extensions>=4 in /usr/local/lib/python3.10/dist-packages (from alembic>=1.5.0->optuna) (4.5.0)\n",
            "Requirement already satisfied: greenlet!=0.4.17 in /usr/local/lib/python3.10/dist-packages (from sqlalchemy>=1.3.0->optuna) (2.0.2)\n",
            "Requirement already satisfied: MarkupSafe>=0.9.2 in /usr/local/lib/python3.10/dist-packages (from Mako->alembic>=1.5.0->optuna) (2.1.2)\n",
            "Installing collected packages: Mako, colorlog, cmaes, alembic, optuna\n",
            "Successfully installed Mako-1.2.4 alembic-1.11.1 cmaes-0.9.1 colorlog-6.7.0 optuna-3.2.0\n"
          ]
        }
      ],
      "source": [
        "!pip install optuna"
      ]
    },
    {
      "cell_type": "code",
      "execution_count": 18,
      "metadata": {
        "id": "m4ZRW3Odyw8F",
        "colab": {
          "base_uri": "https://localhost:8080/"
        },
        "outputId": "2d6fe629-0b3f-46ff-aeda-b0e46fbb7daa"
      },
      "outputs": [
        {
          "output_type": "stream",
          "name": "stderr",
          "text": [
            "[I 2023-06-20 06:13:45,332] A new study created in memory with name: no-name-9a6f9ec3-e491-4305-9313-e99fb8d4a2b5\n",
            "Some weights of BertForSequenceClassification were not initialized from the model checkpoint at indobenchmark/indobert-base-p1 and are newly initialized: ['classifier.bias', 'classifier.weight']\n",
            "You should probably TRAIN this model on a down-stream task to be able to use it for predictions and inference.\n"
          ]
        },
        {
          "output_type": "stream",
          "name": "stdout",
          "text": [
            "Epoch [1/9], Train Loss: 0.4816, Valid Loss: 0.3681\n",
            "Model saved to ==> /content/drive/MyDrive/TASI/RandomSearch/ModelImbalance/model.pt\n",
            "Metrics saved to ==> /content/drive/MyDrive/TASI/RandomSearch/ModelImbalance/metrics.pt\n",
            "Epoch [2/9], Train Loss: 0.2258, Valid Loss: 0.2334\n",
            "Model saved to ==> /content/drive/MyDrive/TASI/RandomSearch/ModelImbalance/model.pt\n",
            "Metrics saved to ==> /content/drive/MyDrive/TASI/RandomSearch/ModelImbalance/metrics.pt\n",
            "Epoch [3/9], Train Loss: 0.1561, Valid Loss: 0.1817\n",
            "Model saved to ==> /content/drive/MyDrive/TASI/RandomSearch/ModelImbalance/model.pt\n",
            "Metrics saved to ==> /content/drive/MyDrive/TASI/RandomSearch/ModelImbalance/metrics.pt\n",
            "Epoch [4/9], Train Loss: 0.0758, Valid Loss: 0.1827\n",
            "Epoch [5/9], Train Loss: 0.0441, Valid Loss: 0.1285\n",
            "Model saved to ==> /content/drive/MyDrive/TASI/RandomSearch/ModelImbalance/model.pt\n",
            "Metrics saved to ==> /content/drive/MyDrive/TASI/RandomSearch/ModelImbalance/metrics.pt\n",
            "Epoch [6/9], Train Loss: 0.0364, Valid Loss: 0.1357\n",
            "Epoch [7/9], Train Loss: 0.0095, Valid Loss: 0.2056\n",
            "Epoch [8/9], Train Loss: 0.0176, Valid Loss: 0.1343\n",
            "Epoch [9/9], Train Loss: 0.0185, Valid Loss: 0.2817\n",
            "Metrics saved to ==> /content/drive/MyDrive/TASI/RandomSearch/ModelImbalance/metrics.pt\n",
            "Finished Training!\n"
          ]
        },
        {
          "output_type": "stream",
          "name": "stderr",
          "text": [
            "[I 2023-06-20 06:16:54,241] Trial 0 finished with value: 0.12848430427922203 and parameters: {'lr': 3e-05, 'num_epochs': 9, 'batch_size': 16}. Best is trial 0 with value: 0.12848430427922203.\n",
            "Some weights of BertForSequenceClassification were not initialized from the model checkpoint at indobenchmark/indobert-base-p1 and are newly initialized: ['classifier.bias', 'classifier.weight']\n",
            "You should probably TRAIN this model on a down-stream task to be able to use it for predictions and inference.\n"
          ]
        },
        {
          "output_type": "stream",
          "name": "stdout",
          "text": [
            "Epoch [1/8], Train Loss: 0.6691, Valid Loss: 0.6541\n",
            "Model saved to ==> /content/drive/MyDrive/TASI/RandomSearch/ModelImbalance/model.pt\n",
            "Metrics saved to ==> /content/drive/MyDrive/TASI/RandomSearch/ModelImbalance/metrics.pt\n",
            "Epoch [2/8], Train Loss: 0.5685, Valid Loss: 0.4617\n",
            "Model saved to ==> /content/drive/MyDrive/TASI/RandomSearch/ModelImbalance/model.pt\n",
            "Metrics saved to ==> /content/drive/MyDrive/TASI/RandomSearch/ModelImbalance/metrics.pt\n",
            "Epoch [3/8], Train Loss: 0.2378, Valid Loss: 0.1763\n",
            "Model saved to ==> /content/drive/MyDrive/TASI/RandomSearch/ModelImbalance/model.pt\n",
            "Metrics saved to ==> /content/drive/MyDrive/TASI/RandomSearch/ModelImbalance/metrics.pt\n",
            "Epoch [4/8], Train Loss: 0.1588, Valid Loss: 0.2200\n",
            "Epoch [5/8], Train Loss: 0.0823, Valid Loss: 0.2721\n",
            "Epoch [6/8], Train Loss: 0.0448, Valid Loss: 0.1922\n",
            "Epoch [7/8], Train Loss: 0.0196, Valid Loss: 0.4488\n"
          ]
        },
        {
          "output_type": "stream",
          "name": "stderr",
          "text": [
            "[I 2023-06-20 06:19:31,939] Trial 1 finished with value: 0.17633572087756225 and parameters: {'lr': 2e-05, 'num_epochs': 8, 'batch_size': 16}. Best is trial 0 with value: 0.12848430427922203.\n"
          ]
        },
        {
          "output_type": "stream",
          "name": "stdout",
          "text": [
            "Epoch [8/8], Train Loss: 0.0410, Valid Loss: 0.2003\n",
            "Metrics saved to ==> /content/drive/MyDrive/TASI/RandomSearch/ModelImbalance/metrics.pt\n",
            "Finished Training!\n"
          ]
        },
        {
          "output_type": "stream",
          "name": "stderr",
          "text": [
            "Some weights of BertForSequenceClassification were not initialized from the model checkpoint at indobenchmark/indobert-base-p1 and are newly initialized: ['classifier.bias', 'classifier.weight']\n",
            "You should probably TRAIN this model on a down-stream task to be able to use it for predictions and inference.\n"
          ]
        },
        {
          "output_type": "stream",
          "name": "stdout",
          "text": [
            "Epoch [1/5], Train Loss: 0.5388, Valid Loss: 0.3162\n",
            "Model saved to ==> /content/drive/MyDrive/TASI/RandomSearch/ModelImbalance/model.pt\n",
            "Metrics saved to ==> /content/drive/MyDrive/TASI/RandomSearch/ModelImbalance/metrics.pt\n",
            "Epoch [2/5], Train Loss: 0.2241, Valid Loss: 0.1698\n",
            "Model saved to ==> /content/drive/MyDrive/TASI/RandomSearch/ModelImbalance/model.pt\n",
            "Metrics saved to ==> /content/drive/MyDrive/TASI/RandomSearch/ModelImbalance/metrics.pt\n",
            "Epoch [3/5], Train Loss: 0.1364, Valid Loss: 0.1923\n",
            "Epoch [4/5], Train Loss: 0.0849, Valid Loss: 0.1918\n"
          ]
        },
        {
          "output_type": "stream",
          "name": "stderr",
          "text": [
            "[I 2023-06-20 06:21:14,230] Trial 2 finished with value: 0.16979740713057773 and parameters: {'lr': 5e-05, 'num_epochs': 5, 'batch_size': 16}. Best is trial 0 with value: 0.12848430427922203.\n"
          ]
        },
        {
          "output_type": "stream",
          "name": "stdout",
          "text": [
            "Epoch [5/5], Train Loss: 0.0693, Valid Loss: 0.2180\n",
            "Metrics saved to ==> /content/drive/MyDrive/TASI/RandomSearch/ModelImbalance/metrics.pt\n",
            "Finished Training!\n"
          ]
        },
        {
          "output_type": "stream",
          "name": "stderr",
          "text": [
            "Some weights of BertForSequenceClassification were not initialized from the model checkpoint at indobenchmark/indobert-base-p1 and are newly initialized: ['classifier.bias', 'classifier.weight']\n",
            "You should probably TRAIN this model on a down-stream task to be able to use it for predictions and inference.\n"
          ]
        },
        {
          "output_type": "stream",
          "name": "stdout",
          "text": [
            "Epoch [1/7], Train Loss: 0.6402, Valid Loss: 0.6259\n",
            "Model saved to ==> /content/drive/MyDrive/TASI/RandomSearch/ModelImbalance/model.pt\n",
            "Metrics saved to ==> /content/drive/MyDrive/TASI/RandomSearch/ModelImbalance/metrics.pt\n",
            "Epoch [2/7], Train Loss: 0.4235, Valid Loss: 0.3492\n",
            "Model saved to ==> /content/drive/MyDrive/TASI/RandomSearch/ModelImbalance/model.pt\n",
            "Metrics saved to ==> /content/drive/MyDrive/TASI/RandomSearch/ModelImbalance/metrics.pt\n",
            "Epoch [3/7], Train Loss: 0.2133, Valid Loss: 0.1698\n",
            "Model saved to ==> /content/drive/MyDrive/TASI/RandomSearch/ModelImbalance/model.pt\n",
            "Metrics saved to ==> /content/drive/MyDrive/TASI/RandomSearch/ModelImbalance/metrics.pt\n",
            "Epoch [4/7], Train Loss: 0.1501, Valid Loss: 0.2211\n",
            "Epoch [5/7], Train Loss: 0.0655, Valid Loss: 0.1788\n",
            "Epoch [6/7], Train Loss: 0.0247, Valid Loss: 0.1918\n"
          ]
        },
        {
          "output_type": "stream",
          "name": "stderr",
          "text": [
            "[I 2023-06-20 06:23:32,164] Trial 3 finished with value: 0.1698474217472332 and parameters: {'lr': 3e-05, 'num_epochs': 7, 'batch_size': 32}. Best is trial 0 with value: 0.12848430427922203.\n"
          ]
        },
        {
          "output_type": "stream",
          "name": "stdout",
          "text": [
            "Epoch [7/7], Train Loss: 0.0260, Valid Loss: 0.3150\n",
            "Metrics saved to ==> /content/drive/MyDrive/TASI/RandomSearch/ModelImbalance/metrics.pt\n",
            "Finished Training!\n"
          ]
        },
        {
          "output_type": "stream",
          "name": "stderr",
          "text": [
            "Some weights of BertForSequenceClassification were not initialized from the model checkpoint at indobenchmark/indobert-base-p1 and are newly initialized: ['classifier.bias', 'classifier.weight']\n",
            "You should probably TRAIN this model on a down-stream task to be able to use it for predictions and inference.\n"
          ]
        },
        {
          "output_type": "stream",
          "name": "stdout",
          "text": [
            "Epoch [1/8], Train Loss: 0.6746, Valid Loss: 0.6524\n",
            "Model saved to ==> /content/drive/MyDrive/TASI/RandomSearch/ModelImbalance/model.pt\n",
            "Metrics saved to ==> /content/drive/MyDrive/TASI/RandomSearch/ModelImbalance/metrics.pt\n",
            "Epoch [2/8], Train Loss: 0.6941, Valid Loss: 0.6543\n",
            "Epoch [3/8], Train Loss: 0.6575, Valid Loss: 0.6070\n",
            "Model saved to ==> /content/drive/MyDrive/TASI/RandomSearch/ModelImbalance/model.pt\n",
            "Metrics saved to ==> /content/drive/MyDrive/TASI/RandomSearch/ModelImbalance/metrics.pt\n",
            "Epoch [4/8], Train Loss: 0.5879, Valid Loss: 0.5402\n",
            "Model saved to ==> /content/drive/MyDrive/TASI/RandomSearch/ModelImbalance/model.pt\n",
            "Metrics saved to ==> /content/drive/MyDrive/TASI/RandomSearch/ModelImbalance/metrics.pt\n",
            "Epoch [5/8], Train Loss: 0.2434, Valid Loss: 0.3466\n",
            "Model saved to ==> /content/drive/MyDrive/TASI/RandomSearch/ModelImbalance/model.pt\n",
            "Metrics saved to ==> /content/drive/MyDrive/TASI/RandomSearch/ModelImbalance/metrics.pt\n",
            "Epoch [6/8], Train Loss: 0.2152, Valid Loss: 0.2374\n",
            "Model saved to ==> /content/drive/MyDrive/TASI/RandomSearch/ModelImbalance/model.pt\n",
            "Metrics saved to ==> /content/drive/MyDrive/TASI/RandomSearch/ModelImbalance/metrics.pt\n",
            "Epoch [7/8], Train Loss: 0.1240, Valid Loss: 0.2995\n",
            "Epoch [8/8], Train Loss: 0.0592, Valid Loss: 0.1985\n"
          ]
        },
        {
          "output_type": "stream",
          "name": "stderr",
          "text": [
            "[I 2023-06-20 06:26:13,533] Trial 4 finished with value: 0.1984615845472685 and parameters: {'lr': 3e-05, 'num_epochs': 8, 'batch_size': 16}. Best is trial 0 with value: 0.12848430427922203.\n"
          ]
        },
        {
          "output_type": "stream",
          "name": "stdout",
          "text": [
            "Model saved to ==> /content/drive/MyDrive/TASI/RandomSearch/ModelImbalance/model.pt\n",
            "Metrics saved to ==> /content/drive/MyDrive/TASI/RandomSearch/ModelImbalance/metrics.pt\n",
            "Metrics saved to ==> /content/drive/MyDrive/TASI/RandomSearch/ModelImbalance/metrics.pt\n",
            "Finished Training!\n"
          ]
        },
        {
          "output_type": "stream",
          "name": "stderr",
          "text": [
            "Some weights of BertForSequenceClassification were not initialized from the model checkpoint at indobenchmark/indobert-base-p1 and are newly initialized: ['classifier.bias', 'classifier.weight']\n",
            "You should probably TRAIN this model on a down-stream task to be able to use it for predictions and inference.\n"
          ]
        },
        {
          "output_type": "stream",
          "name": "stdout",
          "text": [
            "Epoch [1/9], Train Loss: 0.6620, Valid Loss: 0.6471\n",
            "Model saved to ==> /content/drive/MyDrive/TASI/RandomSearch/ModelImbalance/model.pt\n",
            "Metrics saved to ==> /content/drive/MyDrive/TASI/RandomSearch/ModelImbalance/metrics.pt\n",
            "Epoch [2/9], Train Loss: 0.4811, Valid Loss: 0.2750\n",
            "Model saved to ==> /content/drive/MyDrive/TASI/RandomSearch/ModelImbalance/model.pt\n",
            "Metrics saved to ==> /content/drive/MyDrive/TASI/RandomSearch/ModelImbalance/metrics.pt\n",
            "Epoch [3/9], Train Loss: 0.1876, Valid Loss: 0.1466\n",
            "Model saved to ==> /content/drive/MyDrive/TASI/RandomSearch/ModelImbalance/model.pt\n",
            "Metrics saved to ==> /content/drive/MyDrive/TASI/RandomSearch/ModelImbalance/metrics.pt\n",
            "Epoch [4/9], Train Loss: 0.1245, Valid Loss: 0.1767\n",
            "Epoch [5/9], Train Loss: 0.0667, Valid Loss: 0.1064\n",
            "Model saved to ==> /content/drive/MyDrive/TASI/RandomSearch/ModelImbalance/model.pt\n",
            "Metrics saved to ==> /content/drive/MyDrive/TASI/RandomSearch/ModelImbalance/metrics.pt\n",
            "Epoch [6/9], Train Loss: 0.0317, Valid Loss: 0.0924\n",
            "Model saved to ==> /content/drive/MyDrive/TASI/RandomSearch/ModelImbalance/model.pt\n",
            "Metrics saved to ==> /content/drive/MyDrive/TASI/RandomSearch/ModelImbalance/metrics.pt\n",
            "Epoch [7/9], Train Loss: 0.0076, Valid Loss: 0.1037\n",
            "Epoch [8/9], Train Loss: 0.0110, Valid Loss: 0.1187\n",
            "Epoch [9/9], Train Loss: 0.0077, Valid Loss: 0.2451\n",
            "Metrics saved to ==> /content/drive/MyDrive/TASI/RandomSearch/ModelImbalance/metrics.pt\n",
            "Finished Training!\n"
          ]
        },
        {
          "output_type": "stream",
          "name": "stderr",
          "text": [
            "[I 2023-06-20 06:29:14,781] Trial 5 finished with value: 0.09240064836506333 and parameters: {'lr': 2e-05, 'num_epochs': 9, 'batch_size': 32}. Best is trial 5 with value: 0.09240064836506333.\n",
            "Some weights of BertForSequenceClassification were not initialized from the model checkpoint at indobenchmark/indobert-base-p1 and are newly initialized: ['classifier.bias', 'classifier.weight']\n",
            "You should probably TRAIN this model on a down-stream task to be able to use it for predictions and inference.\n"
          ]
        },
        {
          "output_type": "stream",
          "name": "stdout",
          "text": [
            "Epoch [1/5], Train Loss: 0.5607, Valid Loss: 0.4028\n",
            "Model saved to ==> /content/drive/MyDrive/TASI/RandomSearch/ModelImbalance/model.pt\n",
            "Metrics saved to ==> /content/drive/MyDrive/TASI/RandomSearch/ModelImbalance/metrics.pt\n",
            "Epoch [2/5], Train Loss: 0.3291, Valid Loss: 0.2095\n",
            "Model saved to ==> /content/drive/MyDrive/TASI/RandomSearch/ModelImbalance/model.pt\n",
            "Metrics saved to ==> /content/drive/MyDrive/TASI/RandomSearch/ModelImbalance/metrics.pt\n",
            "Epoch [3/5], Train Loss: 0.1855, Valid Loss: 0.2913\n",
            "Epoch [4/5], Train Loss: 0.1111, Valid Loss: 0.4109\n",
            "Epoch [5/5], Train Loss: 0.0821, Valid Loss: 0.1976\n",
            "Model saved to ==> /content/drive/MyDrive/TASI/RandomSearch/ModelImbalance/model.pt\n"
          ]
        },
        {
          "output_type": "stream",
          "name": "stderr",
          "text": [
            "[I 2023-06-20 06:31:00,499] Trial 6 finished with value: 0.19758616090153477 and parameters: {'lr': 3e-05, 'num_epochs': 5, 'batch_size': 32}. Best is trial 5 with value: 0.09240064836506333.\n"
          ]
        },
        {
          "output_type": "stream",
          "name": "stdout",
          "text": [
            "Metrics saved to ==> /content/drive/MyDrive/TASI/RandomSearch/ModelImbalance/metrics.pt\n",
            "Metrics saved to ==> /content/drive/MyDrive/TASI/RandomSearch/ModelImbalance/metrics.pt\n",
            "Finished Training!\n"
          ]
        },
        {
          "output_type": "stream",
          "name": "stderr",
          "text": [
            "Some weights of BertForSequenceClassification were not initialized from the model checkpoint at indobenchmark/indobert-base-p1 and are newly initialized: ['classifier.bias', 'classifier.weight']\n",
            "You should probably TRAIN this model on a down-stream task to be able to use it for predictions and inference.\n"
          ]
        },
        {
          "output_type": "stream",
          "name": "stdout",
          "text": [
            "Epoch [1/5], Train Loss: 0.6586, Valid Loss: 0.5734\n",
            "Model saved to ==> /content/drive/MyDrive/TASI/RandomSearch/ModelImbalance/model.pt\n",
            "Metrics saved to ==> /content/drive/MyDrive/TASI/RandomSearch/ModelImbalance/metrics.pt\n",
            "Epoch [2/5], Train Loss: 0.4001, Valid Loss: 0.3918\n",
            "Model saved to ==> /content/drive/MyDrive/TASI/RandomSearch/ModelImbalance/model.pt\n",
            "Metrics saved to ==> /content/drive/MyDrive/TASI/RandomSearch/ModelImbalance/metrics.pt\n",
            "Epoch [3/5], Train Loss: 0.2101, Valid Loss: 0.2801\n",
            "Model saved to ==> /content/drive/MyDrive/TASI/RandomSearch/ModelImbalance/model.pt\n",
            "Metrics saved to ==> /content/drive/MyDrive/TASI/RandomSearch/ModelImbalance/metrics.pt\n",
            "Epoch [4/5], Train Loss: 0.1140, Valid Loss: 0.2157\n",
            "Model saved to ==> /content/drive/MyDrive/TASI/RandomSearch/ModelImbalance/model.pt\n",
            "Metrics saved to ==> /content/drive/MyDrive/TASI/RandomSearch/ModelImbalance/metrics.pt\n"
          ]
        },
        {
          "output_type": "stream",
          "name": "stderr",
          "text": [
            "[I 2023-06-20 06:32:42,851] Trial 7 finished with value: 0.21572646798033798 and parameters: {'lr': 3e-05, 'num_epochs': 5, 'batch_size': 16}. Best is trial 5 with value: 0.09240064836506333.\n"
          ]
        },
        {
          "output_type": "stream",
          "name": "stdout",
          "text": [
            "Epoch [5/5], Train Loss: 0.0696, Valid Loss: 0.2536\n",
            "Metrics saved to ==> /content/drive/MyDrive/TASI/RandomSearch/ModelImbalance/metrics.pt\n",
            "Finished Training!\n"
          ]
        },
        {
          "output_type": "stream",
          "name": "stderr",
          "text": [
            "Some weights of BertForSequenceClassification were not initialized from the model checkpoint at indobenchmark/indobert-base-p1 and are newly initialized: ['classifier.bias', 'classifier.weight']\n",
            "You should probably TRAIN this model on a down-stream task to be able to use it for predictions and inference.\n"
          ]
        },
        {
          "output_type": "stream",
          "name": "stdout",
          "text": [
            "Epoch [1/8], Train Loss: 0.6769, Valid Loss: 0.7139\n",
            "Model saved to ==> /content/drive/MyDrive/TASI/RandomSearch/ModelImbalance/model.pt\n",
            "Metrics saved to ==> /content/drive/MyDrive/TASI/RandomSearch/ModelImbalance/metrics.pt\n",
            "Epoch [2/8], Train Loss: 0.6750, Valid Loss: 0.7299\n",
            "Epoch [3/8], Train Loss: 0.6463, Valid Loss: 0.6891\n",
            "Model saved to ==> /content/drive/MyDrive/TASI/RandomSearch/ModelImbalance/model.pt\n",
            "Metrics saved to ==> /content/drive/MyDrive/TASI/RandomSearch/ModelImbalance/metrics.pt\n",
            "Epoch [4/8], Train Loss: 0.6312, Valid Loss: 0.6934\n",
            "Epoch [5/8], Train Loss: 0.6981, Valid Loss: 0.6739\n",
            "Model saved to ==> /content/drive/MyDrive/TASI/RandomSearch/ModelImbalance/model.pt\n",
            "Metrics saved to ==> /content/drive/MyDrive/TASI/RandomSearch/ModelImbalance/metrics.pt\n",
            "Epoch [6/8], Train Loss: 0.7217, Valid Loss: 0.6874\n",
            "Epoch [7/8], Train Loss: 0.7630, Valid Loss: 0.6804\n"
          ]
        },
        {
          "output_type": "stream",
          "name": "stderr",
          "text": [
            "[I 2023-06-20 06:35:19,128] Trial 8 finished with value: 0.6738949077469962 and parameters: {'lr': 2e-05, 'num_epochs': 8, 'batch_size': 16}. Best is trial 5 with value: 0.09240064836506333.\n"
          ]
        },
        {
          "output_type": "stream",
          "name": "stdout",
          "text": [
            "Epoch [8/8], Train Loss: 0.6842, Valid Loss: 0.6881\n",
            "Metrics saved to ==> /content/drive/MyDrive/TASI/RandomSearch/ModelImbalance/metrics.pt\n",
            "Finished Training!\n"
          ]
        },
        {
          "output_type": "stream",
          "name": "stderr",
          "text": [
            "Some weights of BertForSequenceClassification were not initialized from the model checkpoint at indobenchmark/indobert-base-p1 and are newly initialized: ['classifier.bias', 'classifier.weight']\n",
            "You should probably TRAIN this model on a down-stream task to be able to use it for predictions and inference.\n"
          ]
        },
        {
          "output_type": "stream",
          "name": "stdout",
          "text": [
            "Epoch [1/7], Train Loss: 0.6352, Valid Loss: 0.7085\n",
            "Model saved to ==> /content/drive/MyDrive/TASI/RandomSearch/ModelImbalance/model.pt\n",
            "Metrics saved to ==> /content/drive/MyDrive/TASI/RandomSearch/ModelImbalance/metrics.pt\n",
            "Epoch [2/7], Train Loss: 0.6265, Valid Loss: 0.3852\n",
            "Model saved to ==> /content/drive/MyDrive/TASI/RandomSearch/ModelImbalance/model.pt\n",
            "Metrics saved to ==> /content/drive/MyDrive/TASI/RandomSearch/ModelImbalance/metrics.pt\n",
            "Epoch [3/7], Train Loss: 0.2581, Valid Loss: 0.2223\n",
            "Model saved to ==> /content/drive/MyDrive/TASI/RandomSearch/ModelImbalance/model.pt\n",
            "Metrics saved to ==> /content/drive/MyDrive/TASI/RandomSearch/ModelImbalance/metrics.pt\n",
            "Epoch [4/7], Train Loss: 0.1732, Valid Loss: 0.1799\n",
            "Model saved to ==> /content/drive/MyDrive/TASI/RandomSearch/ModelImbalance/model.pt\n",
            "Metrics saved to ==> /content/drive/MyDrive/TASI/RandomSearch/ModelImbalance/metrics.pt\n",
            "Epoch [5/7], Train Loss: 0.1392, Valid Loss: 0.2341\n",
            "Epoch [6/7], Train Loss: 0.0964, Valid Loss: 0.1586\n",
            "Model saved to ==> /content/drive/MyDrive/TASI/RandomSearch/ModelImbalance/model.pt\n",
            "Metrics saved to ==> /content/drive/MyDrive/TASI/RandomSearch/ModelImbalance/metrics.pt\n"
          ]
        },
        {
          "output_type": "stream",
          "name": "stderr",
          "text": [
            "[I 2023-06-20 06:37:40,587] Trial 9 finished with value: 0.15860417817852326 and parameters: {'lr': 5e-05, 'num_epochs': 7, 'batch_size': 16}. Best is trial 5 with value: 0.09240064836506333.\n"
          ]
        },
        {
          "output_type": "stream",
          "name": "stdout",
          "text": [
            "Epoch [7/7], Train Loss: 0.0381, Valid Loss: 0.2332\n",
            "Metrics saved to ==> /content/drive/MyDrive/TASI/RandomSearch/ModelImbalance/metrics.pt\n",
            "Finished Training!\n"
          ]
        },
        {
          "output_type": "stream",
          "name": "stderr",
          "text": [
            "Some weights of BertForSequenceClassification were not initialized from the model checkpoint at indobenchmark/indobert-base-p1 and are newly initialized: ['classifier.bias', 'classifier.weight']\n",
            "You should probably TRAIN this model on a down-stream task to be able to use it for predictions and inference.\n"
          ]
        },
        {
          "output_type": "stream",
          "name": "stdout",
          "text": [
            "Epoch [1/10], Train Loss: 0.6485, Valid Loss: 0.6800\n",
            "Model saved to ==> /content/drive/MyDrive/TASI/RandomSearch/ModelImbalance/model.pt\n",
            "Metrics saved to ==> /content/drive/MyDrive/TASI/RandomSearch/ModelImbalance/metrics.pt\n",
            "Epoch [2/10], Train Loss: 0.6121, Valid Loss: 0.4785\n",
            "Model saved to ==> /content/drive/MyDrive/TASI/RandomSearch/ModelImbalance/model.pt\n",
            "Metrics saved to ==> /content/drive/MyDrive/TASI/RandomSearch/ModelImbalance/metrics.pt\n",
            "Epoch [3/10], Train Loss: 0.2651, Valid Loss: 0.5406\n",
            "Epoch [4/10], Train Loss: 0.1664, Valid Loss: 0.2132\n",
            "Model saved to ==> /content/drive/MyDrive/TASI/RandomSearch/ModelImbalance/model.pt\n",
            "Metrics saved to ==> /content/drive/MyDrive/TASI/RandomSearch/ModelImbalance/metrics.pt\n",
            "Epoch [5/10], Train Loss: 0.0943, Valid Loss: 0.3095\n",
            "Epoch [6/10], Train Loss: 0.0224, Valid Loss: 0.3017\n",
            "Epoch [7/10], Train Loss: 0.0403, Valid Loss: 0.1600\n",
            "Model saved to ==> /content/drive/MyDrive/TASI/RandomSearch/ModelImbalance/model.pt\n",
            "Metrics saved to ==> /content/drive/MyDrive/TASI/RandomSearch/ModelImbalance/metrics.pt\n",
            "Epoch [8/10], Train Loss: 0.0133, Valid Loss: 0.2539\n",
            "Epoch [9/10], Train Loss: 0.0053, Valid Loss: 0.2371\n"
          ]
        },
        {
          "output_type": "stream",
          "name": "stderr",
          "text": [
            "[I 2023-06-20 06:40:56,144] Trial 10 finished with value: 0.15999811177607626 and parameters: {'lr': 5e-05, 'num_epochs': 10, 'batch_size': 32}. Best is trial 5 with value: 0.09240064836506333.\n"
          ]
        },
        {
          "output_type": "stream",
          "name": "stdout",
          "text": [
            "Epoch [10/10], Train Loss: 0.0217, Valid Loss: 0.3052\n",
            "Metrics saved to ==> /content/drive/MyDrive/TASI/RandomSearch/ModelImbalance/metrics.pt\n",
            "Finished Training!\n"
          ]
        },
        {
          "output_type": "stream",
          "name": "stderr",
          "text": [
            "Some weights of BertForSequenceClassification were not initialized from the model checkpoint at indobenchmark/indobert-base-p1 and are newly initialized: ['classifier.bias', 'classifier.weight']\n",
            "You should probably TRAIN this model on a down-stream task to be able to use it for predictions and inference.\n"
          ]
        },
        {
          "output_type": "stream",
          "name": "stdout",
          "text": [
            "Epoch [1/8], Train Loss: 0.6674, Valid Loss: 0.6590\n",
            "Model saved to ==> /content/drive/MyDrive/TASI/RandomSearch/ModelImbalance/model.pt\n",
            "Metrics saved to ==> /content/drive/MyDrive/TASI/RandomSearch/ModelImbalance/metrics.pt\n",
            "Epoch [2/8], Train Loss: 0.6827, Valid Loss: 0.6389\n",
            "Model saved to ==> /content/drive/MyDrive/TASI/RandomSearch/ModelImbalance/model.pt\n",
            "Metrics saved to ==> /content/drive/MyDrive/TASI/RandomSearch/ModelImbalance/metrics.pt\n",
            "Epoch [3/8], Train Loss: 0.4665, Valid Loss: 0.4054\n",
            "Model saved to ==> /content/drive/MyDrive/TASI/RandomSearch/ModelImbalance/model.pt\n",
            "Metrics saved to ==> /content/drive/MyDrive/TASI/RandomSearch/ModelImbalance/metrics.pt\n",
            "Epoch [4/8], Train Loss: 0.2504, Valid Loss: 0.2682\n",
            "Model saved to ==> /content/drive/MyDrive/TASI/RandomSearch/ModelImbalance/model.pt\n",
            "Metrics saved to ==> /content/drive/MyDrive/TASI/RandomSearch/ModelImbalance/metrics.pt\n",
            "Epoch [5/8], Train Loss: 0.1440, Valid Loss: 0.3216\n",
            "Epoch [6/8], Train Loss: 0.0734, Valid Loss: 0.1978\n",
            "Model saved to ==> /content/drive/MyDrive/TASI/RandomSearch/ModelImbalance/model.pt\n",
            "Metrics saved to ==> /content/drive/MyDrive/TASI/RandomSearch/ModelImbalance/metrics.pt\n",
            "Epoch [7/8], Train Loss: 0.0510, Valid Loss: 0.2830\n"
          ]
        },
        {
          "output_type": "stream",
          "name": "stderr",
          "text": [
            "[I 2023-06-20 06:43:36,543] Trial 11 finished with value: 0.19779342063702643 and parameters: {'lr': 2e-05, 'num_epochs': 8, 'batch_size': 16}. Best is trial 5 with value: 0.09240064836506333.\n"
          ]
        },
        {
          "output_type": "stream",
          "name": "stdout",
          "text": [
            "Epoch [8/8], Train Loss: 0.0254, Valid Loss: 0.4549\n",
            "Metrics saved to ==> /content/drive/MyDrive/TASI/RandomSearch/ModelImbalance/metrics.pt\n",
            "Finished Training!\n"
          ]
        },
        {
          "output_type": "stream",
          "name": "stderr",
          "text": [
            "Some weights of BertForSequenceClassification were not initialized from the model checkpoint at indobenchmark/indobert-base-p1 and are newly initialized: ['classifier.bias', 'classifier.weight']\n",
            "You should probably TRAIN this model on a down-stream task to be able to use it for predictions and inference.\n"
          ]
        },
        {
          "output_type": "stream",
          "name": "stdout",
          "text": [
            "Epoch [1/9], Train Loss: 0.6448, Valid Loss: 0.6837\n",
            "Model saved to ==> /content/drive/MyDrive/TASI/RandomSearch/ModelImbalance/model.pt\n",
            "Metrics saved to ==> /content/drive/MyDrive/TASI/RandomSearch/ModelImbalance/metrics.pt\n",
            "Epoch [2/9], Train Loss: 0.6760, Valid Loss: 0.6597\n",
            "Model saved to ==> /content/drive/MyDrive/TASI/RandomSearch/ModelImbalance/model.pt\n",
            "Metrics saved to ==> /content/drive/MyDrive/TASI/RandomSearch/ModelImbalance/metrics.pt\n",
            "Epoch [3/9], Train Loss: 0.6965, Valid Loss: 0.7062\n",
            "Epoch [4/9], Train Loss: 0.6686, Valid Loss: 0.4787\n",
            "Model saved to ==> /content/drive/MyDrive/TASI/RandomSearch/ModelImbalance/model.pt\n",
            "Metrics saved to ==> /content/drive/MyDrive/TASI/RandomSearch/ModelImbalance/metrics.pt\n",
            "Epoch [5/9], Train Loss: 0.3370, Valid Loss: 0.5153\n",
            "Epoch [6/9], Train Loss: 0.2620, Valid Loss: 0.2529\n",
            "Model saved to ==> /content/drive/MyDrive/TASI/RandomSearch/ModelImbalance/model.pt\n",
            "Metrics saved to ==> /content/drive/MyDrive/TASI/RandomSearch/ModelImbalance/metrics.pt\n",
            "Epoch [7/9], Train Loss: 0.2284, Valid Loss: 0.4434\n",
            "Epoch [8/9], Train Loss: 0.2410, Valid Loss: 0.2400\n",
            "Model saved to ==> /content/drive/MyDrive/TASI/RandomSearch/ModelImbalance/model.pt\n",
            "Metrics saved to ==> /content/drive/MyDrive/TASI/RandomSearch/ModelImbalance/metrics.pt\n"
          ]
        },
        {
          "output_type": "stream",
          "name": "stderr",
          "text": [
            "[I 2023-06-20 06:46:35,057] Trial 12 finished with value: 0.23998087085783482 and parameters: {'lr': 5e-05, 'num_epochs': 9, 'batch_size': 32}. Best is trial 5 with value: 0.09240064836506333.\n"
          ]
        },
        {
          "output_type": "stream",
          "name": "stdout",
          "text": [
            "Epoch [9/9], Train Loss: 0.1587, Valid Loss: 0.3677\n",
            "Metrics saved to ==> /content/drive/MyDrive/TASI/RandomSearch/ModelImbalance/metrics.pt\n",
            "Finished Training!\n"
          ]
        },
        {
          "output_type": "stream",
          "name": "stderr",
          "text": [
            "Some weights of BertForSequenceClassification were not initialized from the model checkpoint at indobenchmark/indobert-base-p1 and are newly initialized: ['classifier.bias', 'classifier.weight']\n",
            "You should probably TRAIN this model on a down-stream task to be able to use it for predictions and inference.\n"
          ]
        },
        {
          "output_type": "stream",
          "name": "stdout",
          "text": [
            "Epoch [1/9], Train Loss: 0.6779, Valid Loss: 0.6803\n",
            "Model saved to ==> /content/drive/MyDrive/TASI/RandomSearch/ModelImbalance/model.pt\n",
            "Metrics saved to ==> /content/drive/MyDrive/TASI/RandomSearch/ModelImbalance/metrics.pt\n",
            "Epoch [2/9], Train Loss: 0.7046, Valid Loss: 0.6311\n",
            "Model saved to ==> /content/drive/MyDrive/TASI/RandomSearch/ModelImbalance/model.pt\n",
            "Metrics saved to ==> /content/drive/MyDrive/TASI/RandomSearch/ModelImbalance/metrics.pt\n",
            "Epoch [3/9], Train Loss: 0.3884, Valid Loss: 0.2675\n",
            "Model saved to ==> /content/drive/MyDrive/TASI/RandomSearch/ModelImbalance/model.pt\n",
            "Metrics saved to ==> /content/drive/MyDrive/TASI/RandomSearch/ModelImbalance/metrics.pt\n",
            "Epoch [4/9], Train Loss: 0.2266, Valid Loss: 0.3026\n",
            "Epoch [5/9], Train Loss: 0.1294, Valid Loss: 0.2443\n",
            "Model saved to ==> /content/drive/MyDrive/TASI/RandomSearch/ModelImbalance/model.pt\n",
            "Metrics saved to ==> /content/drive/MyDrive/TASI/RandomSearch/ModelImbalance/metrics.pt\n",
            "Epoch [6/9], Train Loss: 0.0964, Valid Loss: 0.2438\n",
            "Model saved to ==> /content/drive/MyDrive/TASI/RandomSearch/ModelImbalance/model.pt\n",
            "Metrics saved to ==> /content/drive/MyDrive/TASI/RandomSearch/ModelImbalance/metrics.pt\n",
            "Epoch [7/9], Train Loss: 0.0591, Valid Loss: 0.1691\n",
            "Model saved to ==> /content/drive/MyDrive/TASI/RandomSearch/ModelImbalance/model.pt\n",
            "Metrics saved to ==> /content/drive/MyDrive/TASI/RandomSearch/ModelImbalance/metrics.pt\n",
            "Epoch [8/9], Train Loss: 0.0308, Valid Loss: 0.2677\n"
          ]
        },
        {
          "output_type": "stream",
          "name": "stderr",
          "text": [
            "[I 2023-06-20 06:49:36,486] Trial 13 finished with value: 0.16910329081916384 and parameters: {'lr': 2e-05, 'num_epochs': 9, 'batch_size': 32}. Best is trial 5 with value: 0.09240064836506333.\n"
          ]
        },
        {
          "output_type": "stream",
          "name": "stdout",
          "text": [
            "Epoch [9/9], Train Loss: 0.0485, Valid Loss: 0.2701\n",
            "Metrics saved to ==> /content/drive/MyDrive/TASI/RandomSearch/ModelImbalance/metrics.pt\n",
            "Finished Training!\n"
          ]
        },
        {
          "output_type": "stream",
          "name": "stderr",
          "text": [
            "Some weights of BertForSequenceClassification were not initialized from the model checkpoint at indobenchmark/indobert-base-p1 and are newly initialized: ['classifier.bias', 'classifier.weight']\n",
            "You should probably TRAIN this model on a down-stream task to be able to use it for predictions and inference.\n"
          ]
        },
        {
          "output_type": "stream",
          "name": "stdout",
          "text": [
            "Epoch [1/5], Train Loss: 0.6851, Valid Loss: 0.6458\n",
            "Model saved to ==> /content/drive/MyDrive/TASI/RandomSearch/ModelImbalance/model.pt\n",
            "Metrics saved to ==> /content/drive/MyDrive/TASI/RandomSearch/ModelImbalance/metrics.pt\n",
            "Epoch [2/5], Train Loss: 0.4975, Valid Loss: 0.4277\n",
            "Model saved to ==> /content/drive/MyDrive/TASI/RandomSearch/ModelImbalance/model.pt\n",
            "Metrics saved to ==> /content/drive/MyDrive/TASI/RandomSearch/ModelImbalance/metrics.pt\n",
            "Epoch [3/5], Train Loss: 0.2898, Valid Loss: 0.2976\n",
            "Model saved to ==> /content/drive/MyDrive/TASI/RandomSearch/ModelImbalance/model.pt\n",
            "Metrics saved to ==> /content/drive/MyDrive/TASI/RandomSearch/ModelImbalance/metrics.pt\n",
            "Epoch [4/5], Train Loss: 0.1687, Valid Loss: 0.2498\n",
            "Model saved to ==> /content/drive/MyDrive/TASI/RandomSearch/ModelImbalance/model.pt\n",
            "Metrics saved to ==> /content/drive/MyDrive/TASI/RandomSearch/ModelImbalance/metrics.pt\n"
          ]
        },
        {
          "output_type": "stream",
          "name": "stderr",
          "text": [
            "[I 2023-06-20 06:51:19,641] Trial 14 finished with value: 0.24977685923555068 and parameters: {'lr': 2e-05, 'num_epochs': 5, 'batch_size': 16}. Best is trial 5 with value: 0.09240064836506333.\n"
          ]
        },
        {
          "output_type": "stream",
          "name": "stdout",
          "text": [
            "Epoch [5/5], Train Loss: 0.0983, Valid Loss: 0.2904\n",
            "Metrics saved to ==> /content/drive/MyDrive/TASI/RandomSearch/ModelImbalance/metrics.pt\n",
            "Finished Training!\n"
          ]
        },
        {
          "output_type": "stream",
          "name": "stderr",
          "text": [
            "Some weights of BertForSequenceClassification were not initialized from the model checkpoint at indobenchmark/indobert-base-p1 and are newly initialized: ['classifier.bias', 'classifier.weight']\n",
            "You should probably TRAIN this model on a down-stream task to be able to use it for predictions and inference.\n"
          ]
        },
        {
          "output_type": "stream",
          "name": "stdout",
          "text": [
            "Epoch [1/7], Train Loss: 0.6875, Valid Loss: 0.6757\n",
            "Model saved to ==> /content/drive/MyDrive/TASI/RandomSearch/ModelImbalance/model.pt\n",
            "Metrics saved to ==> /content/drive/MyDrive/TASI/RandomSearch/ModelImbalance/metrics.pt\n",
            "Epoch [2/7], Train Loss: 0.5227, Valid Loss: 0.4669\n",
            "Model saved to ==> /content/drive/MyDrive/TASI/RandomSearch/ModelImbalance/model.pt\n",
            "Metrics saved to ==> /content/drive/MyDrive/TASI/RandomSearch/ModelImbalance/metrics.pt\n",
            "Epoch [3/7], Train Loss: 0.3235, Valid Loss: 0.2597\n",
            "Model saved to ==> /content/drive/MyDrive/TASI/RandomSearch/ModelImbalance/model.pt\n",
            "Metrics saved to ==> /content/drive/MyDrive/TASI/RandomSearch/ModelImbalance/metrics.pt\n",
            "Epoch [4/7], Train Loss: 0.1837, Valid Loss: 0.3141\n",
            "Epoch [5/7], Train Loss: 0.0867, Valid Loss: 0.2736\n",
            "Epoch [6/7], Train Loss: 0.0415, Valid Loss: 0.3891\n"
          ]
        },
        {
          "output_type": "stream",
          "name": "stderr",
          "text": [
            "[I 2023-06-20 06:53:37,751] Trial 15 finished with value: 0.25967066415718626 and parameters: {'lr': 2e-05, 'num_epochs': 7, 'batch_size': 16}. Best is trial 5 with value: 0.09240064836506333.\n"
          ]
        },
        {
          "output_type": "stream",
          "name": "stdout",
          "text": [
            "Epoch [7/7], Train Loss: 0.0255, Valid Loss: 0.5549\n",
            "Metrics saved to ==> /content/drive/MyDrive/TASI/RandomSearch/ModelImbalance/metrics.pt\n",
            "Finished Training!\n"
          ]
        },
        {
          "output_type": "stream",
          "name": "stderr",
          "text": [
            "Some weights of BertForSequenceClassification were not initialized from the model checkpoint at indobenchmark/indobert-base-p1 and are newly initialized: ['classifier.bias', 'classifier.weight']\n",
            "You should probably TRAIN this model on a down-stream task to be able to use it for predictions and inference.\n"
          ]
        },
        {
          "output_type": "stream",
          "name": "stdout",
          "text": [
            "Epoch [1/8], Train Loss: 0.6562, Valid Loss: 0.7220\n",
            "Model saved to ==> /content/drive/MyDrive/TASI/RandomSearch/ModelImbalance/model.pt\n",
            "Metrics saved to ==> /content/drive/MyDrive/TASI/RandomSearch/ModelImbalance/metrics.pt\n",
            "Epoch [2/8], Train Loss: 0.7200, Valid Loss: 0.6692\n",
            "Model saved to ==> /content/drive/MyDrive/TASI/RandomSearch/ModelImbalance/model.pt\n",
            "Metrics saved to ==> /content/drive/MyDrive/TASI/RandomSearch/ModelImbalance/metrics.pt\n",
            "Epoch [3/8], Train Loss: 0.6938, Valid Loss: 0.6478\n",
            "Model saved to ==> /content/drive/MyDrive/TASI/RandomSearch/ModelImbalance/model.pt\n",
            "Metrics saved to ==> /content/drive/MyDrive/TASI/RandomSearch/ModelImbalance/metrics.pt\n",
            "Epoch [4/8], Train Loss: 0.6811, Valid Loss: 0.4448\n",
            "Model saved to ==> /content/drive/MyDrive/TASI/RandomSearch/ModelImbalance/model.pt\n",
            "Metrics saved to ==> /content/drive/MyDrive/TASI/RandomSearch/ModelImbalance/metrics.pt\n",
            "Epoch [5/8], Train Loss: 0.5912, Valid Loss: 0.6341\n",
            "Epoch [6/8], Train Loss: 0.6904, Valid Loss: 0.6961\n",
            "Epoch [7/8], Train Loss: 0.3455, Valid Loss: 0.5803\n",
            "Epoch [8/8], Train Loss: 0.3418, Valid Loss: 0.3300\n",
            "Model saved to ==> /content/drive/MyDrive/TASI/RandomSearch/ModelImbalance/model.pt\n"
          ]
        },
        {
          "output_type": "stream",
          "name": "stderr",
          "text": [
            "[I 2023-06-20 06:56:17,570] Trial 16 finished with value: 0.33003137979124275 and parameters: {'lr': 5e-05, 'num_epochs': 8, 'batch_size': 32}. Best is trial 5 with value: 0.09240064836506333.\n"
          ]
        },
        {
          "output_type": "stream",
          "name": "stdout",
          "text": [
            "Metrics saved to ==> /content/drive/MyDrive/TASI/RandomSearch/ModelImbalance/metrics.pt\n",
            "Metrics saved to ==> /content/drive/MyDrive/TASI/RandomSearch/ModelImbalance/metrics.pt\n",
            "Finished Training!\n"
          ]
        },
        {
          "output_type": "stream",
          "name": "stderr",
          "text": [
            "Some weights of BertForSequenceClassification were not initialized from the model checkpoint at indobenchmark/indobert-base-p1 and are newly initialized: ['classifier.bias', 'classifier.weight']\n",
            "You should probably TRAIN this model on a down-stream task to be able to use it for predictions and inference.\n"
          ]
        },
        {
          "output_type": "stream",
          "name": "stdout",
          "text": [
            "Epoch [1/7], Train Loss: 0.6854, Valid Loss: 0.7003\n",
            "Model saved to ==> /content/drive/MyDrive/TASI/RandomSearch/ModelImbalance/model.pt\n",
            "Metrics saved to ==> /content/drive/MyDrive/TASI/RandomSearch/ModelImbalance/metrics.pt\n",
            "Epoch [2/7], Train Loss: 0.6914, Valid Loss: 0.6777\n",
            "Model saved to ==> /content/drive/MyDrive/TASI/RandomSearch/ModelImbalance/model.pt\n",
            "Metrics saved to ==> /content/drive/MyDrive/TASI/RandomSearch/ModelImbalance/metrics.pt\n",
            "Model saved to ==> /content/drive/MyDrive/TASI/RandomSearch/ModelImbalance/model.pt\n",
            "Metrics saved to ==> /content/drive/MyDrive/TASI/RandomSearch/ModelImbalance/metrics.pt\n",
            "Epoch [4/7], Train Loss: 0.6838, Valid Loss: 0.6610\n",
            "Model saved to ==> /content/drive/MyDrive/TASI/RandomSearch/ModelImbalance/model.pt\n",
            "Metrics saved to ==> /content/drive/MyDrive/TASI/RandomSearch/ModelImbalance/metrics.pt\n",
            "Epoch [5/7], Train Loss: 0.7295, Valid Loss: 0.6773\n",
            "Epoch [6/7], Train Loss: 0.6317, Valid Loss: 0.7096\n"
          ]
        },
        {
          "output_type": "stream",
          "name": "stderr",
          "text": [
            "[I 2023-06-20 06:58:37,546] Trial 17 finished with value: 0.661032612834658 and parameters: {'lr': 2e-05, 'num_epochs': 7, 'batch_size': 32}. Best is trial 5 with value: 0.09240064836506333.\n"
          ]
        },
        {
          "output_type": "stream",
          "name": "stdout",
          "text": [
            "Epoch [7/7], Train Loss: 0.7310, Valid Loss: 0.6764\n",
            "Metrics saved to ==> /content/drive/MyDrive/TASI/RandomSearch/ModelImbalance/metrics.pt\n",
            "Finished Training!\n"
          ]
        },
        {
          "output_type": "stream",
          "name": "stderr",
          "text": [
            "Some weights of BertForSequenceClassification were not initialized from the model checkpoint at indobenchmark/indobert-base-p1 and are newly initialized: ['classifier.bias', 'classifier.weight']\n",
            "You should probably TRAIN this model on a down-stream task to be able to use it for predictions and inference.\n"
          ]
        },
        {
          "output_type": "stream",
          "name": "stdout",
          "text": [
            "Epoch [1/7], Train Loss: 0.6847, Valid Loss: 0.6841\n",
            "Model saved to ==> /content/drive/MyDrive/TASI/RandomSearch/ModelImbalance/model.pt\n",
            "Metrics saved to ==> /content/drive/MyDrive/TASI/RandomSearch/ModelImbalance/metrics.pt\n",
            "Epoch [2/7], Train Loss: 0.6975, Valid Loss: 0.6536\n",
            "Model saved to ==> /content/drive/MyDrive/TASI/RandomSearch/ModelImbalance/model.pt\n",
            "Metrics saved to ==> /content/drive/MyDrive/TASI/RandomSearch/ModelImbalance/metrics.pt\n",
            "Epoch [3/7], Train Loss: 0.6585, Valid Loss: 0.6223\n",
            "Model saved to ==> /content/drive/MyDrive/TASI/RandomSearch/ModelImbalance/model.pt\n",
            "Metrics saved to ==> /content/drive/MyDrive/TASI/RandomSearch/ModelImbalance/metrics.pt\n",
            "Epoch [4/7], Train Loss: 0.3111, Valid Loss: 0.2075\n",
            "Model saved to ==> /content/drive/MyDrive/TASI/RandomSearch/ModelImbalance/model.pt\n",
            "Metrics saved to ==> /content/drive/MyDrive/TASI/RandomSearch/ModelImbalance/metrics.pt\n",
            "Epoch [5/7], Train Loss: 0.1495, Valid Loss: 0.2031\n",
            "Model saved to ==> /content/drive/MyDrive/TASI/RandomSearch/ModelImbalance/model.pt\n",
            "Metrics saved to ==> /content/drive/MyDrive/TASI/RandomSearch/ModelImbalance/metrics.pt\n",
            "Epoch [6/7], Train Loss: 0.0827, Valid Loss: 0.2163\n",
            "Epoch [7/7], Train Loss: 0.0320, Valid Loss: 0.1902\n"
          ]
        },
        {
          "output_type": "stream",
          "name": "stderr",
          "text": [
            "[I 2023-06-20 07:01:05,534] Trial 18 finished with value: 0.19019056859958386 and parameters: {'lr': 2e-05, 'num_epochs': 7, 'batch_size': 16}. Best is trial 5 with value: 0.09240064836506333.\n"
          ]
        },
        {
          "output_type": "stream",
          "name": "stdout",
          "text": [
            "Model saved to ==> /content/drive/MyDrive/TASI/RandomSearch/ModelImbalance/model.pt\n",
            "Metrics saved to ==> /content/drive/MyDrive/TASI/RandomSearch/ModelImbalance/metrics.pt\n",
            "Metrics saved to ==> /content/drive/MyDrive/TASI/RandomSearch/ModelImbalance/metrics.pt\n",
            "Finished Training!\n"
          ]
        },
        {
          "output_type": "stream",
          "name": "stderr",
          "text": [
            "Some weights of BertForSequenceClassification were not initialized from the model checkpoint at indobenchmark/indobert-base-p1 and are newly initialized: ['classifier.bias', 'classifier.weight']\n",
            "You should probably TRAIN this model on a down-stream task to be able to use it for predictions and inference.\n"
          ]
        },
        {
          "output_type": "stream",
          "name": "stdout",
          "text": [
            "Epoch [1/10], Train Loss: 0.5352, Valid Loss: 0.3155\n",
            "Model saved to ==> /content/drive/MyDrive/TASI/RandomSearch/ModelImbalance/model.pt\n",
            "Metrics saved to ==> /content/drive/MyDrive/TASI/RandomSearch/ModelImbalance/metrics.pt\n",
            "Epoch [2/10], Train Loss: 0.2567, Valid Loss: 0.2413\n",
            "Model saved to ==> /content/drive/MyDrive/TASI/RandomSearch/ModelImbalance/model.pt\n",
            "Metrics saved to ==> /content/drive/MyDrive/TASI/RandomSearch/ModelImbalance/metrics.pt\n",
            "Epoch [3/10], Train Loss: 0.2061, Valid Loss: 0.2579\n",
            "Epoch [4/10], Train Loss: 0.1554, Valid Loss: 0.3429\n",
            "Epoch [5/10], Train Loss: 0.0787, Valid Loss: 0.2788\n",
            "Epoch [6/10], Train Loss: 0.0560, Valid Loss: 0.3782\n",
            "Epoch [7/10], Train Loss: 0.0913, Valid Loss: 0.2036\n",
            "Model saved to ==> /content/drive/MyDrive/TASI/RandomSearch/ModelImbalance/model.pt\n",
            "Metrics saved to ==> /content/drive/MyDrive/TASI/RandomSearch/ModelImbalance/metrics.pt\n",
            "Epoch [8/10], Train Loss: 0.0605, Valid Loss: 0.2323\n",
            "Epoch [9/10], Train Loss: 0.0196, Valid Loss: 0.1826\n",
            "Model saved to ==> /content/drive/MyDrive/TASI/RandomSearch/ModelImbalance/model.pt\n",
            "Metrics saved to ==> /content/drive/MyDrive/TASI/RandomSearch/ModelImbalance/metrics.pt\n"
          ]
        },
        {
          "output_type": "stream",
          "name": "stderr",
          "text": [
            "[I 2023-06-20 07:04:23,210] Trial 19 finished with value: 0.18257595416590838 and parameters: {'lr': 5e-05, 'num_epochs': 10, 'batch_size': 32}. Best is trial 5 with value: 0.09240064836506333.\n"
          ]
        },
        {
          "output_type": "stream",
          "name": "stdout",
          "text": [
            "Epoch [10/10], Train Loss: 0.0200, Valid Loss: 0.2890\n",
            "Metrics saved to ==> /content/drive/MyDrive/TASI/RandomSearch/ModelImbalance/metrics.pt\n",
            "Finished Training!\n"
          ]
        },
        {
          "output_type": "stream",
          "name": "stderr",
          "text": [
            "Some weights of BertForSequenceClassification were not initialized from the model checkpoint at indobenchmark/indobert-base-p1 and are newly initialized: ['classifier.bias', 'classifier.weight']\n",
            "You should probably TRAIN this model on a down-stream task to be able to use it for predictions and inference.\n"
          ]
        },
        {
          "output_type": "stream",
          "name": "stdout",
          "text": [
            "Epoch [1/8], Train Loss: 0.5729, Valid Loss: 0.4607\n",
            "Model saved to ==> /content/drive/MyDrive/TASI/RandomSearch/ModelImbalance/model.pt\n",
            "Metrics saved to ==> /content/drive/MyDrive/TASI/RandomSearch/ModelImbalance/metrics.pt\n",
            "Epoch [2/8], Train Loss: 0.3612, Valid Loss: 0.2791\n",
            "Model saved to ==> /content/drive/MyDrive/TASI/RandomSearch/ModelImbalance/model.pt\n",
            "Metrics saved to ==> /content/drive/MyDrive/TASI/RandomSearch/ModelImbalance/metrics.pt\n",
            "Epoch [3/8], Train Loss: 0.1926, Valid Loss: 0.1644\n",
            "Model saved to ==> /content/drive/MyDrive/TASI/RandomSearch/ModelImbalance/model.pt\n",
            "Metrics saved to ==> /content/drive/MyDrive/TASI/RandomSearch/ModelImbalance/metrics.pt\n",
            "Epoch [4/8], Train Loss: 0.1385, Valid Loss: 0.1613\n",
            "Model saved to ==> /content/drive/MyDrive/TASI/RandomSearch/ModelImbalance/model.pt\n",
            "Metrics saved to ==> /content/drive/MyDrive/TASI/RandomSearch/ModelImbalance/metrics.pt\n",
            "Epoch [5/8], Train Loss: 0.0907, Valid Loss: 0.2673\n",
            "Epoch [6/8], Train Loss: 0.0792, Valid Loss: 0.1253\n",
            "Model saved to ==> /content/drive/MyDrive/TASI/RandomSearch/ModelImbalance/model.pt\n",
            "Metrics saved to ==> /content/drive/MyDrive/TASI/RandomSearch/ModelImbalance/metrics.pt\n",
            "Epoch [7/8], Train Loss: 0.0402, Valid Loss: 0.1836\n"
          ]
        },
        {
          "output_type": "stream",
          "name": "stderr",
          "text": [
            "[I 2023-06-20 07:07:07,409] Trial 20 finished with value: 0.1253345731612561 and parameters: {'lr': 2e-05, 'num_epochs': 8, 'batch_size': 32}. Best is trial 5 with value: 0.09240064836506333.\n"
          ]
        },
        {
          "output_type": "stream",
          "name": "stdout",
          "text": [
            "Epoch [8/8], Train Loss: 0.0308, Valid Loss: 0.2878\n",
            "Metrics saved to ==> /content/drive/MyDrive/TASI/RandomSearch/ModelImbalance/metrics.pt\n",
            "Finished Training!\n"
          ]
        },
        {
          "output_type": "stream",
          "name": "stderr",
          "text": [
            "Some weights of BertForSequenceClassification were not initialized from the model checkpoint at indobenchmark/indobert-base-p1 and are newly initialized: ['classifier.bias', 'classifier.weight']\n",
            "You should probably TRAIN this model on a down-stream task to be able to use it for predictions and inference.\n"
          ]
        },
        {
          "output_type": "stream",
          "name": "stdout",
          "text": [
            "Epoch [1/6], Train Loss: 0.6566, Valid Loss: 0.6596\n",
            "Model saved to ==> /content/drive/MyDrive/TASI/RandomSearch/ModelImbalance/model.pt\n",
            "Metrics saved to ==> /content/drive/MyDrive/TASI/RandomSearch/ModelImbalance/metrics.pt\n",
            "Epoch [2/6], Train Loss: 0.5860, Valid Loss: 0.3675\n",
            "Model saved to ==> /content/drive/MyDrive/TASI/RandomSearch/ModelImbalance/model.pt\n",
            "Metrics saved to ==> /content/drive/MyDrive/TASI/RandomSearch/ModelImbalance/metrics.pt\n",
            "Epoch [3/6], Train Loss: 0.2406, Valid Loss: 0.2592\n",
            "Model saved to ==> /content/drive/MyDrive/TASI/RandomSearch/ModelImbalance/model.pt\n",
            "Metrics saved to ==> /content/drive/MyDrive/TASI/RandomSearch/ModelImbalance/metrics.pt\n",
            "Epoch [4/6], Train Loss: 0.1461, Valid Loss: 0.4847\n",
            "Epoch [5/6], Train Loss: 0.0957, Valid Loss: 0.2919\n"
          ]
        },
        {
          "output_type": "stream",
          "name": "stderr",
          "text": [
            "[I 2023-06-20 07:09:09,718] Trial 21 finished with value: 0.25917776195066317 and parameters: {'lr': 3e-05, 'num_epochs': 6, 'batch_size': 32}. Best is trial 5 with value: 0.09240064836506333.\n"
          ]
        },
        {
          "output_type": "stream",
          "name": "stdout",
          "text": [
            "Epoch [6/6], Train Loss: 0.0447, Valid Loss: 0.2721\n",
            "Metrics saved to ==> /content/drive/MyDrive/TASI/RandomSearch/ModelImbalance/metrics.pt\n",
            "Finished Training!\n"
          ]
        },
        {
          "output_type": "stream",
          "name": "stderr",
          "text": [
            "Some weights of BertForSequenceClassification were not initialized from the model checkpoint at indobenchmark/indobert-base-p1 and are newly initialized: ['classifier.bias', 'classifier.weight']\n",
            "You should probably TRAIN this model on a down-stream task to be able to use it for predictions and inference.\n"
          ]
        },
        {
          "output_type": "stream",
          "name": "stdout",
          "text": [
            "Epoch [1/7], Train Loss: 0.7009, Valid Loss: 0.6700\n",
            "Model saved to ==> /content/drive/MyDrive/TASI/RandomSearch/ModelImbalance/model.pt\n",
            "Metrics saved to ==> /content/drive/MyDrive/TASI/RandomSearch/ModelImbalance/metrics.pt\n",
            "Epoch [2/7], Train Loss: 0.6400, Valid Loss: 0.6380\n",
            "Model saved to ==> /content/drive/MyDrive/TASI/RandomSearch/ModelImbalance/model.pt\n",
            "Metrics saved to ==> /content/drive/MyDrive/TASI/RandomSearch/ModelImbalance/metrics.pt\n",
            "Epoch [3/7], Train Loss: 0.5354, Valid Loss: 0.4729\n",
            "Model saved to ==> /content/drive/MyDrive/TASI/RandomSearch/ModelImbalance/model.pt\n",
            "Metrics saved to ==> /content/drive/MyDrive/TASI/RandomSearch/ModelImbalance/metrics.pt\n",
            "Epoch [4/7], Train Loss: 0.2721, Valid Loss: 0.1935\n",
            "Model saved to ==> /content/drive/MyDrive/TASI/RandomSearch/ModelImbalance/model.pt\n",
            "Metrics saved to ==> /content/drive/MyDrive/TASI/RandomSearch/ModelImbalance/metrics.pt\n",
            "Epoch [5/7], Train Loss: 0.1400, Valid Loss: 0.2168\n",
            "Epoch [6/7], Train Loss: 0.0676, Valid Loss: 0.2080\n"
          ]
        },
        {
          "output_type": "stream",
          "name": "stderr",
          "text": [
            "[I 2023-06-20 07:11:32,422] Trial 22 finished with value: 0.19348752764718874 and parameters: {'lr': 2e-05, 'num_epochs': 7, 'batch_size': 32}. Best is trial 5 with value: 0.09240064836506333.\n"
          ]
        },
        {
          "output_type": "stream",
          "name": "stdout",
          "text": [
            "Epoch [7/7], Train Loss: 0.0347, Valid Loss: 0.2459\n",
            "Metrics saved to ==> /content/drive/MyDrive/TASI/RandomSearch/ModelImbalance/metrics.pt\n",
            "Finished Training!\n"
          ]
        },
        {
          "output_type": "stream",
          "name": "stderr",
          "text": [
            "Some weights of BertForSequenceClassification were not initialized from the model checkpoint at indobenchmark/indobert-base-p1 and are newly initialized: ['classifier.bias', 'classifier.weight']\n",
            "You should probably TRAIN this model on a down-stream task to be able to use it for predictions and inference.\n"
          ]
        },
        {
          "output_type": "stream",
          "name": "stdout",
          "text": [
            "Epoch [1/10], Train Loss: 0.6735, Valid Loss: 0.7124\n",
            "Model saved to ==> /content/drive/MyDrive/TASI/RandomSearch/ModelImbalance/model.pt\n",
            "Metrics saved to ==> /content/drive/MyDrive/TASI/RandomSearch/ModelImbalance/metrics.pt\n",
            "Epoch [2/10], Train Loss: 0.6514, Valid Loss: 0.3876\n",
            "Model saved to ==> /content/drive/MyDrive/TASI/RandomSearch/ModelImbalance/model.pt\n",
            "Metrics saved to ==> /content/drive/MyDrive/TASI/RandomSearch/ModelImbalance/metrics.pt\n",
            "Epoch [3/10], Train Loss: 0.3165, Valid Loss: 0.2892\n",
            "Model saved to ==> /content/drive/MyDrive/TASI/RandomSearch/ModelImbalance/model.pt\n",
            "Metrics saved to ==> /content/drive/MyDrive/TASI/RandomSearch/ModelImbalance/metrics.pt\n",
            "Epoch [4/10], Train Loss: 0.2834, Valid Loss: 0.2077\n",
            "Model saved to ==> /content/drive/MyDrive/TASI/RandomSearch/ModelImbalance/model.pt\n",
            "Metrics saved to ==> /content/drive/MyDrive/TASI/RandomSearch/ModelImbalance/metrics.pt\n",
            "Epoch [5/10], Train Loss: 0.1210, Valid Loss: 0.1821\n",
            "Model saved to ==> /content/drive/MyDrive/TASI/RandomSearch/ModelImbalance/model.pt\n",
            "Metrics saved to ==> /content/drive/MyDrive/TASI/RandomSearch/ModelImbalance/metrics.pt\n",
            "Epoch [6/10], Train Loss: 0.0522, Valid Loss: 0.1116\n",
            "Model saved to ==> /content/drive/MyDrive/TASI/RandomSearch/ModelImbalance/model.pt\n",
            "Metrics saved to ==> /content/drive/MyDrive/TASI/RandomSearch/ModelImbalance/metrics.pt\n",
            "Epoch [7/10], Train Loss: 0.0157, Valid Loss: 0.1928\n",
            "Epoch [8/10], Train Loss: 0.0048, Valid Loss: 0.2735\n",
            "Epoch [9/10], Train Loss: 0.0093, Valid Loss: 0.1887\n"
          ]
        },
        {
          "output_type": "stream",
          "name": "stderr",
          "text": [
            "[I 2023-06-20 07:14:51,516] Trial 23 finished with value: 0.11163186883953001 and parameters: {'lr': 5e-05, 'num_epochs': 10, 'batch_size': 32}. Best is trial 5 with value: 0.09240064836506333.\n"
          ]
        },
        {
          "output_type": "stream",
          "name": "stdout",
          "text": [
            "Epoch [10/10], Train Loss: 0.0139, Valid Loss: 0.2399\n",
            "Metrics saved to ==> /content/drive/MyDrive/TASI/RandomSearch/ModelImbalance/metrics.pt\n",
            "Finished Training!\n"
          ]
        },
        {
          "output_type": "stream",
          "name": "stderr",
          "text": [
            "Some weights of BertForSequenceClassification were not initialized from the model checkpoint at indobenchmark/indobert-base-p1 and are newly initialized: ['classifier.bias', 'classifier.weight']\n",
            "You should probably TRAIN this model on a down-stream task to be able to use it for predictions and inference.\n"
          ]
        },
        {
          "output_type": "stream",
          "name": "stdout",
          "text": [
            "Epoch [1/10], Train Loss: 0.6810, Valid Loss: 0.6840\n",
            "Model saved to ==> /content/drive/MyDrive/TASI/RandomSearch/ModelImbalance/model.pt\n",
            "Metrics saved to ==> /content/drive/MyDrive/TASI/RandomSearch/ModelImbalance/metrics.pt\n",
            "Epoch [2/10], Train Loss: 0.6959, Valid Loss: 0.6632\n",
            "Model saved to ==> /content/drive/MyDrive/TASI/RandomSearch/ModelImbalance/model.pt\n",
            "Metrics saved to ==> /content/drive/MyDrive/TASI/RandomSearch/ModelImbalance/metrics.pt\n",
            "Epoch [3/10], Train Loss: 0.5222, Valid Loss: 0.3294\n",
            "Model saved to ==> /content/drive/MyDrive/TASI/RandomSearch/ModelImbalance/model.pt\n",
            "Metrics saved to ==> /content/drive/MyDrive/TASI/RandomSearch/ModelImbalance/metrics.pt\n",
            "Epoch [4/10], Train Loss: 0.2078, Valid Loss: 0.1796\n",
            "Model saved to ==> /content/drive/MyDrive/TASI/RandomSearch/ModelImbalance/model.pt\n",
            "Metrics saved to ==> /content/drive/MyDrive/TASI/RandomSearch/ModelImbalance/metrics.pt\n",
            "Epoch [5/10], Train Loss: 0.1302, Valid Loss: 0.2478\n",
            "Epoch [6/10], Train Loss: 0.0836, Valid Loss: 0.1911\n",
            "Epoch [7/10], Train Loss: 0.0623, Valid Loss: 0.1934\n",
            "Epoch [8/10], Train Loss: 0.0207, Valid Loss: 0.2428\n",
            "Epoch [9/10], Train Loss: 0.0136, Valid Loss: 0.2824\n"
          ]
        },
        {
          "output_type": "stream",
          "name": "stderr",
          "text": [
            "[I 2023-06-20 07:18:06,530] Trial 24 finished with value: 0.1796431917298053 and parameters: {'lr': 2e-05, 'num_epochs': 10, 'batch_size': 16}. Best is trial 5 with value: 0.09240064836506333.\n"
          ]
        },
        {
          "output_type": "stream",
          "name": "stdout",
          "text": [
            "Epoch [10/10], Train Loss: 0.0213, Valid Loss: 0.3966\n",
            "Metrics saved to ==> /content/drive/MyDrive/TASI/RandomSearch/ModelImbalance/metrics.pt\n",
            "Finished Training!\n"
          ]
        },
        {
          "output_type": "stream",
          "name": "stderr",
          "text": [
            "Some weights of BertForSequenceClassification were not initialized from the model checkpoint at indobenchmark/indobert-base-p1 and are newly initialized: ['classifier.bias', 'classifier.weight']\n",
            "You should probably TRAIN this model on a down-stream task to be able to use it for predictions and inference.\n"
          ]
        },
        {
          "output_type": "stream",
          "name": "stdout",
          "text": [
            "Epoch [1/7], Train Loss: 0.6446, Valid Loss: 0.6218\n",
            "Model saved to ==> /content/drive/MyDrive/TASI/RandomSearch/ModelImbalance/model.pt\n",
            "Metrics saved to ==> /content/drive/MyDrive/TASI/RandomSearch/ModelImbalance/metrics.pt\n",
            "Epoch [2/7], Train Loss: 0.4753, Valid Loss: 0.3986\n",
            "Model saved to ==> /content/drive/MyDrive/TASI/RandomSearch/ModelImbalance/model.pt\n",
            "Metrics saved to ==> /content/drive/MyDrive/TASI/RandomSearch/ModelImbalance/metrics.pt\n",
            "Epoch [3/7], Train Loss: 0.3733, Valid Loss: 0.2731\n",
            "Model saved to ==> /content/drive/MyDrive/TASI/RandomSearch/ModelImbalance/model.pt\n",
            "Metrics saved to ==> /content/drive/MyDrive/TASI/RandomSearch/ModelImbalance/metrics.pt\n",
            "Epoch [4/7], Train Loss: 0.2147, Valid Loss: 0.2856\n",
            "Epoch [5/7], Train Loss: 0.1479, Valid Loss: 0.3953\n",
            "Epoch [6/7], Train Loss: 0.1186, Valid Loss: 0.2522\n",
            "Model saved to ==> /content/drive/MyDrive/TASI/RandomSearch/ModelImbalance/model.pt\n",
            "Metrics saved to ==> /content/drive/MyDrive/TASI/RandomSearch/ModelImbalance/metrics.pt\n",
            "Epoch [7/7], Train Loss: 0.0881, Valid Loss: 0.2158\n"
          ]
        },
        {
          "output_type": "stream",
          "name": "stderr",
          "text": [
            "[I 2023-06-20 07:20:28,365] Trial 25 finished with value: 0.21583832742180675 and parameters: {'lr': 3e-05, 'num_epochs': 7, 'batch_size': 16}. Best is trial 5 with value: 0.09240064836506333.\n"
          ]
        },
        {
          "output_type": "stream",
          "name": "stdout",
          "text": [
            "Model saved to ==> /content/drive/MyDrive/TASI/RandomSearch/ModelImbalance/model.pt\n",
            "Metrics saved to ==> /content/drive/MyDrive/TASI/RandomSearch/ModelImbalance/metrics.pt\n",
            "Metrics saved to ==> /content/drive/MyDrive/TASI/RandomSearch/ModelImbalance/metrics.pt\n",
            "Finished Training!\n"
          ]
        },
        {
          "output_type": "stream",
          "name": "stderr",
          "text": [
            "Some weights of BertForSequenceClassification were not initialized from the model checkpoint at indobenchmark/indobert-base-p1 and are newly initialized: ['classifier.bias', 'classifier.weight']\n",
            "You should probably TRAIN this model on a down-stream task to be able to use it for predictions and inference.\n"
          ]
        },
        {
          "output_type": "stream",
          "name": "stdout",
          "text": [
            "Epoch [1/8], Train Loss: 0.6300, Valid Loss: 0.5076\n",
            "Model saved to ==> /content/drive/MyDrive/TASI/RandomSearch/ModelImbalance/model.pt\n",
            "Metrics saved to ==> /content/drive/MyDrive/TASI/RandomSearch/ModelImbalance/metrics.pt\n",
            "Epoch [2/8], Train Loss: 0.2656, Valid Loss: 0.2109\n",
            "Model saved to ==> /content/drive/MyDrive/TASI/RandomSearch/ModelImbalance/model.pt\n",
            "Metrics saved to ==> /content/drive/MyDrive/TASI/RandomSearch/ModelImbalance/metrics.pt\n",
            "Epoch [3/8], Train Loss: 0.1574, Valid Loss: 0.1834\n",
            "Model saved to ==> /content/drive/MyDrive/TASI/RandomSearch/ModelImbalance/model.pt\n",
            "Metrics saved to ==> /content/drive/MyDrive/TASI/RandomSearch/ModelImbalance/metrics.pt\n",
            "Epoch [4/8], Train Loss: 0.1063, Valid Loss: 0.2057\n",
            "Epoch [5/8], Train Loss: 0.0629, Valid Loss: 0.1874\n",
            "Epoch [6/8], Train Loss: 0.0333, Valid Loss: 0.1451\n",
            "Model saved to ==> /content/drive/MyDrive/TASI/RandomSearch/ModelImbalance/model.pt\n",
            "Metrics saved to ==> /content/drive/MyDrive/TASI/RandomSearch/ModelImbalance/metrics.pt\n",
            "Epoch [7/8], Train Loss: 0.0066, Valid Loss: 0.1768\n"
          ]
        },
        {
          "output_type": "stream",
          "name": "stderr",
          "text": [
            "[I 2023-06-20 07:23:07,623] Trial 26 finished with value: 0.14514652556473656 and parameters: {'lr': 3e-05, 'num_epochs': 8, 'batch_size': 32}. Best is trial 5 with value: 0.09240064836506333.\n"
          ]
        },
        {
          "output_type": "stream",
          "name": "stdout",
          "text": [
            "Epoch [8/8], Train Loss: 0.0138, Valid Loss: 0.2064\n",
            "Metrics saved to ==> /content/drive/MyDrive/TASI/RandomSearch/ModelImbalance/metrics.pt\n",
            "Finished Training!\n"
          ]
        },
        {
          "output_type": "stream",
          "name": "stderr",
          "text": [
            "Some weights of BertForSequenceClassification were not initialized from the model checkpoint at indobenchmark/indobert-base-p1 and are newly initialized: ['classifier.bias', 'classifier.weight']\n",
            "You should probably TRAIN this model on a down-stream task to be able to use it for predictions and inference.\n"
          ]
        },
        {
          "output_type": "stream",
          "name": "stdout",
          "text": [
            "Epoch [1/10], Train Loss: 0.6839, Valid Loss: 0.6695\n",
            "Model saved to ==> /content/drive/MyDrive/TASI/RandomSearch/ModelImbalance/model.pt\n",
            "Metrics saved to ==> /content/drive/MyDrive/TASI/RandomSearch/ModelImbalance/metrics.pt\n",
            "Epoch [2/10], Train Loss: 0.6707, Valid Loss: 0.6430\n",
            "Model saved to ==> /content/drive/MyDrive/TASI/RandomSearch/ModelImbalance/model.pt\n",
            "Metrics saved to ==> /content/drive/MyDrive/TASI/RandomSearch/ModelImbalance/metrics.pt\n",
            "Epoch [3/10], Train Loss: 0.5449, Valid Loss: 0.5690\n",
            "Model saved to ==> /content/drive/MyDrive/TASI/RandomSearch/ModelImbalance/model.pt\n",
            "Metrics saved to ==> /content/drive/MyDrive/TASI/RandomSearch/ModelImbalance/metrics.pt\n",
            "Epoch [4/10], Train Loss: 0.2797, Valid Loss: 0.3531\n",
            "Model saved to ==> /content/drive/MyDrive/TASI/RandomSearch/ModelImbalance/model.pt\n",
            "Metrics saved to ==> /content/drive/MyDrive/TASI/RandomSearch/ModelImbalance/metrics.pt\n",
            "Epoch [5/10], Train Loss: 0.1882, Valid Loss: 0.2598\n",
            "Model saved to ==> /content/drive/MyDrive/TASI/RandomSearch/ModelImbalance/model.pt\n",
            "Metrics saved to ==> /content/drive/MyDrive/TASI/RandomSearch/ModelImbalance/metrics.pt\n",
            "Epoch [6/10], Train Loss: 0.1008, Valid Loss: 0.1773\n",
            "Model saved to ==> /content/drive/MyDrive/TASI/RandomSearch/ModelImbalance/model.pt\n",
            "Metrics saved to ==> /content/drive/MyDrive/TASI/RandomSearch/ModelImbalance/metrics.pt\n",
            "Epoch [7/10], Train Loss: 0.0435, Valid Loss: 0.2632\n",
            "Epoch [8/10], Train Loss: 0.0424, Valid Loss: 0.1925\n",
            "Epoch [9/10], Train Loss: 0.0170, Valid Loss: 0.2723\n"
          ]
        },
        {
          "output_type": "stream",
          "name": "stderr",
          "text": [
            "[I 2023-06-20 07:26:27,249] Trial 27 finished with value: 0.17727565050258168 and parameters: {'lr': 3e-05, 'num_epochs': 10, 'batch_size': 16}. Best is trial 5 with value: 0.09240064836506333.\n"
          ]
        },
        {
          "output_type": "stream",
          "name": "stdout",
          "text": [
            "Epoch [10/10], Train Loss: 0.0049, Valid Loss: 0.2417\n",
            "Metrics saved to ==> /content/drive/MyDrive/TASI/RandomSearch/ModelImbalance/metrics.pt\n",
            "Finished Training!\n"
          ]
        },
        {
          "output_type": "stream",
          "name": "stderr",
          "text": [
            "Some weights of BertForSequenceClassification were not initialized from the model checkpoint at indobenchmark/indobert-base-p1 and are newly initialized: ['classifier.bias', 'classifier.weight']\n",
            "You should probably TRAIN this model on a down-stream task to be able to use it for predictions and inference.\n"
          ]
        },
        {
          "output_type": "stream",
          "name": "stdout",
          "text": [
            "Epoch [1/7], Train Loss: 0.6555, Valid Loss: 0.6002\n",
            "Model saved to ==> /content/drive/MyDrive/TASI/RandomSearch/ModelImbalance/model.pt\n",
            "Metrics saved to ==> /content/drive/MyDrive/TASI/RandomSearch/ModelImbalance/metrics.pt\n",
            "Epoch [2/7], Train Loss: 0.3822, Valid Loss: 0.2495\n",
            "Model saved to ==> /content/drive/MyDrive/TASI/RandomSearch/ModelImbalance/model.pt\n",
            "Metrics saved to ==> /content/drive/MyDrive/TASI/RandomSearch/ModelImbalance/metrics.pt\n",
            "Epoch [3/7], Train Loss: 0.1663, Valid Loss: 0.1675\n",
            "Model saved to ==> /content/drive/MyDrive/TASI/RandomSearch/ModelImbalance/model.pt\n",
            "Metrics saved to ==> /content/drive/MyDrive/TASI/RandomSearch/ModelImbalance/metrics.pt\n",
            "Epoch [4/7], Train Loss: 0.0944, Valid Loss: 0.1627\n",
            "Model saved to ==> /content/drive/MyDrive/TASI/RandomSearch/ModelImbalance/model.pt\n",
            "Metrics saved to ==> /content/drive/MyDrive/TASI/RandomSearch/ModelImbalance/metrics.pt\n",
            "Epoch [5/7], Train Loss: 0.0312, Valid Loss: 0.1599\n",
            "Model saved to ==> /content/drive/MyDrive/TASI/RandomSearch/ModelImbalance/model.pt\n",
            "Metrics saved to ==> /content/drive/MyDrive/TASI/RandomSearch/ModelImbalance/metrics.pt\n",
            "Epoch [6/7], Train Loss: 0.0123, Valid Loss: 0.1634\n"
          ]
        },
        {
          "output_type": "stream",
          "name": "stderr",
          "text": [
            "[I 2023-06-20 07:28:52,423] Trial 28 finished with value: 0.1599393460367407 and parameters: {'lr': 2e-05, 'num_epochs': 7, 'batch_size': 16}. Best is trial 5 with value: 0.09240064836506333.\n"
          ]
        },
        {
          "output_type": "stream",
          "name": "stdout",
          "text": [
            "Epoch [7/7], Train Loss: 0.0102, Valid Loss: 0.3351\n",
            "Metrics saved to ==> /content/drive/MyDrive/TASI/RandomSearch/ModelImbalance/metrics.pt\n",
            "Finished Training!\n"
          ]
        },
        {
          "output_type": "stream",
          "name": "stderr",
          "text": [
            "Some weights of BertForSequenceClassification were not initialized from the model checkpoint at indobenchmark/indobert-base-p1 and are newly initialized: ['classifier.bias', 'classifier.weight']\n",
            "You should probably TRAIN this model on a down-stream task to be able to use it for predictions and inference.\n"
          ]
        },
        {
          "output_type": "stream",
          "name": "stdout",
          "text": [
            "Epoch [1/7], Train Loss: 0.5441, Valid Loss: 0.4645\n",
            "Model saved to ==> /content/drive/MyDrive/TASI/RandomSearch/ModelImbalance/model.pt\n",
            "Metrics saved to ==> /content/drive/MyDrive/TASI/RandomSearch/ModelImbalance/metrics.pt\n",
            "Epoch [2/7], Train Loss: 0.3069, Valid Loss: 0.3286\n",
            "Model saved to ==> /content/drive/MyDrive/TASI/RandomSearch/ModelImbalance/model.pt\n",
            "Metrics saved to ==> /content/drive/MyDrive/TASI/RandomSearch/ModelImbalance/metrics.pt\n",
            "Epoch [3/7], Train Loss: 0.2062, Valid Loss: 0.3946\n",
            "Epoch [4/7], Train Loss: 0.1370, Valid Loss: 0.2666\n",
            "Model saved to ==> /content/drive/MyDrive/TASI/RandomSearch/ModelImbalance/model.pt\n",
            "Metrics saved to ==> /content/drive/MyDrive/TASI/RandomSearch/ModelImbalance/metrics.pt\n",
            "Epoch [5/7], Train Loss: 0.0769, Valid Loss: 0.1229\n",
            "Model saved to ==> /content/drive/MyDrive/TASI/RandomSearch/ModelImbalance/model.pt\n",
            "Metrics saved to ==> /content/drive/MyDrive/TASI/RandomSearch/ModelImbalance/metrics.pt\n",
            "Epoch [6/7], Train Loss: 0.0498, Valid Loss: 0.1311\n"
          ]
        },
        {
          "output_type": "stream",
          "name": "stderr",
          "text": [
            "[I 2023-06-20 07:31:12,336] Trial 29 finished with value: 0.12293725888178285 and parameters: {'lr': 5e-05, 'num_epochs': 7, 'batch_size': 16}. Best is trial 5 with value: 0.09240064836506333.\n"
          ]
        },
        {
          "output_type": "stream",
          "name": "stdout",
          "text": [
            "Epoch [7/7], Train Loss: 0.0125, Valid Loss: 0.4704\n",
            "Metrics saved to ==> /content/drive/MyDrive/TASI/RandomSearch/ModelImbalance/metrics.pt\n",
            "Finished Training!\n"
          ]
        },
        {
          "output_type": "stream",
          "name": "stderr",
          "text": [
            "Some weights of BertForSequenceClassification were not initialized from the model checkpoint at indobenchmark/indobert-base-p1 and are newly initialized: ['classifier.bias', 'classifier.weight']\n",
            "You should probably TRAIN this model on a down-stream task to be able to use it for predictions and inference.\n"
          ]
        },
        {
          "output_type": "stream",
          "name": "stdout",
          "text": [
            "Epoch [1/8], Train Loss: 0.6244, Valid Loss: 0.4992\n",
            "Model saved to ==> /content/drive/MyDrive/TASI/RandomSearch/ModelImbalance/model.pt\n",
            "Metrics saved to ==> /content/drive/MyDrive/TASI/RandomSearch/ModelImbalance/metrics.pt\n",
            "Epoch [2/8], Train Loss: 0.2814, Valid Loss: 0.2418\n",
            "Model saved to ==> /content/drive/MyDrive/TASI/RandomSearch/ModelImbalance/model.pt\n",
            "Metrics saved to ==> /content/drive/MyDrive/TASI/RandomSearch/ModelImbalance/metrics.pt\n",
            "Epoch [3/8], Train Loss: 0.1348, Valid Loss: 0.1427\n",
            "Model saved to ==> /content/drive/MyDrive/TASI/RandomSearch/ModelImbalance/model.pt\n",
            "Metrics saved to ==> /content/drive/MyDrive/TASI/RandomSearch/ModelImbalance/metrics.pt\n",
            "Epoch [4/8], Train Loss: 0.1059, Valid Loss: 0.1900\n",
            "Epoch [5/8], Train Loss: 0.0533, Valid Loss: 0.2813\n",
            "Epoch [6/8], Train Loss: 0.0441, Valid Loss: 0.1985\n",
            "Epoch [7/8], Train Loss: 0.0208, Valid Loss: 0.1440\n"
          ]
        },
        {
          "output_type": "stream",
          "name": "stderr",
          "text": [
            "[I 2023-06-20 07:33:48,696] Trial 30 finished with value: 0.14265901196215833 and parameters: {'lr': 3e-05, 'num_epochs': 8, 'batch_size': 32}. Best is trial 5 with value: 0.09240064836506333.\n"
          ]
        },
        {
          "output_type": "stream",
          "name": "stdout",
          "text": [
            "Epoch [8/8], Train Loss: 0.0122, Valid Loss: 0.3503\n",
            "Metrics saved to ==> /content/drive/MyDrive/TASI/RandomSearch/ModelImbalance/metrics.pt\n",
            "Finished Training!\n"
          ]
        },
        {
          "output_type": "stream",
          "name": "stderr",
          "text": [
            "Some weights of BertForSequenceClassification were not initialized from the model checkpoint at indobenchmark/indobert-base-p1 and are newly initialized: ['classifier.bias', 'classifier.weight']\n",
            "You should probably TRAIN this model on a down-stream task to be able to use it for predictions and inference.\n"
          ]
        },
        {
          "output_type": "stream",
          "name": "stdout",
          "text": [
            "Epoch [1/7], Train Loss: 0.6612, Valid Loss: 0.6981\n",
            "Model saved to ==> /content/drive/MyDrive/TASI/RandomSearch/ModelImbalance/model.pt\n",
            "Metrics saved to ==> /content/drive/MyDrive/TASI/RandomSearch/ModelImbalance/metrics.pt\n",
            "Epoch [2/7], Train Loss: 0.7082, Valid Loss: 0.5906\n",
            "Model saved to ==> /content/drive/MyDrive/TASI/RandomSearch/ModelImbalance/model.pt\n",
            "Metrics saved to ==> /content/drive/MyDrive/TASI/RandomSearch/ModelImbalance/metrics.pt\n",
            "Epoch [3/7], Train Loss: 0.4041, Valid Loss: 0.4567\n",
            "Model saved to ==> /content/drive/MyDrive/TASI/RandomSearch/ModelImbalance/model.pt\n",
            "Metrics saved to ==> /content/drive/MyDrive/TASI/RandomSearch/ModelImbalance/metrics.pt\n",
            "Epoch [4/7], Train Loss: 0.1958, Valid Loss: 0.3480\n",
            "Model saved to ==> /content/drive/MyDrive/TASI/RandomSearch/ModelImbalance/model.pt\n",
            "Metrics saved to ==> /content/drive/MyDrive/TASI/RandomSearch/ModelImbalance/metrics.pt\n",
            "Epoch [5/7], Train Loss: 0.0998, Valid Loss: 0.3431\n",
            "Model saved to ==> /content/drive/MyDrive/TASI/RandomSearch/ModelImbalance/model.pt\n",
            "Metrics saved to ==> /content/drive/MyDrive/TASI/RandomSearch/ModelImbalance/metrics.pt\n",
            "Epoch [6/7], Train Loss: 0.0730, Valid Loss: 0.2315\n",
            "Model saved to ==> /content/drive/MyDrive/TASI/RandomSearch/ModelImbalance/model.pt\n",
            "Metrics saved to ==> /content/drive/MyDrive/TASI/RandomSearch/ModelImbalance/metrics.pt\n"
          ]
        },
        {
          "output_type": "stream",
          "name": "stderr",
          "text": [
            "[I 2023-06-20 07:36:16,234] Trial 31 finished with value: 0.23145939928612538 and parameters: {'lr': 2e-05, 'num_epochs': 7, 'batch_size': 32}. Best is trial 5 with value: 0.09240064836506333.\n"
          ]
        },
        {
          "output_type": "stream",
          "name": "stdout",
          "text": [
            "Epoch [7/7], Train Loss: 0.0643, Valid Loss: 0.3241\n",
            "Metrics saved to ==> /content/drive/MyDrive/TASI/RandomSearch/ModelImbalance/metrics.pt\n",
            "Finished Training!\n"
          ]
        },
        {
          "output_type": "stream",
          "name": "stderr",
          "text": [
            "Some weights of BertForSequenceClassification were not initialized from the model checkpoint at indobenchmark/indobert-base-p1 and are newly initialized: ['classifier.bias', 'classifier.weight']\n",
            "You should probably TRAIN this model on a down-stream task to be able to use it for predictions and inference.\n"
          ]
        },
        {
          "output_type": "stream",
          "name": "stdout",
          "text": [
            "Epoch [1/8], Train Loss: 0.6618, Valid Loss: 0.5700\n",
            "Model saved to ==> /content/drive/MyDrive/TASI/RandomSearch/ModelImbalance/model.pt\n",
            "Metrics saved to ==> /content/drive/MyDrive/TASI/RandomSearch/ModelImbalance/metrics.pt\n",
            "Epoch [2/8], Train Loss: 0.5289, Valid Loss: 0.5417\n",
            "Model saved to ==> /content/drive/MyDrive/TASI/RandomSearch/ModelImbalance/model.pt\n",
            "Metrics saved to ==> /content/drive/MyDrive/TASI/RandomSearch/ModelImbalance/metrics.pt\n",
            "Epoch [3/8], Train Loss: 0.1950, Valid Loss: 0.2146\n",
            "Model saved to ==> /content/drive/MyDrive/TASI/RandomSearch/ModelImbalance/model.pt\n",
            "Metrics saved to ==> /content/drive/MyDrive/TASI/RandomSearch/ModelImbalance/metrics.pt\n",
            "Epoch [4/8], Train Loss: 0.1555, Valid Loss: 0.2812\n",
            "Epoch [5/8], Train Loss: 0.1112, Valid Loss: 0.1958\n",
            "Model saved to ==> /content/drive/MyDrive/TASI/RandomSearch/ModelImbalance/model.pt\n",
            "Metrics saved to ==> /content/drive/MyDrive/TASI/RandomSearch/ModelImbalance/metrics.pt\n",
            "Epoch [6/8], Train Loss: 0.0405, Valid Loss: 0.1553\n",
            "Model saved to ==> /content/drive/MyDrive/TASI/RandomSearch/ModelImbalance/model.pt\n",
            "Metrics saved to ==> /content/drive/MyDrive/TASI/RandomSearch/ModelImbalance/metrics.pt\n",
            "Epoch [7/8], Train Loss: 0.0177, Valid Loss: 0.2398\n"
          ]
        },
        {
          "output_type": "stream",
          "name": "stderr",
          "text": [
            "[I 2023-06-20 07:38:56,923] Trial 32 finished with value: 0.15528956418191747 and parameters: {'lr': 2e-05, 'num_epochs': 8, 'batch_size': 16}. Best is trial 5 with value: 0.09240064836506333.\n"
          ]
        },
        {
          "output_type": "stream",
          "name": "stdout",
          "text": [
            "Epoch [8/8], Train Loss: 0.0110, Valid Loss: 0.3355\n",
            "Metrics saved to ==> /content/drive/MyDrive/TASI/RandomSearch/ModelImbalance/metrics.pt\n",
            "Finished Training!\n"
          ]
        },
        {
          "output_type": "stream",
          "name": "stderr",
          "text": [
            "Some weights of BertForSequenceClassification were not initialized from the model checkpoint at indobenchmark/indobert-base-p1 and are newly initialized: ['classifier.bias', 'classifier.weight']\n",
            "You should probably TRAIN this model on a down-stream task to be able to use it for predictions and inference.\n"
          ]
        },
        {
          "output_type": "stream",
          "name": "stdout",
          "text": [
            "Epoch [1/5], Train Loss: 0.6648, Valid Loss: 0.6325\n",
            "Model saved to ==> /content/drive/MyDrive/TASI/RandomSearch/ModelImbalance/model.pt\n",
            "Metrics saved to ==> /content/drive/MyDrive/TASI/RandomSearch/ModelImbalance/metrics.pt\n",
            "Epoch [2/5], Train Loss: 0.4858, Valid Loss: 0.4012\n",
            "Model saved to ==> /content/drive/MyDrive/TASI/RandomSearch/ModelImbalance/model.pt\n",
            "Metrics saved to ==> /content/drive/MyDrive/TASI/RandomSearch/ModelImbalance/metrics.pt\n",
            "Epoch [3/5], Train Loss: 0.2535, Valid Loss: 0.2183\n",
            "Model saved to ==> /content/drive/MyDrive/TASI/RandomSearch/ModelImbalance/model.pt\n",
            "Metrics saved to ==> /content/drive/MyDrive/TASI/RandomSearch/ModelImbalance/metrics.pt\n",
            "Epoch [4/5], Train Loss: 0.1882, Valid Loss: 0.3296\n"
          ]
        },
        {
          "output_type": "stream",
          "name": "stderr",
          "text": [
            "[I 2023-06-20 07:40:38,106] Trial 33 finished with value: 0.21825867452259576 and parameters: {'lr': 3e-05, 'num_epochs': 5, 'batch_size': 32}. Best is trial 5 with value: 0.09240064836506333.\n"
          ]
        },
        {
          "output_type": "stream",
          "name": "stdout",
          "text": [
            "Epoch [5/5], Train Loss: 0.1503, Valid Loss: 0.2537\n",
            "Metrics saved to ==> /content/drive/MyDrive/TASI/RandomSearch/ModelImbalance/metrics.pt\n",
            "Finished Training!\n"
          ]
        },
        {
          "output_type": "stream",
          "name": "stderr",
          "text": [
            "Some weights of BertForSequenceClassification were not initialized from the model checkpoint at indobenchmark/indobert-base-p1 and are newly initialized: ['classifier.bias', 'classifier.weight']\n",
            "You should probably TRAIN this model on a down-stream task to be able to use it for predictions and inference.\n"
          ]
        },
        {
          "output_type": "stream",
          "name": "stdout",
          "text": [
            "Epoch [1/6], Train Loss: 0.6307, Valid Loss: 0.5031\n",
            "Model saved to ==> /content/drive/MyDrive/TASI/RandomSearch/ModelImbalance/model.pt\n",
            "Metrics saved to ==> /content/drive/MyDrive/TASI/RandomSearch/ModelImbalance/metrics.pt\n",
            "Epoch [2/6], Train Loss: 0.3294, Valid Loss: 0.2316\n",
            "Model saved to ==> /content/drive/MyDrive/TASI/RandomSearch/ModelImbalance/model.pt\n",
            "Metrics saved to ==> /content/drive/MyDrive/TASI/RandomSearch/ModelImbalance/metrics.pt\n",
            "Epoch [3/6], Train Loss: 0.1577, Valid Loss: 0.2367\n",
            "Epoch [4/6], Train Loss: 0.1120, Valid Loss: 0.1628\n",
            "Model saved to ==> /content/drive/MyDrive/TASI/RandomSearch/ModelImbalance/model.pt\n",
            "Metrics saved to ==> /content/drive/MyDrive/TASI/RandomSearch/ModelImbalance/metrics.pt\n",
            "Epoch [5/6], Train Loss: 0.0813, Valid Loss: 0.3172\n"
          ]
        },
        {
          "output_type": "stream",
          "name": "stderr",
          "text": [
            "[I 2023-06-20 07:42:38,336] Trial 34 finished with value: 0.16284660614162152 and parameters: {'lr': 5e-05, 'num_epochs': 6, 'batch_size': 16}. Best is trial 5 with value: 0.09240064836506333.\n"
          ]
        },
        {
          "output_type": "stream",
          "name": "stdout",
          "text": [
            "Epoch [6/6], Train Loss: 0.0425, Valid Loss: 0.5290\n",
            "Metrics saved to ==> /content/drive/MyDrive/TASI/RandomSearch/ModelImbalance/metrics.pt\n",
            "Finished Training!\n"
          ]
        },
        {
          "output_type": "stream",
          "name": "stderr",
          "text": [
            "Some weights of BertForSequenceClassification were not initialized from the model checkpoint at indobenchmark/indobert-base-p1 and are newly initialized: ['classifier.bias', 'classifier.weight']\n",
            "You should probably TRAIN this model on a down-stream task to be able to use it for predictions and inference.\n"
          ]
        },
        {
          "output_type": "stream",
          "name": "stdout",
          "text": [
            "Epoch [1/7], Train Loss: 0.6672, Valid Loss: 0.7102\n",
            "Model saved to ==> /content/drive/MyDrive/TASI/RandomSearch/ModelImbalance/model.pt\n",
            "Metrics saved to ==> /content/drive/MyDrive/TASI/RandomSearch/ModelImbalance/metrics.pt\n",
            "Epoch [2/7], Train Loss: 0.6908, Valid Loss: 0.6417\n",
            "Model saved to ==> /content/drive/MyDrive/TASI/RandomSearch/ModelImbalance/model.pt\n",
            "Metrics saved to ==> /content/drive/MyDrive/TASI/RandomSearch/ModelImbalance/metrics.pt\n",
            "Epoch [3/7], Train Loss: 0.6700, Valid Loss: 0.6830\n",
            "Epoch [4/7], Train Loss: 0.3441, Valid Loss: 0.2889\n",
            "Model saved to ==> /content/drive/MyDrive/TASI/RandomSearch/ModelImbalance/model.pt\n",
            "Metrics saved to ==> /content/drive/MyDrive/TASI/RandomSearch/ModelImbalance/metrics.pt\n",
            "Epoch [5/7], Train Loss: 0.1817, Valid Loss: 0.3398\n",
            "Epoch [6/7], Train Loss: 0.0989, Valid Loss: 0.2315\n",
            "Model saved to ==> /content/drive/MyDrive/TASI/RandomSearch/ModelImbalance/model.pt\n",
            "Metrics saved to ==> /content/drive/MyDrive/TASI/RandomSearch/ModelImbalance/metrics.pt\n",
            "Epoch [7/7], Train Loss: 0.0530, Valid Loss: 0.1878\n"
          ]
        },
        {
          "output_type": "stream",
          "name": "stderr",
          "text": [
            "[I 2023-06-20 07:45:06,189] Trial 35 finished with value: 0.18775034602731466 and parameters: {'lr': 2e-05, 'num_epochs': 7, 'batch_size': 32}. Best is trial 5 with value: 0.09240064836506333.\n"
          ]
        },
        {
          "output_type": "stream",
          "name": "stdout",
          "text": [
            "Model saved to ==> /content/drive/MyDrive/TASI/RandomSearch/ModelImbalance/model.pt\n",
            "Metrics saved to ==> /content/drive/MyDrive/TASI/RandomSearch/ModelImbalance/metrics.pt\n",
            "Metrics saved to ==> /content/drive/MyDrive/TASI/RandomSearch/ModelImbalance/metrics.pt\n",
            "Finished Training!\n",
            "Best model: lr=2e-05, num_epochs=9, batch_size=32\n",
            "Best valid loss: 0.16910329081916384\n"
          ]
        }
      ],
      "source": [
        "import optuna\n",
        "\n",
        "# Define an objective function to optimize hyperparameters\n",
        "def objective(trial):\n",
        "    # Sample hyperparameters\n",
        "    lr = trial.suggest_categorical('lr', [2e-5, 3e-5, 5e-5])\n",
        "    num_epochs = trial.suggest_categorical('num_epochs', [5, 6, 7, 8, 9, 10])\n",
        "    batch_size = trial.suggest_categorical('batch_size', [16, 32])\n",
        "\n",
        "    # Define model, optimizer, and criterion\n",
        "    model = BERT().to(device)\n",
        "    optimizer = optim.Adam(model.parameters(), lr=lr)\n",
        "    criterion = nn.BCELoss()\n",
        "\n",
        "    # Train model\n",
        "    train_loss_list, valid_loss_list, epoch_list, best_valid_loss = train(model=model,\n",
        "                                                                          optimizer=optimizer,\n",
        "                                                                          criterion=criterion,\n",
        "                                                                          train_loader=train_iter,\n",
        "                                                                          valid_loader=valid_iter,\n",
        "                                                                          num_epochs=num_epochs,\n",
        "                                                                          eval_every=1,\n",
        "                                                                          file_path=destination_folder)\n",
        "\n",
        "    # Save results\n",
        "    key = f'lr={lr}, num_epochs={num_epochs}, batch_size={batch_size}'\n",
        "    results[key] = {\n",
        "        'train_loss': train_loss_list[-1],\n",
        "        'valid_loss': valid_loss_list,\n",
        "        'epoch_list': epoch_list,\n",
        "        'best_valid_loss': best_valid_loss,\n",
        "        'lr': lr,\n",
        "        'num_epochs': num_epochs,\n",
        "        'batch_size': batch_size,\n",
        "    }\n",
        "\n",
        "    # Save model if best\n",
        "    if best_valid_loss < results.get('best_valid_loss', float('inf')):\n",
        "        results['best_valid_loss'] = best_valid_loss\n",
        "        results['best_model'] = key\n",
        "        torch.save(model.state_dict(), f'{destination_folder}/model_{key}.pt')\n",
        "\n",
        "    return best_valid_loss\n",
        "\n",
        "# Set up Optuna study with RandomSampler\n",
        "sampler = optuna.samplers.RandomSampler(seed=seed)\n",
        "study = optuna.create_study(direction='minimize', sampler=sampler)\n",
        "\n",
        "# Run optimization\n",
        "results = {}\n",
        "study.optimize(objective, n_trials=36)\n",
        "\n",
        "# Print best model and hyperparameters\n",
        "best_model = results['best_model']\n",
        "best_hyperparams = results[best_model]\n",
        "print('Best model:', best_model)\n",
        "print('Best valid loss:', best_hyperparams['best_valid_loss'])"
      ]
    },
    {
      "cell_type": "code",
      "execution_count": 19,
      "metadata": {
        "id": "iyknvLHm-0Iv",
        "colab": {
          "base_uri": "https://localhost:8080/",
          "height": 466
        },
        "outputId": "ea1b56bc-1a6d-42ca-f48f-47508b5b1588"
      },
      "outputs": [
        {
          "output_type": "stream",
          "name": "stdout",
          "text": [
            "Metrics loaded from <== /content/drive/MyDrive/TASI/RandomSearch/ModelImbalance/metrics.pt\n"
          ]
        },
        {
          "output_type": "display_data",
          "data": {
            "text/plain": [
              "<Figure size 640x480 with 1 Axes>"
            ],
            "image/png": "[encoded data removed]"
          },
          "metadata": {}
        }
      ],
      "source": [
        "train_loss_list, valid_loss_list, epoch_list = load_metrics(destination_folder + '/metrics.pt')\n",
        "plt.plot(epoch_list, train_loss_list, label='Train')\n",
        "plt.plot(epoch_list, valid_loss_list, label='Valid')\n",
        "plt.xlabel('Epochs')\n",
        "plt.ylabel('Loss')\n",
        "plt.legend()\n",
        "plt.show()"
      ]
    },
    {
      "cell_type": "code",
      "execution_count": 20,
      "metadata": {
        "id": "HEjtkI8OMTE6",
        "colab": {
          "base_uri": "https://localhost:8080/",
          "height": 614
        },
        "outputId": "016e3bc9-378d-4b73-c3e5-679b76d61080"
      },
      "outputs": [
        {
          "output_type": "stream",
          "name": "stderr",
          "text": [
            "Some weights of BertForSequenceClassification were not initialized from the model checkpoint at indobenchmark/indobert-base-p1 and are newly initialized: ['classifier.bias', 'classifier.weight']\n",
            "You should probably TRAIN this model on a down-stream task to be able to use it for predictions and inference.\n"
          ]
        },
        {
          "output_type": "stream",
          "name": "stdout",
          "text": [
            "Model loaded from <== /content/drive/MyDrive/TASI/RandomSearch/ModelImbalance/model.pt\n",
            "Classification Report:\n",
            "Real - Precision: 0.8547, Recall: 0.9174, F1-Score: 0.8850\n",
            "Fake - Precision: 0.9587, Recall: 0.9248, F1-Score: 0.9414\n",
            "Accuracy: 0.9223880597014925\n"
          ]
        },
        {
          "output_type": "display_data",
          "data": {
            "text/plain": [
              "<Figure size 640x480 with 2 Axes>"
            ],
            "image/png": "[encoded data removed]"
          },
          "metadata": {}
        }
      ],
      "source": [
        "from sklearn.metrics import classification_report, accuracy_score, confusion_matrix\n",
        "import numpy as np\n",
        "import seaborn as sns\n",
        "import matplotlib.pyplot as plt\n",
        "\n",
        "def evaluate(model, test_loader):\n",
        "    y_pred = []\n",
        "    y_true = []\n",
        "\n",
        "    model.eval()\n",
        "    with torch.no_grad():\n",
        "        for (labels, title, text), _ in test_loader:\n",
        "            labels = labels.type(torch.LongTensor)\n",
        "            labels = labels.to(device)\n",
        "            text = text.type(torch.LongTensor)\n",
        "            text = text.to(device)\n",
        "            output = model(text, labels)\n",
        "\n",
        "            _, output = output\n",
        "            y_pred.extend(torch.argmax(output, 1).tolist())\n",
        "            y_true.extend(labels.tolist())\n",
        "\n",
        "    # Mengganti label 1 menjadi \"real\" dan label 0 menjadi \"fake\"\n",
        "    y_true = np.where(np.array(y_true) == 1, \"real\", \"fake\")\n",
        "    y_pred = np.where(np.array(y_pred) == 1, \"real\", \"fake\")\n",
        "\n",
        "    # Menghitung dan mencetak hasil precision, recall, f1-score, dan accuracy\n",
        "    report = classification_report(y_true, y_pred, labels=[\"real\", \"fake\"], digits=4, output_dict=True)\n",
        "    print('Classification Report:')\n",
        "    for label, scores in report.items():\n",
        "        if label in [\"real\", \"fake\"]:\n",
        "            precision = scores['precision']\n",
        "            recall = scores['recall']\n",
        "            f1_score = scores['f1-score']\n",
        "            print(f\"{label.capitalize()} - Precision: {precision:.4f}, Recall: {recall:.4f}, F1-Score: {f1_score:.4f}\")\n",
        "    accuracy = accuracy_score(y_true, y_pred)\n",
        "    print(f'Accuracy: {accuracy}')\n",
        "\n",
        "    # Menghitung dan mencetak confusion matrix\n",
        "    cm = confusion_matrix(y_true, y_pred, labels=[\"real\", \"fake\"])\n",
        "    ax = plt.subplot()\n",
        "    sns.heatmap(cm, annot=True, ax=ax, cmap='Blues', fmt=\"d\")\n",
        "    ax.set_title('Confusion Matrix')\n",
        "    ax.set_xlabel('Predicted Labels')\n",
        "    ax.set_ylabel('True Labels')\n",
        "    ax.xaxis.set_ticklabels(['Real', 'Fake'])\n",
        "    ax.yaxis.set_ticklabels(['Real', 'Fake'])\n",
        "    plt.show()\n",
        "\n",
        "best_model = BERT().to(device)\n",
        "\n",
        "load_checkpoint(destination_folder + '/model.pt', best_model)\n",
        "\n",
        "evaluate(best_model, test_iter)"
      ]
    },
    {
      "cell_type": "code",
      "execution_count": 20,
      "metadata": {
        "id": "XWrnHdKFe3Kj"
      },
      "outputs": [],
      "source": []
    }
  ],
  "metadata": {
    "accelerator": "GPU",
    "colab": {
      "provenance": []
    },
    "gpuClass": "standard",
    "kernelspec": {
      "display_name": "Python 3",
      "name": "python3"
    },
    "widgets": {
      "application/vnd.jupyter.widget-state+json": {
        "b9a3c991a21240dfb2e1b21f8659dbed": {
          "model_module": "@jupyter-widgets/controls",
          "model_name": "HBoxModel",
          "model_module_version": "1.5.0",
          "state": {
            "_dom_classes": [],
            "_model_module": "@jupyter-widgets/controls",
            "_model_module_version": "1.5.0",
            "_model_name": "HBoxModel",
            "_view_count": null,
            "_view_module": "@jupyter-widgets/controls",
            "_view_module_version": "1.5.0",
            "_view_name": "HBoxView",
            "box_style": "",
            "children": [
              "IPY_MODEL_8e2932770f434d23ac1a5a9f53cf5f4b",
              "IPY_MODEL_27d7a7c9bde2486893431d3f0c111c47",
              "IPY_MODEL_841ed4261a1543cf903e1df5fe2b7e1d"
            ],
            "layout": "IPY_MODEL_620d2c82607c4f3cbb2751a884002cc2"
          }
        },
        "8e2932770f434d23ac1a5a9f53cf5f4b": {
          "model_module": "@jupyter-widgets/controls",
          "model_name": "HTMLModel",
          "model_module_version": "1.5.0",
          "state": {
            "_dom_classes": [],
            "_model_module": "@jupyter-widgets/controls",
            "_model_module_version": "1.5.0",
            "_model_name": "HTMLModel",
            "_view_count": null,
            "_view_module": "@jupyter-widgets/controls",
            "_view_module_version": "1.5.0",
            "_view_name": "HTMLView",
            "description": "",
            "description_tooltip": null,
            "layout": "IPY_MODEL_be9c778dfc624a7ab304abfbf75029fc",
            "placeholder": "​",
            "style": "IPY_MODEL_1ea857fa9bb7401885615a1d6fe209a9",
            "value": "Downloading (…)solve/main/vocab.txt: 100%"
          }
        },
        "27d7a7c9bde2486893431d3f0c111c47": {
          "model_module": "@jupyter-widgets/controls",
          "model_name": "FloatProgressModel",
          "model_module_version": "1.5.0",
          "state": {
            "_dom_classes": [],
            "_model_module": "@jupyter-widgets/controls",
            "_model_module_version": "1.5.0",
            "_model_name": "FloatProgressModel",
            "_view_count": null,
            "_view_module": "@jupyter-widgets/controls",
            "_view_module_version": "1.5.0",
            "_view_name": "ProgressView",
            "bar_style": "success",
            "description": "",
            "description_tooltip": null,
            "layout": "IPY_MODEL_94257ffc4fa542bc8830f1697844137e",
            "max": 229167,
            "min": 0,
            "orientation": "horizontal",
            "style": "IPY_MODEL_faa2d6c8642d47ecbe2bfafede9070f2",
            "value": 229167
          }
        },
        "841ed4261a1543cf903e1df5fe2b7e1d": {
          "model_module": "@jupyter-widgets/controls",
          "model_name": "HTMLModel",
          "model_module_version": "1.5.0",
          "state": {
            "_dom_classes": [],
            "_model_module": "@jupyter-widgets/controls",
            "_model_module_version": "1.5.0",
            "_model_name": "HTMLModel",
            "_view_count": null,
            "_view_module": "@jupyter-widgets/controls",
            "_view_module_version": "1.5.0",
            "_view_name": "HTMLView",
            "description": "",
            "description_tooltip": null,
            "layout": "IPY_MODEL_8592dd6ea3114791b077d15fb580eeaa",
            "placeholder": "​",
            "style": "IPY_MODEL_87252d459ba8423c929b017a37dc1b3d",
            "value": " 229k/229k [00:00&lt;00:00, 1.09MB/s]"
          }
        },
        "620d2c82607c4f3cbb2751a884002cc2": {
          "model_module": "@jupyter-widgets/base",
          "model_name": "LayoutModel",
          "model_module_version": "1.2.0",
          "state": {
            "_model_module": "@jupyter-widgets/base",
            "_model_module_version": "1.2.0",
            "_model_name": "LayoutModel",
            "_view_count": null,
            "_view_module": "@jupyter-widgets/base",
            "_view_module_version": "1.2.0",
            "_view_name": "LayoutView",
            "align_content": null,
            "align_items": null,
            "align_self": null,
            "border": null,
            "bottom": null,
            "display": null,
            "flex": null,
            "flex_flow": null,
            "grid_area": null,
            "grid_auto_columns": null,
            "grid_auto_flow": null,
            "grid_auto_rows": null,
            "grid_column": null,
            "grid_gap": null,
            "grid_row": null,
            "grid_template_areas": null,
            "grid_template_columns": null,
            "grid_template_rows": null,
            "height": null,
            "justify_content": null,
            "justify_items": null,
            "left": null,
            "margin": null,
            "max_height": null,
            "max_width": null,
            "min_height": null,
            "min_width": null,
            "object_fit": null,
            "object_position": null,
            "order": null,
            "overflow": null,
            "overflow_x": null,
            "overflow_y": null,
            "padding": null,
            "right": null,
            "top": null,
            "visibility": null,
            "width": null
          }
        },
        "be9c778dfc624a7ab304abfbf75029fc": {
          "model_module": "@jupyter-widgets/base",
          "model_name": "LayoutModel",
          "model_module_version": "1.2.0",
          "state": {
            "_model_module": "@jupyter-widgets/base",
            "_model_module_version": "1.2.0",
            "_model_name": "LayoutModel",
            "_view_count": null,
            "_view_module": "@jupyter-widgets/base",
            "_view_module_version": "1.2.0",
            "_view_name": "LayoutView",
            "align_content": null,
            "align_items": null,
            "align_self": null,
            "border": null,
            "bottom": null,
            "display": null,
            "flex": null,
            "flex_flow": null,
            "grid_area": null,
            "grid_auto_columns": null,
            "grid_auto_flow": null,
            "grid_auto_rows": null,
            "grid_column": null,
            "grid_gap": null,
            "grid_row": null,
            "grid_template_areas": null,
            "grid_template_columns": null,
            "grid_template_rows": null,
            "height": null,
            "justify_content": null,
            "justify_items": null,
            "left": null,
            "margin": null,
            "max_height": null,
            "max_width": null,
            "min_height": null,
            "min_width": null,
            "object_fit": null,
            "object_position": null,
            "order": null,
            "overflow": null,
            "overflow_x": null,
            "overflow_y": null,
            "padding": null,
            "right": null,
            "top": null,
            "visibility": null,
            "width": null
          }
        },
        "1ea857fa9bb7401885615a1d6fe209a9": {
          "model_module": "@jupyter-widgets/controls",
          "model_name": "DescriptionStyleModel",
          "model_module_version": "1.5.0",
          "state": {
            "_model_module": "@jupyter-widgets/controls",
            "_model_module_version": "1.5.0",
            "_model_name": "DescriptionStyleModel",
            "_view_count": null,
            "_view_module": "@jupyter-widgets/base",
            "_view_module_version": "1.2.0",
            "_view_name": "StyleView",
            "description_width": ""
          }
        },
        "94257ffc4fa542bc8830f1697844137e": {
          "model_module": "@jupyter-widgets/base",
          "model_name": "LayoutModel",
          "model_module_version": "1.2.0",
          "state": {
            "_model_module": "@jupyter-widgets/base",
            "_model_module_version": "1.2.0",
            "_model_name": "LayoutModel",
            "_view_count": null,
            "_view_module": "@jupyter-widgets/base",
            "_view_module_version": "1.2.0",
            "_view_name": "LayoutView",
            "align_content": null,
            "align_items": null,
            "align_self": null,
            "border": null,
            "bottom": null,
            "display": null,
            "flex": null,
            "flex_flow": null,
            "grid_area": null,
            "grid_auto_columns": null,
            "grid_auto_flow": null,
            "grid_auto_rows": null,
            "grid_column": null,
            "grid_gap": null,
            "grid_row": null,
            "grid_template_areas": null,
            "grid_template_columns": null,
            "grid_template_rows": null,
            "height": null,
            "justify_content": null,
            "justify_items": null,
            "left": null,
            "margin": null,
            "max_height": null,
            "max_width": null,
            "min_height": null,
            "min_width": null,
            "object_fit": null,
            "object_position": null,
            "order": null,
            "overflow": null,
            "overflow_x": null,
            "overflow_y": null,
            "padding": null,
            "right": null,
            "top": null,
            "visibility": null,
            "width": null
          }
        },
        "faa2d6c8642d47ecbe2bfafede9070f2": {
          "model_module": "@jupyter-widgets/controls",
          "model_name": "ProgressStyleModel",
          "model_module_version": "1.5.0",
          "state": {
            "_model_module": "@jupyter-widgets/controls",
            "_model_module_version": "1.5.0",
            "_model_name": "ProgressStyleModel",
            "_view_count": null,
            "_view_module": "@jupyter-widgets/base",
            "_view_module_version": "1.2.0",
            "_view_name": "StyleView",
            "bar_color": null,
            "description_width": ""
          }
        },
        "8592dd6ea3114791b077d15fb580eeaa": {
          "model_module": "@jupyter-widgets/base",
          "model_name": "LayoutModel",
          "model_module_version": "1.2.0",
          "state": {
            "_model_module": "@jupyter-widgets/base",
            "_model_module_version": "1.2.0",
            "_model_name": "LayoutModel",
            "_view_count": null,
            "_view_module": "@jupyter-widgets/base",
            "_view_module_version": "1.2.0",
            "_view_name": "LayoutView",
            "align_content": null,
            "align_items": null,
            "align_self": null,
            "border": null,
            "bottom": null,
            "display": null,
            "flex": null,
            "flex_flow": null,
            "grid_area": null,
            "grid_auto_columns": null,
            "grid_auto_flow": null,
            "grid_auto_rows": null,
            "grid_column": null,
            "grid_gap": null,
            "grid_row": null,
            "grid_template_areas": null,
            "grid_template_columns": null,
            "grid_template_rows": null,
            "height": null,
            "justify_content": null,
            "justify_items": null,
            "left": null,
            "margin": null,
            "max_height": null,
            "max_width": null,
            "min_height": null,
            "min_width": null,
            "object_fit": null,
            "object_position": null,
            "order": null,
            "overflow": null,
            "overflow_x": null,
            "overflow_y": null,
            "padding": null,
            "right": null,
            "top": null,
            "visibility": null,
            "width": null
          }
        },
        "87252d459ba8423c929b017a37dc1b3d": {
          "model_module": "@jupyter-widgets/controls",
          "model_name": "DescriptionStyleModel",
          "model_module_version": "1.5.0",
          "state": {
            "_model_module": "@jupyter-widgets/controls",
            "_model_module_version": "1.5.0",
            "_model_name": "DescriptionStyleModel",
            "_view_count": null,
            "_view_module": "@jupyter-widgets/base",
            "_view_module_version": "1.2.0",
            "_view_name": "StyleView",
            "description_width": ""
          }
        },
        "2f254d501223437fa85b66d8d1138fb7": {
          "model_module": "@jupyter-widgets/controls",
          "model_name": "HBoxModel",
          "model_module_version": "1.5.0",
          "state": {
            "_dom_classes": [],
            "_model_module": "@jupyter-widgets/controls",
            "_model_module_version": "1.5.0",
            "_model_name": "HBoxModel",
            "_view_count": null,
            "_view_module": "@jupyter-widgets/controls",
            "_view_module_version": "1.5.0",
            "_view_name": "HBoxView",
            "box_style": "",
            "children": [
              "IPY_MODEL_ae337a655b8c4cebb6d267fb4d6c3dcb",
              "IPY_MODEL_2b2ae1a9b32943c0bc4f31f93f1dd477",
              "IPY_MODEL_dd777dbf6709425c939249a7c88696fd"
            ],
            "layout": "IPY_MODEL_1e7e888a068e4042a6ded2b2c0ef8ba1"
          }
        },
        "ae337a655b8c4cebb6d267fb4d6c3dcb": {
          "model_module": "@jupyter-widgets/controls",
          "model_name": "HTMLModel",
          "model_module_version": "1.5.0",
          "state": {
            "_dom_classes": [],
            "_model_module": "@jupyter-widgets/controls",
            "_model_module_version": "1.5.0",
            "_model_name": "HTMLModel",
            "_view_count": null,
            "_view_module": "@jupyter-widgets/controls",
            "_view_module_version": "1.5.0",
            "_view_name": "HTMLView",
            "description": "",
            "description_tooltip": null,
            "layout": "IPY_MODEL_d4abb6c918624f81be1127f92875bbb2",
            "placeholder": "​",
            "style": "IPY_MODEL_04ebc4509c0f4e889e9d96718e796cb0",
            "value": "Downloading (…)cial_tokens_map.json: 100%"
          }
        },
        "2b2ae1a9b32943c0bc4f31f93f1dd477": {
          "model_module": "@jupyter-widgets/controls",
          "model_name": "FloatProgressModel",
          "model_module_version": "1.5.0",
          "state": {
            "_dom_classes": [],
            "_model_module": "@jupyter-widgets/controls",
            "_model_module_version": "1.5.0",
            "_model_name": "FloatProgressModel",
            "_view_count": null,
            "_view_module": "@jupyter-widgets/controls",
            "_view_module_version": "1.5.0",
            "_view_name": "ProgressView",
            "bar_style": "success",
            "description": "",
            "description_tooltip": null,
            "layout": "IPY_MODEL_64ce032794f546a5ab235b1f70bd8b89",
            "max": 112,
            "min": 0,
            "orientation": "horizontal",
            "style": "IPY_MODEL_12fa2e5a910a40feae129a0367e6cb65",
            "value": 112
          }
        },
        "dd777dbf6709425c939249a7c88696fd": {
          "model_module": "@jupyter-widgets/controls",
          "model_name": "HTMLModel",
          "model_module_version": "1.5.0",
          "state": {
            "_dom_classes": [],
            "_model_module": "@jupyter-widgets/controls",
            "_model_module_version": "1.5.0",
            "_model_name": "HTMLModel",
            "_view_count": null,
            "_view_module": "@jupyter-widgets/controls",
            "_view_module_version": "1.5.0",
            "_view_name": "HTMLView",
            "description": "",
            "description_tooltip": null,
            "layout": "IPY_MODEL_3229507206284ddf933d054b606bed84",
            "placeholder": "​",
            "style": "IPY_MODEL_bb5a7f9be8c647ed837eff26c015fa4d",
            "value": " 112/112 [00:00&lt;00:00, 7.86kB/s]"
          }
        },
        "1e7e888a068e4042a6ded2b2c0ef8ba1": {
          "model_module": "@jupyter-widgets/base",
          "model_name": "LayoutModel",
          "model_module_version": "1.2.0",
          "state": {
            "_model_module": "@jupyter-widgets/base",
            "_model_module_version": "1.2.0",
            "_model_name": "LayoutModel",
            "_view_count": null,
            "_view_module": "@jupyter-widgets/base",
            "_view_module_version": "1.2.0",
            "_view_name": "LayoutView",
            "align_content": null,
            "align_items": null,
            "align_self": null,
            "border": null,
            "bottom": null,
            "display": null,
            "flex": null,
            "flex_flow": null,
            "grid_area": null,
            "grid_auto_columns": null,
            "grid_auto_flow": null,
            "grid_auto_rows": null,
            "grid_column": null,
            "grid_gap": null,
            "grid_row": null,
            "grid_template_areas": null,
            "grid_template_columns": null,
            "grid_template_rows": null,
            "height": null,
            "justify_content": null,
            "justify_items": null,
            "left": null,
            "margin": null,
            "max_height": null,
            "max_width": null,
            "min_height": null,
            "min_width": null,
            "object_fit": null,
            "object_position": null,
            "order": null,
            "overflow": null,
            "overflow_x": null,
            "overflow_y": null,
            "padding": null,
            "right": null,
            "top": null,
            "visibility": null,
            "width": null
          }
        },
        "d4abb6c918624f81be1127f92875bbb2": {
          "model_module": "@jupyter-widgets/base",
          "model_name": "LayoutModel",
          "model_module_version": "1.2.0",
          "state": {
            "_model_module": "@jupyter-widgets/base",
            "_model_module_version": "1.2.0",
            "_model_name": "LayoutModel",
            "_view_count": null,
            "_view_module": "@jupyter-widgets/base",
            "_view_module_version": "1.2.0",
            "_view_name": "LayoutView",
            "align_content": null,
            "align_items": null,
            "align_self": null,
            "border": null,
            "bottom": null,
            "display": null,
            "flex": null,
            "flex_flow": null,
            "grid_area": null,
            "grid_auto_columns": null,
            "grid_auto_flow": null,
            "grid_auto_rows": null,
            "grid_column": null,
            "grid_gap": null,
            "grid_row": null,
            "grid_template_areas": null,
            "grid_template_columns": null,
            "grid_template_rows": null,
            "height": null,
            "justify_content": null,
            "justify_items": null,
            "left": null,
            "margin": null,
            "max_height": null,
            "max_width": null,
            "min_height": null,
            "min_width": null,
            "object_fit": null,
            "object_position": null,
            "order": null,
            "overflow": null,
            "overflow_x": null,
            "overflow_y": null,
            "padding": null,
            "right": null,
            "top": null,
            "visibility": null,
            "width": null
          }
        },
        "04ebc4509c0f4e889e9d96718e796cb0": {
          "model_module": "@jupyter-widgets/controls",
          "model_name": "DescriptionStyleModel",
          "model_module_version": "1.5.0",
          "state": {
            "_model_module": "@jupyter-widgets/controls",
            "_model_module_version": "1.5.0",
            "_model_name": "DescriptionStyleModel",
            "_view_count": null,
            "_view_module": "@jupyter-widgets/base",
            "_view_module_version": "1.2.0",
            "_view_name": "StyleView",
            "description_width": ""
          }
        },
        "64ce032794f546a5ab235b1f70bd8b89": {
          "model_module": "@jupyter-widgets/base",
          "model_name": "LayoutModel",
          "model_module_version": "1.2.0",
          "state": {
            "_model_module": "@jupyter-widgets/base",
            "_model_module_version": "1.2.0",
            "_model_name": "LayoutModel",
            "_view_count": null,
            "_view_module": "@jupyter-widgets/base",
            "_view_module_version": "1.2.0",
            "_view_name": "LayoutView",
            "align_content": null,
            "align_items": null,
            "align_self": null,
            "border": null,
            "bottom": null,
            "display": null,
            "flex": null,
            "flex_flow": null,
            "grid_area": null,
            "grid_auto_columns": null,
            "grid_auto_flow": null,
            "grid_auto_rows": null,
            "grid_column": null,
            "grid_gap": null,
            "grid_row": null,
            "grid_template_areas": null,
            "grid_template_columns": null,
            "grid_template_rows": null,
            "height": null,
            "justify_content": null,
            "justify_items": null,
            "left": null,
            "margin": null,
            "max_height": null,
            "max_width": null,
            "min_height": null,
            "min_width": null,
            "object_fit": null,
            "object_position": null,
            "order": null,
            "overflow": null,
            "overflow_x": null,
            "overflow_y": null,
            "padding": null,
            "right": null,
            "top": null,
            "visibility": null,
            "width": null
          }
        },
        "12fa2e5a910a40feae129a0367e6cb65": {
          "model_module": "@jupyter-widgets/controls",
          "model_name": "ProgressStyleModel",
          "model_module_version": "1.5.0",
          "state": {
            "_model_module": "@jupyter-widgets/controls",
            "_model_module_version": "1.5.0",
            "_model_name": "ProgressStyleModel",
            "_view_count": null,
            "_view_module": "@jupyter-widgets/base",
            "_view_module_version": "1.2.0",
            "_view_name": "StyleView",
            "bar_color": null,
            "description_width": ""
          }
        },
        "3229507206284ddf933d054b606bed84": {
          "model_module": "@jupyter-widgets/base",
          "model_name": "LayoutModel",
          "model_module_version": "1.2.0",
          "state": {
            "_model_module": "@jupyter-widgets/base",
            "_model_module_version": "1.2.0",
            "_model_name": "LayoutModel",
            "_view_count": null,
            "_view_module": "@jupyter-widgets/base",
            "_view_module_version": "1.2.0",
            "_view_name": "LayoutView",
            "align_content": null,
            "align_items": null,
            "align_self": null,
            "border": null,
            "bottom": null,
            "display": null,
            "flex": null,
            "flex_flow": null,
            "grid_area": null,
            "grid_auto_columns": null,
            "grid_auto_flow": null,
            "grid_auto_rows": null,
            "grid_column": null,
            "grid_gap": null,
            "grid_row": null,
            "grid_template_areas": null,
            "grid_template_columns": null,
            "grid_template_rows": null,
            "height": null,
            "justify_content": null,
            "justify_items": null,
            "left": null,
            "margin": null,
            "max_height": null,
            "max_width": null,
            "min_height": null,
            "min_width": null,
            "object_fit": null,
            "object_position": null,
            "order": null,
            "overflow": null,
            "overflow_x": null,
            "overflow_y": null,
            "padding": null,
            "right": null,
            "top": null,
            "visibility": null,
            "width": null
          }
        },
        "bb5a7f9be8c647ed837eff26c015fa4d": {
          "model_module": "@jupyter-widgets/controls",
          "model_name": "DescriptionStyleModel",
          "model_module_version": "1.5.0",
          "state": {
            "_model_module": "@jupyter-widgets/controls",
            "_model_module_version": "1.5.0",
            "_model_name": "DescriptionStyleModel",
            "_view_count": null,
            "_view_module": "@jupyter-widgets/base",
            "_view_module_version": "1.2.0",
            "_view_name": "StyleView",
            "description_width": ""
          }
        },
        "9c86d2a682544e5e9772759469cb9449": {
          "model_module": "@jupyter-widgets/controls",
          "model_name": "HBoxModel",
          "model_module_version": "1.5.0",
          "state": {
            "_dom_classes": [],
            "_model_module": "@jupyter-widgets/controls",
            "_model_module_version": "1.5.0",
            "_model_name": "HBoxModel",
            "_view_count": null,
            "_view_module": "@jupyter-widgets/controls",
            "_view_module_version": "1.5.0",
            "_view_name": "HBoxView",
            "box_style": "",
            "children": [
              "IPY_MODEL_cbcbb7343180452fa4331b6460b80453",
              "IPY_MODEL_803c0ea1a9834e5a80a375694b0c102a",
              "IPY_MODEL_8a9a6892291b4ed0866c312cce83b082"
            ],
            "layout": "IPY_MODEL_6ec29f38ec094b6cba6b0c362fecc612"
          }
        },
        "cbcbb7343180452fa4331b6460b80453": {
          "model_module": "@jupyter-widgets/controls",
          "model_name": "HTMLModel",
          "model_module_version": "1.5.0",
          "state": {
            "_dom_classes": [],
            "_model_module": "@jupyter-widgets/controls",
            "_model_module_version": "1.5.0",
            "_model_name": "HTMLModel",
            "_view_count": null,
            "_view_module": "@jupyter-widgets/controls",
            "_view_module_version": "1.5.0",
            "_view_name": "HTMLView",
            "description": "",
            "description_tooltip": null,
            "layout": "IPY_MODEL_87458b3bcf2b4bd6a2141cd753804822",
            "placeholder": "​",
            "style": "IPY_MODEL_d2201c45b11448e1bb4daa55d95bbce6",
            "value": "Downloading (…)okenizer_config.json: 100%"
          }
        },
        "803c0ea1a9834e5a80a375694b0c102a": {
          "model_module": "@jupyter-widgets/controls",
          "model_name": "FloatProgressModel",
          "model_module_version": "1.5.0",
          "state": {
            "_dom_classes": [],
            "_model_module": "@jupyter-widgets/controls",
            "_model_module_version": "1.5.0",
            "_model_name": "FloatProgressModel",
            "_view_count": null,
            "_view_module": "@jupyter-widgets/controls",
            "_view_module_version": "1.5.0",
            "_view_name": "ProgressView",
            "bar_style": "success",
            "description": "",
            "description_tooltip": null,
            "layout": "IPY_MODEL_2389d8f98fa44d2d865cd9cc933769ef",
            "max": 2,
            "min": 0,
            "orientation": "horizontal",
            "style": "IPY_MODEL_7320b860e9bd4358930a343c76623b45",
            "value": 2
          }
        },
        "8a9a6892291b4ed0866c312cce83b082": {
          "model_module": "@jupyter-widgets/controls",
          "model_name": "HTMLModel",
          "model_module_version": "1.5.0",
          "state": {
            "_dom_classes": [],
            "_model_module": "@jupyter-widgets/controls",
            "_model_module_version": "1.5.0",
            "_model_name": "HTMLModel",
            "_view_count": null,
            "_view_module": "@jupyter-widgets/controls",
            "_view_module_version": "1.5.0",
            "_view_name": "HTMLView",
            "description": "",
            "description_tooltip": null,
            "layout": "IPY_MODEL_258c9d5b533840a59eec76b8e4b765df",
            "placeholder": "​",
            "style": "IPY_MODEL_53760ccb45d044f099f4390684e8821c",
            "value": " 2.00/2.00 [00:00&lt;00:00, 144B/s]"
          }
        },
        "6ec29f38ec094b6cba6b0c362fecc612": {
          "model_module": "@jupyter-widgets/base",
          "model_name": "LayoutModel",
          "model_module_version": "1.2.0",
          "state": {
            "_model_module": "@jupyter-widgets/base",
            "_model_module_version": "1.2.0",
            "_model_name": "LayoutModel",
            "_view_count": null,
            "_view_module": "@jupyter-widgets/base",
            "_view_module_version": "1.2.0",
            "_view_name": "LayoutView",
            "align_content": null,
            "align_items": null,
            "align_self": null,
            "border": null,
            "bottom": null,
            "display": null,
            "flex": null,
            "flex_flow": null,
            "grid_area": null,
            "grid_auto_columns": null,
            "grid_auto_flow": null,
            "grid_auto_rows": null,
            "grid_column": null,
            "grid_gap": null,
            "grid_row": null,
            "grid_template_areas": null,
            "grid_template_columns": null,
            "grid_template_rows": null,
            "height": null,
            "justify_content": null,
            "justify_items": null,
            "left": null,
            "margin": null,
            "max_height": null,
            "max_width": null,
            "min_height": null,
            "min_width": null,
            "object_fit": null,
            "object_position": null,
            "order": null,
            "overflow": null,
            "overflow_x": null,
            "overflow_y": null,
            "padding": null,
            "right": null,
            "top": null,
            "visibility": null,
            "width": null
          }
        },
        "87458b3bcf2b4bd6a2141cd753804822": {
          "model_module": "@jupyter-widgets/base",
          "model_name": "LayoutModel",
          "model_module_version": "1.2.0",
          "state": {
            "_model_module": "@jupyter-widgets/base",
            "_model_module_version": "1.2.0",
            "_model_name": "LayoutModel",
            "_view_count": null,
            "_view_module": "@jupyter-widgets/base",
            "_view_module_version": "1.2.0",
            "_view_name": "LayoutView",
            "align_content": null,
            "align_items": null,
            "align_self": null,
            "border": null,
            "bottom": null,
            "display": null,
            "flex": null,
            "flex_flow": null,
            "grid_area": null,
            "grid_auto_columns": null,
            "grid_auto_flow": null,
            "grid_auto_rows": null,
            "grid_column": null,
            "grid_gap": null,
            "grid_row": null,
            "grid_template_areas": null,
            "grid_template_columns": null,
            "grid_template_rows": null,
            "height": null,
            "justify_content": null,
            "justify_items": null,
            "left": null,
            "margin": null,
            "max_height": null,
            "max_width": null,
            "min_height": null,
            "min_width": null,
            "object_fit": null,
            "object_position": null,
            "order": null,
            "overflow": null,
            "overflow_x": null,
            "overflow_y": null,
            "padding": null,
            "right": null,
            "top": null,
            "visibility": null,
            "width": null
          }
        },
        "d2201c45b11448e1bb4daa55d95bbce6": {
          "model_module": "@jupyter-widgets/controls",
          "model_name": "DescriptionStyleModel",
          "model_module_version": "1.5.0",
          "state": {
            "_model_module": "@jupyter-widgets/controls",
            "_model_module_version": "1.5.0",
            "_model_name": "DescriptionStyleModel",
            "_view_count": null,
            "_view_module": "@jupyter-widgets/base",
            "_view_module_version": "1.2.0",
            "_view_name": "StyleView",
            "description_width": ""
          }
        },
        "2389d8f98fa44d2d865cd9cc933769ef": {
          "model_module": "@jupyter-widgets/base",
          "model_name": "LayoutModel",
          "model_module_version": "1.2.0",
          "state": {
            "_model_module": "@jupyter-widgets/base",
            "_model_module_version": "1.2.0",
            "_model_name": "LayoutModel",
            "_view_count": null,
            "_view_module": "@jupyter-widgets/base",
            "_view_module_version": "1.2.0",
            "_view_name": "LayoutView",
            "align_content": null,
            "align_items": null,
            "align_self": null,
            "border": null,
            "bottom": null,
            "display": null,
            "flex": null,
            "flex_flow": null,
            "grid_area": null,
            "grid_auto_columns": null,
            "grid_auto_flow": null,
            "grid_auto_rows": null,
            "grid_column": null,
            "grid_gap": null,
            "grid_row": null,
            "grid_template_areas": null,
            "grid_template_columns": null,
            "grid_template_rows": null,
            "height": null,
            "justify_content": null,
            "justify_items": null,
            "left": null,
            "margin": null,
            "max_height": null,
            "max_width": null,
            "min_height": null,
            "min_width": null,
            "object_fit": null,
            "object_position": null,
            "order": null,
            "overflow": null,
            "overflow_x": null,
            "overflow_y": null,
            "padding": null,
            "right": null,
            "top": null,
            "visibility": null,
            "width": null
          }
        },
        "7320b860e9bd4358930a343c76623b45": {
          "model_module": "@jupyter-widgets/controls",
          "model_name": "ProgressStyleModel",
          "model_module_version": "1.5.0",
          "state": {
            "_model_module": "@jupyter-widgets/controls",
            "_model_module_version": "1.5.0",
            "_model_name": "ProgressStyleModel",
            "_view_count": null,
            "_view_module": "@jupyter-widgets/base",
            "_view_module_version": "1.2.0",
            "_view_name": "StyleView",
            "bar_color": null,
            "description_width": ""
          }
        },
        "258c9d5b533840a59eec76b8e4b765df": {
          "model_module": "@jupyter-widgets/base",
          "model_name": "LayoutModel",
          "model_module_version": "1.2.0",
          "state": {
            "_model_module": "@jupyter-widgets/base",
            "_model_module_version": "1.2.0",
            "_model_name": "LayoutModel",
            "_view_count": null,
            "_view_module": "@jupyter-widgets/base",
            "_view_module_version": "1.2.0",
            "_view_name": "LayoutView",
            "align_content": null,
            "align_items": null,
            "align_self": null,
            "border": null,
            "bottom": null,
            "display": null,
            "flex": null,
            "flex_flow": null,
            "grid_area": null,
            "grid_auto_columns": null,
            "grid_auto_flow": null,
            "grid_auto_rows": null,
            "grid_column": null,
            "grid_gap": null,
            "grid_row": null,
            "grid_template_areas": null,
            "grid_template_columns": null,
            "grid_template_rows": null,
            "height": null,
            "justify_content": null,
            "justify_items": null,
            "left": null,
            "margin": null,
            "max_height": null,
            "max_width": null,
            "min_height": null,
            "min_width": null,
            "object_fit": null,
            "object_position": null,
            "order": null,
            "overflow": null,
            "overflow_x": null,
            "overflow_y": null,
            "padding": null,
            "right": null,
            "top": null,
            "visibility": null,
            "width": null
          }
        },
        "53760ccb45d044f099f4390684e8821c": {
          "model_module": "@jupyter-widgets/controls",
          "model_name": "DescriptionStyleModel",
          "model_module_version": "1.5.0",
          "state": {
            "_model_module": "@jupyter-widgets/controls",
            "_model_module_version": "1.5.0",
            "_model_name": "DescriptionStyleModel",
            "_view_count": null,
            "_view_module": "@jupyter-widgets/base",
            "_view_module_version": "1.2.0",
            "_view_name": "StyleView",
            "description_width": ""
          }
        },
        "3b776d91903b4f4fa61b374cb95ce4b2": {
          "model_module": "@jupyter-widgets/controls",
          "model_name": "HBoxModel",
          "model_module_version": "1.5.0",
          "state": {
            "_dom_classes": [],
            "_model_module": "@jupyter-widgets/controls",
            "_model_module_version": "1.5.0",
            "_model_name": "HBoxModel",
            "_view_count": null,
            "_view_module": "@jupyter-widgets/controls",
            "_view_module_version": "1.5.0",
            "_view_name": "HBoxView",
            "box_style": "",
            "children": [
              "IPY_MODEL_8c33e68e5643446793dc0dd1fde6f6ea",
              "IPY_MODEL_6cd1130b4c14483aa532418194edb449",
              "IPY_MODEL_cf168abc99a84fd3bfd685a2999a2ad6"
            ],
            "layout": "IPY_MODEL_bcefae8d102c426aa584303678f06f87"
          }
        },
        "8c33e68e5643446793dc0dd1fde6f6ea": {
          "model_module": "@jupyter-widgets/controls",
          "model_name": "HTMLModel",
          "model_module_version": "1.5.0",
          "state": {
            "_dom_classes": [],
            "_model_module": "@jupyter-widgets/controls",
            "_model_module_version": "1.5.0",
            "_model_name": "HTMLModel",
            "_view_count": null,
            "_view_module": "@jupyter-widgets/controls",
            "_view_module_version": "1.5.0",
            "_view_name": "HTMLView",
            "description": "",
            "description_tooltip": null,
            "layout": "IPY_MODEL_e237ef2486844f91a27e81f8b0ba031c",
            "placeholder": "​",
            "style": "IPY_MODEL_a37a827ddc9b4dd7bc2241cb8885a069",
            "value": "Downloading (…)lve/main/config.json: 100%"
          }
        },
        "6cd1130b4c14483aa532418194edb449": {
          "model_module": "@jupyter-widgets/controls",
          "model_name": "FloatProgressModel",
          "model_module_version": "1.5.0",
          "state": {
            "_dom_classes": [],
            "_model_module": "@jupyter-widgets/controls",
            "_model_module_version": "1.5.0",
            "_model_name": "FloatProgressModel",
            "_view_count": null,
            "_view_module": "@jupyter-widgets/controls",
            "_view_module_version": "1.5.0",
            "_view_name": "ProgressView",
            "bar_style": "success",
            "description": "",
            "description_tooltip": null,
            "layout": "IPY_MODEL_dfda22dd5edb415ea0e5865d8d2fcaf0",
            "max": 1534,
            "min": 0,
            "orientation": "horizontal",
            "style": "IPY_MODEL_ced93d051564477a86eff97df1fb1225",
            "value": 1534
          }
        },
        "cf168abc99a84fd3bfd685a2999a2ad6": {
          "model_module": "@jupyter-widgets/controls",
          "model_name": "HTMLModel",
          "model_module_version": "1.5.0",
          "state": {
            "_dom_classes": [],
            "_model_module": "@jupyter-widgets/controls",
            "_model_module_version": "1.5.0",
            "_model_name": "HTMLModel",
            "_view_count": null,
            "_view_module": "@jupyter-widgets/controls",
            "_view_module_version": "1.5.0",
            "_view_name": "HTMLView",
            "description": "",
            "description_tooltip": null,
            "layout": "IPY_MODEL_6eea269a7f984c73bd2c56ceb1161944",
            "placeholder": "​",
            "style": "IPY_MODEL_fd7d234b6c884253bd5985587871fffe",
            "value": " 1.53k/1.53k [00:00&lt;00:00, 77.0kB/s]"
          }
        },
        "bcefae8d102c426aa584303678f06f87": {
          "model_module": "@jupyter-widgets/base",
          "model_name": "LayoutModel",
          "model_module_version": "1.2.0",
          "state": {
            "_model_module": "@jupyter-widgets/base",
            "_model_module_version": "1.2.0",
            "_model_name": "LayoutModel",
            "_view_count": null,
            "_view_module": "@jupyter-widgets/base",
            "_view_module_version": "1.2.0",
            "_view_name": "LayoutView",
            "align_content": null,
            "align_items": null,
            "align_self": null,
            "border": null,
            "bottom": null,
            "display": null,
            "flex": null,
            "flex_flow": null,
            "grid_area": null,
            "grid_auto_columns": null,
            "grid_auto_flow": null,
            "grid_auto_rows": null,
            "grid_column": null,
            "grid_gap": null,
            "grid_row": null,
            "grid_template_areas": null,
            "grid_template_columns": null,
            "grid_template_rows": null,
            "height": null,
            "justify_content": null,
            "justify_items": null,
            "left": null,
            "margin": null,
            "max_height": null,
            "max_width": null,
            "min_height": null,
            "min_width": null,
            "object_fit": null,
            "object_position": null,
            "order": null,
            "overflow": null,
            "overflow_x": null,
            "overflow_y": null,
            "padding": null,
            "right": null,
            "top": null,
            "visibility": null,
            "width": null
          }
        },
        "e237ef2486844f91a27e81f8b0ba031c": {
          "model_module": "@jupyter-widgets/base",
          "model_name": "LayoutModel",
          "model_module_version": "1.2.0",
          "state": {
            "_model_module": "@jupyter-widgets/base",
            "_model_module_version": "1.2.0",
            "_model_name": "LayoutModel",
            "_view_count": null,
            "_view_module": "@jupyter-widgets/base",
            "_view_module_version": "1.2.0",
            "_view_name": "LayoutView",
            "align_content": null,
            "align_items": null,
            "align_self": null,
            "border": null,
            "bottom": null,
            "display": null,
            "flex": null,
            "flex_flow": null,
            "grid_area": null,
            "grid_auto_columns": null,
            "grid_auto_flow": null,
            "grid_auto_rows": null,
            "grid_column": null,
            "grid_gap": null,
            "grid_row": null,
            "grid_template_areas": null,
            "grid_template_columns": null,
            "grid_template_rows": null,
            "height": null,
            "justify_content": null,
            "justify_items": null,
            "left": null,
            "margin": null,
            "max_height": null,
            "max_width": null,
            "min_height": null,
            "min_width": null,
            "object_fit": null,
            "object_position": null,
            "order": null,
            "overflow": null,
            "overflow_x": null,
            "overflow_y": null,
            "padding": null,
            "right": null,
            "top": null,
            "visibility": null,
            "width": null
          }
        },
        "a37a827ddc9b4dd7bc2241cb8885a069": {
          "model_module": "@jupyter-widgets/controls",
          "model_name": "DescriptionStyleModel",
          "model_module_version": "1.5.0",
          "state": {
            "_model_module": "@jupyter-widgets/controls",
            "_model_module_version": "1.5.0",
            "_model_name": "DescriptionStyleModel",
            "_view_count": null,
            "_view_module": "@jupyter-widgets/base",
            "_view_module_version": "1.2.0",
            "_view_name": "StyleView",
            "description_width": ""
          }
        },
        "dfda22dd5edb415ea0e5865d8d2fcaf0": {
          "model_module": "@jupyter-widgets/base",
          "model_name": "LayoutModel",
          "model_module_version": "1.2.0",
          "state": {
            "_model_module": "@jupyter-widgets/base",
            "_model_module_version": "1.2.0",
            "_model_name": "LayoutModel",
            "_view_count": null,
            "_view_module": "@jupyter-widgets/base",
            "_view_module_version": "1.2.0",
            "_view_name": "LayoutView",
            "align_content": null,
            "align_items": null,
            "align_self": null,
            "border": null,
            "bottom": null,
            "display": null,
            "flex": null,
            "flex_flow": null,
            "grid_area": null,
            "grid_auto_columns": null,
            "grid_auto_flow": null,
            "grid_auto_rows": null,
            "grid_column": null,
            "grid_gap": null,
            "grid_row": null,
            "grid_template_areas": null,
            "grid_template_columns": null,
            "grid_template_rows": null,
            "height": null,
            "justify_content": null,
            "justify_items": null,
            "left": null,
            "margin": null,
            "max_height": null,
            "max_width": null,
            "min_height": null,
            "min_width": null,
            "object_fit": null,
            "object_position": null,
            "order": null,
            "overflow": null,
            "overflow_x": null,
            "overflow_y": null,
            "padding": null,
            "right": null,
            "top": null,
            "visibility": null,
            "width": null
          }
        },
        "ced93d051564477a86eff97df1fb1225": {
          "model_module": "@jupyter-widgets/controls",
          "model_name": "ProgressStyleModel",
          "model_module_version": "1.5.0",
          "state": {
            "_model_module": "@jupyter-widgets/controls",
            "_model_module_version": "1.5.0",
            "_model_name": "ProgressStyleModel",
            "_view_count": null,
            "_view_module": "@jupyter-widgets/base",
            "_view_module_version": "1.2.0",
            "_view_name": "StyleView",
            "bar_color": null,
            "description_width": ""
          }
        },
        "6eea269a7f984c73bd2c56ceb1161944": {
          "model_module": "@jupyter-widgets/base",
          "model_name": "LayoutModel",
          "model_module_version": "1.2.0",
          "state": {
            "_model_module": "@jupyter-widgets/base",
            "_model_module_version": "1.2.0",
            "_model_name": "LayoutModel",
            "_view_count": null,
            "_view_module": "@jupyter-widgets/base",
            "_view_module_version": "1.2.0",
            "_view_name": "LayoutView",
            "align_content": null,
            "align_items": null,
            "align_self": null,
            "border": null,
            "bottom": null,
            "display": null,
            "flex": null,
            "flex_flow": null,
            "grid_area": null,
            "grid_auto_columns": null,
            "grid_auto_flow": null,
            "grid_auto_rows": null,
            "grid_column": null,
            "grid_gap": null,
            "grid_row": null,
            "grid_template_areas": null,
            "grid_template_columns": null,
            "grid_template_rows": null,
            "height": null,
            "justify_content": null,
            "justify_items": null,
            "left": null,
            "margin": null,
            "max_height": null,
            "max_width": null,
            "min_height": null,
            "min_width": null,
            "object_fit": null,
            "object_position": null,
            "order": null,
            "overflow": null,
            "overflow_x": null,
            "overflow_y": null,
            "padding": null,
            "right": null,
            "top": null,
            "visibility": null,
            "width": null
          }
        },
        "fd7d234b6c884253bd5985587871fffe": {
          "model_module": "@jupyter-widgets/controls",
          "model_name": "DescriptionStyleModel",
          "model_module_version": "1.5.0",
          "state": {
            "_model_module": "@jupyter-widgets/controls",
            "_model_module_version": "1.5.0",
            "_model_name": "DescriptionStyleModel",
            "_view_count": null,
            "_view_module": "@jupyter-widgets/base",
            "_view_module_version": "1.2.0",
            "_view_name": "StyleView",
            "description_width": ""
          }
        },
        "cdd31e3594424c319be4bad80dcf06ef": {
          "model_module": "@jupyter-widgets/controls",
          "model_name": "HBoxModel",
          "model_module_version": "1.5.0",
          "state": {
            "_dom_classes": [],
            "_model_module": "@jupyter-widgets/controls",
            "_model_module_version": "1.5.0",
            "_model_name": "HBoxModel",
            "_view_count": null,
            "_view_module": "@jupyter-widgets/controls",
            "_view_module_version": "1.5.0",
            "_view_name": "HBoxView",
            "box_style": "",
            "children": [
              "IPY_MODEL_25c5ed47c98542038de87227668ba61f",
              "IPY_MODEL_a921ff5ca0b542819fc21fb493fcf7cc",
              "IPY_MODEL_7d5fef66b00c4cb9a6d92191dca9d9f3"
            ],
            "layout": "IPY_MODEL_da3b138c7e02465ca77f47ce6aad7eb7"
          }
        },
        "25c5ed47c98542038de87227668ba61f": {
          "model_module": "@jupyter-widgets/controls",
          "model_name": "HTMLModel",
          "model_module_version": "1.5.0",
          "state": {
            "_dom_classes": [],
            "_model_module": "@jupyter-widgets/controls",
            "_model_module_version": "1.5.0",
            "_model_name": "HTMLModel",
            "_view_count": null,
            "_view_module": "@jupyter-widgets/controls",
            "_view_module_version": "1.5.0",
            "_view_name": "HTMLView",
            "description": "",
            "description_tooltip": null,
            "layout": "IPY_MODEL_6becf3436d63484ca022305c12ccdd80",
            "placeholder": "​",
            "style": "IPY_MODEL_5caea0e931e94d689ddf7027ca4c283a",
            "value": "Downloading pytorch_model.bin: 100%"
          }
        },
        "a921ff5ca0b542819fc21fb493fcf7cc": {
          "model_module": "@jupyter-widgets/controls",
          "model_name": "FloatProgressModel",
          "model_module_version": "1.5.0",
          "state": {
            "_dom_classes": [],
            "_model_module": "@jupyter-widgets/controls",
            "_model_module_version": "1.5.0",
            "_model_name": "FloatProgressModel",
            "_view_count": null,
            "_view_module": "@jupyter-widgets/controls",
            "_view_module_version": "1.5.0",
            "_view_name": "ProgressView",
            "bar_style": "success",
            "description": "",
            "description_tooltip": null,
            "layout": "IPY_MODEL_01dda7d23ec242bb8b6711e363591398",
            "max": 497810400,
            "min": 0,
            "orientation": "horizontal",
            "style": "IPY_MODEL_abe694e61d4c494cb705f9bd415f6939",
            "value": 497810400
          }
        },
        "7d5fef66b00c4cb9a6d92191dca9d9f3": {
          "model_module": "@jupyter-widgets/controls",
          "model_name": "HTMLModel",
          "model_module_version": "1.5.0",
          "state": {
            "_dom_classes": [],
            "_model_module": "@jupyter-widgets/controls",
            "_model_module_version": "1.5.0",
            "_model_name": "HTMLModel",
            "_view_count": null,
            "_view_module": "@jupyter-widgets/controls",
            "_view_module_version": "1.5.0",
            "_view_name": "HTMLView",
            "description": "",
            "description_tooltip": null,
            "layout": "IPY_MODEL_1ca02a535fea4725afcb3dda8681ec5c",
            "placeholder": "​",
            "style": "IPY_MODEL_d43dd695e83c4162846967770fb492e2",
            "value": " 498M/498M [00:02&lt;00:00, 280MB/s]"
          }
        },
        "da3b138c7e02465ca77f47ce6aad7eb7": {
          "model_module": "@jupyter-widgets/base",
          "model_name": "LayoutModel",
          "model_module_version": "1.2.0",
          "state": {
            "_model_module": "@jupyter-widgets/base",
            "_model_module_version": "1.2.0",
            "_model_name": "LayoutModel",
            "_view_count": null,
            "_view_module": "@jupyter-widgets/base",
            "_view_module_version": "1.2.0",
            "_view_name": "LayoutView",
            "align_content": null,
            "align_items": null,
            "align_self": null,
            "border": null,
            "bottom": null,
            "display": null,
            "flex": null,
            "flex_flow": null,
            "grid_area": null,
            "grid_auto_columns": null,
            "grid_auto_flow": null,
            "grid_auto_rows": null,
            "grid_column": null,
            "grid_gap": null,
            "grid_row": null,
            "grid_template_areas": null,
            "grid_template_columns": null,
            "grid_template_rows": null,
            "height": null,
            "justify_content": null,
            "justify_items": null,
            "left": null,
            "margin": null,
            "max_height": null,
            "max_width": null,
            "min_height": null,
            "min_width": null,
            "object_fit": null,
            "object_position": null,
            "order": null,
            "overflow": null,
            "overflow_x": null,
            "overflow_y": null,
            "padding": null,
            "right": null,
            "top": null,
            "visibility": null,
            "width": null
          }
        },
        "6becf3436d63484ca022305c12ccdd80": {
          "model_module": "@jupyter-widgets/base",
          "model_name": "LayoutModel",
          "model_module_version": "1.2.0",
          "state": {
            "_model_module": "@jupyter-widgets/base",
            "_model_module_version": "1.2.0",
            "_model_name": "LayoutModel",
            "_view_count": null,
            "_view_module": "@jupyter-widgets/base",
            "_view_module_version": "1.2.0",
            "_view_name": "LayoutView",
            "align_content": null,
            "align_items": null,
            "align_self": null,
            "border": null,
            "bottom": null,
            "display": null,
            "flex": null,
            "flex_flow": null,
            "grid_area": null,
            "grid_auto_columns": null,
            "grid_auto_flow": null,
            "grid_auto_rows": null,
            "grid_column": null,
            "grid_gap": null,
            "grid_row": null,
            "grid_template_areas": null,
            "grid_template_columns": null,
            "grid_template_rows": null,
            "height": null,
            "justify_content": null,
            "justify_items": null,
            "left": null,
            "margin": null,
            "max_height": null,
            "max_width": null,
            "min_height": null,
            "min_width": null,
            "object_fit": null,
            "object_position": null,
            "order": null,
            "overflow": null,
            "overflow_x": null,
            "overflow_y": null,
            "padding": null,
            "right": null,
            "top": null,
            "visibility": null,
            "width": null
          }
        },
        "5caea0e931e94d689ddf7027ca4c283a": {
          "model_module": "@jupyter-widgets/controls",
          "model_name": "DescriptionStyleModel",
          "model_module_version": "1.5.0",
          "state": {
            "_model_module": "@jupyter-widgets/controls",
            "_model_module_version": "1.5.0",
            "_model_name": "DescriptionStyleModel",
            "_view_count": null,
            "_view_module": "@jupyter-widgets/base",
            "_view_module_version": "1.2.0",
            "_view_name": "StyleView",
            "description_width": ""
          }
        },
        "01dda7d23ec242bb8b6711e363591398": {
          "model_module": "@jupyter-widgets/base",
          "model_name": "LayoutModel",
          "model_module_version": "1.2.0",
          "state": {
            "_model_module": "@jupyter-widgets/base",
            "_model_module_version": "1.2.0",
            "_model_name": "LayoutModel",
            "_view_count": null,
            "_view_module": "@jupyter-widgets/base",
            "_view_module_version": "1.2.0",
            "_view_name": "LayoutView",
            "align_content": null,
            "align_items": null,
            "align_self": null,
            "border": null,
            "bottom": null,
            "display": null,
            "flex": null,
            "flex_flow": null,
            "grid_area": null,
            "grid_auto_columns": null,
            "grid_auto_flow": null,
            "grid_auto_rows": null,
            "grid_column": null,
            "grid_gap": null,
            "grid_row": null,
            "grid_template_areas": null,
            "grid_template_columns": null,
            "grid_template_rows": null,
            "height": null,
            "justify_content": null,
            "justify_items": null,
            "left": null,
            "margin": null,
            "max_height": null,
            "max_width": null,
            "min_height": null,
            "min_width": null,
            "object_fit": null,
            "object_position": null,
            "order": null,
            "overflow": null,
            "overflow_x": null,
            "overflow_y": null,
            "padding": null,
            "right": null,
            "top": null,
            "visibility": null,
            "width": null
          }
        },
        "abe694e61d4c494cb705f9bd415f6939": {
          "model_module": "@jupyter-widgets/controls",
          "model_name": "ProgressStyleModel",
          "model_module_version": "1.5.0",
          "state": {
            "_model_module": "@jupyter-widgets/controls",
            "_model_module_version": "1.5.0",
            "_model_name": "ProgressStyleModel",
            "_view_count": null,
            "_view_module": "@jupyter-widgets/base",
            "_view_module_version": "1.2.0",
            "_view_name": "StyleView",
            "bar_color": null,
            "description_width": ""
          }
        },
        "1ca02a535fea4725afcb3dda8681ec5c": {
          "model_module": "@jupyter-widgets/base",
          "model_name": "LayoutModel",
          "model_module_version": "1.2.0",
          "state": {
            "_model_module": "@jupyter-widgets/base",
            "_model_module_version": "1.2.0",
            "_model_name": "LayoutModel",
            "_view_count": null,
            "_view_module": "@jupyter-widgets/base",
            "_view_module_version": "1.2.0",
            "_view_name": "LayoutView",
            "align_content": null,
            "align_items": null,
            "align_self": null,
            "border": null,
            "bottom": null,
            "display": null,
            "flex": null,
            "flex_flow": null,
            "grid_area": null,
            "grid_auto_columns": null,
            "grid_auto_flow": null,
            "grid_auto_rows": null,
            "grid_column": null,
            "grid_gap": null,
            "grid_row": null,
            "grid_template_areas": null,
            "grid_template_columns": null,
            "grid_template_rows": null,
            "height": null,
            "justify_content": null,
            "justify_items": null,
            "left": null,
            "margin": null,
            "max_height": null,
            "max_width": null,
            "min_height": null,
            "min_width": null,
            "object_fit": null,
            "object_position": null,
            "order": null,
            "overflow": null,
            "overflow_x": null,
            "overflow_y": null,
            "padding": null,
            "right": null,
            "top": null,
            "visibility": null,
            "width": null
          }
        },
        "d43dd695e83c4162846967770fb492e2": {
          "model_module": "@jupyter-widgets/controls",
          "model_name": "DescriptionStyleModel",
          "model_module_version": "1.5.0",
          "state": {
            "_model_module": "@jupyter-widgets/controls",
            "_model_module_version": "1.5.0",
            "_model_name": "DescriptionStyleModel",
            "_view_count": null,
            "_view_module": "@jupyter-widgets/base",
            "_view_module_version": "1.2.0",
            "_view_name": "StyleView",
            "description_width": ""
          }
        }
      }
    }
  },
  "nbformat": 4,
  "nbformat_minor": 0
}
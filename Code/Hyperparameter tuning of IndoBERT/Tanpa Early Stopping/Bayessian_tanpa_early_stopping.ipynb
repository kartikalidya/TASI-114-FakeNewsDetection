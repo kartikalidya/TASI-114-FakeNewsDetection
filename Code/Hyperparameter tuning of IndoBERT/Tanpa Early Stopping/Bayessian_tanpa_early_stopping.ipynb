{
  "cells": [
    {
      "cell_type": "markdown",
      "metadata": {
        "id": "view-in-github"
      },
      "source": [
        "<a href=\"https://colab.research.google.com/github/garynico/IndoBERT-Hoax/blob/main/IndoBERT_Hoax_News_Detection.ipynb\" target=\"_parent\"><img src=\"https://colab.research.google.com/assets/colab-badge.svg\" alt=\"Open In Colab\"/></a>"
      ]
    },
    {
      "cell_type": "markdown",
      "metadata": {
        "id": "MLrHTVMSTxbt"
      },
      "source": [
        "# IndoBERT for Bahasa Indonesia Hoax News Detection"
      ]
    },
    {
      "cell_type": "markdown",
      "metadata": {
        "id": "LATDuyAVYEsw"
      },
      "source": [
        "### Import library"
      ]
    },
    {
      "cell_type": "code",
      "execution_count": 1,
      "metadata": {
        "colab": {
          "base_uri": "https://localhost:8080/"
        },
        "id": "IfNKumAzxkFn",
        "outputId": "77539c22-8fde-4aeb-b6d9-2cf8beabe90d"
      },
      "outputs": [
        {
          "output_type": "stream",
          "name": "stdout",
          "text": [
            "Mounted at /content/drive\n"
          ]
        }
      ],
      "source": [
        "# Drive\n",
        "from google.colab import files\n",
        "from google.colab import drive\n",
        "\n",
        "drive.mount('/content/drive', force_remount=True)"
      ]
    },
    {
      "cell_type": "code",
      "execution_count": 2,
      "metadata": {
        "id": "PohTXbqMicdb"
      },
      "outputs": [],
      "source": [
        "source_folder = '/content/drive/MyDrive/TASI/Bayessian/DataImbalance'\n",
        "destination_folder = '/content/drive/MyDrive/TASI/Bayessian/ModelImbalance'"
      ]
    },
    {
      "cell_type": "code",
      "execution_count": 3,
      "metadata": {
        "colab": {
          "base_uri": "https://localhost:8080/"
        },
        "id": "XYRz41w8x28A",
        "outputId": "f8241fe5-867b-4008-f900-f748c3c7f521"
      },
      "outputs": [
        {
          "output_type": "stream",
          "name": "stdout",
          "text": [
            "[Errno 2] No such file or directory: '//content/drive/MyDrive/TASI/GridSearch/DataImbalance'\n",
            "/content\n"
          ]
        }
      ],
      "source": [
        "%cd //content/drive/MyDrive/TASI/GridSearch/DataImbalance"
      ]
    },
    {
      "cell_type": "code",
      "execution_count": 4,
      "metadata": {
        "colab": {
          "base_uri": "https://localhost:8080/"
        },
        "id": "M959vrSV0iwp",
        "outputId": "a3a698a3-27c6-404c-db97-453d7f1b95c8"
      },
      "outputs": [
        {
          "output_type": "stream",
          "name": "stdout",
          "text": [
            "Looking in indexes: https://pypi.org/simple, https://us-python.pkg.dev/colab-wheels/public/simple/\n",
            "Collecting transformers\n",
            "  Downloading transformers-4.30.2-py3-none-any.whl (7.2 MB)\n",
            "\u001b[2K     \u001b[90m━━━━━━━━━━━━━━━━━━━━━━━━━━━━━━━━━━━━━━━━\u001b[0m \u001b[32m7.2/7.2 MB\u001b[0m \u001b[31m88.1 MB/s\u001b[0m eta \u001b[36m0:00:00\u001b[0m\n",
            "\u001b[?25hRequirement already satisfied: filelock in /usr/local/lib/python3.10/dist-packages (from transformers) (3.12.0)\n",
            "Collecting huggingface-hub<1.0,>=0.14.1 (from transformers)\n",
            "  Downloading huggingface_hub-0.15.1-py3-none-any.whl (236 kB)\n",
            "\u001b[2K     \u001b[90m━━━━━━━━━━━━━━━━━━━━━━━━━━━━━━━━━━━━━━\u001b[0m \u001b[32m236.8/236.8 kB\u001b[0m \u001b[31m22.5 MB/s\u001b[0m eta \u001b[36m0:00:00\u001b[0m\n",
            "\u001b[?25hRequirement already satisfied: numpy>=1.17 in /usr/local/lib/python3.10/dist-packages (from transformers) (1.22.4)\n",
            "Requirement already satisfied: packaging>=20.0 in /usr/local/lib/python3.10/dist-packages (from transformers) (23.1)\n",
            "Requirement already satisfied: pyyaml>=5.1 in /usr/local/lib/python3.10/dist-packages (from transformers) (6.0)\n",
            "Requirement already satisfied: regex!=2019.12.17 in /usr/local/lib/python3.10/dist-packages (from transformers) (2022.10.31)\n",
            "Requirement already satisfied: requests in /usr/local/lib/python3.10/dist-packages (from transformers) (2.27.1)\n",
            "Collecting tokenizers!=0.11.3,<0.14,>=0.11.1 (from transformers)\n",
            "  Downloading tokenizers-0.13.3-cp310-cp310-manylinux_2_17_x86_64.manylinux2014_x86_64.whl (7.8 MB)\n",
            "\u001b[2K     \u001b[90m━━━━━━━━━━━━━━━━━━━━━━━━━━━━━━━━━━━━━━━━\u001b[0m \u001b[32m7.8/7.8 MB\u001b[0m \u001b[31m42.7 MB/s\u001b[0m eta \u001b[36m0:00:00\u001b[0m\n",
            "\u001b[?25hCollecting safetensors>=0.3.1 (from transformers)\n",
            "  Downloading safetensors-0.3.1-cp310-cp310-manylinux_2_17_x86_64.manylinux2014_x86_64.whl (1.3 MB)\n",
            "\u001b[2K     \u001b[90m━━━━━━━━━━━━━━━━━━━━━━━━━━━━━━━━━━━━━━━━\u001b[0m \u001b[32m1.3/1.3 MB\u001b[0m \u001b[31m50.2 MB/s\u001b[0m eta \u001b[36m0:00:00\u001b[0m\n",
            "\u001b[?25hRequirement already satisfied: tqdm>=4.27 in /usr/local/lib/python3.10/dist-packages (from transformers) (4.65.0)\n",
            "Requirement already satisfied: fsspec in /usr/local/lib/python3.10/dist-packages (from huggingface-hub<1.0,>=0.14.1->transformers) (2023.4.0)\n",
            "Requirement already satisfied: typing-extensions>=3.7.4.3 in /usr/local/lib/python3.10/dist-packages (from huggingface-hub<1.0,>=0.14.1->transformers) (4.5.0)\n",
            "Requirement already satisfied: urllib3<1.27,>=1.21.1 in /usr/local/lib/python3.10/dist-packages (from requests->transformers) (1.26.15)\n",
            "Requirement already satisfied: certifi>=2017.4.17 in /usr/local/lib/python3.10/dist-packages (from requests->transformers) (2022.12.7)\n",
            "Requirement already satisfied: charset-normalizer~=2.0.0 in /usr/local/lib/python3.10/dist-packages (from requests->transformers) (2.0.12)\n",
            "Requirement already satisfied: idna<4,>=2.5 in /usr/local/lib/python3.10/dist-packages (from requests->transformers) (3.4)\n",
            "Installing collected packages: tokenizers, safetensors, huggingface-hub, transformers\n",
            "Successfully installed huggingface-hub-0.15.1 safetensors-0.3.1 tokenizers-0.13.3 transformers-4.30.2\n",
            "Looking in indexes: https://pypi.org/simple, https://us-python.pkg.dev/colab-wheels/public/simple/\n",
            "Collecting keras.preprocessing\n",
            "  Downloading Keras_Preprocessing-1.1.2-py2.py3-none-any.whl (42 kB)\n",
            "\u001b[2K     \u001b[90m━━━━━━━━━━━━━━━━━━━━━━━━━━━━━━━━━━━━━━━━\u001b[0m \u001b[32m42.6/42.6 kB\u001b[0m \u001b[31m4.1 MB/s\u001b[0m eta \u001b[36m0:00:00\u001b[0m\n",
            "\u001b[?25hRequirement already satisfied: numpy>=1.9.1 in /usr/local/lib/python3.10/dist-packages (from keras.preprocessing) (1.22.4)\n",
            "Requirement already satisfied: six>=1.9.0 in /usr/local/lib/python3.10/dist-packages (from keras.preprocessing) (1.16.0)\n",
            "Installing collected packages: keras.preprocessing\n",
            "Successfully installed keras.preprocessing-1.1.2\n",
            "Looking in indexes: https://pypi.org/simple, https://us-python.pkg.dev/colab-wheels/public/simple/\n",
            "Collecting git+https://github.com/pytorch/text.git@v0.10.0\n",
            "  Cloning https://github.com/pytorch/text.git (to revision v0.10.0) to /tmp/pip-req-build-7ih82v53\n",
            "  Running command git clone --filter=blob:none --quiet https://github.com/pytorch/text.git /tmp/pip-req-build-7ih82v53\n",
            "  Running command git checkout -q 4da1de36247aa06622088e78508e0e38a4392e38\n",
            "  Resolved https://github.com/pytorch/text.git to commit 4da1de36247aa06622088e78508e0e38a4392e38\n",
            "  Running command git submodule update --init --recursive -q\n",
            "  Preparing metadata (setup.py) ... \u001b[?25l\u001b[?25hdone\n",
            "Requirement already satisfied: tqdm in /usr/local/lib/python3.10/dist-packages (from torchtext==0.10.0a0+4da1de3) (4.65.0)\n",
            "Requirement already satisfied: requests in /usr/local/lib/python3.10/dist-packages (from torchtext==0.10.0a0+4da1de3) (2.27.1)\n",
            "Requirement already satisfied: torch in /usr/local/lib/python3.10/dist-packages (from torchtext==0.10.0a0+4da1de3) (2.0.1+cu118)\n",
            "Requirement already satisfied: numpy in /usr/local/lib/python3.10/dist-packages (from torchtext==0.10.0a0+4da1de3) (1.22.4)\n",
            "Requirement already satisfied: urllib3<1.27,>=1.21.1 in /usr/local/lib/python3.10/dist-packages (from requests->torchtext==0.10.0a0+4da1de3) (1.26.15)\n",
            "Requirement already satisfied: certifi>=2017.4.17 in /usr/local/lib/python3.10/dist-packages (from requests->torchtext==0.10.0a0+4da1de3) (2022.12.7)\n",
            "Requirement already satisfied: charset-normalizer~=2.0.0 in /usr/local/lib/python3.10/dist-packages (from requests->torchtext==0.10.0a0+4da1de3) (2.0.12)\n",
            "Requirement already satisfied: idna<4,>=2.5 in /usr/local/lib/python3.10/dist-packages (from requests->torchtext==0.10.0a0+4da1de3) (3.4)\n",
            "Requirement already satisfied: filelock in /usr/local/lib/python3.10/dist-packages (from torch->torchtext==0.10.0a0+4da1de3) (3.12.0)\n",
            "Requirement already satisfied: typing-extensions in /usr/local/lib/python3.10/dist-packages (from torch->torchtext==0.10.0a0+4da1de3) (4.5.0)\n",
            "Requirement already satisfied: sympy in /usr/local/lib/python3.10/dist-packages (from torch->torchtext==0.10.0a0+4da1de3) (1.11.1)\n",
            "Requirement already satisfied: networkx in /usr/local/lib/python3.10/dist-packages (from torch->torchtext==0.10.0a0+4da1de3) (3.1)\n",
            "Requirement already satisfied: jinja2 in /usr/local/lib/python3.10/dist-packages (from torch->torchtext==0.10.0a0+4da1de3) (3.1.2)\n",
            "Requirement already satisfied: triton==2.0.0 in /usr/local/lib/python3.10/dist-packages (from torch->torchtext==0.10.0a0+4da1de3) (2.0.0)\n",
            "Requirement already satisfied: cmake in /usr/local/lib/python3.10/dist-packages (from triton==2.0.0->torch->torchtext==0.10.0a0+4da1de3) (3.25.2)\n",
            "Requirement already satisfied: lit in /usr/local/lib/python3.10/dist-packages (from triton==2.0.0->torch->torchtext==0.10.0a0+4da1de3) (16.0.5)\n",
            "Requirement already satisfied: MarkupSafe>=2.0 in /usr/local/lib/python3.10/dist-packages (from jinja2->torch->torchtext==0.10.0a0+4da1de3) (2.1.2)\n",
            "Requirement already satisfied: mpmath>=0.19 in /usr/local/lib/python3.10/dist-packages (from sympy->torch->torchtext==0.10.0a0+4da1de3) (1.3.0)\n",
            "Building wheels for collected packages: torchtext\n",
            "  Building wheel for torchtext (setup.py) ... \u001b[?25l\u001b[?25hdone\n",
            "  Created wheel for torchtext: filename=torchtext-0.10.0a0+4da1de3-cp310-cp310-linux_x86_64.whl size=13337971 sha256=c58af74af7c26f863a434377c68fbada6b2c4d8037a9f8a3ae9df46ac4cd94b8\n",
            "  Stored in directory: /tmp/pip-ephem-wheel-cache-n2w1dz0t/wheels/35/01/1b/48d47c6d8246b035aaa21b340cfee8a334384991bb59283a2c\n",
            "Successfully built torchtext\n",
            "Installing collected packages: torchtext\n",
            "  Attempting uninstall: torchtext\n",
            "    Found existing installation: torchtext 0.15.2\n",
            "    Uninstalling torchtext-0.15.2:\n",
            "      Successfully uninstalled torchtext-0.15.2\n",
            "Successfully installed torchtext-0.10.0a0+4da1de3\n"
          ]
        }
      ],
      "source": [
        "!pip install transformers\n",
        "!pip install keras.preprocessing\n",
        "!pip install git+https://github.com/pytorch/text.git@v0.10.0"
      ]
    },
    {
      "cell_type": "code",
      "execution_count": 5,
      "metadata": {
        "id": "fBr2V8S1LAt1"
      },
      "outputs": [],
      "source": [
        "import pandas as pd\n",
        "import numpy as np\n",
        "import torch\n",
        "\n",
        "\n",
        "from transformers import BertForSequenceClassification, BertConfig, BertTokenizer\n",
        "from tensorflow.keras.preprocessing.sequence import pad_sequences\n",
        "from sklearn.metrics import classification_report\n",
        "import matplotlib.pyplot as plt\n",
        "\n",
        "# Preliminaries\n",
        "from torchtext.legacy.data import Field, TabularDataset, BucketIterator, Iterator\n",
        "\n",
        "\n",
        "# Models\n",
        "import torch.nn as nn\n",
        "\n",
        "# Training\n",
        "import torch.optim as optim\n",
        "\n",
        "# Evaluation\n",
        "from sklearn.metrics import accuracy_score, classification_report, confusion_matrix\n",
        "import seaborn as sns"
      ]
    },
    {
      "cell_type": "markdown",
      "metadata": {
        "id": "D87UOuPvZWf9"
      },
      "source": [
        "## Preliminaries"
      ]
    },
    {
      "cell_type": "code",
      "execution_count": 6,
      "metadata": {
        "id": "AtWXlthhPvxl",
        "colab": {
          "base_uri": "https://localhost:8080/",
          "height": 145,
          "referenced_widgets": [
            "4bbbea36aa564f84884c107800bd6a90",
            "b7c4c5402a14423985c3b9ac2817ce70",
            "9dbc243741e24095ada057aa61303eed",
            "0caa81f577ef4dc391b80fc4dc14a145",
            "83d59b6c7b4c4da9bd060d7d4f6fb521",
            "0d5b7a9e58834a9cb4cc3f4d6283cc83",
            "ecdccb7b60fc443a8ebbedd7af03f306",
            "757109a804d44b40966f5d33e3ef5c7d",
            "dc1a47d858de4a31aaeffd6e0c2ecf0a",
            "e3ed47c4bf4542afa99993b6032a020b",
            "007bbb2cc9f54182ae45e714c198d215",
            "2fba1f6e3c3f497f90f20f615a871c3b",
            "cbf7f1d7eb5745b5ad24e409eb43a88c",
            "5f37e3670e30437890547b260cc91eae",
            "9817d35ecebb458a915fedaa292f551a",
            "9f111deefd5848ac8edf332369939f05",
            "e5767ea33915454ca4ddf3dc062e3492",
            "d91a0b69b0e84aff8fc3551c1382dcbf",
            "7f807043c51d4ec5a6f25c68afc1d0b2",
            "89ab7f63fdf54e8a94efabfc3e2fc534",
            "c1672d4425dc4e24af9d113bf11d3151",
            "84ab149b4e0a4f6ba873a2eebd890c3c",
            "d0139058c4f945b6b0cb31d78041685e",
            "bebf3696931947868e345cd9b573db66",
            "cbfd5c5f99764bc980efde16cfe47bb2",
            "aa465996c60646daa58729fb449a59da",
            "2f2dc3747b814000a2875f7ca536603f",
            "dc77d0c52e4446e7aba8f2e1f38cc24b",
            "9a6e373c775a4b33b619f3dc41175c3b",
            "8f5b994dbaf84e009217c6488ff542b0",
            "9015583b5d994401ba640731c8ad99ce",
            "ed9353df1d204e24a060e8e36f7dc40f",
            "7fd9e4fbc6a846e99acccc869a1fbadd",
            "46cde625d4e04545b5fb590c1230857a",
            "4e55be817d1f4978ad64825ca7bec238",
            "7ba7e46f0cca4b0584b9af232d663bdb",
            "6b4463e7fa8048d99395537d21ab9fcb",
            "3ffc40c7d154465f93ed595e8def8f00",
            "053e89a885324bd8b901f0dca2b82a8d",
            "aa9c2d002b5f48f9ac0ddaa5f1b8e759",
            "c71c11189ac74b78b9a4d81d8bc2e396",
            "935c07a5e5f54d338683efdb66088302",
            "d5d5a50c57ee4710be48faf7e1d74372",
            "a2627feefe5549449ae637c28f8b49d1"
          ]
        },
        "outputId": "486b5bc9-370b-4c00-f3a2-57889282bd84"
      },
      "outputs": [
        {
          "output_type": "display_data",
          "data": {
            "text/plain": [
              "Downloading (…)solve/main/vocab.txt:   0%|          | 0.00/229k [00:00<?, ?B/s]"
            ],
            "application/vnd.jupyter.widget-view+json": {
              "version_major": 2,
              "version_minor": 0,
              "model_id": "4bbbea36aa564f84884c107800bd6a90"
            }
          },
          "metadata": {}
        },
        {
          "output_type": "display_data",
          "data": {
            "text/plain": [
              "Downloading (…)cial_tokens_map.json:   0%|          | 0.00/112 [00:00<?, ?B/s]"
            ],
            "application/vnd.jupyter.widget-view+json": {
              "version_major": 2,
              "version_minor": 0,
              "model_id": "2fba1f6e3c3f497f90f20f615a871c3b"
            }
          },
          "metadata": {}
        },
        {
          "output_type": "display_data",
          "data": {
            "text/plain": [
              "Downloading (…)okenizer_config.json:   0%|          | 0.00/2.00 [00:00<?, ?B/s]"
            ],
            "application/vnd.jupyter.widget-view+json": {
              "version_major": 2,
              "version_minor": 0,
              "model_id": "d0139058c4f945b6b0cb31d78041685e"
            }
          },
          "metadata": {}
        },
        {
          "output_type": "display_data",
          "data": {
            "text/plain": [
              "Downloading (…)lve/main/config.json:   0%|          | 0.00/1.53k [00:00<?, ?B/s]"
            ],
            "application/vnd.jupyter.widget-view+json": {
              "version_major": 2,
              "version_minor": 0,
              "model_id": "46cde625d4e04545b5fb590c1230857a"
            }
          },
          "metadata": {}
        }
      ],
      "source": [
        "tokenizer = BertTokenizer.from_pretrained('indobenchmark/indobert-base-p1')"
      ]
    },
    {
      "cell_type": "code",
      "execution_count": 7,
      "metadata": {
        "id": "gWg-WDVbWyGO"
      },
      "outputs": [],
      "source": [
        "device = torch.device('cuda:0' if torch.cuda.is_available() else 'cpu')"
      ]
    },
    {
      "cell_type": "markdown",
      "source": [
        "##Random Seed"
      ],
      "metadata": {
        "id": "1Fwjvqc0YrCP"
      }
    },
    {
      "cell_type": "code",
      "source": [
        "import random\n",
        "\n",
        "seed = 42\n",
        "torch.manual_seed(seed)\n",
        "torch.cuda.manual_seed(seed)\n",
        "torch.cuda.manual_seed_all(seed)  # jika menggunakan multiple GPUs\n",
        "random.seed(seed)\n",
        "np.random.seed(seed)\n",
        "torch.backends.cudnn.deterministic = True\n",
        "torch.backends.cudnn.benchmark = False"
      ],
      "metadata": {
        "id": "NTH_lIhxYpuj"
      },
      "execution_count": 8,
      "outputs": []
    },
    {
      "cell_type": "markdown",
      "metadata": {
        "id": "C7sIHRLwaoyM"
      },
      "source": [
        "## Model"
      ]
    },
    {
      "cell_type": "code",
      "execution_count": 9,
      "metadata": {
        "id": "GeZ14Ky5Lqih"
      },
      "outputs": [],
      "source": [
        "# Model parameter\n",
        "MAX_SEQ_LEN = 128\n",
        "PAD_INDEX = tokenizer.convert_tokens_to_ids(tokenizer.pad_token)\n",
        "UNK_INDEX = tokenizer.convert_tokens_to_ids(tokenizer.unk_token)\n",
        "\n",
        "# Fields\n",
        "label_field = Field(sequential=False, use_vocab=False, batch_first=True, dtype=torch.float)\n",
        "text_field = Field(use_vocab=False, tokenize=tokenizer.encode, lower=False, include_lengths=False, batch_first=True,\n",
        "                   fix_length=MAX_SEQ_LEN, pad_token=PAD_INDEX, unk_token=UNK_INDEX)\n",
        "fields = [('Label', label_field), ('Tokenizing_Head', text_field), ('Tokenizing_Body', text_field)]\n",
        "\n",
        "train, valid, test = TabularDataset.splits(path=source_folder, train='train3.csv', validation='valid3.csv', test='test3.csv',\n",
        "                                           format='csv', fields=fields, skip_header=True)\n"
      ]
    },
    {
      "cell_type": "code",
      "execution_count": 10,
      "metadata": {
        "id": "NSKPey98jRpM"
      },
      "outputs": [],
      "source": [
        "# Iterators\n",
        "train_iter = BucketIterator(train, batch_size=16, sort_key=lambda x: len(x.Tokenizing_Body),\n",
        "                            device=device, train=True, sort=True, sort_within_batch=True)\n",
        "valid_iter = BucketIterator(valid, batch_size=16, sort_key=lambda x: len(x.Tokenizing_Body),\n",
        "                            device=device, train=True, sort=True, sort_within_batch=True)\n",
        "test_iter = Iterator(test, batch_size=16, device=device, train=False, shuffle=False, sort=False)"
      ]
    },
    {
      "cell_type": "code",
      "execution_count": 11,
      "metadata": {
        "id": "YfFxkaJq1WmC"
      },
      "outputs": [],
      "source": [
        "# Module\n",
        "class BERT(nn.Module):\n",
        "\n",
        "    def __init__(self):\n",
        "        super(BERT, self).__init__()\n",
        "\n",
        "        options_name = \"indobenchmark/indobert-base-p1\"\n",
        "        self.encoder = BertForSequenceClassification.from_pretrained(options_name)\n",
        "\n",
        "    # def forward(self, headline, body, label=None):\n",
        "    #     loss, text_fea = self.encoder(input_ids=body, attention_mask=(body!=PAD_INDEX), token_type_ids=(headline!=PAD_INDEX), labels=label)[:2]\n",
        "    def forward(self, text, label):\n",
        "        loss, text_fea = self.encoder(text, labels=label)[:2]\n",
        "\n",
        "        return loss, text_fea"
      ]
    },
    {
      "cell_type": "code",
      "execution_count": 12,
      "metadata": {
        "id": "egjaxiu51prx"
      },
      "outputs": [],
      "source": [
        "def save_checkpoint(save_path, model, valid_loss):\n",
        "    if save_path is None:\n",
        "        return\n",
        "\n",
        "    state_dict = {'model_state_dict': model.state_dict(),\n",
        "                  'valid_loss': valid_loss}\n",
        "\n",
        "    torch.save(state_dict, save_path)\n",
        "    print(f'Model saved to ==> {save_path}')\n",
        "\n",
        "\n",
        "def load_checkpoint(load_path, model):\n",
        "    if load_path is None:\n",
        "        return\n",
        "\n",
        "    state_dict = torch.load(load_path, map_location=device)\n",
        "    print(f'Model loaded from <== {load_path}')\n",
        "\n",
        "    model.load_state_dict(state_dict['model_state_dict'])\n",
        "    return state_dict['valid_loss']\n",
        "\n",
        "\n",
        "def save_metrics(save_path, train_loss_list, valid_loss_list, epoch_list):\n",
        "    if save_path is None:\n",
        "        return\n",
        "\n",
        "    state_dict = {'train_loss_list': train_loss_list,\n",
        "                  'valid_loss_list': valid_loss_list,\n",
        "                  'epoch_list': epoch_list}\n",
        "\n",
        "    torch.save(state_dict, save_path)\n",
        "    print(f'Metrics saved to ==> {save_path}')\n",
        "\n",
        "\n",
        "def load_metrics(load_path):\n",
        "    if load_path is None:\n",
        "        return\n",
        "\n",
        "    state_dict = torch.load(load_path, map_location=device)\n",
        "    print(f'Metrics loaded from <== {load_path}')\n",
        "\n",
        "    return state_dict['train_loss_list'], state_dict['valid_loss_list'], state_dict['epoch_list']"
      ]
    },
    {
      "cell_type": "markdown",
      "metadata": {
        "id": "hsAT0DKHZ1si"
      },
      "source": [
        "## Training and Validation"
      ]
    },
    {
      "cell_type": "code",
      "execution_count": 13,
      "metadata": {
        "id": "mf4FbhurXdUs"
      },
      "outputs": [],
      "source": [
        "def train(model,\n",
        "          optimizer,\n",
        "          criterion=nn.BCELoss(),\n",
        "          train_loader=train_iter,\n",
        "          valid_loader=valid_iter,\n",
        "          num_epochs=10,\n",
        "          eval_every=1,\n",
        "          file_path=destination_folder,\n",
        "          best_valid_loss=float(\"Inf\"),\n",
        "          patience=3):\n",
        "\n",
        "    # initialize running values\n",
        "    running_loss = 0.0\n",
        "    valid_running_loss = 0.0\n",
        "    train_loss_list = []\n",
        "    valid_loss_list = []\n",
        "    epoch_list = []\n",
        "\n",
        "    # training loop\n",
        "    model.train()\n",
        "    for epoch in range(num_epochs):\n",
        "        for (labels, title, text), _ in train_loader:\n",
        "            labels = labels.type(torch.LongTensor)\n",
        "            labels = labels.to(device)\n",
        "            text = text.type(torch.LongTensor)\n",
        "            text = text.to(device)\n",
        "            output = model(text, labels)\n",
        "            loss, _ = output\n",
        "\n",
        "            optimizer.zero_grad()\n",
        "            loss.backward()\n",
        "            optimizer.step()\n",
        "\n",
        "            # update running values\n",
        "            running_loss += loss.item()\n",
        "\n",
        "        # evaluation step\n",
        "        if epoch % eval_every == 0:\n",
        "            model.eval()\n",
        "            with torch.no_grad():\n",
        "                # validation loop\n",
        "                for (labels, title, text), _ in valid_loader:\n",
        "                    labels = labels.type(torch.LongTensor)\n",
        "                    labels = labels.to(device)\n",
        "                    text = text.type(torch.LongTensor)\n",
        "                    text = text.to(device)\n",
        "                    output = model(text, labels)\n",
        "                    loss, _ = output\n",
        "\n",
        "                    valid_running_loss += loss.item()\n",
        "\n",
        "            # evaluation\n",
        "            average_train_loss = running_loss / len(train_loader)\n",
        "            average_valid_loss = valid_running_loss / len(valid_loader)\n",
        "            train_loss_list.append(average_train_loss)\n",
        "            valid_loss_list.append(average_valid_loss)\n",
        "            epoch_list.append(epoch)\n",
        "\n",
        "            # resetting running values\n",
        "            running_loss = 0.0\n",
        "            valid_running_loss = 0.0\n",
        "            model.train()\n",
        "\n",
        "            # print progress\n",
        "            print('Epoch [{}/{}], Train Loss: {:.4f}, Valid Loss: {:.4f}'\n",
        "                  .format(epoch+1, num_epochs, average_train_loss, average_valid_loss))\n",
        "\n",
        "            # checkpoint\n",
        "            if best_valid_loss > average_valid_loss:\n",
        "                best_valid_loss = average_valid_loss\n",
        "                save_checkpoint(file_path + '/' + 'model.pt', model, best_valid_loss)\n",
        "                save_metrics(file_path + '/' + 'metrics.pt', train_loss_list, valid_loss_list, epoch_list)\n",
        "\n",
        "    save_metrics(file_path + '/' + 'metrics.pt', train_loss_list, valid_loss_list, epoch_list)\n",
        "    print('Finished Training!')\n",
        "    return train_loss_list, valid_loss_list, epoch_list, best_valid_loss"
      ]
    },
    {
      "cell_type": "code",
      "execution_count": 14,
      "metadata": {
        "colab": {
          "base_uri": "https://localhost:8080/",
          "height": 520,
          "referenced_widgets": [
            "20525a060737489baa6d92fa640a3955",
            "162dede670f24b359d9000a6b8fbcf28",
            "a92f739de00846a899df85b2de1dfba7",
            "56a90010250747cb9b57ca8cabd2d034",
            "667da5788ec94f66bab1d74a2c6296ff",
            "3fbb14485830425296173f36a24370eb",
            "23c999769277444dad9fa878f3ed1127",
            "c251400214d942beb7dc762f7745627b",
            "51f145dcc8694dc498ec48ef27f799ec",
            "da97d4eb30fd4ac1999d8cfaefaa242c",
            "71fcdb01608a4df6be02cd52f3536849"
          ]
        },
        "id": "qgEMeGkE25GR",
        "outputId": "c51d0642-53dd-48ab-b77e-22a5a08e1113"
      },
      "outputs": [
        {
          "output_type": "display_data",
          "data": {
            "text/plain": [
              "Downloading pytorch_model.bin:   0%|          | 0.00/498M [00:00<?, ?B/s]"
            ],
            "application/vnd.jupyter.widget-view+json": {
              "version_major": 2,
              "version_minor": 0,
              "model_id": "20525a060737489baa6d92fa640a3955"
            }
          },
          "metadata": {}
        },
        {
          "output_type": "stream",
          "name": "stderr",
          "text": [
            "Some weights of BertForSequenceClassification were not initialized from the model checkpoint at indobenchmark/indobert-base-p1 and are newly initialized: ['classifier.bias', 'classifier.weight']\n",
            "You should probably TRAIN this model on a down-stream task to be able to use it for predictions and inference.\n"
          ]
        },
        {
          "output_type": "stream",
          "name": "stdout",
          "text": [
            "Epoch [1/10], Train Loss: 0.6521, Valid Loss: 0.7228\n",
            "Model saved to ==> /content/drive/MyDrive/TASI/Bayessian/ModelImbalance/model.pt\n",
            "Metrics saved to ==> /content/drive/MyDrive/TASI/Bayessian/ModelImbalance/metrics.pt\n",
            "Epoch [2/10], Train Loss: 0.6210, Valid Loss: 0.6529\n",
            "Model saved to ==> /content/drive/MyDrive/TASI/Bayessian/ModelImbalance/model.pt\n",
            "Metrics saved to ==> /content/drive/MyDrive/TASI/Bayessian/ModelImbalance/metrics.pt\n",
            "Epoch [3/10], Train Loss: 0.2738, Valid Loss: 0.2941\n",
            "Model saved to ==> /content/drive/MyDrive/TASI/Bayessian/ModelImbalance/model.pt\n",
            "Metrics saved to ==> /content/drive/MyDrive/TASI/Bayessian/ModelImbalance/metrics.pt\n",
            "Epoch [4/10], Train Loss: 0.1369, Valid Loss: 0.2067\n",
            "Model saved to ==> /content/drive/MyDrive/TASI/Bayessian/ModelImbalance/model.pt\n",
            "Metrics saved to ==> /content/drive/MyDrive/TASI/Bayessian/ModelImbalance/metrics.pt\n",
            "Epoch [5/10], Train Loss: 0.0909, Valid Loss: 0.1357\n",
            "Model saved to ==> /content/drive/MyDrive/TASI/Bayessian/ModelImbalance/model.pt\n",
            "Metrics saved to ==> /content/drive/MyDrive/TASI/Bayessian/ModelImbalance/metrics.pt\n",
            "Epoch [6/10], Train Loss: 0.0621, Valid Loss: 0.3082\n",
            "Epoch [7/10], Train Loss: 0.0442, Valid Loss: 0.0972\n",
            "Model saved to ==> /content/drive/MyDrive/TASI/Bayessian/ModelImbalance/model.pt\n",
            "Metrics saved to ==> /content/drive/MyDrive/TASI/Bayessian/ModelImbalance/metrics.pt\n",
            "Epoch [8/10], Train Loss: 0.0472, Valid Loss: 0.1007\n",
            "Epoch [9/10], Train Loss: 0.0306, Valid Loss: 0.1404\n",
            "Epoch [10/10], Train Loss: 0.0279, Valid Loss: 0.1502\n",
            "Metrics saved to ==> /content/drive/MyDrive/TASI/Bayessian/ModelImbalance/metrics.pt\n",
            "Finished Training!\n"
          ]
        }
      ],
      "source": [
        "model = BERT().to(device)\n",
        "optimizer = optim.Adam(model.parameters(), lr=2e-5)\n",
        "\n",
        "train_loss_list, valid_loss_list, epoch_list, best_valid_loss = train(model=model, optimizer=optimizer)"
      ]
    },
    {
      "cell_type": "code",
      "execution_count": 15,
      "metadata": {
        "id": "aB-0Up2JSsCC",
        "colab": {
          "base_uri": "https://localhost:8080/",
          "height": 466
        },
        "outputId": "1c7f16c1-0aa8-44fc-ed9f-a1f0b5a3e1d1"
      },
      "outputs": [
        {
          "output_type": "stream",
          "name": "stdout",
          "text": [
            "Metrics loaded from <== /content/drive/MyDrive/TASI/Bayessian/ModelImbalance/metrics.pt\n"
          ]
        },
        {
          "output_type": "display_data",
          "data": {
            "text/plain": [
              "<Figure size 640x480 with 1 Axes>"
            ],
            "image/png": "[encoded data removed]"
          },
          "metadata": {}
        }
      ],
      "source": [
        "train_loss_list, valid_loss_list, epoch_list = load_metrics(destination_folder + '/metrics.pt')\n",
        "plt.plot(epoch_list, train_loss_list, label='Train')\n",
        "plt.plot(epoch_list, valid_loss_list, label='Valid')\n",
        "plt.xlabel('Epochs')\n",
        "plt.ylabel('Loss')\n",
        "plt.legend()\n",
        "plt.show()"
      ]
    },
    {
      "cell_type": "markdown",
      "metadata": {
        "id": "2HlW7cvQaYvl"
      },
      "source": [
        "## Testing"
      ]
    },
    {
      "cell_type": "code",
      "execution_count": 16,
      "metadata": {
        "id": "uMcQfFEFS1AB",
        "colab": {
          "base_uri": "https://localhost:8080/",
          "height": 614
        },
        "outputId": "f9c682cd-aaa4-4d9d-a1a7-9552325b8bd7"
      },
      "outputs": [
        {
          "output_type": "stream",
          "name": "stderr",
          "text": [
            "Some weights of BertForSequenceClassification were not initialized from the model checkpoint at indobenchmark/indobert-base-p1 and are newly initialized: ['classifier.bias', 'classifier.weight']\n",
            "You should probably TRAIN this model on a down-stream task to be able to use it for predictions and inference.\n"
          ]
        },
        {
          "output_type": "stream",
          "name": "stdout",
          "text": [
            "Model loaded from <== /content/drive/MyDrive/TASI/Bayessian/ModelImbalance/model.pt\n",
            "Classification Report:\n",
            "Real - Precision: 0.8632, Recall: 0.9266, F1-Score: 0.8938\n",
            "Fake - Precision: 0.9633, Recall: 0.9292, F1-Score: 0.9459\n",
            "Accuracy: 0.9283582089552239\n"
          ]
        },
        {
          "output_type": "display_data",
          "data": {
            "text/plain": [
              "<Figure size 640x480 with 2 Axes>"
            ],
            "image/png": "[encoded data removed]"
          },
          "metadata": {}
        }
      ],
      "source": [
        "from sklearn.metrics import classification_report, accuracy_score, confusion_matrix\n",
        "import numpy as np\n",
        "import seaborn as sns\n",
        "import matplotlib.pyplot as plt\n",
        "\n",
        "def evaluate(model, test_loader):\n",
        "    y_pred = []\n",
        "    y_true = []\n",
        "\n",
        "    model.eval()\n",
        "    with torch.no_grad():\n",
        "        for (labels, title, text), _ in test_loader:\n",
        "            labels = labels.type(torch.LongTensor)\n",
        "            labels = labels.to(device)\n",
        "            text = text.type(torch.LongTensor)\n",
        "            text = text.to(device)\n",
        "            output = model(text, labels)\n",
        "\n",
        "            _, output = output\n",
        "            y_pred.extend(torch.argmax(output, 1).tolist())\n",
        "            y_true.extend(labels.tolist())\n",
        "\n",
        "    # Mengganti label 1 menjadi \"real\" dan label 0 menjadi \"fake\"\n",
        "    y_true = np.where(np.array(y_true) == 1, \"real\", \"fake\")\n",
        "    y_pred = np.where(np.array(y_pred) == 1, \"real\", \"fake\")\n",
        "\n",
        "    # Menghitung dan mencetak hasil precision, recall, f1-score, dan accuracy\n",
        "    report = classification_report(y_true, y_pred, labels=[\"real\", \"fake\"], digits=4, output_dict=True)\n",
        "    print('Classification Report:')\n",
        "    for label, scores in report.items():\n",
        "        if label in [\"real\", \"fake\"]:\n",
        "            precision = scores['precision']\n",
        "            recall = scores['recall']\n",
        "            f1_score = scores['f1-score']\n",
        "            print(f\"{label.capitalize()} - Precision: {precision:.4f}, Recall: {recall:.4f}, F1-Score: {f1_score:.4f}\")\n",
        "    accuracy = accuracy_score(y_true, y_pred)\n",
        "    print(f'Accuracy: {accuracy}')\n",
        "\n",
        "    # Menghitung dan mencetak confusion matrix\n",
        "    cm = confusion_matrix(y_true, y_pred, labels=[\"real\", \"fake\"])\n",
        "    ax = plt.subplot()\n",
        "    sns.heatmap(cm, annot=True, ax=ax, cmap='Blues', fmt=\"d\")\n",
        "    ax.set_title('Confusion Matrix')\n",
        "    ax.set_xlabel('Predicted Labels')\n",
        "    ax.set_ylabel('True Labels')\n",
        "    ax.xaxis.set_ticklabels(['Real', 'Fake'])\n",
        "    ax.yaxis.set_ticklabels(['Real', 'Fake'])\n",
        "    plt.show()\n",
        "\n",
        "best_model = BERT().to(device)\n",
        "\n",
        "load_checkpoint(destination_folder + '/model.pt', best_model)\n",
        "\n",
        "evaluate(best_model, test_iter)"
      ]
    },
    {
      "cell_type": "markdown",
      "metadata": {
        "id": "lH-ndpu-LdhU"
      },
      "source": [
        "##Hyperparameter Tuning with Import Grid"
      ]
    },
    {
      "cell_type": "code",
      "execution_count": 17,
      "metadata": {
        "id": "BTVEwsVECsNB",
        "colab": {
          "base_uri": "https://localhost:8080/"
        },
        "outputId": "5bfe5d82-315c-4559-f75b-a3ed1d67e03c"
      },
      "outputs": [
        {
          "output_type": "stream",
          "name": "stdout",
          "text": [
            "Looking in indexes: https://pypi.org/simple, https://us-python.pkg.dev/colab-wheels/public/simple/\n",
            "Collecting optuna\n",
            "  Downloading optuna-3.2.0-py3-none-any.whl (390 kB)\n",
            "\u001b[2K     \u001b[90m━━━━━━━━━━━━━━━━━━━━━━━━━━━━━━━━━━━━━━\u001b[0m \u001b[32m390.6/390.6 kB\u001b[0m \u001b[31m32.0 MB/s\u001b[0m eta \u001b[36m0:00:00\u001b[0m\n",
            "\u001b[?25hCollecting alembic>=1.5.0 (from optuna)\n",
            "  Downloading alembic-1.11.1-py3-none-any.whl (224 kB)\n",
            "\u001b[2K     \u001b[90m━━━━━━━━━━━━━━━━━━━━━━━━━━━━━━━━━━━━━━\u001b[0m \u001b[32m224.5/224.5 kB\u001b[0m \u001b[31m31.0 MB/s\u001b[0m eta \u001b[36m0:00:00\u001b[0m\n",
            "\u001b[?25hCollecting cmaes>=0.9.1 (from optuna)\n",
            "  Downloading cmaes-0.9.1-py3-none-any.whl (21 kB)\n",
            "Collecting colorlog (from optuna)\n",
            "  Downloading colorlog-6.7.0-py2.py3-none-any.whl (11 kB)\n",
            "Requirement already satisfied: numpy in /usr/local/lib/python3.10/dist-packages (from optuna) (1.22.4)\n",
            "Requirement already satisfied: packaging>=20.0 in /usr/local/lib/python3.10/dist-packages (from optuna) (23.1)\n",
            "Requirement already satisfied: sqlalchemy>=1.3.0 in /usr/local/lib/python3.10/dist-packages (from optuna) (2.0.10)\n",
            "Requirement already satisfied: tqdm in /usr/local/lib/python3.10/dist-packages (from optuna) (4.65.0)\n",
            "Requirement already satisfied: PyYAML in /usr/local/lib/python3.10/dist-packages (from optuna) (6.0)\n",
            "Collecting Mako (from alembic>=1.5.0->optuna)\n",
            "  Downloading Mako-1.2.4-py3-none-any.whl (78 kB)\n",
            "\u001b[2K     \u001b[90m━━━━━━━━━━━━━━━━━━━━━━━━━━━━━━━━━━━━━━━━\u001b[0m \u001b[32m78.7/78.7 kB\u001b[0m \u001b[31m8.4 MB/s\u001b[0m eta \u001b[36m0:00:00\u001b[0m\n",
            "\u001b[?25hRequirement already satisfied: typing-extensions>=4 in /usr/local/lib/python3.10/dist-packages (from alembic>=1.5.0->optuna) (4.5.0)\n",
            "Requirement already satisfied: greenlet!=0.4.17 in /usr/local/lib/python3.10/dist-packages (from sqlalchemy>=1.3.0->optuna) (2.0.2)\n",
            "Requirement already satisfied: MarkupSafe>=0.9.2 in /usr/local/lib/python3.10/dist-packages (from Mako->alembic>=1.5.0->optuna) (2.1.2)\n",
            "Installing collected packages: Mako, colorlog, cmaes, alembic, optuna\n",
            "Successfully installed Mako-1.2.4 alembic-1.11.1 cmaes-0.9.1 colorlog-6.7.0 optuna-3.2.0\n"
          ]
        }
      ],
      "source": [
        "!pip install optuna"
      ]
    },
    {
      "cell_type": "code",
      "execution_count": 18,
      "metadata": {
        "id": "m4ZRW3Odyw8F",
        "colab": {
          "base_uri": "https://localhost:8080/"
        },
        "outputId": "2a3bb970-df99-4e16-f139-2273288c6451"
      },
      "outputs": [
        {
          "metadata": {
            "tags": null
          },
          "name": "stderr",
          "output_type": "stream",
          "text": [
            "[I 2023-06-20 02:37:29,085] A new study created in memory with name: no-name-aa108daa-59bd-47af-b3f0-2246e36e0bfd\n",
            "Some weights of BertForSequenceClassification were not initialized from the model checkpoint at indobenchmark/indobert-base-p1 and are newly initialized: ['classifier.bias', 'classifier.weight']\n",
            "You should probably TRAIN this model on a down-stream task to be able to use it for predictions and inference.\n"
          ]
        },
        {
          "metadata": {
            "tags": null
          },
          "name": "stdout",
          "output_type": "stream",
          "text": [
            "Epoch [1/9], Train Loss: 0.4816, Valid Loss: 0.3681\n",
            "Model saved to ==> /content/drive/MyDrive/TASI/Bayessian/ModelImbalance/model.pt\n",
            "Metrics saved to ==> /content/drive/MyDrive/TASI/Bayessian/ModelImbalance/metrics.pt\n",
            "Epoch [2/9], Train Loss: 0.2258, Valid Loss: 0.2334\n",
            "Model saved to ==> /content/drive/MyDrive/TASI/Bayessian/ModelImbalance/model.pt\n",
            "Metrics saved to ==> /content/drive/MyDrive/TASI/Bayessian/ModelImbalance/metrics.pt\n",
            "Epoch [3/9], Train Loss: 0.1561, Valid Loss: 0.1817\n",
            "Model saved to ==> /content/drive/MyDrive/TASI/Bayessian/ModelImbalance/model.pt\n",
            "Metrics saved to ==> /content/drive/MyDrive/TASI/Bayessian/ModelImbalance/metrics.pt\n",
            "Epoch [4/9], Train Loss: 0.0758, Valid Loss: 0.1827\n",
            "Epoch [5/9], Train Loss: 0.0441, Valid Loss: 0.1285\n",
            "Model saved to ==> /content/drive/MyDrive/TASI/Bayessian/ModelImbalance/model.pt\n",
            "Metrics saved to ==> /content/drive/MyDrive/TASI/Bayessian/ModelImbalance/metrics.pt\n",
            "Epoch [6/9], Train Loss: 0.0364, Valid Loss: 0.1357\n",
            "Epoch [7/9], Train Loss: 0.0095, Valid Loss: 0.2056\n",
            "Epoch [8/9], Train Loss: 0.0176, Valid Loss: 0.1343\n",
            "Epoch [9/9], Train Loss: 0.0185, Valid Loss: 0.2817\n",
            "Metrics saved to ==> /content/drive/MyDrive/TASI/Bayessian/ModelImbalance/metrics.pt\n",
            "Finished Training!\n"
          ]
        },
        {
          "metadata": {
            "tags": null
          },
          "name": "stderr",
          "output_type": "stream",
          "text": [
            "[I 2023-06-20 02:40:40,660] Trial 0 finished with value: 0.12848430427922203 and parameters: {'lr': 3e-05, 'num_epochs': 9, 'batch_size': 16}. Best is trial 0 with value: 0.12848430427922203.\n",
            "Some weights of BertForSequenceClassification were not initialized from the model checkpoint at indobenchmark/indobert-base-p1 and are newly initialized: ['classifier.bias', 'classifier.weight']\n",
            "You should probably TRAIN this model on a down-stream task to be able to use it for predictions and inference.\n"
          ]
        },
        {
          "metadata": {
            "tags": null
          },
          "name": "stdout",
          "output_type": "stream",
          "text": [
            "Epoch [1/8], Train Loss: 0.6691, Valid Loss: 0.6541\n",
            "Model saved to ==> /content/drive/MyDrive/TASI/Bayessian/ModelImbalance/model.pt\n",
            "Metrics saved to ==> /content/drive/MyDrive/TASI/Bayessian/ModelImbalance/metrics.pt\n",
            "Epoch [2/8], Train Loss: 0.5685, Valid Loss: 0.4617\n",
            "Model saved to ==> /content/drive/MyDrive/TASI/Bayessian/ModelImbalance/model.pt\n",
            "Metrics saved to ==> /content/drive/MyDrive/TASI/Bayessian/ModelImbalance/metrics.pt\n",
            "Epoch [3/8], Train Loss: 0.2378, Valid Loss: 0.1763\n",
            "Model saved to ==> /content/drive/MyDrive/TASI/Bayessian/ModelImbalance/model.pt\n",
            "Metrics saved to ==> /content/drive/MyDrive/TASI/Bayessian/ModelImbalance/metrics.pt\n",
            "Epoch [4/8], Train Loss: 0.1588, Valid Loss: 0.2200\n",
            "Epoch [5/8], Train Loss: 0.0823, Valid Loss: 0.2721\n",
            "Epoch [6/8], Train Loss: 0.0448, Valid Loss: 0.1922\n",
            "Epoch [7/8], Train Loss: 0.0196, Valid Loss: 0.4488\n"
          ]
        },
        {
          "metadata": {
            "tags": null
          },
          "name": "stderr",
          "output_type": "stream",
          "text": [
            "[I 2023-06-20 02:43:21,777] Trial 1 finished with value: 0.17633572087756225 and parameters: {'lr': 2e-05, 'num_epochs': 8, 'batch_size': 16}. Best is trial 0 with value: 0.12848430427922203.\n"
          ]
        },
        {
          "metadata": {
            "tags": null
          },
          "name": "stdout",
          "output_type": "stream",
          "text": [
            "Epoch [8/8], Train Loss: 0.0410, Valid Loss: 0.2003\n",
            "Metrics saved to ==> /content/drive/MyDrive/TASI/Bayessian/ModelImbalance/metrics.pt\n",
            "Finished Training!\n"
          ]
        },
        {
          "metadata": {
            "tags": null
          },
          "name": "stderr",
          "output_type": "stream",
          "text": [
            "Some weights of BertForSequenceClassification were not initialized from the model checkpoint at indobenchmark/indobert-base-p1 and are newly initialized: ['classifier.bias', 'classifier.weight']\n",
            "You should probably TRAIN this model on a down-stream task to be able to use it for predictions and inference.\n"
          ]
        },
        {
          "metadata": {
            "tags": null
          },
          "name": "stdout",
          "output_type": "stream",
          "text": [
            "Epoch [1/5], Train Loss: 0.5388, Valid Loss: 0.3162\n",
            "Model saved to ==> /content/drive/MyDrive/TASI/Bayessian/ModelImbalance/model.pt\n",
            "Metrics saved to ==> /content/drive/MyDrive/TASI/Bayessian/ModelImbalance/metrics.pt\n",
            "Epoch [2/5], Train Loss: 0.2241, Valid Loss: 0.1698\n",
            "Model saved to ==> /content/drive/MyDrive/TASI/Bayessian/ModelImbalance/model.pt\n",
            "Metrics saved to ==> /content/drive/MyDrive/TASI/Bayessian/ModelImbalance/metrics.pt\n",
            "Epoch [3/5], Train Loss: 0.1364, Valid Loss: 0.1923\n",
            "Epoch [4/5], Train Loss: 0.0849, Valid Loss: 0.1918\n"
          ]
        },
        {
          "metadata": {
            "tags": null
          },
          "name": "stderr",
          "output_type": "stream",
          "text": [
            "[I 2023-06-20 02:45:02,187] Trial 2 finished with value: 0.16979740713057773 and parameters: {'lr': 5e-05, 'num_epochs': 5, 'batch_size': 16}. Best is trial 0 with value: 0.12848430427922203.\n"
          ]
        },
        {
          "metadata": {
            "tags": null
          },
          "name": "stdout",
          "output_type": "stream",
          "text": [
            "Epoch [5/5], Train Loss: 0.0693, Valid Loss: 0.2180\n",
            "Metrics saved to ==> /content/drive/MyDrive/TASI/Bayessian/ModelImbalance/metrics.pt\n",
            "Finished Training!\n"
          ]
        },
        {
          "metadata": {
            "tags": null
          },
          "name": "stderr",
          "output_type": "stream",
          "text": [
            "Some weights of BertForSequenceClassification were not initialized from the model checkpoint at indobenchmark/indobert-base-p1 and are newly initialized: ['classifier.bias', 'classifier.weight']\n",
            "You should probably TRAIN this model on a down-stream task to be able to use it for predictions and inference.\n"
          ]
        },
        {
          "metadata": {
            "tags": null
          },
          "name": "stdout",
          "output_type": "stream",
          "text": [
            "Epoch [1/7], Train Loss: 0.6402, Valid Loss: 0.6259\n",
            "Model saved to ==> /content/drive/MyDrive/TASI/Bayessian/ModelImbalance/model.pt\n",
            "Metrics saved to ==> /content/drive/MyDrive/TASI/Bayessian/ModelImbalance/metrics.pt\n",
            "Epoch [2/7], Train Loss: 0.4235, Valid Loss: 0.3492\n",
            "Model saved to ==> /content/drive/MyDrive/TASI/Bayessian/ModelImbalance/model.pt\n",
            "Metrics saved to ==> /content/drive/MyDrive/TASI/Bayessian/ModelImbalance/metrics.pt\n",
            "Epoch [3/7], Train Loss: 0.2133, Valid Loss: 0.1698\n",
            "Model saved to ==> /content/drive/MyDrive/TASI/Bayessian/ModelImbalance/model.pt\n",
            "Metrics saved to ==> /content/drive/MyDrive/TASI/Bayessian/ModelImbalance/metrics.pt\n",
            "Epoch [4/7], Train Loss: 0.1501, Valid Loss: 0.2211\n",
            "Epoch [5/7], Train Loss: 0.0655, Valid Loss: 0.1788\n",
            "Epoch [6/7], Train Loss: 0.0247, Valid Loss: 0.1918\n"
          ]
        },
        {
          "metadata": {
            "tags": null
          },
          "name": "stderr",
          "output_type": "stream",
          "text": [
            "[I 2023-06-20 02:47:22,324] Trial 3 finished with value: 0.1698474217472332 and parameters: {'lr': 3e-05, 'num_epochs': 7, 'batch_size': 32}. Best is trial 0 with value: 0.12848430427922203.\n"
          ]
        },
        {
          "metadata": {
            "tags": null
          },
          "name": "stdout",
          "output_type": "stream",
          "text": [
            "Epoch [7/7], Train Loss: 0.0260, Valid Loss: 0.3150\n",
            "Metrics saved to ==> /content/drive/MyDrive/TASI/Bayessian/ModelImbalance/metrics.pt\n",
            "Finished Training!\n"
          ]
        },
        {
          "metadata": {
            "tags": null
          },
          "name": "stderr",
          "output_type": "stream",
          "text": [
            "Some weights of BertForSequenceClassification were not initialized from the model checkpoint at indobenchmark/indobert-base-p1 and are newly initialized: ['classifier.bias', 'classifier.weight']\n",
            "You should probably TRAIN this model on a down-stream task to be able to use it for predictions and inference.\n"
          ]
        },
        {
          "metadata": {
            "tags": null
          },
          "name": "stdout",
          "output_type": "stream",
          "text": [
            "Epoch [1/8], Train Loss: 0.6746, Valid Loss: 0.6524\n",
            "Model saved to ==> /content/drive/MyDrive/TASI/Bayessian/ModelImbalance/model.pt\n",
            "Metrics saved to ==> /content/drive/MyDrive/TASI/Bayessian/ModelImbalance/metrics.pt\n",
            "Epoch [2/8], Train Loss: 0.6941, Valid Loss: 0.6543\n",
            "Epoch [3/8], Train Loss: 0.6575, Valid Loss: 0.6070\n",
            "Model saved to ==> /content/drive/MyDrive/TASI/Bayessian/ModelImbalance/model.pt\n",
            "Metrics saved to ==> /content/drive/MyDrive/TASI/Bayessian/ModelImbalance/metrics.pt\n",
            "Epoch [4/8], Train Loss: 0.5879, Valid Loss: 0.5402\n",
            "Model saved to ==> /content/drive/MyDrive/TASI/Bayessian/ModelImbalance/model.pt\n",
            "Metrics saved to ==> /content/drive/MyDrive/TASI/Bayessian/ModelImbalance/metrics.pt\n",
            "Epoch [5/8], Train Loss: 0.2434, Valid Loss: 0.3466\n",
            "Model saved to ==> /content/drive/MyDrive/TASI/Bayessian/ModelImbalance/model.pt\n",
            "Metrics saved to ==> /content/drive/MyDrive/TASI/Bayessian/ModelImbalance/metrics.pt\n",
            "Epoch [6/8], Train Loss: 0.2152, Valid Loss: 0.2374\n",
            "Model saved to ==> /content/drive/MyDrive/TASI/Bayessian/ModelImbalance/model.pt\n",
            "Metrics saved to ==> /content/drive/MyDrive/TASI/Bayessian/ModelImbalance/metrics.pt\n",
            "Epoch [7/8], Train Loss: 0.1240, Valid Loss: 0.2995\n",
            "Epoch [8/8], Train Loss: 0.0592, Valid Loss: 0.1985\n"
          ]
        },
        {
          "metadata": {
            "tags": null
          },
          "name": "stderr",
          "output_type": "stream",
          "text": [
            "[I 2023-06-20 02:50:11,734] Trial 4 finished with value: 0.1984615845472685 and parameters: {'lr': 3e-05, 'num_epochs': 8, 'batch_size': 16}. Best is trial 0 with value: 0.12848430427922203.\n"
          ]
        },
        {
          "metadata": {
            "tags": null
          },
          "name": "stdout",
          "output_type": "stream",
          "text": [
            "Model saved to ==> /content/drive/MyDrive/TASI/Bayessian/ModelImbalance/model.pt\n",
            "Metrics saved to ==> /content/drive/MyDrive/TASI/Bayessian/ModelImbalance/metrics.pt\n",
            "Metrics saved to ==> /content/drive/MyDrive/TASI/Bayessian/ModelImbalance/metrics.pt\n",
            "Finished Training!\n"
          ]
        },
        {
          "metadata": {
            "tags": null
          },
          "name": "stderr",
          "output_type": "stream",
          "text": [
            "Some weights of BertForSequenceClassification were not initialized from the model checkpoint at indobenchmark/indobert-base-p1 and are newly initialized: ['classifier.bias', 'classifier.weight']\n",
            "You should probably TRAIN this model on a down-stream task to be able to use it for predictions and inference.\n"
          ]
        },
        {
          "metadata": {
            "tags": null
          },
          "name": "stdout",
          "output_type": "stream",
          "text": [
            "Epoch [1/9], Train Loss: 0.6620, Valid Loss: 0.6471\n",
            "Model saved to ==> /content/drive/MyDrive/TASI/Bayessian/ModelImbalance/model.pt\n",
            "Metrics saved to ==> /content/drive/MyDrive/TASI/Bayessian/ModelImbalance/metrics.pt\n",
            "Epoch [2/9], Train Loss: 0.4811, Valid Loss: 0.2750\n",
            "Model saved to ==> /content/drive/MyDrive/TASI/Bayessian/ModelImbalance/model.pt\n",
            "Metrics saved to ==> /content/drive/MyDrive/TASI/Bayessian/ModelImbalance/metrics.pt\n",
            "Epoch [3/9], Train Loss: 0.1876, Valid Loss: 0.1466\n",
            "Model saved to ==> /content/drive/MyDrive/TASI/Bayessian/ModelImbalance/model.pt\n",
            "Metrics saved to ==> /content/drive/MyDrive/TASI/Bayessian/ModelImbalance/metrics.pt\n",
            "Epoch [4/9], Train Loss: 0.1245, Valid Loss: 0.1767\n",
            "Epoch [5/9], Train Loss: 0.0667, Valid Loss: 0.1064\n",
            "Model saved to ==> /content/drive/MyDrive/TASI/Bayessian/ModelImbalance/model.pt\n",
            "Metrics saved to ==> /content/drive/MyDrive/TASI/Bayessian/ModelImbalance/metrics.pt\n",
            "Epoch [6/9], Train Loss: 0.0317, Valid Loss: 0.0924\n",
            "Model saved to ==> /content/drive/MyDrive/TASI/Bayessian/ModelImbalance/model.pt\n",
            "Metrics saved to ==> /content/drive/MyDrive/TASI/Bayessian/ModelImbalance/metrics.pt\n",
            "Epoch [7/9], Train Loss: 0.0076, Valid Loss: 0.1037\n",
            "Epoch [8/9], Train Loss: 0.0110, Valid Loss: 0.1187\n",
            "Epoch [9/9], Train Loss: 0.0077, Valid Loss: 0.2451\n",
            "Metrics saved to ==> /content/drive/MyDrive/TASI/Bayessian/ModelImbalance/metrics.pt\n",
            "Finished Training!\n"
          ]
        },
        {
          "metadata": {
            "tags": null
          },
          "name": "stderr",
          "output_type": "stream",
          "text": [
            "[I 2023-06-20 02:53:16,810] Trial 5 finished with value: 0.09240064836506333 and parameters: {'lr': 2e-05, 'num_epochs': 9, 'batch_size': 32}. Best is trial 5 with value: 0.09240064836506333.\n",
            "Some weights of BertForSequenceClassification were not initialized from the model checkpoint at indobenchmark/indobert-base-p1 and are newly initialized: ['classifier.bias', 'classifier.weight']\n",
            "You should probably TRAIN this model on a down-stream task to be able to use it for predictions and inference.\n"
          ]
        },
        {
          "metadata": {
            "tags": null
          },
          "name": "stdout",
          "output_type": "stream",
          "text": [
            "Epoch [1/5], Train Loss: 0.5607, Valid Loss: 0.4028\n",
            "Model saved to ==> /content/drive/MyDrive/TASI/Bayessian/ModelImbalance/model.pt\n",
            "Metrics saved to ==> /content/drive/MyDrive/TASI/Bayessian/ModelImbalance/metrics.pt\n",
            "Epoch [2/5], Train Loss: 0.3291, Valid Loss: 0.2095\n",
            "Model saved to ==> /content/drive/MyDrive/TASI/Bayessian/ModelImbalance/model.pt\n",
            "Metrics saved to ==> /content/drive/MyDrive/TASI/Bayessian/ModelImbalance/metrics.pt\n",
            "Epoch [3/5], Train Loss: 0.1855, Valid Loss: 0.2913\n",
            "Epoch [4/5], Train Loss: 0.1111, Valid Loss: 0.4109\n",
            "Epoch [5/5], Train Loss: 0.0821, Valid Loss: 0.1976\n"
          ]
        },
        {
          "metadata": {
            "tags": null
          },
          "name": "stderr",
          "output_type": "stream",
          "text": [
            "[I 2023-06-20 02:55:00,617] Trial 6 finished with value: 0.19758616090153477 and parameters: {'lr': 3e-05, 'num_epochs': 5, 'batch_size': 32}. Best is trial 5 with value: 0.09240064836506333.\n"
          ]
        },
        {
          "metadata": {
            "tags": null
          },
          "name": "stdout",
          "output_type": "stream",
          "text": [
            "Model saved to ==> /content/drive/MyDrive/TASI/Bayessian/ModelImbalance/model.pt\n",
            "Metrics saved to ==> /content/drive/MyDrive/TASI/Bayessian/ModelImbalance/metrics.pt\n",
            "Metrics saved to ==> /content/drive/MyDrive/TASI/Bayessian/ModelImbalance/metrics.pt\n",
            "Finished Training!\n"
          ]
        },
        {
          "metadata": {
            "tags": null
          },
          "name": "stderr",
          "output_type": "stream",
          "text": [
            "Some weights of BertForSequenceClassification were not initialized from the model checkpoint at indobenchmark/indobert-base-p1 and are newly initialized: ['classifier.bias', 'classifier.weight']\n",
            "You should probably TRAIN this model on a down-stream task to be able to use it for predictions and inference.\n"
          ]
        },
        {
          "metadata": {
            "tags": null
          },
          "name": "stdout",
          "output_type": "stream",
          "text": [
            "Epoch [1/5], Train Loss: 0.6586, Valid Loss: 0.5734\n",
            "Model saved to ==> /content/drive/MyDrive/TASI/Bayessian/ModelImbalance/model.pt\n",
            "Metrics saved to ==> /content/drive/MyDrive/TASI/Bayessian/ModelImbalance/metrics.pt\n",
            "Epoch [2/5], Train Loss: 0.4001, Valid Loss: 0.3918\n",
            "Model saved to ==> /content/drive/MyDrive/TASI/Bayessian/ModelImbalance/model.pt\n",
            "Metrics saved to ==> /content/drive/MyDrive/TASI/Bayessian/ModelImbalance/metrics.pt\n",
            "Epoch [3/5], Train Loss: 0.2101, Valid Loss: 0.2801\n",
            "Model saved to ==> /content/drive/MyDrive/TASI/Bayessian/ModelImbalance/model.pt\n",
            "Metrics saved to ==> /content/drive/MyDrive/TASI/Bayessian/ModelImbalance/metrics.pt\n",
            "Epoch [4/5], Train Loss: 0.1140, Valid Loss: 0.2157\n",
            "Model saved to ==> /content/drive/MyDrive/TASI/Bayessian/ModelImbalance/model.pt\n",
            "Metrics saved to ==> /content/drive/MyDrive/TASI/Bayessian/ModelImbalance/metrics.pt\n"
          ]
        },
        {
          "metadata": {
            "tags": null
          },
          "name": "stderr",
          "output_type": "stream",
          "text": [
            "[I 2023-06-20 02:56:45,556] Trial 7 finished with value: 0.21572646798033798 and parameters: {'lr': 3e-05, 'num_epochs': 5, 'batch_size': 16}. Best is trial 5 with value: 0.09240064836506333.\n"
          ]
        },
        {
          "metadata": {
            "tags": null
          },
          "name": "stdout",
          "output_type": "stream",
          "text": [
            "Epoch [5/5], Train Loss: 0.0696, Valid Loss: 0.2536\n",
            "Metrics saved to ==> /content/drive/MyDrive/TASI/Bayessian/ModelImbalance/metrics.pt\n",
            "Finished Training!\n"
          ]
        },
        {
          "metadata": {
            "tags": null
          },
          "name": "stderr",
          "output_type": "stream",
          "text": [
            "Some weights of BertForSequenceClassification were not initialized from the model checkpoint at indobenchmark/indobert-base-p1 and are newly initialized: ['classifier.bias', 'classifier.weight']\n",
            "You should probably TRAIN this model on a down-stream task to be able to use it for predictions and inference.\n"
          ]
        },
        {
          "metadata": {
            "tags": null
          },
          "name": "stdout",
          "output_type": "stream",
          "text": [
            "Epoch [1/8], Train Loss: 0.6769, Valid Loss: 0.7139\n",
            "Model saved to ==> /content/drive/MyDrive/TASI/Bayessian/ModelImbalance/model.pt\n",
            "Metrics saved to ==> /content/drive/MyDrive/TASI/Bayessian/ModelImbalance/metrics.pt\n",
            "Epoch [2/8], Train Loss: 0.6750, Valid Loss: 0.7299\n",
            "Epoch [3/8], Train Loss: 0.6463, Valid Loss: 0.6891\n",
            "Model saved to ==> /content/drive/MyDrive/TASI/Bayessian/ModelImbalance/model.pt\n",
            "Metrics saved to ==> /content/drive/MyDrive/TASI/Bayessian/ModelImbalance/metrics.pt\n",
            "Epoch [4/8], Train Loss: 0.6312, Valid Loss: 0.6934\n",
            "Epoch [5/8], Train Loss: 0.6981, Valid Loss: 0.6739\n",
            "Model saved to ==> /content/drive/MyDrive/TASI/Bayessian/ModelImbalance/model.pt\n",
            "Metrics saved to ==> /content/drive/MyDrive/TASI/Bayessian/ModelImbalance/metrics.pt\n",
            "Epoch [6/8], Train Loss: 0.7217, Valid Loss: 0.6874\n",
            "Epoch [7/8], Train Loss: 0.7630, Valid Loss: 0.6804\n"
          ]
        },
        {
          "metadata": {
            "tags": null
          },
          "name": "stderr",
          "output_type": "stream",
          "text": [
            "[I 2023-06-20 02:59:25,148] Trial 8 finished with value: 0.6738949077469962 and parameters: {'lr': 2e-05, 'num_epochs': 8, 'batch_size': 16}. Best is trial 5 with value: 0.09240064836506333.\n"
          ]
        },
        {
          "metadata": {
            "tags": null
          },
          "name": "stdout",
          "output_type": "stream",
          "text": [
            "Epoch [8/8], Train Loss: 0.6842, Valid Loss: 0.6881\n",
            "Metrics saved to ==> /content/drive/MyDrive/TASI/Bayessian/ModelImbalance/metrics.pt\n",
            "Finished Training!\n"
          ]
        },
        {
          "metadata": {
            "tags": null
          },
          "name": "stderr",
          "output_type": "stream",
          "text": [
            "Some weights of BertForSequenceClassification were not initialized from the model checkpoint at indobenchmark/indobert-base-p1 and are newly initialized: ['classifier.bias', 'classifier.weight']\n",
            "You should probably TRAIN this model on a down-stream task to be able to use it for predictions and inference.\n"
          ]
        },
        {
          "metadata": {
            "tags": null
          },
          "name": "stdout",
          "output_type": "stream",
          "text": [
            "Epoch [1/7], Train Loss: 0.6352, Valid Loss: 0.7085\n",
            "Model saved to ==> /content/drive/MyDrive/TASI/Bayessian/ModelImbalance/model.pt\n",
            "Metrics saved to ==> /content/drive/MyDrive/TASI/Bayessian/ModelImbalance/metrics.pt\n",
            "Epoch [2/7], Train Loss: 0.6265, Valid Loss: 0.3852\n",
            "Model saved to ==> /content/drive/MyDrive/TASI/Bayessian/ModelImbalance/model.pt\n",
            "Metrics saved to ==> /content/drive/MyDrive/TASI/Bayessian/ModelImbalance/metrics.pt\n",
            "Epoch [3/7], Train Loss: 0.2581, Valid Loss: 0.2223\n",
            "Model saved to ==> /content/drive/MyDrive/TASI/Bayessian/ModelImbalance/model.pt\n",
            "Metrics saved to ==> /content/drive/MyDrive/TASI/Bayessian/ModelImbalance/metrics.pt\n",
            "Epoch [4/7], Train Loss: 0.1732, Valid Loss: 0.1799\n",
            "Model saved to ==> /content/drive/MyDrive/TASI/Bayessian/ModelImbalance/model.pt\n",
            "Metrics saved to ==> /content/drive/MyDrive/TASI/Bayessian/ModelImbalance/metrics.pt\n",
            "Epoch [5/7], Train Loss: 0.1392, Valid Loss: 0.2341\n",
            "Epoch [6/7], Train Loss: 0.0964, Valid Loss: 0.1586\n",
            "Model saved to ==> /content/drive/MyDrive/TASI/Bayessian/ModelImbalance/model.pt\n",
            "Metrics saved to ==> /content/drive/MyDrive/TASI/Bayessian/ModelImbalance/metrics.pt\n"
          ]
        },
        {
          "metadata": {
            "tags": null
          },
          "name": "stderr",
          "output_type": "stream",
          "text": [
            "[I 2023-06-20 03:01:49,338] Trial 9 finished with value: 0.15860417817852326 and parameters: {'lr': 5e-05, 'num_epochs': 7, 'batch_size': 16}. Best is trial 5 with value: 0.09240064836506333.\n"
          ]
        },
        {
          "metadata": {
            "tags": null
          },
          "name": "stdout",
          "output_type": "stream",
          "text": [
            "Epoch [7/7], Train Loss: 0.0381, Valid Loss: 0.2332\n",
            "Metrics saved to ==> /content/drive/MyDrive/TASI/Bayessian/ModelImbalance/metrics.pt\n",
            "Finished Training!\n"
          ]
        },
        {
          "metadata": {
            "tags": null
          },
          "name": "stderr",
          "output_type": "stream",
          "text": [
            "Some weights of BertForSequenceClassification were not initialized from the model checkpoint at indobenchmark/indobert-base-p1 and are newly initialized: ['classifier.bias', 'classifier.weight']\n",
            "You should probably TRAIN this model on a down-stream task to be able to use it for predictions and inference.\n"
          ]
        },
        {
          "metadata": {
            "tags": null
          },
          "name": "stdout",
          "output_type": "stream",
          "text": [
            "Epoch [1/9], Train Loss: 0.6687, Valid Loss: 0.7625\n",
            "Model saved to ==> /content/drive/MyDrive/TASI/Bayessian/ModelImbalance/model.pt\n",
            "Metrics saved to ==> /content/drive/MyDrive/TASI/Bayessian/ModelImbalance/metrics.pt\n",
            "Epoch [2/9], Train Loss: 0.6624, Valid Loss: 0.6078\n",
            "Model saved to ==> /content/drive/MyDrive/TASI/Bayessian/ModelImbalance/model.pt\n",
            "Metrics saved to ==> /content/drive/MyDrive/TASI/Bayessian/ModelImbalance/metrics.pt\n",
            "Epoch [3/9], Train Loss: 0.6740, Valid Loss: 0.6717\n",
            "Epoch [4/9], Train Loss: 0.6419, Valid Loss: 0.7078\n",
            "Epoch [5/9], Train Loss: 0.3603, Valid Loss: 0.5028\n",
            "Model saved to ==> /content/drive/MyDrive/TASI/Bayessian/ModelImbalance/model.pt\n",
            "Metrics saved to ==> /content/drive/MyDrive/TASI/Bayessian/ModelImbalance/metrics.pt\n",
            "Epoch [6/9], Train Loss: 0.2351, Valid Loss: 0.5078\n",
            "Epoch [7/9], Train Loss: 0.1461, Valid Loss: 0.4305\n",
            "Model saved to ==> /content/drive/MyDrive/TASI/Bayessian/ModelImbalance/model.pt\n",
            "Metrics saved to ==> /content/drive/MyDrive/TASI/Bayessian/ModelImbalance/metrics.pt\n",
            "Epoch [8/9], Train Loss: 0.1159, Valid Loss: 0.5252\n",
            "Epoch [9/9], Train Loss: 0.0970, Valid Loss: 0.3795\n",
            "Model saved to ==> /content/drive/MyDrive/TASI/Bayessian/ModelImbalance/model.pt\n"
          ]
        },
        {
          "metadata": {
            "tags": null
          },
          "name": "stderr",
          "output_type": "stream",
          "text": [
            "[I 2023-06-20 03:04:55,197] Trial 10 finished with value: 0.3794747510525797 and parameters: {'lr': 2e-05, 'num_epochs': 9, 'batch_size': 32}. Best is trial 5 with value: 0.09240064836506333.\n"
          ]
        },
        {
          "metadata": {
            "tags": null
          },
          "name": "stdout",
          "output_type": "stream",
          "text": [
            "Metrics saved to ==> /content/drive/MyDrive/TASI/Bayessian/ModelImbalance/metrics.pt\n",
            "Metrics saved to ==> /content/drive/MyDrive/TASI/Bayessian/ModelImbalance/metrics.pt\n",
            "Finished Training!\n"
          ]
        },
        {
          "metadata": {
            "tags": null
          },
          "name": "stderr",
          "output_type": "stream",
          "text": [
            "Some weights of BertForSequenceClassification were not initialized from the model checkpoint at indobenchmark/indobert-base-p1 and are newly initialized: ['classifier.bias', 'classifier.weight']\n",
            "You should probably TRAIN this model on a down-stream task to be able to use it for predictions and inference.\n"
          ]
        },
        {
          "metadata": {
            "tags": null
          },
          "name": "stdout",
          "output_type": "stream",
          "text": [
            "Epoch [1/9], Train Loss: 0.6542, Valid Loss: 0.6597\n",
            "Model saved to ==> /content/drive/MyDrive/TASI/Bayessian/ModelImbalance/model.pt\n",
            "Metrics saved to ==> /content/drive/MyDrive/TASI/Bayessian/ModelImbalance/metrics.pt\n",
            "Epoch [2/9], Train Loss: 0.6141, Valid Loss: 0.5685\n",
            "Model saved to ==> /content/drive/MyDrive/TASI/Bayessian/ModelImbalance/model.pt\n",
            "Metrics saved to ==> /content/drive/MyDrive/TASI/Bayessian/ModelImbalance/metrics.pt\n",
            "Epoch [3/9], Train Loss: 0.3796, Valid Loss: 0.3221\n",
            "Model saved to ==> /content/drive/MyDrive/TASI/Bayessian/ModelImbalance/model.pt\n",
            "Metrics saved to ==> /content/drive/MyDrive/TASI/Bayessian/ModelImbalance/metrics.pt\n",
            "Epoch [4/9], Train Loss: 0.2050, Valid Loss: 0.2045\n",
            "Model saved to ==> /content/drive/MyDrive/TASI/Bayessian/ModelImbalance/model.pt\n",
            "Metrics saved to ==> /content/drive/MyDrive/TASI/Bayessian/ModelImbalance/metrics.pt\n",
            "Epoch [5/9], Train Loss: 0.1320, Valid Loss: 0.2258\n",
            "Epoch [6/9], Train Loss: 0.0940, Valid Loss: 0.2124\n",
            "Epoch [7/9], Train Loss: 0.0560, Valid Loss: 0.2462\n",
            "Epoch [8/9], Train Loss: 0.0549, Valid Loss: 0.2810\n"
          ]
        },
        {
          "metadata": {
            "tags": null
          },
          "name": "stderr",
          "output_type": "stream",
          "text": [
            "[I 2023-06-20 03:07:59,563] Trial 11 finished with value: 0.20445974064724787 and parameters: {'lr': 2e-05, 'num_epochs': 9, 'batch_size': 32}. Best is trial 5 with value: 0.09240064836506333.\n"
          ]
        },
        {
          "metadata": {
            "tags": null
          },
          "name": "stdout",
          "output_type": "stream",
          "text": [
            "Epoch [9/9], Train Loss: 0.0284, Valid Loss: 0.3299\n",
            "Metrics saved to ==> /content/drive/MyDrive/TASI/Bayessian/ModelImbalance/metrics.pt\n",
            "Finished Training!\n"
          ]
        },
        {
          "metadata": {
            "tags": null
          },
          "name": "stderr",
          "output_type": "stream",
          "text": [
            "Some weights of BertForSequenceClassification were not initialized from the model checkpoint at indobenchmark/indobert-base-p1 and are newly initialized: ['classifier.bias', 'classifier.weight']\n",
            "You should probably TRAIN this model on a down-stream task to be able to use it for predictions and inference.\n"
          ]
        },
        {
          "metadata": {
            "tags": null
          },
          "name": "stdout",
          "output_type": "stream",
          "text": [
            "Epoch [1/9], Train Loss: 0.6506, Valid Loss: 0.6622\n",
            "Model saved to ==> /content/drive/MyDrive/TASI/Bayessian/ModelImbalance/model.pt\n",
            "Metrics saved to ==> /content/drive/MyDrive/TASI/Bayessian/ModelImbalance/metrics.pt\n",
            "Epoch [2/9], Train Loss: 0.6936, Valid Loss: 0.6631\n",
            "Epoch [3/9], Train Loss: 0.5582, Valid Loss: 0.8078\n",
            "Epoch [4/9], Train Loss: 0.2981, Valid Loss: 0.3112\n",
            "Model saved to ==> /content/drive/MyDrive/TASI/Bayessian/ModelImbalance/model.pt\n",
            "Metrics saved to ==> /content/drive/MyDrive/TASI/Bayessian/ModelImbalance/metrics.pt\n",
            "Epoch [5/9], Train Loss: 0.2083, Valid Loss: 0.4980\n",
            "Epoch [6/9], Train Loss: 0.1487, Valid Loss: 0.3008\n",
            "Model saved to ==> /content/drive/MyDrive/TASI/Bayessian/ModelImbalance/model.pt\n",
            "Metrics saved to ==> /content/drive/MyDrive/TASI/Bayessian/ModelImbalance/metrics.pt\n",
            "Epoch [7/9], Train Loss: 0.1049, Valid Loss: 0.1772\n",
            "Model saved to ==> /content/drive/MyDrive/TASI/Bayessian/ModelImbalance/model.pt\n",
            "Metrics saved to ==> /content/drive/MyDrive/TASI/Bayessian/ModelImbalance/metrics.pt\n",
            "Epoch [8/9], Train Loss: 0.0441, Valid Loss: 0.3203\n"
          ]
        },
        {
          "metadata": {
            "tags": null
          },
          "name": "stderr",
          "output_type": "stream",
          "text": [
            "[I 2023-06-20 03:11:02,955] Trial 12 finished with value: 0.17719441998217786 and parameters: {'lr': 3e-05, 'num_epochs': 9, 'batch_size': 32}. Best is trial 5 with value: 0.09240064836506333.\n"
          ]
        },
        {
          "metadata": {
            "tags": null
          },
          "name": "stdout",
          "output_type": "stream",
          "text": [
            "Epoch [9/9], Train Loss: 0.0151, Valid Loss: 0.2429\n",
            "Metrics saved to ==> /content/drive/MyDrive/TASI/Bayessian/ModelImbalance/metrics.pt\n",
            "Finished Training!\n"
          ]
        },
        {
          "metadata": {
            "tags": null
          },
          "name": "stderr",
          "output_type": "stream",
          "text": [
            "Some weights of BertForSequenceClassification were not initialized from the model checkpoint at indobenchmark/indobert-base-p1 and are newly initialized: ['classifier.bias', 'classifier.weight']\n",
            "You should probably TRAIN this model on a down-stream task to be able to use it for predictions and inference.\n"
          ]
        },
        {
          "metadata": {
            "tags": null
          },
          "name": "stdout",
          "output_type": "stream",
          "text": [
            "Epoch [1/10], Train Loss: 0.6779, Valid Loss: 0.6803\n",
            "Model saved to ==> /content/drive/MyDrive/TASI/Bayessian/ModelImbalance/model.pt\n",
            "Metrics saved to ==> /content/drive/MyDrive/TASI/Bayessian/ModelImbalance/metrics.pt\n",
            "Epoch [2/10], Train Loss: 0.7046, Valid Loss: 0.6311\n",
            "Model saved to ==> /content/drive/MyDrive/TASI/Bayessian/ModelImbalance/model.pt\n",
            "Metrics saved to ==> /content/drive/MyDrive/TASI/Bayessian/ModelImbalance/metrics.pt\n",
            "Epoch [3/10], Train Loss: 0.3884, Valid Loss: 0.2675\n",
            "Model saved to ==> /content/drive/MyDrive/TASI/Bayessian/ModelImbalance/model.pt\n",
            "Metrics saved to ==> /content/drive/MyDrive/TASI/Bayessian/ModelImbalance/metrics.pt\n",
            "Epoch [4/10], Train Loss: 0.2266, Valid Loss: 0.3026\n",
            "Epoch [5/10], Train Loss: 0.1294, Valid Loss: 0.2443\n",
            "Model saved to ==> /content/drive/MyDrive/TASI/Bayessian/ModelImbalance/model.pt\n",
            "Metrics saved to ==> /content/drive/MyDrive/TASI/Bayessian/ModelImbalance/metrics.pt\n",
            "Epoch [6/10], Train Loss: 0.0964, Valid Loss: 0.2438\n",
            "Model saved to ==> /content/drive/MyDrive/TASI/Bayessian/ModelImbalance/model.pt\n",
            "Metrics saved to ==> /content/drive/MyDrive/TASI/Bayessian/ModelImbalance/metrics.pt\n",
            "Epoch [7/10], Train Loss: 0.0591, Valid Loss: 0.1691\n",
            "Model saved to ==> /content/drive/MyDrive/TASI/Bayessian/ModelImbalance/model.pt\n",
            "Metrics saved to ==> /content/drive/MyDrive/TASI/Bayessian/ModelImbalance/metrics.pt\n",
            "Epoch [8/10], Train Loss: 0.0308, Valid Loss: 0.2677\n",
            "Epoch [9/10], Train Loss: 0.0485, Valid Loss: 0.2701\n"
          ]
        },
        {
          "metadata": {
            "tags": null
          },
          "name": "stderr",
          "output_type": "stream",
          "text": [
            "[I 2023-06-20 03:14:26,207] Trial 13 finished with value: 0.16910329081916384 and parameters: {'lr': 2e-05, 'num_epochs': 10, 'batch_size': 32}. Best is trial 5 with value: 0.09240064836506333.\n"
          ]
        },
        {
          "metadata": {
            "tags": null
          },
          "name": "stdout",
          "output_type": "stream",
          "text": [
            "Epoch [10/10], Train Loss: 0.0164, Valid Loss: 0.1758\n",
            "Metrics saved to ==> /content/drive/MyDrive/TASI/Bayessian/ModelImbalance/metrics.pt\n",
            "Finished Training!\n"
          ]
        },
        {
          "metadata": {
            "tags": null
          },
          "name": "stderr",
          "output_type": "stream",
          "text": [
            "Some weights of BertForSequenceClassification were not initialized from the model checkpoint at indobenchmark/indobert-base-p1 and are newly initialized: ['classifier.bias', 'classifier.weight']\n",
            "You should probably TRAIN this model on a down-stream task to be able to use it for predictions and inference.\n"
          ]
        },
        {
          "metadata": {
            "tags": null
          },
          "name": "stdout",
          "output_type": "stream",
          "text": [
            "Epoch [1/6], Train Loss: 0.6565, Valid Loss: 0.6893\n",
            "Model saved to ==> /content/drive/MyDrive/TASI/Bayessian/ModelImbalance/model.pt\n",
            "Metrics saved to ==> /content/drive/MyDrive/TASI/Bayessian/ModelImbalance/metrics.pt\n",
            "Epoch [2/6], Train Loss: 0.5636, Valid Loss: 0.3135\n",
            "Model saved to ==> /content/drive/MyDrive/TASI/Bayessian/ModelImbalance/model.pt\n",
            "Metrics saved to ==> /content/drive/MyDrive/TASI/Bayessian/ModelImbalance/metrics.pt\n",
            "Epoch [3/6], Train Loss: 0.2297, Valid Loss: 0.3200\n",
            "Epoch [4/6], Train Loss: 0.1937, Valid Loss: 0.5729\n",
            "Epoch [5/6], Train Loss: 0.1175, Valid Loss: 0.2782\n",
            "Model saved to ==> /content/drive/MyDrive/TASI/Bayessian/ModelImbalance/model.pt\n",
            "Metrics saved to ==> /content/drive/MyDrive/TASI/Bayessian/ModelImbalance/metrics.pt\n"
          ]
        },
        {
          "metadata": {
            "tags": null
          },
          "name": "stderr",
          "output_type": "stream",
          "text": [
            "[I 2023-06-20 03:16:27,867] Trial 14 finished with value: 0.27824293426238 and parameters: {'lr': 5e-05, 'num_epochs': 6, 'batch_size': 16}. Best is trial 5 with value: 0.09240064836506333.\n"
          ]
        },
        {
          "metadata": {
            "tags": null
          },
          "name": "stdout",
          "output_type": "stream",
          "text": [
            "Epoch [6/6], Train Loss: 0.0696, Valid Loss: 0.2938\n",
            "Metrics saved to ==> /content/drive/MyDrive/TASI/Bayessian/ModelImbalance/metrics.pt\n",
            "Finished Training!\n"
          ]
        },
        {
          "metadata": {
            "tags": null
          },
          "name": "stderr",
          "output_type": "stream",
          "text": [
            "Some weights of BertForSequenceClassification were not initialized from the model checkpoint at indobenchmark/indobert-base-p1 and are newly initialized: ['classifier.bias', 'classifier.weight']\n",
            "You should probably TRAIN this model on a down-stream task to be able to use it for predictions and inference.\n"
          ]
        },
        {
          "metadata": {
            "tags": null
          },
          "name": "stdout",
          "output_type": "stream",
          "text": [
            "Epoch [1/9], Train Loss: 0.6797, Valid Loss: 0.6727\n",
            "Model saved to ==> /content/drive/MyDrive/TASI/Bayessian/ModelImbalance/model.pt\n",
            "Metrics saved to ==> /content/drive/MyDrive/TASI/Bayessian/ModelImbalance/metrics.pt\n",
            "Epoch [2/9], Train Loss: 0.6919, Valid Loss: 0.7160\n",
            "Epoch [3/9], Train Loss: 0.6727, Valid Loss: 0.6926\n",
            "Epoch [4/9], Train Loss: 0.7138, Valid Loss: 0.6601\n",
            "Model saved to ==> /content/drive/MyDrive/TASI/Bayessian/ModelImbalance/model.pt\n",
            "Metrics saved to ==> /content/drive/MyDrive/TASI/Bayessian/ModelImbalance/metrics.pt\n",
            "Epoch [5/9], Train Loss: 0.7058, Valid Loss: 0.6799\n",
            "Epoch [6/9], Train Loss: 0.6566, Valid Loss: 0.6777\n",
            "Epoch [7/9], Train Loss: 0.7597, Valid Loss: 0.6908\n",
            "Epoch [8/9], Train Loss: 0.7172, Valid Loss: 0.6571\n",
            "Model saved to ==> /content/drive/MyDrive/TASI/Bayessian/ModelImbalance/model.pt\n",
            "Metrics saved to ==> /content/drive/MyDrive/TASI/Bayessian/ModelImbalance/metrics.pt\n",
            "Epoch [9/9], Train Loss: 0.6655, Valid Loss: 0.6567\n"
          ]
        },
        {
          "metadata": {
            "tags": null
          },
          "name": "stderr",
          "output_type": "stream",
          "text": [
            "[I 2023-06-20 03:19:28,181] Trial 15 finished with value: 0.6566716070686068 and parameters: {'lr': 3e-05, 'num_epochs': 9, 'batch_size': 32}. Best is trial 5 with value: 0.09240064836506333.\n"
          ]
        },
        {
          "metadata": {
            "tags": null
          },
          "name": "stdout",
          "output_type": "stream",
          "text": [
            "Model saved to ==> /content/drive/MyDrive/TASI/Bayessian/ModelImbalance/model.pt\n",
            "Metrics saved to ==> /content/drive/MyDrive/TASI/Bayessian/ModelImbalance/metrics.pt\n",
            "Metrics saved to ==> /content/drive/MyDrive/TASI/Bayessian/ModelImbalance/metrics.pt\n",
            "Finished Training!\n"
          ]
        },
        {
          "metadata": {
            "tags": null
          },
          "name": "stderr",
          "output_type": "stream",
          "text": [
            "Some weights of BertForSequenceClassification were not initialized from the model checkpoint at indobenchmark/indobert-base-p1 and are newly initialized: ['classifier.bias', 'classifier.weight']\n",
            "You should probably TRAIN this model on a down-stream task to be able to use it for predictions and inference.\n"
          ]
        },
        {
          "metadata": {
            "tags": null
          },
          "name": "stdout",
          "output_type": "stream",
          "text": [
            "Epoch [1/9], Train Loss: 0.6816, Valid Loss: 0.6698\n",
            "Model saved to ==> /content/drive/MyDrive/TASI/Bayessian/ModelImbalance/model.pt\n",
            "Metrics saved to ==> /content/drive/MyDrive/TASI/Bayessian/ModelImbalance/metrics.pt\n",
            "Epoch [2/9], Train Loss: 0.6850, Valid Loss: 0.6978\n",
            "Epoch [3/9], Train Loss: 0.6730, Valid Loss: 0.6120\n",
            "Model saved to ==> /content/drive/MyDrive/TASI/Bayessian/ModelImbalance/model.pt\n",
            "Metrics saved to ==> /content/drive/MyDrive/TASI/Bayessian/ModelImbalance/metrics.pt\n",
            "Epoch [4/9], Train Loss: 0.3689, Valid Loss: 0.2510\n",
            "Model saved to ==> /content/drive/MyDrive/TASI/Bayessian/ModelImbalance/model.pt\n",
            "Metrics saved to ==> /content/drive/MyDrive/TASI/Bayessian/ModelImbalance/metrics.pt\n",
            "Epoch [5/9], Train Loss: 0.2111, Valid Loss: 0.2006\n",
            "Model saved to ==> /content/drive/MyDrive/TASI/Bayessian/ModelImbalance/model.pt\n",
            "Metrics saved to ==> /content/drive/MyDrive/TASI/Bayessian/ModelImbalance/metrics.pt\n",
            "Epoch [6/9], Train Loss: 0.1103, Valid Loss: 0.2209\n",
            "Epoch [7/9], Train Loss: 0.0477, Valid Loss: 0.2078\n",
            "Epoch [8/9], Train Loss: 0.0476, Valid Loss: 0.2589\n",
            "Epoch [9/9], Train Loss: 0.0336, Valid Loss: 0.1817\n"
          ]
        },
        {
          "metadata": {
            "tags": null
          },
          "name": "stderr",
          "output_type": "stream",
          "text": [
            "[I 2023-06-20 03:22:33,459] Trial 16 finished with value: 0.1816657354855644 and parameters: {'lr': 2e-05, 'num_epochs': 9, 'batch_size': 16}. Best is trial 5 with value: 0.09240064836506333.\n"
          ]
        },
        {
          "metadata": {
            "tags": null
          },
          "name": "stdout",
          "output_type": "stream",
          "text": [
            "Model saved to ==> /content/drive/MyDrive/TASI/Bayessian/ModelImbalance/model.pt\n",
            "Metrics saved to ==> /content/drive/MyDrive/TASI/Bayessian/ModelImbalance/metrics.pt\n",
            "Metrics saved to ==> /content/drive/MyDrive/TASI/Bayessian/ModelImbalance/metrics.pt\n",
            "Finished Training!\n"
          ]
        },
        {
          "metadata": {
            "tags": null
          },
          "name": "stderr",
          "output_type": "stream",
          "text": [
            "Some weights of BertForSequenceClassification were not initialized from the model checkpoint at indobenchmark/indobert-base-p1 and are newly initialized: ['classifier.bias', 'classifier.weight']\n",
            "You should probably TRAIN this model on a down-stream task to be able to use it for predictions and inference.\n"
          ]
        },
        {
          "metadata": {
            "tags": null
          },
          "name": "stdout",
          "output_type": "stream",
          "text": [
            "Epoch [1/10], Train Loss: 0.6584, Valid Loss: 0.6465\n",
            "Model saved to ==> /content/drive/MyDrive/TASI/Bayessian/ModelImbalance/model.pt\n",
            "Metrics saved to ==> /content/drive/MyDrive/TASI/Bayessian/ModelImbalance/metrics.pt\n",
            "Epoch [2/10], Train Loss: 0.5230, Valid Loss: 0.2937\n",
            "Model saved to ==> /content/drive/MyDrive/TASI/Bayessian/ModelImbalance/model.pt\n",
            "Metrics saved to ==> /content/drive/MyDrive/TASI/Bayessian/ModelImbalance/metrics.pt\n",
            "Epoch [3/10], Train Loss: 0.2317, Valid Loss: 0.2287\n",
            "Model saved to ==> /content/drive/MyDrive/TASI/Bayessian/ModelImbalance/model.pt\n",
            "Metrics saved to ==> /content/drive/MyDrive/TASI/Bayessian/ModelImbalance/metrics.pt\n",
            "Epoch [4/10], Train Loss: 0.1366, Valid Loss: 0.2436\n",
            "Epoch [5/10], Train Loss: 0.0847, Valid Loss: 0.2354\n",
            "Epoch [6/10], Train Loss: 0.0338, Valid Loss: 0.0947\n",
            "Model saved to ==> /content/drive/MyDrive/TASI/Bayessian/ModelImbalance/model.pt\n",
            "Metrics saved to ==> /content/drive/MyDrive/TASI/Bayessian/ModelImbalance/metrics.pt\n",
            "Epoch [7/10], Train Loss: 0.0125, Valid Loss: 0.1442\n",
            "Epoch [8/10], Train Loss: 0.0137, Valid Loss: 0.2660\n",
            "Epoch [9/10], Train Loss: 0.0367, Valid Loss: 0.2739\n"
          ]
        },
        {
          "metadata": {
            "tags": null
          },
          "name": "stderr",
          "output_type": "stream",
          "text": [
            "[I 2023-06-20 03:25:54,491] Trial 17 finished with value: 0.09470639319624752 and parameters: {'lr': 3e-05, 'num_epochs': 10, 'batch_size': 32}. Best is trial 5 with value: 0.09240064836506333.\n"
          ]
        },
        {
          "metadata": {
            "tags": null
          },
          "name": "stdout",
          "output_type": "stream",
          "text": [
            "Epoch [10/10], Train Loss: 0.0075, Valid Loss: 0.1875\n",
            "Metrics saved to ==> /content/drive/MyDrive/TASI/Bayessian/ModelImbalance/metrics.pt\n",
            "Finished Training!\n"
          ]
        },
        {
          "metadata": {
            "tags": null
          },
          "name": "stderr",
          "output_type": "stream",
          "text": [
            "Some weights of BertForSequenceClassification were not initialized from the model checkpoint at indobenchmark/indobert-base-p1 and are newly initialized: ['classifier.bias', 'classifier.weight']\n",
            "You should probably TRAIN this model on a down-stream task to be able to use it for predictions and inference.\n"
          ]
        },
        {
          "metadata": {
            "tags": null
          },
          "name": "stdout",
          "output_type": "stream",
          "text": [
            "Epoch [1/10], Train Loss: 0.6895, Valid Loss: 0.6702\n",
            "Model saved to ==> /content/drive/MyDrive/TASI/Bayessian/ModelImbalance/model.pt\n",
            "Metrics saved to ==> /content/drive/MyDrive/TASI/Bayessian/ModelImbalance/metrics.pt\n",
            "Epoch [2/10], Train Loss: 0.6897, Valid Loss: 0.5277\n",
            "Model saved to ==> /content/drive/MyDrive/TASI/Bayessian/ModelImbalance/model.pt\n",
            "Metrics saved to ==> /content/drive/MyDrive/TASI/Bayessian/ModelImbalance/metrics.pt\n",
            "Epoch [3/10], Train Loss: 0.2992, Valid Loss: 0.2106\n",
            "Model saved to ==> /content/drive/MyDrive/TASI/Bayessian/ModelImbalance/model.pt\n",
            "Metrics saved to ==> /content/drive/MyDrive/TASI/Bayessian/ModelImbalance/metrics.pt\n",
            "Epoch [4/10], Train Loss: 0.1673, Valid Loss: 0.2013\n",
            "Model saved to ==> /content/drive/MyDrive/TASI/Bayessian/ModelImbalance/model.pt\n",
            "Metrics saved to ==> /content/drive/MyDrive/TASI/Bayessian/ModelImbalance/metrics.pt\n",
            "Epoch [5/10], Train Loss: 0.0977, Valid Loss: 0.1957\n",
            "Model saved to ==> /content/drive/MyDrive/TASI/Bayessian/ModelImbalance/model.pt\n",
            "Metrics saved to ==> /content/drive/MyDrive/TASI/Bayessian/ModelImbalance/metrics.pt\n",
            "Epoch [6/10], Train Loss: 0.0682, Valid Loss: 0.2223\n",
            "Epoch [7/10], Train Loss: 0.0414, Valid Loss: 0.4250\n",
            "Epoch [8/10], Train Loss: 0.0481, Valid Loss: 0.1608\n",
            "Model saved to ==> /content/drive/MyDrive/TASI/Bayessian/ModelImbalance/model.pt\n",
            "Metrics saved to ==> /content/drive/MyDrive/TASI/Bayessian/ModelImbalance/metrics.pt\n",
            "Epoch [9/10], Train Loss: 0.0201, Valid Loss: 0.1251\n",
            "Model saved to ==> /content/drive/MyDrive/TASI/Bayessian/ModelImbalance/model.pt\n",
            "Metrics saved to ==> /content/drive/MyDrive/TASI/Bayessian/ModelImbalance/metrics.pt\n"
          ]
        },
        {
          "metadata": {
            "tags": null
          },
          "name": "stderr",
          "output_type": "stream",
          "text": [
            "[I 2023-06-20 03:29:24,507] Trial 18 finished with value: 0.12510732350139214 and parameters: {'lr': 2e-05, 'num_epochs': 10, 'batch_size': 32}. Best is trial 5 with value: 0.09240064836506333.\n"
          ]
        },
        {
          "metadata": {
            "tags": null
          },
          "name": "stdout",
          "output_type": "stream",
          "text": [
            "Epoch [10/10], Train Loss: 0.0092, Valid Loss: 0.1593\n",
            "Metrics saved to ==> /content/drive/MyDrive/TASI/Bayessian/ModelImbalance/metrics.pt\n",
            "Finished Training!\n"
          ]
        },
        {
          "metadata": {
            "tags": null
          },
          "name": "stderr",
          "output_type": "stream",
          "text": [
            "Some weights of BertForSequenceClassification were not initialized from the model checkpoint at indobenchmark/indobert-base-p1 and are newly initialized: ['classifier.bias', 'classifier.weight']\n",
            "You should probably TRAIN this model on a down-stream task to be able to use it for predictions and inference.\n"
          ]
        },
        {
          "metadata": {
            "tags": null
          },
          "name": "stdout",
          "output_type": "stream",
          "text": [
            "Epoch [1/10], Train Loss: 0.6031, Valid Loss: 0.4237\n",
            "Model saved to ==> /content/drive/MyDrive/TASI/Bayessian/ModelImbalance/model.pt\n",
            "Metrics saved to ==> /content/drive/MyDrive/TASI/Bayessian/ModelImbalance/metrics.pt\n",
            "Epoch [2/10], Train Loss: 0.4236, Valid Loss: 0.2619\n",
            "Model saved to ==> /content/drive/MyDrive/TASI/Bayessian/ModelImbalance/model.pt\n",
            "Metrics saved to ==> /content/drive/MyDrive/TASI/Bayessian/ModelImbalance/metrics.pt\n",
            "Epoch [3/10], Train Loss: 0.2116, Valid Loss: 0.2057\n",
            "Model saved to ==> /content/drive/MyDrive/TASI/Bayessian/ModelImbalance/model.pt\n",
            "Metrics saved to ==> /content/drive/MyDrive/TASI/Bayessian/ModelImbalance/metrics.pt\n",
            "Epoch [4/10], Train Loss: 0.1259, Valid Loss: 0.2350\n",
            "Epoch [5/10], Train Loss: 0.1063, Valid Loss: 0.2165\n",
            "Epoch [6/10], Train Loss: 0.0791, Valid Loss: 0.2112\n",
            "Epoch [7/10], Train Loss: 0.0426, Valid Loss: 0.3720\n",
            "Epoch [8/10], Train Loss: 0.0601, Valid Loss: 0.3508\n",
            "Epoch [9/10], Train Loss: 0.0335, Valid Loss: 0.1949\n",
            "Model saved to ==> /content/drive/MyDrive/TASI/Bayessian/ModelImbalance/model.pt\n",
            "Metrics saved to ==> /content/drive/MyDrive/TASI/Bayessian/ModelImbalance/metrics.pt\n"
          ]
        },
        {
          "metadata": {
            "tags": null
          },
          "name": "stderr",
          "output_type": "stream",
          "text": [
            "[I 2023-06-20 03:32:44,151] Trial 19 finished with value: 0.1949223618056359 and parameters: {'lr': 5e-05, 'num_epochs': 10, 'batch_size': 32}. Best is trial 5 with value: 0.09240064836506333.\n"
          ]
        },
        {
          "metadata": {
            "tags": null
          },
          "name": "stdout",
          "output_type": "stream",
          "text": [
            "Epoch [10/10], Train Loss: 0.0087, Valid Loss: 0.1997\n",
            "Metrics saved to ==> /content/drive/MyDrive/TASI/Bayessian/ModelImbalance/metrics.pt\n",
            "Finished Training!\n"
          ]
        },
        {
          "metadata": {
            "tags": null
          },
          "name": "stderr",
          "output_type": "stream",
          "text": [
            "Some weights of BertForSequenceClassification were not initialized from the model checkpoint at indobenchmark/indobert-base-p1 and are newly initialized: ['classifier.bias', 'classifier.weight']\n",
            "You should probably TRAIN this model on a down-stream task to be able to use it for predictions and inference.\n"
          ]
        },
        {
          "metadata": {
            "tags": null
          },
          "name": "stdout",
          "output_type": "stream",
          "text": [
            "Epoch [1/6], Train Loss: 0.5904, Valid Loss: 0.5083\n",
            "Model saved to ==> /content/drive/MyDrive/TASI/Bayessian/ModelImbalance/model.pt\n",
            "Metrics saved to ==> /content/drive/MyDrive/TASI/Bayessian/ModelImbalance/metrics.pt\n",
            "Epoch [2/6], Train Loss: 0.3288, Valid Loss: 0.2278\n",
            "Model saved to ==> /content/drive/MyDrive/TASI/Bayessian/ModelImbalance/model.pt\n",
            "Metrics saved to ==> /content/drive/MyDrive/TASI/Bayessian/ModelImbalance/metrics.pt\n",
            "Epoch [3/6], Train Loss: 0.1973, Valid Loss: 0.1578\n",
            "Model saved to ==> /content/drive/MyDrive/TASI/Bayessian/ModelImbalance/model.pt\n",
            "Metrics saved to ==> /content/drive/MyDrive/TASI/Bayessian/ModelImbalance/metrics.pt\n",
            "Epoch [4/6], Train Loss: 0.0960, Valid Loss: 0.1835\n",
            "Epoch [5/6], Train Loss: 0.0680, Valid Loss: 0.1663\n",
            "Epoch [6/6], Train Loss: 0.0630, Valid Loss: 0.1268\n"
          ]
        },
        {
          "metadata": {
            "tags": null
          },
          "name": "stderr",
          "output_type": "stream",
          "text": [
            "[I 2023-06-20 03:34:48,468] Trial 20 finished with value: 0.12679849954188935 and parameters: {'lr': 2e-05, 'num_epochs': 6, 'batch_size': 32}. Best is trial 5 with value: 0.09240064836506333.\n"
          ]
        },
        {
          "metadata": {
            "tags": null
          },
          "name": "stdout",
          "output_type": "stream",
          "text": [
            "Model saved to ==> /content/drive/MyDrive/TASI/Bayessian/ModelImbalance/model.pt\n",
            "Metrics saved to ==> /content/drive/MyDrive/TASI/Bayessian/ModelImbalance/metrics.pt\n",
            "Metrics saved to ==> /content/drive/MyDrive/TASI/Bayessian/ModelImbalance/metrics.pt\n",
            "Finished Training!\n"
          ]
        },
        {
          "metadata": {
            "tags": null
          },
          "name": "stderr",
          "output_type": "stream",
          "text": [
            "Some weights of BertForSequenceClassification were not initialized from the model checkpoint at indobenchmark/indobert-base-p1 and are newly initialized: ['classifier.bias', 'classifier.weight']\n",
            "You should probably TRAIN this model on a down-stream task to be able to use it for predictions and inference.\n"
          ]
        },
        {
          "metadata": {
            "tags": null
          },
          "name": "stdout",
          "output_type": "stream",
          "text": [
            "Epoch [1/10], Train Loss: 0.6901, Valid Loss: 0.6592\n",
            "Model saved to ==> /content/drive/MyDrive/TASI/Bayessian/ModelImbalance/model.pt\n",
            "Metrics saved to ==> /content/drive/MyDrive/TASI/Bayessian/ModelImbalance/metrics.pt\n",
            "Epoch [2/10], Train Loss: 0.7029, Valid Loss: 0.6640\n",
            "Epoch [3/10], Train Loss: 0.6745, Valid Loss: 0.6240\n",
            "Model saved to ==> /content/drive/MyDrive/TASI/Bayessian/ModelImbalance/model.pt\n",
            "Metrics saved to ==> /content/drive/MyDrive/TASI/Bayessian/ModelImbalance/metrics.pt\n",
            "Epoch [4/10], Train Loss: 0.5291, Valid Loss: 0.4417\n",
            "Model saved to ==> /content/drive/MyDrive/TASI/Bayessian/ModelImbalance/model.pt\n",
            "Metrics saved to ==> /content/drive/MyDrive/TASI/Bayessian/ModelImbalance/metrics.pt\n",
            "Epoch [5/10], Train Loss: 0.1840, Valid Loss: 0.2206\n",
            "Model saved to ==> /content/drive/MyDrive/TASI/Bayessian/ModelImbalance/model.pt\n",
            "Metrics saved to ==> /content/drive/MyDrive/TASI/Bayessian/ModelImbalance/metrics.pt\n",
            "Epoch [6/10], Train Loss: 0.1507, Valid Loss: 0.1921\n",
            "Model saved to ==> /content/drive/MyDrive/TASI/Bayessian/ModelImbalance/model.pt\n",
            "Metrics saved to ==> /content/drive/MyDrive/TASI/Bayessian/ModelImbalance/metrics.pt\n",
            "Epoch [7/10], Train Loss: 0.0607, Valid Loss: 0.2020\n",
            "Epoch [8/10], Train Loss: 0.0201, Valid Loss: 0.3441\n",
            "Epoch [9/10], Train Loss: 0.0084, Valid Loss: 0.2970\n",
            "Epoch [10/10], Train Loss: 0.0614, Valid Loss: 0.1559\n"
          ]
        },
        {
          "metadata": {
            "tags": null
          },
          "name": "stderr",
          "output_type": "stream",
          "text": [
            "[I 2023-06-20 03:38:13,870] Trial 21 finished with value: 0.1559225658087858 and parameters: {'lr': 2e-05, 'num_epochs': 10, 'batch_size': 32}. Best is trial 5 with value: 0.09240064836506333.\n"
          ]
        },
        {
          "metadata": {
            "tags": null
          },
          "name": "stdout",
          "output_type": "stream",
          "text": [
            "Model saved to ==> /content/drive/MyDrive/TASI/Bayessian/ModelImbalance/model.pt\n",
            "Metrics saved to ==> /content/drive/MyDrive/TASI/Bayessian/ModelImbalance/metrics.pt\n",
            "Metrics saved to ==> /content/drive/MyDrive/TASI/Bayessian/ModelImbalance/metrics.pt\n",
            "Finished Training!\n"
          ]
        },
        {
          "metadata": {
            "tags": null
          },
          "name": "stderr",
          "output_type": "stream",
          "text": [
            "Some weights of BertForSequenceClassification were not initialized from the model checkpoint at indobenchmark/indobert-base-p1 and are newly initialized: ['classifier.bias', 'classifier.weight']\n",
            "You should probably TRAIN this model on a down-stream task to be able to use it for predictions and inference.\n"
          ]
        },
        {
          "metadata": {
            "tags": null
          },
          "name": "stdout",
          "output_type": "stream",
          "text": [
            "Epoch [1/10], Train Loss: 0.6938, Valid Loss: 0.6636\n",
            "Model saved to ==> /content/drive/MyDrive/TASI/Bayessian/ModelImbalance/model.pt\n",
            "Metrics saved to ==> /content/drive/MyDrive/TASI/Bayessian/ModelImbalance/metrics.pt\n",
            "Epoch [2/10], Train Loss: 0.6757, Valid Loss: 0.6610\n",
            "Model saved to ==> /content/drive/MyDrive/TASI/Bayessian/ModelImbalance/model.pt\n",
            "Metrics saved to ==> /content/drive/MyDrive/TASI/Bayessian/ModelImbalance/metrics.pt\n",
            "Epoch [3/10], Train Loss: 0.7040, Valid Loss: 0.6818\n",
            "Epoch [4/10], Train Loss: 0.5357, Valid Loss: 0.4018\n",
            "Model saved to ==> /content/drive/MyDrive/TASI/Bayessian/ModelImbalance/model.pt\n",
            "Metrics saved to ==> /content/drive/MyDrive/TASI/Bayessian/ModelImbalance/metrics.pt\n",
            "Epoch [5/10], Train Loss: 0.2390, Valid Loss: 0.2424\n",
            "Model saved to ==> /content/drive/MyDrive/TASI/Bayessian/ModelImbalance/model.pt\n",
            "Metrics saved to ==> /content/drive/MyDrive/TASI/Bayessian/ModelImbalance/metrics.pt\n",
            "Epoch [6/10], Train Loss: 0.1609, Valid Loss: 0.2379\n",
            "Model saved to ==> /content/drive/MyDrive/TASI/Bayessian/ModelImbalance/model.pt\n",
            "Metrics saved to ==> /content/drive/MyDrive/TASI/Bayessian/ModelImbalance/metrics.pt\n",
            "Epoch [7/10], Train Loss: 0.0955, Valid Loss: 0.2115\n",
            "Model saved to ==> /content/drive/MyDrive/TASI/Bayessian/ModelImbalance/model.pt\n",
            "Metrics saved to ==> /content/drive/MyDrive/TASI/Bayessian/ModelImbalance/metrics.pt\n",
            "Epoch [8/10], Train Loss: 0.0565, Valid Loss: 0.2747\n",
            "Epoch [9/10], Train Loss: 0.0344, Valid Loss: 0.2384\n"
          ]
        },
        {
          "metadata": {
            "tags": null
          },
          "name": "stderr",
          "output_type": "stream",
          "text": [
            "[I 2023-06-20 03:41:38,813] Trial 22 finished with value: 0.21149911042968078 and parameters: {'lr': 2e-05, 'num_epochs': 10, 'batch_size': 32}. Best is trial 5 with value: 0.09240064836506333.\n"
          ]
        },
        {
          "metadata": {
            "tags": null
          },
          "name": "stdout",
          "output_type": "stream",
          "text": [
            "Epoch [10/10], Train Loss: 0.0342, Valid Loss: 0.5232\n",
            "Metrics saved to ==> /content/drive/MyDrive/TASI/Bayessian/ModelImbalance/metrics.pt\n",
            "Finished Training!\n"
          ]
        },
        {
          "metadata": {
            "tags": null
          },
          "name": "stderr",
          "output_type": "stream",
          "text": [
            "Some weights of BertForSequenceClassification were not initialized from the model checkpoint at indobenchmark/indobert-base-p1 and are newly initialized: ['classifier.bias', 'classifier.weight']\n",
            "You should probably TRAIN this model on a down-stream task to be able to use it for predictions and inference.\n"
          ]
        },
        {
          "metadata": {
            "tags": null
          },
          "name": "stdout",
          "output_type": "stream",
          "text": [
            "Epoch [1/10], Train Loss: 0.6808, Valid Loss: 0.6495\n",
            "Model saved to ==> /content/drive/MyDrive/TASI/Bayessian/ModelImbalance/model.pt\n",
            "Metrics saved to ==> /content/drive/MyDrive/TASI/Bayessian/ModelImbalance/metrics.pt\n",
            "Epoch [2/10], Train Loss: 0.6516, Valid Loss: 0.5071\n",
            "Model saved to ==> /content/drive/MyDrive/TASI/Bayessian/ModelImbalance/model.pt\n",
            "Metrics saved to ==> /content/drive/MyDrive/TASI/Bayessian/ModelImbalance/metrics.pt\n",
            "Epoch [3/10], Train Loss: 0.3520, Valid Loss: 0.3623\n",
            "Model saved to ==> /content/drive/MyDrive/TASI/Bayessian/ModelImbalance/model.pt\n",
            "Metrics saved to ==> /content/drive/MyDrive/TASI/Bayessian/ModelImbalance/metrics.pt\n",
            "Epoch [4/10], Train Loss: 0.2007, Valid Loss: 0.2038\n",
            "Model saved to ==> /content/drive/MyDrive/TASI/Bayessian/ModelImbalance/model.pt\n",
            "Metrics saved to ==> /content/drive/MyDrive/TASI/Bayessian/ModelImbalance/metrics.pt\n",
            "Epoch [5/10], Train Loss: 0.1257, Valid Loss: 0.2797\n",
            "Epoch [6/10], Train Loss: 0.0715, Valid Loss: 0.1328\n",
            "Model saved to ==> /content/drive/MyDrive/TASI/Bayessian/ModelImbalance/model.pt\n",
            "Metrics saved to ==> /content/drive/MyDrive/TASI/Bayessian/ModelImbalance/metrics.pt\n",
            "Epoch [7/10], Train Loss: 0.0259, Valid Loss: 0.1859\n",
            "Epoch [8/10], Train Loss: 0.0080, Valid Loss: 0.2866\n",
            "Epoch [9/10], Train Loss: 0.0512, Valid Loss: 0.3550\n"
          ]
        },
        {
          "metadata": {
            "tags": null
          },
          "name": "stderr",
          "output_type": "stream",
          "text": [
            "[I 2023-06-20 03:45:06,790] Trial 23 finished with value: 0.13284434065488832 and parameters: {'lr': 2e-05, 'num_epochs': 10, 'batch_size': 32}. Best is trial 5 with value: 0.09240064836506333.\n"
          ]
        },
        {
          "metadata": {
            "tags": null
          },
          "name": "stdout",
          "output_type": "stream",
          "text": [
            "Epoch [10/10], Train Loss: 0.0154, Valid Loss: 0.1850\n",
            "Metrics saved to ==> /content/drive/MyDrive/TASI/Bayessian/ModelImbalance/metrics.pt\n",
            "Finished Training!\n"
          ]
        },
        {
          "metadata": {
            "tags": null
          },
          "name": "stderr",
          "output_type": "stream",
          "text": [
            "Some weights of BertForSequenceClassification were not initialized from the model checkpoint at indobenchmark/indobert-base-p1 and are newly initialized: ['classifier.bias', 'classifier.weight']\n",
            "You should probably TRAIN this model on a down-stream task to be able to use it for predictions and inference.\n"
          ]
        },
        {
          "metadata": {
            "tags": null
          },
          "name": "stdout",
          "output_type": "stream",
          "text": [
            "Epoch [1/10], Train Loss: 0.6780, Valid Loss: 0.6974\n",
            "Model saved to ==> /content/drive/MyDrive/TASI/Bayessian/ModelImbalance/model.pt\n",
            "Metrics saved to ==> /content/drive/MyDrive/TASI/Bayessian/ModelImbalance/metrics.pt\n",
            "Epoch [2/10], Train Loss: 0.7101, Valid Loss: 0.6480\n",
            "Model saved to ==> /content/drive/MyDrive/TASI/Bayessian/ModelImbalance/model.pt\n",
            "Metrics saved to ==> /content/drive/MyDrive/TASI/Bayessian/ModelImbalance/metrics.pt\n",
            "Epoch [3/10], Train Loss: 0.5625, Valid Loss: 0.4113\n",
            "Model saved to ==> /content/drive/MyDrive/TASI/Bayessian/ModelImbalance/model.pt\n",
            "Metrics saved to ==> /content/drive/MyDrive/TASI/Bayessian/ModelImbalance/metrics.pt\n",
            "Epoch [4/10], Train Loss: 0.2713, Valid Loss: 0.2721\n",
            "Model saved to ==> /content/drive/MyDrive/TASI/Bayessian/ModelImbalance/model.pt\n",
            "Metrics saved to ==> /content/drive/MyDrive/TASI/Bayessian/ModelImbalance/metrics.pt\n",
            "Epoch [5/10], Train Loss: 0.1427, Valid Loss: 0.2577\n",
            "Model saved to ==> /content/drive/MyDrive/TASI/Bayessian/ModelImbalance/model.pt\n",
            "Metrics saved to ==> /content/drive/MyDrive/TASI/Bayessian/ModelImbalance/metrics.pt\n",
            "Epoch [6/10], Train Loss: 0.1223, Valid Loss: 0.2275\n",
            "Model saved to ==> /content/drive/MyDrive/TASI/Bayessian/ModelImbalance/model.pt\n",
            "Metrics saved to ==> /content/drive/MyDrive/TASI/Bayessian/ModelImbalance/metrics.pt\n",
            "Epoch [7/10], Train Loss: 0.0869, Valid Loss: 0.2446\n",
            "Epoch [8/10], Train Loss: 0.0527, Valid Loss: 0.2413\n",
            "Epoch [9/10], Train Loss: 0.0321, Valid Loss: 0.1728\n",
            "Model saved to ==> /content/drive/MyDrive/TASI/Bayessian/ModelImbalance/model.pt\n",
            "Metrics saved to ==> /content/drive/MyDrive/TASI/Bayessian/ModelImbalance/metrics.pt\n"
          ]
        },
        {
          "metadata": {
            "tags": null
          },
          "name": "stderr",
          "output_type": "stream",
          "text": [
            "[I 2023-06-20 03:48:37,569] Trial 24 finished with value: 0.17279775036565428 and parameters: {'lr': 2e-05, 'num_epochs': 10, 'batch_size': 32}. Best is trial 5 with value: 0.09240064836506333.\n"
          ]
        },
        {
          "metadata": {
            "tags": null
          },
          "name": "stdout",
          "output_type": "stream",
          "text": [
            "Epoch [10/10], Train Loss: 0.0195, Valid Loss: 0.1856\n",
            "Metrics saved to ==> /content/drive/MyDrive/TASI/Bayessian/ModelImbalance/metrics.pt\n",
            "Finished Training!\n"
          ]
        },
        {
          "metadata": {
            "tags": null
          },
          "name": "stderr",
          "output_type": "stream",
          "text": [
            "Some weights of BertForSequenceClassification were not initialized from the model checkpoint at indobenchmark/indobert-base-p1 and are newly initialized: ['classifier.bias', 'classifier.weight']\n",
            "You should probably TRAIN this model on a down-stream task to be able to use it for predictions and inference.\n"
          ]
        },
        {
          "metadata": {
            "tags": null
          },
          "name": "stdout",
          "output_type": "stream",
          "text": [
            "Epoch [1/10], Train Loss: 0.6485, Valid Loss: 0.6478\n",
            "Model saved to ==> /content/drive/MyDrive/TASI/Bayessian/ModelImbalance/model.pt\n",
            "Metrics saved to ==> /content/drive/MyDrive/TASI/Bayessian/ModelImbalance/metrics.pt\n",
            "Epoch [2/10], Train Loss: 0.4216, Valid Loss: 0.2810\n",
            "Model saved to ==> /content/drive/MyDrive/TASI/Bayessian/ModelImbalance/model.pt\n",
            "Metrics saved to ==> /content/drive/MyDrive/TASI/Bayessian/ModelImbalance/metrics.pt\n",
            "Epoch [3/10], Train Loss: 0.2196, Valid Loss: 0.2011\n",
            "Model saved to ==> /content/drive/MyDrive/TASI/Bayessian/ModelImbalance/model.pt\n",
            "Metrics saved to ==> /content/drive/MyDrive/TASI/Bayessian/ModelImbalance/metrics.pt\n",
            "Epoch [4/10], Train Loss: 0.1943, Valid Loss: 0.2199\n",
            "Epoch [5/10], Train Loss: 0.0993, Valid Loss: 0.1534\n",
            "Model saved to ==> /content/drive/MyDrive/TASI/Bayessian/ModelImbalance/model.pt\n",
            "Metrics saved to ==> /content/drive/MyDrive/TASI/Bayessian/ModelImbalance/metrics.pt\n",
            "Epoch [6/10], Train Loss: 0.0273, Valid Loss: 0.1941\n",
            "Epoch [7/10], Train Loss: 0.0645, Valid Loss: 0.3004\n",
            "Epoch [8/10], Train Loss: 0.0433, Valid Loss: 0.1852\n",
            "Epoch [9/10], Train Loss: 0.0182, Valid Loss: 0.3579\n"
          ]
        },
        {
          "metadata": {
            "tags": null
          },
          "name": "stderr",
          "output_type": "stream",
          "text": [
            "[I 2023-06-20 03:51:57,442] Trial 25 finished with value: 0.15339245354490622 and parameters: {'lr': 3e-05, 'num_epochs': 10, 'batch_size': 32}. Best is trial 5 with value: 0.09240064836506333.\n"
          ]
        },
        {
          "metadata": {
            "tags": null
          },
          "name": "stdout",
          "output_type": "stream",
          "text": [
            "Epoch [10/10], Train Loss: 0.0304, Valid Loss: 0.3363\n",
            "Metrics saved to ==> /content/drive/MyDrive/TASI/Bayessian/ModelImbalance/metrics.pt\n",
            "Finished Training!\n"
          ]
        },
        {
          "metadata": {
            "tags": null
          },
          "name": "stderr",
          "output_type": "stream",
          "text": [
            "Some weights of BertForSequenceClassification were not initialized from the model checkpoint at indobenchmark/indobert-base-p1 and are newly initialized: ['classifier.bias', 'classifier.weight']\n",
            "You should probably TRAIN this model on a down-stream task to be able to use it for predictions and inference.\n"
          ]
        },
        {
          "metadata": {
            "tags": null
          },
          "name": "stdout",
          "output_type": "stream",
          "text": [
            "Epoch [1/10], Train Loss: 0.6361, Valid Loss: 0.5379\n",
            "Model saved to ==> /content/drive/MyDrive/TASI/Bayessian/ModelImbalance/model.pt\n",
            "Metrics saved to ==> /content/drive/MyDrive/TASI/Bayessian/ModelImbalance/metrics.pt\n",
            "Epoch [2/10], Train Loss: 0.3514, Valid Loss: 0.2138\n",
            "Model saved to ==> /content/drive/MyDrive/TASI/Bayessian/ModelImbalance/model.pt\n",
            "Metrics saved to ==> /content/drive/MyDrive/TASI/Bayessian/ModelImbalance/metrics.pt\n",
            "Epoch [3/10], Train Loss: 0.1970, Valid Loss: 0.1561\n",
            "Model saved to ==> /content/drive/MyDrive/TASI/Bayessian/ModelImbalance/model.pt\n",
            "Metrics saved to ==> /content/drive/MyDrive/TASI/Bayessian/ModelImbalance/metrics.pt\n",
            "Epoch [4/10], Train Loss: 0.1212, Valid Loss: 0.1876\n",
            "Epoch [5/10], Train Loss: 0.0693, Valid Loss: 0.2202\n",
            "Epoch [6/10], Train Loss: 0.0277, Valid Loss: 0.1702\n",
            "Epoch [7/10], Train Loss: 0.0151, Valid Loss: 0.1805\n",
            "Epoch [8/10], Train Loss: 0.0150, Valid Loss: 0.1567\n",
            "Epoch [9/10], Train Loss: 0.0116, Valid Loss: 0.2096\n"
          ]
        },
        {
          "metadata": {
            "tags": null
          },
          "name": "stderr",
          "output_type": "stream",
          "text": [
            "[I 2023-06-20 03:55:15,995] Trial 26 finished with value: 0.15606455198888267 and parameters: {'lr': 2e-05, 'num_epochs': 10, 'batch_size': 32}. Best is trial 5 with value: 0.09240064836506333.\n"
          ]
        },
        {
          "metadata": {
            "tags": null
          },
          "name": "stdout",
          "output_type": "stream",
          "text": [
            "Epoch [10/10], Train Loss: 0.0118, Valid Loss: 0.3580\n",
            "Metrics saved to ==> /content/drive/MyDrive/TASI/Bayessian/ModelImbalance/metrics.pt\n",
            "Finished Training!\n"
          ]
        },
        {
          "metadata": {
            "tags": null
          },
          "name": "stderr",
          "output_type": "stream",
          "text": [
            "Some weights of BertForSequenceClassification were not initialized from the model checkpoint at indobenchmark/indobert-base-p1 and are newly initialized: ['classifier.bias', 'classifier.weight']\n",
            "You should probably TRAIN this model on a down-stream task to be able to use it for predictions and inference.\n"
          ]
        },
        {
          "metadata": {
            "tags": null
          },
          "name": "stdout",
          "output_type": "stream",
          "text": [
            "Epoch [1/6], Train Loss: 0.6910, Valid Loss: 0.6724\n",
            "Model saved to ==> /content/drive/MyDrive/TASI/Bayessian/ModelImbalance/model.pt\n",
            "Metrics saved to ==> /content/drive/MyDrive/TASI/Bayessian/ModelImbalance/metrics.pt\n",
            "Epoch [2/6], Train Loss: 0.6936, Valid Loss: 0.7108\n",
            "Epoch [3/6], Train Loss: 0.6981, Valid Loss: 0.6707\n",
            "Model saved to ==> /content/drive/MyDrive/TASI/Bayessian/ModelImbalance/model.pt\n",
            "Metrics saved to ==> /content/drive/MyDrive/TASI/Bayessian/ModelImbalance/metrics.pt\n",
            "Epoch [4/6], Train Loss: 0.6795, Valid Loss: 0.6952\n",
            "Epoch [5/6], Train Loss: 0.7310, Valid Loss: 0.7079\n"
          ]
        },
        {
          "metadata": {
            "tags": null
          },
          "name": "stderr",
          "output_type": "stream",
          "text": [
            "[I 2023-06-20 03:57:15,344] Trial 27 finished with value: 0.6707189849444798 and parameters: {'lr': 2e-05, 'num_epochs': 6, 'batch_size': 32}. Best is trial 5 with value: 0.09240064836506333.\n"
          ]
        },
        {
          "metadata": {
            "tags": null
          },
          "name": "stdout",
          "output_type": "stream",
          "text": [
            "Epoch [6/6], Train Loss: 0.6961, Valid Loss: 0.6709\n",
            "Metrics saved to ==> /content/drive/MyDrive/TASI/Bayessian/ModelImbalance/metrics.pt\n",
            "Finished Training!\n"
          ]
        },
        {
          "metadata": {
            "tags": null
          },
          "name": "stderr",
          "output_type": "stream",
          "text": [
            "Some weights of BertForSequenceClassification were not initialized from the model checkpoint at indobenchmark/indobert-base-p1 and are newly initialized: ['classifier.bias', 'classifier.weight']\n",
            "You should probably TRAIN this model on a down-stream task to be able to use it for predictions and inference.\n"
          ]
        },
        {
          "metadata": {
            "tags": null
          },
          "name": "stdout",
          "output_type": "stream",
          "text": [
            "Epoch [1/7], Train Loss: 0.6680, Valid Loss: 0.6747\n",
            "Model saved to ==> /content/drive/MyDrive/TASI/Bayessian/ModelImbalance/model.pt\n",
            "Metrics saved to ==> /content/drive/MyDrive/TASI/Bayessian/ModelImbalance/metrics.pt\n",
            "Epoch [2/7], Train Loss: 0.7132, Valid Loss: 0.5902\n",
            "Model saved to ==> /content/drive/MyDrive/TASI/Bayessian/ModelImbalance/model.pt\n",
            "Metrics saved to ==> /content/drive/MyDrive/TASI/Bayessian/ModelImbalance/metrics.pt\n",
            "Epoch [3/7], Train Loss: 0.5636, Valid Loss: 0.2794\n",
            "Model saved to ==> /content/drive/MyDrive/TASI/Bayessian/ModelImbalance/model.pt\n",
            "Metrics saved to ==> /content/drive/MyDrive/TASI/Bayessian/ModelImbalance/metrics.pt\n",
            "Epoch [4/7], Train Loss: 0.1825, Valid Loss: 0.2036\n",
            "Model saved to ==> /content/drive/MyDrive/TASI/Bayessian/ModelImbalance/model.pt\n",
            "Metrics saved to ==> /content/drive/MyDrive/TASI/Bayessian/ModelImbalance/metrics.pt\n",
            "Epoch [5/7], Train Loss: 0.1150, Valid Loss: 0.1835\n",
            "Model saved to ==> /content/drive/MyDrive/TASI/Bayessian/ModelImbalance/model.pt\n",
            "Metrics saved to ==> /content/drive/MyDrive/TASI/Bayessian/ModelImbalance/metrics.pt\n",
            "Epoch [6/7], Train Loss: 0.0672, Valid Loss: 0.1052\n",
            "Model saved to ==> /content/drive/MyDrive/TASI/Bayessian/ModelImbalance/model.pt\n",
            "Metrics saved to ==> /content/drive/MyDrive/TASI/Bayessian/ModelImbalance/metrics.pt\n"
          ]
        },
        {
          "metadata": {
            "tags": null
          },
          "name": "stderr",
          "output_type": "stream",
          "text": [
            "[I 2023-06-20 03:59:45,447] Trial 28 finished with value: 0.10520102546849687 and parameters: {'lr': 5e-05, 'num_epochs': 7, 'batch_size': 32}. Best is trial 5 with value: 0.09240064836506333.\n"
          ]
        },
        {
          "metadata": {
            "tags": null
          },
          "name": "stdout",
          "output_type": "stream",
          "text": [
            "Epoch [7/7], Train Loss: 0.0125, Valid Loss: 0.6660\n",
            "Metrics saved to ==> /content/drive/MyDrive/TASI/Bayessian/ModelImbalance/metrics.pt\n",
            "Finished Training!\n"
          ]
        },
        {
          "metadata": {
            "tags": null
          },
          "name": "stderr",
          "output_type": "stream",
          "text": [
            "Some weights of BertForSequenceClassification were not initialized from the model checkpoint at indobenchmark/indobert-base-p1 and are newly initialized: ['classifier.bias', 'classifier.weight']\n",
            "You should probably TRAIN this model on a down-stream task to be able to use it for predictions and inference.\n"
          ]
        },
        {
          "output_type": "stream",
          "name": "stdout",
          "text": [
            "Epoch [1/7], Train Loss: 0.6192, Valid Loss: 0.5902\n",
            "Model saved to ==> /content/drive/MyDrive/TASI/Bayessian/ModelImbalance/model.pt\n",
            "Metrics saved to ==> /content/drive/MyDrive/TASI/Bayessian/ModelImbalance/metrics.pt\n",
            "Epoch [2/7], Train Loss: 0.3571, Valid Loss: 0.3633\n",
            "Model saved to ==> /content/drive/MyDrive/TASI/Bayessian/ModelImbalance/model.pt\n",
            "Metrics saved to ==> /content/drive/MyDrive/TASI/Bayessian/ModelImbalance/metrics.pt\n",
            "Epoch [3/7], Train Loss: 0.1693, Valid Loss: 0.3813\n",
            "Epoch [4/7], Train Loss: 0.1152, Valid Loss: 0.5136\n",
            "Epoch [5/7], Train Loss: 0.1041, Valid Loss: 0.3139\n",
            "Model saved to ==> /content/drive/MyDrive/TASI/Bayessian/ModelImbalance/model.pt\n",
            "Metrics saved to ==> /content/drive/MyDrive/TASI/Bayessian/ModelImbalance/metrics.pt\n",
            "Epoch [6/7], Train Loss: 0.0600, Valid Loss: 0.8405\n"
          ]
        },
        {
          "output_type": "stream",
          "name": "stderr",
          "text": [
            "[I 2023-06-20 04:02:06,024] Trial 29 finished with value: 0.3139130058365741 and parameters: {'lr': 5e-05, 'num_epochs': 7, 'batch_size': 32}. Best is trial 5 with value: 0.09240064836506333.\n"
          ]
        },
        {
          "output_type": "stream",
          "name": "stdout",
          "text": [
            "Epoch [7/7], Train Loss: 0.0607, Valid Loss: 0.4079\n",
            "Metrics saved to ==> /content/drive/MyDrive/TASI/Bayessian/ModelImbalance/metrics.pt\n",
            "Finished Training!\n"
          ]
        },
        {
          "output_type": "stream",
          "name": "stderr",
          "text": [
            "Some weights of BertForSequenceClassification were not initialized from the model checkpoint at indobenchmark/indobert-base-p1 and are newly initialized: ['classifier.bias', 'classifier.weight']\n",
            "You should probably TRAIN this model on a down-stream task to be able to use it for predictions and inference.\n"
          ]
        },
        {
          "output_type": "stream",
          "name": "stdout",
          "text": [
            "Epoch [1/7], Train Loss: 0.5594, Valid Loss: 0.5517\n",
            "Model saved to ==> /content/drive/MyDrive/TASI/Bayessian/ModelImbalance/model.pt\n",
            "Metrics saved to ==> /content/drive/MyDrive/TASI/Bayessian/ModelImbalance/metrics.pt\n",
            "Epoch [2/7], Train Loss: 0.3676, Valid Loss: 0.2726\n",
            "Model saved to ==> /content/drive/MyDrive/TASI/Bayessian/ModelImbalance/model.pt\n",
            "Metrics saved to ==> /content/drive/MyDrive/TASI/Bayessian/ModelImbalance/metrics.pt\n",
            "Epoch [3/7], Train Loss: 0.1833, Valid Loss: 0.2159\n",
            "Model saved to ==> /content/drive/MyDrive/TASI/Bayessian/ModelImbalance/model.pt\n",
            "Metrics saved to ==> /content/drive/MyDrive/TASI/Bayessian/ModelImbalance/metrics.pt\n",
            "Epoch [4/7], Train Loss: 0.1239, Valid Loss: 0.2991\n",
            "Epoch [5/7], Train Loss: 0.0714, Valid Loss: 0.1594\n",
            "Model saved to ==> /content/drive/MyDrive/TASI/Bayessian/ModelImbalance/model.pt\n",
            "Metrics saved to ==> /content/drive/MyDrive/TASI/Bayessian/ModelImbalance/metrics.pt\n",
            "Epoch [6/7], Train Loss: 0.0471, Valid Loss: 0.1980\n"
          ]
        },
        {
          "output_type": "stream",
          "name": "stderr",
          "text": [
            "[I 2023-06-20 04:04:27,811] Trial 30 finished with value: 0.15939442081643002 and parameters: {'lr': 5e-05, 'num_epochs': 7, 'batch_size': 32}. Best is trial 5 with value: 0.09240064836506333.\n"
          ]
        },
        {
          "output_type": "stream",
          "name": "stdout",
          "text": [
            "Epoch [7/7], Train Loss: 0.0453, Valid Loss: 0.2357\n",
            "Metrics saved to ==> /content/drive/MyDrive/TASI/Bayessian/ModelImbalance/metrics.pt\n",
            "Finished Training!\n"
          ]
        },
        {
          "output_type": "stream",
          "name": "stderr",
          "text": [
            "Some weights of BertForSequenceClassification were not initialized from the model checkpoint at indobenchmark/indobert-base-p1 and are newly initialized: ['classifier.bias', 'classifier.weight']\n",
            "You should probably TRAIN this model on a down-stream task to be able to use it for predictions and inference.\n"
          ]
        },
        {
          "output_type": "stream",
          "name": "stdout",
          "text": [
            "Epoch [1/7], Train Loss: 0.6278, Valid Loss: 0.6583\n",
            "Model saved to ==> /content/drive/MyDrive/TASI/Bayessian/ModelImbalance/model.pt\n",
            "Metrics saved to ==> /content/drive/MyDrive/TASI/Bayessian/ModelImbalance/metrics.pt\n",
            "Epoch [2/7], Train Loss: 0.6920, Valid Loss: 0.7061\n",
            "Epoch [3/7], Train Loss: 0.6760, Valid Loss: 0.5566\n",
            "Model saved to ==> /content/drive/MyDrive/TASI/Bayessian/ModelImbalance/model.pt\n",
            "Metrics saved to ==> /content/drive/MyDrive/TASI/Bayessian/ModelImbalance/metrics.pt\n",
            "Epoch [4/7], Train Loss: 0.4634, Valid Loss: 0.6286\n",
            "Epoch [5/7], Train Loss: 0.3188, Valid Loss: 0.4564\n",
            "Model saved to ==> /content/drive/MyDrive/TASI/Bayessian/ModelImbalance/model.pt\n",
            "Metrics saved to ==> /content/drive/MyDrive/TASI/Bayessian/ModelImbalance/metrics.pt\n",
            "Epoch [6/7], Train Loss: 0.2763, Valid Loss: 0.3862\n",
            "Model saved to ==> /content/drive/MyDrive/TASI/Bayessian/ModelImbalance/model.pt\n",
            "Metrics saved to ==> /content/drive/MyDrive/TASI/Bayessian/ModelImbalance/metrics.pt\n",
            "Epoch [7/7], Train Loss: 0.2627, Valid Loss: 0.2815\n",
            "Model saved to ==> /content/drive/MyDrive/TASI/Bayessian/ModelImbalance/model.pt\n",
            "Metrics saved to ==> /content/drive/MyDrive/TASI/Bayessian/ModelImbalance/metrics.pt\n"
          ]
        },
        {
          "output_type": "stream",
          "name": "stderr",
          "text": [
            "[I 2023-06-20 04:06:54,948] Trial 31 finished with value: 0.28149314863341196 and parameters: {'lr': 5e-05, 'num_epochs': 7, 'batch_size': 32}. Best is trial 5 with value: 0.09240064836506333.\n"
          ]
        },
        {
          "output_type": "stream",
          "name": "stdout",
          "text": [
            "Metrics saved to ==> /content/drive/MyDrive/TASI/Bayessian/ModelImbalance/metrics.pt\n",
            "Finished Training!\n"
          ]
        },
        {
          "output_type": "stream",
          "name": "stderr",
          "text": [
            "Some weights of BertForSequenceClassification were not initialized from the model checkpoint at indobenchmark/indobert-base-p1 and are newly initialized: ['classifier.bias', 'classifier.weight']\n",
            "You should probably TRAIN this model on a down-stream task to be able to use it for predictions and inference.\n"
          ]
        },
        {
          "output_type": "stream",
          "name": "stdout",
          "text": [
            "Epoch [1/7], Train Loss: 0.6471, Valid Loss: 0.6528\n",
            "Model saved to ==> /content/drive/MyDrive/TASI/Bayessian/ModelImbalance/model.pt\n",
            "Metrics saved to ==> /content/drive/MyDrive/TASI/Bayessian/ModelImbalance/metrics.pt\n",
            "Epoch [2/7], Train Loss: 0.5582, Valid Loss: 0.4014\n",
            "Model saved to ==> /content/drive/MyDrive/TASI/Bayessian/ModelImbalance/model.pt\n",
            "Metrics saved to ==> /content/drive/MyDrive/TASI/Bayessian/ModelImbalance/metrics.pt\n",
            "Epoch [3/7], Train Loss: 0.2505, Valid Loss: 0.5158\n",
            "Epoch [4/7], Train Loss: 0.1472, Valid Loss: 0.2239\n",
            "Model saved to ==> /content/drive/MyDrive/TASI/Bayessian/ModelImbalance/model.pt\n",
            "Metrics saved to ==> /content/drive/MyDrive/TASI/Bayessian/ModelImbalance/metrics.pt\n",
            "Epoch [5/7], Train Loss: 0.0496, Valid Loss: 0.1855\n",
            "Model saved to ==> /content/drive/MyDrive/TASI/Bayessian/ModelImbalance/model.pt\n",
            "Metrics saved to ==> /content/drive/MyDrive/TASI/Bayessian/ModelImbalance/metrics.pt\n",
            "Epoch [6/7], Train Loss: 0.0137, Valid Loss: 0.2719\n"
          ]
        },
        {
          "output_type": "stream",
          "name": "stderr",
          "text": [
            "[I 2023-06-20 04:09:19,254] Trial 32 finished with value: 0.18550929901123578 and parameters: {'lr': 5e-05, 'num_epochs': 7, 'batch_size': 32}. Best is trial 5 with value: 0.09240064836506333.\n"
          ]
        },
        {
          "output_type": "stream",
          "name": "stdout",
          "text": [
            "Epoch [7/7], Train Loss: 0.0022, Valid Loss: 0.2955\n",
            "Metrics saved to ==> /content/drive/MyDrive/TASI/Bayessian/ModelImbalance/metrics.pt\n",
            "Finished Training!\n"
          ]
        },
        {
          "output_type": "stream",
          "name": "stderr",
          "text": [
            "Some weights of BertForSequenceClassification were not initialized from the model checkpoint at indobenchmark/indobert-base-p1 and are newly initialized: ['classifier.bias', 'classifier.weight']\n",
            "You should probably TRAIN this model on a down-stream task to be able to use it for predictions and inference.\n"
          ]
        },
        {
          "output_type": "stream",
          "name": "stdout",
          "text": [
            "Epoch [1/9], Train Loss: 0.6751, Valid Loss: 0.6180\n",
            "Model saved to ==> /content/drive/MyDrive/TASI/Bayessian/ModelImbalance/model.pt\n",
            "Metrics saved to ==> /content/drive/MyDrive/TASI/Bayessian/ModelImbalance/metrics.pt\n",
            "Epoch [2/9], Train Loss: 0.4831, Valid Loss: 0.5768\n",
            "Model saved to ==> /content/drive/MyDrive/TASI/Bayessian/ModelImbalance/model.pt\n",
            "Metrics saved to ==> /content/drive/MyDrive/TASI/Bayessian/ModelImbalance/metrics.pt\n",
            "Epoch [3/9], Train Loss: 0.2365, Valid Loss: 0.2671\n",
            "Model saved to ==> /content/drive/MyDrive/TASI/Bayessian/ModelImbalance/model.pt\n",
            "Metrics saved to ==> /content/drive/MyDrive/TASI/Bayessian/ModelImbalance/metrics.pt\n",
            "Epoch [4/9], Train Loss: 0.1321, Valid Loss: 0.2979\n",
            "Epoch [5/9], Train Loss: 0.0544, Valid Loss: 0.3618\n",
            "Epoch [6/9], Train Loss: 0.0420, Valid Loss: 0.2542\n",
            "Model saved to ==> /content/drive/MyDrive/TASI/Bayessian/ModelImbalance/model.pt\n",
            "Metrics saved to ==> /content/drive/MyDrive/TASI/Bayessian/ModelImbalance/metrics.pt\n",
            "Epoch [7/9], Train Loss: 0.0461, Valid Loss: 0.2012\n",
            "Model saved to ==> /content/drive/MyDrive/TASI/Bayessian/ModelImbalance/model.pt\n",
            "Metrics saved to ==> /content/drive/MyDrive/TASI/Bayessian/ModelImbalance/metrics.pt\n",
            "Epoch [8/9], Train Loss: 0.0519, Valid Loss: 0.2081\n"
          ]
        },
        {
          "output_type": "stream",
          "name": "stderr",
          "text": [
            "[I 2023-06-20 04:12:20,613] Trial 33 finished with value: 0.20122686736950918 and parameters: {'lr': 3e-05, 'num_epochs': 9, 'batch_size': 32}. Best is trial 5 with value: 0.09240064836506333.\n"
          ]
        },
        {
          "output_type": "stream",
          "name": "stdout",
          "text": [
            "Epoch [9/9], Train Loss: 0.0394, Valid Loss: 0.4996\n",
            "Metrics saved to ==> /content/drive/MyDrive/TASI/Bayessian/ModelImbalance/metrics.pt\n",
            "Finished Training!\n"
          ]
        },
        {
          "output_type": "stream",
          "name": "stderr",
          "text": [
            "Some weights of BertForSequenceClassification were not initialized from the model checkpoint at indobenchmark/indobert-base-p1 and are newly initialized: ['classifier.bias', 'classifier.weight']\n",
            "You should probably TRAIN this model on a down-stream task to be able to use it for predictions and inference.\n"
          ]
        },
        {
          "output_type": "stream",
          "name": "stdout",
          "text": [
            "Epoch [1/10], Train Loss: 0.6427, Valid Loss: 0.6491\n",
            "Model saved to ==> /content/drive/MyDrive/TASI/Bayessian/ModelImbalance/model.pt\n",
            "Metrics saved to ==> /content/drive/MyDrive/TASI/Bayessian/ModelImbalance/metrics.pt\n",
            "Epoch [2/10], Train Loss: 0.4941, Valid Loss: 0.3132\n",
            "Model saved to ==> /content/drive/MyDrive/TASI/Bayessian/ModelImbalance/model.pt\n",
            "Metrics saved to ==> /content/drive/MyDrive/TASI/Bayessian/ModelImbalance/metrics.pt\n",
            "Epoch [3/10], Train Loss: 0.2746, Valid Loss: 0.3378\n",
            "Epoch [4/10], Train Loss: 0.1514, Valid Loss: 0.3626\n",
            "Epoch [5/10], Train Loss: 0.0794, Valid Loss: 0.7013\n",
            "Epoch [6/10], Train Loss: 0.0747, Valid Loss: 0.3240\n",
            "Epoch [7/10], Train Loss: 0.0364, Valid Loss: 0.4782\n",
            "Epoch [8/10], Train Loss: 0.0394, Valid Loss: 1.0067\n",
            "Epoch [9/10], Train Loss: 0.0828, Valid Loss: 0.2530\n",
            "Model saved to ==> /content/drive/MyDrive/TASI/Bayessian/ModelImbalance/model.pt\n",
            "Metrics saved to ==> /content/drive/MyDrive/TASI/Bayessian/ModelImbalance/metrics.pt\n",
            "Epoch [10/10], Train Loss: 0.0175, Valid Loss: 0.2168\n"
          ]
        },
        {
          "output_type": "stream",
          "name": "stderr",
          "text": [
            "[I 2023-06-20 04:15:41,580] Trial 34 finished with value: 0.21679870570577414 and parameters: {'lr': 5e-05, 'num_epochs': 10, 'batch_size': 32}. Best is trial 5 with value: 0.09240064836506333.\n"
          ]
        },
        {
          "output_type": "stream",
          "name": "stdout",
          "text": [
            "Model saved to ==> /content/drive/MyDrive/TASI/Bayessian/ModelImbalance/model.pt\n",
            "Metrics saved to ==> /content/drive/MyDrive/TASI/Bayessian/ModelImbalance/metrics.pt\n",
            "Metrics saved to ==> /content/drive/MyDrive/TASI/Bayessian/ModelImbalance/metrics.pt\n",
            "Finished Training!\n"
          ]
        },
        {
          "output_type": "stream",
          "name": "stderr",
          "text": [
            "Some weights of BertForSequenceClassification were not initialized from the model checkpoint at indobenchmark/indobert-base-p1 and are newly initialized: ['classifier.bias', 'classifier.weight']\n",
            "You should probably TRAIN this model on a down-stream task to be able to use it for predictions and inference.\n"
          ]
        },
        {
          "output_type": "stream",
          "name": "stdout",
          "text": [
            "Epoch [1/8], Train Loss: 0.6433, Valid Loss: 0.6500\n",
            "Model saved to ==> /content/drive/MyDrive/TASI/Bayessian/ModelImbalance/model.pt\n",
            "Metrics saved to ==> /content/drive/MyDrive/TASI/Bayessian/ModelImbalance/metrics.pt\n",
            "Epoch [2/8], Train Loss: 0.5419, Valid Loss: 0.5710\n",
            "Model saved to ==> /content/drive/MyDrive/TASI/Bayessian/ModelImbalance/model.pt\n",
            "Metrics saved to ==> /content/drive/MyDrive/TASI/Bayessian/ModelImbalance/metrics.pt\n",
            "Epoch [3/8], Train Loss: 0.2636, Valid Loss: 0.2337\n",
            "Model saved to ==> /content/drive/MyDrive/TASI/Bayessian/ModelImbalance/model.pt\n",
            "Metrics saved to ==> /content/drive/MyDrive/TASI/Bayessian/ModelImbalance/metrics.pt\n",
            "Epoch [4/8], Train Loss: 0.1531, Valid Loss: 0.1932\n",
            "Model saved to ==> /content/drive/MyDrive/TASI/Bayessian/ModelImbalance/model.pt\n",
            "Metrics saved to ==> /content/drive/MyDrive/TASI/Bayessian/ModelImbalance/metrics.pt\n",
            "Epoch [5/8], Train Loss: 0.0862, Valid Loss: 0.2117\n",
            "Epoch [6/8], Train Loss: 0.0359, Valid Loss: 0.1600\n",
            "Model saved to ==> /content/drive/MyDrive/TASI/Bayessian/ModelImbalance/model.pt\n",
            "Metrics saved to ==> /content/drive/MyDrive/TASI/Bayessian/ModelImbalance/metrics.pt\n",
            "Epoch [7/8], Train Loss: 0.0298, Valid Loss: 0.1465\n",
            "Model saved to ==> /content/drive/MyDrive/TASI/Bayessian/ModelImbalance/model.pt\n",
            "Metrics saved to ==> /content/drive/MyDrive/TASI/Bayessian/ModelImbalance/metrics.pt\n"
          ]
        },
        {
          "output_type": "stream",
          "name": "stderr",
          "text": [
            "[I 2023-06-20 04:18:28,334] Trial 35 finished with value: 0.14649337846120553 and parameters: {'lr': 3e-05, 'num_epochs': 8, 'batch_size': 32}. Best is trial 5 with value: 0.09240064836506333.\n"
          ]
        },
        {
          "output_type": "stream",
          "name": "stdout",
          "text": [
            "Epoch [8/8], Train Loss: 0.0395, Valid Loss: 0.4049\n",
            "Metrics saved to ==> /content/drive/MyDrive/TASI/Bayessian/ModelImbalance/metrics.pt\n",
            "Finished Training!\n",
            "Best model: lr=2e-05, num_epochs=9, batch_size=32\n",
            "Best valid loss: 0.20445974064724787\n"
          ]
        }
      ],
      "source": [
        "import optuna\n",
        "\n",
        "# Define an objective function to optimize hyperparameters\n",
        "def objective(trial):\n",
        "    # Sample hyperparameters\n",
        "    lr = trial.suggest_categorical('lr', [2e-5, 3e-5, 5e-5])\n",
        "    num_epochs = trial.suggest_categorical('num_epochs', [5, 6, 7, 8, 9, 10])\n",
        "    batch_size = trial.suggest_categorical('batch_size', [16, 32])\n",
        "\n",
        "    # Define model, optimizer, and criterion\n",
        "    model = BERT().to(device)\n",
        "    optimizer = optim.Adam(model.parameters(), lr=lr)\n",
        "    criterion = nn.BCELoss()\n",
        "\n",
        "    # Train model\n",
        "    train_loss_list, valid_loss_list, epoch_list, best_valid_loss = train(model=model,\n",
        "                                                                          optimizer=optimizer,\n",
        "                                                                          criterion=criterion,\n",
        "                                                                          train_loader=train_iter,\n",
        "                                                                          valid_loader=valid_iter,\n",
        "                                                                          num_epochs=num_epochs,\n",
        "                                                                          eval_every=1,\n",
        "                                                                          file_path=destination_folder)\n",
        "\n",
        "    # Save results\n",
        "    key = f'lr={lr}, num_epochs={num_epochs}, batch_size={batch_size}'\n",
        "    results[key] = {\n",
        "        'train_loss': train_loss_list[-1],\n",
        "        'valid_loss': valid_loss_list,\n",
        "        'epoch_list': epoch_list,\n",
        "        'best_valid_loss': best_valid_loss,\n",
        "        'lr': lr,\n",
        "        'num_epochs': num_epochs,\n",
        "        'batch_size': batch_size,\n",
        "    }\n",
        "\n",
        "    # Save model if best\n",
        "    if best_valid_loss < results.get('best_valid_loss', float('inf')):\n",
        "        results['best_valid_loss'] = best_valid_loss\n",
        "        results['best_model'] = key\n",
        "        torch.save(model.state_dict(), f'{destination_folder}/model_{key}.pt')\n",
        "\n",
        "    return best_valid_loss\n",
        "\n",
        "# Set up Optuna study with RandomSampler\n",
        "sampler = optuna.samplers.TPESampler(seed=seed)\n",
        "study = optuna.create_study(direction='minimize', sampler=sampler)\n",
        "\n",
        "# Run optimization\n",
        "results = {}\n",
        "study.optimize(objective, n_trials=36)\n",
        "\n",
        "# Print best model and hyperparameters\n",
        "best_model = results['best_model']\n",
        "best_hyperparams = results[best_model]\n",
        "print('Best model:', best_model)\n",
        "print('Best valid loss:', best_hyperparams['best_valid_loss'])"
      ]
    },
    {
      "cell_type": "code",
      "execution_count": 19,
      "metadata": {
        "id": "iyknvLHm-0Iv",
        "colab": {
          "base_uri": "https://localhost:8080/",
          "height": 466
        },
        "outputId": "61f084b1-4e74-416a-de7f-ff6e7b4ca8e5"
      },
      "outputs": [
        {
          "output_type": "stream",
          "name": "stdout",
          "text": [
            "Metrics loaded from <== /content/drive/MyDrive/TASI/Bayessian/ModelImbalance/metrics.pt\n"
          ]
        },
        {
          "output_type": "display_data",
          "data": {
            "text/plain": [
              "<Figure size 640x480 with 1 Axes>"
            ],
            "image/png": "[encoded data removed]"
          },
          "metadata": {}
        }
      ],
      "source": [
        "train_loss_list, valid_loss_list, epoch_list = load_metrics(destination_folder + '/metrics.pt')\n",
        "plt.plot(epoch_list, train_loss_list, label='Train')\n",
        "plt.plot(epoch_list, valid_loss_list, label='Valid')\n",
        "plt.xlabel('Epochs')\n",
        "plt.ylabel('Loss')\n",
        "plt.legend()\n",
        "plt.show()"
      ]
    },
    {
      "cell_type": "code",
      "execution_count": 20,
      "metadata": {
        "id": "HEjtkI8OMTE6",
        "colab": {
          "base_uri": "https://localhost:8080/",
          "height": 614
        },
        "outputId": "39fd6b13-a5df-44de-c89e-9c2a6615d445"
      },
      "outputs": [
        {
          "output_type": "stream",
          "name": "stderr",
          "text": [
            "Some weights of BertForSequenceClassification were not initialized from the model checkpoint at indobenchmark/indobert-base-p1 and are newly initialized: ['classifier.bias', 'classifier.weight']\n",
            "You should probably TRAIN this model on a down-stream task to be able to use it for predictions and inference.\n"
          ]
        },
        {
          "output_type": "stream",
          "name": "stdout",
          "text": [
            "Model loaded from <== /content/drive/MyDrive/TASI/Bayessian/ModelImbalance/model.pt\n",
            "Classification Report:\n",
            "Real - Precision: 0.8932, Recall: 0.8440, F1-Score: 0.8679\n",
            "Fake - Precision: 0.9267, Recall: 0.9513, F1-Score: 0.9389\n",
            "Accuracy: 0.9164179104477612\n"
          ]
        },
        {
          "output_type": "display_data",
          "data": {
            "text/plain": [
              "<Figure size 640x480 with 2 Axes>"
            ],
            "image/png": "[encoded data removed]"
          },
          "metadata": {}
        }
      ],
      "source": [
        "from sklearn.metrics import classification_report, accuracy_score, confusion_matrix\n",
        "import numpy as np\n",
        "import seaborn as sns\n",
        "import matplotlib.pyplot as plt\n",
        "\n",
        "def evaluate(model, test_loader):\n",
        "    y_pred = []\n",
        "    y_true = []\n",
        "\n",
        "    model.eval()\n",
        "    with torch.no_grad():\n",
        "        for (labels, title, text), _ in test_loader:\n",
        "            labels = labels.type(torch.LongTensor)\n",
        "            labels = labels.to(device)\n",
        "            text = text.type(torch.LongTensor)\n",
        "            text = text.to(device)\n",
        "            output = model(text, labels)\n",
        "\n",
        "            _, output = output\n",
        "            y_pred.extend(torch.argmax(output, 1).tolist())\n",
        "            y_true.extend(labels.tolist())\n",
        "\n",
        "    # Mengganti label 1 menjadi \"real\" dan label 0 menjadi \"fake\"\n",
        "    y_true = np.where(np.array(y_true) == 1, \"real\", \"fake\")\n",
        "    y_pred = np.where(np.array(y_pred) == 1, \"real\", \"fake\")\n",
        "\n",
        "    # Menghitung dan mencetak hasil precision, recall, f1-score, dan accuracy\n",
        "    report = classification_report(y_true, y_pred, labels=[\"real\", \"fake\"], digits=4, output_dict=True)\n",
        "    print('Classification Report:')\n",
        "    for label, scores in report.items():\n",
        "        if label in [\"real\", \"fake\"]:\n",
        "            precision = scores['precision']\n",
        "            recall = scores['recall']\n",
        "            f1_score = scores['f1-score']\n",
        "            print(f\"{label.capitalize()} - Precision: {precision:.4f}, Recall: {recall:.4f}, F1-Score: {f1_score:.4f}\")\n",
        "    accuracy = accuracy_score(y_true, y_pred)\n",
        "    print(f'Accuracy: {accuracy}')\n",
        "\n",
        "    # Menghitung dan mencetak confusion matrix\n",
        "    cm = confusion_matrix(y_true, y_pred, labels=[\"real\", \"fake\"])\n",
        "    ax = plt.subplot()\n",
        "    sns.heatmap(cm, annot=True, ax=ax, cmap='Blues', fmt=\"d\")\n",
        "    ax.set_title('Confusion Matrix')\n",
        "    ax.set_xlabel('Predicted Labels')\n",
        "    ax.set_ylabel('True Labels')\n",
        "    ax.xaxis.set_ticklabels(['Real', 'Fake'])\n",
        "    ax.yaxis.set_ticklabels(['Real', 'Fake'])\n",
        "    plt.show()\n",
        "\n",
        "best_model = BERT().to(device)\n",
        "\n",
        "load_checkpoint(destination_folder + '/model.pt', best_model)\n",
        "\n",
        "evaluate(best_model, test_iter)"
      ]
    },
    {
      "cell_type": "code",
      "execution_count": 20,
      "metadata": {
        "id": "XWrnHdKFe3Kj"
      },
      "outputs": [],
      "source": []
    }
  ],
  "metadata": {
    "accelerator": "GPU",
    "colab": {
      "provenance": [],
      "toc_visible": true
    },
    "gpuClass": "standard",
    "kernelspec": {
      "display_name": "Python 3",
      "name": "python3"
    },
    "widgets": {
      "application/vnd.jupyter.widget-state+json": {
        "4bbbea36aa564f84884c107800bd6a90": {
          "model_module": "@jupyter-widgets/controls",
          "model_name": "HBoxModel",
          "model_module_version": "1.5.0",
          "state": {
            "_dom_classes": [],
            "_model_module": "@jupyter-widgets/controls",
            "_model_module_version": "1.5.0",
            "_model_name": "HBoxModel",
            "_view_count": null,
            "_view_module": "@jupyter-widgets/controls",
            "_view_module_version": "1.5.0",
            "_view_name": "HBoxView",
            "box_style": "",
            "children": [
              "IPY_MODEL_b7c4c5402a14423985c3b9ac2817ce70",
              "IPY_MODEL_9dbc243741e24095ada057aa61303eed",
              "IPY_MODEL_0caa81f577ef4dc391b80fc4dc14a145"
            ],
            "layout": "IPY_MODEL_83d59b6c7b4c4da9bd060d7d4f6fb521"
          }
        },
        "b7c4c5402a14423985c3b9ac2817ce70": {
          "model_module": "@jupyter-widgets/controls",
          "model_name": "HTMLModel",
          "model_module_version": "1.5.0",
          "state": {
            "_dom_classes": [],
            "_model_module": "@jupyter-widgets/controls",
            "_model_module_version": "1.5.0",
            "_model_name": "HTMLModel",
            "_view_count": null,
            "_view_module": "@jupyter-widgets/controls",
            "_view_module_version": "1.5.0",
            "_view_name": "HTMLView",
            "description": "",
            "description_tooltip": null,
            "layout": "IPY_MODEL_0d5b7a9e58834a9cb4cc3f4d6283cc83",
            "placeholder": "​",
            "style": "IPY_MODEL_ecdccb7b60fc443a8ebbedd7af03f306",
            "value": "Downloading (…)solve/main/vocab.txt: 100%"
          }
        },
        "9dbc243741e24095ada057aa61303eed": {
          "model_module": "@jupyter-widgets/controls",
          "model_name": "FloatProgressModel",
          "model_module_version": "1.5.0",
          "state": {
            "_dom_classes": [],
            "_model_module": "@jupyter-widgets/controls",
            "_model_module_version": "1.5.0",
            "_model_name": "FloatProgressModel",
            "_view_count": null,
            "_view_module": "@jupyter-widgets/controls",
            "_view_module_version": "1.5.0",
            "_view_name": "ProgressView",
            "bar_style": "success",
            "description": "",
            "description_tooltip": null,
            "layout": "IPY_MODEL_757109a804d44b40966f5d33e3ef5c7d",
            "max": 229167,
            "min": 0,
            "orientation": "horizontal",
            "style": "IPY_MODEL_dc1a47d858de4a31aaeffd6e0c2ecf0a",
            "value": 229167
          }
        },
        "0caa81f577ef4dc391b80fc4dc14a145": {
          "model_module": "@jupyter-widgets/controls",
          "model_name": "HTMLModel",
          "model_module_version": "1.5.0",
          "state": {
            "_dom_classes": [],
            "_model_module": "@jupyter-widgets/controls",
            "_model_module_version": "1.5.0",
            "_model_name": "HTMLModel",
            "_view_count": null,
            "_view_module": "@jupyter-widgets/controls",
            "_view_module_version": "1.5.0",
            "_view_name": "HTMLView",
            "description": "",
            "description_tooltip": null,
            "layout": "IPY_MODEL_e3ed47c4bf4542afa99993b6032a020b",
            "placeholder": "​",
            "style": "IPY_MODEL_007bbb2cc9f54182ae45e714c198d215",
            "value": " 229k/229k [00:00&lt;00:00, 541kB/s]"
          }
        },
        "83d59b6c7b4c4da9bd060d7d4f6fb521": {
          "model_module": "@jupyter-widgets/base",
          "model_name": "LayoutModel",
          "model_module_version": "1.2.0",
          "state": {
            "_model_module": "@jupyter-widgets/base",
            "_model_module_version": "1.2.0",
            "_model_name": "LayoutModel",
            "_view_count": null,
            "_view_module": "@jupyter-widgets/base",
            "_view_module_version": "1.2.0",
            "_view_name": "LayoutView",
            "align_content": null,
            "align_items": null,
            "align_self": null,
            "border": null,
            "bottom": null,
            "display": null,
            "flex": null,
            "flex_flow": null,
            "grid_area": null,
            "grid_auto_columns": null,
            "grid_auto_flow": null,
            "grid_auto_rows": null,
            "grid_column": null,
            "grid_gap": null,
            "grid_row": null,
            "grid_template_areas": null,
            "grid_template_columns": null,
            "grid_template_rows": null,
            "height": null,
            "justify_content": null,
            "justify_items": null,
            "left": null,
            "margin": null,
            "max_height": null,
            "max_width": null,
            "min_height": null,
            "min_width": null,
            "object_fit": null,
            "object_position": null,
            "order": null,
            "overflow": null,
            "overflow_x": null,
            "overflow_y": null,
            "padding": null,
            "right": null,
            "top": null,
            "visibility": null,
            "width": null
          }
        },
        "0d5b7a9e58834a9cb4cc3f4d6283cc83": {
          "model_module": "@jupyter-widgets/base",
          "model_name": "LayoutModel",
          "model_module_version": "1.2.0",
          "state": {
            "_model_module": "@jupyter-widgets/base",
            "_model_module_version": "1.2.0",
            "_model_name": "LayoutModel",
            "_view_count": null,
            "_view_module": "@jupyter-widgets/base",
            "_view_module_version": "1.2.0",
            "_view_name": "LayoutView",
            "align_content": null,
            "align_items": null,
            "align_self": null,
            "border": null,
            "bottom": null,
            "display": null,
            "flex": null,
            "flex_flow": null,
            "grid_area": null,
            "grid_auto_columns": null,
            "grid_auto_flow": null,
            "grid_auto_rows": null,
            "grid_column": null,
            "grid_gap": null,
            "grid_row": null,
            "grid_template_areas": null,
            "grid_template_columns": null,
            "grid_template_rows": null,
            "height": null,
            "justify_content": null,
            "justify_items": null,
            "left": null,
            "margin": null,
            "max_height": null,
            "max_width": null,
            "min_height": null,
            "min_width": null,
            "object_fit": null,
            "object_position": null,
            "order": null,
            "overflow": null,
            "overflow_x": null,
            "overflow_y": null,
            "padding": null,
            "right": null,
            "top": null,
            "visibility": null,
            "width": null
          }
        },
        "ecdccb7b60fc443a8ebbedd7af03f306": {
          "model_module": "@jupyter-widgets/controls",
          "model_name": "DescriptionStyleModel",
          "model_module_version": "1.5.0",
          "state": {
            "_model_module": "@jupyter-widgets/controls",
            "_model_module_version": "1.5.0",
            "_model_name": "DescriptionStyleModel",
            "_view_count": null,
            "_view_module": "@jupyter-widgets/base",
            "_view_module_version": "1.2.0",
            "_view_name": "StyleView",
            "description_width": ""
          }
        },
        "757109a804d44b40966f5d33e3ef5c7d": {
          "model_module": "@jupyter-widgets/base",
          "model_name": "LayoutModel",
          "model_module_version": "1.2.0",
          "state": {
            "_model_module": "@jupyter-widgets/base",
            "_model_module_version": "1.2.0",
            "_model_name": "LayoutModel",
            "_view_count": null,
            "_view_module": "@jupyter-widgets/base",
            "_view_module_version": "1.2.0",
            "_view_name": "LayoutView",
            "align_content": null,
            "align_items": null,
            "align_self": null,
            "border": null,
            "bottom": null,
            "display": null,
            "flex": null,
            "flex_flow": null,
            "grid_area": null,
            "grid_auto_columns": null,
            "grid_auto_flow": null,
            "grid_auto_rows": null,
            "grid_column": null,
            "grid_gap": null,
            "grid_row": null,
            "grid_template_areas": null,
            "grid_template_columns": null,
            "grid_template_rows": null,
            "height": null,
            "justify_content": null,
            "justify_items": null,
            "left": null,
            "margin": null,
            "max_height": null,
            "max_width": null,
            "min_height": null,
            "min_width": null,
            "object_fit": null,
            "object_position": null,
            "order": null,
            "overflow": null,
            "overflow_x": null,
            "overflow_y": null,
            "padding": null,
            "right": null,
            "top": null,
            "visibility": null,
            "width": null
          }
        },
        "dc1a47d858de4a31aaeffd6e0c2ecf0a": {
          "model_module": "@jupyter-widgets/controls",
          "model_name": "ProgressStyleModel",
          "model_module_version": "1.5.0",
          "state": {
            "_model_module": "@jupyter-widgets/controls",
            "_model_module_version": "1.5.0",
            "_model_name": "ProgressStyleModel",
            "_view_count": null,
            "_view_module": "@jupyter-widgets/base",
            "_view_module_version": "1.2.0",
            "_view_name": "StyleView",
            "bar_color": null,
            "description_width": ""
          }
        },
        "e3ed47c4bf4542afa99993b6032a020b": {
          "model_module": "@jupyter-widgets/base",
          "model_name": "LayoutModel",
          "model_module_version": "1.2.0",
          "state": {
            "_model_module": "@jupyter-widgets/base",
            "_model_module_version": "1.2.0",
            "_model_name": "LayoutModel",
            "_view_count": null,
            "_view_module": "@jupyter-widgets/base",
            "_view_module_version": "1.2.0",
            "_view_name": "LayoutView",
            "align_content": null,
            "align_items": null,
            "align_self": null,
            "border": null,
            "bottom": null,
            "display": null,
            "flex": null,
            "flex_flow": null,
            "grid_area": null,
            "grid_auto_columns": null,
            "grid_auto_flow": null,
            "grid_auto_rows": null,
            "grid_column": null,
            "grid_gap": null,
            "grid_row": null,
            "grid_template_areas": null,
            "grid_template_columns": null,
            "grid_template_rows": null,
            "height": null,
            "justify_content": null,
            "justify_items": null,
            "left": null,
            "margin": null,
            "max_height": null,
            "max_width": null,
            "min_height": null,
            "min_width": null,
            "object_fit": null,
            "object_position": null,
            "order": null,
            "overflow": null,
            "overflow_x": null,
            "overflow_y": null,
            "padding": null,
            "right": null,
            "top": null,
            "visibility": null,
            "width": null
          }
        },
        "007bbb2cc9f54182ae45e714c198d215": {
          "model_module": "@jupyter-widgets/controls",
          "model_name": "DescriptionStyleModel",
          "model_module_version": "1.5.0",
          "state": {
            "_model_module": "@jupyter-widgets/controls",
            "_model_module_version": "1.5.0",
            "_model_name": "DescriptionStyleModel",
            "_view_count": null,
            "_view_module": "@jupyter-widgets/base",
            "_view_module_version": "1.2.0",
            "_view_name": "StyleView",
            "description_width": ""
          }
        },
        "2fba1f6e3c3f497f90f20f615a871c3b": {
          "model_module": "@jupyter-widgets/controls",
          "model_name": "HBoxModel",
          "model_module_version": "1.5.0",
          "state": {
            "_dom_classes": [],
            "_model_module": "@jupyter-widgets/controls",
            "_model_module_version": "1.5.0",
            "_model_name": "HBoxModel",
            "_view_count": null,
            "_view_module": "@jupyter-widgets/controls",
            "_view_module_version": "1.5.0",
            "_view_name": "HBoxView",
            "box_style": "",
            "children": [
              "IPY_MODEL_cbf7f1d7eb5745b5ad24e409eb43a88c",
              "IPY_MODEL_5f37e3670e30437890547b260cc91eae",
              "IPY_MODEL_9817d35ecebb458a915fedaa292f551a"
            ],
            "layout": "IPY_MODEL_9f111deefd5848ac8edf332369939f05"
          }
        },
        "cbf7f1d7eb5745b5ad24e409eb43a88c": {
          "model_module": "@jupyter-widgets/controls",
          "model_name": "HTMLModel",
          "model_module_version": "1.5.0",
          "state": {
            "_dom_classes": [],
            "_model_module": "@jupyter-widgets/controls",
            "_model_module_version": "1.5.0",
            "_model_name": "HTMLModel",
            "_view_count": null,
            "_view_module": "@jupyter-widgets/controls",
            "_view_module_version": "1.5.0",
            "_view_name": "HTMLView",
            "description": "",
            "description_tooltip": null,
            "layout": "IPY_MODEL_e5767ea33915454ca4ddf3dc062e3492",
            "placeholder": "​",
            "style": "IPY_MODEL_d91a0b69b0e84aff8fc3551c1382dcbf",
            "value": "Downloading (…)cial_tokens_map.json: 100%"
          }
        },
        "5f37e3670e30437890547b260cc91eae": {
          "model_module": "@jupyter-widgets/controls",
          "model_name": "FloatProgressModel",
          "model_module_version": "1.5.0",
          "state": {
            "_dom_classes": [],
            "_model_module": "@jupyter-widgets/controls",
            "_model_module_version": "1.5.0",
            "_model_name": "FloatProgressModel",
            "_view_count": null,
            "_view_module": "@jupyter-widgets/controls",
            "_view_module_version": "1.5.0",
            "_view_name": "ProgressView",
            "bar_style": "success",
            "description": "",
            "description_tooltip": null,
            "layout": "IPY_MODEL_7f807043c51d4ec5a6f25c68afc1d0b2",
            "max": 112,
            "min": 0,
            "orientation": "horizontal",
            "style": "IPY_MODEL_89ab7f63fdf54e8a94efabfc3e2fc534",
            "value": 112
          }
        },
        "9817d35ecebb458a915fedaa292f551a": {
          "model_module": "@jupyter-widgets/controls",
          "model_name": "HTMLModel",
          "model_module_version": "1.5.0",
          "state": {
            "_dom_classes": [],
            "_model_module": "@jupyter-widgets/controls",
            "_model_module_version": "1.5.0",
            "_model_name": "HTMLModel",
            "_view_count": null,
            "_view_module": "@jupyter-widgets/controls",
            "_view_module_version": "1.5.0",
            "_view_name": "HTMLView",
            "description": "",
            "description_tooltip": null,
            "layout": "IPY_MODEL_c1672d4425dc4e24af9d113bf11d3151",
            "placeholder": "​",
            "style": "IPY_MODEL_84ab149b4e0a4f6ba873a2eebd890c3c",
            "value": " 112/112 [00:00&lt;00:00, 6.22kB/s]"
          }
        },
        "9f111deefd5848ac8edf332369939f05": {
          "model_module": "@jupyter-widgets/base",
          "model_name": "LayoutModel",
          "model_module_version": "1.2.0",
          "state": {
            "_model_module": "@jupyter-widgets/base",
            "_model_module_version": "1.2.0",
            "_model_name": "LayoutModel",
            "_view_count": null,
            "_view_module": "@jupyter-widgets/base",
            "_view_module_version": "1.2.0",
            "_view_name": "LayoutView",
            "align_content": null,
            "align_items": null,
            "align_self": null,
            "border": null,
            "bottom": null,
            "display": null,
            "flex": null,
            "flex_flow": null,
            "grid_area": null,
            "grid_auto_columns": null,
            "grid_auto_flow": null,
            "grid_auto_rows": null,
            "grid_column": null,
            "grid_gap": null,
            "grid_row": null,
            "grid_template_areas": null,
            "grid_template_columns": null,
            "grid_template_rows": null,
            "height": null,
            "justify_content": null,
            "justify_items": null,
            "left": null,
            "margin": null,
            "max_height": null,
            "max_width": null,
            "min_height": null,
            "min_width": null,
            "object_fit": null,
            "object_position": null,
            "order": null,
            "overflow": null,
            "overflow_x": null,
            "overflow_y": null,
            "padding": null,
            "right": null,
            "top": null,
            "visibility": null,
            "width": null
          }
        },
        "e5767ea33915454ca4ddf3dc062e3492": {
          "model_module": "@jupyter-widgets/base",
          "model_name": "LayoutModel",
          "model_module_version": "1.2.0",
          "state": {
            "_model_module": "@jupyter-widgets/base",
            "_model_module_version": "1.2.0",
            "_model_name": "LayoutModel",
            "_view_count": null,
            "_view_module": "@jupyter-widgets/base",
            "_view_module_version": "1.2.0",
            "_view_name": "LayoutView",
            "align_content": null,
            "align_items": null,
            "align_self": null,
            "border": null,
            "bottom": null,
            "display": null,
            "flex": null,
            "flex_flow": null,
            "grid_area": null,
            "grid_auto_columns": null,
            "grid_auto_flow": null,
            "grid_auto_rows": null,
            "grid_column": null,
            "grid_gap": null,
            "grid_row": null,
            "grid_template_areas": null,
            "grid_template_columns": null,
            "grid_template_rows": null,
            "height": null,
            "justify_content": null,
            "justify_items": null,
            "left": null,
            "margin": null,
            "max_height": null,
            "max_width": null,
            "min_height": null,
            "min_width": null,
            "object_fit": null,
            "object_position": null,
            "order": null,
            "overflow": null,
            "overflow_x": null,
            "overflow_y": null,
            "padding": null,
            "right": null,
            "top": null,
            "visibility": null,
            "width": null
          }
        },
        "d91a0b69b0e84aff8fc3551c1382dcbf": {
          "model_module": "@jupyter-widgets/controls",
          "model_name": "DescriptionStyleModel",
          "model_module_version": "1.5.0",
          "state": {
            "_model_module": "@jupyter-widgets/controls",
            "_model_module_version": "1.5.0",
            "_model_name": "DescriptionStyleModel",
            "_view_count": null,
            "_view_module": "@jupyter-widgets/base",
            "_view_module_version": "1.2.0",
            "_view_name": "StyleView",
            "description_width": ""
          }
        },
        "7f807043c51d4ec5a6f25c68afc1d0b2": {
          "model_module": "@jupyter-widgets/base",
          "model_name": "LayoutModel",
          "model_module_version": "1.2.0",
          "state": {
            "_model_module": "@jupyter-widgets/base",
            "_model_module_version": "1.2.0",
            "_model_name": "LayoutModel",
            "_view_count": null,
            "_view_module": "@jupyter-widgets/base",
            "_view_module_version": "1.2.0",
            "_view_name": "LayoutView",
            "align_content": null,
            "align_items": null,
            "align_self": null,
            "border": null,
            "bottom": null,
            "display": null,
            "flex": null,
            "flex_flow": null,
            "grid_area": null,
            "grid_auto_columns": null,
            "grid_auto_flow": null,
            "grid_auto_rows": null,
            "grid_column": null,
            "grid_gap": null,
            "grid_row": null,
            "grid_template_areas": null,
            "grid_template_columns": null,
            "grid_template_rows": null,
            "height": null,
            "justify_content": null,
            "justify_items": null,
            "left": null,
            "margin": null,
            "max_height": null,
            "max_width": null,
            "min_height": null,
            "min_width": null,
            "object_fit": null,
            "object_position": null,
            "order": null,
            "overflow": null,
            "overflow_x": null,
            "overflow_y": null,
            "padding": null,
            "right": null,
            "top": null,
            "visibility": null,
            "width": null
          }
        },
        "89ab7f63fdf54e8a94efabfc3e2fc534": {
          "model_module": "@jupyter-widgets/controls",
          "model_name": "ProgressStyleModel",
          "model_module_version": "1.5.0",
          "state": {
            "_model_module": "@jupyter-widgets/controls",
            "_model_module_version": "1.5.0",
            "_model_name": "ProgressStyleModel",
            "_view_count": null,
            "_view_module": "@jupyter-widgets/base",
            "_view_module_version": "1.2.0",
            "_view_name": "StyleView",
            "bar_color": null,
            "description_width": ""
          }
        },
        "c1672d4425dc4e24af9d113bf11d3151": {
          "model_module": "@jupyter-widgets/base",
          "model_name": "LayoutModel",
          "model_module_version": "1.2.0",
          "state": {
            "_model_module": "@jupyter-widgets/base",
            "_model_module_version": "1.2.0",
            "_model_name": "LayoutModel",
            "_view_count": null,
            "_view_module": "@jupyter-widgets/base",
            "_view_module_version": "1.2.0",
            "_view_name": "LayoutView",
            "align_content": null,
            "align_items": null,
            "align_self": null,
            "border": null,
            "bottom": null,
            "display": null,
            "flex": null,
            "flex_flow": null,
            "grid_area": null,
            "grid_auto_columns": null,
            "grid_auto_flow": null,
            "grid_auto_rows": null,
            "grid_column": null,
            "grid_gap": null,
            "grid_row": null,
            "grid_template_areas": null,
            "grid_template_columns": null,
            "grid_template_rows": null,
            "height": null,
            "justify_content": null,
            "justify_items": null,
            "left": null,
            "margin": null,
            "max_height": null,
            "max_width": null,
            "min_height": null,
            "min_width": null,
            "object_fit": null,
            "object_position": null,
            "order": null,
            "overflow": null,
            "overflow_x": null,
            "overflow_y": null,
            "padding": null,
            "right": null,
            "top": null,
            "visibility": null,
            "width": null
          }
        },
        "84ab149b4e0a4f6ba873a2eebd890c3c": {
          "model_module": "@jupyter-widgets/controls",
          "model_name": "DescriptionStyleModel",
          "model_module_version": "1.5.0",
          "state": {
            "_model_module": "@jupyter-widgets/controls",
            "_model_module_version": "1.5.0",
            "_model_name": "DescriptionStyleModel",
            "_view_count": null,
            "_view_module": "@jupyter-widgets/base",
            "_view_module_version": "1.2.0",
            "_view_name": "StyleView",
            "description_width": ""
          }
        },
        "d0139058c4f945b6b0cb31d78041685e": {
          "model_module": "@jupyter-widgets/controls",
          "model_name": "HBoxModel",
          "model_module_version": "1.5.0",
          "state": {
            "_dom_classes": [],
            "_model_module": "@jupyter-widgets/controls",
            "_model_module_version": "1.5.0",
            "_model_name": "HBoxModel",
            "_view_count": null,
            "_view_module": "@jupyter-widgets/controls",
            "_view_module_version": "1.5.0",
            "_view_name": "HBoxView",
            "box_style": "",
            "children": [
              "IPY_MODEL_bebf3696931947868e345cd9b573db66",
              "IPY_MODEL_cbfd5c5f99764bc980efde16cfe47bb2",
              "IPY_MODEL_aa465996c60646daa58729fb449a59da"
            ],
            "layout": "IPY_MODEL_2f2dc3747b814000a2875f7ca536603f"
          }
        },
        "bebf3696931947868e345cd9b573db66": {
          "model_module": "@jupyter-widgets/controls",
          "model_name": "HTMLModel",
          "model_module_version": "1.5.0",
          "state": {
            "_dom_classes": [],
            "_model_module": "@jupyter-widgets/controls",
            "_model_module_version": "1.5.0",
            "_model_name": "HTMLModel",
            "_view_count": null,
            "_view_module": "@jupyter-widgets/controls",
            "_view_module_version": "1.5.0",
            "_view_name": "HTMLView",
            "description": "",
            "description_tooltip": null,
            "layout": "IPY_MODEL_dc77d0c52e4446e7aba8f2e1f38cc24b",
            "placeholder": "​",
            "style": "IPY_MODEL_9a6e373c775a4b33b619f3dc41175c3b",
            "value": "Downloading (…)okenizer_config.json: 100%"
          }
        },
        "cbfd5c5f99764bc980efde16cfe47bb2": {
          "model_module": "@jupyter-widgets/controls",
          "model_name": "FloatProgressModel",
          "model_module_version": "1.5.0",
          "state": {
            "_dom_classes": [],
            "_model_module": "@jupyter-widgets/controls",
            "_model_module_version": "1.5.0",
            "_model_name": "FloatProgressModel",
            "_view_count": null,
            "_view_module": "@jupyter-widgets/controls",
            "_view_module_version": "1.5.0",
            "_view_name": "ProgressView",
            "bar_style": "success",
            "description": "",
            "description_tooltip": null,
            "layout": "IPY_MODEL_8f5b994dbaf84e009217c6488ff542b0",
            "max": 2,
            "min": 0,
            "orientation": "horizontal",
            "style": "IPY_MODEL_9015583b5d994401ba640731c8ad99ce",
            "value": 2
          }
        },
        "aa465996c60646daa58729fb449a59da": {
          "model_module": "@jupyter-widgets/controls",
          "model_name": "HTMLModel",
          "model_module_version": "1.5.0",
          "state": {
            "_dom_classes": [],
            "_model_module": "@jupyter-widgets/controls",
            "_model_module_version": "1.5.0",
            "_model_name": "HTMLModel",
            "_view_count": null,
            "_view_module": "@jupyter-widgets/controls",
            "_view_module_version": "1.5.0",
            "_view_name": "HTMLView",
            "description": "",
            "description_tooltip": null,
            "layout": "IPY_MODEL_ed9353df1d204e24a060e8e36f7dc40f",
            "placeholder": "​",
            "style": "IPY_MODEL_7fd9e4fbc6a846e99acccc869a1fbadd",
            "value": " 2.00/2.00 [00:00&lt;00:00, 81.9B/s]"
          }
        },
        "2f2dc3747b814000a2875f7ca536603f": {
          "model_module": "@jupyter-widgets/base",
          "model_name": "LayoutModel",
          "model_module_version": "1.2.0",
          "state": {
            "_model_module": "@jupyter-widgets/base",
            "_model_module_version": "1.2.0",
            "_model_name": "LayoutModel",
            "_view_count": null,
            "_view_module": "@jupyter-widgets/base",
            "_view_module_version": "1.2.0",
            "_view_name": "LayoutView",
            "align_content": null,
            "align_items": null,
            "align_self": null,
            "border": null,
            "bottom": null,
            "display": null,
            "flex": null,
            "flex_flow": null,
            "grid_area": null,
            "grid_auto_columns": null,
            "grid_auto_flow": null,
            "grid_auto_rows": null,
            "grid_column": null,
            "grid_gap": null,
            "grid_row": null,
            "grid_template_areas": null,
            "grid_template_columns": null,
            "grid_template_rows": null,
            "height": null,
            "justify_content": null,
            "justify_items": null,
            "left": null,
            "margin": null,
            "max_height": null,
            "max_width": null,
            "min_height": null,
            "min_width": null,
            "object_fit": null,
            "object_position": null,
            "order": null,
            "overflow": null,
            "overflow_x": null,
            "overflow_y": null,
            "padding": null,
            "right": null,
            "top": null,
            "visibility": null,
            "width": null
          }
        },
        "dc77d0c52e4446e7aba8f2e1f38cc24b": {
          "model_module": "@jupyter-widgets/base",
          "model_name": "LayoutModel",
          "model_module_version": "1.2.0",
          "state": {
            "_model_module": "@jupyter-widgets/base",
            "_model_module_version": "1.2.0",
            "_model_name": "LayoutModel",
            "_view_count": null,
            "_view_module": "@jupyter-widgets/base",
            "_view_module_version": "1.2.0",
            "_view_name": "LayoutView",
            "align_content": null,
            "align_items": null,
            "align_self": null,
            "border": null,
            "bottom": null,
            "display": null,
            "flex": null,
            "flex_flow": null,
            "grid_area": null,
            "grid_auto_columns": null,
            "grid_auto_flow": null,
            "grid_auto_rows": null,
            "grid_column": null,
            "grid_gap": null,
            "grid_row": null,
            "grid_template_areas": null,
            "grid_template_columns": null,
            "grid_template_rows": null,
            "height": null,
            "justify_content": null,
            "justify_items": null,
            "left": null,
            "margin": null,
            "max_height": null,
            "max_width": null,
            "min_height": null,
            "min_width": null,
            "object_fit": null,
            "object_position": null,
            "order": null,
            "overflow": null,
            "overflow_x": null,
            "overflow_y": null,
            "padding": null,
            "right": null,
            "top": null,
            "visibility": null,
            "width": null
          }
        },
        "9a6e373c775a4b33b619f3dc41175c3b": {
          "model_module": "@jupyter-widgets/controls",
          "model_name": "DescriptionStyleModel",
          "model_module_version": "1.5.0",
          "state": {
            "_model_module": "@jupyter-widgets/controls",
            "_model_module_version": "1.5.0",
            "_model_name": "DescriptionStyleModel",
            "_view_count": null,
            "_view_module": "@jupyter-widgets/base",
            "_view_module_version": "1.2.0",
            "_view_name": "StyleView",
            "description_width": ""
          }
        },
        "8f5b994dbaf84e009217c6488ff542b0": {
          "model_module": "@jupyter-widgets/base",
          "model_name": "LayoutModel",
          "model_module_version": "1.2.0",
          "state": {
            "_model_module": "@jupyter-widgets/base",
            "_model_module_version": "1.2.0",
            "_model_name": "LayoutModel",
            "_view_count": null,
            "_view_module": "@jupyter-widgets/base",
            "_view_module_version": "1.2.0",
            "_view_name": "LayoutView",
            "align_content": null,
            "align_items": null,
            "align_self": null,
            "border": null,
            "bottom": null,
            "display": null,
            "flex": null,
            "flex_flow": null,
            "grid_area": null,
            "grid_auto_columns": null,
            "grid_auto_flow": null,
            "grid_auto_rows": null,
            "grid_column": null,
            "grid_gap": null,
            "grid_row": null,
            "grid_template_areas": null,
            "grid_template_columns": null,
            "grid_template_rows": null,
            "height": null,
            "justify_content": null,
            "justify_items": null,
            "left": null,
            "margin": null,
            "max_height": null,
            "max_width": null,
            "min_height": null,
            "min_width": null,
            "object_fit": null,
            "object_position": null,
            "order": null,
            "overflow": null,
            "overflow_x": null,
            "overflow_y": null,
            "padding": null,
            "right": null,
            "top": null,
            "visibility": null,
            "width": null
          }
        },
        "9015583b5d994401ba640731c8ad99ce": {
          "model_module": "@jupyter-widgets/controls",
          "model_name": "ProgressStyleModel",
          "model_module_version": "1.5.0",
          "state": {
            "_model_module": "@jupyter-widgets/controls",
            "_model_module_version": "1.5.0",
            "_model_name": "ProgressStyleModel",
            "_view_count": null,
            "_view_module": "@jupyter-widgets/base",
            "_view_module_version": "1.2.0",
            "_view_name": "StyleView",
            "bar_color": null,
            "description_width": ""
          }
        },
        "ed9353df1d204e24a060e8e36f7dc40f": {
          "model_module": "@jupyter-widgets/base",
          "model_name": "LayoutModel",
          "model_module_version": "1.2.0",
          "state": {
            "_model_module": "@jupyter-widgets/base",
            "_model_module_version": "1.2.0",
            "_model_name": "LayoutModel",
            "_view_count": null,
            "_view_module": "@jupyter-widgets/base",
            "_view_module_version": "1.2.0",
            "_view_name": "LayoutView",
            "align_content": null,
            "align_items": null,
            "align_self": null,
            "border": null,
            "bottom": null,
            "display": null,
            "flex": null,
            "flex_flow": null,
            "grid_area": null,
            "grid_auto_columns": null,
            "grid_auto_flow": null,
            "grid_auto_rows": null,
            "grid_column": null,
            "grid_gap": null,
            "grid_row": null,
            "grid_template_areas": null,
            "grid_template_columns": null,
            "grid_template_rows": null,
            "height": null,
            "justify_content": null,
            "justify_items": null,
            "left": null,
            "margin": null,
            "max_height": null,
            "max_width": null,
            "min_height": null,
            "min_width": null,
            "object_fit": null,
            "object_position": null,
            "order": null,
            "overflow": null,
            "overflow_x": null,
            "overflow_y": null,
            "padding": null,
            "right": null,
            "top": null,
            "visibility": null,
            "width": null
          }
        },
        "7fd9e4fbc6a846e99acccc869a1fbadd": {
          "model_module": "@jupyter-widgets/controls",
          "model_name": "DescriptionStyleModel",
          "model_module_version": "1.5.0",
          "state": {
            "_model_module": "@jupyter-widgets/controls",
            "_model_module_version": "1.5.0",
            "_model_name": "DescriptionStyleModel",
            "_view_count": null,
            "_view_module": "@jupyter-widgets/base",
            "_view_module_version": "1.2.0",
            "_view_name": "StyleView",
            "description_width": ""
          }
        },
        "46cde625d4e04545b5fb590c1230857a": {
          "model_module": "@jupyter-widgets/controls",
          "model_name": "HBoxModel",
          "model_module_version": "1.5.0",
          "state": {
            "_dom_classes": [],
            "_model_module": "@jupyter-widgets/controls",
            "_model_module_version": "1.5.0",
            "_model_name": "HBoxModel",
            "_view_count": null,
            "_view_module": "@jupyter-widgets/controls",
            "_view_module_version": "1.5.0",
            "_view_name": "HBoxView",
            "box_style": "",
            "children": [
              "IPY_MODEL_4e55be817d1f4978ad64825ca7bec238",
              "IPY_MODEL_7ba7e46f0cca4b0584b9af232d663bdb",
              "IPY_MODEL_6b4463e7fa8048d99395537d21ab9fcb"
            ],
            "layout": "IPY_MODEL_3ffc40c7d154465f93ed595e8def8f00"
          }
        },
        "4e55be817d1f4978ad64825ca7bec238": {
          "model_module": "@jupyter-widgets/controls",
          "model_name": "HTMLModel",
          "model_module_version": "1.5.0",
          "state": {
            "_dom_classes": [],
            "_model_module": "@jupyter-widgets/controls",
            "_model_module_version": "1.5.0",
            "_model_name": "HTMLModel",
            "_view_count": null,
            "_view_module": "@jupyter-widgets/controls",
            "_view_module_version": "1.5.0",
            "_view_name": "HTMLView",
            "description": "",
            "description_tooltip": null,
            "layout": "IPY_MODEL_053e89a885324bd8b901f0dca2b82a8d",
            "placeholder": "​",
            "style": "IPY_MODEL_aa9c2d002b5f48f9ac0ddaa5f1b8e759",
            "value": "Downloading (…)lve/main/config.json: 100%"
          }
        },
        "7ba7e46f0cca4b0584b9af232d663bdb": {
          "model_module": "@jupyter-widgets/controls",
          "model_name": "FloatProgressModel",
          "model_module_version": "1.5.0",
          "state": {
            "_dom_classes": [],
            "_model_module": "@jupyter-widgets/controls",
            "_model_module_version": "1.5.0",
            "_model_name": "FloatProgressModel",
            "_view_count": null,
            "_view_module": "@jupyter-widgets/controls",
            "_view_module_version": "1.5.0",
            "_view_name": "ProgressView",
            "bar_style": "success",
            "description": "",
            "description_tooltip": null,
            "layout": "IPY_MODEL_c71c11189ac74b78b9a4d81d8bc2e396",
            "max": 1534,
            "min": 0,
            "orientation": "horizontal",
            "style": "IPY_MODEL_935c07a5e5f54d338683efdb66088302",
            "value": 1534
          }
        },
        "6b4463e7fa8048d99395537d21ab9fcb": {
          "model_module": "@jupyter-widgets/controls",
          "model_name": "HTMLModel",
          "model_module_version": "1.5.0",
          "state": {
            "_dom_classes": [],
            "_model_module": "@jupyter-widgets/controls",
            "_model_module_version": "1.5.0",
            "_model_name": "HTMLModel",
            "_view_count": null,
            "_view_module": "@jupyter-widgets/controls",
            "_view_module_version": "1.5.0",
            "_view_name": "HTMLView",
            "description": "",
            "description_tooltip": null,
            "layout": "IPY_MODEL_d5d5a50c57ee4710be48faf7e1d74372",
            "placeholder": "​",
            "style": "IPY_MODEL_a2627feefe5549449ae637c28f8b49d1",
            "value": " 1.53k/1.53k [00:00&lt;00:00, 66.9kB/s]"
          }
        },
        "3ffc40c7d154465f93ed595e8def8f00": {
          "model_module": "@jupyter-widgets/base",
          "model_name": "LayoutModel",
          "model_module_version": "1.2.0",
          "state": {
            "_model_module": "@jupyter-widgets/base",
            "_model_module_version": "1.2.0",
            "_model_name": "LayoutModel",
            "_view_count": null,
            "_view_module": "@jupyter-widgets/base",
            "_view_module_version": "1.2.0",
            "_view_name": "LayoutView",
            "align_content": null,
            "align_items": null,
            "align_self": null,
            "border": null,
            "bottom": null,
            "display": null,
            "flex": null,
            "flex_flow": null,
            "grid_area": null,
            "grid_auto_columns": null,
            "grid_auto_flow": null,
            "grid_auto_rows": null,
            "grid_column": null,
            "grid_gap": null,
            "grid_row": null,
            "grid_template_areas": null,
            "grid_template_columns": null,
            "grid_template_rows": null,
            "height": null,
            "justify_content": null,
            "justify_items": null,
            "left": null,
            "margin": null,
            "max_height": null,
            "max_width": null,
            "min_height": null,
            "min_width": null,
            "object_fit": null,
            "object_position": null,
            "order": null,
            "overflow": null,
            "overflow_x": null,
            "overflow_y": null,
            "padding": null,
            "right": null,
            "top": null,
            "visibility": null,
            "width": null
          }
        },
        "053e89a885324bd8b901f0dca2b82a8d": {
          "model_module": "@jupyter-widgets/base",
          "model_name": "LayoutModel",
          "model_module_version": "1.2.0",
          "state": {
            "_model_module": "@jupyter-widgets/base",
            "_model_module_version": "1.2.0",
            "_model_name": "LayoutModel",
            "_view_count": null,
            "_view_module": "@jupyter-widgets/base",
            "_view_module_version": "1.2.0",
            "_view_name": "LayoutView",
            "align_content": null,
            "align_items": null,
            "align_self": null,
            "border": null,
            "bottom": null,
            "display": null,
            "flex": null,
            "flex_flow": null,
            "grid_area": null,
            "grid_auto_columns": null,
            "grid_auto_flow": null,
            "grid_auto_rows": null,
            "grid_column": null,
            "grid_gap": null,
            "grid_row": null,
            "grid_template_areas": null,
            "grid_template_columns": null,
            "grid_template_rows": null,
            "height": null,
            "justify_content": null,
            "justify_items": null,
            "left": null,
            "margin": null,
            "max_height": null,
            "max_width": null,
            "min_height": null,
            "min_width": null,
            "object_fit": null,
            "object_position": null,
            "order": null,
            "overflow": null,
            "overflow_x": null,
            "overflow_y": null,
            "padding": null,
            "right": null,
            "top": null,
            "visibility": null,
            "width": null
          }
        },
        "aa9c2d002b5f48f9ac0ddaa5f1b8e759": {
          "model_module": "@jupyter-widgets/controls",
          "model_name": "DescriptionStyleModel",
          "model_module_version": "1.5.0",
          "state": {
            "_model_module": "@jupyter-widgets/controls",
            "_model_module_version": "1.5.0",
            "_model_name": "DescriptionStyleModel",
            "_view_count": null,
            "_view_module": "@jupyter-widgets/base",
            "_view_module_version": "1.2.0",
            "_view_name": "StyleView",
            "description_width": ""
          }
        },
        "c71c11189ac74b78b9a4d81d8bc2e396": {
          "model_module": "@jupyter-widgets/base",
          "model_name": "LayoutModel",
          "model_module_version": "1.2.0",
          "state": {
            "_model_module": "@jupyter-widgets/base",
            "_model_module_version": "1.2.0",
            "_model_name": "LayoutModel",
            "_view_count": null,
            "_view_module": "@jupyter-widgets/base",
            "_view_module_version": "1.2.0",
            "_view_name": "LayoutView",
            "align_content": null,
            "align_items": null,
            "align_self": null,
            "border": null,
            "bottom": null,
            "display": null,
            "flex": null,
            "flex_flow": null,
            "grid_area": null,
            "grid_auto_columns": null,
            "grid_auto_flow": null,
            "grid_auto_rows": null,
            "grid_column": null,
            "grid_gap": null,
            "grid_row": null,
            "grid_template_areas": null,
            "grid_template_columns": null,
            "grid_template_rows": null,
            "height": null,
            "justify_content": null,
            "justify_items": null,
            "left": null,
            "margin": null,
            "max_height": null,
            "max_width": null,
            "min_height": null,
            "min_width": null,
            "object_fit": null,
            "object_position": null,
            "order": null,
            "overflow": null,
            "overflow_x": null,
            "overflow_y": null,
            "padding": null,
            "right": null,
            "top": null,
            "visibility": null,
            "width": null
          }
        },
        "935c07a5e5f54d338683efdb66088302": {
          "model_module": "@jupyter-widgets/controls",
          "model_name": "ProgressStyleModel",
          "model_module_version": "1.5.0",
          "state": {
            "_model_module": "@jupyter-widgets/controls",
            "_model_module_version": "1.5.0",
            "_model_name": "ProgressStyleModel",
            "_view_count": null,
            "_view_module": "@jupyter-widgets/base",
            "_view_module_version": "1.2.0",
            "_view_name": "StyleView",
            "bar_color": null,
            "description_width": ""
          }
        },
        "d5d5a50c57ee4710be48faf7e1d74372": {
          "model_module": "@jupyter-widgets/base",
          "model_name": "LayoutModel",
          "model_module_version": "1.2.0",
          "state": {
            "_model_module": "@jupyter-widgets/base",
            "_model_module_version": "1.2.0",
            "_model_name": "LayoutModel",
            "_view_count": null,
            "_view_module": "@jupyter-widgets/base",
            "_view_module_version": "1.2.0",
            "_view_name": "LayoutView",
            "align_content": null,
            "align_items": null,
            "align_self": null,
            "border": null,
            "bottom": null,
            "display": null,
            "flex": null,
            "flex_flow": null,
            "grid_area": null,
            "grid_auto_columns": null,
            "grid_auto_flow": null,
            "grid_auto_rows": null,
            "grid_column": null,
            "grid_gap": null,
            "grid_row": null,
            "grid_template_areas": null,
            "grid_template_columns": null,
            "grid_template_rows": null,
            "height": null,
            "justify_content": null,
            "justify_items": null,
            "left": null,
            "margin": null,
            "max_height": null,
            "max_width": null,
            "min_height": null,
            "min_width": null,
            "object_fit": null,
            "object_position": null,
            "order": null,
            "overflow": null,
            "overflow_x": null,
            "overflow_y": null,
            "padding": null,
            "right": null,
            "top": null,
            "visibility": null,
            "width": null
          }
        },
        "a2627feefe5549449ae637c28f8b49d1": {
          "model_module": "@jupyter-widgets/controls",
          "model_name": "DescriptionStyleModel",
          "model_module_version": "1.5.0",
          "state": {
            "_model_module": "@jupyter-widgets/controls",
            "_model_module_version": "1.5.0",
            "_model_name": "DescriptionStyleModel",
            "_view_count": null,
            "_view_module": "@jupyter-widgets/base",
            "_view_module_version": "1.2.0",
            "_view_name": "StyleView",
            "description_width": ""
          }
        },
        "20525a060737489baa6d92fa640a3955": {
          "model_module": "@jupyter-widgets/controls",
          "model_name": "HBoxModel",
          "model_module_version": "1.5.0",
          "state": {
            "_dom_classes": [],
            "_model_module": "@jupyter-widgets/controls",
            "_model_module_version": "1.5.0",
            "_model_name": "HBoxModel",
            "_view_count": null,
            "_view_module": "@jupyter-widgets/controls",
            "_view_module_version": "1.5.0",
            "_view_name": "HBoxView",
            "box_style": "",
            "children": [
              "IPY_MODEL_162dede670f24b359d9000a6b8fbcf28",
              "IPY_MODEL_a92f739de00846a899df85b2de1dfba7",
              "IPY_MODEL_56a90010250747cb9b57ca8cabd2d034"
            ],
            "layout": "IPY_MODEL_667da5788ec94f66bab1d74a2c6296ff"
          }
        },
        "162dede670f24b359d9000a6b8fbcf28": {
          "model_module": "@jupyter-widgets/controls",
          "model_name": "HTMLModel",
          "model_module_version": "1.5.0",
          "state": {
            "_dom_classes": [],
            "_model_module": "@jupyter-widgets/controls",
            "_model_module_version": "1.5.0",
            "_model_name": "HTMLModel",
            "_view_count": null,
            "_view_module": "@jupyter-widgets/controls",
            "_view_module_version": "1.5.0",
            "_view_name": "HTMLView",
            "description": "",
            "description_tooltip": null,
            "layout": "IPY_MODEL_3fbb14485830425296173f36a24370eb",
            "placeholder": "​",
            "style": "IPY_MODEL_23c999769277444dad9fa878f3ed1127",
            "value": "Downloading pytorch_model.bin: 100%"
          }
        },
        "a92f739de00846a899df85b2de1dfba7": {
          "model_module": "@jupyter-widgets/controls",
          "model_name": "FloatProgressModel",
          "model_module_version": "1.5.0",
          "state": {
            "_dom_classes": [],
            "_model_module": "@jupyter-widgets/controls",
            "_model_module_version": "1.5.0",
            "_model_name": "FloatProgressModel",
            "_view_count": null,
            "_view_module": "@jupyter-widgets/controls",
            "_view_module_version": "1.5.0",
            "_view_name": "ProgressView",
            "bar_style": "success",
            "description": "",
            "description_tooltip": null,
            "layout": "IPY_MODEL_c251400214d942beb7dc762f7745627b",
            "max": 497810400,
            "min": 0,
            "orientation": "horizontal",
            "style": "IPY_MODEL_51f145dcc8694dc498ec48ef27f799ec",
            "value": 497810400
          }
        },
        "56a90010250747cb9b57ca8cabd2d034": {
          "model_module": "@jupyter-widgets/controls",
          "model_name": "HTMLModel",
          "model_module_version": "1.5.0",
          "state": {
            "_dom_classes": [],
            "_model_module": "@jupyter-widgets/controls",
            "_model_module_version": "1.5.0",
            "_model_name": "HTMLModel",
            "_view_count": null,
            "_view_module": "@jupyter-widgets/controls",
            "_view_module_version": "1.5.0",
            "_view_name": "HTMLView",
            "description": "",
            "description_tooltip": null,
            "layout": "IPY_MODEL_da97d4eb30fd4ac1999d8cfaefaa242c",
            "placeholder": "​",
            "style": "IPY_MODEL_71fcdb01608a4df6be02cd52f3536849",
            "value": " 498M/498M [00:02&lt;00:00, 208MB/s]"
          }
        },
        "667da5788ec94f66bab1d74a2c6296ff": {
          "model_module": "@jupyter-widgets/base",
          "model_name": "LayoutModel",
          "model_module_version": "1.2.0",
          "state": {
            "_model_module": "@jupyter-widgets/base",
            "_model_module_version": "1.2.0",
            "_model_name": "LayoutModel",
            "_view_count": null,
            "_view_module": "@jupyter-widgets/base",
            "_view_module_version": "1.2.0",
            "_view_name": "LayoutView",
            "align_content": null,
            "align_items": null,
            "align_self": null,
            "border": null,
            "bottom": null,
            "display": null,
            "flex": null,
            "flex_flow": null,
            "grid_area": null,
            "grid_auto_columns": null,
            "grid_auto_flow": null,
            "grid_auto_rows": null,
            "grid_column": null,
            "grid_gap": null,
            "grid_row": null,
            "grid_template_areas": null,
            "grid_template_columns": null,
            "grid_template_rows": null,
            "height": null,
            "justify_content": null,
            "justify_items": null,
            "left": null,
            "margin": null,
            "max_height": null,
            "max_width": null,
            "min_height": null,
            "min_width": null,
            "object_fit": null,
            "object_position": null,
            "order": null,
            "overflow": null,
            "overflow_x": null,
            "overflow_y": null,
            "padding": null,
            "right": null,
            "top": null,
            "visibility": null,
            "width": null
          }
        },
        "3fbb14485830425296173f36a24370eb": {
          "model_module": "@jupyter-widgets/base",
          "model_name": "LayoutModel",
          "model_module_version": "1.2.0",
          "state": {
            "_model_module": "@jupyter-widgets/base",
            "_model_module_version": "1.2.0",
            "_model_name": "LayoutModel",
            "_view_count": null,
            "_view_module": "@jupyter-widgets/base",
            "_view_module_version": "1.2.0",
            "_view_name": "LayoutView",
            "align_content": null,
            "align_items": null,
            "align_self": null,
            "border": null,
            "bottom": null,
            "display": null,
            "flex": null,
            "flex_flow": null,
            "grid_area": null,
            "grid_auto_columns": null,
            "grid_auto_flow": null,
            "grid_auto_rows": null,
            "grid_column": null,
            "grid_gap": null,
            "grid_row": null,
            "grid_template_areas": null,
            "grid_template_columns": null,
            "grid_template_rows": null,
            "height": null,
            "justify_content": null,
            "justify_items": null,
            "left": null,
            "margin": null,
            "max_height": null,
            "max_width": null,
            "min_height": null,
            "min_width": null,
            "object_fit": null,
            "object_position": null,
            "order": null,
            "overflow": null,
            "overflow_x": null,
            "overflow_y": null,
            "padding": null,
            "right": null,
            "top": null,
            "visibility": null,
            "width": null
          }
        },
        "23c999769277444dad9fa878f3ed1127": {
          "model_module": "@jupyter-widgets/controls",
          "model_name": "DescriptionStyleModel",
          "model_module_version": "1.5.0",
          "state": {
            "_model_module": "@jupyter-widgets/controls",
            "_model_module_version": "1.5.0",
            "_model_name": "DescriptionStyleModel",
            "_view_count": null,
            "_view_module": "@jupyter-widgets/base",
            "_view_module_version": "1.2.0",
            "_view_name": "StyleView",
            "description_width": ""
          }
        },
        "c251400214d942beb7dc762f7745627b": {
          "model_module": "@jupyter-widgets/base",
          "model_name": "LayoutModel",
          "model_module_version": "1.2.0",
          "state": {
            "_model_module": "@jupyter-widgets/base",
            "_model_module_version": "1.2.0",
            "_model_name": "LayoutModel",
            "_view_count": null,
            "_view_module": "@jupyter-widgets/base",
            "_view_module_version": "1.2.0",
            "_view_name": "LayoutView",
            "align_content": null,
            "align_items": null,
            "align_self": null,
            "border": null,
            "bottom": null,
            "display": null,
            "flex": null,
            "flex_flow": null,
            "grid_area": null,
            "grid_auto_columns": null,
            "grid_auto_flow": null,
            "grid_auto_rows": null,
            "grid_column": null,
            "grid_gap": null,
            "grid_row": null,
            "grid_template_areas": null,
            "grid_template_columns": null,
            "grid_template_rows": null,
            "height": null,
            "justify_content": null,
            "justify_items": null,
            "left": null,
            "margin": null,
            "max_height": null,
            "max_width": null,
            "min_height": null,
            "min_width": null,
            "object_fit": null,
            "object_position": null,
            "order": null,
            "overflow": null,
            "overflow_x": null,
            "overflow_y": null,
            "padding": null,
            "right": null,
            "top": null,
            "visibility": null,
            "width": null
          }
        },
        "51f145dcc8694dc498ec48ef27f799ec": {
          "model_module": "@jupyter-widgets/controls",
          "model_name": "ProgressStyleModel",
          "model_module_version": "1.5.0",
          "state": {
            "_model_module": "@jupyter-widgets/controls",
            "_model_module_version": "1.5.0",
            "_model_name": "ProgressStyleModel",
            "_view_count": null,
            "_view_module": "@jupyter-widgets/base",
            "_view_module_version": "1.2.0",
            "_view_name": "StyleView",
            "bar_color": null,
            "description_width": ""
          }
        },
        "da97d4eb30fd4ac1999d8cfaefaa242c": {
          "model_module": "@jupyter-widgets/base",
          "model_name": "LayoutModel",
          "model_module_version": "1.2.0",
          "state": {
            "_model_module": "@jupyter-widgets/base",
            "_model_module_version": "1.2.0",
            "_model_name": "LayoutModel",
            "_view_count": null,
            "_view_module": "@jupyter-widgets/base",
            "_view_module_version": "1.2.0",
            "_view_name": "LayoutView",
            "align_content": null,
            "align_items": null,
            "align_self": null,
            "border": null,
            "bottom": null,
            "display": null,
            "flex": null,
            "flex_flow": null,
            "grid_area": null,
            "grid_auto_columns": null,
            "grid_auto_flow": null,
            "grid_auto_rows": null,
            "grid_column": null,
            "grid_gap": null,
            "grid_row": null,
            "grid_template_areas": null,
            "grid_template_columns": null,
            "grid_template_rows": null,
            "height": null,
            "justify_content": null,
            "justify_items": null,
            "left": null,
            "margin": null,
            "max_height": null,
            "max_width": null,
            "min_height": null,
            "min_width": null,
            "object_fit": null,
            "object_position": null,
            "order": null,
            "overflow": null,
            "overflow_x": null,
            "overflow_y": null,
            "padding": null,
            "right": null,
            "top": null,
            "visibility": null,
            "width": null
          }
        },
        "71fcdb01608a4df6be02cd52f3536849": {
          "model_module": "@jupyter-widgets/controls",
          "model_name": "DescriptionStyleModel",
          "model_module_version": "1.5.0",
          "state": {
            "_model_module": "@jupyter-widgets/controls",
            "_model_module_version": "1.5.0",
            "_model_name": "DescriptionStyleModel",
            "_view_count": null,
            "_view_module": "@jupyter-widgets/base",
            "_view_module_version": "1.2.0",
            "_view_name": "StyleView",
            "description_width": ""
          }
        }
      }
    }
  },
  "nbformat": 4,
  "nbformat_minor": 0
}
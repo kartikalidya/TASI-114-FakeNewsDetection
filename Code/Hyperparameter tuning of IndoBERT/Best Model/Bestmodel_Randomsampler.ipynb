{
  "cells": [
    {
      "cell_type": "markdown",
      "metadata": {
        "id": "view-in-github"
      },
      "source": [
        "<a href=\"https://colab.research.google.com/github/garynico/IndoBERT-Hoax/blob/main/IndoBERT_Hoax_News_Detection.ipynb\" target=\"_parent\"><img src=\"https://colab.research.google.com/assets/colab-badge.svg\" alt=\"Open In Colab\"/></a>"
      ]
    },
    {
      "cell_type": "markdown",
      "metadata": {
        "id": "MLrHTVMSTxbt"
      },
      "source": [
        "# IndoBERT for Bahasa Indonesia Hoax News Detection"
      ]
    },
    {
      "cell_type": "markdown",
      "metadata": {
        "id": "LATDuyAVYEsw"
      },
      "source": [
        "### Import library"
      ]
    },
    {
      "cell_type": "code",
      "execution_count": 1,
      "metadata": {
        "colab": {
          "base_uri": "https://localhost:8080/"
        },
        "id": "IfNKumAzxkFn",
        "outputId": "fdd9b326-2db2-455b-bbe3-0dbe658cc5c0"
      },
      "outputs": [
        {
          "output_type": "stream",
          "name": "stdout",
          "text": [
            "Mounted at /content/drive\n"
          ]
        }
      ],
      "source": [
        "# Drive\n",
        "from google.colab import files\n",
        "from google.colab import drive\n",
        "\n",
        "drive.mount('/content/drive', force_remount=True)"
      ]
    },
    {
      "cell_type": "code",
      "execution_count": 23,
      "metadata": {
        "id": "PohTXbqMicdb"
      },
      "outputs": [],
      "source": [
        "source_folder = '/content/drive/MyDrive/TASI/Random Search/DataImbalance'\n",
        "destination_folder = '/content/drive/MyDrive/TASI/Best Model/RandomSearch'"
      ]
    },
    {
      "cell_type": "code",
      "execution_count": 24,
      "metadata": {
        "colab": {
          "base_uri": "https://localhost:8080/"
        },
        "id": "XYRz41w8x28A",
        "outputId": "4429aa9e-42c0-490c-8b5e-d98bf2da4e58"
      },
      "outputs": [
        {
          "output_type": "stream",
          "name": "stdout",
          "text": [
            "/content/drive/MyDrive/TASI/Random Search/DataImbalance\n"
          ]
        }
      ],
      "source": [
        "%cd //content/drive/MyDrive/TASI/Random Search/DataImbalance"
      ]
    },
    {
      "cell_type": "code",
      "execution_count": 4,
      "metadata": {
        "colab": {
          "base_uri": "https://localhost:8080/"
        },
        "id": "M959vrSV0iwp",
        "outputId": "53af2867-aeb8-4626-abd0-65dd13db3a50"
      },
      "outputs": [
        {
          "output_type": "stream",
          "name": "stdout",
          "text": [
            "Looking in indexes: https://pypi.org/simple, https://us-python.pkg.dev/colab-wheels/public/simple/\n",
            "Collecting transformers\n",
            "  Downloading transformers-4.30.2-py3-none-any.whl (7.2 MB)\n",
            "\u001b[2K     \u001b[90m━━━━━━━━━━━━━━━━━━━━━━━━━━━━━━━━━━━━━━━━\u001b[0m \u001b[32m7.2/7.2 MB\u001b[0m \u001b[31m52.0 MB/s\u001b[0m eta \u001b[36m0:00:00\u001b[0m\n",
            "\u001b[?25hRequirement already satisfied: filelock in /usr/local/lib/python3.10/dist-packages (from transformers) (3.12.0)\n",
            "Collecting huggingface-hub<1.0,>=0.14.1 (from transformers)\n",
            "  Downloading huggingface_hub-0.15.1-py3-none-any.whl (236 kB)\n",
            "\u001b[2K     \u001b[90m━━━━━━━━━━━━━━━━━━━━━━━━━━━━━━━━━━━━━━\u001b[0m \u001b[32m236.8/236.8 kB\u001b[0m \u001b[31m25.2 MB/s\u001b[0m eta \u001b[36m0:00:00\u001b[0m\n",
            "\u001b[?25hRequirement already satisfied: numpy>=1.17 in /usr/local/lib/python3.10/dist-packages (from transformers) (1.22.4)\n",
            "Requirement already satisfied: packaging>=20.0 in /usr/local/lib/python3.10/dist-packages (from transformers) (23.1)\n",
            "Requirement already satisfied: pyyaml>=5.1 in /usr/local/lib/python3.10/dist-packages (from transformers) (6.0)\n",
            "Requirement already satisfied: regex!=2019.12.17 in /usr/local/lib/python3.10/dist-packages (from transformers) (2022.10.31)\n",
            "Requirement already satisfied: requests in /usr/local/lib/python3.10/dist-packages (from transformers) (2.27.1)\n",
            "Collecting tokenizers!=0.11.3,<0.14,>=0.11.1 (from transformers)\n",
            "  Downloading tokenizers-0.13.3-cp310-cp310-manylinux_2_17_x86_64.manylinux2014_x86_64.whl (7.8 MB)\n",
            "\u001b[2K     \u001b[90m━━━━━━━━━━━━━━━━━━━━━━━━━━━━━━━━━━━━━━━━\u001b[0m \u001b[32m7.8/7.8 MB\u001b[0m \u001b[31m84.3 MB/s\u001b[0m eta \u001b[36m0:00:00\u001b[0m\n",
            "\u001b[?25hCollecting safetensors>=0.3.1 (from transformers)\n",
            "  Downloading safetensors-0.3.1-cp310-cp310-manylinux_2_17_x86_64.manylinux2014_x86_64.whl (1.3 MB)\n",
            "\u001b[2K     \u001b[90m━━━━━━━━━━━━━━━━━━━━━━━━━━━━━━━━━━━━━━━━\u001b[0m \u001b[32m1.3/1.3 MB\u001b[0m \u001b[31m43.8 MB/s\u001b[0m eta \u001b[36m0:00:00\u001b[0m\n",
            "\u001b[?25hRequirement already satisfied: tqdm>=4.27 in /usr/local/lib/python3.10/dist-packages (from transformers) (4.65.0)\n",
            "Requirement already satisfied: fsspec in /usr/local/lib/python3.10/dist-packages (from huggingface-hub<1.0,>=0.14.1->transformers) (2023.4.0)\n",
            "Requirement already satisfied: typing-extensions>=3.7.4.3 in /usr/local/lib/python3.10/dist-packages (from huggingface-hub<1.0,>=0.14.1->transformers) (4.5.0)\n",
            "Requirement already satisfied: urllib3<1.27,>=1.21.1 in /usr/local/lib/python3.10/dist-packages (from requests->transformers) (1.26.15)\n",
            "Requirement already satisfied: certifi>=2017.4.17 in /usr/local/lib/python3.10/dist-packages (from requests->transformers) (2022.12.7)\n",
            "Requirement already satisfied: charset-normalizer~=2.0.0 in /usr/local/lib/python3.10/dist-packages (from requests->transformers) (2.0.12)\n",
            "Requirement already satisfied: idna<4,>=2.5 in /usr/local/lib/python3.10/dist-packages (from requests->transformers) (3.4)\n",
            "Installing collected packages: tokenizers, safetensors, huggingface-hub, transformers\n",
            "Successfully installed huggingface-hub-0.15.1 safetensors-0.3.1 tokenizers-0.13.3 transformers-4.30.2\n",
            "Looking in indexes: https://pypi.org/simple, https://us-python.pkg.dev/colab-wheels/public/simple/\n",
            "Collecting keras.preprocessing\n",
            "  Downloading Keras_Preprocessing-1.1.2-py2.py3-none-any.whl (42 kB)\n",
            "\u001b[2K     \u001b[90m━━━━━━━━━━━━━━━━━━━━━━━━━━━━━━━━━━━━━━━━\u001b[0m \u001b[32m42.6/42.6 kB\u001b[0m \u001b[31m2.0 MB/s\u001b[0m eta \u001b[36m0:00:00\u001b[0m\n",
            "\u001b[?25hRequirement already satisfied: numpy>=1.9.1 in /usr/local/lib/python3.10/dist-packages (from keras.preprocessing) (1.22.4)\n",
            "Requirement already satisfied: six>=1.9.0 in /usr/local/lib/python3.10/dist-packages (from keras.preprocessing) (1.16.0)\n",
            "Installing collected packages: keras.preprocessing\n",
            "Successfully installed keras.preprocessing-1.1.2\n",
            "Looking in indexes: https://pypi.org/simple, https://us-python.pkg.dev/colab-wheels/public/simple/\n",
            "Collecting git+https://github.com/pytorch/text.git@v0.10.0\n",
            "  Cloning https://github.com/pytorch/text.git (to revision v0.10.0) to /tmp/pip-req-build-xqh2mhpl\n",
            "  Running command git clone --filter=blob:none --quiet https://github.com/pytorch/text.git /tmp/pip-req-build-xqh2mhpl\n",
            "  Running command git checkout -q 4da1de36247aa06622088e78508e0e38a4392e38\n",
            "  Resolved https://github.com/pytorch/text.git to commit 4da1de36247aa06622088e78508e0e38a4392e38\n",
            "  Running command git submodule update --init --recursive -q\n",
            "  Preparing metadata (setup.py) ... \u001b[?25l\u001b[?25hdone\n",
            "Requirement already satisfied: tqdm in /usr/local/lib/python3.10/dist-packages (from torchtext==0.10.0a0+4da1de3) (4.65.0)\n",
            "Requirement already satisfied: requests in /usr/local/lib/python3.10/dist-packages (from torchtext==0.10.0a0+4da1de3) (2.27.1)\n",
            "Requirement already satisfied: torch in /usr/local/lib/python3.10/dist-packages (from torchtext==0.10.0a0+4da1de3) (2.0.1+cu118)\n",
            "Requirement already satisfied: numpy in /usr/local/lib/python3.10/dist-packages (from torchtext==0.10.0a0+4da1de3) (1.22.4)\n",
            "Requirement already satisfied: urllib3<1.27,>=1.21.1 in /usr/local/lib/python3.10/dist-packages (from requests->torchtext==0.10.0a0+4da1de3) (1.26.15)\n",
            "Requirement already satisfied: certifi>=2017.4.17 in /usr/local/lib/python3.10/dist-packages (from requests->torchtext==0.10.0a0+4da1de3) (2022.12.7)\n",
            "Requirement already satisfied: charset-normalizer~=2.0.0 in /usr/local/lib/python3.10/dist-packages (from requests->torchtext==0.10.0a0+4da1de3) (2.0.12)\n",
            "Requirement already satisfied: idna<4,>=2.5 in /usr/local/lib/python3.10/dist-packages (from requests->torchtext==0.10.0a0+4da1de3) (3.4)\n",
            "Requirement already satisfied: filelock in /usr/local/lib/python3.10/dist-packages (from torch->torchtext==0.10.0a0+4da1de3) (3.12.0)\n",
            "Requirement already satisfied: typing-extensions in /usr/local/lib/python3.10/dist-packages (from torch->torchtext==0.10.0a0+4da1de3) (4.5.0)\n",
            "Requirement already satisfied: sympy in /usr/local/lib/python3.10/dist-packages (from torch->torchtext==0.10.0a0+4da1de3) (1.11.1)\n",
            "Requirement already satisfied: networkx in /usr/local/lib/python3.10/dist-packages (from torch->torchtext==0.10.0a0+4da1de3) (3.1)\n",
            "Requirement already satisfied: jinja2 in /usr/local/lib/python3.10/dist-packages (from torch->torchtext==0.10.0a0+4da1de3) (3.1.2)\n",
            "Requirement already satisfied: triton==2.0.0 in /usr/local/lib/python3.10/dist-packages (from torch->torchtext==0.10.0a0+4da1de3) (2.0.0)\n",
            "Requirement already satisfied: cmake in /usr/local/lib/python3.10/dist-packages (from triton==2.0.0->torch->torchtext==0.10.0a0+4da1de3) (3.25.2)\n",
            "Requirement already satisfied: lit in /usr/local/lib/python3.10/dist-packages (from triton==2.0.0->torch->torchtext==0.10.0a0+4da1de3) (16.0.5)\n",
            "Requirement already satisfied: MarkupSafe>=2.0 in /usr/local/lib/python3.10/dist-packages (from jinja2->torch->torchtext==0.10.0a0+4da1de3) (2.1.2)\n",
            "Requirement already satisfied: mpmath>=0.19 in /usr/local/lib/python3.10/dist-packages (from sympy->torch->torchtext==0.10.0a0+4da1de3) (1.3.0)\n",
            "Building wheels for collected packages: torchtext\n",
            "  Building wheel for torchtext (setup.py) ... \u001b[?25l\u001b[?25hdone\n",
            "  Created wheel for torchtext: filename=torchtext-0.10.0a0+4da1de3-cp310-cp310-linux_x86_64.whl size=13337642 sha256=9c8b27d86b48a69f2d55d3ea5911909464dc0ca0dfcb3bb2f3cc8406e2515b88\n",
            "  Stored in directory: /tmp/pip-ephem-wheel-cache-td559nyu/wheels/35/01/1b/48d47c6d8246b035aaa21b340cfee8a334384991bb59283a2c\n",
            "Successfully built torchtext\n",
            "Installing collected packages: torchtext\n",
            "  Attempting uninstall: torchtext\n",
            "    Found existing installation: torchtext 0.15.2\n",
            "    Uninstalling torchtext-0.15.2:\n",
            "      Successfully uninstalled torchtext-0.15.2\n",
            "Successfully installed torchtext-0.10.0a0+4da1de3\n"
          ]
        }
      ],
      "source": [
        "!pip install transformers\n",
        "!pip install keras.preprocessing\n",
        "!pip install git+https://github.com/pytorch/text.git@v0.10.0"
      ]
    },
    {
      "cell_type": "code",
      "execution_count": 25,
      "metadata": {
        "id": "fBr2V8S1LAt1"
      },
      "outputs": [],
      "source": [
        "import pandas as pd\n",
        "import numpy as np\n",
        "import torch\n",
        "\n",
        "\n",
        "from transformers import BertForSequenceClassification, BertConfig, BertTokenizer\n",
        "from tensorflow.keras.preprocessing.sequence import pad_sequences\n",
        "from sklearn.metrics import classification_report\n",
        "import matplotlib.pyplot as plt\n",
        "\n",
        "# Preliminaries\n",
        "from torchtext.legacy.data import Field, TabularDataset, BucketIterator, Iterator\n",
        "\n",
        "\n",
        "# Models\n",
        "import torch.nn as nn\n",
        "\n",
        "# Training\n",
        "import torch.optim as optim\n",
        "\n",
        "# Evaluation\n",
        "from sklearn.metrics import accuracy_score, classification_report, confusion_matrix\n",
        "import seaborn as sns"
      ]
    },
    {
      "cell_type": "markdown",
      "metadata": {
        "id": "D87UOuPvZWf9"
      },
      "source": [
        "## Preliminaries"
      ]
    },
    {
      "cell_type": "code",
      "execution_count": 26,
      "metadata": {
        "id": "AtWXlthhPvxl"
      },
      "outputs": [],
      "source": [
        "tokenizer = BertTokenizer.from_pretrained('indobenchmark/indobert-base-p1')"
      ]
    },
    {
      "cell_type": "code",
      "execution_count": 27,
      "metadata": {
        "id": "gWg-WDVbWyGO"
      },
      "outputs": [],
      "source": [
        "device = torch.device('cuda:0' if torch.cuda.is_available() else 'cpu')"
      ]
    },
    {
      "cell_type": "code",
      "source": [
        "import random\n",
        "\n",
        "seed = 42\n",
        "torch.manual_seed(seed)\n",
        "torch.cuda.manual_seed(seed)\n",
        "torch.cuda.manual_seed_all(seed)  # jika menggunakan multiple GPUs\n",
        "random.seed(seed)\n",
        "np.random.seed(seed)\n",
        "torch.backends.cudnn.deterministic = True\n",
        "torch.backends.cudnn.benchmark = False"
      ],
      "metadata": {
        "id": "maNrQIbx_by4"
      },
      "execution_count": 28,
      "outputs": []
    },
    {
      "cell_type": "markdown",
      "metadata": {
        "id": "C7sIHRLwaoyM"
      },
      "source": [
        "## Model"
      ]
    },
    {
      "cell_type": "code",
      "execution_count": 29,
      "metadata": {
        "id": "GeZ14Ky5Lqih"
      },
      "outputs": [],
      "source": [
        "# Model parameter\n",
        "MAX_SEQ_LEN = 128\n",
        "PAD_INDEX = tokenizer.convert_tokens_to_ids(tokenizer.pad_token)\n",
        "UNK_INDEX = tokenizer.convert_tokens_to_ids(tokenizer.unk_token)\n",
        "\n",
        "# Fields\n",
        "label_field = Field(sequential=False, use_vocab=False, batch_first=True, dtype=torch.float)\n",
        "text_field = Field(use_vocab=False, tokenize=tokenizer.encode, lower=False, include_lengths=False, batch_first=True,\n",
        "                   fix_length=MAX_SEQ_LEN, pad_token=PAD_INDEX, unk_token=UNK_INDEX)\n",
        "fields = [('Label', label_field), ('Tokenizing_Head', text_field), ('Tokenizing_Body', text_field)]\n",
        "\n",
        "train, valid, test = TabularDataset.splits(path=source_folder, train='train3.csv', validation='valid3.csv', test='test3.csv',\n",
        "                                           format='csv', fields=fields, skip_header=True)\n"
      ]
    },
    {
      "cell_type": "code",
      "execution_count": 30,
      "metadata": {
        "id": "NSKPey98jRpM"
      },
      "outputs": [],
      "source": [
        "# Iterators\n",
        "train_iter = BucketIterator(train, batch_size=32, sort_key=lambda x: len(x.Tokenizing_Body),\n",
        "                            device=device, train=True, sort=True, sort_within_batch=True)\n",
        "valid_iter = BucketIterator(valid, batch_size=32, sort_key=lambda x: len(x.Tokenizing_Body),\n",
        "                            device=device, train=True, sort=True, sort_within_batch=True)\n",
        "test_iter = Iterator(test, batch_size=32, device=device, train=False, shuffle=False, sort=False)"
      ]
    },
    {
      "cell_type": "code",
      "execution_count": 31,
      "metadata": {
        "id": "YfFxkaJq1WmC"
      },
      "outputs": [],
      "source": [
        "# Module\n",
        "class BERT(nn.Module):\n",
        "\n",
        "    def __init__(self):\n",
        "        super(BERT, self).__init__()\n",
        "\n",
        "        options_name = \"indobenchmark/indobert-base-p1\"\n",
        "        self.encoder = BertForSequenceClassification.from_pretrained(options_name)\n",
        "\n",
        "    # def forward(self, headline, body, label=None):\n",
        "    #     loss, text_fea = self.encoder(input_ids=body, attention_mask=(body!=PAD_INDEX), token_type_ids=(headline!=PAD_INDEX), labels=label)[:2]\n",
        "    def forward(self, text, label):\n",
        "        loss, text_fea = self.encoder(text, labels=label)[:2]\n",
        "\n",
        "        return loss, text_fea"
      ]
    },
    {
      "cell_type": "code",
      "execution_count": 32,
      "metadata": {
        "id": "egjaxiu51prx"
      },
      "outputs": [],
      "source": [
        "def save_checkpoint(save_path, model, valid_loss):\n",
        "    if save_path is None:\n",
        "        return\n",
        "\n",
        "    state_dict = {'model_state_dict': model.state_dict(),\n",
        "                  'valid_loss': valid_loss}\n",
        "\n",
        "    torch.save(state_dict, save_path)\n",
        "    print(f'Model saved to ==> {save_path}')\n",
        "\n",
        "\n",
        "def load_checkpoint(load_path, model):\n",
        "    if load_path is None:\n",
        "        return\n",
        "\n",
        "    state_dict = torch.load(load_path, map_location=device)\n",
        "    print(f'Model loaded from <== {load_path}')\n",
        "\n",
        "    model.load_state_dict(state_dict['model_state_dict'])\n",
        "    return state_dict['valid_loss']\n",
        "\n",
        "\n",
        "def save_metrics(save_path, train_loss_list, valid_loss_list, epoch_list):\n",
        "    if save_path is None:\n",
        "        return\n",
        "\n",
        "    state_dict = {'train_loss_list': train_loss_list,\n",
        "                  'valid_loss_list': valid_loss_list,\n",
        "                  'epoch_list': epoch_list}\n",
        "\n",
        "    torch.save(state_dict, save_path)\n",
        "    print(f'Metrics saved to ==> {save_path}')\n",
        "\n",
        "\n",
        "def load_metrics(load_path):\n",
        "    if load_path is None:\n",
        "        return\n",
        "\n",
        "    state_dict = torch.load(load_path, map_location=device)\n",
        "    print(f'Metrics loaded from <== {load_path}')\n",
        "\n",
        "    return state_dict['train_loss_list'], state_dict['valid_loss_list'], state_dict['epoch_list']"
      ]
    },
    {
      "cell_type": "markdown",
      "metadata": {
        "id": "hsAT0DKHZ1si"
      },
      "source": [
        "## Training and Validation"
      ]
    },
    {
      "cell_type": "code",
      "execution_count": 33,
      "metadata": {
        "id": "mf4FbhurXdUs"
      },
      "outputs": [],
      "source": [
        "def train(model,\n",
        "          optimizer,\n",
        "          criterion=nn.BCELoss(),\n",
        "          train_loader=train_iter,\n",
        "          valid_loader=valid_iter,\n",
        "          num_epochs=9,\n",
        "          eval_every=1,\n",
        "          file_path=destination_folder,\n",
        "          best_valid_loss=float(\"Inf\"),\n",
        "          patience=3):\n",
        "\n",
        "    # initialize running values\n",
        "    running_loss = 0.0\n",
        "    valid_running_loss = 0.0\n",
        "    train_loss_list = []\n",
        "    valid_loss_list = []\n",
        "    epoch_list = []\n",
        "    early_stopping_counter = 0\n",
        "\n",
        "    # training loop\n",
        "    model.train()\n",
        "    for epoch in range(num_epochs):\n",
        "        for (labels, title, text), _ in train_loader:\n",
        "            labels = labels.type(torch.LongTensor)\n",
        "            labels = labels.to(device)\n",
        "            text = text.type(torch.LongTensor)\n",
        "            text = text.to(device)\n",
        "            output = model(text, labels)\n",
        "            loss, _ = output\n",
        "\n",
        "            optimizer.zero_grad()\n",
        "            loss.backward()\n",
        "            optimizer.step()\n",
        "\n",
        "            # update running values\n",
        "            running_loss += loss.item()\n",
        "\n",
        "        # evaluation step\n",
        "        if epoch % eval_every == 0:\n",
        "            model.eval()\n",
        "            with torch.no_grad():\n",
        "                # validation loop\n",
        "                for (labels, title, text), _ in valid_loader:\n",
        "                    labels = labels.type(torch.LongTensor)\n",
        "                    labels = labels.to(device)\n",
        "                    text = text.type(torch.LongTensor)\n",
        "                    text = text.to(device)\n",
        "                    output = model(text, labels)\n",
        "                    loss, _ = output\n",
        "\n",
        "                    valid_running_loss += loss.item()\n",
        "\n",
        "            # evaluation\n",
        "            average_train_loss = running_loss / len(train_loader)\n",
        "            average_valid_loss = valid_running_loss / len(valid_loader)\n",
        "            train_loss_list.append(average_train_loss)\n",
        "            valid_loss_list.append(average_valid_loss)\n",
        "            epoch_list.append(epoch)\n",
        "\n",
        "            # resetting running values\n",
        "            running_loss = 0.0\n",
        "            valid_running_loss = 0.0\n",
        "            model.train()\n",
        "\n",
        "            # print progress\n",
        "            print('Epoch [{}/{}], Train Loss: {:.4f}, Valid Loss: {:.4f}'\n",
        "                  .format(epoch+1, num_epochs, average_train_loss, average_valid_loss))\n",
        "\n",
        "            # checkpoint\n",
        "            if best_valid_loss > average_valid_loss:\n",
        "                best_valid_loss = average_valid_loss\n",
        "                save_checkpoint(file_path + '/' + 'model.pt', model, best_valid_loss)\n",
        "                save_metrics(file_path + '/' + 'metrics.pt', train_loss_list, valid_loss_list, epoch_list)\n",
        "                early_stopping_counter = 0\n",
        "            else:\n",
        "                early_stopping_counter += 1\n",
        "                if early_stopping_counter >= patience:\n",
        "                    print(\"Early stopping\")\n",
        "                    break\n",
        "\n",
        "    save_metrics(file_path + '/' + 'metrics.pt', train_loss_list, valid_loss_list, epoch_list)\n",
        "    print('Finished Training!')\n",
        "    return train_loss_list, valid_loss_list, epoch_list, best_valid_loss"
      ]
    },
    {
      "cell_type": "code",
      "execution_count": 37,
      "metadata": {
        "colab": {
          "base_uri": "https://localhost:8080/"
        },
        "id": "qgEMeGkE25GR",
        "outputId": "fedb149f-a9b6-4d3c-87bd-c05536797854"
      },
      "outputs": [
        {
          "output_type": "stream",
          "name": "stderr",
          "text": [
            "Some weights of BertForSequenceClassification were not initialized from the model checkpoint at indobenchmark/indobert-base-p1 and are newly initialized: ['classifier.bias', 'classifier.weight']\n",
            "You should probably TRAIN this model on a down-stream task to be able to use it for predictions and inference.\n"
          ]
        },
        {
          "output_type": "stream",
          "name": "stdout",
          "text": [
            "Epoch [1/9], Train Loss: 0.7012, Valid Loss: 0.5855\n",
            "Model saved to ==> /content/drive/MyDrive/TASI/Best Model/RandomSearch/model.pt\n",
            "Metrics saved to ==> /content/drive/MyDrive/TASI/Best Model/RandomSearch/metrics.pt\n",
            "Epoch [2/9], Train Loss: 0.4299, Valid Loss: 0.3730\n",
            "Model saved to ==> /content/drive/MyDrive/TASI/Best Model/RandomSearch/model.pt\n",
            "Metrics saved to ==> /content/drive/MyDrive/TASI/Best Model/RandomSearch/metrics.pt\n",
            "Epoch [3/9], Train Loss: 0.2600, Valid Loss: 0.2189\n",
            "Model saved to ==> /content/drive/MyDrive/TASI/Best Model/RandomSearch/model.pt\n",
            "Metrics saved to ==> /content/drive/MyDrive/TASI/Best Model/RandomSearch/metrics.pt\n",
            "Epoch [4/9], Train Loss: 0.1175, Valid Loss: 0.1765\n",
            "Model saved to ==> /content/drive/MyDrive/TASI/Best Model/RandomSearch/model.pt\n",
            "Metrics saved to ==> /content/drive/MyDrive/TASI/Best Model/RandomSearch/metrics.pt\n",
            "Epoch [5/9], Train Loss: 0.0934, Valid Loss: 0.4115\n",
            "Epoch [6/9], Train Loss: 0.0716, Valid Loss: 0.3756\n",
            "Epoch [7/9], Train Loss: 0.0293, Valid Loss: 0.6620\n",
            "Early stopping\n",
            "Metrics saved to ==> /content/drive/MyDrive/TASI/Best Model/RandomSearch/metrics.pt\n",
            "Finished Training!\n"
          ]
        }
      ],
      "source": [
        "model = BERT().to(device)\n",
        "optimizer = optim.Adam(model.parameters(), lr=5e-5)\n",
        "\n",
        "train_loss_list, valid_loss_list, epoch_list, best_valid_loss = train(model=model, optimizer=optimizer)"
      ]
    },
    {
      "cell_type": "code",
      "execution_count": 38,
      "metadata": {
        "id": "aB-0Up2JSsCC",
        "colab": {
          "base_uri": "https://localhost:8080/",
          "height": 466
        },
        "outputId": "ba147419-c72d-4f16-e8fb-9dd4740dc2c2"
      },
      "outputs": [
        {
          "output_type": "stream",
          "name": "stdout",
          "text": [
            "Metrics loaded from <== /content/drive/MyDrive/TASI/Best Model/RandomSearch/metrics.pt\n"
          ]
        },
        {
          "output_type": "display_data",
          "data": {
            "text/plain": [
              "<Figure size 640x480 with 1 Axes>"
            ],
            "image/png": "[encoded data removed]"
          },
          "metadata": {}
        }
      ],
      "source": [
        "train_loss_list, valid_loss_list, epoch_list = load_metrics(destination_folder + '/metrics.pt')\n",
        "plt.plot(epoch_list, train_loss_list, label='Train')\n",
        "plt.plot(epoch_list, valid_loss_list, label='Valid')\n",
        "plt.xlabel('Epochs')\n",
        "plt.ylabel('Loss')\n",
        "plt.legend()\n",
        "plt.show()"
      ]
    },
    {
      "cell_type": "markdown",
      "metadata": {
        "id": "2HlW7cvQaYvl"
      },
      "source": [
        "## Testing"
      ]
    },
    {
      "cell_type": "code",
      "execution_count": 39,
      "metadata": {
        "id": "uMcQfFEFS1AB",
        "colab": {
          "base_uri": "https://localhost:8080/",
          "height": 614
        },
        "outputId": "28cb3c4d-912b-4bf6-f99e-f7be5cfcc80a"
      },
      "outputs": [
        {
          "output_type": "stream",
          "name": "stderr",
          "text": [
            "Some weights of BertForSequenceClassification were not initialized from the model checkpoint at indobenchmark/indobert-base-p1 and are newly initialized: ['classifier.bias', 'classifier.weight']\n",
            "You should probably TRAIN this model on a down-stream task to be able to use it for predictions and inference.\n"
          ]
        },
        {
          "output_type": "stream",
          "name": "stdout",
          "text": [
            "Model loaded from <== /content/drive/MyDrive/TASI/Best Model/RandomSearch/model.pt\n",
            "Classification Report:\n",
            "Real - Precision: 0.9673, Recall: 0.9159, F1-Score: 0.9409\n",
            "Fake - Precision: 0.8430, Recall: 0.9358, F1-Score: 0.8870\n",
            "Accuracy: 0.9223880597014925\n"
          ]
        },
        {
          "output_type": "display_data",
          "data": {
            "text/plain": [
              "<Figure size 640x480 with 2 Axes>"
            ],
            "image/png": "[encoded data removed]"
          },
          "metadata": {}
        }
      ],
      "source": [
        "from sklearn.metrics import classification_report, accuracy_score, confusion_matrix\n",
        "import numpy as np\n",
        "import seaborn as sns\n",
        "import matplotlib.pyplot as plt\n",
        "\n",
        "def evaluate(model, test_loader):\n",
        "    y_pred = []\n",
        "    y_true = []\n",
        "\n",
        "    model.eval()\n",
        "    with torch.no_grad():\n",
        "        for (labels, title, text), _ in test_loader:\n",
        "            labels = labels.type(torch.LongTensor)\n",
        "            labels = labels.to(device)\n",
        "            text = text.type(torch.LongTensor)\n",
        "            text = text.to(device)\n",
        "            output = model(text, labels)\n",
        "\n",
        "            _, output = output\n",
        "            y_pred.extend(torch.argmax(output, 1).tolist())\n",
        "            y_true.extend(labels.tolist())\n",
        "\n",
        "    # Mengganti label 1 menjadi \"fake\" dan label 0 menjadi \"real\"\n",
        "    y_true = np.where(np.array(y_true) == 0, \"real\", \"fake\")\n",
        "    y_pred = np.where(np.array(y_pred) == 0, \"real\", \"fake\")\n",
        "\n",
        "    # Menghitung dan mencetak hasil precision, recall, f1-score, dan accuracy\n",
        "    report = classification_report(y_true, y_pred, labels=[\"real\", \"fake\"], digits=4, output_dict=True)\n",
        "    print('Classification Report:')\n",
        "    for label, scores in report.items():\n",
        "        if label in [\"real\", \"fake\"]:\n",
        "            precision = scores['precision']\n",
        "            recall = scores['recall']\n",
        "            f1_score = scores['f1-score']\n",
        "            print(f\"{label.capitalize()} - Precision: {precision:.4f}, Recall: {recall:.4f}, F1-Score: {f1_score:.4f}\")\n",
        "    accuracy = accuracy_score(y_true, y_pred)\n",
        "    print(f'Accuracy: {accuracy}')\n",
        "\n",
        "    # Menghitung dan mencetak confusion matrix\n",
        "    cm = confusion_matrix(y_true, y_pred, labels=[\"real\", \"fake\"])\n",
        "    ax = plt.subplot()\n",
        "    sns.heatmap(cm, annot=True, ax=ax, cmap='Blues', fmt=\"d\")\n",
        "    ax.set_title('Confusion Matrix')\n",
        "    ax.set_xlabel('Predicted Labels')\n",
        "    ax.set_ylabel('True Labels')\n",
        "    ax.xaxis.set_ticklabels(['Real', 'Fake'])\n",
        "    ax.yaxis.set_ticklabels(['Real', 'Fake'])\n",
        "    plt.show()\n",
        "\n",
        "best_model = BERT().to(device)\n",
        "\n",
        "load_checkpoint(destination_folder + '/model.pt', best_model)\n",
        "\n",
        "evaluate(best_model, test_iter)"
      ]
    },
    {
      "cell_type": "markdown",
      "metadata": {
        "id": "lH-ndpu-LdhU"
      },
      "source": [
        "##Hyperparameter Tuning Random Search with Import Optuna"
      ]
    },
    {
      "cell_type": "code",
      "execution_count": 17,
      "metadata": {
        "id": "BTVEwsVECsNB",
        "colab": {
          "base_uri": "https://localhost:8080/"
        },
        "outputId": "143227eb-62e9-4191-86b0-e186c7f5c5d9"
      },
      "outputs": [
        {
          "output_type": "stream",
          "name": "stdout",
          "text": [
            "Looking in indexes: https://pypi.org/simple, https://us-python.pkg.dev/colab-wheels/public/simple/\n",
            "Collecting optuna\n",
            "  Downloading optuna-3.2.0-py3-none-any.whl (390 kB)\n",
            "\u001b[2K     \u001b[90m━━━━━━━━━━━━━━━━━━━━━━━━━━━━━━━━━━━━━━━\u001b[0m \u001b[32m390.6/390.6 kB\u001b[0m \u001b[31m8.8 MB/s\u001b[0m eta \u001b[36m0:00:00\u001b[0m\n",
            "\u001b[?25hCollecting alembic>=1.5.0 (from optuna)\n",
            "  Downloading alembic-1.11.1-py3-none-any.whl (224 kB)\n",
            "\u001b[2K     \u001b[90m━━━━━━━━━━━━━━━━━━━━━━━━━━━━━━━━━━━━━━\u001b[0m \u001b[32m224.5/224.5 kB\u001b[0m \u001b[31m24.6 MB/s\u001b[0m eta \u001b[36m0:00:00\u001b[0m\n",
            "\u001b[?25hCollecting cmaes>=0.9.1 (from optuna)\n",
            "  Downloading cmaes-0.9.1-py3-none-any.whl (21 kB)\n",
            "Collecting colorlog (from optuna)\n",
            "  Downloading colorlog-6.7.0-py2.py3-none-any.whl (11 kB)\n",
            "Requirement already satisfied: numpy in /usr/local/lib/python3.10/dist-packages (from optuna) (1.22.4)\n",
            "Requirement already satisfied: packaging>=20.0 in /usr/local/lib/python3.10/dist-packages (from optuna) (23.1)\n",
            "Requirement already satisfied: sqlalchemy>=1.3.0 in /usr/local/lib/python3.10/dist-packages (from optuna) (2.0.10)\n",
            "Requirement already satisfied: tqdm in /usr/local/lib/python3.10/dist-packages (from optuna) (4.65.0)\n",
            "Requirement already satisfied: PyYAML in /usr/local/lib/python3.10/dist-packages (from optuna) (6.0)\n",
            "Collecting Mako (from alembic>=1.5.0->optuna)\n",
            "  Downloading Mako-1.2.4-py3-none-any.whl (78 kB)\n",
            "\u001b[2K     \u001b[90m━━━━━━━━━━━━━━━━━━━━━━━━━━━━━━━━━━━━━━━━\u001b[0m \u001b[32m78.7/78.7 kB\u001b[0m \u001b[31m10.8 MB/s\u001b[0m eta \u001b[36m0:00:00\u001b[0m\n",
            "\u001b[?25hRequirement already satisfied: typing-extensions>=4 in /usr/local/lib/python3.10/dist-packages (from alembic>=1.5.0->optuna) (4.5.0)\n",
            "Requirement already satisfied: greenlet!=0.4.17 in /usr/local/lib/python3.10/dist-packages (from sqlalchemy>=1.3.0->optuna) (2.0.2)\n",
            "Requirement already satisfied: MarkupSafe>=0.9.2 in /usr/local/lib/python3.10/dist-packages (from Mako->alembic>=1.5.0->optuna) (2.1.2)\n",
            "Installing collected packages: Mako, colorlog, cmaes, alembic, optuna\n",
            "Successfully installed Mako-1.2.4 alembic-1.11.1 cmaes-0.9.1 colorlog-6.7.0 optuna-3.2.0\n"
          ]
        }
      ],
      "source": [
        "!pip install optuna"
      ]
    },
    {
      "cell_type": "code",
      "execution_count": 18,
      "metadata": {
        "id": "m4ZRW3Odyw8F",
        "colab": {
          "base_uri": "https://localhost:8080/"
        },
        "outputId": "e7b98779-28af-44d8-b62f-0aaa4884b821"
      },
      "outputs": [
        {
          "output_type": "stream",
          "name": "stderr",
          "text": [
            "[I 2023-06-21 11:22:52,313] A new study created in memory with name: no-name-6ea72b1a-9cb3-461b-88ad-6a318b4e29ac\n",
            "Some weights of BertForSequenceClassification were not initialized from the model checkpoint at indobenchmark/indobert-base-p1 and are newly initialized: ['classifier.bias', 'classifier.weight']\n",
            "You should probably TRAIN this model on a down-stream task to be able to use it for predictions and inference.\n"
          ]
        },
        {
          "output_type": "stream",
          "name": "stdout",
          "text": [
            "Epoch [1/7], Train Loss: 0.4281, Valid Loss: 0.2725\n",
            "Model saved to ==> /content/drive/MyDrive/TASI/Random Search/ModelImbalance4/model.pt\n",
            "Metrics saved to ==> /content/drive/MyDrive/TASI/Random Search/ModelImbalance4/metrics.pt\n",
            "Epoch [2/7], Train Loss: 0.2324, Valid Loss: 0.2335\n",
            "Model saved to ==> /content/drive/MyDrive/TASI/Random Search/ModelImbalance4/model.pt\n",
            "Metrics saved to ==> /content/drive/MyDrive/TASI/Random Search/ModelImbalance4/metrics.pt\n",
            "Epoch [3/7], Train Loss: 0.1483, Valid Loss: 0.2297\n",
            "Model saved to ==> /content/drive/MyDrive/TASI/Random Search/ModelImbalance4/model.pt\n",
            "Metrics saved to ==> /content/drive/MyDrive/TASI/Random Search/ModelImbalance4/metrics.pt\n",
            "Epoch [4/7], Train Loss: 0.0989, Valid Loss: 0.2649\n",
            "Epoch [5/7], Train Loss: 0.0576, Valid Loss: 0.3111\n",
            "Epoch [6/7], Train Loss: 0.0289, Valid Loss: 0.5001\n",
            "Early stopping\n",
            "Metrics saved to ==> /content/drive/MyDrive/TASI/Random Search/ModelImbalance4/metrics.pt\n",
            "Finished Training!\n"
          ]
        },
        {
          "output_type": "stream",
          "name": "stderr",
          "text": [
            "[I 2023-06-21 11:24:55,327] Trial 0 finished with value: 0.22972964235980595 and parameters: {'lr': 5e-05, 'num_epochs': 7, 'batch_size': 16}. Best is trial 0 with value: 0.22972964235980595.\n",
            "Some weights of BertForSequenceClassification were not initialized from the model checkpoint at indobenchmark/indobert-base-p1 and are newly initialized: ['classifier.bias', 'classifier.weight']\n",
            "You should probably TRAIN this model on a down-stream task to be able to use it for predictions and inference.\n"
          ]
        },
        {
          "output_type": "stream",
          "name": "stdout",
          "text": [
            "Epoch [1/6], Train Loss: 0.6729, Valid Loss: 0.6576\n",
            "Model saved to ==> /content/drive/MyDrive/TASI/Random Search/ModelImbalance4/model.pt\n",
            "Metrics saved to ==> /content/drive/MyDrive/TASI/Random Search/ModelImbalance4/metrics.pt\n",
            "Epoch [2/6], Train Loss: 0.6551, Valid Loss: 0.6609\n",
            "Epoch [3/6], Train Loss: 0.3520, Valid Loss: 0.2836\n",
            "Model saved to ==> /content/drive/MyDrive/TASI/Random Search/ModelImbalance4/model.pt\n",
            "Metrics saved to ==> /content/drive/MyDrive/TASI/Random Search/ModelImbalance4/metrics.pt\n",
            "Epoch [4/6], Train Loss: 0.2030, Valid Loss: 0.2447\n",
            "Model saved to ==> /content/drive/MyDrive/TASI/Random Search/ModelImbalance4/model.pt\n",
            "Metrics saved to ==> /content/drive/MyDrive/TASI/Random Search/ModelImbalance4/metrics.pt\n",
            "Epoch [5/6], Train Loss: 0.1212, Valid Loss: 0.2201\n",
            "Model saved to ==> /content/drive/MyDrive/TASI/Random Search/ModelImbalance4/model.pt\n",
            "Metrics saved to ==> /content/drive/MyDrive/TASI/Random Search/ModelImbalance4/metrics.pt\n",
            "Epoch [6/6], Train Loss: 0.0921, Valid Loss: 0.2112\n",
            "Model saved to ==> /content/drive/MyDrive/TASI/Random Search/ModelImbalance4/model.pt\n",
            "Metrics saved to ==> /content/drive/MyDrive/TASI/Random Search/ModelImbalance4/metrics.pt\n",
            "Metrics saved to ==> /content/drive/MyDrive/TASI/Random Search/ModelImbalance4/metrics.pt\n",
            "Finished Training!\n"
          ]
        },
        {
          "output_type": "stream",
          "name": "stderr",
          "text": [
            "[I 2023-06-21 11:26:57,590] Trial 1 finished with value: 0.21118528143103635 and parameters: {'lr': 2e-05, 'num_epochs': 6, 'batch_size': 16}. Best is trial 1 with value: 0.21118528143103635.\n",
            "Some weights of BertForSequenceClassification were not initialized from the model checkpoint at indobenchmark/indobert-base-p1 and are newly initialized: ['classifier.bias', 'classifier.weight']\n",
            "You should probably TRAIN this model on a down-stream task to be able to use it for predictions and inference.\n"
          ]
        },
        {
          "output_type": "stream",
          "name": "stdout",
          "text": [
            "Epoch [1/9], Train Loss: 0.4701, Valid Loss: 0.2788\n",
            "Model saved to ==> /content/drive/MyDrive/TASI/Random Search/ModelImbalance4/model.pt\n",
            "Metrics saved to ==> /content/drive/MyDrive/TASI/Random Search/ModelImbalance4/metrics.pt\n",
            "Epoch [2/9], Train Loss: 0.2992, Valid Loss: 0.2893\n",
            "Epoch [3/9], Train Loss: 0.1991, Valid Loss: 0.4476\n"
          ]
        },
        {
          "output_type": "stream",
          "name": "stderr",
          "text": [
            "[I 2023-06-21 11:28:12,673] Trial 2 pruned. \n"
          ]
        },
        {
          "output_type": "stream",
          "name": "stdout",
          "text": [
            "Epoch [4/9], Train Loss: 0.1311, Valid Loss: 0.3290\n",
            "Early stopping\n",
            "Metrics saved to ==> /content/drive/MyDrive/TASI/Random Search/ModelImbalance4/metrics.pt\n",
            "Finished Training!\n",
            "Validation loss hasn't improved in the last 3 epochs. Stopping early.\n"
          ]
        },
        {
          "output_type": "stream",
          "name": "stderr",
          "text": [
            "Some weights of BertForSequenceClassification were not initialized from the model checkpoint at indobenchmark/indobert-base-p1 and are newly initialized: ['classifier.bias', 'classifier.weight']\n",
            "You should probably TRAIN this model on a down-stream task to be able to use it for predictions and inference.\n"
          ]
        },
        {
          "output_type": "stream",
          "name": "stdout",
          "text": [
            "Epoch [1/10], Train Loss: 0.6134, Valid Loss: 0.5653\n",
            "Model saved to ==> /content/drive/MyDrive/TASI/Random Search/ModelImbalance4/model.pt\n",
            "Metrics saved to ==> /content/drive/MyDrive/TASI/Random Search/ModelImbalance4/metrics.pt\n",
            "Epoch [2/10], Train Loss: 0.3171, Valid Loss: 0.2113\n",
            "Model saved to ==> /content/drive/MyDrive/TASI/Random Search/ModelImbalance4/model.pt\n",
            "Metrics saved to ==> /content/drive/MyDrive/TASI/Random Search/ModelImbalance4/metrics.pt\n",
            "Epoch [3/10], Train Loss: 0.1745, Valid Loss: 0.2123\n",
            "Epoch [4/10], Train Loss: 0.1062, Valid Loss: 0.1633\n",
            "Model saved to ==> /content/drive/MyDrive/TASI/Random Search/ModelImbalance4/model.pt\n",
            "Metrics saved to ==> /content/drive/MyDrive/TASI/Random Search/ModelImbalance4/metrics.pt\n",
            "Epoch [5/10], Train Loss: 0.0701, Valid Loss: 0.1609\n",
            "Model saved to ==> /content/drive/MyDrive/TASI/Random Search/ModelImbalance4/model.pt\n",
            "Metrics saved to ==> /content/drive/MyDrive/TASI/Random Search/ModelImbalance4/metrics.pt\n",
            "Epoch [6/10], Train Loss: 0.0370, Valid Loss: 0.2305\n",
            "Epoch [7/10], Train Loss: 0.0143, Valid Loss: 0.2491\n",
            "Epoch [8/10], Train Loss: 0.0086, Valid Loss: 0.3835\n",
            "Early stopping\n",
            "Metrics saved to ==> /content/drive/MyDrive/TASI/Random Search/ModelImbalance4/metrics.pt\n",
            "Finished Training!\n"
          ]
        },
        {
          "output_type": "stream",
          "name": "stderr",
          "text": [
            "[I 2023-06-21 11:30:54,179] Trial 3 finished with value: 0.1609072876162827 and parameters: {'lr': 3e-05, 'num_epochs': 10, 'batch_size': 16}. Best is trial 3 with value: 0.1609072876162827.\n",
            "Some weights of BertForSequenceClassification were not initialized from the model checkpoint at indobenchmark/indobert-base-p1 and are newly initialized: ['classifier.bias', 'classifier.weight']\n",
            "You should probably TRAIN this model on a down-stream task to be able to use it for predictions and inference.\n"
          ]
        },
        {
          "output_type": "stream",
          "name": "stdout",
          "text": [
            "Epoch [1/5], Train Loss: 0.6867, Valid Loss: 0.7039\n",
            "Model saved to ==> /content/drive/MyDrive/TASI/Random Search/ModelImbalance4/model.pt\n",
            "Metrics saved to ==> /content/drive/MyDrive/TASI/Random Search/ModelImbalance4/metrics.pt\n",
            "Epoch [2/5], Train Loss: 0.6946, Valid Loss: 0.6795\n",
            "Model saved to ==> /content/drive/MyDrive/TASI/Random Search/ModelImbalance4/model.pt\n",
            "Metrics saved to ==> /content/drive/MyDrive/TASI/Random Search/ModelImbalance4/metrics.pt\n",
            "Epoch [3/5], Train Loss: 0.6701, Valid Loss: 0.6494\n",
            "Model saved to ==> /content/drive/MyDrive/TASI/Random Search/ModelImbalance4/model.pt\n",
            "Metrics saved to ==> /content/drive/MyDrive/TASI/Random Search/ModelImbalance4/metrics.pt\n",
            "Epoch [4/5], Train Loss: 0.6762, Valid Loss: 0.6712\n"
          ]
        },
        {
          "output_type": "stream",
          "name": "stderr",
          "text": [
            "[I 2023-06-21 11:32:32,494] Trial 4 pruned. \n"
          ]
        },
        {
          "output_type": "stream",
          "name": "stdout",
          "text": [
            "Epoch [5/5], Train Loss: 0.6758, Valid Loss: 0.6790\n",
            "Metrics saved to ==> /content/drive/MyDrive/TASI/Random Search/ModelImbalance4/metrics.pt\n",
            "Finished Training!\n",
            "Validation loss hasn't improved in the last 3 epochs. Stopping early.\n"
          ]
        },
        {
          "output_type": "stream",
          "name": "stderr",
          "text": [
            "Some weights of BertForSequenceClassification were not initialized from the model checkpoint at indobenchmark/indobert-base-p1 and are newly initialized: ['classifier.bias', 'classifier.weight']\n",
            "You should probably TRAIN this model on a down-stream task to be able to use it for predictions and inference.\n"
          ]
        },
        {
          "output_type": "stream",
          "name": "stdout",
          "text": [
            "Epoch [1/5], Train Loss: 0.5706, Valid Loss: 0.4140\n",
            "Model saved to ==> /content/drive/MyDrive/TASI/Random Search/ModelImbalance4/model.pt\n",
            "Metrics saved to ==> /content/drive/MyDrive/TASI/Random Search/ModelImbalance4/metrics.pt\n",
            "Epoch [2/5], Train Loss: 0.2691, Valid Loss: 0.2274\n",
            "Model saved to ==> /content/drive/MyDrive/TASI/Random Search/ModelImbalance4/model.pt\n",
            "Metrics saved to ==> /content/drive/MyDrive/TASI/Random Search/ModelImbalance4/metrics.pt\n",
            "Epoch [3/5], Train Loss: 0.1208, Valid Loss: 0.3390\n",
            "Epoch [4/5], Train Loss: 0.0665, Valid Loss: 0.1458\n",
            "Model saved to ==> /content/drive/MyDrive/TASI/Random Search/ModelImbalance4/model.pt\n",
            "Metrics saved to ==> /content/drive/MyDrive/TASI/Random Search/ModelImbalance4/metrics.pt\n",
            "Epoch [5/5], Train Loss: 0.0591, Valid Loss: 0.5682\n",
            "Metrics saved to ==> /content/drive/MyDrive/TASI/Random Search/ModelImbalance4/metrics.pt\n",
            "Finished Training!\n"
          ]
        },
        {
          "output_type": "stream",
          "name": "stderr",
          "text": [
            "[I 2023-06-21 11:34:11,716] Trial 5 finished with value: 0.14577763767114707 and parameters: {'lr': 5e-05, 'num_epochs': 5, 'batch_size': 16}. Best is trial 5 with value: 0.14577763767114707.\n",
            "Some weights of BertForSequenceClassification were not initialized from the model checkpoint at indobenchmark/indobert-base-p1 and are newly initialized: ['classifier.bias', 'classifier.weight']\n",
            "You should probably TRAIN this model on a down-stream task to be able to use it for predictions and inference.\n"
          ]
        },
        {
          "output_type": "stream",
          "name": "stdout",
          "text": [
            "Epoch [1/9], Train Loss: 0.6610, Valid Loss: 0.6425\n",
            "Model saved to ==> /content/drive/MyDrive/TASI/Random Search/ModelImbalance4/model.pt\n",
            "Metrics saved to ==> /content/drive/MyDrive/TASI/Random Search/ModelImbalance4/metrics.pt\n",
            "Epoch [2/9], Train Loss: 0.4471, Valid Loss: 0.3204\n",
            "Model saved to ==> /content/drive/MyDrive/TASI/Random Search/ModelImbalance4/model.pt\n",
            "Metrics saved to ==> /content/drive/MyDrive/TASI/Random Search/ModelImbalance4/metrics.pt\n",
            "Epoch [3/9], Train Loss: 0.2447, Valid Loss: 0.2298\n",
            "Model saved to ==> /content/drive/MyDrive/TASI/Random Search/ModelImbalance4/model.pt\n",
            "Metrics saved to ==> /content/drive/MyDrive/TASI/Random Search/ModelImbalance4/metrics.pt\n",
            "Epoch [4/9], Train Loss: 0.1402, Valid Loss: 0.2080\n",
            "Model saved to ==> /content/drive/MyDrive/TASI/Random Search/ModelImbalance4/model.pt\n",
            "Metrics saved to ==> /content/drive/MyDrive/TASI/Random Search/ModelImbalance4/metrics.pt\n",
            "Epoch [5/9], Train Loss: 0.0743, Valid Loss: 0.1539\n",
            "Model saved to ==> /content/drive/MyDrive/TASI/Random Search/ModelImbalance4/model.pt\n",
            "Metrics saved to ==> /content/drive/MyDrive/TASI/Random Search/ModelImbalance4/metrics.pt\n",
            "Epoch [6/9], Train Loss: 0.0441, Valid Loss: 0.2145\n",
            "Epoch [7/9], Train Loss: 0.0315, Valid Loss: 0.2863\n"
          ]
        },
        {
          "output_type": "stream",
          "name": "stderr",
          "text": [
            "[I 2023-06-21 11:36:51,576] Trial 6 pruned. \n"
          ]
        },
        {
          "output_type": "stream",
          "name": "stdout",
          "text": [
            "Epoch [8/9], Train Loss: 0.0087, Valid Loss: 0.3082\n",
            "Early stopping\n",
            "Metrics saved to ==> /content/drive/MyDrive/TASI/Random Search/ModelImbalance4/metrics.pt\n",
            "Finished Training!\n",
            "Validation loss hasn't improved in the last 3 epochs. Stopping early.\n"
          ]
        },
        {
          "output_type": "stream",
          "name": "stderr",
          "text": [
            "Some weights of BertForSequenceClassification were not initialized from the model checkpoint at indobenchmark/indobert-base-p1 and are newly initialized: ['classifier.bias', 'classifier.weight']\n",
            "You should probably TRAIN this model on a down-stream task to be able to use it for predictions and inference.\n"
          ]
        },
        {
          "output_type": "stream",
          "name": "stdout",
          "text": [
            "Epoch [1/7], Train Loss: 0.6218, Valid Loss: 0.4403\n",
            "Model saved to ==> /content/drive/MyDrive/TASI/Random Search/ModelImbalance4/model.pt\n",
            "Metrics saved to ==> /content/drive/MyDrive/TASI/Random Search/ModelImbalance4/metrics.pt\n",
            "Epoch [2/7], Train Loss: 0.2879, Valid Loss: 0.3238\n",
            "Model saved to ==> /content/drive/MyDrive/TASI/Random Search/ModelImbalance4/model.pt\n",
            "Metrics saved to ==> /content/drive/MyDrive/TASI/Random Search/ModelImbalance4/metrics.pt\n",
            "Epoch [3/7], Train Loss: 0.1806, Valid Loss: 0.2227\n",
            "Model saved to ==> /content/drive/MyDrive/TASI/Random Search/ModelImbalance4/model.pt\n",
            "Metrics saved to ==> /content/drive/MyDrive/TASI/Random Search/ModelImbalance4/metrics.pt\n",
            "Epoch [4/7], Train Loss: 0.1113, Valid Loss: 0.1614\n",
            "Model saved to ==> /content/drive/MyDrive/TASI/Random Search/ModelImbalance4/model.pt\n",
            "Metrics saved to ==> /content/drive/MyDrive/TASI/Random Search/ModelImbalance4/metrics.pt\n",
            "Epoch [5/7], Train Loss: 0.0662, Valid Loss: 0.1148\n",
            "Model saved to ==> /content/drive/MyDrive/TASI/Random Search/ModelImbalance4/model.pt\n",
            "Metrics saved to ==> /content/drive/MyDrive/TASI/Random Search/ModelImbalance4/metrics.pt\n",
            "Epoch [6/7], Train Loss: 0.0136, Valid Loss: 0.2933\n",
            "Epoch [7/7], Train Loss: 0.0051, Valid Loss: 0.2812\n",
            "Metrics saved to ==> /content/drive/MyDrive/TASI/Random Search/ModelImbalance4/metrics.pt\n",
            "Finished Training!\n"
          ]
        },
        {
          "output_type": "stream",
          "name": "stderr",
          "text": [
            "[I 2023-06-21 11:39:11,635] Trial 7 finished with value: 0.11477370491983103 and parameters: {'lr': 5e-05, 'num_epochs': 7, 'batch_size': 16}. Best is trial 7 with value: 0.11477370491983103.\n",
            "Some weights of BertForSequenceClassification were not initialized from the model checkpoint at indobenchmark/indobert-base-p1 and are newly initialized: ['classifier.bias', 'classifier.weight']\n",
            "You should probably TRAIN this model on a down-stream task to be able to use it for predictions and inference.\n"
          ]
        },
        {
          "output_type": "stream",
          "name": "stdout",
          "text": [
            "Epoch [1/8], Train Loss: 0.6459, Valid Loss: 0.5949\n",
            "Model saved to ==> /content/drive/MyDrive/TASI/Random Search/ModelImbalance4/model.pt\n",
            "Metrics saved to ==> /content/drive/MyDrive/TASI/Random Search/ModelImbalance4/metrics.pt\n",
            "Epoch [2/8], Train Loss: 0.3295, Valid Loss: 0.3231\n",
            "Model saved to ==> /content/drive/MyDrive/TASI/Random Search/ModelImbalance4/model.pt\n",
            "Metrics saved to ==> /content/drive/MyDrive/TASI/Random Search/ModelImbalance4/metrics.pt\n",
            "Epoch [3/8], Train Loss: 0.1655, Valid Loss: 0.3372\n",
            "Epoch [4/8], Train Loss: 0.1192, Valid Loss: 0.2416\n",
            "Model saved to ==> /content/drive/MyDrive/TASI/Random Search/ModelImbalance4/model.pt\n",
            "Metrics saved to ==> /content/drive/MyDrive/TASI/Random Search/ModelImbalance4/metrics.pt\n",
            "Epoch [5/8], Train Loss: 0.0430, Valid Loss: 0.1877\n",
            "Model saved to ==> /content/drive/MyDrive/TASI/Random Search/ModelImbalance4/model.pt\n",
            "Metrics saved to ==> /content/drive/MyDrive/TASI/Random Search/ModelImbalance4/metrics.pt\n",
            "Epoch [6/8], Train Loss: 0.0240, Valid Loss: 0.2219\n",
            "Epoch [7/8], Train Loss: 0.0375, Valid Loss: 0.1346\n",
            "Model saved to ==> /content/drive/MyDrive/TASI/Random Search/ModelImbalance4/model.pt\n",
            "Metrics saved to ==> /content/drive/MyDrive/TASI/Random Search/ModelImbalance4/metrics.pt\n"
          ]
        },
        {
          "output_type": "stream",
          "name": "stderr",
          "text": [
            "[I 2023-06-21 11:41:48,283] Trial 8 pruned. \n"
          ]
        },
        {
          "output_type": "stream",
          "name": "stdout",
          "text": [
            "Epoch [8/8], Train Loss: 0.0348, Valid Loss: 0.1797\n",
            "Metrics saved to ==> /content/drive/MyDrive/TASI/Random Search/ModelImbalance4/metrics.pt\n",
            "Finished Training!\n",
            "Validation loss hasn't improved in the last 3 epochs. Stopping early.\n"
          ]
        },
        {
          "output_type": "stream",
          "name": "stderr",
          "text": [
            "Some weights of BertForSequenceClassification were not initialized from the model checkpoint at indobenchmark/indobert-base-p1 and are newly initialized: ['classifier.bias', 'classifier.weight']\n",
            "You should probably TRAIN this model on a down-stream task to be able to use it for predictions and inference.\n"
          ]
        },
        {
          "output_type": "stream",
          "name": "stdout",
          "text": [
            "Epoch [1/10], Train Loss: 0.6453, Valid Loss: 0.6940\n",
            "Model saved to ==> /content/drive/MyDrive/TASI/Random Search/ModelImbalance4/model.pt\n",
            "Metrics saved to ==> /content/drive/MyDrive/TASI/Random Search/ModelImbalance4/metrics.pt\n",
            "Epoch [2/10], Train Loss: 0.5794, Valid Loss: 0.4716\n",
            "Model saved to ==> /content/drive/MyDrive/TASI/Random Search/ModelImbalance4/model.pt\n",
            "Metrics saved to ==> /content/drive/MyDrive/TASI/Random Search/ModelImbalance4/metrics.pt\n",
            "Epoch [3/10], Train Loss: 0.2389, Valid Loss: 0.4776\n",
            "Epoch [4/10], Train Loss: 0.1441, Valid Loss: 0.4306\n",
            "Model saved to ==> /content/drive/MyDrive/TASI/Random Search/ModelImbalance4/model.pt\n",
            "Metrics saved to ==> /content/drive/MyDrive/TASI/Random Search/ModelImbalance4/metrics.pt\n",
            "Epoch [5/10], Train Loss: 0.0945, Valid Loss: 0.3421\n",
            "Model saved to ==> /content/drive/MyDrive/TASI/Random Search/ModelImbalance4/model.pt\n",
            "Metrics saved to ==> /content/drive/MyDrive/TASI/Random Search/ModelImbalance4/metrics.pt\n",
            "Epoch [6/10], Train Loss: 0.0704, Valid Loss: 0.1764\n",
            "Model saved to ==> /content/drive/MyDrive/TASI/Random Search/ModelImbalance4/model.pt\n",
            "Metrics saved to ==> /content/drive/MyDrive/TASI/Random Search/ModelImbalance4/metrics.pt\n",
            "Epoch [7/10], Train Loss: 0.0194, Valid Loss: 0.1726\n",
            "Model saved to ==> /content/drive/MyDrive/TASI/Random Search/ModelImbalance4/model.pt\n",
            "Metrics saved to ==> /content/drive/MyDrive/TASI/Random Search/ModelImbalance4/metrics.pt\n",
            "Epoch [8/10], Train Loss: 0.0088, Valid Loss: 0.1246\n",
            "Model saved to ==> /content/drive/MyDrive/TASI/Random Search/ModelImbalance4/model.pt\n",
            "Metrics saved to ==> /content/drive/MyDrive/TASI/Random Search/ModelImbalance4/metrics.pt\n",
            "Epoch [9/10], Train Loss: 0.0016, Valid Loss: 0.1352\n"
          ]
        },
        {
          "output_type": "stream",
          "name": "stderr",
          "text": [
            "[I 2023-06-21 11:45:03,264] Trial 9 pruned. \n"
          ]
        },
        {
          "output_type": "stream",
          "name": "stdout",
          "text": [
            "Epoch [10/10], Train Loss: 0.0013, Valid Loss: 0.1349\n",
            "Metrics saved to ==> /content/drive/MyDrive/TASI/Random Search/ModelImbalance4/metrics.pt\n",
            "Finished Training!\n",
            "Validation loss hasn't improved in the last 3 epochs. Stopping early.\n"
          ]
        },
        {
          "output_type": "stream",
          "name": "stderr",
          "text": [
            "Some weights of BertForSequenceClassification were not initialized from the model checkpoint at indobenchmark/indobert-base-p1 and are newly initialized: ['classifier.bias', 'classifier.weight']\n",
            "You should probably TRAIN this model on a down-stream task to be able to use it for predictions and inference.\n"
          ]
        },
        {
          "output_type": "stream",
          "name": "stdout",
          "text": [
            "Epoch [1/7], Train Loss: 0.6500, Valid Loss: 0.6596\n",
            "Model saved to ==> /content/drive/MyDrive/TASI/Random Search/ModelImbalance4/model.pt\n",
            "Metrics saved to ==> /content/drive/MyDrive/TASI/Random Search/ModelImbalance4/metrics.pt\n",
            "Epoch [2/7], Train Loss: 0.7638, Valid Loss: 0.6725\n",
            "Epoch [3/7], Train Loss: 0.6935, Valid Loss: 0.6761\n"
          ]
        },
        {
          "output_type": "stream",
          "name": "stderr",
          "text": [
            "[I 2023-06-21 11:46:18,349] Trial 10 pruned. \n"
          ]
        },
        {
          "output_type": "stream",
          "name": "stdout",
          "text": [
            "Epoch [4/7], Train Loss: 0.6818, Valid Loss: 0.6632\n",
            "Early stopping\n",
            "Metrics saved to ==> /content/drive/MyDrive/TASI/Random Search/ModelImbalance4/metrics.pt\n",
            "Finished Training!\n",
            "Validation loss hasn't improved in the last 3 epochs. Stopping early.\n"
          ]
        },
        {
          "output_type": "stream",
          "name": "stderr",
          "text": [
            "Some weights of BertForSequenceClassification were not initialized from the model checkpoint at indobenchmark/indobert-base-p1 and are newly initialized: ['classifier.bias', 'classifier.weight']\n",
            "You should probably TRAIN this model on a down-stream task to be able to use it for predictions and inference.\n"
          ]
        },
        {
          "output_type": "stream",
          "name": "stdout",
          "text": [
            "Epoch [1/5], Train Loss: 0.6502, Valid Loss: 0.6419\n",
            "Model saved to ==> /content/drive/MyDrive/TASI/Random Search/ModelImbalance4/model.pt\n",
            "Metrics saved to ==> /content/drive/MyDrive/TASI/Random Search/ModelImbalance4/metrics.pt\n",
            "Epoch [2/5], Train Loss: 0.4066, Valid Loss: 0.3341\n",
            "Model saved to ==> /content/drive/MyDrive/TASI/Random Search/ModelImbalance4/model.pt\n",
            "Metrics saved to ==> /content/drive/MyDrive/TASI/Random Search/ModelImbalance4/metrics.pt\n",
            "Epoch [3/5], Train Loss: 0.2761, Valid Loss: 0.3491\n",
            "Epoch [4/5], Train Loss: 0.2075, Valid Loss: 0.2324\n",
            "Model saved to ==> /content/drive/MyDrive/TASI/Random Search/ModelImbalance4/model.pt\n",
            "Metrics saved to ==> /content/drive/MyDrive/TASI/Random Search/ModelImbalance4/metrics.pt\n"
          ]
        },
        {
          "output_type": "stream",
          "name": "stderr",
          "text": [
            "[I 2023-06-21 11:47:55,755] Trial 11 pruned. \n"
          ]
        },
        {
          "output_type": "stream",
          "name": "stdout",
          "text": [
            "Epoch [5/5], Train Loss: 0.2276, Valid Loss: 0.2592\n",
            "Metrics saved to ==> /content/drive/MyDrive/TASI/Random Search/ModelImbalance4/metrics.pt\n",
            "Finished Training!\n",
            "Validation loss hasn't improved in the last 3 epochs. Stopping early.\n"
          ]
        },
        {
          "output_type": "stream",
          "name": "stderr",
          "text": [
            "Some weights of BertForSequenceClassification were not initialized from the model checkpoint at indobenchmark/indobert-base-p1 and are newly initialized: ['classifier.bias', 'classifier.weight']\n",
            "You should probably TRAIN this model on a down-stream task to be able to use it for predictions and inference.\n"
          ]
        },
        {
          "output_type": "stream",
          "name": "stdout",
          "text": [
            "Epoch [1/9], Train Loss: 0.6787, Valid Loss: 0.6665\n",
            "Model saved to ==> /content/drive/MyDrive/TASI/Random Search/ModelImbalance4/model.pt\n",
            "Metrics saved to ==> /content/drive/MyDrive/TASI/Random Search/ModelImbalance4/metrics.pt\n",
            "Epoch [2/9], Train Loss: 0.7036, Valid Loss: 0.6670\n",
            "Epoch [3/9], Train Loss: 0.6982, Valid Loss: 0.6562\n",
            "Model saved to ==> /content/drive/MyDrive/TASI/Random Search/ModelImbalance4/model.pt\n",
            "Metrics saved to ==> /content/drive/MyDrive/TASI/Random Search/ModelImbalance4/metrics.pt\n",
            "Epoch [4/9], Train Loss: 0.6811, Valid Loss: 0.6791\n",
            "Epoch [5/9], Train Loss: 0.6695, Valid Loss: 0.6672\n",
            "Epoch [6/9], Train Loss: 0.5342, Valid Loss: 0.5566\n",
            "Model saved to ==> /content/drive/MyDrive/TASI/Random Search/ModelImbalance4/model.pt\n",
            "Metrics saved to ==> /content/drive/MyDrive/TASI/Random Search/ModelImbalance4/metrics.pt\n",
            "Epoch [7/9], Train Loss: 0.6639, Valid Loss: 0.6879\n",
            "Epoch [8/9], Train Loss: 0.6559, Valid Loss: 0.6651\n"
          ]
        },
        {
          "output_type": "stream",
          "name": "stderr",
          "text": [
            "[I 2023-06-21 11:50:44,622] Trial 12 pruned. \n"
          ]
        },
        {
          "output_type": "stream",
          "name": "stdout",
          "text": [
            "Epoch [9/9], Train Loss: 0.6794, Valid Loss: 0.6566\n",
            "Early stopping\n",
            "Metrics saved to ==> /content/drive/MyDrive/TASI/Random Search/ModelImbalance4/metrics.pt\n",
            "Finished Training!\n",
            "Validation loss hasn't improved in the last 3 epochs. Stopping early.\n"
          ]
        },
        {
          "output_type": "stream",
          "name": "stderr",
          "text": [
            "Some weights of BertForSequenceClassification were not initialized from the model checkpoint at indobenchmark/indobert-base-p1 and are newly initialized: ['classifier.bias', 'classifier.weight']\n",
            "You should probably TRAIN this model on a down-stream task to be able to use it for predictions and inference.\n"
          ]
        },
        {
          "output_type": "stream",
          "name": "stdout",
          "text": [
            "Epoch [1/5], Train Loss: 0.6842, Valid Loss: 0.6941\n",
            "Model saved to ==> /content/drive/MyDrive/TASI/Random Search/ModelImbalance4/model.pt\n",
            "Metrics saved to ==> /content/drive/MyDrive/TASI/Random Search/ModelImbalance4/metrics.pt\n",
            "Epoch [2/5], Train Loss: 0.5763, Valid Loss: 0.5878\n",
            "Model saved to ==> /content/drive/MyDrive/TASI/Random Search/ModelImbalance4/model.pt\n",
            "Metrics saved to ==> /content/drive/MyDrive/TASI/Random Search/ModelImbalance4/metrics.pt\n",
            "Epoch [3/5], Train Loss: 0.2958, Valid Loss: 0.3012\n",
            "Model saved to ==> /content/drive/MyDrive/TASI/Random Search/ModelImbalance4/model.pt\n",
            "Metrics saved to ==> /content/drive/MyDrive/TASI/Random Search/ModelImbalance4/metrics.pt\n",
            "Epoch [4/5], Train Loss: 0.2215, Valid Loss: 0.2371\n",
            "Model saved to ==> /content/drive/MyDrive/TASI/Random Search/ModelImbalance4/model.pt\n",
            "Metrics saved to ==> /content/drive/MyDrive/TASI/Random Search/ModelImbalance4/metrics.pt\n",
            "Epoch [5/5], Train Loss: 0.1230, Valid Loss: 0.2328\n"
          ]
        },
        {
          "output_type": "stream",
          "name": "stderr",
          "text": [
            "[I 2023-06-21 11:52:26,259] Trial 13 pruned. \n"
          ]
        },
        {
          "output_type": "stream",
          "name": "stdout",
          "text": [
            "Model saved to ==> /content/drive/MyDrive/TASI/Random Search/ModelImbalance4/model.pt\n",
            "Metrics saved to ==> /content/drive/MyDrive/TASI/Random Search/ModelImbalance4/metrics.pt\n",
            "Metrics saved to ==> /content/drive/MyDrive/TASI/Random Search/ModelImbalance4/metrics.pt\n",
            "Finished Training!\n",
            "Validation loss hasn't improved in the last 3 epochs. Stopping early.\n"
          ]
        },
        {
          "output_type": "stream",
          "name": "stderr",
          "text": [
            "Some weights of BertForSequenceClassification were not initialized from the model checkpoint at indobenchmark/indobert-base-p1 and are newly initialized: ['classifier.bias', 'classifier.weight']\n",
            "You should probably TRAIN this model on a down-stream task to be able to use it for predictions and inference.\n"
          ]
        },
        {
          "output_type": "stream",
          "name": "stdout",
          "text": [
            "Epoch [1/5], Train Loss: 0.6562, Valid Loss: 0.6674\n",
            "Model saved to ==> /content/drive/MyDrive/TASI/Random Search/ModelImbalance4/model.pt\n",
            "Metrics saved to ==> /content/drive/MyDrive/TASI/Random Search/ModelImbalance4/metrics.pt\n",
            "Epoch [2/5], Train Loss: 0.5459, Valid Loss: 0.3746\n",
            "Model saved to ==> /content/drive/MyDrive/TASI/Random Search/ModelImbalance4/model.pt\n",
            "Metrics saved to ==> /content/drive/MyDrive/TASI/Random Search/ModelImbalance4/metrics.pt\n",
            "Epoch [3/5], Train Loss: 0.3383, Valid Loss: 0.3340\n",
            "Model saved to ==> /content/drive/MyDrive/TASI/Random Search/ModelImbalance4/model.pt\n",
            "Metrics saved to ==> /content/drive/MyDrive/TASI/Random Search/ModelImbalance4/metrics.pt\n",
            "Epoch [4/5], Train Loss: 0.1916, Valid Loss: 0.7072\n"
          ]
        },
        {
          "output_type": "stream",
          "name": "stderr",
          "text": [
            "[I 2023-06-21 11:54:03,986] Trial 14 pruned. \n"
          ]
        },
        {
          "output_type": "stream",
          "name": "stdout",
          "text": [
            "Epoch [5/5], Train Loss: 0.1343, Valid Loss: 0.3560\n",
            "Metrics saved to ==> /content/drive/MyDrive/TASI/Random Search/ModelImbalance4/metrics.pt\n",
            "Finished Training!\n",
            "Validation loss hasn't improved in the last 3 epochs. Stopping early.\n"
          ]
        },
        {
          "output_type": "stream",
          "name": "stderr",
          "text": [
            "Some weights of BertForSequenceClassification were not initialized from the model checkpoint at indobenchmark/indobert-base-p1 and are newly initialized: ['classifier.bias', 'classifier.weight']\n",
            "You should probably TRAIN this model on a down-stream task to be able to use it for predictions and inference.\n"
          ]
        },
        {
          "output_type": "stream",
          "name": "stdout",
          "text": [
            "Epoch [1/10], Train Loss: 0.6892, Valid Loss: 0.6677\n",
            "Model saved to ==> /content/drive/MyDrive/TASI/Random Search/ModelImbalance4/model.pt\n",
            "Metrics saved to ==> /content/drive/MyDrive/TASI/Random Search/ModelImbalance4/metrics.pt\n",
            "Epoch [2/10], Train Loss: 0.5847, Valid Loss: 0.4295\n",
            "Model saved to ==> /content/drive/MyDrive/TASI/Random Search/ModelImbalance4/model.pt\n",
            "Metrics saved to ==> /content/drive/MyDrive/TASI/Random Search/ModelImbalance4/metrics.pt\n",
            "Epoch [3/10], Train Loss: 0.3039, Valid Loss: 0.2440\n",
            "Model saved to ==> /content/drive/MyDrive/TASI/Random Search/ModelImbalance4/model.pt\n",
            "Metrics saved to ==> /content/drive/MyDrive/TASI/Random Search/ModelImbalance4/metrics.pt\n",
            "Epoch [4/10], Train Loss: 0.2203, Valid Loss: 0.2830\n",
            "Epoch [5/10], Train Loss: 0.1098, Valid Loss: 0.2054\n",
            "Model saved to ==> /content/drive/MyDrive/TASI/Random Search/ModelImbalance4/model.pt\n",
            "Metrics saved to ==> /content/drive/MyDrive/TASI/Random Search/ModelImbalance4/metrics.pt\n",
            "Epoch [6/10], Train Loss: 0.0505, Valid Loss: 0.3111\n",
            "Epoch [7/10], Train Loss: 0.0327, Valid Loss: 0.4982\n"
          ]
        },
        {
          "output_type": "stream",
          "name": "stderr",
          "text": [
            "[I 2023-06-21 11:56:41,464] Trial 15 pruned. \n"
          ]
        },
        {
          "output_type": "stream",
          "name": "stdout",
          "text": [
            "Epoch [8/10], Train Loss: 0.0276, Valid Loss: 0.7989\n",
            "Early stopping\n",
            "Metrics saved to ==> /content/drive/MyDrive/TASI/Random Search/ModelImbalance4/metrics.pt\n",
            "Finished Training!\n",
            "Validation loss hasn't improved in the last 3 epochs. Stopping early.\n"
          ]
        },
        {
          "output_type": "stream",
          "name": "stderr",
          "text": [
            "Some weights of BertForSequenceClassification were not initialized from the model checkpoint at indobenchmark/indobert-base-p1 and are newly initialized: ['classifier.bias', 'classifier.weight']\n",
            "You should probably TRAIN this model on a down-stream task to be able to use it for predictions and inference.\n"
          ]
        },
        {
          "output_type": "stream",
          "name": "stdout",
          "text": [
            "Epoch [1/6], Train Loss: 0.6534, Valid Loss: 0.6827\n",
            "Model saved to ==> /content/drive/MyDrive/TASI/Random Search/ModelImbalance4/model.pt\n",
            "Metrics saved to ==> /content/drive/MyDrive/TASI/Random Search/ModelImbalance4/metrics.pt\n",
            "Epoch [2/6], Train Loss: 0.6866, Valid Loss: 0.6717\n",
            "Model saved to ==> /content/drive/MyDrive/TASI/Random Search/ModelImbalance4/model.pt\n",
            "Metrics saved to ==> /content/drive/MyDrive/TASI/Random Search/ModelImbalance4/metrics.pt\n",
            "Epoch [3/6], Train Loss: 0.5180, Valid Loss: 0.4516\n",
            "Model saved to ==> /content/drive/MyDrive/TASI/Random Search/ModelImbalance4/model.pt\n",
            "Metrics saved to ==> /content/drive/MyDrive/TASI/Random Search/ModelImbalance4/metrics.pt\n",
            "Epoch [4/6], Train Loss: 0.2512, Valid Loss: 0.2698\n",
            "Model saved to ==> /content/drive/MyDrive/TASI/Random Search/ModelImbalance4/model.pt\n",
            "Metrics saved to ==> /content/drive/MyDrive/TASI/Random Search/ModelImbalance4/metrics.pt\n",
            "Epoch [5/6], Train Loss: 0.1901, Valid Loss: 0.2295\n",
            "Model saved to ==> /content/drive/MyDrive/TASI/Random Search/ModelImbalance4/model.pt\n",
            "Metrics saved to ==> /content/drive/MyDrive/TASI/Random Search/ModelImbalance4/metrics.pt\n"
          ]
        },
        {
          "output_type": "stream",
          "name": "stderr",
          "text": [
            "[I 2023-06-21 11:58:40,199] Trial 16 pruned. \n"
          ]
        },
        {
          "output_type": "stream",
          "name": "stdout",
          "text": [
            "Epoch [6/6], Train Loss: 0.0992, Valid Loss: 0.2815\n",
            "Metrics saved to ==> /content/drive/MyDrive/TASI/Random Search/ModelImbalance4/metrics.pt\n",
            "Finished Training!\n",
            "Validation loss hasn't improved in the last 3 epochs. Stopping early.\n"
          ]
        },
        {
          "output_type": "stream",
          "name": "stderr",
          "text": [
            "Some weights of BertForSequenceClassification were not initialized from the model checkpoint at indobenchmark/indobert-base-p1 and are newly initialized: ['classifier.bias', 'classifier.weight']\n",
            "You should probably TRAIN this model on a down-stream task to be able to use it for predictions and inference.\n"
          ]
        },
        {
          "output_type": "stream",
          "name": "stdout",
          "text": [
            "Epoch [1/10], Train Loss: 0.6664, Valid Loss: 0.6456\n",
            "Model saved to ==> /content/drive/MyDrive/TASI/Random Search/ModelImbalance4/model.pt\n",
            "Metrics saved to ==> /content/drive/MyDrive/TASI/Random Search/ModelImbalance4/metrics.pt\n",
            "Epoch [2/10], Train Loss: 0.5480, Valid Loss: 0.3606\n",
            "Model saved to ==> /content/drive/MyDrive/TASI/Random Search/ModelImbalance4/model.pt\n",
            "Metrics saved to ==> /content/drive/MyDrive/TASI/Random Search/ModelImbalance4/metrics.pt\n",
            "Epoch [3/10], Train Loss: 0.2806, Valid Loss: 0.2410\n",
            "Model saved to ==> /content/drive/MyDrive/TASI/Random Search/ModelImbalance4/model.pt\n",
            "Metrics saved to ==> /content/drive/MyDrive/TASI/Random Search/ModelImbalance4/metrics.pt\n",
            "Epoch [4/10], Train Loss: 0.1842, Valid Loss: 0.2764\n",
            "Epoch [5/10], Train Loss: 0.1015, Valid Loss: 0.3013\n",
            "Epoch [6/10], Train Loss: 0.0560, Valid Loss: 0.1672\n",
            "Model saved to ==> /content/drive/MyDrive/TASI/Random Search/ModelImbalance4/model.pt\n",
            "Metrics saved to ==> /content/drive/MyDrive/TASI/Random Search/ModelImbalance4/metrics.pt\n",
            "Epoch [7/10], Train Loss: 0.0244, Valid Loss: 0.2580\n",
            "Epoch [8/10], Train Loss: 0.0061, Valid Loss: 0.2593\n"
          ]
        },
        {
          "output_type": "stream",
          "name": "stderr",
          "text": [
            "[I 2023-06-21 12:01:30,978] Trial 17 pruned. \n"
          ]
        },
        {
          "output_type": "stream",
          "name": "stdout",
          "text": [
            "Epoch [9/10], Train Loss: 0.0118, Valid Loss: 0.2232\n",
            "Early stopping\n",
            "Metrics saved to ==> /content/drive/MyDrive/TASI/Random Search/ModelImbalance4/metrics.pt\n",
            "Finished Training!\n",
            "Validation loss hasn't improved in the last 3 epochs. Stopping early.\n"
          ]
        },
        {
          "output_type": "stream",
          "name": "stderr",
          "text": [
            "Some weights of BertForSequenceClassification were not initialized from the model checkpoint at indobenchmark/indobert-base-p1 and are newly initialized: ['classifier.bias', 'classifier.weight']\n",
            "You should probably TRAIN this model on a down-stream task to be able to use it for predictions and inference.\n"
          ]
        },
        {
          "output_type": "stream",
          "name": "stdout",
          "text": [
            "Epoch [1/8], Train Loss: 0.6513, Valid Loss: 0.6491\n",
            "Model saved to ==> /content/drive/MyDrive/TASI/Random Search/ModelImbalance4/model.pt\n",
            "Metrics saved to ==> /content/drive/MyDrive/TASI/Random Search/ModelImbalance4/metrics.pt\n",
            "Epoch [2/8], Train Loss: 0.5185, Valid Loss: 0.2682\n",
            "Model saved to ==> /content/drive/MyDrive/TASI/Random Search/ModelImbalance4/model.pt\n",
            "Metrics saved to ==> /content/drive/MyDrive/TASI/Random Search/ModelImbalance4/metrics.pt\n",
            "Epoch [3/8], Train Loss: 0.2203, Valid Loss: 0.1984\n",
            "Model saved to ==> /content/drive/MyDrive/TASI/Random Search/ModelImbalance4/model.pt\n",
            "Metrics saved to ==> /content/drive/MyDrive/TASI/Random Search/ModelImbalance4/metrics.pt\n",
            "Epoch [4/8], Train Loss: 0.1291, Valid Loss: 0.2178\n",
            "Epoch [5/8], Train Loss: 0.0748, Valid Loss: 0.3101\n",
            "Epoch [6/8], Train Loss: 0.0717, Valid Loss: 0.1701\n",
            "Model saved to ==> /content/drive/MyDrive/TASI/Random Search/ModelImbalance4/model.pt\n",
            "Metrics saved to ==> /content/drive/MyDrive/TASI/Random Search/ModelImbalance4/metrics.pt\n",
            "Epoch [7/8], Train Loss: 0.0732, Valid Loss: 0.5115\n"
          ]
        },
        {
          "output_type": "stream",
          "name": "stderr",
          "text": [
            "[I 2023-06-21 12:04:04,000] Trial 18 pruned. \n"
          ]
        },
        {
          "output_type": "stream",
          "name": "stdout",
          "text": [
            "Epoch [8/8], Train Loss: 0.0450, Valid Loss: 0.2246\n",
            "Metrics saved to ==> /content/drive/MyDrive/TASI/Random Search/ModelImbalance4/metrics.pt\n",
            "Finished Training!\n",
            "Validation loss hasn't improved in the last 3 epochs. Stopping early.\n"
          ]
        },
        {
          "output_type": "stream",
          "name": "stderr",
          "text": [
            "Some weights of BertForSequenceClassification were not initialized from the model checkpoint at indobenchmark/indobert-base-p1 and are newly initialized: ['classifier.bias', 'classifier.weight']\n",
            "You should probably TRAIN this model on a down-stream task to be able to use it for predictions and inference.\n"
          ]
        },
        {
          "output_type": "stream",
          "name": "stdout",
          "text": [
            "Epoch [1/7], Train Loss: 0.6226, Valid Loss: 0.4696\n",
            "Model saved to ==> /content/drive/MyDrive/TASI/Random Search/ModelImbalance4/model.pt\n",
            "Metrics saved to ==> /content/drive/MyDrive/TASI/Random Search/ModelImbalance4/metrics.pt\n",
            "Epoch [2/7], Train Loss: 0.3487, Valid Loss: 0.1971\n",
            "Model saved to ==> /content/drive/MyDrive/TASI/Random Search/ModelImbalance4/model.pt\n",
            "Metrics saved to ==> /content/drive/MyDrive/TASI/Random Search/ModelImbalance4/metrics.pt\n",
            "Epoch [3/7], Train Loss: 0.2250, Valid Loss: 0.1891\n",
            "Model saved to ==> /content/drive/MyDrive/TASI/Random Search/ModelImbalance4/model.pt\n",
            "Metrics saved to ==> /content/drive/MyDrive/TASI/Random Search/ModelImbalance4/metrics.pt\n",
            "Epoch [4/7], Train Loss: 0.1314, Valid Loss: 0.2029\n",
            "Epoch [5/7], Train Loss: 0.0894, Valid Loss: 0.1944\n"
          ]
        },
        {
          "output_type": "stream",
          "name": "stderr",
          "text": [
            "[I 2023-06-21 12:06:03,368] Trial 19 pruned. \n"
          ]
        },
        {
          "output_type": "stream",
          "name": "stdout",
          "text": [
            "Epoch [6/7], Train Loss: 0.0933, Valid Loss: 0.2572\n",
            "Early stopping\n",
            "Metrics saved to ==> /content/drive/MyDrive/TASI/Random Search/ModelImbalance4/metrics.pt\n",
            "Finished Training!\n",
            "Validation loss hasn't improved in the last 3 epochs. Stopping early.\n"
          ]
        },
        {
          "output_type": "stream",
          "name": "stderr",
          "text": [
            "Some weights of BertForSequenceClassification were not initialized from the model checkpoint at indobenchmark/indobert-base-p1 and are newly initialized: ['classifier.bias', 'classifier.weight']\n",
            "You should probably TRAIN this model on a down-stream task to be able to use it for predictions and inference.\n"
          ]
        },
        {
          "output_type": "stream",
          "name": "stdout",
          "text": [
            "Epoch [1/5], Train Loss: 0.5713, Valid Loss: 0.4007\n",
            "Model saved to ==> /content/drive/MyDrive/TASI/Random Search/ModelImbalance4/model.pt\n",
            "Metrics saved to ==> /content/drive/MyDrive/TASI/Random Search/ModelImbalance4/metrics.pt\n",
            "Epoch [2/5], Train Loss: 0.4708, Valid Loss: 0.3193\n",
            "Model saved to ==> /content/drive/MyDrive/TASI/Random Search/ModelImbalance4/model.pt\n",
            "Metrics saved to ==> /content/drive/MyDrive/TASI/Random Search/ModelImbalance4/metrics.pt\n",
            "Epoch [3/5], Train Loss: 0.2084, Valid Loss: 0.1583\n",
            "Model saved to ==> /content/drive/MyDrive/TASI/Random Search/ModelImbalance4/model.pt\n",
            "Metrics saved to ==> /content/drive/MyDrive/TASI/Random Search/ModelImbalance4/metrics.pt\n",
            "Epoch [4/5], Train Loss: 0.1014, Valid Loss: 0.1511\n",
            "Model saved to ==> /content/drive/MyDrive/TASI/Random Search/ModelImbalance4/model.pt\n",
            "Metrics saved to ==> /content/drive/MyDrive/TASI/Random Search/ModelImbalance4/metrics.pt\n",
            "Epoch [5/5], Train Loss: 0.0715, Valid Loss: 0.1347\n"
          ]
        },
        {
          "output_type": "stream",
          "name": "stderr",
          "text": [
            "[I 2023-06-21 12:07:49,726] Trial 20 pruned. \n"
          ]
        },
        {
          "output_type": "stream",
          "name": "stdout",
          "text": [
            "Model saved to ==> /content/drive/MyDrive/TASI/Random Search/ModelImbalance4/model.pt\n",
            "Metrics saved to ==> /content/drive/MyDrive/TASI/Random Search/ModelImbalance4/metrics.pt\n",
            "Metrics saved to ==> /content/drive/MyDrive/TASI/Random Search/ModelImbalance4/metrics.pt\n",
            "Finished Training!\n",
            "Validation loss hasn't improved in the last 3 epochs. Stopping early.\n"
          ]
        },
        {
          "output_type": "stream",
          "name": "stderr",
          "text": [
            "Some weights of BertForSequenceClassification were not initialized from the model checkpoint at indobenchmark/indobert-base-p1 and are newly initialized: ['classifier.bias', 'classifier.weight']\n",
            "You should probably TRAIN this model on a down-stream task to be able to use it for predictions and inference.\n"
          ]
        },
        {
          "output_type": "stream",
          "name": "stdout",
          "text": [
            "Epoch [1/6], Train Loss: 0.6698, Valid Loss: 0.6968\n",
            "Model saved to ==> /content/drive/MyDrive/TASI/Random Search/ModelImbalance4/model.pt\n",
            "Metrics saved to ==> /content/drive/MyDrive/TASI/Random Search/ModelImbalance4/metrics.pt\n",
            "Epoch [2/6], Train Loss: 0.6984, Valid Loss: 0.6740\n",
            "Model saved to ==> /content/drive/MyDrive/TASI/Random Search/ModelImbalance4/model.pt\n",
            "Metrics saved to ==> /content/drive/MyDrive/TASI/Random Search/ModelImbalance4/metrics.pt\n",
            "Epoch [3/6], Train Loss: 0.7525, Valid Loss: 0.7539\n",
            "Epoch [4/6], Train Loss: 0.6616, Valid Loss: 0.6619\n",
            "Model saved to ==> /content/drive/MyDrive/TASI/Random Search/ModelImbalance4/model.pt\n",
            "Metrics saved to ==> /content/drive/MyDrive/TASI/Random Search/ModelImbalance4/metrics.pt\n",
            "Epoch [5/6], Train Loss: 0.6850, Valid Loss: 0.6776\n"
          ]
        },
        {
          "output_type": "stream",
          "name": "stderr",
          "text": [
            "[I 2023-06-21 12:09:45,346] Trial 21 pruned. \n"
          ]
        },
        {
          "output_type": "stream",
          "name": "stdout",
          "text": [
            "Epoch [6/6], Train Loss: 0.6486, Valid Loss: 0.7107\n",
            "Metrics saved to ==> /content/drive/MyDrive/TASI/Random Search/ModelImbalance4/metrics.pt\n",
            "Finished Training!\n",
            "Validation loss hasn't improved in the last 3 epochs. Stopping early.\n"
          ]
        },
        {
          "output_type": "stream",
          "name": "stderr",
          "text": [
            "Some weights of BertForSequenceClassification were not initialized from the model checkpoint at indobenchmark/indobert-base-p1 and are newly initialized: ['classifier.bias', 'classifier.weight']\n",
            "You should probably TRAIN this model on a down-stream task to be able to use it for predictions and inference.\n"
          ]
        },
        {
          "output_type": "stream",
          "name": "stdout",
          "text": [
            "Epoch [1/7], Train Loss: 0.6685, Valid Loss: 0.6542\n",
            "Model saved to ==> /content/drive/MyDrive/TASI/Random Search/ModelImbalance4/model.pt\n",
            "Metrics saved to ==> /content/drive/MyDrive/TASI/Random Search/ModelImbalance4/metrics.pt\n",
            "Epoch [2/7], Train Loss: 0.6154, Valid Loss: 0.3983\n",
            "Model saved to ==> /content/drive/MyDrive/TASI/Random Search/ModelImbalance4/model.pt\n",
            "Metrics saved to ==> /content/drive/MyDrive/TASI/Random Search/ModelImbalance4/metrics.pt\n",
            "Epoch [3/7], Train Loss: 0.3139, Valid Loss: 0.3778\n",
            "Model saved to ==> /content/drive/MyDrive/TASI/Random Search/ModelImbalance4/model.pt\n",
            "Metrics saved to ==> /content/drive/MyDrive/TASI/Random Search/ModelImbalance4/metrics.pt\n",
            "Epoch [4/7], Train Loss: 0.2057, Valid Loss: 0.3150\n",
            "Model saved to ==> /content/drive/MyDrive/TASI/Random Search/ModelImbalance4/model.pt\n",
            "Metrics saved to ==> /content/drive/MyDrive/TASI/Random Search/ModelImbalance4/metrics.pt\n",
            "Epoch [5/7], Train Loss: 0.1104, Valid Loss: 0.2846\n",
            "Model saved to ==> /content/drive/MyDrive/TASI/Random Search/ModelImbalance4/model.pt\n",
            "Metrics saved to ==> /content/drive/MyDrive/TASI/Random Search/ModelImbalance4/metrics.pt\n",
            "Epoch [6/7], Train Loss: 0.0490, Valid Loss: 0.2301\n",
            "Model saved to ==> /content/drive/MyDrive/TASI/Random Search/ModelImbalance4/model.pt\n",
            "Metrics saved to ==> /content/drive/MyDrive/TASI/Random Search/ModelImbalance4/metrics.pt\n"
          ]
        },
        {
          "output_type": "stream",
          "name": "stderr",
          "text": [
            "[I 2023-06-21 12:12:07,502] Trial 22 pruned. \n"
          ]
        },
        {
          "output_type": "stream",
          "name": "stdout",
          "text": [
            "Epoch [7/7], Train Loss: 0.0533, Valid Loss: 0.2680\n",
            "Metrics saved to ==> /content/drive/MyDrive/TASI/Random Search/ModelImbalance4/metrics.pt\n",
            "Finished Training!\n",
            "Validation loss hasn't improved in the last 3 epochs. Stopping early.\n"
          ]
        },
        {
          "output_type": "stream",
          "name": "stderr",
          "text": [
            "Some weights of BertForSequenceClassification were not initialized from the model checkpoint at indobenchmark/indobert-base-p1 and are newly initialized: ['classifier.bias', 'classifier.weight']\n",
            "You should probably TRAIN this model on a down-stream task to be able to use it for predictions and inference.\n"
          ]
        },
        {
          "output_type": "stream",
          "name": "stdout",
          "text": [
            "Epoch [1/9], Train Loss: 0.6522, Valid Loss: 0.6847\n",
            "Model saved to ==> /content/drive/MyDrive/TASI/Random Search/ModelImbalance4/model.pt\n",
            "Metrics saved to ==> /content/drive/MyDrive/TASI/Random Search/ModelImbalance4/metrics.pt\n",
            "Epoch [2/9], Train Loss: 0.5576, Valid Loss: 0.3418\n",
            "Model saved to ==> /content/drive/MyDrive/TASI/Random Search/ModelImbalance4/model.pt\n",
            "Metrics saved to ==> /content/drive/MyDrive/TASI/Random Search/ModelImbalance4/metrics.pt\n",
            "Epoch [3/9], Train Loss: 0.2639, Valid Loss: 0.2298\n",
            "Model saved to ==> /content/drive/MyDrive/TASI/Random Search/ModelImbalance4/model.pt\n",
            "Metrics saved to ==> /content/drive/MyDrive/TASI/Random Search/ModelImbalance4/metrics.pt\n",
            "Epoch [4/9], Train Loss: 0.1375, Valid Loss: 0.2862\n",
            "Epoch [5/9], Train Loss: 0.0762, Valid Loss: 0.3130\n",
            "Epoch [6/9], Train Loss: 0.0610, Valid Loss: 0.1020\n",
            "Model saved to ==> /content/drive/MyDrive/TASI/Random Search/ModelImbalance4/model.pt\n",
            "Metrics saved to ==> /content/drive/MyDrive/TASI/Random Search/ModelImbalance4/metrics.pt\n",
            "Epoch [7/9], Train Loss: 0.0750, Valid Loss: 0.1658\n",
            "Epoch [8/9], Train Loss: 0.0374, Valid Loss: 0.1531\n",
            "Epoch [9/9], Train Loss: 0.0201, Valid Loss: 0.1317\n",
            "Early stopping\n",
            "Metrics saved to ==> /content/drive/MyDrive/TASI/Random Search/ModelImbalance4/metrics.pt\n",
            "Finished Training!\n"
          ]
        },
        {
          "output_type": "stream",
          "name": "stderr",
          "text": [
            "[I 2023-06-21 12:15:04,872] Trial 23 finished with value: 0.10199162546944406 and parameters: {'lr': 5e-05, 'num_epochs': 9, 'batch_size': 32}. Best is trial 23 with value: 0.10199162546944406.\n",
            "Some weights of BertForSequenceClassification were not initialized from the model checkpoint at indobenchmark/indobert-base-p1 and are newly initialized: ['classifier.bias', 'classifier.weight']\n",
            "You should probably TRAIN this model on a down-stream task to be able to use it for predictions and inference.\n"
          ]
        },
        {
          "output_type": "stream",
          "name": "stdout",
          "text": [
            "Epoch [1/9], Train Loss: 0.6477, Valid Loss: 0.6282\n",
            "Model saved to ==> /content/drive/MyDrive/TASI/Random Search/ModelImbalance4/model.pt\n",
            "Metrics saved to ==> /content/drive/MyDrive/TASI/Random Search/ModelImbalance4/metrics.pt\n",
            "Epoch [2/9], Train Loss: 0.5036, Valid Loss: 0.3751\n",
            "Model saved to ==> /content/drive/MyDrive/TASI/Random Search/ModelImbalance4/model.pt\n",
            "Metrics saved to ==> /content/drive/MyDrive/TASI/Random Search/ModelImbalance4/metrics.pt\n",
            "Epoch [3/9], Train Loss: 0.2324, Valid Loss: 0.2103\n",
            "Model saved to ==> /content/drive/MyDrive/TASI/Random Search/ModelImbalance4/model.pt\n",
            "Metrics saved to ==> /content/drive/MyDrive/TASI/Random Search/ModelImbalance4/metrics.pt\n",
            "Epoch [4/9], Train Loss: 0.1510, Valid Loss: 0.2923\n",
            "Epoch [5/9], Train Loss: 0.0718, Valid Loss: 0.2716\n"
          ]
        },
        {
          "output_type": "stream",
          "name": "stderr",
          "text": [
            "[I 2023-06-21 12:17:00,294] Trial 24 pruned. \n"
          ]
        },
        {
          "output_type": "stream",
          "name": "stdout",
          "text": [
            "Epoch [6/9], Train Loss: 0.0422, Valid Loss: 0.2722\n",
            "Early stopping\n",
            "Metrics saved to ==> /content/drive/MyDrive/TASI/Random Search/ModelImbalance4/metrics.pt\n",
            "Finished Training!\n",
            "Validation loss hasn't improved in the last 3 epochs. Stopping early.\n"
          ]
        },
        {
          "output_type": "stream",
          "name": "stderr",
          "text": [
            "Some weights of BertForSequenceClassification were not initialized from the model checkpoint at indobenchmark/indobert-base-p1 and are newly initialized: ['classifier.bias', 'classifier.weight']\n",
            "You should probably TRAIN this model on a down-stream task to be able to use it for predictions and inference.\n"
          ]
        },
        {
          "output_type": "stream",
          "name": "stdout",
          "text": [
            "Epoch [1/7], Train Loss: 0.6525, Valid Loss: 0.6496\n",
            "Model saved to ==> /content/drive/MyDrive/TASI/Random Search/ModelImbalance4/model.pt\n",
            "Metrics saved to ==> /content/drive/MyDrive/TASI/Random Search/ModelImbalance4/metrics.pt\n",
            "Epoch [2/7], Train Loss: 0.4354, Valid Loss: 0.3358\n",
            "Model saved to ==> /content/drive/MyDrive/TASI/Random Search/ModelImbalance4/model.pt\n",
            "Metrics saved to ==> /content/drive/MyDrive/TASI/Random Search/ModelImbalance4/metrics.pt\n",
            "Epoch [3/7], Train Loss: 0.2096, Valid Loss: 0.1832\n",
            "Model saved to ==> /content/drive/MyDrive/TASI/Random Search/ModelImbalance4/model.pt\n",
            "Metrics saved to ==> /content/drive/MyDrive/TASI/Random Search/ModelImbalance4/metrics.pt\n",
            "Epoch [4/7], Train Loss: 0.1611, Valid Loss: 0.2355\n",
            "Epoch [5/7], Train Loss: 0.0736, Valid Loss: 0.1621\n",
            "Model saved to ==> /content/drive/MyDrive/TASI/Random Search/ModelImbalance4/model.pt\n",
            "Metrics saved to ==> /content/drive/MyDrive/TASI/Random Search/ModelImbalance4/metrics.pt\n",
            "Epoch [6/7], Train Loss: 0.0305, Valid Loss: 0.1440\n",
            "Model saved to ==> /content/drive/MyDrive/TASI/Random Search/ModelImbalance4/model.pt\n",
            "Metrics saved to ==> /content/drive/MyDrive/TASI/Random Search/ModelImbalance4/metrics.pt\n"
          ]
        },
        {
          "output_type": "stream",
          "name": "stderr",
          "text": [
            "[I 2023-06-21 12:19:18,128] Trial 25 pruned. \n"
          ]
        },
        {
          "output_type": "stream",
          "name": "stdout",
          "text": [
            "Epoch [7/7], Train Loss: 0.0110, Valid Loss: 0.1814\n",
            "Metrics saved to ==> /content/drive/MyDrive/TASI/Random Search/ModelImbalance4/metrics.pt\n",
            "Finished Training!\n",
            "Validation loss hasn't improved in the last 3 epochs. Stopping early.\n"
          ]
        },
        {
          "output_type": "stream",
          "name": "stderr",
          "text": [
            "Some weights of BertForSequenceClassification were not initialized from the model checkpoint at indobenchmark/indobert-base-p1 and are newly initialized: ['classifier.bias', 'classifier.weight']\n",
            "You should probably TRAIN this model on a down-stream task to be able to use it for predictions and inference.\n"
          ]
        },
        {
          "output_type": "stream",
          "name": "stdout",
          "text": [
            "Epoch [1/9], Train Loss: 0.6342, Valid Loss: 0.6288\n",
            "Model saved to ==> /content/drive/MyDrive/TASI/Random Search/ModelImbalance4/model.pt\n",
            "Metrics saved to ==> /content/drive/MyDrive/TASI/Random Search/ModelImbalance4/metrics.pt\n",
            "Epoch [2/9], Train Loss: 0.4348, Valid Loss: 0.2450\n",
            "Model saved to ==> /content/drive/MyDrive/TASI/Random Search/ModelImbalance4/model.pt\n",
            "Metrics saved to ==> /content/drive/MyDrive/TASI/Random Search/ModelImbalance4/metrics.pt\n",
            "Epoch [3/9], Train Loss: 0.1787, Valid Loss: 0.3064\n",
            "Epoch [4/9], Train Loss: 0.0995, Valid Loss: 0.5140\n",
            "Epoch [5/9], Train Loss: 0.0810, Valid Loss: 0.2424\n",
            "Model saved to ==> /content/drive/MyDrive/TASI/Random Search/ModelImbalance4/model.pt\n",
            "Metrics saved to ==> /content/drive/MyDrive/TASI/Random Search/ModelImbalance4/metrics.pt\n",
            "Epoch [6/9], Train Loss: 0.0552, Valid Loss: 0.1293\n",
            "Model saved to ==> /content/drive/MyDrive/TASI/Random Search/ModelImbalance4/model.pt\n",
            "Metrics saved to ==> /content/drive/MyDrive/TASI/Random Search/ModelImbalance4/metrics.pt\n",
            "Epoch [7/9], Train Loss: 0.0466, Valid Loss: 0.1626\n",
            "Epoch [8/9], Train Loss: 0.0032, Valid Loss: 0.1478\n"
          ]
        },
        {
          "output_type": "stream",
          "name": "stderr",
          "text": [
            "[I 2023-06-21 12:22:09,544] Trial 26 pruned. \n"
          ]
        },
        {
          "output_type": "stream",
          "name": "stdout",
          "text": [
            "Epoch [9/9], Train Loss: 0.0689, Valid Loss: 0.1632\n",
            "Early stopping\n",
            "Metrics saved to ==> /content/drive/MyDrive/TASI/Random Search/ModelImbalance4/metrics.pt\n",
            "Finished Training!\n",
            "Validation loss hasn't improved in the last 3 epochs. Stopping early.\n"
          ]
        },
        {
          "output_type": "stream",
          "name": "stderr",
          "text": [
            "Some weights of BertForSequenceClassification were not initialized from the model checkpoint at indobenchmark/indobert-base-p1 and are newly initialized: ['classifier.bias', 'classifier.weight']\n",
            "You should probably TRAIN this model on a down-stream task to be able to use it for predictions and inference.\n"
          ]
        },
        {
          "output_type": "stream",
          "name": "stdout",
          "text": [
            "Epoch [1/8], Train Loss: 0.6730, Valid Loss: 0.6642\n",
            "Model saved to ==> /content/drive/MyDrive/TASI/Random Search/ModelImbalance4/model.pt\n",
            "Metrics saved to ==> /content/drive/MyDrive/TASI/Random Search/ModelImbalance4/metrics.pt\n",
            "Epoch [2/8], Train Loss: 0.6719, Valid Loss: 0.6085\n",
            "Model saved to ==> /content/drive/MyDrive/TASI/Random Search/ModelImbalance4/model.pt\n",
            "Metrics saved to ==> /content/drive/MyDrive/TASI/Random Search/ModelImbalance4/metrics.pt\n",
            "Epoch [3/8], Train Loss: 0.6476, Valid Loss: 0.6621\n",
            "Epoch [4/8], Train Loss: 0.6482, Valid Loss: 0.7438\n"
          ]
        },
        {
          "output_type": "stream",
          "name": "stderr",
          "text": [
            "[I 2023-06-21 12:23:44,731] Trial 27 pruned. \n"
          ]
        },
        {
          "output_type": "stream",
          "name": "stdout",
          "text": [
            "Epoch [5/8], Train Loss: 0.7008, Valid Loss: 0.6649\n",
            "Early stopping\n",
            "Metrics saved to ==> /content/drive/MyDrive/TASI/Random Search/ModelImbalance4/metrics.pt\n",
            "Finished Training!\n",
            "Validation loss hasn't improved in the last 3 epochs. Stopping early.\n"
          ]
        },
        {
          "output_type": "stream",
          "name": "stderr",
          "text": [
            "Some weights of BertForSequenceClassification were not initialized from the model checkpoint at indobenchmark/indobert-base-p1 and are newly initialized: ['classifier.bias', 'classifier.weight']\n",
            "You should probably TRAIN this model on a down-stream task to be able to use it for predictions and inference.\n"
          ]
        },
        {
          "output_type": "stream",
          "name": "stdout",
          "text": [
            "Epoch [1/5], Train Loss: 0.6523, Valid Loss: 0.6804\n",
            "Model saved to ==> /content/drive/MyDrive/TASI/Random Search/ModelImbalance4/model.pt\n",
            "Metrics saved to ==> /content/drive/MyDrive/TASI/Random Search/ModelImbalance4/metrics.pt\n",
            "Epoch [2/5], Train Loss: 0.6433, Valid Loss: 0.4266\n",
            "Model saved to ==> /content/drive/MyDrive/TASI/Random Search/ModelImbalance4/model.pt\n",
            "Metrics saved to ==> /content/drive/MyDrive/TASI/Random Search/ModelImbalance4/metrics.pt\n",
            "Epoch [3/5], Train Loss: 0.3279, Valid Loss: 0.2461\n",
            "Model saved to ==> /content/drive/MyDrive/TASI/Random Search/ModelImbalance4/model.pt\n",
            "Metrics saved to ==> /content/drive/MyDrive/TASI/Random Search/ModelImbalance4/metrics.pt\n",
            "Epoch [4/5], Train Loss: 0.2718, Valid Loss: 0.2673\n",
            "Epoch [5/5], Train Loss: 0.0933, Valid Loss: 0.2326\n"
          ]
        },
        {
          "output_type": "stream",
          "name": "stderr",
          "text": [
            "[I 2023-06-21 12:25:25,673] Trial 28 pruned. \n"
          ]
        },
        {
          "output_type": "stream",
          "name": "stdout",
          "text": [
            "Model saved to ==> /content/drive/MyDrive/TASI/Random Search/ModelImbalance4/model.pt\n",
            "Metrics saved to ==> /content/drive/MyDrive/TASI/Random Search/ModelImbalance4/metrics.pt\n",
            "Metrics saved to ==> /content/drive/MyDrive/TASI/Random Search/ModelImbalance4/metrics.pt\n",
            "Finished Training!\n",
            "Validation loss hasn't improved in the last 3 epochs. Stopping early.\n"
          ]
        },
        {
          "output_type": "stream",
          "name": "stderr",
          "text": [
            "Some weights of BertForSequenceClassification were not initialized from the model checkpoint at indobenchmark/indobert-base-p1 and are newly initialized: ['classifier.bias', 'classifier.weight']\n",
            "You should probably TRAIN this model on a down-stream task to be able to use it for predictions and inference.\n"
          ]
        },
        {
          "output_type": "stream",
          "name": "stdout",
          "text": [
            "Epoch [1/8], Train Loss: 0.6243, Valid Loss: 0.6254\n",
            "Model saved to ==> /content/drive/MyDrive/TASI/Random Search/ModelImbalance4/model.pt\n",
            "Metrics saved to ==> /content/drive/MyDrive/TASI/Random Search/ModelImbalance4/metrics.pt\n",
            "Epoch [2/8], Train Loss: 0.5023, Valid Loss: 0.6246\n",
            "Model saved to ==> /content/drive/MyDrive/TASI/Random Search/ModelImbalance4/model.pt\n",
            "Metrics saved to ==> /content/drive/MyDrive/TASI/Random Search/ModelImbalance4/metrics.pt\n",
            "Epoch [3/8], Train Loss: 0.2177, Valid Loss: 0.3270\n",
            "Model saved to ==> /content/drive/MyDrive/TASI/Random Search/ModelImbalance4/model.pt\n",
            "Metrics saved to ==> /content/drive/MyDrive/TASI/Random Search/ModelImbalance4/metrics.pt\n",
            "Epoch [4/8], Train Loss: 0.1484, Valid Loss: 0.3655\n",
            "Epoch [5/8], Train Loss: 0.0967, Valid Loss: 0.2578\n",
            "Model saved to ==> /content/drive/MyDrive/TASI/Random Search/ModelImbalance4/model.pt\n",
            "Metrics saved to ==> /content/drive/MyDrive/TASI/Random Search/ModelImbalance4/metrics.pt\n",
            "Epoch [6/8], Train Loss: 0.0617, Valid Loss: 0.3177\n",
            "Epoch [7/8], Train Loss: 0.0295, Valid Loss: 0.2213\n",
            "Model saved to ==> /content/drive/MyDrive/TASI/Random Search/ModelImbalance4/model.pt\n",
            "Metrics saved to ==> /content/drive/MyDrive/TASI/Random Search/ModelImbalance4/metrics.pt\n"
          ]
        },
        {
          "output_type": "stream",
          "name": "stderr",
          "text": [
            "[I 2023-06-21 12:28:00,462] Trial 29 pruned. \n"
          ]
        },
        {
          "output_type": "stream",
          "name": "stdout",
          "text": [
            "Epoch [8/8], Train Loss: 0.0196, Valid Loss: 0.2816\n",
            "Metrics saved to ==> /content/drive/MyDrive/TASI/Random Search/ModelImbalance4/metrics.pt\n",
            "Finished Training!\n",
            "Validation loss hasn't improved in the last 3 epochs. Stopping early.\n"
          ]
        },
        {
          "output_type": "stream",
          "name": "stderr",
          "text": [
            "Some weights of BertForSequenceClassification were not initialized from the model checkpoint at indobenchmark/indobert-base-p1 and are newly initialized: ['classifier.bias', 'classifier.weight']\n",
            "You should probably TRAIN this model on a down-stream task to be able to use it for predictions and inference.\n"
          ]
        },
        {
          "output_type": "stream",
          "name": "stdout",
          "text": [
            "Epoch [1/9], Train Loss: 0.6253, Valid Loss: 0.4694\n",
            "Model saved to ==> /content/drive/MyDrive/TASI/Random Search/ModelImbalance4/model.pt\n",
            "Metrics saved to ==> /content/drive/MyDrive/TASI/Random Search/ModelImbalance4/metrics.pt\n",
            "Epoch [2/9], Train Loss: 0.2734, Valid Loss: 0.2352\n",
            "Model saved to ==> /content/drive/MyDrive/TASI/Random Search/ModelImbalance4/model.pt\n",
            "Metrics saved to ==> /content/drive/MyDrive/TASI/Random Search/ModelImbalance4/metrics.pt\n",
            "Epoch [3/9], Train Loss: 0.1952, Valid Loss: 0.1853\n",
            "Model saved to ==> /content/drive/MyDrive/TASI/Random Search/ModelImbalance4/model.pt\n",
            "Metrics saved to ==> /content/drive/MyDrive/TASI/Random Search/ModelImbalance4/metrics.pt\n",
            "Epoch [4/9], Train Loss: 0.0967, Valid Loss: 0.1647\n",
            "Model saved to ==> /content/drive/MyDrive/TASI/Random Search/ModelImbalance4/model.pt\n",
            "Metrics saved to ==> /content/drive/MyDrive/TASI/Random Search/ModelImbalance4/metrics.pt\n",
            "Epoch [5/9], Train Loss: 0.0773, Valid Loss: 0.1016\n",
            "Model saved to ==> /content/drive/MyDrive/TASI/Random Search/ModelImbalance4/model.pt\n",
            "Metrics saved to ==> /content/drive/MyDrive/TASI/Random Search/ModelImbalance4/metrics.pt\n",
            "Epoch [6/9], Train Loss: 0.0660, Valid Loss: 0.1522\n",
            "Epoch [7/9], Train Loss: 0.0187, Valid Loss: 0.1911\n",
            "Epoch [8/9], Train Loss: 0.0195, Valid Loss: 0.3838\n",
            "Early stopping\n",
            "Metrics saved to ==> /content/drive/MyDrive/TASI/Random Search/ModelImbalance4/metrics.pt\n",
            "Finished Training!\n"
          ]
        },
        {
          "output_type": "stream",
          "name": "stderr",
          "text": [
            "[I 2023-06-21 12:30:37,540] Trial 30 finished with value: 0.10157103929668665 and parameters: {'lr': 5e-05, 'num_epochs': 9, 'batch_size': 32}. Best is trial 30 with value: 0.10157103929668665.\n",
            "Some weights of BertForSequenceClassification were not initialized from the model checkpoint at indobenchmark/indobert-base-p1 and are newly initialized: ['classifier.bias', 'classifier.weight']\n",
            "You should probably TRAIN this model on a down-stream task to be able to use it for predictions and inference.\n"
          ]
        },
        {
          "output_type": "stream",
          "name": "stdout",
          "text": [
            "Epoch [1/7], Train Loss: 0.6620, Valid Loss: 0.6841\n",
            "Model saved to ==> /content/drive/MyDrive/TASI/Random Search/ModelImbalance4/model.pt\n",
            "Metrics saved to ==> /content/drive/MyDrive/TASI/Random Search/ModelImbalance4/metrics.pt\n",
            "Epoch [2/7], Train Loss: 0.6883, Valid Loss: 0.7359\n",
            "Epoch [3/7], Train Loss: 0.6846, Valid Loss: 0.7087\n"
          ]
        },
        {
          "output_type": "stream",
          "name": "stderr",
          "text": [
            "[I 2023-06-21 12:31:52,534] Trial 31 pruned. \n"
          ]
        },
        {
          "output_type": "stream",
          "name": "stdout",
          "text": [
            "Epoch [4/7], Train Loss: 0.6993, Valid Loss: 0.7085\n",
            "Early stopping\n",
            "Metrics saved to ==> /content/drive/MyDrive/TASI/Random Search/ModelImbalance4/metrics.pt\n",
            "Finished Training!\n",
            "Validation loss hasn't improved in the last 3 epochs. Stopping early.\n"
          ]
        },
        {
          "output_type": "stream",
          "name": "stderr",
          "text": [
            "Some weights of BertForSequenceClassification were not initialized from the model checkpoint at indobenchmark/indobert-base-p1 and are newly initialized: ['classifier.bias', 'classifier.weight']\n",
            "You should probably TRAIN this model on a down-stream task to be able to use it for predictions and inference.\n"
          ]
        },
        {
          "output_type": "stream",
          "name": "stdout",
          "text": [
            "Epoch [1/5], Train Loss: 0.6808, Valid Loss: 0.6289\n",
            "Model saved to ==> /content/drive/MyDrive/TASI/Random Search/ModelImbalance4/model.pt\n",
            "Metrics saved to ==> /content/drive/MyDrive/TASI/Random Search/ModelImbalance4/metrics.pt\n",
            "Epoch [2/5], Train Loss: 0.6803, Valid Loss: 0.6537\n",
            "Epoch [3/5], Train Loss: 0.4417, Valid Loss: 0.3807\n",
            "Model saved to ==> /content/drive/MyDrive/TASI/Random Search/ModelImbalance4/model.pt\n",
            "Metrics saved to ==> /content/drive/MyDrive/TASI/Random Search/ModelImbalance4/metrics.pt\n",
            "Epoch [4/5], Train Loss: 0.2168, Valid Loss: 0.2252\n",
            "Model saved to ==> /content/drive/MyDrive/TASI/Random Search/ModelImbalance4/model.pt\n",
            "Metrics saved to ==> /content/drive/MyDrive/TASI/Random Search/ModelImbalance4/metrics.pt\n"
          ]
        },
        {
          "output_type": "stream",
          "name": "stderr",
          "text": [
            "[I 2023-06-21 12:33:30,027] Trial 32 pruned. \n"
          ]
        },
        {
          "output_type": "stream",
          "name": "stdout",
          "text": [
            "Epoch [5/5], Train Loss: 0.1074, Valid Loss: 0.2680\n",
            "Metrics saved to ==> /content/drive/MyDrive/TASI/Random Search/ModelImbalance4/metrics.pt\n",
            "Finished Training!\n",
            "Validation loss hasn't improved in the last 3 epochs. Stopping early.\n"
          ]
        },
        {
          "output_type": "stream",
          "name": "stderr",
          "text": [
            "Some weights of BertForSequenceClassification were not initialized from the model checkpoint at indobenchmark/indobert-base-p1 and are newly initialized: ['classifier.bias', 'classifier.weight']\n",
            "You should probably TRAIN this model on a down-stream task to be able to use it for predictions and inference.\n"
          ]
        },
        {
          "output_type": "stream",
          "name": "stdout",
          "text": [
            "Epoch [1/9], Train Loss: 0.6821, Valid Loss: 0.6910\n",
            "Model saved to ==> /content/drive/MyDrive/TASI/Random Search/ModelImbalance4/model.pt\n",
            "Metrics saved to ==> /content/drive/MyDrive/TASI/Random Search/ModelImbalance4/metrics.pt\n",
            "Epoch [2/9], Train Loss: 0.6096, Valid Loss: 0.4556\n",
            "Model saved to ==> /content/drive/MyDrive/TASI/Random Search/ModelImbalance4/model.pt\n",
            "Metrics saved to ==> /content/drive/MyDrive/TASI/Random Search/ModelImbalance4/metrics.pt\n",
            "Epoch [3/9], Train Loss: 0.2521, Valid Loss: 0.1980\n",
            "Model saved to ==> /content/drive/MyDrive/TASI/Random Search/ModelImbalance4/model.pt\n",
            "Metrics saved to ==> /content/drive/MyDrive/TASI/Random Search/ModelImbalance4/metrics.pt\n",
            "Epoch [4/9], Train Loss: 0.1960, Valid Loss: 0.2232\n",
            "Epoch [5/9], Train Loss: 0.1142, Valid Loss: 0.2358\n"
          ]
        },
        {
          "output_type": "stream",
          "name": "stderr",
          "text": [
            "[I 2023-06-21 12:35:24,851] Trial 33 pruned. \n"
          ]
        },
        {
          "output_type": "stream",
          "name": "stdout",
          "text": [
            "Epoch [6/9], Train Loss: 0.0624, Valid Loss: 0.3661\n",
            "Early stopping\n",
            "Metrics saved to ==> /content/drive/MyDrive/TASI/Random Search/ModelImbalance4/metrics.pt\n",
            "Finished Training!\n",
            "Validation loss hasn't improved in the last 3 epochs. Stopping early.\n"
          ]
        },
        {
          "output_type": "stream",
          "name": "stderr",
          "text": [
            "Some weights of BertForSequenceClassification were not initialized from the model checkpoint at indobenchmark/indobert-base-p1 and are newly initialized: ['classifier.bias', 'classifier.weight']\n",
            "You should probably TRAIN this model on a down-stream task to be able to use it for predictions and inference.\n"
          ]
        },
        {
          "output_type": "stream",
          "name": "stdout",
          "text": [
            "Epoch [1/6], Train Loss: 0.6449, Valid Loss: 0.7461\n",
            "Model saved to ==> /content/drive/MyDrive/TASI/Random Search/ModelImbalance4/model.pt\n",
            "Metrics saved to ==> /content/drive/MyDrive/TASI/Random Search/ModelImbalance4/metrics.pt\n",
            "Epoch [2/6], Train Loss: 0.3898, Valid Loss: 0.3209\n",
            "Model saved to ==> /content/drive/MyDrive/TASI/Random Search/ModelImbalance4/model.pt\n",
            "Metrics saved to ==> /content/drive/MyDrive/TASI/Random Search/ModelImbalance4/metrics.pt\n",
            "Epoch [3/6], Train Loss: 0.2944, Valid Loss: 0.2360\n",
            "Model saved to ==> /content/drive/MyDrive/TASI/Random Search/ModelImbalance4/model.pt\n",
            "Metrics saved to ==> /content/drive/MyDrive/TASI/Random Search/ModelImbalance4/metrics.pt\n",
            "Epoch [4/6], Train Loss: 0.1712, Valid Loss: 0.2040\n",
            "Model saved to ==> /content/drive/MyDrive/TASI/Random Search/ModelImbalance4/model.pt\n",
            "Metrics saved to ==> /content/drive/MyDrive/TASI/Random Search/ModelImbalance4/metrics.pt\n",
            "Epoch [5/6], Train Loss: 0.0869, Valid Loss: 0.1752\n",
            "Model saved to ==> /content/drive/MyDrive/TASI/Random Search/ModelImbalance4/model.pt\n"
          ]
        },
        {
          "output_type": "stream",
          "name": "stderr",
          "text": [
            "[I 2023-06-21 12:37:28,086] Trial 34 pruned. \n"
          ]
        },
        {
          "output_type": "stream",
          "name": "stdout",
          "text": [
            "Metrics saved to ==> /content/drive/MyDrive/TASI/Random Search/ModelImbalance4/metrics.pt\n",
            "Epoch [6/6], Train Loss: 0.0417, Valid Loss: 0.1792\n",
            "Metrics saved to ==> /content/drive/MyDrive/TASI/Random Search/ModelImbalance4/metrics.pt\n",
            "Finished Training!\n",
            "Validation loss hasn't improved in the last 3 epochs. Stopping early.\n"
          ]
        },
        {
          "output_type": "stream",
          "name": "stderr",
          "text": [
            "Some weights of BertForSequenceClassification were not initialized from the model checkpoint at indobenchmark/indobert-base-p1 and are newly initialized: ['classifier.bias', 'classifier.weight']\n",
            "You should probably TRAIN this model on a down-stream task to be able to use it for predictions and inference.\n"
          ]
        },
        {
          "output_type": "stream",
          "name": "stdout",
          "text": [
            "Epoch [1/7], Train Loss: 0.6291, Valid Loss: 0.6393\n",
            "Model saved to ==> /content/drive/MyDrive/TASI/Random Search/ModelImbalance4/model.pt\n",
            "Metrics saved to ==> /content/drive/MyDrive/TASI/Random Search/ModelImbalance4/metrics.pt\n",
            "Epoch [2/7], Train Loss: 0.4683, Valid Loss: 0.3360\n",
            "Model saved to ==> /content/drive/MyDrive/TASI/Random Search/ModelImbalance4/model.pt\n",
            "Metrics saved to ==> /content/drive/MyDrive/TASI/Random Search/ModelImbalance4/metrics.pt\n",
            "Epoch [3/7], Train Loss: 0.1805, Valid Loss: 0.2118\n",
            "Model saved to ==> /content/drive/MyDrive/TASI/Random Search/ModelImbalance4/model.pt\n",
            "Metrics saved to ==> /content/drive/MyDrive/TASI/Random Search/ModelImbalance4/metrics.pt\n",
            "Epoch [4/7], Train Loss: 0.1044, Valid Loss: 0.2301\n",
            "Epoch [5/7], Train Loss: 0.0547, Valid Loss: 0.3165\n"
          ]
        },
        {
          "output_type": "stream",
          "name": "stderr",
          "text": [
            "[I 2023-06-21 12:39:27,494] Trial 35 pruned. \n"
          ]
        },
        {
          "output_type": "stream",
          "name": "stdout",
          "text": [
            "Epoch [6/7], Train Loss: 0.0226, Valid Loss: 0.2261\n",
            "Early stopping\n",
            "Metrics saved to ==> /content/drive/MyDrive/TASI/Random Search/ModelImbalance4/metrics.pt\n",
            "Finished Training!\n",
            "Validation loss hasn't improved in the last 3 epochs. Stopping early.\n",
            "Best model: lr=5e-05, num_epochs=9, batch_size=32\n",
            "Best valid loss: 0.10157103929668665\n"
          ]
        }
      ],
      "source": [
        "import optuna\n",
        "\n",
        "# Define an objective function to optimize hyperparameters\n",
        "def objective(trial):\n",
        "    # Sample hyperparameters\n",
        "    lr = trial.suggest_categorical('lr', [2e-5, 3e-5, 5e-5])\n",
        "    num_epochs = trial.suggest_categorical('num_epochs', [5, 6, 7, 8, 9, 10])\n",
        "    batch_size = trial.suggest_categorical('batch_size', [16, 32])\n",
        "\n",
        "    # Define model, optimizer, and criterion\n",
        "    model = BERT().to(device)\n",
        "    optimizer = optim.Adam(model.parameters(), lr=lr)\n",
        "    criterion = nn.BCELoss()\n",
        "\n",
        "    # Train model\n",
        "    train_loss_list, valid_loss_list, epoch_list, best_valid_loss = train(model=model,\n",
        "                                                                                  optimizer=optimizer,\n",
        "                                                                                  criterion=criterion,\n",
        "                                                                                  train_loader=train_iter,\n",
        "                                                                                  valid_loader=valid_iter,\n",
        "                                                                                  num_epochs=num_epochs,\n",
        "                                                                                  eval_every=1,\n",
        "                                                                                  file_path=destination_folder)\n",
        "\n",
        "    # Save results\n",
        "    key = f'lr={lr}, num_epochs={num_epochs}, batch_size={batch_size}'\n",
        "    results[key] = {\n",
        "        'train_loss': train_loss_list[-1],\n",
        "        'valid_loss': valid_loss_list,\n",
        "        'epoch_list': epoch_list,\n",
        "        'best_valid_loss': best_valid_loss,\n",
        "        'lr': lr,\n",
        "        'num_epochs': num_epochs,\n",
        "        'batch_size': batch_size,\n",
        "    }\n",
        "\n",
        "    # Save model if best\n",
        "    if best_valid_loss < results.get('best_valid_loss', float('inf')):\n",
        "        results['best_valid_loss'] = best_valid_loss\n",
        "        results['best_model'] = key\n",
        "        torch.save(model.state_dict(), f'{destination_folder}/model_{key}.pt')\n",
        "\n",
        "    # Implement early stopping\n",
        "    if len(valid_loss_list) >= 3:\n",
        "        if best_valid_loss > results['best_valid_loss']:\n",
        "            print(\"Validation loss hasn't improved in the last 3 epochs. Stopping early.\")\n",
        "            raise optuna.TrialPruned()\n",
        "\n",
        "    return best_valid_loss\n",
        "\n",
        "# Set up Optuna study with RandomSampler\n",
        "sampler = optuna.samplers.RandomSampler()\n",
        "study = optuna.create_study(direction='minimize', sampler=sampler)\n",
        "\n",
        "# Run optimization\n",
        "results = {}\n",
        "study.optimize(objective, n_trials=36)\n",
        "\n",
        "# Print best model and hyperparameters\n",
        "best_model = results['best_model']\n",
        "best_hyperparams = results[best_model]\n",
        "print('Best model:', best_model)\n",
        "print('Best valid loss:', best_hyperparams['best_valid_loss'])"
      ]
    },
    {
      "cell_type": "code",
      "execution_count": 21,
      "metadata": {
        "id": "iyknvLHm-0Iv",
        "colab": {
          "base_uri": "https://localhost:8080/",
          "height": 466
        },
        "outputId": "682184bf-fd93-4caa-9bd0-bc6ba6ffc568"
      },
      "outputs": [
        {
          "output_type": "stream",
          "name": "stdout",
          "text": [
            "Metrics loaded from <== /content/drive/MyDrive/TASI/Random Search/ModelImbalance4/metrics.pt\n"
          ]
        },
        {
          "output_type": "display_data",
          "data": {
            "text/plain": [
              "<Figure size 640x480 with 1 Axes>"
            ],
            "image/png": "[encoded data removed]"
          },
          "metadata": {}
        }
      ],
      "source": [
        "train_loss_list, valid_loss_list, epoch_list = load_metrics(destination_folder + '/metrics.pt')\n",
        "plt.plot(epoch_list, train_loss_list, label='Train')\n",
        "plt.plot(epoch_list, valid_loss_list, label='Valid')\n",
        "plt.xlabel('Epochs')\n",
        "plt.ylabel('Loss')\n",
        "plt.legend()\n",
        "plt.show()"
      ]
    },
    {
      "cell_type": "code",
      "execution_count": 22,
      "metadata": {
        "id": "HEjtkI8OMTE6",
        "colab": {
          "base_uri": "https://localhost:8080/",
          "height": 614
        },
        "outputId": "fd226332-662d-4f58-b2f8-27e3349b4a61"
      },
      "outputs": [
        {
          "output_type": "stream",
          "name": "stderr",
          "text": [
            "Some weights of BertForSequenceClassification were not initialized from the model checkpoint at indobenchmark/indobert-base-p1 and are newly initialized: ['classifier.bias', 'classifier.weight']\n",
            "You should probably TRAIN this model on a down-stream task to be able to use it for predictions and inference.\n"
          ]
        },
        {
          "output_type": "stream",
          "name": "stdout",
          "text": [
            "Model loaded from <== /content/drive/MyDrive/TASI/Random Search/ModelImbalance4/model.pt\n",
            "Classification Report:\n",
            "Real - Precision: 0.9541, Recall: 0.9204, F1-Score: 0.9369\n",
            "Fake - Precision: 0.8462, Recall: 0.9083, F1-Score: 0.8761\n",
            "Accuracy: 0.9164179104477612\n"
          ]
        },
        {
          "output_type": "display_data",
          "data": {
            "text/plain": [
              "<Figure size 640x480 with 2 Axes>"
            ],
            "image/png": "[encoded data removed]"
          },
          "metadata": {}
        }
      ],
      "source": [
        "from sklearn.metrics import classification_report, accuracy_score, confusion_matrix\n",
        "import numpy as np\n",
        "import seaborn as sns\n",
        "import matplotlib.pyplot as plt\n",
        "\n",
        "def evaluate(model, test_loader):\n",
        "    y_pred = []\n",
        "    y_true = []\n",
        "\n",
        "    model.eval()\n",
        "    with torch.no_grad():\n",
        "        for (labels, title, text), _ in test_loader:\n",
        "            labels = labels.type(torch.LongTensor)\n",
        "            labels = labels.to(device)\n",
        "            text = text.type(torch.LongTensor)\n",
        "            text = text.to(device)\n",
        "            output = model(text, labels)\n",
        "\n",
        "            _, output = output\n",
        "            y_pred.extend(torch.argmax(output, 1).tolist())\n",
        "            y_true.extend(labels.tolist())\n",
        "\n",
        "    # Mengganti label 1 menjadi \"fake\" dan label 0 menjadi \"real\"\n",
        "    y_true = np.where(np.array(y_true) == 0, \"real\", \"fake\")\n",
        "    y_pred = np.where(np.array(y_pred) == 0, \"real\", \"fake\")\n",
        "\n",
        "    # Menghitung dan mencetak hasil precision, recall, f1-score, dan accuracy\n",
        "    report = classification_report(y_true, y_pred, labels=[\"real\", \"fake\"], digits=4, output_dict=True)\n",
        "    print('Classification Report:')\n",
        "    for label, scores in report.items():\n",
        "        if label in [\"real\", \"fake\"]:\n",
        "            precision = scores['precision']\n",
        "            recall = scores['recall']\n",
        "            f1_score = scores['f1-score']\n",
        "            print(f\"{label.capitalize()} - Precision: {precision:.4f}, Recall: {recall:.4f}, F1-Score: {f1_score:.4f}\")\n",
        "    accuracy = accuracy_score(y_true, y_pred)\n",
        "    print(f'Accuracy: {accuracy}')\n",
        "\n",
        "    # Menghitung dan mencetak confusion matrix\n",
        "    cm = confusion_matrix(y_true, y_pred, labels=[\"real\", \"fake\"])\n",
        "    ax = plt.subplot()\n",
        "    sns.heatmap(cm, annot=True, ax=ax, cmap='Blues', fmt=\"d\")\n",
        "    ax.set_title('Confusion Matrix')\n",
        "    ax.set_xlabel('Predicted Labels')\n",
        "    ax.set_ylabel('True Labels')\n",
        "    ax.xaxis.set_ticklabels(['Real', 'Fake'])\n",
        "    ax.yaxis.set_ticklabels(['Real', 'Fake'])\n",
        "    plt.show()\n",
        "\n",
        "best_model = BERT().to(device)\n",
        "\n",
        "load_checkpoint(destination_folder + '/model.pt', best_model)\n",
        "\n",
        "evaluate(best_model, test_iter)"
      ]
    },
    {
      "cell_type": "code",
      "source": [],
      "metadata": {
        "id": "XWrnHdKFe3Kj"
      },
      "execution_count": 20,
      "outputs": []
    }
  ],
  "metadata": {
    "accelerator": "GPU",
    "colab": {
      "provenance": []
    },
    "gpuClass": "standard",
    "kernelspec": {
      "display_name": "Python 3",
      "name": "python3"
    }
  },
  "nbformat": 4,
  "nbformat_minor": 0
}
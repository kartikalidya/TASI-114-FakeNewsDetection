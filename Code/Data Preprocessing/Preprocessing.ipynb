{
 "cells": [
  {
   "attachments": {},
   "cell_type": "markdown",
   "metadata": {},
   "source": [
    "# **TASI-2223-114 FAKE NEWS DETECTION**\n",
    "\n",
    "*   12S19014 Kartika Lidya Rotua Sianipar\n",
    "*   12S19039 Anugerah Salomo Rafael Simanjuntak\n",
    "*   12S19059 Rut Yana Gultom"
   ]
  },
  {
   "attachments": {},
   "cell_type": "markdown",
   "metadata": {},
   "source": [
    "# **Load dataset**"
   ]
  },
  {
   "cell_type": "code",
   "execution_count": 1,
   "metadata": {},
   "outputs": [],
   "source": [
    "import string\n",
    "import re\n",
    "import numpy as np\n",
    "import xml.dom.minidom as minidom\n",
    "import pandas as pd\n",
    "import nltk\n",
    "import matplotlib.pyplot as plt\n",
    "\n",
    "from nltk.tokenize import sent_tokenize\n",
    "from sklearn.feature_extraction.text import CountVectorizer\n",
    "from nltk.tokenize import word_tokenize\n",
    "from nltk.corpus import stopwords\n",
    "from nltk.stem.porter import PorterStemmer"
   ]
  },
  {
   "cell_type": "code",
   "execution_count": 2,
   "metadata": {},
   "outputs": [
    {
     "name": "stdout",
     "output_type": "stream",
     "text": [
      "<class 'pandas.core.frame.DataFrame'>\n",
      "RangeIndex: 1118 entries, 0 to 1117\n",
      "Data columns (total 3 columns):\n",
      " #   Column    Non-Null Count  Dtype  \n",
      "---  ------    --------------  -----  \n",
      " 0   Label     1116 non-null   float64\n",
      " 1   Headline  1116 non-null   object \n",
      " 2   Body      1114 non-null   object \n",
      "dtypes: float64(1), object(2)\n",
      "memory usage: 26.3+ KB\n"
     ]
    }
   ],
   "source": [
    "df = pd.read_csv(\"turnbackhoax.csv\")\n",
    "df.info()"
   ]
  },
  {
   "cell_type": "code",
   "execution_count": 3,
   "metadata": {},
   "outputs": [
    {
     "data": {
      "text/html": [
       "<div>\n",
       "<style scoped>\n",
       "    .dataframe tbody tr th:only-of-type {\n",
       "        vertical-align: middle;\n",
       "    }\n",
       "\n",
       "    .dataframe tbody tr th {\n",
       "        vertical-align: top;\n",
       "    }\n",
       "\n",
       "    .dataframe thead th {\n",
       "        text-align: right;\n",
       "    }\n",
       "</style>\n",
       "<table border=\"1\" class=\"dataframe\">\n",
       "  <thead>\n",
       "    <tr style=\"text-align: right;\">\n",
       "      <th></th>\n",
       "      <th>Label</th>\n",
       "      <th>Headline</th>\n",
       "      <th>Body</th>\n",
       "    </tr>\n",
       "  </thead>\n",
       "  <tbody>\n",
       "    <tr>\n",
       "      <th>420</th>\n",
       "      <td>1.0</td>\n",
       "      <td>Video Petugas KPPS Coblos Surat Suara di Boyolali</td>\n",
       "      <td>Peristiwa ini terjadi di TPS 8 Dukuh Winong, D...</td>\n",
       "    </tr>\n",
       "    <tr>\n",
       "      <th>915</th>\n",
       "      <td>0.0</td>\n",
       "      <td>MINUMAN RED BULL MENGANDUNG SPERMA BANTENG</td>\n",
       "      <td>SUMBER : MEDIA SOSIAL NARASI :Red Bull and oth...</td>\n",
       "    </tr>\n",
       "    <tr>\n",
       "      <th>1069</th>\n",
       "      <td>0.0</td>\n",
       "      <td>Gatot Nurmantyo Akan Menghabisi Oknum PKI Wala...</td>\n",
       "      <td>Dua situs palsu (mencatut nama seakan-akan ada...</td>\n",
       "    </tr>\n",
       "    <tr>\n",
       "      <th>916</th>\n",
       "      <td>0.0</td>\n",
       "      <td>MOTOR TERBAKAR KARENA HP DIDALAM JOK</td>\n",
       "      <td>SUMBER : MEDIA SOSIAL NARASI : *Warning PooooL...</td>\n",
       "    </tr>\n",
       "    <tr>\n",
       "      <th>718</th>\n",
       "      <td>0.0</td>\n",
       "      <td>“Pengrusakan Mushola di Daerah Bojong Gede Ol...</td>\n",
       "      <td>“(1) Salinan laporan ke grup Whatsapp internal...</td>\n",
       "    </tr>\n",
       "  </tbody>\n",
       "</table>\n",
       "</div>"
      ],
      "text/plain": [
       "      Label                                           Headline  \\\n",
       "420     1.0  Video Petugas KPPS Coblos Surat Suara di Boyolali   \n",
       "915     0.0         MINUMAN RED BULL MENGANDUNG SPERMA BANTENG   \n",
       "1069    0.0  Gatot Nurmantyo Akan Menghabisi Oknum PKI Wala...   \n",
       "916     0.0               MOTOR TERBAKAR KARENA HP DIDALAM JOK   \n",
       "718     0.0   “Pengrusakan Mushola di Daerah Bojong Gede Ol...   \n",
       "\n",
       "                                                   Body  \n",
       "420   Peristiwa ini terjadi di TPS 8 Dukuh Winong, D...  \n",
       "915   SUMBER : MEDIA SOSIAL NARASI :Red Bull and oth...  \n",
       "1069  Dua situs palsu (mencatut nama seakan-akan ada...  \n",
       "916   SUMBER : MEDIA SOSIAL NARASI : *Warning PooooL...  \n",
       "718   “(1) Salinan laporan ke grup Whatsapp internal...  "
      ]
     },
     "execution_count": 3,
     "metadata": {},
     "output_type": "execute_result"
    }
   ],
   "source": [
    "df.sample(5)"
   ]
  },
  {
   "cell_type": "code",
   "execution_count": 4,
   "metadata": {},
   "outputs": [
    {
     "data": {
      "text/html": [
       "<div>\n",
       "<style scoped>\n",
       "    .dataframe tbody tr th:only-of-type {\n",
       "        vertical-align: middle;\n",
       "    }\n",
       "\n",
       "    .dataframe tbody tr th {\n",
       "        vertical-align: top;\n",
       "    }\n",
       "\n",
       "    .dataframe thead th {\n",
       "        text-align: right;\n",
       "    }\n",
       "</style>\n",
       "<table border=\"1\" class=\"dataframe\">\n",
       "  <thead>\n",
       "    <tr style=\"text-align: right;\">\n",
       "      <th></th>\n",
       "      <th>label</th>\n",
       "    </tr>\n",
       "    <tr>\n",
       "      <th>Label</th>\n",
       "      <th></th>\n",
       "    </tr>\n",
       "  </thead>\n",
       "  <tbody>\n",
       "    <tr>\n",
       "      <th>0.0</th>\n",
       "      <td>683</td>\n",
       "    </tr>\n",
       "    <tr>\n",
       "      <th>1.0</th>\n",
       "      <td>433</td>\n",
       "    </tr>\n",
       "  </tbody>\n",
       "</table>\n",
       "</div>"
      ],
      "text/plain": [
       "       label\n",
       "Label       \n",
       "0.0      683\n",
       "1.0      433"
      ]
     },
     "execution_count": 4,
     "metadata": {},
     "output_type": "execute_result"
    }
   ],
   "source": [
    "df_count = df.groupby('Label').agg(label=('Label','count'))\n",
    "df_count"
   ]
  },
  {
   "cell_type": "code",
   "execution_count": 5,
   "metadata": {},
   "outputs": [
    {
     "data": {
      "image/png": "[encoded data removed]",
      "text/plain": [
       "<Figure size 640x480 with 1 Axes>"
      ]
     },
     "metadata": {},
     "output_type": "display_data"
    }
   ],
   "source": [
    "# hitung jumlah data untuk masing-masing label\n",
    "count_label_0 = df[df['Label'] == 0].shape[0]\n",
    "count_label_1 = df[df['Label'] == 1].shape[0]\n",
    "\n",
    "# buat bar chart\n",
    "labels = ['Real', 'Fake']\n",
    "values = [count_label_0, count_label_1]\n",
    "plt.bar(labels, values)\n",
    "\n",
    "# atur judul dan label sumbu\n",
    "plt.title('Jumlah Data untuk Setiap Label')\n",
    "plt.xlabel('Label')\n",
    "plt.ylabel('Jumlah Data')\n",
    "\n",
    "# tampilkan plot\n",
    "plt.show()"
   ]
  },
  {
   "attachments": {},
   "cell_type": "markdown",
   "metadata": {},
   "source": [
    "## **Preprocessing dataset**"
   ]
  },
  {
   "attachments": {},
   "cell_type": "markdown",
   "metadata": {},
   "source": [
    "## Missing Value"
   ]
  },
  {
   "cell_type": "code",
   "execution_count": 6,
   "metadata": {},
   "outputs": [
    {
     "name": "stdout",
     "output_type": "stream",
     "text": [
      "Check Missing Value:\n",
      " Label       True\n",
      "Headline    True\n",
      "Body        True\n",
      "dtype: bool\n"
     ]
    },
    {
     "data": {
      "text/plain": [
       "Label       2\n",
       "Headline    2\n",
       "Body        4\n",
       "dtype: int64"
      ]
     },
     "execution_count": 6,
     "metadata": {},
     "output_type": "execute_result"
    }
   ],
   "source": [
    "print(\"Check Missing Value:\\n\" ,df.isnull().any())\n",
    "df.isnull().sum()"
   ]
  },
  {
   "cell_type": "code",
   "execution_count": 7,
   "metadata": {},
   "outputs": [
    {
     "data": {
      "text/plain": [
       "Label       0\n",
       "Headline    0\n",
       "Body        0\n",
       "dtype: int64"
      ]
     },
     "execution_count": 7,
     "metadata": {},
     "output_type": "execute_result"
    }
   ],
   "source": [
    "data_notna = df[df['Label'].notna()]\n",
    "data_notna = df[df['Headline'].notna()]\n",
    "data_notna = df[df['Body'].notna()]\n",
    "\n",
    "data_notna.isnull().sum()"
   ]
  },
  {
   "cell_type": "code",
   "execution_count": 8,
   "metadata": {},
   "outputs": [],
   "source": [
    "data_notna.to_csv(\"notna_turnbackhoax.csv\")"
   ]
  },
  {
   "attachments": {},
   "cell_type": "markdown",
   "metadata": {},
   "source": [
    "## Remove Punctuation"
   ]
  },
  {
   "cell_type": "code",
   "execution_count": 48,
   "metadata": {},
   "outputs": [
    {
     "name": "stderr",
     "output_type": "stream",
     "text": [
      "C:\\Users\\Kartika\\AppData\\Local\\Temp\\ipykernel_15064\\2492459202.py:7: SettingWithCopyWarning: \n",
      "A value is trying to be set on a copy of a slice from a DataFrame.\n",
      "Try using .loc[row_indexer,col_indexer] = value instead\n",
      "\n",
      "See the caveats in the documentation: https://pandas.pydata.org/pandas-docs/stable/user_guide/indexing.html#returning-a-view-versus-a-copy\n",
      "  data_notna['Headline'] = data_notna['Headline'].apply(lambda x: remove_punctuation(x))\n"
     ]
    },
    {
     "name": "stdout",
     "output_type": "stream",
     "text": [
      "      Label                                           Headline  \\\n",
      "0       1.0  Pertamina dan Pemerintah Kalrifikasi Isu BBM N...   \n",
      "1       1.0  Polda Nusa Tenggara Barat Mengklarifkasi Bahwa...   \n",
      "2       1.0  PT Ultrajaya Milk Industry Tbk Mengklarifikasi...   \n",
      "3       1.0  BBKSDA Jatim Mengklarifikasi Bahwa Wisata Alam...   \n",
      "4       1.0  BMKG Mataram Menghimbau Agar Warga Tidak Langs...   \n",
      "...     ...                                                ...   \n",
      "1113    0.0   Vaksin Kanker Serviks Menyebabkan Menopause Dini   \n",
      "1114    0.0  Video Cindera Mata Raja Salman Untuk Ibu Irian...   \n",
      "1115    0.0  Video Simulasi Hacking Manipulasi Suara Pilgub...   \n",
      "1116    0.0  Website KPU Gampang Jebol Karena Scriptnya Tel...   \n",
      "1117    0.0               Yang Benci FPI Ada Lima Foto Gus Mus   \n",
      "\n",
      "                                                   Body  \n",
      "0     Foto Kumparancom Debunk ini berisi iKlarifikas...  \n",
      "1     Foto Ilustrasi Perkosaan Debunk ini berisi kla...  \n",
      "2     Debunk ini berisi klarifikasi dari PT Ultrajay...  \n",
      "3     foto tribunnewscom Debunk ini berisi Klrifikas...  \n",
      "4     Foto tribunnewscom Jokowi sedang memantau loka...  \n",
      "...                                                 ...  \n",
      "1113  HOAX Vaksin kanker serviks pada anakanak SD ak...  \n",
      "1114  Sebuah akun Twitter dengan nama akun gerilyapo...  \n",
      "1115  Sebuah akun Facebook memposting video yang dia...  \n",
      "1116  Sebuah akun Facebook memposting status yang me...  \n",
      "1117  Muncul postingan hoax di Instagram dan Twitter...  \n",
      "\n",
      "[1114 rows x 3 columns]\n"
     ]
    },
    {
     "name": "stderr",
     "output_type": "stream",
     "text": [
      "C:\\Users\\Kartika\\AppData\\Local\\Temp\\ipykernel_15064\\2492459202.py:10: SettingWithCopyWarning: \n",
      "A value is trying to be set on a copy of a slice from a DataFrame.\n",
      "Try using .loc[row_indexer,col_indexer] = value instead\n",
      "\n",
      "See the caveats in the documentation: https://pandas.pydata.org/pandas-docs/stable/user_guide/indexing.html#returning-a-view-versus-a-copy\n",
      "  data_notna['Body'] = data_notna['Body'].apply(lambda x: remove_punctuation(x))\n"
     ]
    }
   ],
   "source": [
    "# Fungsi untuk menghapus tanda baca\n",
    "def remove_punctuation(text):\n",
    "    no_punct = \"\".join([c for c in text if c not in string.punctuation])\n",
    "    return no_punct\n",
    "\n",
    "# Menghapus tanda baca pada kolom Headline\n",
    "data_notna['Headline'] = data_notna['Headline'].apply(lambda x: remove_punctuation(x))\n",
    "\n",
    "# Menghapus tanda baca pada kolom Body\n",
    "data_notna['Body'] = data_notna['Body'].apply(lambda x: remove_punctuation(x))\n",
    "\n",
    "# Cetak dataframe setelah tanda baca dihapus\n",
    "data_nopunc = data_notna\n",
    "print(data_nopunc)\n"
   ]
  },
  {
   "attachments": {},
   "cell_type": "markdown",
   "metadata": {},
   "source": [
    "## Case Folding"
   ]
  },
  {
   "cell_type": "code",
   "execution_count": 49,
   "metadata": {},
   "outputs": [
    {
     "name": "stdout",
     "output_type": "stream",
     "text": [
      "      Label                                           Headline  \\\n",
      "0       1.0  pertamina dan pemerintah kalrifikasi isu bbm n...   \n",
      "1       1.0  polda nusa tenggara barat mengklarifkasi bahwa...   \n",
      "2       1.0  pt ultrajaya milk industry tbk mengklarifikasi...   \n",
      "3       1.0  bbksda jatim mengklarifikasi bahwa wisata alam...   \n",
      "4       1.0  bmkg mataram menghimbau agar warga tidak langs...   \n",
      "...     ...                                                ...   \n",
      "1113    0.0   vaksin kanker serviks menyebabkan menopause dini   \n",
      "1114    0.0  video cindera mata raja salman untuk ibu irian...   \n",
      "1115    0.0  video simulasi hacking manipulasi suara pilgub...   \n",
      "1116    0.0  website kpu gampang jebol karena scriptnya tel...   \n",
      "1117    0.0               yang benci fpi ada lima foto gus mus   \n",
      "\n",
      "                                                   Body  \n",
      "0     foto kumparancom debunk ini berisi iklarifikas...  \n",
      "1     foto ilustrasi perkosaan debunk ini berisi kla...  \n",
      "2     debunk ini berisi klarifikasi dari pt ultrajay...  \n",
      "3     foto tribunnewscom debunk ini berisi klrifikas...  \n",
      "4     foto tribunnewscom jokowi sedang memantau loka...  \n",
      "...                                                 ...  \n",
      "1113  hoax vaksin kanker serviks pada anakanak sd ak...  \n",
      "1114  sebuah akun twitter dengan nama akun gerilyapo...  \n",
      "1115  sebuah akun facebook memposting video yang dia...  \n",
      "1116  sebuah akun facebook memposting status yang me...  \n",
      "1117  muncul postingan hoax di instagram dan twitter...  \n",
      "\n",
      "[1114 rows x 3 columns]\n"
     ]
    },
    {
     "name": "stderr",
     "output_type": "stream",
     "text": [
      "C:\\Users\\Kartika\\AppData\\Local\\Temp\\ipykernel_15064\\3538963477.py:1: SettingWithCopyWarning: \n",
      "A value is trying to be set on a copy of a slice from a DataFrame.\n",
      "Try using .loc[row_indexer,col_indexer] = value instead\n",
      "\n",
      "See the caveats in the documentation: https://pandas.pydata.org/pandas-docs/stable/user_guide/indexing.html#returning-a-view-versus-a-copy\n",
      "  data_nopunc['Headline'] = data_nopunc['Headline'].str.lower()\n",
      "C:\\Users\\Kartika\\AppData\\Local\\Temp\\ipykernel_15064\\3538963477.py:2: SettingWithCopyWarning: \n",
      "A value is trying to be set on a copy of a slice from a DataFrame.\n",
      "Try using .loc[row_indexer,col_indexer] = value instead\n",
      "\n",
      "See the caveats in the documentation: https://pandas.pydata.org/pandas-docs/stable/user_guide/indexing.html#returning-a-view-versus-a-copy\n",
      "  data_nopunc['Body'] = data_nopunc['Body'].str.lower()\n"
     ]
    }
   ],
   "source": [
    "data_nopunc['Headline'] = data_nopunc['Headline'].str.lower()\n",
    "data_nopunc['Body'] = data_nopunc['Body'].str.lower()\n",
    "\n",
    "data_lower = data_nopunc\n",
    "print(data_lower)"
   ]
  },
  {
   "attachments": {},
   "cell_type": "markdown",
   "metadata": {},
   "source": [
    "## Stopword Removal"
   ]
  },
  {
   "cell_type": "code",
   "execution_count": 50,
   "metadata": {},
   "outputs": [
    {
     "name": "stdout",
     "output_type": "stream",
     "text": [
      "Defaulting to user installation because normal site-packages is not writeableNote: you may need to restart the kernel to use updated packages.\n"
     ]
    },
    {
     "name": "stderr",
     "output_type": "stream",
     "text": [
      "\n",
      "[notice] A new release of pip is available: 23.0 -> 23.1.2\n",
      "[notice] To update, run: python.exe -m pip install --upgrade pip\n"
     ]
    },
    {
     "name": "stdout",
     "output_type": "stream",
     "text": [
      "\n",
      "Requirement already satisfied: Sastrawi in c:\\users\\kartika\\appdata\\roaming\\python\\python310\\site-packages (1.0.1)\n"
     ]
    }
   ],
   "source": [
    "pip install Sastrawi"
   ]
  },
  {
   "cell_type": "code",
   "execution_count": 51,
   "metadata": {},
   "outputs": [
    {
     "name": "stdout",
     "output_type": "stream",
     "text": [
      "['yang', 'untuk', 'pada', 'ke', 'para', 'namun', 'menurut', 'antara', 'dia', 'dua', 'ia', 'seperti', 'jika', 'jika', 'sehingga', 'kembali', 'dan', 'tidak', 'ini', 'karena', 'kepada', 'oleh', 'saat', 'harus', 'sementara', 'setelah', 'belum', 'kami', 'sekitar', 'bagi', 'serta', 'di', 'dari', 'telah', 'sebagai', 'masih', 'hal', 'ketika', 'adalah', 'itu', 'dalam', 'bisa', 'bahwa', 'atau', 'hanya', 'kita', 'dengan', 'akan', 'juga', 'ada', 'mereka', 'sudah', 'saya', 'terhadap', 'secara', 'agar', 'lain', 'anda', 'begitu', 'mengapa', 'kenapa', 'yaitu', 'yakni', 'daripada', 'itulah', 'lagi', 'maka', 'tentang', 'demi', 'dimana', 'kemana', 'pula', 'sambil', 'sebelum', 'sesudah', 'supaya', 'guna', 'kah', 'pun', 'sampai', 'sedangkan', 'selagi', 'sementara', 'tetapi', 'apakah', 'kecuali', 'sebab', 'selain', 'seolah', 'seraya', 'seterusnya', 'tanpa', 'agak', 'boleh', 'dapat', 'dsb', 'dst', 'dll', 'dahulu', 'dulunya', 'anu', 'demikian', 'tapi', 'ingin', 'juga', 'nggak', 'mari', 'nanti', 'melainkan', 'oh', 'ok', 'seharusnya', 'sebetulnya', 'setiap', 'setidaknya', 'sesuatu', 'pasti', 'saja', 'toh', 'ya', 'walau', 'tolong', 'tentu', 'amat', 'apalagi', 'bagaimanapun']\n"
     ]
    }
   ],
   "source": [
    "from Sastrawi.StopWordRemover.StopWordRemoverFactory import StopWordRemoverFactory\n",
    "from Sastrawi.Stemmer.StemmerFactory import StemmerFactory\n",
    "factory = StopWordRemoverFactory()\n",
    "stopwords = factory.get_stop_words()\n",
    "print(stopwords)"
   ]
  },
  {
   "cell_type": "code",
   "execution_count": 52,
   "metadata": {},
   "outputs": [],
   "source": [
    "stopwords.remove('tidak')\n",
    "stopwords.remove('tanpa')"
   ]
  },
  {
   "cell_type": "code",
   "execution_count": 53,
   "metadata": {},
   "outputs": [
    {
     "name": "stdout",
     "output_type": "stream",
     "text": [
      "ada\n",
      "adalah\n",
      "agak\n",
      "agar\n",
      "akan\n",
      "amat\n",
      "anda\n",
      "antara\n",
      "anu\n",
      "apakah\n",
      "apalagi\n",
      "atau\n",
      "bagaimanapun\n",
      "bagi\n",
      "bahwa\n",
      "begitu\n",
      "belum\n",
      "bisa\n",
      "boleh\n",
      "dahulu\n",
      "dalam\n",
      "dan\n",
      "dapat\n",
      "dari\n",
      "daripada\n",
      "demi\n",
      "demikian\n",
      "dengan\n",
      "di\n",
      "dia\n",
      "dimana\n",
      "dll\n",
      "dsb\n",
      "dst\n",
      "dua\n",
      "dulunya\n",
      "guna\n",
      "hal\n",
      "hanya\n",
      "harus\n",
      "ia\n",
      "ingin\n",
      "ini\n",
      "itu\n",
      "itulah\n",
      "jika\n",
      "jika\n",
      "juga\n",
      "juga\n",
      "kah\n",
      "kami\n",
      "karena\n",
      "ke\n",
      "kecuali\n",
      "kemana\n",
      "kembali\n",
      "kenapa\n",
      "kepada\n",
      "ketika\n",
      "kita\n",
      "lagi\n",
      "lain\n",
      "maka\n",
      "mari\n",
      "masih\n",
      "melainkan\n",
      "mengapa\n",
      "menurut\n",
      "mereka\n",
      "namun\n",
      "nanti\n",
      "nggak\n",
      "oh\n",
      "ok\n",
      "oleh\n",
      "pada\n",
      "para\n",
      "pasti\n",
      "pula\n",
      "pun\n",
      "saat\n",
      "saja\n",
      "sambil\n",
      "sampai\n",
      "saya\n",
      "sebab\n",
      "sebagai\n",
      "sebelum\n",
      "sebetulnya\n",
      "secara\n",
      "sedangkan\n",
      "seharusnya\n",
      "sehingga\n",
      "sekitar\n",
      "selagi\n",
      "selain\n",
      "sementara\n",
      "sementara\n",
      "seolah\n",
      "seperti\n",
      "seraya\n",
      "serta\n",
      "sesuatu\n",
      "sesudah\n",
      "setelah\n",
      "seterusnya\n",
      "setiap\n",
      "setidaknya\n",
      "sudah\n",
      "supaya\n",
      "tapi\n",
      "telah\n",
      "tentang\n",
      "tentu\n",
      "terhadap\n",
      "tetapi\n",
      "toh\n",
      "tolong\n",
      "untuk\n",
      "walau\n",
      "ya\n",
      "yaitu\n",
      "yakni\n",
      "yang\n"
     ]
    }
   ],
   "source": [
    "stopwords.sort()\n",
    "\n",
    "# print vowels\n",
    "for i in stopwords:\n",
    "  print(i)"
   ]
  },
  {
   "cell_type": "code",
   "execution_count": 54,
   "metadata": {},
   "outputs": [
    {
     "name": "stderr",
     "output_type": "stream",
     "text": [
      "C:\\Users\\Kartika\\AppData\\Local\\Temp\\ipykernel_15064\\4199550798.py:6: SettingWithCopyWarning: \n",
      "A value is trying to be set on a copy of a slice from a DataFrame.\n",
      "Try using .loc[row_indexer,col_indexer] = value instead\n",
      "\n",
      "See the caveats in the documentation: https://pandas.pydata.org/pandas-docs/stable/user_guide/indexing.html#returning-a-view-versus-a-copy\n",
      "  data_lower['Headline'] = data_lower['Headline'].apply(lambda x: remove(x))\n"
     ]
    },
    {
     "name": "stdout",
     "output_type": "stream",
     "text": [
      "      Label                                           Headline  \\\n",
      "0       1.0  pertamina pemerintah kalrifikasi isu bbm naik ...   \n",
      "1       1.0  polda nusa tenggara barat mengklarifkasi tidak...   \n",
      "2       1.0  pt ultrajaya milk industry tbk mengklarifikasi...   \n",
      "3       1.0  bbksda jatim mengklarifikasi wisata alam kawah...   \n",
      "4       1.0  bmkg mataram menghimbau warga langsung percaya...   \n",
      "...     ...                                                ...   \n",
      "1113    0.0   vaksin kanker serviks menyebabkan menopause dini   \n",
      "1114    0.0  video cindera mata raja salman ibu iriana joko...   \n",
      "1115    0.0  video simulasi hacking manipulasi suara pilgub...   \n",
      "1116    0.0      website kpu gampang jebol scriptnya telanjang   \n",
      "1117    0.0                        benci fpi lima foto gus mus   \n",
      "\n",
      "                                                   Body  \n",
      "0     foto kumparancom debunk berisi iklarifikasi pe...  \n",
      "1     foto ilustrasi perkosaan debunk berisi klarifi...  \n",
      "2     debunk berisi klarifikasi pt ultrajaya milk in...  \n",
      "3     foto tribunnewscom debunk berisi klrifikasi se...  \n",
      "4     foto tribunnewscom jokowi sedang memantau loka...  \n",
      "...                                                 ...  \n",
      "1113  hoax vaksin kanker serviks anakanak sd menyeba...  \n",
      "1114  sebuah akun twitter nama akun gerilyapolitik m...  \n",
      "1115  sebuah akun facebook memposting video dia sebu...  \n",
      "1116  sebuah akun facebook memposting status mengkla...  \n",
      "1117  muncul postingan hoax instagram twitter berupa...  \n",
      "\n",
      "[1114 rows x 3 columns]\n"
     ]
    },
    {
     "name": "stderr",
     "output_type": "stream",
     "text": [
      "C:\\Users\\Kartika\\AppData\\Local\\Temp\\ipykernel_15064\\4199550798.py:7: SettingWithCopyWarning: \n",
      "A value is trying to be set on a copy of a slice from a DataFrame.\n",
      "Try using .loc[row_indexer,col_indexer] = value instead\n",
      "\n",
      "See the caveats in the documentation: https://pandas.pydata.org/pandas-docs/stable/user_guide/indexing.html#returning-a-view-versus-a-copy\n",
      "  data_lower['Body'] = data_lower['Body'].apply(lambda x: remove(x))\n"
     ]
    }
   ],
   "source": [
    "def remove(text):\n",
    "    factory = StopWordRemoverFactory()\n",
    "    stopwords = factory.create_stop_word_remover()\n",
    "    text = stopwords.remove(text)\n",
    "    return text\n",
    "data_lower['Headline'] = data_lower['Headline'].apply(lambda x: remove(x))\n",
    "data_lower['Body'] = data_lower['Body'].apply(lambda x: remove(x))\n",
    "\n",
    "data_clean = data_lower\n",
    "print(data_clean)"
   ]
  },
  {
   "attachments": {},
   "cell_type": "markdown",
   "metadata": {},
   "source": [
    "## Tokenization"
   ]
  },
  {
   "cell_type": "code",
   "execution_count": 55,
   "metadata": {},
   "outputs": [],
   "source": [
    "df = data_clean"
   ]
  },
  {
   "cell_type": "code",
   "execution_count": 56,
   "metadata": {},
   "outputs": [
    {
     "name": "stderr",
     "output_type": "stream",
     "text": [
      "C:\\Users\\Kartika\\AppData\\Local\\Temp\\ipykernel_15064\\3588331584.py:9: SettingWithCopyWarning: \n",
      "A value is trying to be set on a copy of a slice from a DataFrame.\n",
      "Try using .loc[row_indexer,col_indexer] = value instead\n",
      "\n",
      "See the caveats in the documentation: https://pandas.pydata.org/pandas-docs/stable/user_guide/indexing.html#returning-a-view-versus-a-copy\n",
      "  df.loc[df_valid.index, ['Tokenizing_Head', 'Tokenizing_Body']] = df_valid[['Tokenizing_Head', 'Tokenizing_Body']]\n"
     ]
    },
    {
     "data": {
      "text/html": [
       "<div>\n",
       "<style scoped>\n",
       "    .dataframe tbody tr th:only-of-type {\n",
       "        vertical-align: middle;\n",
       "    }\n",
       "\n",
       "    .dataframe tbody tr th {\n",
       "        vertical-align: top;\n",
       "    }\n",
       "\n",
       "    .dataframe thead th {\n",
       "        text-align: right;\n",
       "    }\n",
       "</style>\n",
       "<table border=\"1\" class=\"dataframe\">\n",
       "  <thead>\n",
       "    <tr style=\"text-align: right;\">\n",
       "      <th></th>\n",
       "      <th>Label</th>\n",
       "      <th>Headline</th>\n",
       "      <th>Body</th>\n",
       "      <th>Tokenizing_Head</th>\n",
       "      <th>Tokenizing_Body</th>\n",
       "    </tr>\n",
       "  </thead>\n",
       "  <tbody>\n",
       "    <tr>\n",
       "      <th>0</th>\n",
       "      <td>1.0</td>\n",
       "      <td>pertamina pemerintah kalrifikasi isu bbm naik ...</td>\n",
       "      <td>foto kumparancom debunk berisi iklarifikasi pe...</td>\n",
       "      <td>[pertamina, pemerintah, kalrifikasi, isu, bbm,...</td>\n",
       "      <td>[foto, kumparancom, debunk, berisi, iklarifika...</td>\n",
       "    </tr>\n",
       "    <tr>\n",
       "      <th>1</th>\n",
       "      <td>1.0</td>\n",
       "      <td>polda nusa tenggara barat mengklarifkasi tidak...</td>\n",
       "      <td>foto ilustrasi perkosaan debunk berisi klarifi...</td>\n",
       "      <td>[polda, nusa, tenggara, barat, mengklarifkasi,...</td>\n",
       "      <td>[foto, ilustrasi, perkosaan, debunk, berisi, k...</td>\n",
       "    </tr>\n",
       "    <tr>\n",
       "      <th>2</th>\n",
       "      <td>1.0</td>\n",
       "      <td>pt ultrajaya milk industry tbk mengklarifikasi...</td>\n",
       "      <td>debunk berisi klarifikasi pt ultrajaya milk in...</td>\n",
       "      <td>[pt, ultrajaya, milk, industry, tbk, mengklari...</td>\n",
       "      <td>[debunk, berisi, klarifikasi, pt, ultrajaya, m...</td>\n",
       "    </tr>\n",
       "    <tr>\n",
       "      <th>3</th>\n",
       "      <td>1.0</td>\n",
       "      <td>bbksda jatim mengklarifikasi wisata alam kawah...</td>\n",
       "      <td>foto tribunnewscom debunk berisi klrifikasi se...</td>\n",
       "      <td>[bbksda, jatim, mengklarifikasi, wisata, alam,...</td>\n",
       "      <td>[foto, tribunnewscom, debunk, berisi, klrifika...</td>\n",
       "    </tr>\n",
       "    <tr>\n",
       "      <th>4</th>\n",
       "      <td>1.0</td>\n",
       "      <td>bmkg mataram menghimbau warga langsung percaya...</td>\n",
       "      <td>foto tribunnewscom jokowi sedang memantau loka...</td>\n",
       "      <td>[bmkg, mataram, menghimbau, warga, langsung, p...</td>\n",
       "      <td>[foto, tribunnewscom, jokowi, sedang, memantau...</td>\n",
       "    </tr>\n",
       "    <tr>\n",
       "      <th>...</th>\n",
       "      <td>...</td>\n",
       "      <td>...</td>\n",
       "      <td>...</td>\n",
       "      <td>...</td>\n",
       "      <td>...</td>\n",
       "    </tr>\n",
       "    <tr>\n",
       "      <th>1113</th>\n",
       "      <td>0.0</td>\n",
       "      <td>vaksin kanker serviks menyebabkan menopause dini</td>\n",
       "      <td>hoax vaksin kanker serviks anakanak sd menyeba...</td>\n",
       "      <td>[vaksin, kanker, serviks, menyebabkan, menopau...</td>\n",
       "      <td>[hoax, vaksin, kanker, serviks, anakanak, sd, ...</td>\n",
       "    </tr>\n",
       "    <tr>\n",
       "      <th>1114</th>\n",
       "      <td>0.0</td>\n",
       "      <td>video cindera mata raja salman ibu iriana joko...</td>\n",
       "      <td>sebuah akun twitter nama akun gerilyapolitik m...</td>\n",
       "      <td>[video, cindera, mata, raja, salman, ibu, iria...</td>\n",
       "      <td>[sebuah, akun, twitter, nama, akun, gerilyapol...</td>\n",
       "    </tr>\n",
       "    <tr>\n",
       "      <th>1115</th>\n",
       "      <td>0.0</td>\n",
       "      <td>video simulasi hacking manipulasi suara pilgub...</td>\n",
       "      <td>sebuah akun facebook memposting video dia sebu...</td>\n",
       "      <td>[video, simulasi, hacking, manipulasi, suara, ...</td>\n",
       "      <td>[sebuah, akun, facebook, memposting, video, di...</td>\n",
       "    </tr>\n",
       "    <tr>\n",
       "      <th>1116</th>\n",
       "      <td>0.0</td>\n",
       "      <td>website kpu gampang jebol scriptnya telanjang</td>\n",
       "      <td>sebuah akun facebook memposting status mengkla...</td>\n",
       "      <td>[website, kpu, gampang, jebol, scriptnya, tela...</td>\n",
       "      <td>[sebuah, akun, facebook, memposting, status, m...</td>\n",
       "    </tr>\n",
       "    <tr>\n",
       "      <th>1117</th>\n",
       "      <td>0.0</td>\n",
       "      <td>benci fpi lima foto gus mus</td>\n",
       "      <td>muncul postingan hoax instagram twitter berupa...</td>\n",
       "      <td>[benci, fpi, lima, foto, gus, mus]</td>\n",
       "      <td>[muncul, postingan, hoax, instagram, twitter, ...</td>\n",
       "    </tr>\n",
       "  </tbody>\n",
       "</table>\n",
       "<p>1114 rows × 5 columns</p>\n",
       "</div>"
      ],
      "text/plain": [
       "      Label                                           Headline  \\\n",
       "0       1.0  pertamina pemerintah kalrifikasi isu bbm naik ...   \n",
       "1       1.0  polda nusa tenggara barat mengklarifkasi tidak...   \n",
       "2       1.0  pt ultrajaya milk industry tbk mengklarifikasi...   \n",
       "3       1.0  bbksda jatim mengklarifikasi wisata alam kawah...   \n",
       "4       1.0  bmkg mataram menghimbau warga langsung percaya...   \n",
       "...     ...                                                ...   \n",
       "1113    0.0   vaksin kanker serviks menyebabkan menopause dini   \n",
       "1114    0.0  video cindera mata raja salman ibu iriana joko...   \n",
       "1115    0.0  video simulasi hacking manipulasi suara pilgub...   \n",
       "1116    0.0      website kpu gampang jebol scriptnya telanjang   \n",
       "1117    0.0                        benci fpi lima foto gus mus   \n",
       "\n",
       "                                                   Body  \\\n",
       "0     foto kumparancom debunk berisi iklarifikasi pe...   \n",
       "1     foto ilustrasi perkosaan debunk berisi klarifi...   \n",
       "2     debunk berisi klarifikasi pt ultrajaya milk in...   \n",
       "3     foto tribunnewscom debunk berisi klrifikasi se...   \n",
       "4     foto tribunnewscom jokowi sedang memantau loka...   \n",
       "...                                                 ...   \n",
       "1113  hoax vaksin kanker serviks anakanak sd menyeba...   \n",
       "1114  sebuah akun twitter nama akun gerilyapolitik m...   \n",
       "1115  sebuah akun facebook memposting video dia sebu...   \n",
       "1116  sebuah akun facebook memposting status mengkla...   \n",
       "1117  muncul postingan hoax instagram twitter berupa...   \n",
       "\n",
       "                                        Tokenizing_Head  \\\n",
       "0     [pertamina, pemerintah, kalrifikasi, isu, bbm,...   \n",
       "1     [polda, nusa, tenggara, barat, mengklarifkasi,...   \n",
       "2     [pt, ultrajaya, milk, industry, tbk, mengklari...   \n",
       "3     [bbksda, jatim, mengklarifikasi, wisata, alam,...   \n",
       "4     [bmkg, mataram, menghimbau, warga, langsung, p...   \n",
       "...                                                 ...   \n",
       "1113  [vaksin, kanker, serviks, menyebabkan, menopau...   \n",
       "1114  [video, cindera, mata, raja, salman, ibu, iria...   \n",
       "1115  [video, simulasi, hacking, manipulasi, suara, ...   \n",
       "1116  [website, kpu, gampang, jebol, scriptnya, tela...   \n",
       "1117                 [benci, fpi, lima, foto, gus, mus]   \n",
       "\n",
       "                                        Tokenizing_Body  \n",
       "0     [foto, kumparancom, debunk, berisi, iklarifika...  \n",
       "1     [foto, ilustrasi, perkosaan, debunk, berisi, k...  \n",
       "2     [debunk, berisi, klarifikasi, pt, ultrajaya, m...  \n",
       "3     [foto, tribunnewscom, debunk, berisi, klrifika...  \n",
       "4     [foto, tribunnewscom, jokowi, sedang, memantau...  \n",
       "...                                                 ...  \n",
       "1113  [hoax, vaksin, kanker, serviks, anakanak, sd, ...  \n",
       "1114  [sebuah, akun, twitter, nama, akun, gerilyapol...  \n",
       "1115  [sebuah, akun, facebook, memposting, video, di...  \n",
       "1116  [sebuah, akun, facebook, memposting, status, m...  \n",
       "1117  [muncul, postingan, hoax, instagram, twitter, ...  \n",
       "\n",
       "[1114 rows x 5 columns]"
      ]
     },
     "execution_count": 56,
     "metadata": {},
     "output_type": "execute_result"
    }
   ],
   "source": [
    "def tokenization(text1, text2):\n",
    "    tokens1 = nltk.tokenize.word_tokenize(text1)\n",
    "    tokens2 = nltk.tokenize.word_tokenize(text2)\n",
    "    return tokens1, tokens2\n",
    "\n",
    "def tokenize_columns(df, col1, col2):\n",
    "    df_valid = df.loc[df[[col1, col2]].apply(lambda x: isinstance(x[col1], (str, bytes)) and isinstance(x[col2], (str, bytes)), axis=1), :]\n",
    "    df_valid[['Tokenizing_Head', 'Tokenizing_Body']] = df_valid.apply(lambda x: pd.Series(tokenization(x[col1], x[col2])), axis=1)\n",
    "    df.loc[df_valid.index, ['Tokenizing_Head', 'Tokenizing_Body']] = df_valid[['Tokenizing_Head', 'Tokenizing_Body']]\n",
    "    return df\n",
    "\n",
    "data_token = tokenize_columns(df, 'Headline', 'Body')\n",
    "data_token"
   ]
  },
  {
   "attachments": {},
   "cell_type": "markdown",
   "metadata": {},
   "source": [
    "## Save to New Dataset"
   ]
  },
  {
   "cell_type": "code",
   "execution_count": 57,
   "metadata": {},
   "outputs": [],
   "source": [
    "# df.to_csv(\"clean_turnbackhoax.csv\")"
   ]
  },
  {
   "attachments": {},
   "cell_type": "markdown",
   "metadata": {},
   "source": [
    "# **Split to Train, Test, Valid**"
   ]
  },
  {
   "attachments": {},
   "cell_type": "markdown",
   "metadata": {},
   "source": [
    "Proporsi masing-masing bagian yang digunakan yaitu 60% untuk data latih (train), 20% untuk data validasi (valid), dan 20% untuk data uji (test)."
   ]
  },
  {
   "cell_type": "code",
   "execution_count": 58,
   "metadata": {},
   "outputs": [],
   "source": [
    "# one split data\n",
    "train, sample, test = np.split(df.sample(frac=1), [int(.6*len(df)),\n",
    "int(.8*len((df)))])"
   ]
  },
  {
   "cell_type": "code",
   "execution_count": 59,
   "metadata": {},
   "outputs": [
    {
     "name": "stdout",
     "output_type": "stream",
     "text": [
      "X_train shape: (668, 4)\n",
      "X_test shape: (223, 4)\n",
      "y_train shape: (668,)\n",
      "y_test shape: (223,)\n",
      "X_sample shape: (223, 4)\n",
      "y_sample shape: (223,)\n"
     ]
    },
    {
     "data": {
      "text/html": [
       "<div>\n",
       "<style scoped>\n",
       "    .dataframe tbody tr th:only-of-type {\n",
       "        vertical-align: middle;\n",
       "    }\n",
       "\n",
       "    .dataframe tbody tr th {\n",
       "        vertical-align: top;\n",
       "    }\n",
       "\n",
       "    .dataframe thead th {\n",
       "        text-align: right;\n",
       "    }\n",
       "</style>\n",
       "<table border=\"1\" class=\"dataframe\">\n",
       "  <thead>\n",
       "    <tr style=\"text-align: right;\">\n",
       "      <th></th>\n",
       "      <th>Label</th>\n",
       "      <th>Headline</th>\n",
       "      <th>Body</th>\n",
       "      <th>Tokenizing_Head</th>\n",
       "      <th>Tokenizing_Body</th>\n",
       "    </tr>\n",
       "  </thead>\n",
       "  <tbody>\n",
       "    <tr>\n",
       "      <th>159</th>\n",
       "      <td>1.0</td>\n",
       "      <td>cokelat “mermaid” memakan korban</td>\n",
       "      <td>update 30122020 1 artikel dibuat april 2019 me...</td>\n",
       "      <td>[cokelat, “, mermaid, ”, memakan, korban]</td>\n",
       "      <td>[update, 30122020, 1, artikel, dibuat, april, ...</td>\n",
       "    </tr>\n",
       "    <tr>\n",
       "      <th>719</th>\n",
       "      <td>0.0</td>\n",
       "      <td>“penjahat gunakan spray bius lumpuhkan korban”</td>\n",
       "      <td>“setelah ditelusuri lebih lanjut melansir jawa...</td>\n",
       "      <td>[“, penjahat, gunakan, spray, bius, lumpuhkan,...</td>\n",
       "      <td>[“, setelah, ditelusuri, lebih, lanjut, melans...</td>\n",
       "    </tr>\n",
       "    <tr>\n",
       "      <th>63</th>\n",
       "      <td>1.0</td>\n",
       "      <td>“klarifikasi gubernur anies terkait dirinya di...</td>\n",
       "      <td>gubernur dki jakarta anies baswedan membantah ...</td>\n",
       "      <td>[“, klarifikasi, gubernur, anies, terkait, dir...</td>\n",
       "      <td>[gubernur, dki, jakarta, anies, baswedan, memb...</td>\n",
       "    </tr>\n",
       "    <tr>\n",
       "      <th>350</th>\n",
       "      <td>1.0</td>\n",
       "      <td>penjelasan data fakta pernyataan djarot saiful...</td>\n",
       "      <td>faktanya masa presiden ke6 terdapat sejumlah p...</td>\n",
       "      <td>[penjelasan, data, fakta, pernyataan, djarot, ...</td>\n",
       "      <td>[faktanya, masa, presiden, ke6, terdapat, seju...</td>\n",
       "    </tr>\n",
       "    <tr>\n",
       "      <th>886</th>\n",
       "      <td>0.0</td>\n",
       "      <td>kh maimoen zubair doakan tidak baik ahok</td>\n",
       "      <td>sumber media sosial narasi “doa syakhina kh ma...</td>\n",
       "      <td>[kh, maimoen, zubair, doakan, tidak, baik, ahok]</td>\n",
       "      <td>[sumber, media, sosial, narasi, “, doa, syakhi...</td>\n",
       "    </tr>\n",
       "  </tbody>\n",
       "</table>\n",
       "</div>"
      ],
      "text/plain": [
       "     Label                                           Headline  \\\n",
       "159    1.0                   cokelat “mermaid” memakan korban   \n",
       "719    0.0     “penjahat gunakan spray bius lumpuhkan korban”   \n",
       "63     1.0  “klarifikasi gubernur anies terkait dirinya di...   \n",
       "350    1.0  penjelasan data fakta pernyataan djarot saiful...   \n",
       "886    0.0           kh maimoen zubair doakan tidak baik ahok   \n",
       "\n",
       "                                                  Body  \\\n",
       "159  update 30122020 1 artikel dibuat april 2019 me...   \n",
       "719  “setelah ditelusuri lebih lanjut melansir jawa...   \n",
       "63   gubernur dki jakarta anies baswedan membantah ...   \n",
       "350  faktanya masa presiden ke6 terdapat sejumlah p...   \n",
       "886  sumber media sosial narasi “doa syakhina kh ma...   \n",
       "\n",
       "                                       Tokenizing_Head  \\\n",
       "159          [cokelat, “, mermaid, ”, memakan, korban]   \n",
       "719  [“, penjahat, gunakan, spray, bius, lumpuhkan,...   \n",
       "63   [“, klarifikasi, gubernur, anies, terkait, dir...   \n",
       "350  [penjelasan, data, fakta, pernyataan, djarot, ...   \n",
       "886   [kh, maimoen, zubair, doakan, tidak, baik, ahok]   \n",
       "\n",
       "                                       Tokenizing_Body  \n",
       "159  [update, 30122020, 1, artikel, dibuat, april, ...  \n",
       "719  [“, setelah, ditelusuri, lebih, lanjut, melans...  \n",
       "63   [gubernur, dki, jakarta, anies, baswedan, memb...  \n",
       "350  [faktanya, masa, presiden, ke6, terdapat, seju...  \n",
       "886  [sumber, media, sosial, narasi, “, doa, syakhi...  "
      ]
     },
     "execution_count": 59,
     "metadata": {},
     "output_type": "execute_result"
    }
   ],
   "source": [
    "# Assign the train split\n",
    "X_train = train[[train.columns[i] for i in range(train.shape[1]-1) ]]\n",
    "y_train = train[train.columns[-1]]\n",
    "# Assign the test split\n",
    "X_test = test[[test.columns[i] for i in range(train.shape[1]-1) ]]\n",
    "y_test = test[test.columns[-1]]\n",
    "# Assign the validation split\n",
    "X_sample = sample[[sample.columns[i] for i in \n",
    "                    range(sample.shape[1]-1) ]]\n",
    "y_sample = sample[sample.columns[-1]]\n",
    "\n",
    "# Print the sets data shapes\n",
    "print(\"X_train shape: {}\".format(X_train.shape))\n",
    "print(\"X_test shape: {}\".format(X_test.shape))\n",
    "print(\"y_train shape: {}\".format(y_train.shape))\n",
    "print(\"y_test shape: {}\".format(y_test.shape))\n",
    "print(\"X_sample shape: {}\".format(X_sample.shape))\n",
    "print(\"y_sample shape: {}\".format(y_sample.shape))\n",
    "\n",
    "sample.head()"
   ]
  },
  {
   "cell_type": "code",
   "execution_count": 60,
   "metadata": {},
   "outputs": [
    {
     "name": "stderr",
     "output_type": "stream",
     "text": [
      "C:\\Users\\Kartika\\AppData\\Local\\Temp\\ipykernel_15064\\3577165278.py:1: SettingWithCopyWarning: \n",
      "A value is trying to be set on a copy of a slice from a DataFrame.\n",
      "Try using .loc[row_indexer,col_indexer] = value instead\n",
      "\n",
      "See the caveats in the documentation: https://pandas.pydata.org/pandas-docs/stable/user_guide/indexing.html#returning-a-view-versus-a-copy\n",
      "  df['Label'] = df['Label'].astype(int)\n"
     ]
    }
   ],
   "source": [
    "df['Label'] = df['Label'].astype(int)"
   ]
  },
  {
   "cell_type": "code",
   "execution_count": 61,
   "metadata": {},
   "outputs": [
    {
     "name": "stderr",
     "output_type": "stream",
     "text": [
      "C:\\Users\\Kartika\\AppData\\Local\\Temp\\ipykernel_15064\\1592631389.py:1: SettingWithCopyWarning: \n",
      "A value is trying to be set on a copy of a slice from a DataFrame\n",
      "\n",
      "See the caveats in the documentation: https://pandas.pydata.org/pandas-docs/stable/user_guide/indexing.html#returning-a-view-versus-a-copy\n",
      "  df.drop([\"Headline\"],axis=1, inplace=True)\n",
      "C:\\Users\\Kartika\\AppData\\Local\\Temp\\ipykernel_15064\\1592631389.py:2: SettingWithCopyWarning: \n",
      "A value is trying to be set on a copy of a slice from a DataFrame\n",
      "\n",
      "See the caveats in the documentation: https://pandas.pydata.org/pandas-docs/stable/user_guide/indexing.html#returning-a-view-versus-a-copy\n",
      "  df.drop([\"Body\"],axis=1, inplace=True)\n"
     ]
    },
    {
     "data": {
      "text/html": [
       "<div>\n",
       "<style scoped>\n",
       "    .dataframe tbody tr th:only-of-type {\n",
       "        vertical-align: middle;\n",
       "    }\n",
       "\n",
       "    .dataframe tbody tr th {\n",
       "        vertical-align: top;\n",
       "    }\n",
       "\n",
       "    .dataframe thead th {\n",
       "        text-align: right;\n",
       "    }\n",
       "</style>\n",
       "<table border=\"1\" class=\"dataframe\">\n",
       "  <thead>\n",
       "    <tr style=\"text-align: right;\">\n",
       "      <th></th>\n",
       "      <th>Label</th>\n",
       "      <th>Tokenizing_Head</th>\n",
       "      <th>Tokenizing_Body</th>\n",
       "    </tr>\n",
       "  </thead>\n",
       "  <tbody>\n",
       "    <tr>\n",
       "      <th>0</th>\n",
       "      <td>1</td>\n",
       "      <td>[pertamina, pemerintah, kalrifikasi, isu, bbm,...</td>\n",
       "      <td>[foto, kumparancom, debunk, berisi, iklarifika...</td>\n",
       "    </tr>\n",
       "    <tr>\n",
       "      <th>1</th>\n",
       "      <td>1</td>\n",
       "      <td>[polda, nusa, tenggara, barat, mengklarifkasi,...</td>\n",
       "      <td>[foto, ilustrasi, perkosaan, debunk, berisi, k...</td>\n",
       "    </tr>\n",
       "    <tr>\n",
       "      <th>2</th>\n",
       "      <td>1</td>\n",
       "      <td>[pt, ultrajaya, milk, industry, tbk, mengklari...</td>\n",
       "      <td>[debunk, berisi, klarifikasi, pt, ultrajaya, m...</td>\n",
       "    </tr>\n",
       "    <tr>\n",
       "      <th>3</th>\n",
       "      <td>1</td>\n",
       "      <td>[bbksda, jatim, mengklarifikasi, wisata, alam,...</td>\n",
       "      <td>[foto, tribunnewscom, debunk, berisi, klrifika...</td>\n",
       "    </tr>\n",
       "    <tr>\n",
       "      <th>4</th>\n",
       "      <td>1</td>\n",
       "      <td>[bmkg, mataram, menghimbau, warga, langsung, p...</td>\n",
       "      <td>[foto, tribunnewscom, jokowi, sedang, memantau...</td>\n",
       "    </tr>\n",
       "    <tr>\n",
       "      <th>...</th>\n",
       "      <td>...</td>\n",
       "      <td>...</td>\n",
       "      <td>...</td>\n",
       "    </tr>\n",
       "    <tr>\n",
       "      <th>1113</th>\n",
       "      <td>0</td>\n",
       "      <td>[vaksin, kanker, serviks, menyebabkan, menopau...</td>\n",
       "      <td>[hoax, vaksin, kanker, serviks, anakanak, sd, ...</td>\n",
       "    </tr>\n",
       "    <tr>\n",
       "      <th>1114</th>\n",
       "      <td>0</td>\n",
       "      <td>[video, cindera, mata, raja, salman, ibu, iria...</td>\n",
       "      <td>[sebuah, akun, twitter, nama, akun, gerilyapol...</td>\n",
       "    </tr>\n",
       "    <tr>\n",
       "      <th>1115</th>\n",
       "      <td>0</td>\n",
       "      <td>[video, simulasi, hacking, manipulasi, suara, ...</td>\n",
       "      <td>[sebuah, akun, facebook, memposting, video, di...</td>\n",
       "    </tr>\n",
       "    <tr>\n",
       "      <th>1116</th>\n",
       "      <td>0</td>\n",
       "      <td>[website, kpu, gampang, jebol, scriptnya, tela...</td>\n",
       "      <td>[sebuah, akun, facebook, memposting, status, m...</td>\n",
       "    </tr>\n",
       "    <tr>\n",
       "      <th>1117</th>\n",
       "      <td>0</td>\n",
       "      <td>[benci, fpi, lima, foto, gus, mus]</td>\n",
       "      <td>[muncul, postingan, hoax, instagram, twitter, ...</td>\n",
       "    </tr>\n",
       "  </tbody>\n",
       "</table>\n",
       "<p>1114 rows × 3 columns</p>\n",
       "</div>"
      ],
      "text/plain": [
       "      Label                                    Tokenizing_Head  \\\n",
       "0         1  [pertamina, pemerintah, kalrifikasi, isu, bbm,...   \n",
       "1         1  [polda, nusa, tenggara, barat, mengklarifkasi,...   \n",
       "2         1  [pt, ultrajaya, milk, industry, tbk, mengklari...   \n",
       "3         1  [bbksda, jatim, mengklarifikasi, wisata, alam,...   \n",
       "4         1  [bmkg, mataram, menghimbau, warga, langsung, p...   \n",
       "...     ...                                                ...   \n",
       "1113      0  [vaksin, kanker, serviks, menyebabkan, menopau...   \n",
       "1114      0  [video, cindera, mata, raja, salman, ibu, iria...   \n",
       "1115      0  [video, simulasi, hacking, manipulasi, suara, ...   \n",
       "1116      0  [website, kpu, gampang, jebol, scriptnya, tela...   \n",
       "1117      0                 [benci, fpi, lima, foto, gus, mus]   \n",
       "\n",
       "                                        Tokenizing_Body  \n",
       "0     [foto, kumparancom, debunk, berisi, iklarifika...  \n",
       "1     [foto, ilustrasi, perkosaan, debunk, berisi, k...  \n",
       "2     [debunk, berisi, klarifikasi, pt, ultrajaya, m...  \n",
       "3     [foto, tribunnewscom, debunk, berisi, klrifika...  \n",
       "4     [foto, tribunnewscom, jokowi, sedang, memantau...  \n",
       "...                                                 ...  \n",
       "1113  [hoax, vaksin, kanker, serviks, anakanak, sd, ...  \n",
       "1114  [sebuah, akun, twitter, nama, akun, gerilyapol...  \n",
       "1115  [sebuah, akun, facebook, memposting, video, di...  \n",
       "1116  [sebuah, akun, facebook, memposting, status, m...  \n",
       "1117  [muncul, postingan, hoax, instagram, twitter, ...  \n",
       "\n",
       "[1114 rows x 3 columns]"
      ]
     },
     "execution_count": 61,
     "metadata": {},
     "output_type": "execute_result"
    }
   ],
   "source": [
    "df.drop([\"Headline\"],axis=1, inplace=True)\n",
    "df.drop([\"Body\"],axis=1, inplace=True)\n",
    "df"
   ]
  },
  {
   "cell_type": "code",
   "execution_count": 62,
   "metadata": {},
   "outputs": [],
   "source": [
    "# import sklearn\n",
    "from sklearn.model_selection import train_test_split\n",
    "#split the data into train and test set\n",
    "train,test = train_test_split(df, test_size=0.30, random_state=0)\n",
    "#save the data\n",
    "train.to_csv('train.csv',index=False)\n",
    "test.to_csv('test.csv',index=False)\n",
    "sample.to_csv('valid.csv',index=False)"
   ]
  }
 ],
 "metadata": {
  "kernelspec": {
   "display_name": "Python 3",
   "language": "python",
   "name": "python3"
  },
  "language_info": {
   "codemirror_mode": {
    "name": "ipython",
    "version": 3
   },
   "file_extension": ".py",
   "mimetype": "text/x-python",
   "name": "python",
   "nbconvert_exporter": "python",
   "pygments_lexer": "ipython3",
   "version": "3.10.7"
  },
  "orig_nbformat": 4
 },
 "nbformat": 4,
 "nbformat_minor": 2
}
